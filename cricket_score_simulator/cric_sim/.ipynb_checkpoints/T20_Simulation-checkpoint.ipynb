{
 "cells": [
  {
   "cell_type": "code",
   "execution_count": 1,
   "id": "fad453de",
   "metadata": {},
   "outputs": [
    {
     "name": "stderr",
     "output_type": "stream",
     "text": [
      "2023-02-13 22:28:23.843778: I tensorflow/core/util/util.cc:169] oneDNN custom operations are on. You may see slightly different numerical results due to floating-point round-off errors from different computation orders. To turn them off, set the environment variable `TF_ENABLE_ONEDNN_OPTS=0`.\n",
      "2023-02-13 22:28:24.096753: W tensorflow/stream_executor/platform/default/dso_loader.cc:64] Could not load dynamic library 'libcudart.so.11.0'; dlerror: libcudart.so.11.0: cannot open shared object file: No such file or directory\n",
      "2023-02-13 22:28:24.096790: I tensorflow/stream_executor/cuda/cudart_stub.cc:29] Ignore above cudart dlerror if you do not have a GPU set up on your machine.\n",
      "2023-02-13 22:28:32.736044: W tensorflow/stream_executor/platform/default/dso_loader.cc:64] Could not load dynamic library 'libcuda.so.1'; dlerror: libcuda.so.1: cannot open shared object file: No such file or directory\n",
      "2023-02-13 22:28:32.736072: W tensorflow/stream_executor/cuda/cuda_driver.cc:269] failed call to cuInit: UNKNOWN ERROR (303)\n",
      "2023-02-13 22:28:32.736089: I tensorflow/stream_executor/cuda/cuda_diagnostics.cc:156] kernel driver does not appear to be running on this host (shivargha-Asus): /proc/driver/nvidia/version does not exist\n",
      "2023-02-13 22:28:32.736345: I tensorflow/core/platform/cpu_feature_guard.cc:193] This TensorFlow binary is optimized with oneAPI Deep Neural Network Library (oneDNN) to use the following CPU instructions in performance-critical operations:  AVX2 AVX512F AVX512_VNNI FMA\n",
      "To enable them in other operations, rebuild TensorFlow with the appropriate compiler flags.\n"
     ]
    }
   ],
   "source": [
    "import random\n",
    "from get_categorical_encodings import *\n",
    "#from model_inference import *\n",
    "from inference_nn import *"
   ]
  },
  {
   "cell_type": "code",
   "execution_count": 11,
   "id": "b76429a0",
   "metadata": {},
   "outputs": [
    {
     "name": "stdout",
     "output_type": "stream",
     "text": [
      "Toss won by India and India choose to bat\n",
      "Team Batting first India & Team Batting second Pakistan\n"
     ]
    }
   ],
   "source": [
    "#### selecting the two teams ###\n",
    "team1 = \"India\"\n",
    "team2 = \"Pakistan\"\n",
    "##################Random Toss for the match##############\n",
    "def get_toss_res(team1,team2):\n",
    "     ################ Random Coin TOSS ################\n",
    "    toss_won_by = random.choice([team1,team2])\n",
    "    if toss_won_by == team1:\n",
    "        toss_loser = team2\n",
    "    else:\n",
    "        toss_loser = team1\n",
    "    decision_toss_winner = random.choice([\"bat\",\"field\"])\n",
    "    toss_res = \"Toss won by {} and {} choose to {}\".format(toss_won_by,toss_won_by,decision_toss_winner)\n",
    "    return toss_res,decision_toss_winner,toss_won_by,toss_loser\n",
    "#############################################\n",
    "toss_res,decision_toss_winner,toss_won_by,toss_loser = get_toss_res(team1,team2)\n",
    "print(toss_res)\n",
    "\n",
    "\n",
    "toss_winner = toss_won_by\n",
    "if decision_toss_winner == \"bat\":\n",
    "    bat_first_team = toss_winner\n",
    "    bat_second_team = toss_loser\n",
    "    \n",
    "elif decision_toss_winner == \"field\":\n",
    "    bat_first_team = toss_loser\n",
    "    bat_second_team = toss_winner\n",
    "    \n",
    "print(\"Team Batting first {} & Team Batting second {}\".format(bat_first_team,bat_second_team))"
   ]
  },
  {
   "cell_type": "code",
   "execution_count": 12,
   "id": "3dec148f",
   "metadata": {},
   "outputs": [
    {
     "name": "stdout",
     "output_type": "stream",
     "text": [
      "Select Venues From : ['Port Moresby', 'Benoni', 'Sydney Cricket Ground', 'Sydney', 'Bready', 'Dunedin', 'Dubai', 'Sylhet International Cricket Stadium', 'Sylhet', 'Dominica', 'Chandigarh', 'Belgrade', 'Rajkot', 'Bulawayo', 'Windhoek', 'Dublin', 'Victoria', 'Karachi', 'Antigua', 'Dharamsala', 'Sharjah', 'St Kitts', 'Wellington', 'Kampala', 'Pallekele International Cricket Stadium', 'Bengaluru', 'East London', \"St George's\", 'Dharmasala', 'Brondby', 'Nagpur', 'Dubai International Cricket Stadium', 'Centurion', 'Sofia', 'Mirpur', 'Derry', 'Cuttack', 'Canberra', 'Melbourne Cricket Ground', 'Nairobi', 'Vantaa', 'Hyderabad', 'Belfast', 'Mumbai', 'Hong Kong', 'Harare Sports Club', 'St Lucia', 'North Sound', 'Utrecht', 'Bloemfontein', 'Manchester', 'Geelong', 'Kandy', 'Lauderhill', 'Birmingham', 'Mombasa Sports Club Ground', 'Cape Town', 'Marsa', 'Carrara Oval', 'Napier', 'Ahmedabad', 'Chattogram', 'Guwahati', 'Deventer', 'Delhi', 'Nottingham', 'Bridgetown', 'Adelaide', 'Fatullah', 'Kigali City', 'Almeria', 'Pune', 'Lucknow', 'Melbourne', 'Harare', 'Kingston', 'St Peter Port', 'Cardiff', 'Bangalore', 'Sylhet Stadium', 'Providence', 'Ilfov County', 'Johannesburg', 'Dehradun', 'Chennai', 'Auckland', 'Taunton', 'Southampton', 'Sharjah Cricket Stadium', 'Castel', 'Amstelveen', 'Lagos', 'Hambantota', 'Nelson', 'Paarl', 'Rawalpindi Cricket Stadium', 'Roseau', 'Rotterdam', 'Adelaide Oval', 'Ranchi', 'Entebbe', 'Prague', 'London', 'Perth', 'The Hague', 'Krefeld', 'Coolidge', 'Edinburgh', 'Singapore', 'Jaipur', 'Sano', 'Moara Vlasiei Cricket Ground', 'Bristol', 'Thiruvananthapuram', 'Kirtipur', 'Kanpur', 'Dehra Dun', 'Brisbane', 'Greater Noida', 'King City', 'Guyana', 'Kimberley', 'Khulna', 'Christchurch', 'Port Vila', 'Port Elizabeth', 'Murcia', 'Potchefstroom', 'Kolkata', 'Durban', 'Visakhapatnam', 'Jamaica', 'Gros Islet', 'Barbados', 'Bangkok', 'Doha', 'Mount Maunganui', 'Basseterre', 'Townsville', 'Albergaria', 'Episkopi', 'Hamilton', 'Abu Dhabi', 'Ghent', 'Bangi', 'Dhaka', 'Kuala Lumpur', 'Londonderry', 'Indore', 'Carrara', 'Leeds', 'Tarouba', 'St Vincent', 'Colombo', 'Hobart', 'Lahore', 'Waterloo', 'Trinidad', 'Chittagong', 'Walferdange', 'Kerava', 'Chester-le-Street', 'Al Amarat']\n"
     ]
    }
   ],
   "source": [
    "### selecting a venue ###\n",
    "venues_list = get_venue_options()\n",
    "print(\"Select Venues From :\",venues_list)"
   ]
  },
  {
   "cell_type": "code",
   "execution_count": 13,
   "id": "5cd72a98",
   "metadata": {},
   "outputs": [
    {
     "name": "stdout",
     "output_type": "stream",
     "text": [
      "Venue selected as Melbourne Cricket Ground\n"
     ]
    }
   ],
   "source": [
    "venue_selected = \"Melbourne Cricket Ground\"\n",
    "print(\"Venue selected as {}\".format(venue_selected))"
   ]
  },
  {
   "cell_type": "code",
   "execution_count": 15,
   "id": "cb03fba1",
   "metadata": {},
   "outputs": [
    {
     "name": "stdout",
     "output_type": "stream",
     "text": [
      "Select Players from Bat First Team : ['RR Pant', 'HV Patel', 'UT Yadav', 'VR Iyer', 'RD Gaikwad', 'S Kaul', 'R Ashwin', 'KM Jadhav', 'SV Samson', 'Ravi Bishnoi', 'R Dhawan', 'Joginder Sharma', 'NA Saini', 'R Vinay Kumar', 'S Tyagi', 'Mandeep Singh', 'Sandeep Sharma', 'Shivam Mavi', 'M Vijay', 'B Kumar', 'Z Khan', 'A Mishra', 'STR Binny', 'S Badrinath', 'Yuvraj Singh', 'S Sreesanth', 'MK Pandey', 'BB Sran', 'V Sehwag', 'L Balaji', 'S Dhawan', 'Mohammed Shami', 'PP Chawla', 'HH Pandya', 'P Kumar', 'AT Rayudu', 'SA Yadav', 'RG Sharma', 'MK Tiwary', 'A Nehra', 'RP Singh', 'AR Patel', 'Parvez Rasool', 'DS Kulkarni', 'S Sandeep Warrier', 'PP Shaw', 'R Dravid', 'PA Patel', 'DL Chahar', 'V Kohli', 'JJ Bumrah', 'Arshdeep Singh', 'C Sakariya', 'T Natarajan', 'Mohammed Siraj', 'M Kartik', 'NV Ojha', 'RA Tripathi', 'CV Varun', 'AB Dinda', 'IK Pathan', 'D Padikkal', 'SS Iyer', 'S Dube', 'Washington Sundar', 'SK Raina', 'RD Chahar', 'RA Jadeja', 'YK Pathan', 'KK Ahmed', 'DJ Hooda', 'G Gambhir', 'AB Agarkar', 'MM Sharma', 'SN Thakur', 'SR Tendulkar', 'Shubman Gill', 'MS Dhoni', 'Ishan Kishan', 'RV Uthappa', 'PP Ojha', 'Kuldeep Yadav', 'KV Sharma', 'D Mongia', 'KH Pandya', 'KL Rahul', 'P Awana', 'M Markande', 'JD Unadkat', 'MM Patel', 'S Aravind', 'R Sharma', 'KD Karthik', 'I Sharma', 'Umran Malik', 'P Negi', 'YS Chahal', 'N Rana', 'AM Rahane', 'V Shankar', 'Avesh Khan', 'Harbhajan Singh']\n"
     ]
    }
   ],
   "source": [
    "players_bat_first_team = select_players(bat_first_team)\n",
    "players_bat_second_team = select_players(bat_second_team)\n",
    "print(\"Select Players from Bat First Team :\",players_bat_first_team)"
   ]
  },
  {
   "cell_type": "code",
   "execution_count": 16,
   "id": "b6b9ab83",
   "metadata": {},
   "outputs": [],
   "source": [
    "bat_first_playing11 = [\"Shubman Gill\",\"RG Sharma\",\"V Kohli\",\"SA Yadav\",\"RR Pant\",\"HH Pandya\",\"RA Jadeja\",\\\n",
    "                       \"JJ Bumrah\",\"Kuldeep Yadav\",\"Mohammed Shami\",\"R Ashwin\"]"
   ]
  },
  {
   "cell_type": "code",
   "execution_count": 17,
   "id": "e2310aec",
   "metadata": {},
   "outputs": [
    {
     "name": "stdout",
     "output_type": "stream",
     "text": [
      "Select Players from Bat Second Team : ['Abdul Razzaq', 'Zulfiqar Babar', 'Sohail Khan', 'Shoaib Khan jnr', 'Imam-ul-Haq', 'Inzamam-ul-Haq', 'Yasir Arafat', 'Shahid Afridi', 'Bilawal Bhatti', 'Hammad Azam', 'Younis Khan', 'Haris Rauf', 'Mansoor Amjad', 'Mohammad Irfan', 'Zulqarnain Haider', 'Mohammad Rizwan', 'Nasir Jamshed', 'Raza Hasan', 'Sarfraz Ahmed', 'Mohammad Hasnain', 'Zahid Mahmood', 'Saeed Ajmal', 'Khurram Manzoor', 'Mohammad Wasim', 'Hasan Ali', 'Asad Shafiq', 'Asif Ali', 'Sharjeel Khan', 'Misbah-ul-Haq', 'Shaheen Shah Afridi', 'Umar Amin', 'Arshad Iqbal', 'Sohaib Maqsood', 'Waqas Maqsood', 'Fawad Alam', 'Ahmed Shehzad', 'Ahsan Ali', 'Mohammad Sami', 'Mohammad Amir', 'Asad Ali', 'Fakhar Zaman', 'Shakeel Ansar', 'Nauman Anwar', 'Sohail Tanvir', 'Shahnawaz Dhani', 'Mohammad Salman', 'Rafatullah Mohmand', 'Iftikhar Ahmed', 'Aamer Jamal', 'Imran Khan (1)', 'Haris Sohail', 'Mohammad Yousuf', 'Iftikhar Anjum', 'Khushdil Shah', 'Imran Farhat', 'Aizaz Cheema', 'Muhammad Musa', 'Junaid Khan', 'Usman Qadir', 'Azam Khan', 'Anwar Ali', 'Shoaib Malik', 'Mohammad Haris', 'Awais Zia', 'Sahibzada Farhan', 'Hussain Talat', 'Mohammad Nawaz (3)', 'Aamer Yamin', 'Shadab Khan', 'Tanvir Ahmed (1)', 'Usman Shinwari', 'Shoaib Akhtar', 'Babar Azam', 'Umar Gul', 'Imran Nazir', 'Khalid Latif', 'Mukhtar Ahmed', 'Imad Wasim', 'Haider Ali', 'Shahzaib Hasan', 'Saad Nasim', 'Kamran Akmal', 'Wahab Riaz', 'Salman Butt', 'Naved-ul-Hasan', 'Danish Aziz', 'Umar Akmal', 'Yasir Shah', 'Naseem Shah', 'Mohammad Asif', 'Abdullah Shafique', 'Shan Masood', 'Faheem Ashraf', 'Rumman Raees', 'Mohammad Hafeez', 'Abdur Rehman', 'Rameez Raja (2)']\n"
     ]
    }
   ],
   "source": [
    "print(\"Select Players from Bat Second Team :\",players_bat_second_team)"
   ]
  },
  {
   "cell_type": "code",
   "execution_count": 18,
   "id": "3fbca9d5",
   "metadata": {},
   "outputs": [],
   "source": [
    "bat_second_playing11 = [\"Mohammad Rizwan\",\"Babar Azam\",\"Shan Masood\",\"Iftikhar Ahmed\",\"Shadab Khan\",\\\n",
    "                       \"Haider Ali\",\"Mohammad Nawaz (3)\",\"Asif Ali\",\\\n",
    "                        \"Shaheen Shah Afridi\",\"Haris Rauf\",\"Naseem Shah\"]"
   ]
  },
  {
   "cell_type": "code",
   "execution_count": 19,
   "id": "a1c73202",
   "metadata": {},
   "outputs": [],
   "source": [
    "team_bat1,team_bat2 = bat_first_playing11.copy(),bat_second_playing11.copy()"
   ]
  },
  {
   "cell_type": "code",
   "execution_count": 20,
   "id": "7a2b264e",
   "metadata": {},
   "outputs": [
    {
     "name": "stdout",
     "output_type": "stream",
     "text": [
      "Following are the playing 11s:\n",
      "\n",
      "India batting first ['Shubman Gill', 'RG Sharma', 'V Kohli', 'SA Yadav', 'RR Pant', 'HH Pandya', 'RA Jadeja', 'JJ Bumrah', 'Kuldeep Yadav', 'Mohammed Shami', 'R Ashwin']\n",
      "\n",
      " Pakistan batting second ['Mohammad Rizwan', 'Babar Azam', 'Shan Masood', 'Iftikhar Ahmed', 'Shadab Khan', 'Haider Ali', 'Mohammad Nawaz (3)', 'Asif Ali', 'Shaheen Shah Afridi', 'Haris Rauf', 'Naseem Shah']\n"
     ]
    }
   ],
   "source": [
    "print(\"Following are the playing 11s:\\n\")\n",
    "print(\"{} batting first\".format(bat_first_team),team_bat1)\n",
    "print(\"\\n {} batting second\".format(bat_second_team),team_bat2)"
   ]
  },
  {
   "cell_type": "code",
   "execution_count": 28,
   "id": "5db04dfa",
   "metadata": {},
   "outputs": [],
   "source": [
    "### updating the details for striker,non-striker,bowler ###\n",
    "def create_record_in_batsman_db(batsman_name):\n",
    "    explosivity_rating,running_rating,powerplay_rating,\\\n",
    "    end_over_explosivity = get_batsman_stats(batsman_name)\n",
    "    \n",
    "    batsman_db[batsman_name] = {\"encoding\":get_batsman_encodings(batsman_name),\\\n",
    "                                \"batting_exp_encoding\":get_batting_experience(batsman_name),\n",
    "                                \"explosivity_rating\":explosivity_rating,\n",
    "                                \"running_rating\":running_rating,\n",
    "                                \"powerplay_rating\":powerplay_rating,\n",
    "                                \"end_over_explosivity\":end_over_explosivity,\n",
    "                                \n",
    "                                ###### to be updated after every ball ###\n",
    "                                \"score\":0,\"balls_faced\":0,\"strike_rate\":0,\n",
    "                                0:0,1:0,2:0,3:0,4:0,6:0,\n",
    "                                \"batsman_prop0\":0,\"batsman_prop1\":0,\"batsman_prop2\":0,\n",
    "                                \"batsman_prop3\":0,\"batsman_prop4\":0,\n",
    "                                \"batsman_prop6\":0\n",
    "                                #########################################\n",
    "                                \n",
    "                            }\n",
    "    \n",
    "    return 0\n",
    "    \n",
    "def create_record_in_bowler_db(bowler_name):\n",
    "    wicket_taking_rating,bowling_consistency_rating = get_bowler_stats(bowler_name)\n",
    "    bowler_db[bowler_name] = {\"encoding\":get_bowler_encodings(bowler_name),\n",
    "                              \"bowling_exp_encoding\":get_bowler_experience(bowler_name),\n",
    "                              \"wicket_taking_rating\":wicket_taking_rating,\n",
    "                              \"bowling_consistency_rating\": bowling_consistency_rating,\n",
    "                              \n",
    "                              ########## to be update after every ball #########\n",
    "                              \"runs_conceded_by_bowler\":0,\"balls_bowled_bowler\":0,\n",
    "                              \"wickets_by_bowler\":0,\"bowler_economy\":0,\n",
    "                              0:0,1:0,2:0,3:0,4:0,6:0,8:0,\n",
    "                              \"bowler_prop0\":0,\n",
    "                              \"bowler_prop1\":0,\"bowler_prop2\":0,\"bowler_prop3\":0,\n",
    "                              \"bowler_prop4\":0,\"bowler_prop6\":0,\n",
    "                              \"bowler_prop8\":0\n",
    "                              ##################################################\n",
    "                            \n",
    "                            }\n",
    "    \n",
    "    return 0"
   ]
  },
  {
   "cell_type": "code",
   "execution_count": 29,
   "id": "6fb1d246",
   "metadata": {},
   "outputs": [],
   "source": [
    "def update_record_batsmandb(batsman_name,outcome):\n",
    "    \n",
    "    if outcome == 8:\n",
    "        outcome = 0\n",
    "    \n",
    "    batsman_db[batsman_name][\"score\"] = batsman_db[batsman_name][\"score\"] + outcome\n",
    "    batsman_db[batsman_name][\"balls_faced\"] = batsman_db[batsman_name][\"balls_faced\"] + 1\n",
    "    batsman_db[batsman_name][\"strike_rate\"] = ((batsman_db[batsman_name][\"score\"])/(batsman_db[batsman_name][\"balls_faced\"]))*100\n",
    "    \n",
    "    batsman_db[batsman_name][outcome] = batsman_db[batsman_name][outcome] + 1\n",
    "    \n",
    "    if outcome == 0:\n",
    "        batsman_db[batsman_name][\"batsman_prop0\"] = (batsman_db[batsman_name][0])/(batsman_db[batsman_name][\"balls_faced\"])        \n",
    "    elif outcome == 1:\n",
    "        batsman_db[batsman_name][\"batsman_prop1\"] = (batsman_db[batsman_name][1])/(batsman_db[batsman_name][\"balls_faced\"])\n",
    "    elif outcome == 2:\n",
    "        batsman_db[batsman_name][\"batsman_prop2\"] = (batsman_db[batsman_name][2])/(batsman_db[batsman_name][\"balls_faced\"])   \n",
    "    elif outcome == 3:\n",
    "        batsman_db[batsman_name][\"batsman_prop3\"] = (batsman_db[batsman_name][3])/(batsman_db[batsman_name][\"balls_faced\"])\n",
    "    elif outcome == 4:\n",
    "        batsman_db[batsman_name][\"batsman_prop4\"] = (batsman_db[batsman_name][4])/(batsman_db[batsman_name][\"balls_faced\"])\n",
    "    #elif outcome == 5:\n",
    "        #batsman_db[batsman_name][\"batsman_prop5\"] = (batsman_db[batsman_name][5])/(batsman_db[batsman_name][\"balls_faced\"])\n",
    "    elif outcome == 6:\n",
    "        batsman_db[batsman_name][\"batsman_prop6\"] = (batsman_db[batsman_name][6])/(batsman_db[batsman_name][\"balls_faced\"])\n",
    "    #elif outcome == 7:\n",
    "        #batsman_db[batsman_name][\"batsman_prop7\"] = (batsman_db[batsman_name][7])/(batsman_db[batsman_name][\"balls_faced\"])\n",
    "        \n",
    "\n",
    "def calc_economy_rate(runs_given,balls_bowled):\n",
    "    \n",
    "    translate_ball_to_over = (balls_bowled/6)\n",
    "    economy = (runs_given)/(translate_ball_to_over)\n",
    "    economy = round(economy)\n",
    "    return economy\n",
    "\n",
    "def update_record_bowlerdb(bowler_name,outcome):\n",
    "    \n",
    "    \n",
    "    if outcome == 5:\n",
    "        outcome = 8\n",
    "        bowler_db[bowler_name][\"wickets_by_bowler\"] = bowler_db[bowler_name][\"wickets_by_bowler\"] + 1\n",
    "        bowler_db[bowler_name][\"runs_conceded_by_bowler\"] = bowler_db[bowler_name][\"runs_conceded_by_bowler\"] + 0\n",
    "    else:\n",
    "        bowler_db[bowler_name][\"runs_conceded_by_bowler\"] = bowler_db[bowler_name][\"runs_conceded_by_bowler\"] + outcome\n",
    "    bowler_db[bowler_name][\"balls_bowled_bowler\"] = bowler_db[bowler_name][\"balls_bowled_bowler\"] + 1\n",
    "    bowler_db[bowler_name][\"bowler_economy\"] = calc_economy_rate(bowler_db[bowler_name][\"runs_conceded_by_bowler\"],\\\n",
    "                                                                bowler_db[bowler_name][\"balls_bowled_bowler\"])\n",
    "    bowler_db[bowler_name][outcome] = bowler_db[bowler_name][outcome] + 1\n",
    "    \n",
    "    if outcome == 0:\n",
    "        bowler_db[bowler_name][\"bowler_prop0\"] = (bowler_db[bowler_name][0])/(bowler_db[bowler_name][\"balls_bowled_bowler\"])        \n",
    "    elif outcome == 1:\n",
    "        bowler_db[bowler_name][\"bowler_prop1\"] = (bowler_db[bowler_name][1])/(bowler_db[bowler_name][\"balls_bowled_bowler\"])\n",
    "    elif outcome == 2:\n",
    "        bowler_db[bowler_name][\"bowler_prop2\"] = (bowler_db[bowler_name][2])/(bowler_db[bowler_name][\"balls_bowled_bowler\"])   \n",
    "    elif outcome == 3:\n",
    "        bowler_db[bowler_name][\"bowler_prop3\"] = (bowler_db[bowler_name][3])/(bowler_db[bowler_name][\"balls_bowled_bowler\"])\n",
    "    elif outcome == 4:\n",
    "        bowler_db[bowler_name][\"bowler_prop4\"] = (bowler_db[bowler_name][4])/(bowler_db[bowler_name][\"balls_bowled_bowler\"])\n",
    "    #elif outcome == 5:\n",
    "        #bowler_db[bowler_name][\"bowler_prop5\"] = (bowler_db[bowler_name][5])/(bowler_db[bowler_name][\"balls_bowled_bowler\"])\n",
    "    elif outcome == 6:\n",
    "        bowler_db[bowler_name][\"bowler_prop6\"] = (bowler_db[bowler_name][6])/(bowler_db[bowler_name][\"balls_bowled_bowler\"])\n",
    "    #elif outcome == 7:\n",
    "        #bowler_db[bowler_name][\"bowler_prop7\"] = (bowler_db[bowler_name][7])/(bowler_db[bowler_name][\"balls_bowled_bowler\"])\n",
    "    elif outcome == 8:\n",
    "        bowler_db[bowler_name][\"bowler_prop8\"] = (bowler_db[bowler_name][8])/(bowler_db[bowler_name][\"balls_bowled_bowler\"])\n",
    "    "
   ]
  },
  {
   "cell_type": "code",
   "execution_count": 30,
   "id": "d84ea989",
   "metadata": {},
   "outputs": [],
   "source": [
    "innings_db1 = {}\n",
    "def calc_runrate(runs_scored,balls_bowled):\n",
    "    \n",
    "    if balls_bowled == 0:\n",
    "        balls_bowled = 1\n",
    "    translate_ball_to_over = (balls_bowled/6)\n",
    "    #print(runs_scored,translate_ball_to_over)\n",
    "    run_rate = (runs_scored)/(translate_ball_to_over)\n",
    "    \n",
    "    run_rate = round(run_rate)\n",
    "    return run_rate\n",
    "\n",
    "def calc_reqd_run_rate(runs_left,balls_left):\n",
    "    \n",
    "    if balls_left == 0:\n",
    "        balls_left = 1\n",
    "    translate_ball_to_over = (balls_left/6)\n",
    "    req_run_rate = (runs_left)/(translate_ball_to_over)\n",
    "    req_run_rate = round(req_run_rate)\n",
    "    return req_run_rate"
   ]
  },
  {
   "cell_type": "code",
   "execution_count": 31,
   "id": "9b155818",
   "metadata": {},
   "outputs": [],
   "source": [
    "import json\n",
    "with open(\"min_max.json\") as f:\n",
    "    json_dict = json.load(f)"
   ]
  },
  {
   "cell_type": "code",
   "execution_count": 32,
   "id": "bcd9a6ea",
   "metadata": {},
   "outputs": [
    {
     "data": {
      "text/plain": [
       "{'over': {'min_val': 0.1, 'max_val': 19.9},\n",
       " 'curr_score': {'min_val': 0, 'max_val': 278},\n",
       " 'curr_wickers': {'min_val': 0, 'max_val': 10},\n",
       " 'current_run_rate': {'min_val': 0, 'max_val': 60},\n",
       " 'req_run_rate': {'min_val': 0, 'max_val': 846},\n",
       " 'batsman_score': {'min_val': 0, 'max_val': 172},\n",
       " 'balls_faced_batsman': {'min_val': 1, 'max_val': 77},\n",
       " 'batsman_strike_rate': {'min_val': 0.0, 'max_val': 600.0},\n",
       " 'runs_conceded_by_bowler': {'min_val': 0, 'max_val': 74},\n",
       " 'balls_bowled_bowler': {'min_val': 1, 'max_val': 34},\n",
       " 'wickets_by_bower': {'min_val': 0, 'max_val': 7},\n",
       " 'bowler_economy': {'min_val': 0, 'max_val': 36},\n",
       " 'bowling_consistency_rating': {'min_val': 0.0, 'max_val': 177.0}}"
      ]
     },
     "execution_count": 32,
     "metadata": {},
     "output_type": "execute_result"
    }
   ],
   "source": [
    "json_dict"
   ]
  },
  {
   "cell_type": "code",
   "execution_count": 33,
   "id": "ad6b199e",
   "metadata": {},
   "outputs": [],
   "source": [
    "def normalise_feature(value,feature):\n",
    "    \n",
    "    \n",
    "    min_val = json_dict[feature][\"min_val\"]\n",
    "    max_val = json_dict[feature][\"max_val\"]\n",
    "    \n",
    "    if value > max_val:\n",
    "        max_val = value\n",
    "    if value < min_val:\n",
    "        min_val = value\n",
    "        \n",
    "    norm_value = (value - min_val)/(max_val - min_val)\n",
    "    return norm_value"
   ]
  },
  {
   "cell_type": "code",
   "execution_count": 34,
   "id": "78978bfd",
   "metadata": {
    "scrolled": false
   },
   "outputs": [
    {
     "name": "stdout",
     "output_type": "stream",
     "text": [
      "select batsman on strike from India: Shubman Gill\n",
      "select batsman non strike India:  RG Sharma\n",
      "select bowler from Pakistan: Haris Rauf\n"
     ]
    }
   ],
   "source": [
    "########### Selecting the first batsmen and bowler#############\n",
    "on_strike_bat = input(\"select batsman on strike from {}: \".format(bat_first_team))\n",
    "non_strike_bat = input(\"select batsman non strike {}:  \".format(bat_first_team))\n",
    "bowler = input(\"select bowler from {}: \".format(bat_second_team))"
   ]
  },
  {
   "cell_type": "code",
   "execution_count": 37,
   "id": "11b39aaa",
   "metadata": {
    "scrolled": true
   },
   "outputs": [
    {
     "name": "stdout",
     "output_type": "stream",
     "text": [
      "(1, 96)\n",
      "1/1 [==============================] - 0s 16ms/step\n",
      "Haris Rauf to Shubman Gill results in 1\n",
      "(1, 96)\n",
      "1/1 [==============================] - 0s 17ms/step\n",
      "Haris Rauf to RG Sharma results in 1\n",
      "(1, 96)\n",
      "1/1 [==============================] - 0s 22ms/step\n",
      "Haris Rauf to Shubman Gill results in 1\n",
      "(1, 96)\n",
      "1/1 [==============================] - 0s 19ms/step\n",
      "Haris Rauf to RG Sharma results in 1\n",
      "(1, 96)\n",
      "1/1 [==============================] - 0s 21ms/step\n",
      "Haris Rauf to Shubman Gill results in 1\n",
      "(1, 96)\n",
      "1/1 [==============================] - 0s 22ms/step\n",
      "Haris Rauf to RG Sharma results in 1\n",
      "Current Score Updates\n",
      "\n",
      "Current Score is 6 - 0 after 0.6 overs\n",
      "Current Batsman at crease:RG Sharma,Shubman Gill\n",
      "Haris Rauf bowling figure overs 1.0 runs given 6 wickets 0 economy 6\n",
      "\n",
      "\n",
      "select bowler from Pakistan: Shaheen Shah Afridi\n"
     ]
    },
    {
     "ename": "KeyError",
     "evalue": "'Shaheen Shah Afridi'",
     "output_type": "error",
     "traceback": [
      "\u001b[0;31m---------------------------------------------------------------------------\u001b[0m",
      "\u001b[0;31mKeyError\u001b[0m                                  Traceback (most recent call last)",
      "\u001b[0;32m/tmp/ipykernel_52281/2519974779.py\u001b[0m in \u001b[0;36m<module>\u001b[0;34m\u001b[0m\n\u001b[1;32m    123\u001b[0m \u001b[0;34m\u001b[0m\u001b[0m\n\u001b[1;32m    124\u001b[0m             \u001b[0mbowler\u001b[0m \u001b[0;34m=\u001b[0m \u001b[0minput\u001b[0m\u001b[0;34m(\u001b[0m\u001b[0;34m\"select bowler from {}: \"\u001b[0m\u001b[0;34m.\u001b[0m\u001b[0mformat\u001b[0m\u001b[0;34m(\u001b[0m\u001b[0mbat_second_team\u001b[0m\u001b[0;34m)\u001b[0m\u001b[0;34m)\u001b[0m\u001b[0;34m\u001b[0m\u001b[0;34m\u001b[0m\u001b[0m\n\u001b[0;32m--> 125\u001b[0;31m             \u001b[0;32mif\u001b[0m \u001b[0mbowler_db\u001b[0m\u001b[0;34m[\u001b[0m\u001b[0mbowler\u001b[0m\u001b[0;34m]\u001b[0m\u001b[0;34m[\u001b[0m\u001b[0;34m\"balls_bowled_bowler\"\u001b[0m\u001b[0;34m]\u001b[0m \u001b[0;34m==\u001b[0m \u001b[0;36m24\u001b[0m\u001b[0;34m:\u001b[0m\u001b[0;34m\u001b[0m\u001b[0;34m\u001b[0m\u001b[0m\n\u001b[0m\u001b[1;32m    126\u001b[0m                 \u001b[0mbowler\u001b[0m \u001b[0;34m=\u001b[0m \u001b[0minput\u001b[0m\u001b[0;34m(\u001b[0m\u001b[0;34m\"select another bowler from {}: \"\u001b[0m\u001b[0;34m.\u001b[0m\u001b[0mformat\u001b[0m\u001b[0;34m(\u001b[0m\u001b[0mbat_second_team\u001b[0m\u001b[0;34m)\u001b[0m\u001b[0;34m)\u001b[0m\u001b[0;34m\u001b[0m\u001b[0;34m\u001b[0m\u001b[0m\n\u001b[1;32m    127\u001b[0m \u001b[0;34m\u001b[0m\u001b[0m\n",
      "\u001b[0;31mKeyError\u001b[0m: 'Shaheen Shah Afridi'"
     ]
    }
   ],
   "source": [
    "############### Innings 1 #######################\n",
    "batsman_db = {} ##initiate the dbs###\n",
    "bowler_db = {} ##initiate the dbs###\n",
    "bowling_figures_db = {}\n",
    "#####################\n",
    "\n",
    "innings_number = 1\n",
    "venue_encodings = get_venue_encodings(venue_selected)\n",
    "curr_inn_type_encoding = get_innings_type_encoding(innings_number)\n",
    "curr_inn_team_encoding = get_current_innings_encodings(bat_first_team)\n",
    "bowling_team_encoding = get_bowling_innings_encodings(bat_second_team)\n",
    "super_encodings = get_super_over_encodings(\"No\")\n",
    "\n",
    "\n",
    "current_score,current_wickets,curr_balls = 0,0,0\n",
    "req_run_rate = 0\n",
    "current_run_rate = 0\n",
    "###### first striker and non striker\n",
    "striker = on_strike_bat\n",
    "non_striker = non_strike_bat\n",
    "################## #####\n",
    "counter = 0\n",
    "for over_num in range(0,20):  \n",
    "    for ball in range(1,7):\n",
    "        \n",
    "        \n",
    "        over = float(str(over_num)+\".\"+str(ball))   \n",
    "        non_striker_encoding = get_non_striker_encodings(non_striker)\n",
    "        \n",
    "        ###create records for batsman,bowler####\n",
    "        if striker not in list(batsman_db.keys()):\n",
    "            create_record_in_batsman_db(striker)\n",
    "       \n",
    "           \n",
    "            \n",
    "        if bowler not in list(bowler_db.keys()):\n",
    "            create_record_in_bowler_db(bowler)\n",
    "        \n",
    "        ############# creating input array for prediction ##################\n",
    "        data_encoded = np.concatenate((venue_encodings,curr_inn_team_encoding,\\\n",
    "                            bowling_team_encoding,curr_inn_type_encoding,batsman_db[striker][\"encoding\"],\n",
    "                            bowler_db[bowler][\"encoding\"],non_striker_encoding,super_encodings,\n",
    "                            batsman_db[striker][\"batting_exp_encoding\"],\\\n",
    "                            bowler_db[bowler][\"bowling_exp_encoding\"]),axis=0)\n",
    "        \n",
    "        data_encoded = np.append(data_encoded,[normalise_feature(over,\"over\"),\n",
    "                                               normalise_feature(current_score,\"curr_score\"),\n",
    "                                               normalise_feature(current_wickets,\"curr_wickers\"),\\\n",
    "                                               \n",
    "                        normalise_feature(current_run_rate,\"current_run_rate\"),\\\n",
    "                        normalise_feature(req_run_rate,\"req_run_rate\"),\\\n",
    "                        normalise_feature(batsman_db[striker][\"score\"],\"batsman_score\"),\\\n",
    "                        normalise_feature(batsman_db[striker][\"balls_faced\"],\"balls_faced_batsman\"),\\\n",
    "                        normalise_feature(batsman_db[striker][\"strike_rate\"],\"batsman_strike_rate\"),\\\n",
    "                                               \n",
    "                        normalise_feature(bowler_db[bowler][\"runs_conceded_by_bowler\"],\"runs_conceded_by_bowler\"),\n",
    "                        normalise_feature(bowler_db[bowler][\"balls_bowled_bowler\"],\"balls_bowled_bowler\"),\\\n",
    "                        normalise_feature(bowler_db[bowler][\"wickets_by_bowler\"],\"wickets_by_bower\"),\\\n",
    "                        normalise_feature(bowler_db[bowler][\"bowler_economy\"],\"bowling_consistency_rating\"),\n",
    "                                               \n",
    "                        batsman_db[striker][\"batsman_prop0\"],batsman_db[striker][\"batsman_prop1\"],\n",
    "                        batsman_db[striker][\"batsman_prop2\"],batsman_db[striker][\"batsman_prop3\"],\n",
    "                        batsman_db[striker][\"batsman_prop4\"],\n",
    "                        batsman_db[striker][\"batsman_prop6\"],\n",
    "                                               \n",
    "                        bowler_db[bowler][\"bowler_prop0\"],bowler_db[bowler][\"bowler_prop1\"],\n",
    "                        bowler_db[bowler][\"bowler_prop2\"],bowler_db[bowler][\"bowler_prop3\"],\\\n",
    "                        bowler_db[bowler][\"bowler_prop4\"],\n",
    "                        bowler_db[bowler][\"bowler_prop6\"],\n",
    "                        bowler_db[bowler][\"bowler_prop8\"],\n",
    "                                               \n",
    "                        batsman_db[striker][\"explosivity_rating\"],\\\n",
    "                        batsman_db[striker][\"running_rating\"],\n",
    "                        batsman_db[striker][\"powerplay_rating\"],\n",
    "                        batsman_db[striker][\"end_over_explosivity\"],\n",
    "                        bowler_db[bowler][\"wicket_taking_rating\"],\n",
    "                        normalise_feature(bowler_db[bowler][\"bowling_consistency_rating\"],'bowling_consistency_rating')])\n",
    "        \n",
    "        \n",
    "        print(data_encoded.reshape(1,-1).shape)\n",
    "#         if over == 0.1:\n",
    "#             prediction_outcome = random.choices((0,1,2,3,4,6,8),weights=[0.5,1,0.75,0.1,0.25,0.25,0.75])[0]\n",
    "#         else:\n",
    "        prediction_outcome = model_inference(data_encoded.reshape(1,96))\n",
    "        #print(prediction_outcome)\n",
    "        counter = counter + 1\n",
    "        if prediction_outcome == 8:\n",
    "            print(\"{} to {} results in {}\".format(striker,bowler,\"wicket\"))\n",
    "            current_wickets = current_wickets + 1\n",
    "        else:\n",
    "            print(\"{} to {} results in {}\".format(bowler,striker,prediction_outcome))\n",
    "            current_score = current_score + prediction_outcome\n",
    "        curr_balls = curr_balls + 1\n",
    "        current_run_rate = calc_runrate(current_score,curr_balls)\n",
    "        ################### update dbs ###############################\n",
    "        update_record_batsmandb(striker,prediction_outcome)\n",
    "        update_record_bowlerdb(bowler,prediction_outcome)\n",
    "        ########################################################\n",
    "        \n",
    "        #print(prediction)\n",
    "        if prediction_outcome in [1,3]:\n",
    "            striker,non_striker = non_striker,striker\n",
    "        elif prediction_outcome == 5:\n",
    "            striker = input(\"select batsman on strike from {}: \".format(bat_first_team))\n",
    "            \n",
    "        if ball==6:\n",
    "            striker,non_striker = non_striker,striker\n",
    "            \n",
    "            ################# Give Innings Updates####################################\n",
    "            print(\"Current Score Updates\\n\")\n",
    "            print(\"Current Score is {} - {} after {} overs\".format(current_score,current_wickets,over))\n",
    "            print(\"Current Batsman at crease:{},{}\".format(striker,non_striker))\n",
    "            \n",
    "            \n",
    "            \n",
    "            print(\"{} bowling figure overs {} runs given {} wickets {} economy {}\"\\\n",
    "                  .format(bowler,bowler_db[bowler][\"balls_bowled_bowler\"]/6,\\\n",
    "                          bowler_db[bowler][\"runs_conceded_by_bowler\"],\\\n",
    "                          bowler_db[bowler][\"wickets_by_bowler\"],\\\n",
    "                         bowler_db[bowler][\"bowler_economy\"]))\n",
    "            print(\"\\n\")\n",
    "            ####################################################\n",
    "            \n",
    "            bowler = input(\"select bowler from {}: \".format(bat_second_team))\n",
    "            if bowler in list(bowler_db.keys()):\n",
    "                if bowler_db[bowler][\"balls_bowled_bowler\"] == 24:\n",
    "                    bowler = input(\"select another bowler from {}: \".format(bat_second_team))\n",
    "            \n",
    "        \n",
    "        \n",
    "        \n",
    "        \n",
    "    #break"
   ]
  },
  {
   "cell_type": "code",
   "execution_count": 33,
   "id": "c645ba5b",
   "metadata": {},
   "outputs": [
    {
     "data": {
      "text/plain": [
       "['Mohammad Rizwan',\n",
       " 'Babar Azam',\n",
       " 'Shan Masood',\n",
       " 'Iftikhar Ahmed',\n",
       " 'Shadab Khan',\n",
       " 'Haider Ali',\n",
       " 'Mohammad Nawaz (3)',\n",
       " 'Asif Ali',\n",
       " 'Shaheen Shah Afridi',\n",
       " 'Haris Rauf',\n",
       " 'Naseem Shah']"
      ]
     },
     "execution_count": 33,
     "metadata": {},
     "output_type": "execute_result"
    }
   ],
   "source": [
    "bat_second_playing11"
   ]
  },
  {
   "cell_type": "code",
   "execution_count": 55,
   "id": "925deb90",
   "metadata": {},
   "outputs": [],
   "source": [
    "\n",
    "# Importing the libraries\n",
    "import pandas as pd\n",
    "import numpy as np\n",
    "  \n",
    "# data\n",
    "student = {\n",
    "    'Name': ['John', 'Jay', 'sachin', 'Geetha', 'Amutha', 'ganesh'],\n",
    "    'gender': ['male', 'male', 'male', 'female', 'female', 'male'],\n",
    "    'math score': [50, 100, 70, 80, 75, 40],\n",
    "    'test preparation': ['none', 'completed', 'none', 'completed', \n",
    "                         'completed', 'none'],\n",
    "}\n",
    "df = pd.DataFrame(student)"
   ]
  },
  {
   "cell_type": "code",
   "execution_count": 56,
   "id": "bdc12049",
   "metadata": {},
   "outputs": [
    {
     "data": {
      "text/html": [
       "<div>\n",
       "<style scoped>\n",
       "    .dataframe tbody tr th:only-of-type {\n",
       "        vertical-align: middle;\n",
       "    }\n",
       "\n",
       "    .dataframe tbody tr th {\n",
       "        vertical-align: top;\n",
       "    }\n",
       "\n",
       "    .dataframe thead th {\n",
       "        text-align: right;\n",
       "    }\n",
       "</style>\n",
       "<table border=\"1\" class=\"dataframe\">\n",
       "  <thead>\n",
       "    <tr style=\"text-align: right;\">\n",
       "      <th></th>\n",
       "      <th>Name</th>\n",
       "      <th>gender</th>\n",
       "      <th>math score</th>\n",
       "      <th>test preparation</th>\n",
       "      <th>outcome</th>\n",
       "    </tr>\n",
       "  </thead>\n",
       "  <tbody>\n",
       "    <tr>\n",
       "      <th>0</th>\n",
       "      <td>John</td>\n",
       "      <td>male</td>\n",
       "      <td>50</td>\n",
       "      <td>none</td>\n",
       "      <td>0</td>\n",
       "    </tr>\n",
       "    <tr>\n",
       "      <th>1</th>\n",
       "      <td>Jay</td>\n",
       "      <td>male</td>\n",
       "      <td>100</td>\n",
       "      <td>completed</td>\n",
       "      <td>3</td>\n",
       "    </tr>\n",
       "    <tr>\n",
       "      <th>2</th>\n",
       "      <td>sachin</td>\n",
       "      <td>male</td>\n",
       "      <td>70</td>\n",
       "      <td>none</td>\n",
       "      <td>8</td>\n",
       "    </tr>\n",
       "    <tr>\n",
       "      <th>3</th>\n",
       "      <td>Geetha</td>\n",
       "      <td>female</td>\n",
       "      <td>80</td>\n",
       "      <td>completed</td>\n",
       "      <td>1</td>\n",
       "    </tr>\n",
       "    <tr>\n",
       "      <th>4</th>\n",
       "      <td>Amutha</td>\n",
       "      <td>female</td>\n",
       "      <td>75</td>\n",
       "      <td>completed</td>\n",
       "      <td>2</td>\n",
       "    </tr>\n",
       "    <tr>\n",
       "      <th>5</th>\n",
       "      <td>ganesh</td>\n",
       "      <td>male</td>\n",
       "      <td>40</td>\n",
       "      <td>none</td>\n",
       "      <td>4</td>\n",
       "    </tr>\n",
       "  </tbody>\n",
       "</table>\n",
       "</div>"
      ],
      "text/plain": [
       "     Name  gender  math score test preparation  outcome\n",
       "0    John    male          50             none        0\n",
       "1     Jay    male         100        completed        3\n",
       "2  sachin    male          70             none        8\n",
       "3  Geetha  female          80        completed        1\n",
       "4  Amutha  female          75        completed        2\n",
       "5  ganesh    male          40             none        4"
      ]
     },
     "execution_count": 56,
     "metadata": {},
     "output_type": "execute_result"
    }
   ],
   "source": [
    "df[\"outcome\"] = [0,3,8,1,2,4]\n",
    "df"
   ]
  },
  {
   "cell_type": "code",
   "execution_count": 57,
   "id": "701e98e3",
   "metadata": {},
   "outputs": [
    {
     "data": {
      "text/html": [
       "<div>\n",
       "<style scoped>\n",
       "    .dataframe tbody tr th:only-of-type {\n",
       "        vertical-align: middle;\n",
       "    }\n",
       "\n",
       "    .dataframe tbody tr th {\n",
       "        vertical-align: top;\n",
       "    }\n",
       "\n",
       "    .dataframe thead th {\n",
       "        text-align: right;\n",
       "    }\n",
       "</style>\n",
       "<table border=\"1\" class=\"dataframe\">\n",
       "  <thead>\n",
       "    <tr style=\"text-align: right;\">\n",
       "      <th></th>\n",
       "      <th>Name</th>\n",
       "      <th>gender</th>\n",
       "      <th>math score</th>\n",
       "      <th>test preparation</th>\n",
       "      <th>outcome</th>\n",
       "    </tr>\n",
       "  </thead>\n",
       "  <tbody>\n",
       "    <tr>\n",
       "      <th>0</th>\n",
       "      <td>John</td>\n",
       "      <td>male</td>\n",
       "      <td>50</td>\n",
       "      <td>none</td>\n",
       "      <td>0</td>\n",
       "    </tr>\n",
       "    <tr>\n",
       "      <th>1</th>\n",
       "      <td>Jay</td>\n",
       "      <td>male</td>\n",
       "      <td>100</td>\n",
       "      <td>completed</td>\n",
       "      <td>3</td>\n",
       "    </tr>\n",
       "    <tr>\n",
       "      <th>2</th>\n",
       "      <td>sachin</td>\n",
       "      <td>male</td>\n",
       "      <td>70</td>\n",
       "      <td>none</td>\n",
       "      <td>5</td>\n",
       "    </tr>\n",
       "    <tr>\n",
       "      <th>3</th>\n",
       "      <td>Geetha</td>\n",
       "      <td>female</td>\n",
       "      <td>80</td>\n",
       "      <td>completed</td>\n",
       "      <td>1</td>\n",
       "    </tr>\n",
       "    <tr>\n",
       "      <th>4</th>\n",
       "      <td>Amutha</td>\n",
       "      <td>female</td>\n",
       "      <td>75</td>\n",
       "      <td>completed</td>\n",
       "      <td>2</td>\n",
       "    </tr>\n",
       "    <tr>\n",
       "      <th>5</th>\n",
       "      <td>ganesh</td>\n",
       "      <td>male</td>\n",
       "      <td>40</td>\n",
       "      <td>none</td>\n",
       "      <td>4</td>\n",
       "    </tr>\n",
       "  </tbody>\n",
       "</table>\n",
       "</div>"
      ],
      "text/plain": [
       "     Name  gender  math score test preparation  outcome\n",
       "0    John    male          50             none        0\n",
       "1     Jay    male         100        completed        3\n",
       "2  sachin    male          70             none        5\n",
       "3  Geetha  female          80        completed        1\n",
       "4  Amutha  female          75        completed        2\n",
       "5  ganesh    male          40             none        4"
      ]
     },
     "execution_count": 57,
     "metadata": {},
     "output_type": "execute_result"
    }
   ],
   "source": [
    "df.loc[df[\"outcome\"]==8,\"outcome\"] = 5\n",
    "df"
   ]
  },
  {
   "cell_type": "code",
   "execution_count": 54,
   "id": "e0f4cd48",
   "metadata": {},
   "outputs": [
    {
     "name": "stderr",
     "output_type": "stream",
     "text": [
      "2023-02-13 18:36:36.703278: I tensorflow/core/util/util.cc:169] oneDNN custom operations are on. You may see slightly different numerical results due to floating-point round-off errors from different computation orders. To turn them off, set the environment variable `TF_ENABLE_ONEDNN_OPTS=0`.\n",
      "2023-02-13 18:36:37.854814: W tensorflow/stream_executor/platform/default/dso_loader.cc:64] Could not load dynamic library 'libcudart.so.11.0'; dlerror: libcudart.so.11.0: cannot open shared object file: No such file or directory\n",
      "2023-02-13 18:36:37.854852: I tensorflow/stream_executor/cuda/cudart_stub.cc:29] Ignore above cudart dlerror if you do not have a GPU set up on your machine.\n"
     ]
    }
   ],
   "source": [
    "from keras.utils import to_categorical"
   ]
  },
  {
   "cell_type": "code",
   "execution_count": 58,
   "id": "6b04719d",
   "metadata": {},
   "outputs": [
    {
     "data": {
      "text/plain": [
       "array([[1., 0., 0., 0., 0., 0.],\n",
       "       [0., 0., 0., 1., 0., 0.],\n",
       "       [0., 0., 0., 0., 0., 1.],\n",
       "       [0., 1., 0., 0., 0., 0.],\n",
       "       [0., 0., 1., 0., 0., 0.],\n",
       "       [0., 0., 0., 0., 1., 0.]], dtype=float32)"
      ]
     },
     "execution_count": 58,
     "metadata": {},
     "output_type": "execute_result"
    }
   ],
   "source": [
    "to_categorical(df[\"outcome\"].values)"
   ]
  },
  {
   "cell_type": "code",
   "execution_count": null,
   "id": "b1636a5a",
   "metadata": {},
   "outputs": [],
   "source": []
  },
  {
   "cell_type": "code",
   "execution_count": null,
   "id": "8a07930a",
   "metadata": {},
   "outputs": [],
   "source": []
  }
 ],
 "metadata": {
  "kernelspec": {
   "display_name": "Python 3 (ipykernel)",
   "language": "python",
   "name": "python3"
  },
  "language_info": {
   "codemirror_mode": {
    "name": "ipython",
    "version": 3
   },
   "file_extension": ".py",
   "mimetype": "text/x-python",
   "name": "python",
   "nbconvert_exporter": "python",
   "pygments_lexer": "ipython3",
   "version": "3.7.13"
  }
 },
 "nbformat": 4,
 "nbformat_minor": 5
}
