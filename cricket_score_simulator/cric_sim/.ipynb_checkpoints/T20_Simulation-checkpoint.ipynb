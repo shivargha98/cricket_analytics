{
 "cells": [
  {
   "cell_type": "code",
   "execution_count": 1,
   "id": "fad453de",
   "metadata": {},
   "outputs": [],
   "source": [
    "import random\n",
    "from get_categorical_encodings import *\n",
    "from model_inference import *"
   ]
  },
  {
   "cell_type": "code",
   "execution_count": 8,
   "id": "b76429a0",
   "metadata": {},
   "outputs": [
    {
     "name": "stdout",
     "output_type": "stream",
     "text": [
      "Toss won by India and India choose to bat\n",
      "Team Batting first India & Team Batting second Pakistan\n"
     ]
    }
   ],
   "source": [
    "#### selecting the two teams ###\n",
    "team1 = \"India\"\n",
    "team2 = \"Pakistan\"\n",
    "##################Random Toss for the match##############\n",
    "def get_toss_res(team1,team2):\n",
    "     ################ Random Coin TOSS ################\n",
    "    toss_won_by = random.choice([team1,team2])\n",
    "    if toss_won_by == team1:\n",
    "        toss_loser = team2\n",
    "    else:\n",
    "        toss_loser = team1\n",
    "    decision_toss_winner = random.choice([\"bat\",\"field\"])\n",
    "    toss_res = \"Toss won by {} and {} choose to {}\".format(toss_won_by,toss_won_by,decision_toss_winner)\n",
    "    return toss_res,decision_toss_winner,toss_won_by,toss_loser\n",
    "#############################################\n",
    "toss_res,decision_toss_winner,toss_won_by,toss_loser = get_toss_res(team1,team2)\n",
    "print(toss_res)\n",
    "\n",
    "\n",
    "toss_winner = toss_won_by\n",
    "if decision_toss_winner == \"bat\":\n",
    "    bat_first_team = toss_winner\n",
    "    bat_second_team = toss_loser\n",
    "    \n",
    "elif decision_toss_winner == \"field\":\n",
    "    bat_first_team = toss_loser\n",
    "    bat_second_team = toss_winner\n",
    "    \n",
    "print(\"Team Batting first {} & Team Batting second {}\".format(bat_first_team,bat_second_team))"
   ]
  },
  {
   "cell_type": "code",
   "execution_count": 9,
   "id": "3dec148f",
   "metadata": {},
   "outputs": [
    {
     "name": "stdout",
     "output_type": "stream",
     "text": [
      "Select Venues From : ['Canberra', 'Bangalore', 'Bangi', 'Belgrade', 'Paarl', 'Sofia', 'Marsa', 'Rawalpindi Cricket Stadium', 'Waterloo', 'Colombo', 'Taunton', 'Sylhet', 'Guyana', 'Utrecht', 'Hamilton', 'Mombasa Sports Club Ground', 'Dharamsala', 'Sylhet International Cricket Stadium', 'Ranchi', 'Kirtipur', 'Sharjah Cricket Stadium', 'Entebbe', 'Benoni', 'Melbourne', 'Guwahati', 'The Hague', 'Dharmasala', 'Kuala Lumpur', 'Trinidad', 'Basseterre', 'Prague', 'Nelson', 'Carrara', 'Geelong', 'Hobart', 'Bulawayo', 'Lahore', 'Cape Town', 'Londonderry', 'Carrara Oval', 'Brondby', 'Port Moresby', 'Vantaa', 'Pune', 'Castel', 'Leeds', 'Wellington', 'Deventer', 'Port Elizabeth', 'Bloemfontein', 'Hambantota', 'Chester-le-Street', 'Centurion', 'Bridgetown', 'Kimberley', 'Perth', 'Nottingham', 'Ghent', 'Krefeld', 'Adelaide Oval', 'Tarouba', 'Townsville', 'Rotterdam', 'Episkopi', 'Kampala', 'Coolidge', 'Bengaluru', 'Singapore', 'St Vincent', 'Bristol', 'Derry', 'Rajkot', 'North Sound', 'St Peter Port', 'King City', 'Bready', 'Hyderabad', 'Windhoek', 'Manchester', 'Albergaria', 'Victoria', 'Lucknow', 'London', 'Sydney', 'Cardiff', 'Walferdange', 'Harare Sports Club', 'Amstelveen', 'Pallekele International Cricket Stadium', 'Adelaide', 'Delhi', 'Napier', 'Port Vila', 'Dublin', 'Doha', 'Dehradun', 'Antigua', 'Lauderhill', 'Nagpur', 'Dhaka', 'Fatullah', 'Harare', 'Al Amarat', 'Hong Kong', 'Dunedin', 'Belfast', 'Nairobi', 'Moara Vlasiei Cricket Ground', 'Kandy', 'Karachi', 'Edinburgh', 'Sylhet Stadium', \"St George's\", 'Indore', 'Bangkok', 'Providence', 'Cuttack', 'Mumbai', 'Dominica', 'Chittagong', 'Visakhapatnam', 'Kingston', 'Jaipur', 'Jamaica', 'Gros Islet', 'Sharjah', 'Durban', 'Auckland', 'Chandigarh', 'East London', 'Ahmedabad', 'Chennai', 'Potchefstroom', 'Khulna', 'Kigali City', 'Johannesburg', 'Dehra Dun', 'Mount Maunganui', 'Birmingham', 'Barbados', 'Dubai', 'Kanpur', 'Melbourne Cricket Ground', 'St Lucia', 'Southampton', 'Dubai International Cricket Stadium', 'Mirpur', 'Lagos', 'St Kitts', 'Chattogram', 'Sydney Cricket Ground', 'Brisbane', 'Ilfov County', 'Roseau', 'Christchurch', 'Thiruvananthapuram', 'Kerava', 'Murcia', 'Abu Dhabi', 'Greater Noida', 'Kolkata', 'Sano', 'Almeria']\n"
     ]
    }
   ],
   "source": [
    "### selecting a venue ###\n",
    "venues_list = get_venue_options()\n",
    "print(\"Select Venues From :\",venues_list)"
   ]
  },
  {
   "cell_type": "code",
   "execution_count": 10,
   "id": "5cd72a98",
   "metadata": {},
   "outputs": [
    {
     "name": "stdout",
     "output_type": "stream",
     "text": [
      "Venue selected as Melbourne Cricket Ground\n"
     ]
    }
   ],
   "source": [
    "venue_selected = \"Melbourne Cricket Ground\"\n",
    "print(\"Venue selected as {}\".format(venue_selected))"
   ]
  },
  {
   "cell_type": "code",
   "execution_count": 11,
   "id": "cb03fba1",
   "metadata": {},
   "outputs": [
    {
     "name": "stdout",
     "output_type": "stream",
     "text": [
      "Select Players from Bat First Team : ['AM Rahane', 'KD Karthik', 'SK Raina', 'Yuvraj Singh', 'R Dravid', 'Ravi Bishnoi', 'RD Chahar', 'Shubman Gill', 'A Mishra', 'D Padikkal', 'SV Samson', 'RR Pant', 'S Dube', 'KM Jadhav', 'S Kaul', 'KV Sharma', 'Umran Malik', 'KL Rahul', 'MM Patel', 'P Awana', 'MK Pandey', 'AT Rayudu', 'C Sakariya', 'PP Chawla', 'HH Pandya', 'RV Uthappa', 'SN Thakur', 'CV Varun', 'T Natarajan', 'S Tyagi', 'Washington Sundar', 'BB Sran', 'NV Ojha', 'M Kartik', 'R Dhawan', 'Joginder Sharma', 'Z Khan', 'R Vinay Kumar', 'PP Shaw', 'P Negi', 'SS Iyer', 'RA Jadeja', 'RD Gaikwad', 'VR Iyer', 'S Sandeep Warrier', 'HV Patel', 'MK Tiwary', 'V Kohli', 'PP Ojha', 'L Balaji', 'S Badrinath', 'G Gambhir', 'S Aravind', 'DJ Hooda', 'R Sharma', 'Sandeep Sharma', 'Arshdeep Singh', 'MM Sharma', 'JD Unadkat', 'D Mongia', 'B Kumar', 'SR Tendulkar', 'Parvez Rasool', 'RA Tripathi', 'IK Pathan', 'Mandeep Singh', 'V Shankar', 'M Markande', 'NA Saini', 'DL Chahar', 'Avesh Khan', 'R Ashwin', 'SA Yadav', 'S Sreesanth', 'UT Yadav', 'MS Dhoni', 'KK Ahmed', 'V Sehwag', 'Shivam Mavi', 'JJ Bumrah', 'Harbhajan Singh', 'KH Pandya', 'YK Pathan', 'PA Patel', 'AR Patel', 'DS Kulkarni', 'N Rana', 'S Dhawan', 'AB Agarkar', 'Ishan Kishan', 'AB Dinda', 'RG Sharma', 'YS Chahal', 'RP Singh', 'M Vijay', 'Mohammed Siraj', 'P Kumar', 'A Nehra', 'Kuldeep Yadav', 'Mohammed Shami', 'I Sharma', 'STR Binny']\n"
     ]
    }
   ],
   "source": [
    "players_bat_first_team = select_players(bat_first_team)\n",
    "players_bat_second_team = select_players(bat_second_team)\n",
    "print(\"Select Players from Bat First Team :\",players_bat_first_team)"
   ]
  },
  {
   "cell_type": "code",
   "execution_count": 12,
   "id": "b6b9ab83",
   "metadata": {},
   "outputs": [],
   "source": [
    "bat_first_playing11 = [\"Shubman Gill\",\"RG Sharma\",\"V Kohli\",\"SA Yadav\",\"RR Pant\",\"HH Pandya\",\"RA Jadeja\",\\\n",
    "                       \"JJ Bumrah\",\"Kuldeep Yadav\",\"Mohammed Shami\",\"R Ashwin\"]"
   ]
  },
  {
   "cell_type": "code",
   "execution_count": 13,
   "id": "e2310aec",
   "metadata": {},
   "outputs": [
    {
     "name": "stdout",
     "output_type": "stream",
     "text": [
      "Select Players from Bat Second Team : ['Mohammad Salman', 'Imran Farhat', 'Tanvir Ahmed (1)', 'Sahibzada Farhan', 'Asif Ali', 'Ahmed Shehzad', 'Mohammad Rizwan', 'Rameez Raja (2)', 'Azam Khan', 'Faheem Ashraf', 'Fakhar Zaman', 'Shoaib Malik', 'Mohammad Hasnain', 'Raza Hasan', 'Mohammad Wasim', 'Shoaib Khan jnr', 'Nasir Jamshed', 'Sarfraz Ahmed', 'Fawad Alam', 'Asad Shafiq', 'Awais Zia', 'Wahab Riaz', 'Imad Wasim', 'Rafatullah Mohmand', 'Mukhtar Ahmed', 'Umar Amin', 'Kamran Akmal', 'Haris Rauf', 'Mohammad Nawaz (3)', 'Naseem Shah', 'Aizaz Cheema', 'Misbah-ul-Haq', 'Aamer Jamal', 'Naved-ul-Hasan', 'Mohammad Sami', 'Asad Ali', 'Muhammad Musa', 'Usman Shinwari', 'Rumman Raees', 'Shahid Afridi', 'Sharjeel Khan', 'Junaid Khan', 'Bilawal Bhatti', 'Shaheen Shah Afridi', 'Abdur Rehman', 'Haider Ali', 'Mohammad Haris', 'Mohammad Irfan', 'Shahzaib Hasan', 'Inzamam-ul-Haq', 'Yasir Arafat', 'Mohammad Asif', 'Sohaib Maqsood', 'Zulqarnain Haider', 'Younis Khan', 'Aamer Yamin', 'Waqas Maqsood', 'Anwar Ali', 'Abdullah Shafique', 'Hammad Azam', 'Babar Azam', 'Salman Butt', 'Sohail Khan', 'Saad Nasim', 'Usman Qadir', 'Zulfiqar Babar', 'Mohammad Hafeez', 'Shakeel Ansar', 'Umar Gul', 'Haris Sohail', 'Mansoor Amjad', 'Hasan Ali', 'Khurram Manzoor', 'Yasir Shah', 'Shadab Khan', 'Zahid Mahmood', 'Khalid Latif', 'Shahnawaz Dhani', 'Shoaib Akhtar', 'Iftikhar Ahmed', 'Umar Akmal', 'Ahsan Ali', 'Saeed Ajmal', 'Mohammad Yousuf', 'Abdul Razzaq', 'Nauman Anwar', 'Iftikhar Anjum', 'Khushdil Shah', 'Sohail Tanvir', 'Imam-ul-Haq', 'Imran Nazir', 'Shan Masood', 'Danish Aziz', 'Mohammad Amir', 'Arshad Iqbal', 'Imran Khan (1)', 'Hussain Talat']\n"
     ]
    }
   ],
   "source": [
    "print(\"Select Players from Bat Second Team :\",players_bat_second_team)"
   ]
  },
  {
   "cell_type": "code",
   "execution_count": 14,
   "id": "3fbca9d5",
   "metadata": {},
   "outputs": [],
   "source": [
    "bat_second_playing11 = [\"Mohammad Rizwan\",\"Babar Azam\",\"Shan Masood\",\"Iftikhar Ahmed\",\"Shadab Khan\",\\\n",
    "                       \"Haider Ali\",\"Mohammad Nawaz (3)\",\"Asif Ali\",\\\n",
    "                        \"Shaheen Shah Afridi\",\"Haris Rauf\",\"Naseem Shah\"]"
   ]
  },
  {
   "cell_type": "code",
   "execution_count": 15,
   "id": "a1c73202",
   "metadata": {},
   "outputs": [],
   "source": [
    "team_bat1,team_bat2 = bat_first_playing11.copy(),bat_second_playing11.copy()"
   ]
  },
  {
   "cell_type": "code",
   "execution_count": 16,
   "id": "7a2b264e",
   "metadata": {},
   "outputs": [
    {
     "name": "stdout",
     "output_type": "stream",
     "text": [
      "Following are the playing 11s:\n",
      "\n",
      "India batting first ['Shubman Gill', 'RG Sharma', 'V Kohli', 'SA Yadav', 'RR Pant', 'HH Pandya', 'RA Jadeja', 'JJ Bumrah', 'Kuldeep Yadav', 'Mohammed Shami', 'R Ashwin']\n",
      "\n",
      " Pakistan batting second ['Mohammad Rizwan', 'Babar Azam', 'Shan Masood', 'Iftikhar Ahmed', 'Shadab Khan', 'Haider Ali', 'Mohammad Nawaz (3)', 'Asif Ali', 'Shaheen Shah Afridi', 'Haris Rauf', 'Naseem Shah']\n"
     ]
    }
   ],
   "source": [
    "print(\"Following are the playing 11s:\\n\")\n",
    "print(\"{} batting first\".format(bat_first_team),team_bat1)\n",
    "print(\"\\n {} batting second\".format(bat_second_team),team_bat2)"
   ]
  },
  {
   "cell_type": "code",
   "execution_count": 17,
   "id": "5db04dfa",
   "metadata": {},
   "outputs": [],
   "source": [
    "batsman_db = {}\n",
    "bowler_db = {}\n",
    "### updating the details for striker,non-striker,bowler ###\n",
    "def create_record_in_batsman_db(batsman_name):\n",
    "    explosivity_rating,running_rating,powerplay_rating,\\\n",
    "    end_over_explosivity = get_batsman_stats(batsman_name)\n",
    "    \n",
    "    batsman_db[batsman_name] = {\"encoding\":get_batsman_encodings(batsman_name),\\\n",
    "                                \"batting_exp_encoding\":get_batting_experience(batsman_name),\n",
    "                                \"explosivity_rating\":explosivity_rating,\n",
    "                                \"running_rating\":running_rating,\n",
    "                                \"powerplay_rating\":powerplay_rating,\n",
    "                                \"end_over_explosivity\":end_over_explosivity,\n",
    "                                \n",
    "                                ###### to be updated after every ball ###\n",
    "                                \"score\":0,\"balls_faced\":0,\"strike_rate\":0,\n",
    "                                0:0,1:0,2:0,3:0,4:0,6:0,\n",
    "                                \"batsman_prop0\":0,\"batsman_prop1\":0,\"batsman_prop2\":0,\n",
    "                                \"batsman_prop3\":0,\"batsman_prop4\":0,\n",
    "                                \"batsman_prop6\":0\n",
    "                                #########################################\n",
    "                                \n",
    "                            }\n",
    "    \n",
    "    return 0\n",
    "    \n",
    "def create_record_in_bowler_db(bowler_name):\n",
    "    wicket_taking_rating,bowling_consistency_rating = get_bowler_stats(bowler_name)\n",
    "    bowler_db[bowler_name] = {\"encoding\":get_bowler_encodings(bowler_name),\n",
    "                              \"bowling_exp_encoding\":get_bowler_experience(bowler_name),\n",
    "                              \"wicket_taking_rating\":wicket_taking_rating,\n",
    "                              \"bowling_consistency_rating\": bowling_consistency_rating,\n",
    "                              \n",
    "                              ########## to be update after every ball #########\n",
    "                              \"runs_conceded_by_bowler\":0,\"balls_bowled_bowler\":0,\n",
    "                              \"wickets_by_bowler\":0,\"bowler_economy\":0,\n",
    "                              0:0,1:0,2:0,3:0,4:0,5:0,6:0,7:0,8:0,\n",
    "                              \"bowler_prop0\":0,\n",
    "                              \"bowler_prop1\":0,\"bowler_prop2\":0,\"bowler_prop3\":0,\n",
    "                              \"bowler_prop4\":0, \"bowler_prop5\":0,\"bowler_prop6\":0,\n",
    "                              \"bowler_prop7\":0,\"bowler_prop8\":0\n",
    "                              ##################################################\n",
    "                            \n",
    "                            }\n",
    "    \n",
    "    return 0"
   ]
  },
  {
   "cell_type": "code",
   "execution_count": null,
   "id": "6fb1d246",
   "metadata": {},
   "outputs": [],
   "source": [
    "def update_record_batsmandb(batsman_name,outcome):\n",
    "    \n",
    "    if outcome == 8:\n",
    "        outcome = 0\n",
    "    \n",
    "    batsman_db[batsman_name][\"score\"] = batsman_db[batsman_name][\"score\"] + outcome\n",
    "    batsman_db[batsman_name][\"balls_faced\"] = batsman_db[batsman_name][\"balls_faced\"] + 1\n",
    "    batsman_db[batsman_name][\"strike_rate\"] = ((batsman_db[batsman_name][\"score\"])/(batsman_db[batsman_name][\"balls_faced\"]))*100\n",
    "    \n",
    "    batsman_db[batsman_name][outcome] = batsman_db[batsman_name][outcome] + 1\n",
    "    \n",
    "    if outcome == 0:\n",
    "        batsman_db[batsman_name][\"batsman_prop0\"] = (batsman_db[batsman_name][0])/(batsman_db[batsman_name][\"balls_faced\"])        \n",
    "    elif outcome == 1:\n",
    "        batsman_db[batsman_name][\"batsman_prop1\"] = (batsman_db[batsman_name][1])/(batsman_db[batsman_name][\"balls_faced\"])\n",
    "    elif outcome == 2:\n",
    "        batsman_db[batsman_name][\"batsman_prop2\"] = (batsman_db[batsman_name][2])/(batsman_db[batsman_name][\"balls_faced\"])   \n",
    "    elif outcome == 3:\n",
    "        batsman_db[batsman_name][\"batsman_prop3\"] = (batsman_db[batsman_name][3])/(batsman_db[batsman_name][\"balls_faced\"])\n",
    "    elif outcome == 4:\n",
    "        batsman_db[batsman_name][\"batsman_prop4\"] = (batsman_db[batsman_name][4])/(batsman_db[batsman_name][\"balls_faced\"])\n",
    "    elif outcome == 5:\n",
    "        batsman_db[batsman_name][\"batsman_prop5\"] = (batsman_db[batsman_name][5])/(batsman_db[batsman_name][\"balls_faced\"])\n",
    "    elif outcome == 6:\n",
    "        batsman_db[batsman_name][\"batsman_prop6\"] = (batsman_db[batsman_name][6])/(batsman_db[batsman_name][\"balls_faced\"])\n",
    "    elif outcome == 7:\n",
    "        batsman_db[batsman_name][\"batsman_prop7\"] = (batsman_db[batsman_name][7])/(batsman_db[batsman_name][\"balls_faced\"])\n",
    "        \n",
    "\n",
    "def calc_economy_rate(runs_given,balls_bowled):\n",
    "    \n",
    "    translate_ball_to_over = (balls_bowled/6)\n",
    "    economy = (runs_given)/(translate_ball_to_over)\n",
    "    economy = round(economy)\n",
    "    return economy\n",
    "\n",
    "def update_record_bowlerdb(bowler_name,outcome):\n",
    "    \n",
    "    if outcome == 8:\n",
    "        bowler_db[bowler_name][\"wickets_by_bowler\"] = bowler_db[batsman_name][\"wickets_by_bowler\"] + 1\n",
    "        \n",
    "    bowler_db[bowler_name][\"runs_conceded_by_bowler\"] = bowler_db[bowler_name][\"runs_conceded_by_bowler\"] + outcome\n",
    "    bowler_db[bowler_name][\"balls_bowled_bowler\"] = bowler_db[bowler_name][\"balls_bowled_bowler\"] + 1\n",
    "    bowler_db[bowler_name][\"bowler_economy\"] = calc_economy_rate(bowler_db[bowler_name][\"runs_conceded_by_bowler\"],\\\n",
    "                                                                bowler_db[bowler_name][\"balls_bowled_bowler\"])\n",
    "    bowler_db[bowler_name][outcome] = bowler_db[bowler_name][outcome] + 1\n",
    "    \n",
    "    if outcome == 0:\n",
    "        bowler_db[bowler_name][\"bowler_prop0\"] = (bowler_db[bowler_name][0])/(bowler_db[bowler_name][\"balls_bowled_bowler\"])        \n",
    "    elif outcome == 1:\n",
    "        bowler_db[bowler_name][\"bowler_prop1\"] = (bowler_db[bowler_name][1])/(bowler_db[bowler_name][\"balls_bowled_bowler\"])\n",
    "    elif outcome == 2:\n",
    "        bowler_db[bowler_name][\"bowler_prop2\"] = (bowler_db[bowler_name][2])/(bowler_db[bowler_name][\"balls_bowled_bowler\"])   \n",
    "    elif outcome == 3:\n",
    "        bowler_db[bowler_name][\"bowler_prop3\"] = (bowler_db[bowler_name][3])/(bowler_db[bowler_name][\"balls_bowled_bowler\"])\n",
    "    elif outcome == 4:\n",
    "        bowler_db[bowler_name][\"bowler_prop4\"] = (bowler_db[bowler_name][4])/(bowler_db[bowler_name][\"balls_bowled_bowler\"])\n",
    "    elif outcome == 5:\n",
    "        bowler_db[bowler_name][\"bowler_prop5\"] = (bowler_db[bowler_name][5])/(bowler_db[bowler_name][\"balls_bowled_bowler\"])\n",
    "    elif outcome == 6:\n",
    "        bowler_db[bowler_name][\"bowler_prop6\"] = (bowler_db[bowler_name][6])/(bowler_db[bowler_name][\"balls_bowled_bowler\"])\n",
    "    elif outcome == 7:\n",
    "        bowler_db[bowler_name][\"bowler_prop7\"] = (bowler_db[bowler_name][7])/(bowler_db[bowler_name][\"balls_bowled_bowler\"])\n",
    "    elif outcome == 8:\n",
    "        bowler_db[bowler_name][\"bowler_prop8\"] = (bowler_db[bowler_name][8])/(bowler_db[bowler_name][\"balls_bowled_bowler\"])\n",
    "    "
   ]
  },
  {
   "cell_type": "code",
   "execution_count": null,
   "id": "d84ea989",
   "metadata": {},
   "outputs": [],
   "source": [
    "innings_db1 = {}\n",
    "def calc_runrate(runs_scored,balls_bowled):\n",
    "    \n",
    "    if balls_bowled == 0:\n",
    "        balls_bowled = 1\n",
    "    translate_ball_to_over = (balls_bowled/6)\n",
    "    #print(runs_scored,translate_ball_to_over)\n",
    "    run_rate = (runs_scored)/(translate_ball_to_over)\n",
    "    \n",
    "    run_rate = round(run_rate)\n",
    "    return run_rate\n",
    "\n",
    "def calc_reqd_run_rate(runs_left,balls_left):\n",
    "    \n",
    "    if balls_left == 0:\n",
    "        balls_left = 1\n",
    "    translate_ball_to_over = (balls_left/6)\n",
    "    req_run_rate = (runs_left)/(translate_ball_to_over)\n",
    "    req_run_rate = round(req_run_rate)\n",
    "    return req_run_rate"
   ]
  },
  {
   "cell_type": "code",
   "execution_count": null,
   "id": "78978bfd",
   "metadata": {
    "scrolled": true
   },
   "outputs": [],
   "source": [
    "########### Selecting the first batsmen and bowler#############\n",
    "on_strike_bat = input(\"select batsman on strike from {}: \".format(bat_first_team))\n",
    "non_strike_bat = input(\"select batsman non strike {}:  \".format(bat_first_team))\n",
    "bowler = input(\"select bowler from {}: \".format(bat_second_team))"
   ]
  },
  {
   "cell_type": "code",
   "execution_count": 16,
   "id": "11b39aaa",
   "metadata": {
    "scrolled": true
   },
   "outputs": [
    {
     "name": "stdout",
     "output_type": "stream",
     "text": [
      "(1, 100)\n",
      "Babar Azam to JJ Bumrah results in 0\n",
      "(1, 100)\n",
      "Babar Azam to JJ Bumrah results in 0\n",
      "(1, 100)\n",
      "Babar Azam to JJ Bumrah results in 0\n",
      "(1, 100)\n",
      "Babar Azam to JJ Bumrah results in 0\n",
      "(1, 100)\n",
      "Babar Azam to JJ Bumrah results in 0\n",
      "(1, 100)\n",
      "Babar Azam to JJ Bumrah results in 0\n"
     ]
    },
    {
     "ename": "KeyboardInterrupt",
     "evalue": "Interrupted by user",
     "output_type": "error",
     "traceback": [
      "\u001b[0;31m---------------------------------------------------------------------------\u001b[0m",
      "\u001b[0;31mKeyboardInterrupt\u001b[0m                         Traceback (most recent call last)",
      "\u001b[0;32m/tmp/ipykernel_17047/2129331854.py\u001b[0m in \u001b[0;36m<module>\u001b[0;34m\u001b[0m\n\u001b[1;32m     90\u001b[0m         \u001b[0;32mif\u001b[0m \u001b[0mball\u001b[0m\u001b[0;34m==\u001b[0m\u001b[0;36m6\u001b[0m\u001b[0;34m:\u001b[0m\u001b[0;34m\u001b[0m\u001b[0;34m\u001b[0m\u001b[0m\n\u001b[1;32m     91\u001b[0m             \u001b[0mstriker\u001b[0m\u001b[0;34m,\u001b[0m\u001b[0mnon_striker\u001b[0m \u001b[0;34m=\u001b[0m \u001b[0mnon_striker\u001b[0m\u001b[0;34m,\u001b[0m\u001b[0mstriker\u001b[0m\u001b[0;34m\u001b[0m\u001b[0;34m\u001b[0m\u001b[0m\n\u001b[0;32m---> 92\u001b[0;31m             \u001b[0mbowler\u001b[0m \u001b[0;34m=\u001b[0m \u001b[0minput\u001b[0m\u001b[0;34m(\u001b[0m\u001b[0;34m\"select bowler from {}: \"\u001b[0m\u001b[0;34m.\u001b[0m\u001b[0mformat\u001b[0m\u001b[0;34m(\u001b[0m\u001b[0mbat_second_team\u001b[0m\u001b[0;34m)\u001b[0m\u001b[0;34m)\u001b[0m\u001b[0;34m\u001b[0m\u001b[0;34m\u001b[0m\u001b[0m\n\u001b[0m\u001b[1;32m     93\u001b[0m \u001b[0;34m\u001b[0m\u001b[0m\n\u001b[1;32m     94\u001b[0m \u001b[0;34m\u001b[0m\u001b[0m\n",
      "\u001b[0;32m~/anaconda3/envs/env_py37/lib/python3.7/site-packages/ipykernel/kernelbase.py\u001b[0m in \u001b[0;36mraw_input\u001b[0;34m(self, prompt)\u001b[0m\n\u001b[1;32m   1179\u001b[0m             \u001b[0mself\u001b[0m\u001b[0;34m.\u001b[0m\u001b[0m_parent_ident\u001b[0m\u001b[0;34m[\u001b[0m\u001b[0;34m\"shell\"\u001b[0m\u001b[0;34m]\u001b[0m\u001b[0;34m,\u001b[0m\u001b[0;34m\u001b[0m\u001b[0;34m\u001b[0m\u001b[0m\n\u001b[1;32m   1180\u001b[0m             \u001b[0mself\u001b[0m\u001b[0;34m.\u001b[0m\u001b[0mget_parent\u001b[0m\u001b[0;34m(\u001b[0m\u001b[0;34m\"shell\"\u001b[0m\u001b[0;34m)\u001b[0m\u001b[0;34m,\u001b[0m\u001b[0;34m\u001b[0m\u001b[0;34m\u001b[0m\u001b[0m\n\u001b[0;32m-> 1181\u001b[0;31m             \u001b[0mpassword\u001b[0m\u001b[0;34m=\u001b[0m\u001b[0;32mFalse\u001b[0m\u001b[0;34m,\u001b[0m\u001b[0;34m\u001b[0m\u001b[0;34m\u001b[0m\u001b[0m\n\u001b[0m\u001b[1;32m   1182\u001b[0m         )\n\u001b[1;32m   1183\u001b[0m \u001b[0;34m\u001b[0m\u001b[0m\n",
      "\u001b[0;32m~/anaconda3/envs/env_py37/lib/python3.7/site-packages/ipykernel/kernelbase.py\u001b[0m in \u001b[0;36m_input_request\u001b[0;34m(self, prompt, ident, parent, password)\u001b[0m\n\u001b[1;32m   1217\u001b[0m             \u001b[0;32mexcept\u001b[0m \u001b[0mKeyboardInterrupt\u001b[0m\u001b[0;34m:\u001b[0m\u001b[0;34m\u001b[0m\u001b[0;34m\u001b[0m\u001b[0m\n\u001b[1;32m   1218\u001b[0m                 \u001b[0;31m# re-raise KeyboardInterrupt, to truncate traceback\u001b[0m\u001b[0;34m\u001b[0m\u001b[0;34m\u001b[0m\u001b[0;34m\u001b[0m\u001b[0m\n\u001b[0;32m-> 1219\u001b[0;31m                 \u001b[0;32mraise\u001b[0m \u001b[0mKeyboardInterrupt\u001b[0m\u001b[0;34m(\u001b[0m\u001b[0;34m\"Interrupted by user\"\u001b[0m\u001b[0;34m)\u001b[0m \u001b[0;32mfrom\u001b[0m \u001b[0;32mNone\u001b[0m\u001b[0;34m\u001b[0m\u001b[0;34m\u001b[0m\u001b[0m\n\u001b[0m\u001b[1;32m   1220\u001b[0m             \u001b[0;32mexcept\u001b[0m \u001b[0mException\u001b[0m\u001b[0;34m:\u001b[0m\u001b[0;34m\u001b[0m\u001b[0;34m\u001b[0m\u001b[0m\n\u001b[1;32m   1221\u001b[0m                 \u001b[0mself\u001b[0m\u001b[0;34m.\u001b[0m\u001b[0mlog\u001b[0m\u001b[0;34m.\u001b[0m\u001b[0mwarning\u001b[0m\u001b[0;34m(\u001b[0m\u001b[0;34m\"Invalid Message:\"\u001b[0m\u001b[0;34m,\u001b[0m \u001b[0mexc_info\u001b[0m\u001b[0;34m=\u001b[0m\u001b[0;32mTrue\u001b[0m\u001b[0;34m)\u001b[0m\u001b[0;34m\u001b[0m\u001b[0;34m\u001b[0m\u001b[0m\n",
      "\u001b[0;31mKeyboardInterrupt\u001b[0m: Interrupted by user"
     ]
    }
   ],
   "source": [
    "############### Innings 1 #######################\n",
    "innings_number = 1\n",
    "venue_encodings = get_venue_encodings(venue_selected)\n",
    "curr_inn_type_encoding = get_innings_type_encoding(innings_number)\n",
    "curr_inn_team_encoding = get_current_innings_encodings(bat_first_team)\n",
    "bowling_team_encoding = get_bowling_innings_encodings(bat_second_team)\n",
    "super_encodings = get_super_over_encodings(\"No\")\n",
    "\n",
    "\n",
    "current_score,current_wickets,curr_balls = 0,0,0\n",
    "req_run_rate = 0\n",
    "current_run_rate = 0\n",
    "###### first striker and non striker\n",
    "striker = on_strike_bat\n",
    "non_striker = non_strike_bat\n",
    "################## #####\n",
    "counter = 0\n",
    "for over_num in range(0,20):  \n",
    "    for ball in range(1,7):\n",
    "        \n",
    "        \n",
    "        over = float(str(over_num)+\".\"+str(ball))   \n",
    "        non_striker_encoding = get_non_striker_encodings(non_striker)\n",
    "        \n",
    "        ###create records for batsman,bowler####\n",
    "        if striker not in list(batsman_db.keys()):\n",
    "            create_record_in_batsman_db(striker)\n",
    "       \n",
    "           \n",
    "            \n",
    "        if bowler not in list(bowler_db.keys()):\n",
    "            create_record_in_bowler_db(bowler)\n",
    "        \n",
    "        ############# creating input array for prediction ##################\n",
    "        data_encoded = np.concatenate((venue_encodings,curr_inn_team_encoding,\\\n",
    "                            bowling_team_encoding,curr_inn_type_encoding,batsman_db[striker][\"encoding\"],\n",
    "                            bowler_db[bowler][\"encoding\"],non_striker_encoding,super_encodings,\n",
    "                            batsman_db[striker][\"batting_exp_encoding\"],\\\n",
    "                            bowler_db[bowler][\"bowling_exp_encoding\"]),axis=0)\n",
    "        \n",
    "        data_encoded = np.append(data_encoded,[over,current_score,current_wickets,\\\n",
    "                        current_run_rate,req_run_rate,batsman_db[striker][\"score\"],\\\n",
    "                         batsman_db[striker][\"balls_faced\"],batsman_db[striker][\"strike_rate\"],\\\n",
    "                                               \n",
    "                         bowler_db[bowler][\"runs_conceded_by_bowler\"],\n",
    "                        bowler_db[bowler][\"balls_bowled_bowler\"],bowler_db[bowler][\"wickets_by_bowler\"],\\\n",
    "                        bowler_db[bowler][\"bowler_economy\"],\n",
    "                                               \n",
    "                        batsman_db[striker][\"batsman_prop0\"],batsman_db[striker][\"batsman_prop1\"],\n",
    "                        batsman_db[striker][\"batsman_prop2\"],batsman_db[striker][\"batsman_prop3\"],\n",
    "                        batsman_db[striker][\"batsman_prop4\"],batsman_db[striker][\"batsman_prop5\"],\n",
    "                        batsman_db[striker][\"batsman_prop6\"],batsman_db[striker][\"batsman_prop7\"],\n",
    "                                               \n",
    "                        bowler_db[bowler][\"bowler_prop0\"],bowler_db[bowler][\"bowler_prop1\"],\n",
    "                        bowler_db[bowler][\"bowler_prop2\"],bowler_db[bowler][\"bowler_prop3\"],\\\n",
    "                        bowler_db[bowler][\"bowler_prop4\"],bowler_db[bowler][\"bowler_prop5\"],\n",
    "                        bowler_db[bowler][\"bowler_prop6\"],bowler_db[bowler][\"bowler_prop7\"],\n",
    "                        bowler_db[bowler][\"bowler_prop8\"],\n",
    "                                               \n",
    "                        batsman_db[striker][\"explosivity_rating\"],\\\n",
    "                        batsman_db[striker][\"running_rating\"],\n",
    "                        batsman_db[striker][\"powerplay_rating\"],\n",
    "                        batsman_db[striker][\"end_over_explosivity\"],\n",
    "                        bowler_db[bowler][\"wicket_taking_rating\"],\n",
    "                        bowler_db[bowler][\"bowling_consistency_rating\"]])\n",
    "        \n",
    "        \n",
    "        print(data_encoded.reshape(1,-1).shape)\n",
    "        prediction_outcome = inference_random_forest(data_encoded.reshape(1,-1))[0]\n",
    "        counter = counter + 1\n",
    "        if prediction_outcome == 8:\n",
    "            print(\"{} to {} results in {}\".format(striker,bowler,\"wicket\"))\n",
    "            current_wickets = current_wickets + 1\n",
    "        else:\n",
    "            print(\"{} to {} results in {}\".format(striker,bowler,prediction_outcome))\n",
    "            current_score = current_score + prediction_outcome\n",
    "        curr_balls = curr_balls + 1\n",
    "        current_run_rate = calc_runrate(current_score,curr_balls)\n",
    "        ################### update dbs ###############################\n",
    "        update_record_batsmandb(striker,prediction_outcome)\n",
    "        update_record_bowlerdb(bowler,prediction_outcome)\n",
    "        ########################################################\n",
    "        \n",
    "        #print(prediction)\n",
    "        if prediction_outcome in [1,3,5,7]:\n",
    "            striker,non_striker = non_striker,striker\n",
    "        elif prediction_outcome == 8:\n",
    "            striker = input(\"select batsman on strike from {}: \".format(bat_first_team))\n",
    "            \n",
    "        if ball==6:\n",
    "            striker,non_striker = non_striker,striker\n",
    "            bowler = input(\"select bowler from {}: \".format(bat_second_team))\n",
    "            \n",
    "        \n",
    "        \n",
    "        \n",
    "        \n",
    "    #break"
   ]
  },
  {
   "cell_type": "code",
   "execution_count": 110,
   "id": "3de6d086",
   "metadata": {},
   "outputs": [
    {
     "data": {
      "text/plain": [
       "0.6"
      ]
     },
     "execution_count": 110,
     "metadata": {},
     "output_type": "execute_result"
    }
   ],
   "source": [
    "over"
   ]
  }
 ],
 "metadata": {
  "kernelspec": {
   "display_name": "Python 3 (ipykernel)",
   "language": "python",
   "name": "python3"
  },
  "language_info": {
   "codemirror_mode": {
    "name": "ipython",
    "version": 3
   },
   "file_extension": ".py",
   "mimetype": "text/x-python",
   "name": "python",
   "nbconvert_exporter": "python",
   "pygments_lexer": "ipython3",
   "version": "3.7.13"
  }
 },
 "nbformat": 4,
 "nbformat_minor": 5
}
