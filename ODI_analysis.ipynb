{
 "cells": [
  {
   "cell_type": "code",
   "execution_count": 1,
   "id": "6f86cd4a",
   "metadata": {},
   "outputs": [],
   "source": [
    "import pandas as pd\n",
    "import numpy as np\n",
    "import yaml\n",
    "import os\n",
    "from geopy.geocoders import Nominatim\n",
    "from tqdm import tqdm\n",
    "from glob import glob"
   ]
  },
  {
   "cell_type": "code",
   "execution_count": 419,
   "id": "d29c50b6",
   "metadata": {},
   "outputs": [],
   "source": [
    "## matchid,venue,country,date,month,year,match_between,toss_winner,toss_decision,\n",
    "##current_innings,over,batsman,non_striker,bowler,extras,total_runs,batsman_runs,extras_type\n",
    "##out,out_batsman,dismissal_type,dismissed_by_fielder,\n",
    "##winner,win_by,method_if_any,super_over,super_over_winner,potm\n",
    "\n",
    "df_data = []\n",
    "\n",
    "def get_country(venue):\n",
    "    \n",
    "    geolocator = Nominatim(user_agent=\"geoapiExercises\")\n",
    "    location = geolocator.geocode(venue,language=\"en\")\n",
    "    country = location.address.split(\",\")[-1].strip()\n",
    "    return country\n",
    "\n",
    "\n",
    "def create_csv(folder_path):\n",
    "    \n",
    "   \n",
    "    for file in tqdm(os.listdir(folder_path)):\n",
    "        #print(file)\n",
    "        try:\n",
    "            with open(folder_path+file) as stream:\n",
    "                data = yaml.safe_load(stream)\n",
    "\n",
    "                ####### Static Data#####\n",
    "                match_id = file.split(\".\")[0]\n",
    "                try:\n",
    "                    venue_city = data[\"info\"][\"city\"]\n",
    "                except:    \n",
    "                    venue_city = data[\"info\"][\"venue\"]\n",
    "                #print(venue_city)\n",
    "                try:\n",
    "                    country = get_country(venue_city)\n",
    "                except:\n",
    "                    country = \"None\"\n",
    "                print(file,venue_city,country)\n",
    "                #print(data[\"info\"][\"dates\"][0],str(data[\"info\"][\"dates\"][0]).split(\"-\"))\n",
    "                year,month,day = str(data[\"info\"][\"dates\"][0]).split(\"-\")\n",
    "                if \"eliminator\" in list(data[\"info\"][\"outcome\"].keys()):\n",
    "                    #super_over = \"Yes\"\n",
    "                    super_over_winner_team = data[\"info\"][\"outcome\"][\"eliminator\"]\n",
    "                    winner_team = \"Tie\"\n",
    "                    winner_method = \"Tie\"\n",
    "                    winner_num = \"Tie\"\n",
    "\n",
    "                elif \"result\" in list(data[\"info\"][\"outcome\"].keys()):\n",
    "                    if data[\"info\"][\"outcome\"] == \"no result\":\n",
    "\n",
    "                        winner_team = \"No Result\"\n",
    "                        winner_method = \"No Result\"\n",
    "                        winner_num = \"No Result\"\n",
    "                        super_over_winner_team = \"None\"\n",
    "\n",
    "                else:\n",
    "                    winner_team = data[\"info\"][\"outcome\"][\"winner\"]\n",
    "                    if \"by\" in list(data[\"info\"][\"outcome\"].keys()):\n",
    "                        winner_method = list(data[\"info\"][\"outcome\"][\"by\"].keys())[0]\n",
    "                        winner_num = list(data[\"info\"][\"outcome\"][\"by\"].values())[0]\n",
    "                    else:\n",
    "                        ###Awarded Methods###\n",
    "                        winner_method = data[\"info\"][\"outcome\"][\"method\"]\n",
    "                        winner_num = \"None\"\n",
    "                    #super_over = \"No\"\n",
    "                    super_over_winner_team = \"None\"\n",
    "\n",
    "                match_between = data[\"info\"][\"teams\"][0] + \" vs \" + data[\"info\"][\"teams\"][1]\n",
    "                toss_winner = data[\"info\"][\"toss\"][\"winner\"]\n",
    "                toss_decision = data[\"info\"][\"toss\"][\"decision\"]\n",
    "                try:\n",
    "                    potm = \"/\".join((data[\"info\"][\"player_of_match\"]))\n",
    "                except:\n",
    "                    potm = \"No Data\"\n",
    "\n",
    "                if \"method\" in data[\"info\"][\"outcome\"].keys():\n",
    "                    method_if_any = data[\"info\"][\"outcome\"][\"method\"]\n",
    "                else:\n",
    "                    method_if_any = \"None\"\n",
    "                #############################\n",
    "\n",
    "\n",
    "                for inn in data[\"innings\"]:\n",
    "                    innings = list(inn.values())[0]\n",
    "                    #print(innings)\n",
    "                    current_innings_team = innings[\"team\"]\n",
    "                    if current_innings_team == data[\"info\"][\"teams\"][0]:\n",
    "                        bowling_team = data[\"info\"][\"teams\"][1]\n",
    "                    elif current_innings_team == data[\"info\"][\"teams\"][1]:\n",
    "                        bowling_team = data[\"info\"][\"teams\"][0]\n",
    "                    \n",
    "                    if \"super over\" in list(inn.keys())[0].lower():\n",
    "                        super_over = \"Yes\"\n",
    "                    else:\n",
    "                        super_over = \"No\"\n",
    "                    for delivery in list(inn.values())[0][\"deliveries\"]:\n",
    "                        #print(delivery)\n",
    "                        over_number = list(delivery.keys())[0]\n",
    "                        over_values = list(delivery.values())[0]\n",
    "                        batsman = over_values[\"batsman\"]\n",
    "                        non_striker = over_values[\"non_striker\"]\n",
    "                        bowler = over_values[\"bowler\"]\n",
    "                        extras,total_runs,batsman_runs = over_values[\"runs\"][\"extras\"],over_values[\"runs\"][\"total\"],over_values[\"runs\"][\"batsman\"]\n",
    "                        if extras > 0:\n",
    "                            extras_type = list(over_values[\"extras\"].keys())[0]\n",
    "                        else:\n",
    "                            extras_type = \"None\"\n",
    "\n",
    "                        if \"wicket\" in over_values.keys():\n",
    "                            out = \"Yes\"\n",
    "                            player_out = over_values[\"wicket\"][\"player_out\"]\n",
    "                            out_type = over_values[\"wicket\"][\"kind\"]\n",
    "                            if \"fielders\" in over_values[\"wicket\"]:\n",
    "                                dismissed_by_fielder = \"/\".join((over_values[\"wicket\"][\"fielders\"]))\n",
    "                            else:\n",
    "                                dismissed_by_fielder = \"None\"\n",
    "                        else:\n",
    "                            out = \"No\"\n",
    "                            player_out = \"None\"\n",
    "                            out_type = \"None\"\n",
    "                            dismissed_by_fielder = \"None\"\n",
    "\n",
    "                        df_data.append([match_id,venue_city,country,day,month,year,match_between,toss_winner,toss_decision,\\\n",
    "                       current_innings_team,bowling_team,over_number,batsman,non_striker,bowler,extras,total_runs,batsman_runs,\\\n",
    "                                    extras_type,\\\n",
    "                        out,player_out,out_type,dismissed_by_fielder,winner_team,winner_method,winner_num,method_if_any,\\\n",
    "                                        super_over,super_over_winner_team,potm])\n",
    "\n",
    "\n",
    "        #return df_data\n",
    "        except TypeError as e:\n",
    "            print(\"passed\")\n",
    "            pass"
   ]
  },
  {
   "cell_type": "code",
   "execution_count": 425,
   "id": "612019d2",
   "metadata": {
    "scrolled": true
   },
   "outputs": [
    {
     "name": "stderr",
     "output_type": "stream",
     "text": [
      "  0%|                                          | 1/2106 [00:00<34:34,  1.01it/s]"
     ]
    },
    {
     "name": "stdout",
     "output_type": "stream",
     "text": [
      "657643.yaml Abu Dhabi United Arab Emirates\n"
     ]
    },
    {
     "name": "stderr",
     "output_type": "stream",
     "text": [
      "\r",
      "  0%|                                          | 2/2106 [00:02<39:35,  1.13s/it]"
     ]
    },
    {
     "name": "stdout",
     "output_type": "stream",
     "text": [
      "317581.yaml Bulawayo Zimbabwe\n"
     ]
    },
    {
     "name": "stderr",
     "output_type": "stream",
     "text": [
      "\r",
      "  0%|                                          | 3/2106 [00:03<37:53,  1.08s/it]"
     ]
    },
    {
     "name": "stdout",
     "output_type": "stream",
     "text": [
      "1031425.yaml Leeds United Kingdom\n"
     ]
    },
    {
     "name": "stderr",
     "output_type": "stream",
     "text": [
      "\r",
      "  0%|                                          | 4/2106 [00:04<37:05,  1.06s/it]"
     ]
    },
    {
     "name": "stdout",
     "output_type": "stream",
     "text": [
      "1153314.yaml Dhaka Bangladesh\n"
     ]
    },
    {
     "name": "stderr",
     "output_type": "stream",
     "text": [
      "\r",
      "  0%|                                          | 5/2106 [00:04<32:49,  1.07it/s]"
     ]
    },
    {
     "name": "stdout",
     "output_type": "stream",
     "text": [
      "267386.yaml Nairobi Kenya\n"
     ]
    },
    {
     "name": "stderr",
     "output_type": "stream",
     "text": [
      "\r",
      "  0%|                                          | 6/2106 [00:06<36:12,  1.03s/it]"
     ]
    },
    {
     "name": "stdout",
     "output_type": "stream",
     "text": [
      "1185312.yaml Johannesburg South Africa\n"
     ]
    },
    {
     "name": "stderr",
     "output_type": "stream",
     "text": [
      "\r",
      "  0%|▏                                         | 7/2106 [00:07<35:53,  1.03s/it]"
     ]
    },
    {
     "name": "stdout",
     "output_type": "stream",
     "text": [
      "257770.yaml Lahore Pakistan\n"
     ]
    },
    {
     "name": "stderr",
     "output_type": "stream",
     "text": [
      "\r",
      "  0%|▏                                         | 8/2106 [00:08<36:01,  1.03s/it]"
     ]
    },
    {
     "name": "stdout",
     "output_type": "stream",
     "text": [
      "1196674.yaml Aberdeen United Kingdom\n"
     ]
    },
    {
     "name": "stderr",
     "output_type": "stream",
     "text": [
      "\r",
      "  0%|▏                                         | 9/2106 [00:09<38:09,  1.09s/it]"
     ]
    },
    {
     "name": "stdout",
     "output_type": "stream",
     "text": [
      "64883.yaml Peshawar Pakistan\n"
     ]
    },
    {
     "name": "stderr",
     "output_type": "stream",
     "text": [
      "\r",
      "  0%|▏                                        | 10/2106 [00:10<36:19,  1.04s/it]"
     ]
    },
    {
     "name": "stdout",
     "output_type": "stream",
     "text": [
      "1031667.yaml Manchester United Kingdom\n"
     ]
    },
    {
     "name": "stderr",
     "output_type": "stream",
     "text": [
      "\r",
      "  1%|▏                                        | 11/2106 [00:11<36:08,  1.04s/it]"
     ]
    },
    {
     "name": "stdout",
     "output_type": "stream",
     "text": [
      "995461.yaml Rangiri Dambulla International Stadium None\n"
     ]
    },
    {
     "name": "stderr",
     "output_type": "stream",
     "text": [
      "\r",
      "  1%|▏                                        | 12/2106 [00:12<38:11,  1.09s/it]"
     ]
    },
    {
     "name": "stdout",
     "output_type": "stream",
     "text": [
      "902643.yaml Abu Dhabi United Arab Emirates\n"
     ]
    },
    {
     "name": "stderr",
     "output_type": "stream",
     "text": [
      "\r",
      "  1%|▎                                        | 13/2106 [00:13<37:24,  1.07s/it]"
     ]
    },
    {
     "name": "stdout",
     "output_type": "stream",
     "text": [
      "1125474.yaml Sharjah Cricket Stadium United Arab Emirates\n"
     ]
    },
    {
     "name": "stderr",
     "output_type": "stream",
     "text": [
      "\r",
      "  1%|▎                                        | 14/2106 [00:14<39:02,  1.12s/it]"
     ]
    },
    {
     "name": "stdout",
     "output_type": "stream",
     "text": [
      "647251.yaml Jaipur India\n"
     ]
    },
    {
     "name": "stderr",
     "output_type": "stream",
     "text": [
      "\r",
      "  1%|▎                                        | 15/2106 [00:15<35:51,  1.03s/it]"
     ]
    },
    {
     "name": "stdout",
     "output_type": "stream",
     "text": [
      "745163.yaml Rangiri Dambulla International Stadium None\n"
     ]
    },
    {
     "name": "stderr",
     "output_type": "stream",
     "text": [
      "\r",
      "  1%|▎                                        | 16/2106 [00:16<35:49,  1.03s/it]"
     ]
    },
    {
     "name": "stdout",
     "output_type": "stream",
     "text": [
      "223542.yaml Port Elizabeth South Africa\n"
     ]
    },
    {
     "name": "stderr",
     "output_type": "stream",
     "text": [
      "\r",
      "  1%|▎                                        | 17/2106 [00:17<34:40,  1.00it/s]"
     ]
    },
    {
     "name": "stdout",
     "output_type": "stream",
     "text": [
      "1142584.yaml Rangiri Dambulla International Stadium None\n"
     ]
    },
    {
     "name": "stderr",
     "output_type": "stream",
     "text": [
      "\r",
      "  1%|▎                                        | 18/2106 [00:18<34:56,  1.00s/it]"
     ]
    },
    {
     "name": "stdout",
     "output_type": "stream",
     "text": [
      "249740.yaml Ahmedabad India\n"
     ]
    },
    {
     "name": "stderr",
     "output_type": "stream",
     "text": [
      "\r",
      "  1%|▎                                        | 19/2106 [00:19<35:07,  1.01s/it]"
     ]
    },
    {
     "name": "stdout",
     "output_type": "stream",
     "text": [
      "317578.yaml Harare Sports Club Zimbabwe\n"
     ]
    },
    {
     "name": "stderr",
     "output_type": "stream",
     "text": [
      "\r",
      "  1%|▍                                        | 20/2106 [00:20<35:16,  1.01s/it]"
     ]
    },
    {
     "name": "stdout",
     "output_type": "stream",
     "text": [
      "64882.yaml Rawalpindi Pakistan\n"
     ]
    },
    {
     "name": "stderr",
     "output_type": "stream",
     "text": [
      "\r",
      "  1%|▍                                        | 21/2106 [00:21<37:30,  1.08s/it]"
     ]
    },
    {
     "name": "stdout",
     "output_type": "stream",
     "text": [
      "217647.yaml Colombo Sri Lanka\n"
     ]
    },
    {
     "name": "stderr",
     "output_type": "stream",
     "text": [
      "\r",
      "  1%|▍                                        | 22/2106 [00:23<36:53,  1.06s/it]"
     ]
    },
    {
     "name": "stdout",
     "output_type": "stream",
     "text": [
      "244510.yaml Abu Dhabi United Arab Emirates\n"
     ]
    },
    {
     "name": "stderr",
     "output_type": "stream",
     "text": [
      "\r",
      "  1%|▍                                        | 23/2106 [00:23<35:25,  1.02s/it]"
     ]
    },
    {
     "name": "stdout",
     "output_type": "stream",
     "text": [
      "656479.yaml Napier New Zealand\n"
     ]
    },
    {
     "name": "stderr",
     "output_type": "stream",
     "text": [
      "\r",
      "  1%|▍                                        | 24/2106 [00:25<36:30,  1.05s/it]"
     ]
    },
    {
     "name": "stdout",
     "output_type": "stream",
     "text": [
      "1078660.yaml Dubai International Cricket Stadium United Arab Emirates\n"
     ]
    },
    {
     "name": "stderr",
     "output_type": "stream",
     "text": [
      "\r",
      "  1%|▍                                        | 25/2106 [00:26<37:15,  1.07s/it]"
     ]
    },
    {
     "name": "stdout",
     "output_type": "stream",
     "text": [
      "565813.yaml Kochi Japan\n"
     ]
    },
    {
     "name": "stderr",
     "output_type": "stream",
     "text": [
      "\r",
      "  1%|▌                                        | 26/2106 [00:26<34:34,  1.00it/s]"
     ]
    },
    {
     "name": "stdout",
     "output_type": "stream",
     "text": [
      "760889.yaml Dublin Ireland\n"
     ]
    },
    {
     "name": "stderr",
     "output_type": "stream",
     "text": [
      "\r",
      "  1%|▌                                        | 27/2106 [00:28<34:50,  1.01s/it]"
     ]
    },
    {
     "name": "stdout",
     "output_type": "stream",
     "text": [
      "65714.yaml Colombo Sri Lanka\n"
     ]
    },
    {
     "name": "stderr",
     "output_type": "stream",
     "text": [
      "\r",
      "  1%|▌                                        | 28/2106 [00:29<34:37,  1.00it/s]"
     ]
    },
    {
     "name": "stdout",
     "output_type": "stream",
     "text": [
      "1168514.yaml Dublin Ireland\n"
     ]
    },
    {
     "name": "stderr",
     "output_type": "stream",
     "text": [
      "\r",
      "  1%|▌                                        | 29/2106 [00:29<33:06,  1.05it/s]"
     ]
    },
    {
     "name": "stdout",
     "output_type": "stream",
     "text": [
      "238213.yaml Colombo Sri Lanka\n"
     ]
    },
    {
     "name": "stderr",
     "output_type": "stream",
     "text": [
      "\r",
      "  1%|▌                                        | 30/2106 [00:30<33:48,  1.02it/s]"
     ]
    },
    {
     "name": "stdout",
     "output_type": "stream",
     "text": [
      "264070.yaml Mirpur Pakistan\n"
     ]
    },
    {
     "name": "stderr",
     "output_type": "stream",
     "text": [
      "\r",
      "  1%|▌                                        | 31/2106 [00:31<34:16,  1.01it/s]"
     ]
    },
    {
     "name": "stdout",
     "output_type": "stream",
     "text": [
      "335346.yaml Lahore Pakistan\n"
     ]
    },
    {
     "name": "stderr",
     "output_type": "stream",
     "text": [
      "\r",
      "  2%|▌                                        | 32/2106 [00:33<35:39,  1.03s/it]"
     ]
    },
    {
     "name": "stdout",
     "output_type": "stream",
     "text": [
      "520601.yaml Napier New Zealand\n"
     ]
    },
    {
     "name": "stderr",
     "output_type": "stream",
     "text": [
      "\r",
      "  2%|▋                                        | 33/2106 [00:34<35:34,  1.03s/it]"
     ]
    },
    {
     "name": "stdout",
     "output_type": "stream",
     "text": [
      "518966.yaml Hobart Australia\n"
     ]
    },
    {
     "name": "stderr",
     "output_type": "stream",
     "text": [
      "\r",
      "  2%|▋                                        | 34/2106 [00:34<34:25,  1.00it/s]"
     ]
    },
    {
     "name": "stdout",
     "output_type": "stream",
     "text": [
      "291362.yaml Melbourne Cricket Ground Australia\n"
     ]
    },
    {
     "name": "stderr",
     "output_type": "stream",
     "text": [
      "\r",
      "  2%|▋                                        | 35/2106 [00:36<35:45,  1.04s/it]"
     ]
    },
    {
     "name": "stdout",
     "output_type": "stream",
     "text": [
      "1288315.yaml Lahore Pakistan\n"
     ]
    },
    {
     "name": "stderr",
     "output_type": "stream",
     "text": [
      "\r",
      "  2%|▋                                        | 36/2106 [00:37<36:40,  1.06s/it]"
     ]
    },
    {
     "name": "stdout",
     "output_type": "stream",
     "text": [
      "249752.yaml Chandigarh India\n"
     ]
    },
    {
     "name": "stderr",
     "output_type": "stream",
     "text": [
      "\r",
      "  2%|▋                                        | 37/2106 [00:38<39:26,  1.14s/it]"
     ]
    },
    {
     "name": "stdout",
     "output_type": "stream",
     "text": [
      "350048.yaml Nottingham United Kingdom\n"
     ]
    },
    {
     "name": "stderr",
     "output_type": "stream",
     "text": [
      "\r",
      "  2%|▋                                        | 38/2106 [00:39<38:10,  1.11s/it]"
     ]
    },
    {
     "name": "stdout",
     "output_type": "stream",
     "text": [
      "258474.yaml Manchester United Kingdom\n"
     ]
    },
    {
     "name": "stderr",
     "output_type": "stream",
     "text": [
      "\r",
      "  2%|▊                                        | 39/2106 [00:40<37:17,  1.08s/it]"
     ]
    },
    {
     "name": "stdout",
     "output_type": "stream",
     "text": [
      "247491.yaml Antigua Antigua and Barbuda\n"
     ]
    },
    {
     "name": "stderr",
     "output_type": "stream",
     "text": [
      "\r",
      "  2%|▊                                        | 40/2106 [00:41<38:46,  1.13s/it]"
     ]
    },
    {
     "name": "stdout",
     "output_type": "stream",
     "text": [
      "536933.yaml Chennai India\n"
     ]
    },
    {
     "name": "stderr",
     "output_type": "stream",
     "text": [
      "\r",
      "  2%|▊                                        | 41/2106 [00:42<37:14,  1.08s/it]"
     ]
    },
    {
     "name": "stdout",
     "output_type": "stream",
     "text": [
      "636162.yaml Perth Australia\n"
     ]
    },
    {
     "name": "stderr",
     "output_type": "stream",
     "text": [
      "\r",
      "  2%|▊                                        | 42/2106 [00:43<37:05,  1.08s/it]"
     ]
    },
    {
     "name": "stdout",
     "output_type": "stream",
     "text": [
      "743981.yaml Manchester United Kingdom\n"
     ]
    },
    {
     "name": "stderr",
     "output_type": "stream",
     "text": [
      "\r",
      "  2%|▊                                        | 43/2106 [00:45<38:37,  1.12s/it]"
     ]
    },
    {
     "name": "stdout",
     "output_type": "stream",
     "text": [
      "656475.yaml Auckland New Zealand\n"
     ]
    },
    {
     "name": "stderr",
     "output_type": "stream",
     "text": [
      "\r",
      "  2%|▊                                        | 44/2106 [00:46<37:34,  1.09s/it]"
     ]
    },
    {
     "name": "stdout",
     "output_type": "stream",
     "text": [
      "325800.yaml Karachi Pakistan\n"
     ]
    },
    {
     "name": "stderr",
     "output_type": "stream",
     "text": [
      "\r",
      "  2%|▉                                        | 45/2106 [00:46<34:44,  1.01s/it]"
     ]
    },
    {
     "name": "stdout",
     "output_type": "stream",
     "text": [
      "238175.yaml Fatullah Bangladesh\n"
     ]
    },
    {
     "name": "stderr",
     "output_type": "stream",
     "text": [
      "\r",
      "  2%|▉                                        | 46/2106 [00:48<35:54,  1.05s/it]"
     ]
    },
    {
     "name": "stdout",
     "output_type": "stream",
     "text": [
      "377314.yaml Jamaica Jamaica\n"
     ]
    },
    {
     "name": "stderr",
     "output_type": "stream",
     "text": [
      "\r",
      "  2%|▉                                        | 47/2106 [00:49<35:39,  1.04s/it]"
     ]
    },
    {
     "name": "stdout",
     "output_type": "stream",
     "text": [
      "1120289.yaml Sharjah Cricket Stadium United Arab Emirates\n"
     ]
    },
    {
     "name": "stderr",
     "output_type": "stream",
     "text": [
      "\r",
      "  2%|▉                                        | 48/2106 [00:50<34:25,  1.00s/it]"
     ]
    },
    {
     "name": "stdout",
     "output_type": "stream",
     "text": [
      "446958.yaml Sydney Cricket Ground Australia\n"
     ]
    },
    {
     "name": "stderr",
     "output_type": "stream",
     "text": [
      "\r",
      "  2%|▉                                        | 49/2106 [00:51<35:41,  1.04s/it]"
     ]
    },
    {
     "name": "stdout",
     "output_type": "stream",
     "text": [
      "657645.yaml Abu Dhabi United Arab Emirates\n"
     ]
    },
    {
     "name": "stderr",
     "output_type": "stream",
     "text": [
      "\r",
      "  2%|▉                                        | 50/2106 [00:52<34:26,  1.00s/it]"
     ]
    },
    {
     "name": "stdout",
     "output_type": "stream",
     "text": [
      "1317152.yaml Providence United States\n"
     ]
    },
    {
     "name": "stderr",
     "output_type": "stream",
     "text": [
      "\r",
      "  2%|▉                                        | 51/2106 [00:53<33:33,  1.02it/s]"
     ]
    },
    {
     "name": "stdout",
     "output_type": "stream",
     "text": [
      "518968.yaml Brisbane Australia\n"
     ]
    },
    {
     "name": "stderr",
     "output_type": "stream",
     "text": [
      "\r",
      "  2%|█                                        | 52/2106 [00:54<36:06,  1.05s/it]"
     ]
    },
    {
     "name": "stdout",
     "output_type": "stream",
     "text": [
      "351692.yaml Adelaide Oval Australia\n"
     ]
    },
    {
     "name": "stderr",
     "output_type": "stream",
     "text": [
      "\r",
      "  3%|█                                        | 53/2106 [00:55<35:48,  1.05s/it]"
     ]
    },
    {
     "name": "stdout",
     "output_type": "stream",
     "text": [
      "416240.yaml Hyderabad India\n"
     ]
    },
    {
     "name": "stderr",
     "output_type": "stream",
     "text": [
      "\r",
      "  3%|█                                        | 54/2106 [00:56<35:31,  1.04s/it]"
     ]
    },
    {
     "name": "stdout",
     "output_type": "stream",
     "text": [
      "1040493.yaml Greater Noida India\n"
     ]
    },
    {
     "name": "stderr",
     "output_type": "stream",
     "text": [
      "\r",
      "  3%|█                                        | 55/2106 [00:57<37:27,  1.10s/it]"
     ]
    },
    {
     "name": "stdout",
     "output_type": "stream",
     "text": [
      "293481.yaml Colombo Sri Lanka\n"
     ]
    },
    {
     "name": "stderr",
     "output_type": "stream",
     "text": [
      "\r",
      "  3%|█                                        | 56/2106 [00:58<35:29,  1.04s/it]"
     ]
    },
    {
     "name": "stdout",
     "output_type": "stream",
     "text": [
      "1277073.yaml Centurion South Africa\n"
     ]
    },
    {
     "name": "stderr",
     "output_type": "stream",
     "text": [
      "\r",
      "  3%|█                                        | 57/2106 [00:59<35:28,  1.04s/it]"
     ]
    },
    {
     "name": "stdout",
     "output_type": "stream",
     "text": [
      "1144999.yaml Melbourne Australia\n"
     ]
    },
    {
     "name": "stderr",
     "output_type": "stream",
     "text": [
      "\r",
      "  3%|█▏                                       | 58/2106 [01:00<35:18,  1.03s/it]"
     ]
    },
    {
     "name": "stdout",
     "output_type": "stream",
     "text": [
      "291220.yaml Colombo Sri Lanka\n"
     ]
    },
    {
     "name": "stderr",
     "output_type": "stream",
     "text": [
      "\r",
      "  3%|█▏                                       | 59/2106 [01:01<37:16,  1.09s/it]"
     ]
    },
    {
     "name": "stdout",
     "output_type": "stream",
     "text": [
      "997993.yaml Edinburgh United Kingdom\n"
     ]
    },
    {
     "name": "stderr",
     "output_type": "stream",
     "text": [
      "\r",
      "  3%|█▏                                       | 60/2106 [01:02<36:34,  1.07s/it]"
     ]
    },
    {
     "name": "stdout",
     "output_type": "stream",
     "text": [
      "350477.yaml Durban South Africa\n"
     ]
    },
    {
     "name": "stderr",
     "output_type": "stream",
     "text": [
      "\r",
      "  3%|█▏                                       | 61/2106 [01:03<37:06,  1.09s/it]"
     ]
    },
    {
     "name": "stdout",
     "output_type": "stream",
     "text": [
      "433604.yaml Colombo Sri Lanka\n"
     ]
    },
    {
     "name": "stderr",
     "output_type": "stream",
     "text": [
      "\r",
      "  3%|█▏                                       | 62/2106 [01:04<37:27,  1.10s/it]"
     ]
    },
    {
     "name": "stdout",
     "output_type": "stream",
     "text": [
      "335354.yaml Karachi Pakistan\n"
     ]
    },
    {
     "name": "stderr",
     "output_type": "stream",
     "text": [
      "\r",
      "  3%|█▏                                       | 63/2106 [01:06<37:43,  1.11s/it]"
     ]
    },
    {
     "name": "stdout",
     "output_type": "stream",
     "text": [
      "1131276.yaml Dubai United Arab Emirates\n"
     ]
    },
    {
     "name": "stderr",
     "output_type": "stream",
     "text": [
      "\r",
      "  3%|█▏                                       | 64/2106 [01:07<45:12,  1.33s/it]"
     ]
    },
    {
     "name": "stdout",
     "output_type": "stream",
     "text": [
      "1244014.yaml Abu Dhabi United Arab Emirates\n"
     ]
    },
    {
     "name": "stderr",
     "output_type": "stream",
     "text": [
      "\r",
      "  3%|█▎                                       | 65/2106 [01:08<42:04,  1.24s/it]"
     ]
    },
    {
     "name": "stdout",
     "output_type": "stream",
     "text": [
      "531634.yaml Dubai International Cricket Stadium United Arab Emirates\n"
     ]
    },
    {
     "name": "stderr",
     "output_type": "stream",
     "text": [
      "\r",
      "  3%|█▎                                       | 66/2106 [01:09<38:50,  1.14s/it]"
     ]
    },
    {
     "name": "stdout",
     "output_type": "stream",
     "text": [
      "1031429.yaml London United Kingdom\n"
     ]
    },
    {
     "name": "stderr",
     "output_type": "stream",
     "text": [
      "\r",
      "  3%|█▎                                       | 67/2106 [01:10<37:37,  1.11s/it]"
     ]
    },
    {
     "name": "stdout",
     "output_type": "stream",
     "text": [
      "560924.yaml Jamaica Jamaica\n"
     ]
    },
    {
     "name": "stderr",
     "output_type": "stream",
     "text": [
      "\r",
      "  3%|█▎                                       | 68/2106 [01:12<38:50,  1.14s/it]"
     ]
    },
    {
     "name": "stdout",
     "output_type": "stream",
     "text": [
      "226354.yaml Karachi Pakistan\n"
     ]
    },
    {
     "name": "stderr",
     "output_type": "stream",
     "text": [
      "\r",
      "  3%|█▎                                       | 69/2106 [01:13<37:36,  1.11s/it]"
     ]
    },
    {
     "name": "stdout",
     "output_type": "stream",
     "text": [
      "426422.yaml Chittagong Bangladesh\n"
     ]
    },
    {
     "name": "stderr",
     "output_type": "stream",
     "text": [
      "\r",
      "  3%|█▎                                       | 70/2106 [01:14<38:49,  1.14s/it]"
     ]
    },
    {
     "name": "stdout",
     "output_type": "stream",
     "text": [
      "226359.yaml Mumbai India\n"
     ]
    },
    {
     "name": "stderr",
     "output_type": "stream",
     "text": [
      "\r",
      "  3%|█▍                                       | 71/2106 [01:15<39:40,  1.17s/it]"
     ]
    },
    {
     "name": "stdout",
     "output_type": "stream",
     "text": [
      "1144525.yaml London United Kingdom\n"
     ]
    },
    {
     "name": "stderr",
     "output_type": "stream",
     "text": [
      "\r",
      "  3%|█▍                                       | 72/2106 [01:16<38:09,  1.13s/it]"
     ]
    },
    {
     "name": "stdout",
     "output_type": "stream",
     "text": [
      "750663.yaml Colombo Sri Lanka\n"
     ]
    },
    {
     "name": "stderr",
     "output_type": "stream",
     "text": [
      "\r",
      "  3%|█▍                                       | 73/2106 [01:17<39:12,  1.16s/it]"
     ]
    },
    {
     "name": "stdout",
     "output_type": "stream",
     "text": [
      "296916.yaml London United Kingdom\n"
     ]
    },
    {
     "name": "stderr",
     "output_type": "stream",
     "text": [
      "\r",
      "  4%|█▍                                       | 74/2106 [01:18<37:39,  1.11s/it]"
     ]
    },
    {
     "name": "stdout",
     "output_type": "stream",
     "text": [
      "1196675.yaml Aberdeen United Kingdom\n"
     ]
    },
    {
     "name": "stderr",
     "output_type": "stream",
     "text": [
      "\r",
      "  4%|█▍                                       | 75/2106 [01:19<36:54,  1.09s/it]"
     ]
    },
    {
     "name": "stdout",
     "output_type": "stream",
     "text": [
      "1120287.yaml Abu Dhabi United Arab Emirates\n"
     ]
    },
    {
     "name": "stderr",
     "output_type": "stream",
     "text": [
      "\r",
      "  4%|█▍                                       | 76/2106 [01:20<34:45,  1.03s/it]"
     ]
    },
    {
     "name": "stdout",
     "output_type": "stream",
     "text": [
      "1317902.yaml Port of Spain Trinidad and Tobago\n"
     ]
    },
    {
     "name": "stderr",
     "output_type": "stream",
     "text": [
      "\r",
      "  4%|█▍                                       | 77/2106 [01:22<37:12,  1.10s/it]"
     ]
    },
    {
     "name": "stdout",
     "output_type": "stream",
     "text": [
      "433605.yaml Chandigarh India\n"
     ]
    },
    {
     "name": "stderr",
     "output_type": "stream",
     "text": [
      "\r",
      "  4%|█▌                                       | 78/2106 [01:23<36:24,  1.08s/it]"
     ]
    },
    {
     "name": "stdout",
     "output_type": "stream",
     "text": [
      "895811.yaml Melbourne Cricket Ground Australia\n"
     ]
    },
    {
     "name": "stderr",
     "output_type": "stream",
     "text": [
      "\r",
      "  4%|█▌                                       | 79/2106 [01:24<35:50,  1.06s/it]"
     ]
    },
    {
     "name": "stdout",
     "output_type": "stream",
     "text": [
      "520594.yaml Napier New Zealand\n"
     ]
    },
    {
     "name": "stderr",
     "output_type": "stream",
     "text": [
      "\r",
      "  4%|█▌                                       | 80/2106 [01:25<36:29,  1.08s/it]"
     ]
    },
    {
     "name": "stdout",
     "output_type": "stream",
     "text": [
      "426720.yaml Abu Dhabi United Arab Emirates\n"
     ]
    },
    {
     "name": "stderr",
     "output_type": "stream",
     "text": [
      "\r",
      "  4%|█▌                                       | 81/2106 [01:26<35:54,  1.06s/it]"
     ]
    },
    {
     "name": "stdout",
     "output_type": "stream",
     "text": [
      "406192.yaml Melbourne Cricket Ground Australia\n"
     ]
    },
    {
     "name": "stderr",
     "output_type": "stream",
     "text": [
      "\r",
      "  4%|█▌                                       | 82/2106 [01:27<35:28,  1.05s/it]"
     ]
    },
    {
     "name": "stdout",
     "output_type": "stream",
     "text": [
      "530431.yaml Abu Dhabi United Arab Emirates\n"
     ]
    },
    {
     "name": "stderr",
     "output_type": "stream",
     "text": [
      "\r",
      "  4%|█▌                                       | 83/2106 [01:28<37:15,  1.11s/it]"
     ]
    },
    {
     "name": "stdout",
     "output_type": "stream",
     "text": [
      "530430.yaml Sharjah Cricket Stadium United Arab Emirates\n"
     ]
    },
    {
     "name": "stderr",
     "output_type": "stream",
     "text": [
      "\r",
      "  4%|█▋                                       | 84/2106 [01:29<36:25,  1.08s/it]"
     ]
    },
    {
     "name": "stdout",
     "output_type": "stream",
     "text": [
      "1308247.yaml Dubai United Arab Emirates\n"
     ]
    },
    {
     "name": "stderr",
     "output_type": "stream",
     "text": [
      "\r",
      "  4%|█▋                                       | 85/2106 [01:30<35:49,  1.06s/it]"
     ]
    },
    {
     "name": "stdout",
     "output_type": "stream",
     "text": [
      "66379.yaml Peshawar Pakistan\n"
     ]
    },
    {
     "name": "stderr",
     "output_type": "stream",
     "text": [
      "\r",
      "  4%|█▋                                       | 86/2106 [01:31<36:26,  1.08s/it]"
     ]
    },
    {
     "name": "stdout",
     "output_type": "stream",
     "text": [
      "1153316.yaml Sylhet Bangladesh\n"
     ]
    },
    {
     "name": "stderr",
     "output_type": "stream",
     "text": [
      "\r",
      "  4%|█▋                                       | 87/2106 [01:32<35:50,  1.06s/it]"
     ]
    },
    {
     "name": "stdout",
     "output_type": "stream",
     "text": [
      "566924.yaml Southampton United Kingdom\n"
     ]
    },
    {
     "name": "stderr",
     "output_type": "stream",
     "text": [
      "\r",
      "  4%|█▋                                       | 88/2106 [01:33<35:24,  1.05s/it]"
     ]
    },
    {
     "name": "stdout",
     "output_type": "stream",
     "text": [
      "903601.yaml Mumbai India\n"
     ]
    },
    {
     "name": "stderr",
     "output_type": "stream",
     "text": [
      "\r",
      "  4%|█▋                                       | 89/2106 [01:34<37:09,  1.11s/it]"
     ]
    },
    {
     "name": "stdout",
     "output_type": "stream",
     "text": [
      "659553.yaml Harare Sports Club Zimbabwe\n"
     ]
    },
    {
     "name": "stderr",
     "output_type": "stream",
     "text": [
      "\r",
      "  4%|█▊                                       | 90/2106 [01:36<36:19,  1.08s/it]"
     ]
    },
    {
     "name": "stdout",
     "output_type": "stream",
     "text": [
      "749781.yaml Christchurch New Zealand\n"
     ]
    },
    {
     "name": "stderr",
     "output_type": "stream",
     "text": [
      "\r",
      "  4%|█▊                                       | 91/2106 [01:37<35:43,  1.06s/it]"
     ]
    },
    {
     "name": "stdout",
     "output_type": "stream",
     "text": [
      "1153842.yaml Nelson New Zealand\n"
     ]
    },
    {
     "name": "stderr",
     "output_type": "stream",
     "text": [
      "\r",
      "  4%|█▊                                       | 92/2106 [01:38<37:22,  1.11s/it]"
     ]
    },
    {
     "name": "stdout",
     "output_type": "stream",
     "text": [
      "667729.yaml Leeds United Kingdom\n"
     ]
    },
    {
     "name": "stderr",
     "output_type": "stream",
     "text": [
      "\r",
      "  4%|█▊                                       | 93/2106 [01:39<35:25,  1.06s/it]"
     ]
    },
    {
     "name": "stdout",
     "output_type": "stream",
     "text": [
      "696733.yaml Lincoln United States\n"
     ]
    },
    {
     "name": "stderr",
     "output_type": "stream",
     "text": [
      "\r",
      "  4%|█▊                                       | 94/2106 [01:40<35:04,  1.05s/it]"
     ]
    },
    {
     "name": "stdout",
     "output_type": "stream",
     "text": [
      "685735.yaml Centurion South Africa\n"
     ]
    },
    {
     "name": "stderr",
     "output_type": "stream",
     "text": [
      "\r",
      "  5%|█▊                                       | 95/2106 [01:41<34:50,  1.04s/it]"
     ]
    },
    {
     "name": "stdout",
     "output_type": "stream",
     "text": [
      "1120290.yaml Sharjah Cricket Stadium United Arab Emirates\n"
     ]
    },
    {
     "name": "stderr",
     "output_type": "stream",
     "text": [
      "\r",
      "  5%|█▊                                       | 96/2106 [01:42<33:38,  1.00s/it]"
     ]
    },
    {
     "name": "stdout",
     "output_type": "stream",
     "text": [
      "1272381.yaml Belfast United Kingdom\n"
     ]
    },
    {
     "name": "stderr",
     "output_type": "stream",
     "text": [
      "\r",
      "  5%|█▉                                       | 97/2106 [01:43<33:50,  1.01s/it]"
     ]
    },
    {
     "name": "stdout",
     "output_type": "stream",
     "text": [
      "249748.yaml Mumbai India\n"
     ]
    },
    {
     "name": "stderr",
     "output_type": "stream",
     "text": [
      "\r",
      "  5%|█▉                                       | 98/2106 [01:44<36:00,  1.08s/it]"
     ]
    },
    {
     "name": "stdout",
     "output_type": "stream",
     "text": [
      "1275249.yaml Al Amarat Oman\n"
     ]
    },
    {
     "name": "stderr",
     "output_type": "stream",
     "text": [
      "\r",
      "  5%|█▉                                       | 99/2106 [01:45<35:27,  1.06s/it]"
     ]
    },
    {
     "name": "stdout",
     "output_type": "stream",
     "text": [
      "1168518.yaml Belfast United Kingdom\n"
     ]
    },
    {
     "name": "stderr",
     "output_type": "stream",
     "text": [
      "\r",
      "  5%|█▉                                      | 100/2106 [01:46<34:02,  1.02s/it]"
     ]
    },
    {
     "name": "stdout",
     "output_type": "stream",
     "text": [
      "578617.yaml Cardiff United Kingdom\n"
     ]
    },
    {
     "name": "stderr",
     "output_type": "stream",
     "text": [
      "\r",
      "  5%|█▉                                      | 101/2106 [01:47<33:04,  1.01it/s]"
     ]
    },
    {
     "name": "stdout",
     "output_type": "stream",
     "text": [
      "336201.yaml Darwin Australia\n"
     ]
    },
    {
     "name": "stderr",
     "output_type": "stream",
     "text": [
      "\r",
      "  5%|█▉                                      | 102/2106 [01:48<35:26,  1.06s/it]"
     ]
    },
    {
     "name": "stdout",
     "output_type": "stream",
     "text": [
      "1029823.yaml Chittagong Bangladesh\n"
     ]
    },
    {
     "name": "stderr",
     "output_type": "stream",
     "text": [
      "\r",
      "  5%|█▉                                      | 103/2106 [01:49<34:01,  1.02s/it]"
     ]
    },
    {
     "name": "stdout",
     "output_type": "stream",
     "text": [
      "1179273.yaml Harare Zimbabwe\n"
     ]
    },
    {
     "name": "stderr",
     "output_type": "stream",
     "text": [
      "\r",
      "  5%|█▉                                      | 104/2106 [01:50<32:00,  1.04it/s]"
     ]
    },
    {
     "name": "stdout",
     "output_type": "stream",
     "text": [
      "247501.yaml Grenada Grenada\n"
     ]
    },
    {
     "name": "stderr",
     "output_type": "stream",
     "text": [
      "\r",
      "  5%|█▉                                      | 105/2106 [01:51<34:41,  1.04s/it]"
     ]
    },
    {
     "name": "stdout",
     "output_type": "stream",
     "text": [
      "247504.yaml Barbados Barbados\n"
     ]
    },
    {
     "name": "stderr",
     "output_type": "stream",
     "text": [
      "\r",
      "  5%|██                                      | 106/2106 [01:52<34:30,  1.04s/it]"
     ]
    },
    {
     "name": "stdout",
     "output_type": "stream",
     "text": [
      "64894.yaml Gros Islet Saint Lucia\n"
     ]
    },
    {
     "name": "stderr",
     "output_type": "stream",
     "text": [
      "\r",
      "  5%|██                                      | 107/2106 [01:53<34:23,  1.03s/it]"
     ]
    },
    {
     "name": "stdout",
     "output_type": "stream",
     "text": [
      "464991.yaml Colombo Sri Lanka\n"
     ]
    },
    {
     "name": "stderr",
     "output_type": "stream",
     "text": [
      "\r",
      "  5%|██                                      | 108/2106 [01:54<34:17,  1.03s/it]"
     ]
    },
    {
     "name": "stdout",
     "output_type": "stream",
     "text": [
      "221337.yaml Melbourne Australia\n"
     ]
    },
    {
     "name": "stderr",
     "output_type": "stream",
     "text": [
      "\r",
      "  5%|██                                      | 109/2106 [01:55<36:15,  1.09s/it]"
     ]
    },
    {
     "name": "stdout",
     "output_type": "stream",
     "text": [
      "216271.yaml Centurion South Africa\n"
     ]
    },
    {
     "name": "stderr",
     "output_type": "stream",
     "text": [
      "\r",
      "  5%|██                                      | 110/2106 [01:56<34:33,  1.04s/it]"
     ]
    },
    {
     "name": "stdout",
     "output_type": "stream",
     "text": [
      "1233976.yaml Dunedin New Zealand\n"
     ]
    },
    {
     "name": "stderr",
     "output_type": "stream",
     "text": [
      "\r",
      "  5%|██                                      | 111/2106 [01:57<33:22,  1.00s/it]"
     ]
    },
    {
     "name": "stdout",
     "output_type": "stream",
     "text": [
      "1003273.yaml Edinburgh United Kingdom\n"
     ]
    },
    {
     "name": "stderr",
     "output_type": "stream",
     "text": [
      "\r",
      "  5%|██▏                                     | 112/2106 [01:59<37:38,  1.13s/it]"
     ]
    },
    {
     "name": "stdout",
     "output_type": "stream",
     "text": [
      "592266.yaml Dubai United Arab Emirates\n"
     ]
    },
    {
     "name": "stderr",
     "output_type": "stream",
     "text": [
      "\r",
      "  5%|██▏                                     | 113/2106 [02:00<36:32,  1.10s/it]"
     ]
    },
    {
     "name": "stdout",
     "output_type": "stream",
     "text": [
      "249749.yaml Mumbai India\n"
     ]
    },
    {
     "name": "stderr",
     "output_type": "stream",
     "text": [
      "\r",
      "  5%|██▏                                     | 114/2106 [02:01<34:50,  1.05s/it]"
     ]
    },
    {
     "name": "stdout",
     "output_type": "stream",
     "text": [
      "238169.yaml Bogra Bangladesh\n"
     ]
    },
    {
     "name": "stderr",
     "output_type": "stream",
     "text": [
      "\r",
      "  5%|██▏                                     | 115/2106 [02:02<34:28,  1.04s/it]"
     ]
    },
    {
     "name": "stdout",
     "output_type": "stream",
     "text": [
      "932865.yaml Barbados Barbados\n"
     ]
    },
    {
     "name": "stderr",
     "output_type": "stream",
     "text": [
      "\r",
      "  6%|██▏                                     | 116/2106 [02:03<36:20,  1.10s/it]"
     ]
    },
    {
     "name": "stdout",
     "output_type": "stream",
     "text": [
      "249231.yaml Melbourne Cricket Ground Australia\n"
     ]
    },
    {
     "name": "stderr",
     "output_type": "stream",
     "text": [
      "\r",
      "  6%|██▏                                     | 117/2106 [02:04<35:36,  1.07s/it]"
     ]
    },
    {
     "name": "stdout",
     "output_type": "stream",
     "text": [
      "1142924.yaml Bulawayo Zimbabwe\n"
     ]
    },
    {
     "name": "stderr",
     "output_type": "stream",
     "text": [
      "\r",
      "  6%|██▏                                     | 118/2106 [02:05<34:05,  1.03s/it]"
     ]
    },
    {
     "name": "stdout",
     "output_type": "stream",
     "text": [
      "433564.yaml Delhi India\n"
     ]
    },
    {
     "name": "stderr",
     "output_type": "stream",
     "text": [
      "\r",
      "  6%|██▎                                     | 119/2106 [02:06<37:05,  1.12s/it]"
     ]
    },
    {
     "name": "stdout",
     "output_type": "stream",
     "text": [
      "936165.yaml Cape Town South Africa\n"
     ]
    },
    {
     "name": "stderr",
     "output_type": "stream",
     "text": [
      "\r",
      "  6%|██▎                                     | 120/2106 [02:07<38:07,  1.15s/it]"
     ]
    },
    {
     "name": "stdout",
     "output_type": "stream",
     "text": [
      "218250.yaml Harare Sports Club Zimbabwe\n"
     ]
    },
    {
     "name": "stderr",
     "output_type": "stream",
     "text": [
      "\r",
      "  6%|██▎                                     | 121/2106 [02:08<36:50,  1.11s/it]"
     ]
    },
    {
     "name": "stdout",
     "output_type": "stream",
     "text": [
      "1133012.yaml Bulawayo Zimbabwe\n"
     ]
    },
    {
     "name": "stderr",
     "output_type": "stream",
     "text": [
      "\r",
      "  6%|██▎                                     | 122/2106 [02:10<37:57,  1.15s/it]"
     ]
    },
    {
     "name": "stdout",
     "output_type": "stream",
     "text": [
      "1272379.yaml Belfast United Kingdom\n"
     ]
    },
    {
     "name": "stderr",
     "output_type": "stream",
     "text": [
      "\r",
      "  6%|██▎                                     | 123/2106 [02:10<34:23,  1.04s/it]"
     ]
    },
    {
     "name": "stdout",
     "output_type": "stream",
     "text": [
      "1003271.yaml Edinburgh United Kingdom\n"
     ]
    },
    {
     "name": "stderr",
     "output_type": "stream",
     "text": [
      "\r",
      "  6%|██▎                                     | 124/2106 [02:11<34:30,  1.04s/it]"
     ]
    },
    {
     "name": "stdout",
     "output_type": "stream",
     "text": [
      "656491.yaml Auckland New Zealand\n"
     ]
    },
    {
     "name": "stderr",
     "output_type": "stream",
     "text": [
      "\r",
      "  6%|██▎                                     | 125/2106 [02:12<35:23,  1.07s/it]"
     ]
    },
    {
     "name": "stdout",
     "output_type": "stream",
     "text": [
      "455233.yaml Rangiri Dambulla International Stadium None\n"
     ]
    },
    {
     "name": "stderr",
     "output_type": "stream",
     "text": [
      "\r",
      "  6%|██▍                                     | 126/2106 [02:14<34:48,  1.05s/it]"
     ]
    },
    {
     "name": "stdout",
     "output_type": "stream",
     "text": [
      "597929.yaml Trinidad Trinidad and Tobago\n"
     ]
    },
    {
     "name": "stderr",
     "output_type": "stream",
     "text": [
      "\r",
      "  6%|██▍                                     | 127/2106 [02:15<34:29,  1.05s/it]"
     ]
    },
    {
     "name": "stdout",
     "output_type": "stream",
     "text": [
      "911049.yaml Dubai United Arab Emirates\n"
     ]
    },
    {
     "name": "stderr",
     "output_type": "stream",
     "text": [
      "\r",
      "  6%|██▍                                     | 128/2106 [02:16<37:17,  1.13s/it]"
     ]
    },
    {
     "name": "stdout",
     "output_type": "stream",
     "text": [
      "1022351.yaml London United Kingdom\n"
     ]
    },
    {
     "name": "stderr",
     "output_type": "stream",
     "text": [
      "\r",
      "  6%|██▍                                     | 129/2106 [02:17<37:13,  1.13s/it]"
     ]
    },
    {
     "name": "stdout",
     "output_type": "stream",
     "text": [
      "535799.yaml Mirpur Pakistan\n"
     ]
    },
    {
     "name": "stderr",
     "output_type": "stream",
     "text": [
      "\r",
      "  6%|██▍                                     | 130/2106 [02:18<36:10,  1.10s/it]"
     ]
    },
    {
     "name": "stdout",
     "output_type": "stream",
     "text": [
      "913661.yaml Cardiff United Kingdom\n"
     ]
    },
    {
     "name": "stderr",
     "output_type": "stream",
     "text": [
      "\r",
      "  6%|██▍                                     | 131/2106 [02:19<35:24,  1.08s/it]"
     ]
    },
    {
     "name": "stdout",
     "output_type": "stream",
     "text": [
      "64841.yaml Rawalpindi Pakistan\n"
     ]
    },
    {
     "name": "stderr",
     "output_type": "stream",
     "text": [
      "\r",
      "  6%|██▌                                     | 132/2106 [02:20<36:54,  1.12s/it]"
     ]
    },
    {
     "name": "stdout",
     "output_type": "stream",
     "text": [
      "503365.yaml Mirpur Pakistan\n"
     ]
    },
    {
     "name": "stderr",
     "output_type": "stream",
     "text": [
      "\r",
      "  6%|██▌                                     | 133/2106 [02:21<35:55,  1.09s/it]"
     ]
    },
    {
     "name": "stdout",
     "output_type": "stream",
     "text": [
      "392617.yaml Dubai Sports City Cricket Stadium United Arab Emirates\n"
     ]
    },
    {
     "name": "stderr",
     "output_type": "stream",
     "text": [
      "\r",
      "  6%|██▌                                     | 134/2106 [02:22<35:07,  1.07s/it]"
     ]
    },
    {
     "name": "stdout",
     "output_type": "stream",
     "text": [
      "439149.yaml Dominica Dominican Republic\n"
     ]
    },
    {
     "name": "stderr",
     "output_type": "stream",
     "text": [
      "\r",
      "  6%|██▌                                     | 135/2106 [02:24<36:47,  1.12s/it]"
     ]
    },
    {
     "name": "stdout",
     "output_type": "stream",
     "text": [
      "1252071.yaml North Sound United Kingdom\n"
     ]
    },
    {
     "name": "stderr",
     "output_type": "stream",
     "text": [
      "\r",
      "  6%|██▌                                     | 136/2106 [02:25<35:49,  1.09s/it]"
     ]
    },
    {
     "name": "stdout",
     "output_type": "stream",
     "text": [
      "1153845.yaml Christchurch New Zealand\n"
     ]
    },
    {
     "name": "stderr",
     "output_type": "stream",
     "text": [
      "\r",
      "  7%|██▌                                     | 137/2106 [02:26<35:08,  1.07s/it]"
     ]
    },
    {
     "name": "stdout",
     "output_type": "stream",
     "text": [
      "1302624.yaml Sharjah United Arab Emirates\n"
     ]
    },
    {
     "name": "stderr",
     "output_type": "stream",
     "text": [
      "\r",
      "  7%|██▌                                     | 138/2106 [02:27<36:42,  1.12s/it]"
     ]
    },
    {
     "name": "stdout",
     "output_type": "stream",
     "text": [
      "1144499.yaml Taunton United Kingdom\n"
     ]
    },
    {
     "name": "stderr",
     "output_type": "stream",
     "text": [
      "\r",
      "  7%|██▋                                     | 139/2106 [02:28<35:43,  1.09s/it]"
     ]
    },
    {
     "name": "stdout",
     "output_type": "stream",
     "text": [
      "426431.yaml London United Kingdom\n"
     ]
    },
    {
     "name": "stderr",
     "output_type": "stream",
     "text": [
      "\r",
      "  7%|██▋                                     | 140/2106 [02:29<35:03,  1.07s/it]"
     ]
    },
    {
     "name": "stdout",
     "output_type": "stream",
     "text": [
      "1294969.yaml Kandy Sri Lanka\n"
     ]
    },
    {
     "name": "stderr",
     "output_type": "stream",
     "text": [
      "\r",
      "  7%|██▋                                     | 141/2106 [02:30<35:35,  1.09s/it]"
     ]
    },
    {
     "name": "stdout",
     "output_type": "stream",
     "text": [
      "366624.yaml Hamilton Canada\n"
     ]
    },
    {
     "name": "stderr",
     "output_type": "stream",
     "text": [
      "\r",
      "  7%|██▋                                     | 142/2106 [02:31<34:57,  1.07s/it]"
     ]
    },
    {
     "name": "stdout",
     "output_type": "stream",
     "text": [
      "518969.yaml Adelaide Oval Australia\n"
     ]
    },
    {
     "name": "stderr",
     "output_type": "stream",
     "text": [
      "\r",
      "  7%|██▋                                     | 143/2106 [02:32<32:29,  1.01it/s]"
     ]
    },
    {
     "name": "stdout",
     "output_type": "stream",
     "text": [
      "296905.yaml Birmingham United Kingdom\n"
     ]
    },
    {
     "name": "stderr",
     "output_type": "stream",
     "text": [
      "\r",
      "  7%|██▋                                     | 144/2106 [02:33<32:47,  1.00s/it]"
     ]
    },
    {
     "name": "stdout",
     "output_type": "stream",
     "text": [
      "64840.yaml Faisalabad Pakistan\n"
     ]
    },
    {
     "name": "stderr",
     "output_type": "stream",
     "text": [
      "\r",
      "  7%|██▊                                     | 145/2106 [02:34<34:59,  1.07s/it]"
     ]
    },
    {
     "name": "stdout",
     "output_type": "stream",
     "text": [
      "474471.yaml Manchester United Kingdom\n"
     ]
    },
    {
     "name": "stderr",
     "output_type": "stream",
     "text": [
      "\r",
      "  7%|██▊                                     | 146/2106 [02:35<34:31,  1.06s/it]"
     ]
    },
    {
     "name": "stdout",
     "output_type": "stream",
     "text": [
      "1302349.yaml Amstelveen Netherlands\n"
     ]
    },
    {
     "name": "stderr",
     "output_type": "stream",
     "text": [
      "\r",
      "  7%|██▊                                     | 147/2106 [02:36<34:10,  1.05s/it]"
     ]
    },
    {
     "name": "stdout",
     "output_type": "stream",
     "text": [
      "659549.yaml Harare Sports Club Zimbabwe\n"
     ]
    },
    {
     "name": "stderr",
     "output_type": "stream",
     "text": [
      "\r",
      "  7%|██▊                                     | 148/2106 [02:37<34:56,  1.07s/it]"
     ]
    },
    {
     "name": "stdout",
     "output_type": "stream",
     "text": [
      "293078.yaml Belfast United Kingdom\n"
     ]
    },
    {
     "name": "stderr",
     "output_type": "stream",
     "text": [
      "\r",
      "  7%|██▊                                     | 149/2106 [02:38<34:28,  1.06s/it]"
     ]
    },
    {
     "name": "stdout",
     "output_type": "stream",
     "text": [
      "441829.yaml Ahmedabad India\n"
     ]
    },
    {
     "name": "stderr",
     "output_type": "stream",
     "text": [
      "\r",
      "  7%|██▊                                     | 150/2106 [02:39<34:07,  1.05s/it]"
     ]
    },
    {
     "name": "stdout",
     "output_type": "stream",
     "text": [
      "423795.yaml Wellington New Zealand\n"
     ]
    },
    {
     "name": "stderr",
     "output_type": "stream",
     "text": [
      "\r",
      "  7%|██▊                                     | 151/2106 [02:41<35:53,  1.10s/it]"
     ]
    },
    {
     "name": "stdout",
     "output_type": "stream",
     "text": [
      "474469.yaml London United Kingdom\n"
     ]
    },
    {
     "name": "stderr",
     "output_type": "stream",
     "text": [
      "\r",
      "  7%|██▉                                     | 152/2106 [02:42<35:07,  1.08s/it]"
     ]
    },
    {
     "name": "stdout",
     "output_type": "stream",
     "text": [
      "433579.yaml Chennai India\n"
     ]
    },
    {
     "name": "stderr",
     "output_type": "stream",
     "text": [
      "\r",
      "  7%|██▉                                     | 153/2106 [02:42<33:33,  1.03s/it]"
     ]
    },
    {
     "name": "stdout",
     "output_type": "stream",
     "text": [
      "812645.yaml Abu Dhabi United Arab Emirates\n"
     ]
    },
    {
     "name": "stderr",
     "output_type": "stream",
     "text": [
      "\r",
      "  7%|██▉                                     | 154/2106 [02:44<35:28,  1.09s/it]"
     ]
    },
    {
     "name": "stdout",
     "output_type": "stream",
     "text": [
      "65655.yaml Melbourne Australia\n"
     ]
    },
    {
     "name": "stderr",
     "output_type": "stream",
     "text": [
      "\r",
      "  7%|██▉                                     | 155/2106 [02:45<34:48,  1.07s/it]"
     ]
    },
    {
     "name": "stdout",
     "output_type": "stream",
     "text": [
      "1144509.yaml Leeds United Kingdom\n"
     ]
    },
    {
     "name": "stderr",
     "output_type": "stream",
     "text": [
      "\r",
      "  7%|██▉                                     | 156/2106 [02:46<34:20,  1.06s/it]"
     ]
    },
    {
     "name": "stdout",
     "output_type": "stream",
     "text": [
      "936161.yaml Durban South Africa\n"
     ]
    },
    {
     "name": "stderr",
     "output_type": "stream",
     "text": [
      "\r",
      "  7%|██▉                                     | 157/2106 [02:46<31:09,  1.04it/s]"
     ]
    },
    {
     "name": "stdout",
     "output_type": "stream",
     "text": [
      "66364.yaml Chennai India\n"
     ]
    },
    {
     "name": "stderr",
     "output_type": "stream",
     "text": [
      "\r",
      "  8%|███                                     | 158/2106 [02:48<33:37,  1.04s/it]"
     ]
    },
    {
     "name": "stdout",
     "output_type": "stream",
     "text": [
      "518962.yaml Brisbane Australia\n"
     ]
    },
    {
     "name": "stderr",
     "output_type": "stream",
     "text": [
      "\r",
      "  8%|███                                     | 159/2106 [02:49<33:30,  1.03s/it]"
     ]
    },
    {
     "name": "stdout",
     "output_type": "stream",
     "text": [
      "516208.yaml Hambantota Sri Lanka\n"
     ]
    },
    {
     "name": "stderr",
     "output_type": "stream",
     "text": [
      "\r",
      "  8%|███                                     | 160/2106 [02:50<33:23,  1.03s/it]"
     ]
    },
    {
     "name": "stdout",
     "output_type": "stream",
     "text": [
      "1206064.yaml Dubai United Arab Emirates\n"
     ]
    },
    {
     "name": "stderr",
     "output_type": "stream",
     "text": [
      "\r",
      "  8%|███                                     | 161/2106 [02:51<32:19,  1.00it/s]"
     ]
    },
    {
     "name": "stdout",
     "output_type": "stream",
     "text": [
      "1144503.yaml Cardiff United Kingdom\n"
     ]
    },
    {
     "name": "stderr",
     "output_type": "stream",
     "text": [
      "\r",
      "  8%|███                                     | 162/2106 [02:52<34:33,  1.07s/it]"
     ]
    },
    {
     "name": "stdout",
     "output_type": "stream",
     "text": [
      "66311.yaml London United Kingdom\n"
     ]
    },
    {
     "name": "stderr",
     "output_type": "stream",
     "text": [
      "\r",
      "  8%|███                                     | 163/2106 [02:53<34:07,  1.05s/it]"
     ]
    },
    {
     "name": "stdout",
     "output_type": "stream",
     "text": [
      "754751.yaml Sydney Cricket Ground Australia\n"
     ]
    },
    {
     "name": "stderr",
     "output_type": "stream",
     "text": [
      "\r",
      "  8%|███                                     | 164/2106 [02:54<33:49,  1.05s/it]"
     ]
    },
    {
     "name": "stdout",
     "output_type": "stream",
     "text": [
      "343734.yaml Colombo Sri Lanka\n"
     ]
    },
    {
     "name": "stderr",
     "output_type": "stream",
     "text": [
      "\r",
      "  8%|███▏                                    | 165/2106 [02:55<34:35,  1.07s/it]"
     ]
    },
    {
     "name": "stdout",
     "output_type": "stream",
     "text": [
      "211244.yaml London United Kingdom\n"
     ]
    },
    {
     "name": "stderr",
     "output_type": "stream",
     "text": [
      "\r",
      "  8%|███▏                                    | 166/2106 [02:56<34:08,  1.06s/it]"
     ]
    },
    {
     "name": "stdout",
     "output_type": "stream",
     "text": [
      "800477.yaml Cape Town South Africa\n"
     ]
    },
    {
     "name": "stderr",
     "output_type": "stream",
     "text": [
      "\r",
      "  8%|███▏                                    | 167/2106 [02:57<32:48,  1.02s/it]"
     ]
    },
    {
     "name": "stdout",
     "output_type": "stream",
     "text": [
      "1170454.yaml Dubai United Arab Emirates\n"
     ]
    },
    {
     "name": "stderr",
     "output_type": "stream",
     "text": [
      "\r",
      "  8%|███▏                                    | 168/2106 [02:58<31:53,  1.01it/s]"
     ]
    },
    {
     "name": "stdout",
     "output_type": "stream",
     "text": [
      "1325550.yaml Harare Zimbabwe\n"
     ]
    },
    {
     "name": "stderr",
     "output_type": "stream",
     "text": [
      "\r",
      "  8%|███▏                                    | 169/2106 [02:59<34:13,  1.06s/it]"
     ]
    },
    {
     "name": "stdout",
     "output_type": "stream",
     "text": [
      "567360.yaml Potchefstroom South Africa\n"
     ]
    },
    {
     "name": "stderr",
     "output_type": "stream",
     "text": [
      "\r",
      "  8%|███▏                                    | 170/2106 [03:00<33:51,  1.05s/it]"
     ]
    },
    {
     "name": "stdout",
     "output_type": "stream",
     "text": [
      "1124089.yaml Dubai United Arab Emirates\n"
     ]
    },
    {
     "name": "stderr",
     "output_type": "stream",
     "text": [
      "\r",
      "  8%|███▏                                    | 171/2106 [03:01<33:35,  1.04s/it]"
     ]
    },
    {
     "name": "stdout",
     "output_type": "stream",
     "text": [
      "589309.yaml Kolkata India\n"
     ]
    },
    {
     "name": "stderr",
     "output_type": "stream",
     "text": [
      "\r",
      "  8%|███▎                                    | 172/2106 [03:02<35:23,  1.10s/it]"
     ]
    },
    {
     "name": "stdout",
     "output_type": "stream",
     "text": [
      "345469.yaml Mirpur Pakistan\n"
     ]
    },
    {
     "name": "stderr",
     "output_type": "stream",
     "text": [
      "\r",
      "  8%|███▎                                    | 173/2106 [03:04<36:37,  1.14s/it]"
     ]
    },
    {
     "name": "stdout",
     "output_type": "stream",
     "text": [
      "258472.yaml Bristol United Kingdom\n"
     ]
    },
    {
     "name": "stderr",
     "output_type": "stream",
     "text": [
      "\r",
      "  8%|███▎                                    | 174/2106 [03:04<33:32,  1.04s/it]"
     ]
    },
    {
     "name": "stdout",
     "output_type": "stream",
     "text": [
      "750667.yaml Hambantota Sri Lanka\n"
     ]
    },
    {
     "name": "stderr",
     "output_type": "stream",
     "text": [
      "\r",
      "  8%|███▎                                    | 175/2106 [03:06<33:21,  1.04s/it]"
     ]
    },
    {
     "name": "stdout",
     "output_type": "stream",
     "text": [
      "258475.yaml Leeds United Kingdom\n"
     ]
    },
    {
     "name": "stderr",
     "output_type": "stream",
     "text": [
      "\r",
      "  8%|███▎                                    | 176/2106 [03:07<36:10,  1.12s/it]"
     ]
    },
    {
     "name": "stdout",
     "output_type": "stream",
     "text": [
      "1168119.yaml Dehra Dun India\n"
     ]
    },
    {
     "name": "stderr",
     "output_type": "stream",
     "text": [
      "\r",
      "  8%|███▎                                    | 177/2106 [03:08<36:10,  1.13s/it]"
     ]
    },
    {
     "name": "stdout",
     "output_type": "stream",
     "text": [
      "239919.yaml Trinidad Trinidad and Tobago\n"
     ]
    },
    {
     "name": "stderr",
     "output_type": "stream",
     "text": [
      "\r",
      "  8%|███▍                                    | 178/2106 [03:09<35:10,  1.09s/it]"
     ]
    },
    {
     "name": "stdout",
     "output_type": "stream",
     "text": [
      "1144504.yaml Manchester United Kingdom\n"
     ]
    },
    {
     "name": "stderr",
     "output_type": "stream",
     "text": [
      "\r",
      "  8%|███▍                                    | 179/2106 [03:10<36:27,  1.13s/it]"
     ]
    },
    {
     "name": "stdout",
     "output_type": "stream",
     "text": [
      "1322034.yaml Ayr United Kingdom\n"
     ]
    },
    {
     "name": "stderr",
     "output_type": "stream",
     "text": [
      "\r",
      "  9%|███▍                                    | 180/2106 [03:11<35:22,  1.10s/it]"
     ]
    },
    {
     "name": "stdout",
     "output_type": "stream",
     "text": [
      "636163.yaml Adelaide Oval Australia\n"
     ]
    },
    {
     "name": "stderr",
     "output_type": "stream",
     "text": [
      "\r",
      "  9%|███▍                                    | 181/2106 [03:12<34:35,  1.08s/it]"
     ]
    },
    {
     "name": "stdout",
     "output_type": "stream",
     "text": [
      "1198248.yaml Southampton United Kingdom\n"
     ]
    },
    {
     "name": "stderr",
     "output_type": "stream",
     "text": [
      "\r",
      "  9%|███▍                                    | 182/2106 [03:14<36:00,  1.12s/it]"
     ]
    },
    {
     "name": "stdout",
     "output_type": "stream",
     "text": [
      "1312807.yaml Pearland United States\n"
     ]
    },
    {
     "name": "stderr",
     "output_type": "stream",
     "text": [
      "\r",
      "  9%|███▍                                    | 183/2106 [03:14<34:04,  1.06s/it]"
     ]
    },
    {
     "name": "stdout",
     "output_type": "stream",
     "text": [
      "1125472.yaml Sharjah Cricket Stadium United Arab Emirates\n"
     ]
    },
    {
     "name": "stderr",
     "output_type": "stream",
     "text": [
      "\r",
      "  9%|███▍                                    | 184/2106 [03:15<33:40,  1.05s/it]"
     ]
    },
    {
     "name": "stdout",
     "output_type": "stream",
     "text": [
      "299010.yaml Lahore Pakistan\n"
     ]
    },
    {
     "name": "stderr",
     "output_type": "stream",
     "text": [
      "\r",
      "  9%|███▌                                    | 185/2106 [03:16<33:23,  1.04s/it]"
     ]
    },
    {
     "name": "stdout",
     "output_type": "stream",
     "text": [
      "750675.yaml Colombo Sri Lanka\n"
     ]
    },
    {
     "name": "stderr",
     "output_type": "stream",
     "text": [
      "\r",
      "  9%|███▌                                    | 186/2106 [03:18<35:09,  1.10s/it]"
     ]
    },
    {
     "name": "stdout",
     "output_type": "stream",
     "text": [
      "319134.yaml Trinidad Trinidad and Tobago\n"
     ]
    },
    {
     "name": "stderr",
     "output_type": "stream",
     "text": [
      "\r",
      "  9%|███▌                                    | 187/2106 [03:19<33:27,  1.05s/it]"
     ]
    },
    {
     "name": "stdout",
     "output_type": "stream",
     "text": [
      "1115802.yaml Wellington New Zealand\n"
     ]
    },
    {
     "name": "stderr",
     "output_type": "stream",
     "text": [
      "\r",
      "  9%|███▌                                    | 188/2106 [03:20<33:13,  1.04s/it]"
     ]
    },
    {
     "name": "stdout",
     "output_type": "stream",
     "text": [
      "267708.yaml Chennai India\n"
     ]
    },
    {
     "name": "stderr",
     "output_type": "stream",
     "text": [
      "\r",
      "  9%|███▌                                    | 189/2106 [03:21<34:01,  1.07s/it]"
     ]
    },
    {
     "name": "stdout",
     "output_type": "stream",
     "text": [
      "503364.yaml Mirpur Pakistan\n"
     ]
    },
    {
     "name": "stderr",
     "output_type": "stream",
     "text": [
      "\r",
      "  9%|███▌                                    | 190/2106 [03:22<33:37,  1.05s/it]"
     ]
    },
    {
     "name": "stdout",
     "output_type": "stream",
     "text": [
      "239916.yaml Jamaica Jamaica\n"
     ]
    },
    {
     "name": "stderr",
     "output_type": "stream",
     "text": [
      "\r",
      "  9%|███▋                                    | 191/2106 [03:23<34:18,  1.07s/it]"
     ]
    },
    {
     "name": "stdout",
     "output_type": "stream",
     "text": [
      "66368.yaml Pune India\n"
     ]
    },
    {
     "name": "stderr",
     "output_type": "stream",
     "text": [
      "\r",
      "  9%|███▋                                    | 192/2106 [03:24<35:46,  1.12s/it]"
     ]
    },
    {
     "name": "stdout",
     "output_type": "stream",
     "text": [
      "1040499.yaml Greater Noida India\n"
     ]
    },
    {
     "name": "stderr",
     "output_type": "stream",
     "text": [
      "\r",
      "  9%|███▋                                    | 193/2106 [03:25<34:48,  1.09s/it]"
     ]
    },
    {
     "name": "stdout",
     "output_type": "stream",
     "text": [
      "238170.yaml Chittagong Divisional Stadium None\n"
     ]
    },
    {
     "name": "stderr",
     "output_type": "stream",
     "text": [
      "\r",
      "  9%|███▋                                    | 194/2106 [03:26<34:09,  1.07s/it]"
     ]
    },
    {
     "name": "stdout",
     "output_type": "stream",
     "text": [
      "297803.yaml Kanpur India\n"
     ]
    },
    {
     "name": "stderr",
     "output_type": "stream",
     "text": [
      "\r",
      "  9%|███▋                                    | 195/2106 [03:27<35:37,  1.12s/it]"
     ]
    },
    {
     "name": "stdout",
     "output_type": "stream",
     "text": [
      "792297.yaml Ranchi India\n"
     ]
    },
    {
     "name": "stderr",
     "output_type": "stream",
     "text": [
      "\r",
      "  9%|███▋                                    | 196/2106 [03:28<33:42,  1.06s/it]"
     ]
    },
    {
     "name": "stdout",
     "output_type": "stream",
     "text": [
      "474467.yaml London United Kingdom\n"
     ]
    },
    {
     "name": "stderr",
     "output_type": "stream",
     "text": [
      "\r",
      "  9%|███▋                                    | 197/2106 [03:29<33:22,  1.05s/it]"
     ]
    },
    {
     "name": "stdout",
     "output_type": "stream",
     "text": [
      "406206.yaml Perth Australia\n"
     ]
    },
    {
     "name": "stderr",
     "output_type": "stream",
     "text": [
      "\r",
      "  9%|███▊                                    | 198/2106 [03:31<35:03,  1.10s/it]"
     ]
    },
    {
     "name": "stdout",
     "output_type": "stream",
     "text": [
      "473928.yaml Auckland New Zealand\n"
     ]
    },
    {
     "name": "stderr",
     "output_type": "stream",
     "text": [
      "\r",
      "  9%|███▊                                    | 199/2106 [03:32<36:15,  1.14s/it]"
     ]
    },
    {
     "name": "stdout",
     "output_type": "stream",
     "text": [
      "247477.yaml Jamaica Jamaica\n"
     ]
    },
    {
     "name": "stderr",
     "output_type": "stream",
     "text": [
      "\r",
      "  9%|███▊                                    | 200/2106 [03:33<35:07,  1.11s/it]"
     ]
    },
    {
     "name": "stdout",
     "output_type": "stream",
     "text": [
      "1275251.yaml Al Amarat Oman\n"
     ]
    },
    {
     "name": "stderr",
     "output_type": "stream",
     "text": [
      "\r",
      " 10%|███▊                                    | 201/2106 [03:34<34:19,  1.08s/it]"
     ]
    },
    {
     "name": "stdout",
     "output_type": "stream",
     "text": [
      "1252070.yaml North Sound United Kingdom\n"
     ]
    },
    {
     "name": "stderr",
     "output_type": "stream",
     "text": [
      "\r",
      " 10%|███▊                                    | 202/2106 [03:35<35:42,  1.13s/it]"
     ]
    },
    {
     "name": "stdout",
     "output_type": "stream",
     "text": [
      "415285.yaml Centurion South Africa\n"
     ]
    },
    {
     "name": "stderr",
     "output_type": "stream",
     "text": [
      "\r",
      " 10%|███▊                                    | 203/2106 [03:36<34:44,  1.10s/it]"
     ]
    },
    {
     "name": "stdout",
     "output_type": "stream",
     "text": [
      "211364.yaml Cardiff United Kingdom\n"
     ]
    },
    {
     "name": "stderr",
     "output_type": "stream",
     "text": [
      "\r",
      " 10%|███▊                                    | 204/2106 [03:37<34:01,  1.07s/it]"
     ]
    },
    {
     "name": "stdout",
     "output_type": "stream",
     "text": [
      "1144523.yaml Chester-le-Street United Kingdom\n"
     ]
    },
    {
     "name": "stderr",
     "output_type": "stream",
     "text": [
      "\r",
      " 10%|███▉                                    | 205/2106 [03:38<35:29,  1.12s/it]"
     ]
    },
    {
     "name": "stdout",
     "output_type": "stream",
     "text": [
      "441827.yaml Jaipur India\n"
     ]
    },
    {
     "name": "stderr",
     "output_type": "stream",
     "text": [
      "\r",
      " 10%|███▉                                    | 206/2106 [03:39<34:33,  1.09s/it]"
     ]
    },
    {
     "name": "stdout",
     "output_type": "stream",
     "text": [
      "743949.yaml Nottingham United Kingdom\n"
     ]
    },
    {
     "name": "stderr",
     "output_type": "stream",
     "text": [
      "\r",
      " 10%|███▉                                    | 207/2106 [03:40<33:53,  1.07s/it]"
     ]
    },
    {
     "name": "stdout",
     "output_type": "stream",
     "text": [
      "325803.yaml Faisalabad Pakistan\n"
     ]
    },
    {
     "name": "stderr",
     "output_type": "stream",
     "text": [
      "\r",
      " 10%|███▉                                    | 208/2106 [03:41<33:25,  1.06s/it]"
     ]
    },
    {
     "name": "stdout",
     "output_type": "stream",
     "text": [
      "1130740.yaml Dhaka Bangladesh\n"
     ]
    },
    {
     "name": "stderr",
     "output_type": "stream",
     "text": [
      "\r",
      " 10%|███▉                                    | 209/2106 [03:43<35:04,  1.11s/it]"
     ]
    },
    {
     "name": "stdout",
     "output_type": "stream",
     "text": [
      "1040491.yaml Greater Noida India\n"
     ]
    },
    {
     "name": "stderr",
     "output_type": "stream",
     "text": [
      "\r",
      " 10%|███▉                                    | 210/2106 [03:44<32:16,  1.02s/it]"
     ]
    },
    {
     "name": "stdout",
     "output_type": "stream",
     "text": [
      "66200.yaml Southampton United Kingdom\n"
     ]
    },
    {
     "name": "stderr",
     "output_type": "stream",
     "text": [
      "\r",
      " 10%|████                                    | 211/2106 [03:44<31:18,  1.01it/s]"
     ]
    },
    {
     "name": "stdout",
     "output_type": "stream",
     "text": [
      "538069.yaml Mirpur Pakistan\n"
     ]
    },
    {
     "name": "stderr",
     "output_type": "stream",
     "text": [
      "\r",
      " 10%|████                                    | 212/2106 [03:45<31:36,  1.00s/it]"
     ]
    },
    {
     "name": "stdout",
     "output_type": "stream",
     "text": [
      "648653.yaml Durban South Africa\n"
     ]
    },
    {
     "name": "stderr",
     "output_type": "stream",
     "text": [
      "\r",
      " 10%|████                                    | 213/2106 [03:47<33:45,  1.07s/it]"
     ]
    },
    {
     "name": "stdout",
     "output_type": "stream",
     "text": [
      "1098209.yaml Antigua Antigua and Barbuda\n"
     ]
    },
    {
     "name": "stderr",
     "output_type": "stream",
     "text": [
      "\r",
      " 10%|████                                    | 214/2106 [03:48<33:18,  1.06s/it]"
     ]
    },
    {
     "name": "stdout",
     "output_type": "stream",
     "text": [
      "225246.yaml London United Kingdom\n"
     ]
    },
    {
     "name": "stderr",
     "output_type": "stream",
     "text": [
      "\r",
      " 10%|████                                    | 215/2106 [03:49<32:00,  1.02s/it]"
     ]
    },
    {
     "name": "stdout",
     "output_type": "stream",
     "text": [
      "1239534.yaml Chester-le-Street United Kingdom\n"
     ]
    },
    {
     "name": "stderr",
     "output_type": "stream",
     "text": [
      "\r",
      " 10%|████                                    | 216/2106 [03:50<32:04,  1.02s/it]"
     ]
    },
    {
     "name": "stdout",
     "output_type": "stream",
     "text": [
      "727939.yaml Dublin Ireland\n"
     ]
    },
    {
     "name": "stderr",
     "output_type": "stream",
     "text": [
      "\r",
      " 10%|████                                    | 217/2106 [03:51<34:02,  1.08s/it]"
     ]
    },
    {
     "name": "stdout",
     "output_type": "stream",
     "text": [
      "913625.yaml Birmingham United Kingdom\n"
     ]
    },
    {
     "name": "stderr",
     "output_type": "stream",
     "text": [
      "\r",
      " 10%|████▏                                   | 218/2106 [03:52<33:28,  1.06s/it]"
     ]
    },
    {
     "name": "stdout",
     "output_type": "stream",
     "text": [
      "335349.yaml Karachi Pakistan\n"
     ]
    },
    {
     "name": "stderr",
     "output_type": "stream",
     "text": [
      "\r",
      " 10%|████▏                                   | 219/2106 [03:53<33:05,  1.05s/it]"
     ]
    },
    {
     "name": "stdout",
     "output_type": "stream",
     "text": [
      "456663.yaml Rangiri Dambulla International Stadium None\n"
     ]
    },
    {
     "name": "stderr",
     "output_type": "stream",
     "text": [
      "\r",
      " 10%|████▏                                   | 220/2106 [03:54<34:44,  1.11s/it]"
     ]
    },
    {
     "name": "stdout",
     "output_type": "stream",
     "text": [
      "1000887.yaml Brisbane Australia\n"
     ]
    },
    {
     "name": "stderr",
     "output_type": "stream",
     "text": [
      "\r",
      " 10%|████▏                                   | 221/2106 [03:55<33:57,  1.08s/it]"
     ]
    },
    {
     "name": "stdout",
     "output_type": "stream",
     "text": [
      "656453.yaml Perth Australia\n"
     ]
    },
    {
     "name": "stderr",
     "output_type": "stream",
     "text": [
      "\r",
      " 11%|████▏                                   | 222/2106 [03:56<33:24,  1.06s/it]"
     ]
    },
    {
     "name": "stdout",
     "output_type": "stream",
     "text": [
      "66207.yaml Birmingham United Kingdom\n"
     ]
    },
    {
     "name": "stderr",
     "output_type": "stream",
     "text": [
      "\r",
      " 11%|████▏                                   | 223/2106 [03:57<34:56,  1.11s/it]"
     ]
    },
    {
     "name": "stdout",
     "output_type": "stream",
     "text": [
      "249239.yaml Brisbane Australia\n"
     ]
    },
    {
     "name": "stderr",
     "output_type": "stream",
     "text": [
      "\r",
      " 11%|████▎                                   | 224/2106 [03:58<34:04,  1.09s/it]"
     ]
    },
    {
     "name": "stdout",
     "output_type": "stream",
     "text": [
      "1233461.yaml Rawalpindi Cricket Stadium Pakistan\n"
     ]
    },
    {
     "name": "stderr",
     "output_type": "stream",
     "text": [
      "\r",
      " 11%|████▎                                   | 225/2106 [03:59<33:28,  1.07s/it]"
     ]
    },
    {
     "name": "stdout",
     "output_type": "stream",
     "text": [
      "247468.yaml Trinidad Trinidad and Tobago\n"
     ]
    },
    {
     "name": "stderr",
     "output_type": "stream",
     "text": [
      "\r",
      " 11%|████▎                                   | 226/2106 [04:01<33:02,  1.05s/it]"
     ]
    },
    {
     "name": "stdout",
     "output_type": "stream",
     "text": [
      "1133017.yaml Bulawayo Zimbabwe\n"
     ]
    },
    {
     "name": "stderr",
     "output_type": "stream",
     "text": [
      "\r",
      " 11%|████▎                                   | 227/2106 [04:02<34:39,  1.11s/it]"
     ]
    },
    {
     "name": "stdout",
     "output_type": "stream",
     "text": [
      "64872.yaml Dunedin New Zealand\n"
     ]
    },
    {
     "name": "stderr",
     "output_type": "stream",
     "text": [
      "\r",
      " 11%|████▎                                   | 228/2106 [04:03<31:56,  1.02s/it]"
     ]
    },
    {
     "name": "stdout",
     "output_type": "stream",
     "text": [
      "1239536.yaml Bristol United Kingdom\n"
     ]
    },
    {
     "name": "stderr",
     "output_type": "stream",
     "text": [
      "\r",
      " 11%|████▎                                   | 229/2106 [04:04<31:57,  1.02s/it]"
     ]
    },
    {
     "name": "stdout",
     "output_type": "stream",
     "text": [
      "1317479.yaml Cairns Australia\n"
     ]
    },
    {
     "name": "stderr",
     "output_type": "stream",
     "text": [
      "\r",
      " 11%|████▎                                   | 230/2106 [04:05<31:57,  1.02s/it]"
     ]
    },
    {
     "name": "stdout",
     "output_type": "stream",
     "text": [
      "597927.yaml Trinidad Trinidad and Tobago\n"
     ]
    },
    {
     "name": "stderr",
     "output_type": "stream",
     "text": [
      "\r",
      " 11%|████▍                                   | 231/2106 [04:06<33:52,  1.08s/it]"
     ]
    },
    {
     "name": "stdout",
     "output_type": "stream",
     "text": [
      "749773.yaml Mount Maunganui New Zealand\n"
     ]
    },
    {
     "name": "stderr",
     "output_type": "stream",
     "text": [
      "\r",
      " 11%|████▍                                   | 232/2106 [04:07<33:17,  1.07s/it]"
     ]
    },
    {
     "name": "stdout",
     "output_type": "stream",
     "text": [
      "415286.yaml Johannesburg South Africa\n"
     ]
    },
    {
     "name": "stderr",
     "output_type": "stream",
     "text": [
      "\r",
      " 11%|████▍                                   | 233/2106 [04:08<29:59,  1.04it/s]"
     ]
    },
    {
     "name": "stdout",
     "output_type": "stream",
     "text": [
      "325576.yaml Belfast United Kingdom\n"
     ]
    },
    {
     "name": "stderr",
     "output_type": "stream",
     "text": [
      "\r",
      " 11%|████▍                                   | 234/2106 [04:09<31:32,  1.01s/it]"
     ]
    },
    {
     "name": "stdout",
     "output_type": "stream",
     "text": [
      "1214668.yaml Sylhet Bangladesh\n"
     ]
    },
    {
     "name": "stderr",
     "output_type": "stream",
     "text": [
      "\r",
      " 11%|████▍                                   | 235/2106 [04:10<34:31,  1.11s/it]"
     ]
    },
    {
     "name": "stdout",
     "output_type": "stream",
     "text": [
      "351688.yaml Perth Australia\n"
     ]
    },
    {
     "name": "stderr",
     "output_type": "stream",
     "text": [
      "\r",
      " 11%|████▍                                   | 236/2106 [04:11<34:41,  1.11s/it]"
     ]
    },
    {
     "name": "stdout",
     "output_type": "stream",
     "text": [
      "1187022.yaml Visakhapatnam India\n"
     ]
    },
    {
     "name": "stderr",
     "output_type": "stream",
     "text": [
      "\r",
      " 11%|████▌                                   | 237/2106 [04:12<33:50,  1.09s/it]"
     ]
    },
    {
     "name": "stdout",
     "output_type": "stream",
     "text": [
      "1262756.yaml Colombo Sri Lanka\n"
     ]
    },
    {
     "name": "stderr",
     "output_type": "stream",
     "text": [
      "\r",
      " 11%|████▌                                   | 238/2106 [04:13<35:08,  1.13s/it]"
     ]
    },
    {
     "name": "stdout",
     "output_type": "stream",
     "text": [
      "1299588.yaml Al Amarat Oman\n"
     ]
    },
    {
     "name": "stderr",
     "output_type": "stream",
     "text": [
      "\r",
      " 11%|████▌                                   | 239/2106 [04:15<35:06,  1.13s/it]"
     ]
    },
    {
     "name": "stdout",
     "output_type": "stream",
     "text": [
      "289108.yaml Chennai India\n"
     ]
    },
    {
     "name": "stderr",
     "output_type": "stream",
     "text": [
      "\r",
      " 11%|████▌                                   | 240/2106 [04:16<34:06,  1.10s/it]"
     ]
    },
    {
     "name": "stdout",
     "output_type": "stream",
     "text": [
      "1153695.yaml Wellington New Zealand\n"
     ]
    },
    {
     "name": "stderr",
     "output_type": "stream",
     "text": [
      "\r",
      " 11%|████▌                                   | 241/2106 [04:17<35:19,  1.14s/it]"
     ]
    },
    {
     "name": "stdout",
     "output_type": "stream",
     "text": [
      "64942.yaml Kanpur India\n"
     ]
    },
    {
     "name": "stderr",
     "output_type": "stream",
     "text": [
      "\r",
      " 11%|████▌                                   | 242/2106 [04:18<34:15,  1.10s/it]"
     ]
    },
    {
     "name": "stdout",
     "output_type": "stream",
     "text": [
      "64927.yaml East London South Africa\n"
     ]
    },
    {
     "name": "stderr",
     "output_type": "stream",
     "text": [
      "\r",
      " 12%|████▌                                   | 243/2106 [04:19<33:30,  1.08s/it]"
     ]
    },
    {
     "name": "stdout",
     "output_type": "stream",
     "text": [
      "249228.yaml Hobart Australia\n"
     ]
    },
    {
     "name": "stderr",
     "output_type": "stream",
     "text": [
      "\r",
      " 12%|████▋                                   | 244/2106 [04:20<35:50,  1.15s/it]"
     ]
    },
    {
     "name": "stdout",
     "output_type": "stream",
     "text": [
      "903593.yaml Kanpur India\n"
     ]
    },
    {
     "name": "stderr",
     "output_type": "stream",
     "text": [
      "\r",
      " 12%|████▋                                   | 245/2106 [04:21<35:33,  1.15s/it]"
     ]
    },
    {
     "name": "stdout",
     "output_type": "stream",
     "text": [
      "1075505.yaml Paarl South Africa\n"
     ]
    },
    {
     "name": "stderr",
     "output_type": "stream",
     "text": [
      "\r",
      " 12%|████▋                                   | 246/2106 [04:22<33:26,  1.08s/it]"
     ]
    },
    {
     "name": "stdout",
     "output_type": "stream",
     "text": [
      "489217.yaml Guyana Guyana\n"
     ]
    },
    {
     "name": "stderr",
     "output_type": "stream",
     "text": [
      "\r",
      " 12%|████▋                                   | 247/2106 [04:23<32:55,  1.06s/it]"
     ]
    },
    {
     "name": "stdout",
     "output_type": "stream",
     "text": [
      "267712.yaml Rajkot India\n"
     ]
    },
    {
     "name": "stderr",
     "output_type": "stream",
     "text": [
      "\r",
      " 12%|████▋                                   | 248/2106 [04:24<34:26,  1.11s/it]"
     ]
    },
    {
     "name": "stdout",
     "output_type": "stream",
     "text": [
      "571145.yaml Sharjah Cricket Stadium United Arab Emirates\n"
     ]
    },
    {
     "name": "stderr",
     "output_type": "stream",
     "text": [
      "\r",
      " 12%|████▋                                   | 249/2106 [04:25<31:42,  1.02s/it]"
     ]
    },
    {
     "name": "stdout",
     "output_type": "stream",
     "text": [
      "749785.yaml Auckland New Zealand\n"
     ]
    },
    {
     "name": "stderr",
     "output_type": "stream",
     "text": [
      "\r",
      " 12%|████▋                                   | 250/2106 [04:26<31:31,  1.02s/it]"
     ]
    },
    {
     "name": "stdout",
     "output_type": "stream",
     "text": [
      "569240.yaml Hamilton Canada\n"
     ]
    },
    {
     "name": "stderr",
     "output_type": "stream",
     "text": [
      "\r",
      " 12%|████▊                                   | 251/2106 [04:27<31:42,  1.03s/it]"
     ]
    },
    {
     "name": "stdout",
     "output_type": "stream",
     "text": [
      "403380.yaml Colombo Sri Lanka\n"
     ]
    },
    {
     "name": "stderr",
     "output_type": "stream",
     "text": [
      "\r",
      " 12%|████▊                                   | 252/2106 [04:28<32:37,  1.06s/it]"
     ]
    },
    {
     "name": "stdout",
     "output_type": "stream",
     "text": [
      "1213873.yaml Kandy Sri Lanka\n"
     ]
    },
    {
     "name": "stderr",
     "output_type": "stream",
     "text": [
      "\r",
      " 12%|████▊                                   | 253/2106 [04:30<33:15,  1.08s/it]"
     ]
    },
    {
     "name": "stdout",
     "output_type": "stream",
     "text": [
      "209339.yaml Trinidad Trinidad and Tobago\n"
     ]
    },
    {
     "name": "stderr",
     "output_type": "stream",
     "text": [
      "\r",
      " 12%|████▊                                   | 254/2106 [04:31<32:45,  1.06s/it]"
     ]
    },
    {
     "name": "stdout",
     "output_type": "stream",
     "text": [
      "434262.yaml Mirpur Pakistan\n"
     ]
    },
    {
     "name": "stderr",
     "output_type": "stream",
     "text": [
      "\r",
      " 12%|████▊                                   | 255/2106 [04:32<33:20,  1.08s/it]"
     ]
    },
    {
     "name": "stdout",
     "output_type": "stream",
     "text": [
      "1022373.yaml Birmingham United Kingdom\n"
     ]
    },
    {
     "name": "stderr",
     "output_type": "stream",
     "text": [
      "\r",
      " 12%|████▊                                   | 256/2106 [04:33<32:48,  1.06s/it]"
     ]
    },
    {
     "name": "stdout",
     "output_type": "stream",
     "text": [
      "423783.yaml Napier New Zealand\n"
     ]
    },
    {
     "name": "stderr",
     "output_type": "stream",
     "text": [
      "\r",
      " 12%|████▉                                   | 257/2106 [04:34<34:18,  1.11s/it]"
     ]
    },
    {
     "name": "stdout",
     "output_type": "stream",
     "text": [
      "710291.yaml Fatullah Bangladesh\n"
     ]
    },
    {
     "name": "stderr",
     "output_type": "stream",
     "text": [
      "\r",
      " 12%|████▉                                   | 258/2106 [04:35<33:27,  1.09s/it]"
     ]
    },
    {
     "name": "stdout",
     "output_type": "stream",
     "text": [
      "406205.yaml Perth Australia\n"
     ]
    },
    {
     "name": "stderr",
     "output_type": "stream",
     "text": [
      "\r",
      " 12%|████▉                                   | 259/2106 [04:36<32:52,  1.07s/it]"
     ]
    },
    {
     "name": "stdout",
     "output_type": "stream",
     "text": [
      "66206.yaml London United Kingdom\n"
     ]
    },
    {
     "name": "stderr",
     "output_type": "stream",
     "text": [
      "\r",
      " 12%|████▉                                   | 260/2106 [04:37<34:20,  1.12s/it]"
     ]
    },
    {
     "name": "stdout",
     "output_type": "stream",
     "text": [
      "238189.yaml Faridabad India\n"
     ]
    },
    {
     "name": "stderr",
     "output_type": "stream",
     "text": [
      "\r",
      " 12%|████▉                                   | 261/2106 [04:38<33:28,  1.09s/it]"
     ]
    },
    {
     "name": "stdout",
     "output_type": "stream",
     "text": [
      "1168118.yaml Dehra Dun India\n"
     ]
    },
    {
     "name": "stderr",
     "output_type": "stream",
     "text": [
      "\r",
      " 12%|████▉                                   | 262/2106 [04:39<32:51,  1.07s/it]"
     ]
    },
    {
     "name": "stdout",
     "output_type": "stream",
     "text": [
      "259793.yaml East London South Africa\n"
     ]
    },
    {
     "name": "stderr",
     "output_type": "stream",
     "text": [
      "\r",
      " 12%|████▉                                   | 263/2106 [04:41<34:18,  1.12s/it]"
     ]
    },
    {
     "name": "stdout",
     "output_type": "stream",
     "text": [
      "736511.yaml Kuala Lumpur Malaysia\n"
     ]
    },
    {
     "name": "stderr",
     "output_type": "stream",
     "text": [
      "\r",
      " 13%|█████                                   | 264/2106 [04:41<31:32,  1.03s/it]"
     ]
    },
    {
     "name": "stdout",
     "output_type": "stream",
     "text": [
      "667893.yaml Manchester United Kingdom\n"
     ]
    },
    {
     "name": "stderr",
     "output_type": "stream",
     "text": [
      "\r",
      " 13%|█████                                   | 265/2106 [04:42<31:29,  1.03s/it]"
     ]
    },
    {
     "name": "stdout",
     "output_type": "stream",
     "text": [
      "1302623.yaml Sharjah United Arab Emirates\n"
     ]
    },
    {
     "name": "stderr",
     "output_type": "stream",
     "text": [
      "\r",
      " 13%|█████                                   | 266/2106 [04:43<31:27,  1.03s/it]"
     ]
    },
    {
     "name": "stdout",
     "output_type": "stream",
     "text": [
      "1223957.yaml Canberra Australia\n"
     ]
    },
    {
     "name": "stderr",
     "output_type": "stream",
     "text": [
      "\r",
      " 13%|█████                                   | 267/2106 [04:44<31:25,  1.03s/it]"
     ]
    },
    {
     "name": "stdout",
     "output_type": "stream",
     "text": [
      "66203.yaml Southampton United Kingdom\n"
     ]
    },
    {
     "name": "stderr",
     "output_type": "stream",
     "text": [
      "\r",
      " 13%|█████                                   | 268/2106 [04:46<33:17,  1.09s/it]"
     ]
    },
    {
     "name": "stdout",
     "output_type": "stream",
     "text": [
      "247482.yaml Guyana Guyana\n"
     ]
    },
    {
     "name": "stderr",
     "output_type": "stream",
     "text": [
      "\r",
      " 13%|█████                                   | 269/2106 [04:47<32:41,  1.07s/it]"
     ]
    },
    {
     "name": "stdout",
     "output_type": "stream",
     "text": [
      "1271627.yaml Colombo Sri Lanka\n"
     ]
    },
    {
     "name": "stderr",
     "output_type": "stream",
     "text": [
      "\r",
      " 13%|█████▏                                  | 270/2106 [04:48<33:12,  1.09s/it]"
     ]
    },
    {
     "name": "stdout",
     "output_type": "stream",
     "text": [
      "467885.yaml Vadodara India\n"
     ]
    },
    {
     "name": "stderr",
     "output_type": "stream",
     "text": [
      "\r",
      " 13%|█████▏                                  | 271/2106 [04:49<34:30,  1.13s/it]"
     ]
    },
    {
     "name": "stdout",
     "output_type": "stream",
     "text": [
      "257769.yaml Faisalabad Pakistan\n"
     ]
    },
    {
     "name": "stderr",
     "output_type": "stream",
     "text": [
      "\r",
      " 13%|█████▏                                  | 272/2106 [04:50<33:32,  1.10s/it]"
     ]
    },
    {
     "name": "stdout",
     "output_type": "stream",
     "text": [
      "868729.yaml Lahore Pakistan\n"
     ]
    },
    {
     "name": "stderr",
     "output_type": "stream",
     "text": [
      "\r",
      " 13%|█████▏                                  | 273/2106 [04:51<32:50,  1.07s/it]"
     ]
    },
    {
     "name": "stdout",
     "output_type": "stream",
     "text": [
      "361045.yaml Kanpur India\n"
     ]
    },
    {
     "name": "stderr",
     "output_type": "stream",
     "text": [
      "\r",
      " 13%|█████▏                                  | 274/2106 [04:52<31:24,  1.03s/it]"
     ]
    },
    {
     "name": "stdout",
     "output_type": "stream",
     "text": [
      "1022359.yaml Birmingham United Kingdom\n"
     ]
    },
    {
     "name": "stderr",
     "output_type": "stream",
     "text": [
      "\r",
      " 13%|█████▏                                  | 275/2106 [04:53<33:13,  1.09s/it]"
     ]
    },
    {
     "name": "stdout",
     "output_type": "stream",
     "text": [
      "439140.yaml Guyana Guyana\n"
     ]
    },
    {
     "name": "stderr",
     "output_type": "stream",
     "text": [
      "\r",
      " 13%|█████▏                                  | 276/2106 [04:54<30:44,  1.01s/it]"
     ]
    },
    {
     "name": "stdout",
     "output_type": "stream",
     "text": [
      "1004283.yaml Edinburgh United Kingdom\n"
     ]
    },
    {
     "name": "stderr",
     "output_type": "stream",
     "text": [
      "\r",
      " 13%|█████▎                                  | 277/2106 [04:55<30:52,  1.01s/it]"
     ]
    },
    {
     "name": "stdout",
     "output_type": "stream",
     "text": [
      "1153249.yaml Dubai International Cricket Stadium United Arab Emirates\n"
     ]
    },
    {
     "name": "stderr",
     "output_type": "stream",
     "text": [
      "\r",
      " 13%|█████▎                                  | 278/2106 [04:56<29:04,  1.05it/s]"
     ]
    },
    {
     "name": "stdout",
     "output_type": "stream",
     "text": [
      "64898.yaml St George's Grenada\n"
     ]
    },
    {
     "name": "stderr",
     "output_type": "stream",
     "text": [
      "\r",
      " 13%|█████▎                                  | 279/2106 [04:57<32:30,  1.07s/it]"
     ]
    },
    {
     "name": "stdout",
     "output_type": "stream",
     "text": [
      "325569.yaml King City United States\n"
     ]
    },
    {
     "name": "stderr",
     "output_type": "stream",
     "text": [
      "\r",
      " 13%|█████▎                                  | 280/2106 [04:58<32:41,  1.07s/it]"
     ]
    },
    {
     "name": "stdout",
     "output_type": "stream",
     "text": [
      "450379.yaml Amstelveen Netherlands\n"
     ]
    },
    {
     "name": "stderr",
     "output_type": "stream",
     "text": [
      "\r",
      " 13%|█████▎                                  | 281/2106 [04:59<32:39,  1.07s/it]"
     ]
    },
    {
     "name": "stdout",
     "output_type": "stream",
     "text": [
      "426384.yaml Dublin Ireland\n"
     ]
    },
    {
     "name": "stderr",
     "output_type": "stream",
     "text": [
      "\r",
      " 13%|█████▎                                  | 282/2106 [05:00<32:05,  1.06s/it]"
     ]
    },
    {
     "name": "stdout",
     "output_type": "stream",
     "text": [
      "64843.yaml Chattogram Bangladesh\n"
     ]
    },
    {
     "name": "stderr",
     "output_type": "stream",
     "text": [
      "\r",
      " 13%|█████▍                                  | 283/2106 [05:03<47:38,  1.57s/it]"
     ]
    },
    {
     "name": "stdout",
     "output_type": "stream",
     "text": [
      "749795.yaml Wellington New Zealand\n"
     ]
    },
    {
     "name": "stderr",
     "output_type": "stream",
     "text": [
      "\r",
      " 13%|█████▍                                  | 284/2106 [05:04<42:40,  1.41s/it]"
     ]
    },
    {
     "name": "stdout",
     "output_type": "stream",
     "text": [
      "1310944.yaml Harare Zimbabwe\n"
     ]
    },
    {
     "name": "stderr",
     "output_type": "stream",
     "text": [
      "\r",
      " 14%|█████▍                                  | 285/2106 [05:05<39:10,  1.29s/it]"
     ]
    },
    {
     "name": "stdout",
     "output_type": "stream",
     "text": [
      "247486.yaml Guyana Guyana\n"
     ]
    },
    {
     "name": "stderr",
     "output_type": "stream",
     "text": [
      "\r",
      " 14%|█████▍                                  | 286/2106 [05:06<38:35,  1.27s/it]"
     ]
    },
    {
     "name": "stdout",
     "output_type": "stream",
     "text": [
      "649093.yaml Dubai International Cricket Stadium United Arab Emirates\n"
     ]
    },
    {
     "name": "stderr",
     "output_type": "stream",
     "text": [
      "\r",
      " 14%|█████▍                                  | 287/2106 [05:07<36:18,  1.20s/it]"
     ]
    },
    {
     "name": "stdout",
     "output_type": "stream",
     "text": [
      "1150146.yaml Belfast United Kingdom\n"
     ]
    },
    {
     "name": "stderr",
     "output_type": "stream",
     "text": [
      "\r",
      " 14%|█████▍                                  | 288/2106 [05:09<34:42,  1.15s/it]"
     ]
    },
    {
     "name": "stdout",
     "output_type": "stream",
     "text": [
      "696759.yaml Christchurch New Zealand\n"
     ]
    },
    {
     "name": "stderr",
     "output_type": "stream",
     "text": [
      "\r",
      " 14%|█████▍                                  | 289/2106 [05:10<33:35,  1.11s/it]"
     ]
    },
    {
     "name": "stdout",
     "output_type": "stream",
     "text": [
      "1115776.yaml Mount Maunganui New Zealand\n"
     ]
    },
    {
     "name": "stderr",
     "output_type": "stream",
     "text": [
      "\r",
      " 14%|█████▌                                  | 290/2106 [05:11<33:43,  1.11s/it]"
     ]
    },
    {
     "name": "stdout",
     "output_type": "stream",
     "text": [
      "1122282.yaml Johannesburg South Africa\n"
     ]
    },
    {
     "name": "stderr",
     "output_type": "stream",
     "text": [
      "\r",
      " 14%|█████▌                                  | 291/2106 [05:12<32:53,  1.09s/it]"
     ]
    },
    {
     "name": "stdout",
     "output_type": "stream",
     "text": [
      "1188378.yaml Deventer Netherlands\n"
     ]
    },
    {
     "name": "stderr",
     "output_type": "stream",
     "text": [
      "\r",
      " 14%|█████▌                                  | 292/2106 [05:13<30:29,  1.01s/it]"
     ]
    },
    {
     "name": "stdout",
     "output_type": "stream",
     "text": [
      "817207.yaml Mirpur Pakistan\n"
     ]
    },
    {
     "name": "stderr",
     "output_type": "stream",
     "text": [
      "\r",
      " 14%|█████▌                                  | 293/2106 [05:14<30:33,  1.01s/it]"
     ]
    },
    {
     "name": "stdout",
     "output_type": "stream",
     "text": [
      "296904.yaml Chester-le-Street United Kingdom\n"
     ]
    },
    {
     "name": "stderr",
     "output_type": "stream",
     "text": [
      "\r",
      " 14%|█████▌                                  | 294/2106 [05:15<32:30,  1.08s/it]"
     ]
    },
    {
     "name": "stdout",
     "output_type": "stream",
     "text": [
      "1327510.yaml Ranchi India\n"
     ]
    },
    {
     "name": "stderr",
     "output_type": "stream",
     "text": [
      "\r",
      " 14%|█████▌                                  | 295/2106 [05:16<32:00,  1.06s/it]"
     ]
    },
    {
     "name": "stdout",
     "output_type": "stream",
     "text": [
      "351690.yaml Melbourne Cricket Ground Australia\n"
     ]
    },
    {
     "name": "stderr",
     "output_type": "stream",
     "text": [
      "\r",
      " 14%|█████▌                                  | 296/2106 [05:17<30:44,  1.02s/it]"
     ]
    },
    {
     "name": "stdout",
     "output_type": "stream",
     "text": [
      "64845.yaml Dhaka Bangladesh\n"
     ]
    },
    {
     "name": "stderr",
     "output_type": "stream",
     "text": [
      "\r",
      " 14%|█████▋                                  | 297/2106 [05:18<30:46,  1.02s/it]"
     ]
    },
    {
     "name": "stdout",
     "output_type": "stream",
     "text": [
      "345471.yaml Mirpur Pakistan\n"
     ]
    },
    {
     "name": "stderr",
     "output_type": "stream",
     "text": [
      "\r",
      " 14%|█████▋                                  | 298/2106 [05:19<31:42,  1.05s/it]"
     ]
    },
    {
     "name": "stdout",
     "output_type": "stream",
     "text": [
      "415284.yaml Johannesburg South Africa\n"
     ]
    },
    {
     "name": "stderr",
     "output_type": "stream",
     "text": [
      "\r",
      " 14%|█████▋                                  | 299/2106 [05:20<31:26,  1.04s/it]"
     ]
    },
    {
     "name": "stdout",
     "output_type": "stream",
     "text": [
      "1199227.yaml Lauderhill United States\n"
     ]
    },
    {
     "name": "stderr",
     "output_type": "stream",
     "text": [
      "\r",
      " 14%|█████▋                                  | 300/2106 [05:21<33:05,  1.10s/it]"
     ]
    },
    {
     "name": "stdout",
     "output_type": "stream",
     "text": [
      "238179.yaml Auckland New Zealand\n"
     ]
    },
    {
     "name": "stderr",
     "output_type": "stream",
     "text": [
      "\r",
      " 14%|█████▋                                  | 301/2106 [05:22<35:09,  1.17s/it]"
     ]
    },
    {
     "name": "stdout",
     "output_type": "stream",
     "text": [
      "578616.yaml Birmingham United Kingdom\n"
     ]
    },
    {
     "name": "stderr",
     "output_type": "stream",
     "text": [
      "\r",
      " 14%|█████▋                                  | 302/2106 [05:23<33:50,  1.13s/it]"
     ]
    },
    {
     "name": "stdout",
     "output_type": "stream",
     "text": [
      "685731.yaml Cape Town South Africa\n"
     ]
    },
    {
     "name": "stderr",
     "output_type": "stream",
     "text": [
      "\r",
      " 14%|█████▊                                  | 303/2106 [05:24<32:54,  1.09s/it]"
     ]
    },
    {
     "name": "stdout",
     "output_type": "stream",
     "text": [
      "1310943.yaml Harare Zimbabwe\n"
     ]
    },
    {
     "name": "stderr",
     "output_type": "stream",
     "text": [
      "\r",
      " 14%|█████▊                                  | 304/2106 [05:26<32:14,  1.07s/it]"
     ]
    },
    {
     "name": "stdout",
     "output_type": "stream",
     "text": [
      "997965.yaml Belfast United Kingdom\n"
     ]
    },
    {
     "name": "stderr",
     "output_type": "stream",
     "text": [
      "\r",
      " 14%|█████▊                                  | 305/2106 [05:27<34:32,  1.15s/it]"
     ]
    },
    {
     "name": "stdout",
     "output_type": "stream",
     "text": [
      "64850.yaml Lahore Pakistan\n"
     ]
    },
    {
     "name": "stderr",
     "output_type": "stream",
     "text": [
      "\r",
      " 15%|█████▊                                  | 306/2106 [05:28<33:22,  1.11s/it]"
     ]
    },
    {
     "name": "stdout",
     "output_type": "stream",
     "text": [
      "1153247.yaml Dubai International Cricket Stadium United Arab Emirates\n"
     ]
    },
    {
     "name": "stderr",
     "output_type": "stream",
     "text": [
      "\r",
      " 15%|█████▊                                  | 307/2106 [05:29<32:34,  1.09s/it]"
     ]
    },
    {
     "name": "stdout",
     "output_type": "stream",
     "text": [
      "476599.yaml Mirpur Pakistan\n"
     ]
    },
    {
     "name": "stderr",
     "output_type": "stream",
     "text": [
      "\r",
      " 15%|█████▊                                  | 308/2106 [05:30<31:59,  1.07s/it]"
     ]
    },
    {
     "name": "stdout",
     "output_type": "stream",
     "text": [
      "64913.yaml Bulawayo Zimbabwe\n"
     ]
    },
    {
     "name": "stderr",
     "output_type": "stream",
     "text": [
      "\r",
      " 15%|█████▊                                  | 309/2106 [05:31<33:25,  1.12s/it]"
     ]
    },
    {
     "name": "stdout",
     "output_type": "stream",
     "text": [
      "423784.yaml Dunedin New Zealand\n"
     ]
    },
    {
     "name": "stderr",
     "output_type": "stream",
     "text": [
      "\r",
      " 15%|█████▉                                  | 310/2106 [05:32<32:34,  1.09s/it]"
     ]
    },
    {
     "name": "stdout",
     "output_type": "stream",
     "text": [
      "860277.yaml Hambantota Sri Lanka\n"
     ]
    },
    {
     "name": "stderr",
     "output_type": "stream",
     "text": [
      "\r",
      " 15%|█████▉                                  | 311/2106 [05:33<31:58,  1.07s/it]"
     ]
    },
    {
     "name": "stdout",
     "output_type": "stream",
     "text": [
      "433565.yaml Nagpur India\n"
     ]
    },
    {
     "name": "stderr",
     "output_type": "stream",
     "text": [
      "\r",
      " 15%|█████▉                                  | 312/2106 [05:34<31:33,  1.06s/it]"
     ]
    },
    {
     "name": "stdout",
     "output_type": "stream",
     "text": [
      "1158069.yaml St George's Grenada\n"
     ]
    },
    {
     "name": "stderr",
     "output_type": "stream",
     "text": [
      "\r",
      " 15%|█████▉                                  | 313/2106 [05:35<33:05,  1.11s/it]"
     ]
    },
    {
     "name": "stdout",
     "output_type": "stream",
     "text": [
      "1315040.yaml Multan Pakistan\n"
     ]
    },
    {
     "name": "stderr",
     "output_type": "stream",
     "text": [
      "\r",
      " 15%|█████▉                                  | 314/2106 [05:36<32:19,  1.08s/it]"
     ]
    },
    {
     "name": "stdout",
     "output_type": "stream",
     "text": [
      "722341.yaml Johannesburg South Africa\n"
     ]
    },
    {
     "name": "stderr",
     "output_type": "stream",
     "text": [
      "\r",
      " 15%|█████▉                                  | 315/2106 [05:37<31:47,  1.07s/it]"
     ]
    },
    {
     "name": "stdout",
     "output_type": "stream",
     "text": [
      "247489.yaml Antigua Antigua and Barbuda\n"
     ]
    },
    {
     "name": "stderr",
     "output_type": "stream",
     "text": [
      "\r",
      " 15%|██████                                  | 316/2106 [05:39<33:14,  1.11s/it]"
     ]
    },
    {
     "name": "stdout",
     "output_type": "stream",
     "text": [
      "727919.yaml Sharjah Cricket Stadium United Arab Emirates\n"
     ]
    },
    {
     "name": "stderr",
     "output_type": "stream",
     "text": [
      "\r",
      " 15%|██████                                  | 317/2106 [05:40<32:24,  1.09s/it]"
     ]
    },
    {
     "name": "stdout",
     "output_type": "stream",
     "text": [
      "1187029.yaml Bengaluru India\n"
     ]
    },
    {
     "name": "stderr",
     "output_type": "stream",
     "text": [
      "\r",
      " 15%|██████                                  | 318/2106 [05:40<29:14,  1.02it/s]"
     ]
    },
    {
     "name": "stdout",
     "output_type": "stream",
     "text": [
      "474478.yaml Southampton United Kingdom\n"
     ]
    },
    {
     "name": "stderr",
     "output_type": "stream",
     "text": [
      "\r",
      " 15%|██████                                  | 319/2106 [05:41<29:26,  1.01it/s]"
     ]
    },
    {
     "name": "stdout",
     "output_type": "stream",
     "text": [
      "208835.yaml Jamaica Jamaica\n"
     ]
    },
    {
     "name": "stderr",
     "output_type": "stream",
     "text": [
      "\r",
      " 15%|██████                                  | 320/2106 [05:43<31:34,  1.06s/it]"
     ]
    },
    {
     "name": "stdout",
     "output_type": "stream",
     "text": [
      "1198239.yaml Manchester United Kingdom\n"
     ]
    },
    {
     "name": "stderr",
     "output_type": "stream",
     "text": [
      "\r",
      " 15%|██████                                  | 321/2106 [05:44<31:14,  1.05s/it]"
     ]
    },
    {
     "name": "stdout",
     "output_type": "stream",
     "text": [
      "247481.yaml Antigua Antigua and Barbuda\n"
     ]
    },
    {
     "name": "stderr",
     "output_type": "stream",
     "text": [
      "\r",
      " 15%|██████                                  | 322/2106 [05:45<29:53,  1.01s/it]"
     ]
    },
    {
     "name": "stdout",
     "output_type": "stream",
     "text": [
      "456665.yaml Rangiri Dambulla International Stadium None\n"
     ]
    },
    {
     "name": "stderr",
     "output_type": "stream",
     "text": [
      "\r",
      " 15%|██████▏                                 | 323/2106 [05:46<30:13,  1.02s/it]"
     ]
    },
    {
     "name": "stdout",
     "output_type": "stream",
     "text": [
      "401075.yaml St Kitts Saint Kitts and Nevis\n"
     ]
    },
    {
     "name": "stderr",
     "output_type": "stream",
     "text": [
      "\r",
      " 15%|██████▏                                 | 324/2106 [05:47<32:05,  1.08s/it]"
     ]
    },
    {
     "name": "stdout",
     "output_type": "stream",
     "text": [
      "434264.yaml Mirpur Pakistan\n"
     ]
    },
    {
     "name": "stderr",
     "output_type": "stream",
     "text": [
      "\r",
      " 15%|██████▏                                 | 325/2106 [05:48<31:33,  1.06s/it]"
     ]
    },
    {
     "name": "stdout",
     "output_type": "stream",
     "text": [
      "1317476.yaml Townsville Australia\n"
     ]
    },
    {
     "name": "stderr",
     "output_type": "stream",
     "text": [
      "\r",
      " 15%|██████▏                                 | 326/2106 [05:49<30:17,  1.02s/it]"
     ]
    },
    {
     "name": "stdout",
     "output_type": "stream",
     "text": [
      "602476.yaml Pallekele International Cricket Stadium Sri Lanka\n"
     ]
    },
    {
     "name": "stderr",
     "output_type": "stream",
     "text": [
      "\r",
      " 16%|██████▏                                 | 327/2106 [05:50<30:17,  1.02s/it]"
     ]
    },
    {
     "name": "stdout",
     "output_type": "stream",
     "text": [
      "426403.yaml Nottingham United Kingdom\n"
     ]
    },
    {
     "name": "stderr",
     "output_type": "stream",
     "text": [
      "\r",
      " 16%|██████▏                                 | 328/2106 [05:51<31:12,  1.05s/it]"
     ]
    },
    {
     "name": "stdout",
     "output_type": "stream",
     "text": [
      "1122280.yaml Centurion South Africa\n"
     ]
    },
    {
     "name": "stderr",
     "output_type": "stream",
     "text": [
      "\r",
      " 16%|██████▏                                 | 329/2106 [05:52<30:56,  1.04s/it]"
     ]
    },
    {
     "name": "stdout",
     "output_type": "stream",
     "text": [
      "65664.yaml Perth Australia\n"
     ]
    },
    {
     "name": "stderr",
     "output_type": "stream",
     "text": [
      "\r",
      " 16%|██████▎                                 | 330/2106 [05:53<30:44,  1.04s/it]"
     ]
    },
    {
     "name": "stdout",
     "output_type": "stream",
     "text": [
      "226376.yaml Melbourne Australia\n"
     ]
    },
    {
     "name": "stderr",
     "output_type": "stream",
     "text": [
      "\r",
      " 16%|██████▎                                 | 331/2106 [05:54<30:35,  1.03s/it]"
     ]
    },
    {
     "name": "stdout",
     "output_type": "stream",
     "text": [
      "645635.yaml Guyana Guyana\n"
     ]
    },
    {
     "name": "stderr",
     "output_type": "stream",
     "text": [
      "\r",
      " 16%|██████▎                                 | 332/2106 [05:55<33:12,  1.12s/it]"
     ]
    },
    {
     "name": "stdout",
     "output_type": "stream",
     "text": [
      "249739.yaml Chandigarh India\n"
     ]
    },
    {
     "name": "stderr",
     "output_type": "stream",
     "text": [
      "\r",
      " 16%|██████▎                                 | 333/2106 [05:56<32:18,  1.09s/it]"
     ]
    },
    {
     "name": "stdout",
     "output_type": "stream",
     "text": [
      "433560.yaml Hambantota Sri Lanka\n"
     ]
    },
    {
     "name": "stderr",
     "output_type": "stream",
     "text": [
      "\r",
      " 16%|██████▎                                 | 334/2106 [05:57<31:40,  1.07s/it]"
     ]
    },
    {
     "name": "stdout",
     "output_type": "stream",
     "text": [
      "534231.yaml London United Kingdom\n"
     ]
    },
    {
     "name": "stderr",
     "output_type": "stream",
     "text": [
      "\r",
      " 16%|██████▎                                 | 335/2106 [05:59<33:02,  1.12s/it]"
     ]
    },
    {
     "name": "stdout",
     "output_type": "stream",
     "text": [
      "66198.yaml Southampton United Kingdom\n"
     ]
    },
    {
     "name": "stderr",
     "output_type": "stream",
     "text": [
      "\r",
      " 16%|██████▍                                 | 336/2106 [06:00<33:05,  1.12s/it]"
     ]
    },
    {
     "name": "stdout",
     "output_type": "stream",
     "text": [
      "319145.yaml Grenada Grenada\n"
     ]
    },
    {
     "name": "stderr",
     "output_type": "stream",
     "text": [
      "\r",
      " 16%|██████▍                                 | 337/2106 [06:01<32:12,  1.09s/it]"
     ]
    },
    {
     "name": "stdout",
     "output_type": "stream",
     "text": [
      "810833.yaml Dubai International Cricket Stadium United Arab Emirates\n"
     ]
    },
    {
     "name": "stderr",
     "output_type": "stream",
     "text": [
      "\r",
      " 16%|██████▍                                 | 338/2106 [06:02<33:23,  1.13s/it]"
     ]
    },
    {
     "name": "stdout",
     "output_type": "stream",
     "text": [
      "247469.yaml Jamaica Jamaica\n"
     ]
    },
    {
     "name": "stderr",
     "output_type": "stream",
     "text": [
      "\r",
      " 16%|██████▍                                 | 339/2106 [06:03<34:14,  1.16s/it]"
     ]
    },
    {
     "name": "stdout",
     "output_type": "stream",
     "text": [
      "64849.yaml Harare Zimbabwe\n"
     ]
    },
    {
     "name": "stderr",
     "output_type": "stream",
     "text": [
      "\r",
      " 16%|██████▍                                 | 340/2106 [06:04<32:04,  1.09s/it]"
     ]
    },
    {
     "name": "stdout",
     "output_type": "stream",
     "text": [
      "383275.yaml Belfast United Kingdom\n"
     ]
    },
    {
     "name": "stderr",
     "output_type": "stream",
     "text": [
      "\r",
      " 16%|██████▍                                 | 341/2106 [06:05<31:28,  1.07s/it]"
     ]
    },
    {
     "name": "stdout",
     "output_type": "stream",
     "text": [
      "522246.yaml Harare Sports Club Zimbabwe\n"
     ]
    },
    {
     "name": "stderr",
     "output_type": "stream",
     "text": [
      "\r",
      " 16%|██████▍                                 | 342/2106 [06:06<31:02,  1.06s/it]"
     ]
    },
    {
     "name": "stdout",
     "output_type": "stream",
     "text": [
      "1031673.yaml London United Kingdom\n"
     ]
    },
    {
     "name": "stderr",
     "output_type": "stream",
     "text": [
      "\r",
      " 16%|██████▌                                 | 343/2106 [06:08<33:27,  1.14s/it]"
     ]
    },
    {
     "name": "stdout",
     "output_type": "stream",
     "text": [
      "249230.yaml Perth Australia\n"
     ]
    },
    {
     "name": "stderr",
     "output_type": "stream",
     "text": [
      "\r",
      " 16%|██████▌                                 | 344/2106 [06:09<33:20,  1.14s/it]"
     ]
    },
    {
     "name": "stdout",
     "output_type": "stream",
     "text": [
      "1133031.yaml Harare Sports Club Zimbabwe\n"
     ]
    },
    {
     "name": "stderr",
     "output_type": "stream",
     "text": [
      "\r",
      " 16%|██████▌                                 | 345/2106 [06:10<31:25,  1.07s/it]"
     ]
    },
    {
     "name": "stdout",
     "output_type": "stream",
     "text": [
      "656483.yaml Sydney Cricket Ground Australia\n"
     ]
    },
    {
     "name": "stderr",
     "output_type": "stream",
     "text": [
      "\r",
      " 16%|██████▌                                 | 346/2106 [06:10<29:11,  1.00it/s]"
     ]
    },
    {
     "name": "stdout",
     "output_type": "stream",
     "text": [
      "1079249.yaml Harare Sports Club Zimbabwe\n"
     ]
    },
    {
     "name": "stderr",
     "output_type": "stream",
     "text": [
      "\r",
      " 16%|██████▌                                 | 347/2106 [06:12<32:08,  1.10s/it]"
     ]
    },
    {
     "name": "stdout",
     "output_type": "stream",
     "text": [
      "238173.yaml Chittagong Divisional Stadium None\n"
     ]
    },
    {
     "name": "stderr",
     "output_type": "stream",
     "text": [
      "\r",
      " 17%|██████▌                                 | 348/2106 [06:13<30:35,  1.04s/it]"
     ]
    },
    {
     "name": "stdout",
     "output_type": "stream",
     "text": [
      "463145.yaml Benoni South Africa\n"
     ]
    },
    {
     "name": "stderr",
     "output_type": "stream",
     "text": [
      "\r",
      " 17%|██████▋                                 | 349/2106 [06:14<30:23,  1.04s/it]"
     ]
    },
    {
     "name": "stdout",
     "output_type": "stream",
     "text": [
      "749793.yaml Wellington New Zealand\n"
     ]
    },
    {
     "name": "stderr",
     "output_type": "stream",
     "text": [
      "\r",
      " 17%|██████▋                                 | 350/2106 [06:15<30:15,  1.03s/it]"
     ]
    },
    {
     "name": "stdout",
     "output_type": "stream",
     "text": [
      "476600.yaml Mirpur Pakistan\n"
     ]
    },
    {
     "name": "stderr",
     "output_type": "stream",
     "text": [
      "\r",
      " 17%|██████▋                                 | 351/2106 [06:16<31:57,  1.09s/it]"
     ]
    },
    {
     "name": "stdout",
     "output_type": "stream",
     "text": [
      "760791.yaml Mirpur Pakistan\n"
     ]
    },
    {
     "name": "stderr",
     "output_type": "stream",
     "text": [
      "\r",
      " 17%|██████▋                                 | 352/2106 [06:17<31:19,  1.07s/it]"
     ]
    },
    {
     "name": "stdout",
     "output_type": "stream",
     "text": [
      "249236.yaml Hobart Australia\n"
     ]
    },
    {
     "name": "stderr",
     "output_type": "stream",
     "text": [
      "\r",
      " 17%|██████▋                                 | 353/2106 [06:18<30:53,  1.06s/it]"
     ]
    },
    {
     "name": "stdout",
     "output_type": "stream",
     "text": [
      "953341.yaml Sharjah Cricket Stadium United Arab Emirates\n"
     ]
    },
    {
     "name": "stderr",
     "output_type": "stream",
     "text": [
      "\r",
      " 17%|██████▋                                 | 354/2106 [06:19<30:34,  1.05s/it]"
     ]
    },
    {
     "name": "stdout",
     "output_type": "stream",
     "text": [
      "1251573.yaml Johannesburg South Africa\n"
     ]
    },
    {
     "name": "stderr",
     "output_type": "stream",
     "text": [
      "\r",
      " 17%|██████▋                                 | 355/2106 [06:20<32:09,  1.10s/it]"
     ]
    },
    {
     "name": "stdout",
     "output_type": "stream",
     "text": [
      "406196.yaml Melbourne Cricket Ground Australia\n"
     ]
    },
    {
     "name": "stderr",
     "output_type": "stream",
     "text": [
      "\r",
      " 17%|██████▊                                 | 356/2106 [06:21<31:27,  1.08s/it]"
     ]
    },
    {
     "name": "stdout",
     "output_type": "stream",
     "text": [
      "656459.yaml Napier New Zealand\n"
     ]
    },
    {
     "name": "stderr",
     "output_type": "stream",
     "text": [
      "\r",
      " 17%|██████▊                                 | 357/2106 [06:22<30:37,  1.05s/it]"
     ]
    },
    {
     "name": "stdout",
     "output_type": "stream",
     "text": [
      "237571.yaml Karachi Pakistan\n"
     ]
    },
    {
     "name": "stderr",
     "output_type": "stream",
     "text": [
      "\r",
      " 17%|██████▊                                 | 358/2106 [06:23<30:42,  1.05s/it]"
     ]
    },
    {
     "name": "stdout",
     "output_type": "stream",
     "text": [
      "1277085.yaml Kingston Jamaica\n"
     ]
    },
    {
     "name": "stderr",
     "output_type": "stream",
     "text": [
      "\r",
      " 17%|██████▊                                 | 359/2106 [06:25<33:06,  1.14s/it]"
     ]
    },
    {
     "name": "stdout",
     "output_type": "stream",
     "text": [
      "1267679.yaml Harare Zimbabwe\n"
     ]
    },
    {
     "name": "stderr",
     "output_type": "stream",
     "text": [
      "\r",
      " 17%|██████▊                                 | 360/2106 [06:26<31:02,  1.07s/it]"
     ]
    },
    {
     "name": "stdout",
     "output_type": "stream",
     "text": [
      "259389.yaml Benoni South Africa\n"
     ]
    },
    {
     "name": "stderr",
     "output_type": "stream",
     "text": [
      "\r",
      " 17%|██████▊                                 | 361/2106 [06:27<29:55,  1.03s/it]"
     ]
    },
    {
     "name": "stdout",
     "output_type": "stream",
     "text": [
      "291361.yaml Sydney Cricket Ground Australia\n"
     ]
    },
    {
     "name": "stderr",
     "output_type": "stream",
     "text": [
      "\r",
      " 17%|██████▉                                 | 362/2106 [06:28<29:51,  1.03s/it]"
     ]
    },
    {
     "name": "stdout",
     "output_type": "stream",
     "text": [
      "64855.yaml Rawalpindi Pakistan\n"
     ]
    },
    {
     "name": "stderr",
     "output_type": "stream",
     "text": [
      "\r",
      " 17%|██████▉                                 | 363/2106 [06:29<32:29,  1.12s/it]"
     ]
    },
    {
     "name": "stdout",
     "output_type": "stream",
     "text": [
      "1317154.yaml Providence United States\n"
     ]
    },
    {
     "name": "stderr",
     "output_type": "stream",
     "text": [
      "\r",
      " 17%|██████▉                                 | 364/2106 [06:30<31:39,  1.09s/it]"
     ]
    },
    {
     "name": "stdout",
     "output_type": "stream",
     "text": [
      "518957.yaml Perth Australia\n"
     ]
    },
    {
     "name": "stderr",
     "output_type": "stream",
     "text": [
      "\r",
      " 17%|██████▉                                 | 365/2106 [06:31<31:03,  1.07s/it]"
     ]
    },
    {
     "name": "stdout",
     "output_type": "stream",
     "text": [
      "514037.yaml Bloemfontein South Africa\n"
     ]
    },
    {
     "name": "stderr",
     "output_type": "stream",
     "text": [
      "\r",
      " 17%|██████▉                                 | 366/2106 [06:32<29:44,  1.03s/it]"
     ]
    },
    {
     "name": "stdout",
     "output_type": "stream",
     "text": [
      "914231.yaml Auckland New Zealand\n"
     ]
    },
    {
     "name": "stderr",
     "output_type": "stream",
     "text": [
      "\r",
      " 17%|██████▉                                 | 367/2106 [06:33<32:24,  1.12s/it]"
     ]
    },
    {
     "name": "stdout",
     "output_type": "stream",
     "text": [
      "64910.yaml Harare Zimbabwe\n"
     ]
    },
    {
     "name": "stderr",
     "output_type": "stream",
     "text": [
      "\r",
      " 17%|██████▉                                 | 368/2106 [06:34<31:32,  1.09s/it]"
     ]
    },
    {
     "name": "stdout",
     "output_type": "stream",
     "text": [
      "1119538.yaml Cardiff United Kingdom\n"
     ]
    },
    {
     "name": "stderr",
     "output_type": "stream",
     "text": [
      "\r",
      " 18%|███████                                 | 369/2106 [06:35<30:57,  1.07s/it]"
     ]
    },
    {
     "name": "stdout",
     "output_type": "stream",
     "text": [
      "1233462.yaml Rawalpindi Cricket Stadium Pakistan\n"
     ]
    },
    {
     "name": "stderr",
     "output_type": "stream",
     "text": [
      "\r",
      " 18%|███████                                 | 370/2106 [06:36<32:19,  1.12s/it]"
     ]
    },
    {
     "name": "stdout",
     "output_type": "stream",
     "text": [
      "1174844.yaml Windhoek Namibia\n"
     ]
    },
    {
     "name": "stderr",
     "output_type": "stream",
     "text": [
      "\r",
      " 18%|███████                                 | 371/2106 [06:38<34:10,  1.18s/it]"
     ]
    },
    {
     "name": "stdout",
     "output_type": "stream",
     "text": [
      "656481.yaml Adelaide Oval Australia\n"
     ]
    },
    {
     "name": "stderr",
     "output_type": "stream",
     "text": [
      "\r",
      " 18%|███████                                 | 372/2106 [06:39<33:40,  1.17s/it]"
     ]
    },
    {
     "name": "stdout",
     "output_type": "stream",
     "text": [
      "1050227.yaml Abu Dhabi United Arab Emirates\n"
     ]
    },
    {
     "name": "stderr",
     "output_type": "stream",
     "text": [
      "\r",
      " 18%|███████                                 | 373/2106 [06:40<32:25,  1.12s/it]"
     ]
    },
    {
     "name": "stdout",
     "output_type": "stream",
     "text": [
      "403382.yaml Colombo Sri Lanka\n"
     ]
    },
    {
     "name": "stderr",
     "output_type": "stream",
     "text": [
      "\r",
      " 18%|███████                                 | 374/2106 [06:41<30:40,  1.06s/it]"
     ]
    },
    {
     "name": "stdout",
     "output_type": "stream",
     "text": [
      "744679.yaml Mirpur Pakistan\n"
     ]
    },
    {
     "name": "stderr",
     "output_type": "stream",
     "text": [
      "\r",
      " 18%|███████                                 | 375/2106 [06:42<32:58,  1.14s/it]"
     ]
    },
    {
     "name": "stdout",
     "output_type": "stream",
     "text": [
      "223902.yaml Pune India\n"
     ]
    },
    {
     "name": "stderr",
     "output_type": "stream",
     "text": [
      "\r",
      " 18%|███████▏                                | 376/2106 [06:43<32:48,  1.14s/it]"
     ]
    },
    {
     "name": "stdout",
     "output_type": "stream",
     "text": [
      "297801.yaml Guwahati India\n"
     ]
    },
    {
     "name": "stderr",
     "output_type": "stream",
     "text": [
      "\r",
      " 18%|███████▏                                | 377/2106 [06:44<31:28,  1.09s/it]"
     ]
    },
    {
     "name": "stdout",
     "output_type": "stream",
     "text": [
      "656427.yaml Canberra Australia\n"
     ]
    },
    {
     "name": "stderr",
     "output_type": "stream",
     "text": [
      "\r",
      " 18%|███████▏                                | 378/2106 [06:45<31:12,  1.08s/it]"
     ]
    },
    {
     "name": "stdout",
     "output_type": "stream",
     "text": [
      "1115775.yaml Hamilton Canada\n"
     ]
    },
    {
     "name": "stderr",
     "output_type": "stream",
     "text": [
      "\r",
      " 18%|███████▏                                | 379/2106 [06:47<32:27,  1.13s/it]"
     ]
    },
    {
     "name": "stdout",
     "output_type": "stream",
     "text": [
      "385749.yaml Karachi Pakistan\n"
     ]
    },
    {
     "name": "stderr",
     "output_type": "stream",
     "text": [
      "\r",
      " 18%|███████▏                                | 380/2106 [06:48<31:31,  1.10s/it]"
     ]
    },
    {
     "name": "stdout",
     "output_type": "stream",
     "text": [
      "1142921.yaml Bulawayo Zimbabwe\n"
     ]
    },
    {
     "name": "stderr",
     "output_type": "stream",
     "text": [
      "\r",
      " 18%|███████▏                                | 381/2106 [06:49<30:53,  1.07s/it]"
     ]
    },
    {
     "name": "stdout",
     "output_type": "stream",
     "text": [
      "760793.yaml Mirpur Pakistan\n"
     ]
    },
    {
     "name": "stderr",
     "output_type": "stream",
     "text": [
      "\r",
      " 18%|███████▎                                | 382/2106 [06:50<30:26,  1.06s/it]"
     ]
    },
    {
     "name": "stdout",
     "output_type": "stream",
     "text": [
      "535794.yaml Mirpur Pakistan\n"
     ]
    },
    {
     "name": "stderr",
     "output_type": "stream",
     "text": [
      "\r",
      " 18%|███████▎                                | 383/2106 [06:51<32:45,  1.14s/it]"
     ]
    },
    {
     "name": "stdout",
     "output_type": "stream",
     "text": [
      "455235.yaml Rangiri Dambulla International Stadium None\n"
     ]
    },
    {
     "name": "stderr",
     "output_type": "stream",
     "text": [
      "\r",
      " 18%|███████▎                                | 384/2106 [06:52<32:36,  1.14s/it]"
     ]
    },
    {
     "name": "stdout",
     "output_type": "stream",
     "text": [
      "1115805.yaml Hamilton Canada\n"
     ]
    },
    {
     "name": "stderr",
     "output_type": "stream",
     "text": [
      "\r",
      " 18%|███████▎                                | 385/2106 [06:53<31:37,  1.10s/it]"
     ]
    },
    {
     "name": "stdout",
     "output_type": "stream",
     "text": [
      "226377.yaml Melbourne Australia\n"
     ]
    },
    {
     "name": "stderr",
     "output_type": "stream",
     "text": [
      "\r",
      " 18%|███████▎                                | 386/2106 [06:54<33:34,  1.17s/it]"
     ]
    },
    {
     "name": "stdout",
     "output_type": "stream",
     "text": [
      "1168512.yaml Dublin Ireland\n"
     ]
    },
    {
     "name": "stderr",
     "output_type": "stream",
     "text": [
      "\r",
      " 18%|███████▎                                | 387/2106 [06:56<33:10,  1.16s/it]"
     ]
    },
    {
     "name": "stdout",
     "output_type": "stream",
     "text": [
      "566942.yaml Manchester United Kingdom\n"
     ]
    },
    {
     "name": "stderr",
     "output_type": "stream",
     "text": [
      "\r",
      " 18%|███████▎                                | 388/2106 [06:56<28:28,  1.01it/s]"
     ]
    },
    {
     "name": "stdout",
     "output_type": "stream",
     "text": [
      "377316.yaml St Lucia Saint Lucia\n"
     ]
    },
    {
     "name": "stderr",
     "output_type": "stream",
     "text": [
      "\r",
      " 18%|███████▍                                | 389/2106 [06:57<28:43,  1.00s/it]"
     ]
    },
    {
     "name": "stdout",
     "output_type": "stream",
     "text": [
      "226386.yaml Hobart Australia\n"
     ]
    },
    {
     "name": "stderr",
     "output_type": "stream",
     "text": [
      "\r",
      " 19%|███████▍                                | 390/2106 [06:58<28:52,  1.01s/it]"
     ]
    },
    {
     "name": "stdout",
     "output_type": "stream",
     "text": [
      "343759.yaml Lahore Pakistan\n"
     ]
    },
    {
     "name": "stderr",
     "output_type": "stream",
     "text": [
      "\r",
      " 19%|███████▍                                | 391/2106 [07:00<31:37,  1.11s/it]"
     ]
    },
    {
     "name": "stdout",
     "output_type": "stream",
     "text": [
      "597924.yaml Jamaica Jamaica\n"
     ]
    },
    {
     "name": "stderr",
     "output_type": "stream",
     "text": [
      "\r",
      " 19%|███████▍                                | 392/2106 [07:01<31:46,  1.11s/it]"
     ]
    },
    {
     "name": "stdout",
     "output_type": "stream",
     "text": [
      "1000891.yaml Perth Australia\n"
     ]
    },
    {
     "name": "stderr",
     "output_type": "stream",
     "text": [
      "\r",
      " 19%|███████▍                                | 393/2106 [07:02<30:59,  1.09s/it]"
     ]
    },
    {
     "name": "stdout",
     "output_type": "stream",
     "text": [
      "997967.yaml Belfast United Kingdom\n"
     ]
    },
    {
     "name": "stderr",
     "output_type": "stream",
     "text": [
      "\r",
      " 19%|███████▍                                | 394/2106 [07:03<29:35,  1.04s/it]"
     ]
    },
    {
     "name": "stdout",
     "output_type": "stream",
     "text": [
      "426390.yaml London United Kingdom\n"
     ]
    },
    {
     "name": "stderr",
     "output_type": "stream",
     "text": [
      "\r",
      " 19%|███████▌                                | 395/2106 [07:04<32:04,  1.12s/it]"
     ]
    },
    {
     "name": "stdout",
     "output_type": "stream",
     "text": [
      "810829.yaml Dubai International Cricket Stadium United Arab Emirates\n"
     ]
    },
    {
     "name": "stderr",
     "output_type": "stream",
     "text": [
      "\r",
      " 19%|███████▌                                | 396/2106 [07:05<32:04,  1.13s/it]"
     ]
    },
    {
     "name": "stdout",
     "output_type": "stream",
     "text": [
      "422630.yaml Chittagong Bangladesh\n"
     ]
    },
    {
     "name": "stderr",
     "output_type": "stream",
     "text": [
      "\r",
      " 19%|███████▌                                | 397/2106 [07:06<30:18,  1.06s/it]"
     ]
    },
    {
     "name": "stdout",
     "output_type": "stream",
     "text": [
      "914207.yaml Christchurch New Zealand\n"
     ]
    },
    {
     "name": "stderr",
     "output_type": "stream",
     "text": [
      "\r",
      " 19%|███████▌                                | 398/2106 [07:07<30:49,  1.08s/it]"
     ]
    },
    {
     "name": "stdout",
     "output_type": "stream",
     "text": [
      "1174242.yaml Dubai United Arab Emirates\n"
     ]
    },
    {
     "name": "stderr",
     "output_type": "stream",
     "text": [
      "\r",
      " 19%|███████▌                                | 399/2106 [07:08<32:02,  1.13s/it]"
     ]
    },
    {
     "name": "stdout",
     "output_type": "stream",
     "text": [
      "291221.yaml Colombo Sri Lanka\n"
     ]
    },
    {
     "name": "stderr",
     "output_type": "stream",
     "text": [
      "\r",
      " 19%|███████▌                                | 400/2106 [07:09<28:32,  1.00s/it]"
     ]
    },
    {
     "name": "stdout",
     "output_type": "stream",
     "text": [
      "224044.yaml Durban South Africa\n"
     ]
    },
    {
     "name": "stderr",
     "output_type": "stream",
     "text": [
      "\r",
      " 19%|███████▌                                | 401/2106 [07:10<28:41,  1.01s/it]"
     ]
    },
    {
     "name": "stdout",
     "output_type": "stream",
     "text": [
      "742625.yaml Abu Dhabi United Arab Emirates\n"
     ]
    },
    {
     "name": "stderr",
     "output_type": "stream",
     "text": [
      "\r",
      " 19%|███████▋                                | 402/2106 [07:11<28:48,  1.01s/it]"
     ]
    },
    {
     "name": "stdout",
     "output_type": "stream",
     "text": [
      "467884.yaml Jaipur India\n"
     ]
    },
    {
     "name": "stderr",
     "output_type": "stream",
     "text": [
      "\r",
      " 19%|███████▋                                | 403/2106 [07:12<30:37,  1.08s/it]"
     ]
    },
    {
     "name": "stdout",
     "output_type": "stream",
     "text": [
      "461566.yaml Abu Dhabi United Arab Emirates\n"
     ]
    },
    {
     "name": "stderr",
     "output_type": "stream",
     "text": [
      "\r",
      " 19%|███████▋                                | 404/2106 [07:13<30:08,  1.06s/it]"
     ]
    },
    {
     "name": "stdout",
     "output_type": "stream",
     "text": [
      "439148.yaml Antigua Antigua and Barbuda\n"
     ]
    },
    {
     "name": "stderr",
     "output_type": "stream",
     "text": [
      "\r",
      " 19%|███████▋                                | 405/2106 [07:14<29:47,  1.05s/it]"
     ]
    },
    {
     "name": "stdout",
     "output_type": "stream",
     "text": [
      "913629.yaml London United Kingdom\n"
     ]
    },
    {
     "name": "stderr",
     "output_type": "stream",
     "text": [
      "\r",
      " 19%|███████▋                                | 406/2106 [07:16<31:17,  1.10s/it]"
     ]
    },
    {
     "name": "stdout",
     "output_type": "stream",
     "text": [
      "433584.yaml Chandigarh India\n"
     ]
    },
    {
     "name": "stderr",
     "output_type": "stream",
     "text": [
      "\r",
      " 19%|███████▋                                | 407/2106 [07:17<33:11,  1.17s/it]"
     ]
    },
    {
     "name": "stdout",
     "output_type": "stream",
     "text": [
      "1119498.yaml Indore India\n"
     ]
    },
    {
     "name": "stderr",
     "output_type": "stream",
     "text": [
      "\r",
      " 19%|███████▋                                | 408/2106 [07:18<31:55,  1.13s/it]"
     ]
    },
    {
     "name": "stdout",
     "output_type": "stream",
     "text": [
      "300440.yaml Napier New Zealand\n"
     ]
    },
    {
     "name": "stderr",
     "output_type": "stream",
     "text": [
      "\r",
      " 19%|███████▊                                | 409/2106 [07:19<31:53,  1.13s/it]"
     ]
    },
    {
     "name": "stdout",
     "output_type": "stream",
     "text": [
      "1158067.yaml Bridgetown Barbados\n"
     ]
    },
    {
     "name": "stderr",
     "output_type": "stream",
     "text": [
      "\r",
      " 19%|███████▊                                | 410/2106 [07:20<29:14,  1.03s/it]"
     ]
    },
    {
     "name": "stdout",
     "output_type": "stream",
     "text": [
      "249744.yaml Mumbai India\n"
     ]
    },
    {
     "name": "stderr",
     "output_type": "stream",
     "text": [
      "\r",
      " 20%|███████▊                                | 411/2106 [07:21<29:09,  1.03s/it]"
     ]
    },
    {
     "name": "stdout",
     "output_type": "stream",
     "text": [
      "65656.yaml Sydney Australia\n"
     ]
    },
    {
     "name": "stderr",
     "output_type": "stream",
     "text": [
      "\r",
      " 20%|███████▊                                | 412/2106 [07:22<31:16,  1.11s/it]"
     ]
    },
    {
     "name": "stdout",
     "output_type": "stream",
     "text": [
      "1133026.yaml Harare Sports Club Zimbabwe\n"
     ]
    },
    {
     "name": "stderr",
     "output_type": "stream",
     "text": [
      "\r",
      " 20%|███████▊                                | 413/2106 [07:23<31:48,  1.13s/it]"
     ]
    },
    {
     "name": "stdout",
     "output_type": "stream",
     "text": [
      "710303.yaml Mirpur Pakistan\n"
     ]
    },
    {
     "name": "stderr",
     "output_type": "stream",
     "text": [
      "\r",
      " 20%|███████▊                                | 414/2106 [07:24<30:03,  1.07s/it]"
     ]
    },
    {
     "name": "stdout",
     "output_type": "stream",
     "text": [
      "656437.yaml Auckland New Zealand\n"
     ]
    },
    {
     "name": "stderr",
     "output_type": "stream",
     "text": [
      "\r",
      " 20%|███████▉                                | 415/2106 [07:25<28:48,  1.02s/it]"
     ]
    },
    {
     "name": "stdout",
     "output_type": "stream",
     "text": [
      "1119496.yaml Chennai India\n"
     ]
    },
    {
     "name": "stderr",
     "output_type": "stream",
     "text": [
      "\r",
      " 20%|███████▉                                | 416/2106 [07:27<31:24,  1.11s/it]"
     ]
    },
    {
     "name": "stdout",
     "output_type": "stream",
     "text": [
      "531631.yaml Abu Dhabi United Arab Emirates\n"
     ]
    },
    {
     "name": "stderr",
     "output_type": "stream",
     "text": [
      "\r",
      " 20%|███████▉                                | 417/2106 [07:28<30:37,  1.09s/it]"
     ]
    },
    {
     "name": "stdout",
     "output_type": "stream",
     "text": [
      "1168508.yaml Dublin Ireland\n"
     ]
    },
    {
     "name": "stderr",
     "output_type": "stream",
     "text": [
      "\r",
      " 20%|███████▉                                | 418/2106 [07:29<30:03,  1.07s/it]"
     ]
    },
    {
     "name": "stdout",
     "output_type": "stream",
     "text": [
      "1187682.yaml Hamilton Canada\n"
     ]
    },
    {
     "name": "stderr",
     "output_type": "stream",
     "text": [
      "\r",
      " 20%|███████▉                                | 419/2106 [07:30<29:39,  1.05s/it]"
     ]
    },
    {
     "name": "stdout",
     "output_type": "stream",
     "text": [
      "297799.yaml Mumbai India\n"
     ]
    },
    {
     "name": "stderr",
     "output_type": "stream",
     "text": [
      "\r",
      " 20%|███████▉                                | 420/2106 [07:31<31:58,  1.14s/it]"
     ]
    },
    {
     "name": "stdout",
     "output_type": "stream",
     "text": [
      "710297.yaml Fatullah Bangladesh\n"
     ]
    },
    {
     "name": "stderr",
     "output_type": "stream",
     "text": [
      "\r",
      " 20%|███████▉                                | 421/2106 [07:32<31:00,  1.10s/it]"
     ]
    },
    {
     "name": "stdout",
     "output_type": "stream",
     "text": [
      "1059715.yaml Bulawayo Zimbabwe\n"
     ]
    },
    {
     "name": "stderr",
     "output_type": "stream",
     "text": [
      "\r",
      " 20%|████████                                | 422/2106 [07:33<30:18,  1.08s/it]"
     ]
    },
    {
     "name": "stdout",
     "output_type": "stream",
     "text": [
      "226391.yaml Christchurch New Zealand\n"
     ]
    },
    {
     "name": "stderr",
     "output_type": "stream",
     "text": [
      "\r",
      " 20%|████████                                | 423/2106 [07:34<29:49,  1.06s/it]"
     ]
    },
    {
     "name": "stdout",
     "output_type": "stream",
     "text": [
      "249233.yaml Brisbane Australia\n"
     ]
    },
    {
     "name": "stderr",
     "output_type": "stream",
     "text": [
      "\r",
      " 20%|████████                                | 424/2106 [07:35<28:36,  1.02s/it]"
     ]
    },
    {
     "name": "stdout",
     "output_type": "stream",
     "text": [
      "325579.yaml Dublin Ireland\n"
     ]
    },
    {
     "name": "stderr",
     "output_type": "stream",
     "text": [
      "\r",
      " 20%|████████                                | 425/2106 [07:36<30:51,  1.10s/it]"
     ]
    },
    {
     "name": "stdout",
     "output_type": "stream",
     "text": [
      "258473.yaml Birmingham United Kingdom\n"
     ]
    },
    {
     "name": "stderr",
     "output_type": "stream",
     "text": [
      "\r",
      " 20%|████████                                | 426/2106 [07:37<30:32,  1.09s/it]"
     ]
    },
    {
     "name": "stdout",
     "output_type": "stream",
     "text": [
      "566925.yaml Nottingham United Kingdom\n"
     ]
    },
    {
     "name": "stderr",
     "output_type": "stream",
     "text": [
      "\r",
      " 20%|████████                                | 427/2106 [07:38<29:57,  1.07s/it]"
     ]
    },
    {
     "name": "stdout",
     "output_type": "stream",
     "text": [
      "1187021.yaml Chennai India\n"
     ]
    },
    {
     "name": "stderr",
     "output_type": "stream",
     "text": [
      "\r",
      " 20%|████████▏                               | 428/2106 [07:40<32:07,  1.15s/it]"
     ]
    },
    {
     "name": "stdout",
     "output_type": "stream",
     "text": [
      "66383.yaml Lahore Pakistan\n"
     ]
    },
    {
     "name": "stderr",
     "output_type": "stream",
     "text": [
      "\r",
      " 20%|████████▏                               | 429/2106 [07:40<28:28,  1.02s/it]"
     ]
    },
    {
     "name": "stdout",
     "output_type": "stream",
     "text": [
      "295788.yaml Dublin Ireland\n"
     ]
    },
    {
     "name": "stderr",
     "output_type": "stream",
     "text": [
      "\r",
      " 20%|████████▏                               | 430/2106 [07:41<27:39,  1.01it/s]"
     ]
    },
    {
     "name": "stdout",
     "output_type": "stream",
     "text": [
      "936131.yaml Benoni South Africa\n"
     ]
    },
    {
     "name": "stderr",
     "output_type": "stream",
     "text": [
      "\r",
      " 20%|████████▏                               | 431/2106 [07:43<28:46,  1.03s/it]"
     ]
    },
    {
     "name": "stdout",
     "output_type": "stream",
     "text": [
      "1196670.yaml Aberdeen United Kingdom\n"
     ]
    },
    {
     "name": "stderr",
     "output_type": "stream",
     "text": [
      "\r",
      " 21%|████████▏                               | 432/2106 [07:43<27:50,  1.00it/s]"
     ]
    },
    {
     "name": "stdout",
     "output_type": "stream",
     "text": [
      "1174845.yaml Windhoek Namibia\n"
     ]
    },
    {
     "name": "stderr",
     "output_type": "stream",
     "text": [
      "\r",
      " 21%|████████▏                               | 433/2106 [07:45<30:37,  1.10s/it]"
     ]
    },
    {
     "name": "stdout",
     "output_type": "stream",
     "text": [
      "433580.yaml Delhi India\n"
     ]
    },
    {
     "name": "stderr",
     "output_type": "stream",
     "text": [
      "\r",
      " 21%|████████▏                               | 434/2106 [07:46<29:58,  1.08s/it]"
     ]
    },
    {
     "name": "stdout",
     "output_type": "stream",
     "text": [
      "433587.yaml Mumbai India\n"
     ]
    },
    {
     "name": "stderr",
     "output_type": "stream",
     "text": [
      "\r",
      " 21%|████████▎                               | 435/2106 [07:47<28:40,  1.03s/it]"
     ]
    },
    {
     "name": "stdout",
     "output_type": "stream",
     "text": [
      "1168515.yaml Belfast United Kingdom\n"
     ]
    },
    {
     "name": "stderr",
     "output_type": "stream",
     "text": [
      "\r",
      " 21%|████████▎                               | 436/2106 [07:48<28:36,  1.03s/it]"
     ]
    },
    {
     "name": "stdout",
     "output_type": "stream",
     "text": [
      "345470.yaml Mirpur Pakistan\n"
     ]
    },
    {
     "name": "stderr",
     "output_type": "stream",
     "text": [
      "\r",
      " 21%|████████▎                               | 437/2106 [07:49<28:33,  1.03s/it]"
     ]
    },
    {
     "name": "stdout",
     "output_type": "stream",
     "text": [
      "463154.yaml Centurion South Africa\n"
     ]
    },
    {
     "name": "stderr",
     "output_type": "stream",
     "text": [
      "\r",
      " 21%|████████▎                               | 438/2106 [07:50<31:05,  1.12s/it]"
     ]
    },
    {
     "name": "stdout",
     "output_type": "stream",
     "text": [
      "416239.yaml Chandigarh India\n"
     ]
    },
    {
     "name": "stderr",
     "output_type": "stream",
     "text": [
      "\r",
      " 21%|████████▎                               | 439/2106 [07:51<31:07,  1.12s/it]"
     ]
    },
    {
     "name": "stdout",
     "output_type": "stream",
     "text": [
      "64896.yaml Kingstown Saint Vincent and the Grenadines\n"
     ]
    },
    {
     "name": "stderr",
     "output_type": "stream",
     "text": [
      "\r",
      " 21%|████████▎                               | 440/2106 [07:52<30:18,  1.09s/it]"
     ]
    },
    {
     "name": "stdout",
     "output_type": "stream",
     "text": [
      "390227.yaml Benoni South Africa\n"
     ]
    },
    {
     "name": "stderr",
     "output_type": "stream",
     "text": [
      "\r",
      " 21%|████████▍                               | 441/2106 [07:54<32:17,  1.16s/it]"
     ]
    },
    {
     "name": "stdout",
     "output_type": "stream",
     "text": [
      "749797.yaml Napier New Zealand\n"
     ]
    },
    {
     "name": "stderr",
     "output_type": "stream",
     "text": [
      "\r",
      " 21%|████████▍                               | 442/2106 [07:55<31:57,  1.15s/it]"
     ]
    },
    {
     "name": "stdout",
     "output_type": "stream",
     "text": [
      "870731.yaml Mirpur Pakistan\n"
     ]
    },
    {
     "name": "stderr",
     "output_type": "stream",
     "text": [
      "\r",
      " 21%|████████▍                               | 443/2106 [07:56<30:52,  1.11s/it]"
     ]
    },
    {
     "name": "stdout",
     "output_type": "stream",
     "text": [
      "667643.yaml Hamilton Canada\n"
     ]
    },
    {
     "name": "stderr",
     "output_type": "stream",
     "text": [
      "\r",
      " 21%|████████▍                               | 444/2106 [07:57<30:06,  1.09s/it]"
     ]
    },
    {
     "name": "stdout",
     "output_type": "stream",
     "text": [
      "754729.yaml Melbourne Cricket Ground Australia\n"
     ]
    },
    {
     "name": "stderr",
     "output_type": "stream",
     "text": [
      "\r",
      " 21%|████████▍                               | 445/2106 [07:58<32:07,  1.16s/it]"
     ]
    },
    {
     "name": "stdout",
     "output_type": "stream",
     "text": [
      "531632.yaml Abu Dhabi United Arab Emirates\n"
     ]
    },
    {
     "name": "stderr",
     "output_type": "stream",
     "text": [
      "\r",
      " 21%|████████▍                               | 446/2106 [07:59<30:58,  1.12s/it]"
     ]
    },
    {
     "name": "stdout",
     "output_type": "stream",
     "text": [
      "1193504.yaml Colombo Sri Lanka\n"
     ]
    },
    {
     "name": "stderr",
     "output_type": "stream",
     "text": [
      "\r",
      " 21%|████████▍                               | 447/2106 [08:00<31:00,  1.12s/it]"
     ]
    },
    {
     "name": "stdout",
     "output_type": "stream",
     "text": [
      "264069.yaml Bogra Bangladesh\n"
     ]
    },
    {
     "name": "stderr",
     "output_type": "stream",
     "text": [
      "\r",
      " 21%|████████▌                               | 448/2106 [08:01<30:10,  1.09s/it]"
     ]
    },
    {
     "name": "stdout",
     "output_type": "stream",
     "text": [
      "516210.yaml Colombo Sri Lanka\n"
     ]
    },
    {
     "name": "stderr",
     "output_type": "stream",
     "text": [
      "\r",
      " 21%|████████▌                               | 449/2106 [08:03<32:08,  1.16s/it]"
     ]
    },
    {
     "name": "stdout",
     "output_type": "stream",
     "text": [
      "259390.yaml Benoni South Africa\n"
     ]
    },
    {
     "name": "stderr",
     "output_type": "stream",
     "text": [
      "\r",
      " 21%|████████▌                               | 450/2106 [08:04<31:48,  1.15s/it]"
     ]
    },
    {
     "name": "stdout",
     "output_type": "stream",
     "text": [
      "1187028.yaml Rajkot India\n"
     ]
    },
    {
     "name": "stderr",
     "output_type": "stream",
     "text": [
      "\r",
      " 21%|████████▌                               | 451/2106 [08:05<29:53,  1.08s/it]"
     ]
    },
    {
     "name": "stdout",
     "output_type": "stream",
     "text": [
      "514035.yaml Paarl South Africa\n"
     ]
    },
    {
     "name": "stderr",
     "output_type": "stream",
     "text": [
      "\r",
      " 21%|████████▌                               | 452/2106 [08:06<29:22,  1.07s/it]"
     ]
    },
    {
     "name": "stdout",
     "output_type": "stream",
     "text": [
      "742619.yaml Dubai International Cricket Stadium United Arab Emirates\n"
     ]
    },
    {
     "name": "stderr",
     "output_type": "stream",
     "text": [
      "\r",
      " 22%|████████▌                               | 453/2106 [08:06<27:18,  1.01it/s]"
     ]
    },
    {
     "name": "stdout",
     "output_type": "stream",
     "text": [
      "564782.yaml Hambantota Sri Lanka\n"
     ]
    },
    {
     "name": "stderr",
     "output_type": "stream",
     "text": [
      "\r",
      " 22%|████████▌                               | 454/2106 [08:08<30:06,  1.09s/it]"
     ]
    },
    {
     "name": "stdout",
     "output_type": "stream",
     "text": [
      "249240.yaml Melbourne Cricket Ground Australia\n"
     ]
    },
    {
     "name": "stderr",
     "output_type": "stream",
     "text": [
      "\r",
      " 22%|████████▋                               | 455/2106 [08:09<30:21,  1.10s/it]"
     ]
    },
    {
     "name": "stdout",
     "output_type": "stream",
     "text": [
      "439141.yaml Guyana Guyana\n"
     ]
    },
    {
     "name": "stderr",
     "output_type": "stream",
     "text": [
      "\r",
      " 22%|████████▋                               | 456/2106 [08:10<29:41,  1.08s/it]"
     ]
    },
    {
     "name": "stdout",
     "output_type": "stream",
     "text": [
      "1131278.yaml Dubai United Arab Emirates\n"
     ]
    },
    {
     "name": "stderr",
     "output_type": "stream",
     "text": [
      "\r",
      " 22%|████████▋                               | 457/2106 [08:11<29:13,  1.06s/it]"
     ]
    },
    {
     "name": "stdout",
     "output_type": "stream",
     "text": [
      "350047.yaml Nottingham United Kingdom\n"
     ]
    },
    {
     "name": "stderr",
     "output_type": "stream",
     "text": [
      "\r",
      " 22%|████████▋                               | 458/2106 [08:12<29:42,  1.08s/it]"
     ]
    },
    {
     "name": "stdout",
     "output_type": "stream",
     "text": [
      "256608.yaml Kuala Lumpur Malaysia\n"
     ]
    },
    {
     "name": "stderr",
     "output_type": "stream",
     "text": [
      "\r",
      " 22%|████████▋                               | 459/2106 [08:13<29:14,  1.07s/it]"
     ]
    },
    {
     "name": "stdout",
     "output_type": "stream",
     "text": [
      "446962.yaml Melbourne Cricket Ground Australia\n"
     ]
    },
    {
     "name": "stderr",
     "output_type": "stream",
     "text": [
      "\r",
      " 22%|████████▋                               | 460/2106 [08:14<28:52,  1.05s/it]"
     ]
    },
    {
     "name": "stdout",
     "output_type": "stream",
     "text": [
      "249751.yaml Ahmedabad India\n"
     ]
    },
    {
     "name": "stderr",
     "output_type": "stream",
     "text": [
      "\r",
      " 22%|████████▊                               | 461/2106 [08:15<26:04,  1.05it/s]"
     ]
    },
    {
     "name": "stdout",
     "output_type": "stream",
     "text": [
      "1140379.yaml Rangiri Dambulla International Stadium None\n"
     ]
    },
    {
     "name": "stderr",
     "output_type": "stream",
     "text": [
      "\r",
      " 22%|████████▊                               | 462/2106 [08:16<26:40,  1.03it/s]"
     ]
    },
    {
     "name": "stdout",
     "output_type": "stream",
     "text": [
      "514036.yaml East London South Africa\n"
     ]
    },
    {
     "name": "stderr",
     "output_type": "stream",
     "text": [
      "\r",
      " 22%|████████▊                               | 463/2106 [08:17<28:45,  1.05s/it]"
     ]
    },
    {
     "name": "stdout",
     "output_type": "stream",
     "text": [
      "1020035.yaml Wellington New Zealand\n"
     ]
    },
    {
     "name": "stderr",
     "output_type": "stream",
     "text": [
      "\r",
      " 22%|████████▊                               | 464/2106 [08:18<28:31,  1.04s/it]"
     ]
    },
    {
     "name": "stdout",
     "output_type": "stream",
     "text": [
      "1140383.yaml Colombo Sri Lanka\n"
     ]
    },
    {
     "name": "stderr",
     "output_type": "stream",
     "text": [
      "\r",
      " 22%|████████▊                               | 465/2106 [08:19<28:21,  1.04s/it]"
     ]
    },
    {
     "name": "stdout",
     "output_type": "stream",
     "text": [
      "754727.yaml Canberra Australia\n"
     ]
    },
    {
     "name": "stderr",
     "output_type": "stream",
     "text": [
      "\r",
      " 22%|████████▊                               | 466/2106 [08:20<27:23,  1.00s/it]"
     ]
    },
    {
     "name": "stdout",
     "output_type": "stream",
     "text": [
      "415282.yaml Johannesburg South Africa\n"
     ]
    },
    {
     "name": "stderr",
     "output_type": "stream",
     "text": [
      "\r",
      " 22%|████████▊                               | 467/2106 [08:21<30:04,  1.10s/it]"
     ]
    },
    {
     "name": "stdout",
     "output_type": "stream",
     "text": [
      "518963.yaml Brisbane Australia\n"
     ]
    },
    {
     "name": "stderr",
     "output_type": "stream",
     "text": [
      "\r",
      " 22%|████████▉                               | 468/2106 [08:22<28:11,  1.03s/it]"
     ]
    },
    {
     "name": "stdout",
     "output_type": "stream",
     "text": [
      "378755.yaml Mirpur Pakistan\n"
     ]
    },
    {
     "name": "stderr",
     "output_type": "stream",
     "text": [
      "\r",
      " 22%|████████▉                               | 469/2106 [08:23<28:30,  1.05s/it]"
     ]
    },
    {
     "name": "stdout",
     "output_type": "stream",
     "text": [
      "518967.yaml Melbourne Cricket Ground Australia\n"
     ]
    },
    {
     "name": "stderr",
     "output_type": "stream",
     "text": [
      "\r",
      " 22%|████████▉                               | 470/2106 [08:25<29:09,  1.07s/it]"
     ]
    },
    {
     "name": "stdout",
     "output_type": "stream",
     "text": [
      "1120090.yaml Mumbai India\n"
     ]
    },
    {
     "name": "stderr",
     "output_type": "stream",
     "text": [
      "\r",
      " 22%|████████▉                               | 471/2106 [08:25<26:15,  1.04it/s]"
     ]
    },
    {
     "name": "stdout",
     "output_type": "stream",
     "text": [
      "1275260.yaml Al Amarat Oman\n"
     ]
    },
    {
     "name": "stderr",
     "output_type": "stream",
     "text": [
      "\r",
      " 22%|████████▉                               | 472/2106 [08:26<28:27,  1.04s/it]"
     ]
    },
    {
     "name": "stdout",
     "output_type": "stream",
     "text": [
      "1122279.yaml Durban South Africa\n"
     ]
    },
    {
     "name": "stderr",
     "output_type": "stream",
     "text": [
      "\r",
      " 22%|████████▉                               | 473/2106 [08:27<28:12,  1.04s/it]"
     ]
    },
    {
     "name": "stdout",
     "output_type": "stream",
     "text": [
      "224227.yaml Centurion South Africa\n"
     ]
    },
    {
     "name": "stderr",
     "output_type": "stream",
     "text": [
      "\r",
      " 23%|█████████                               | 474/2106 [08:28<27:55,  1.03s/it]"
     ]
    },
    {
     "name": "stdout",
     "output_type": "stream",
     "text": [
      "1239539.yaml Birmingham United Kingdom\n"
     ]
    },
    {
     "name": "stderr",
     "output_type": "stream",
     "text": [
      "\r",
      " 23%|█████████                               | 475/2106 [08:30<30:33,  1.12s/it]"
     ]
    },
    {
     "name": "stdout",
     "output_type": "stream",
     "text": [
      "534218.yaml Chester-le-Street United Kingdom\n"
     ]
    },
    {
     "name": "stderr",
     "output_type": "stream",
     "text": [
      "\r",
      " 23%|█████████                               | 476/2106 [08:31<28:53,  1.06s/it]"
     ]
    },
    {
     "name": "stdout",
     "output_type": "stream",
     "text": [
      "1072313.yaml Adelaide Oval Australia\n"
     ]
    },
    {
     "name": "stderr",
     "output_type": "stream",
     "text": [
      "\r",
      " 23%|█████████                               | 477/2106 [08:32<30:13,  1.11s/it]"
     ]
    },
    {
     "name": "stdout",
     "output_type": "stream",
     "text": [
      "1134037.yaml Sharjah Cricket Stadium United Arab Emirates\n"
     ]
    },
    {
     "name": "stderr",
     "output_type": "stream",
     "text": [
      "\r",
      " 23%|█████████                               | 478/2106 [08:33<29:28,  1.09s/it]"
     ]
    },
    {
     "name": "stdout",
     "output_type": "stream",
     "text": [
      "800475.yaml Johannesburg South Africa\n"
     ]
    },
    {
     "name": "stderr",
     "output_type": "stream",
     "text": [
      "\r",
      " 23%|█████████                               | 479/2106 [08:34<28:57,  1.07s/it]"
     ]
    },
    {
     "name": "stdout",
     "output_type": "stream",
     "text": [
      "1029821.yaml Mirpur Pakistan\n"
     ]
    },
    {
     "name": "stderr",
     "output_type": "stream",
     "text": [
      "\r",
      " 23%|█████████                               | 480/2106 [08:35<25:14,  1.07it/s]"
     ]
    },
    {
     "name": "stdout",
     "output_type": "stream",
     "text": [
      "1188624.yaml Providence United States\n"
     ]
    },
    {
     "name": "stderr",
     "output_type": "stream",
     "text": [
      "\r",
      " 23%|█████████▏                              | 481/2106 [08:36<25:09,  1.08it/s]"
     ]
    },
    {
     "name": "stdout",
     "output_type": "stream",
     "text": [
      "1122284.yaml Centurion South Africa\n"
     ]
    },
    {
     "name": "stderr",
     "output_type": "stream",
     "text": [
      "\r",
      " 23%|█████████▏                              | 482/2106 [08:37<28:24,  1.05s/it]"
     ]
    },
    {
     "name": "stdout",
     "output_type": "stream",
     "text": [
      "1033371.yaml Dublin Ireland\n"
     ]
    },
    {
     "name": "stderr",
     "output_type": "stream",
     "text": [
      "\r",
      " 23%|█████████▏                              | 483/2106 [08:38<29:00,  1.07s/it]"
     ]
    },
    {
     "name": "stdout",
     "output_type": "stream",
     "text": [
      "463143.yaml Bloemfontein South Africa\n"
     ]
    },
    {
     "name": "stderr",
     "output_type": "stream",
     "text": [
      "\r",
      " 23%|█████████▏                              | 484/2106 [08:39<28:35,  1.06s/it]"
     ]
    },
    {
     "name": "stdout",
     "output_type": "stream",
     "text": [
      "1327509.yaml Lucknow India\n"
     ]
    },
    {
     "name": "stderr",
     "output_type": "stream",
     "text": [
      "\r",
      " 23%|█████████▏                              | 485/2106 [08:40<27:28,  1.02s/it]"
     ]
    },
    {
     "name": "stdout",
     "output_type": "stream",
     "text": [
      "474470.yaml Nottingham United Kingdom\n"
     ]
    },
    {
     "name": "stderr",
     "output_type": "stream",
     "text": [
      "\r",
      " 23%|█████████▏                              | 486/2106 [08:41<29:10,  1.08s/it]"
     ]
    },
    {
     "name": "stdout",
     "output_type": "stream",
     "text": [
      "587474.yaml Mirpur Pakistan\n"
     ]
    },
    {
     "name": "stderr",
     "output_type": "stream",
     "text": [
      "\r",
      " 23%|█████████▏                              | 487/2106 [08:42<27:52,  1.03s/it]"
     ]
    },
    {
     "name": "stdout",
     "output_type": "stream",
     "text": [
      "817209.yaml Mirpur Pakistan\n"
     ]
    },
    {
     "name": "stderr",
     "output_type": "stream",
     "text": [
      "\r",
      " 23%|█████████▎                              | 488/2106 [08:43<26:07,  1.03it/s]"
     ]
    },
    {
     "name": "stdout",
     "output_type": "stream",
     "text": [
      "415162.yaml Toronto Canada\n"
     ]
    },
    {
     "name": "stderr",
     "output_type": "stream",
     "text": [
      "\r",
      " 23%|█████████▎                              | 489/2106 [08:44<25:33,  1.05it/s]"
     ]
    },
    {
     "name": "stdout",
     "output_type": "stream",
     "text": [
      "1020031.yaml Hamilton Canada\n"
     ]
    },
    {
     "name": "stderr",
     "output_type": "stream",
     "text": [
      "\r",
      " 23%|█████████▎                              | 490/2106 [08:45<26:19,  1.02it/s]"
     ]
    },
    {
     "name": "stdout",
     "output_type": "stream",
     "text": [
      "667895.yaml London United Kingdom\n"
     ]
    },
    {
     "name": "stderr",
     "output_type": "stream",
     "text": [
      "\r",
      " 23%|█████████▎                              | 491/2106 [08:46<26:41,  1.01it/s]"
     ]
    },
    {
     "name": "stdout",
     "output_type": "stream",
     "text": [
      "573023.yaml Perth Australia\n"
     ]
    },
    {
     "name": "stderr",
     "output_type": "stream",
     "text": [
      "\r",
      " 23%|█████████▎                              | 492/2106 [08:47<28:34,  1.06s/it]"
     ]
    },
    {
     "name": "stdout",
     "output_type": "stream",
     "text": [
      "1179275.yaml Harare Zimbabwe\n"
     ]
    },
    {
     "name": "stderr",
     "output_type": "stream",
     "text": [
      "\r",
      " 23%|█████████▎                              | 493/2106 [08:48<28:15,  1.05s/it]"
     ]
    },
    {
     "name": "stdout",
     "output_type": "stream",
     "text": [
      "656411.yaml Canberra Australia\n"
     ]
    },
    {
     "name": "stderr",
     "output_type": "stream",
     "text": [
      "\r",
      " 23%|█████████▍                              | 494/2106 [08:49<28:01,  1.04s/it]"
     ]
    },
    {
     "name": "stdout",
     "output_type": "stream",
     "text": [
      "562439.yaml Pallekele International Cricket Stadium Sri Lanka\n"
     ]
    },
    {
     "name": "stderr",
     "output_type": "stream",
     "text": [
      "\r",
      " 24%|█████████▍                              | 495/2106 [08:50<27:01,  1.01s/it]"
     ]
    },
    {
     "name": "stdout",
     "output_type": "stream",
     "text": [
      "249746.yaml Mumbai India\n"
     ]
    },
    {
     "name": "stderr",
     "output_type": "stream",
     "text": [
      "\r",
      " 24%|█████████▍                              | 496/2106 [08:51<28:47,  1.07s/it]"
     ]
    },
    {
     "name": "stdout",
     "output_type": "stream",
     "text": [
      "530427.yaml Dubai International Cricket Stadium United Arab Emirates\n"
     ]
    },
    {
     "name": "stderr",
     "output_type": "stream",
     "text": [
      "\r",
      " 24%|█████████▍                              | 497/2106 [08:52<28:04,  1.05s/it]"
     ]
    },
    {
     "name": "stdout",
     "output_type": "stream",
     "text": [
      "463144.yaml Potchefstroom South Africa\n"
     ]
    },
    {
     "name": "stderr",
     "output_type": "stream",
     "text": [
      "\r",
      " 24%|█████████▍                              | 498/2106 [08:53<28:11,  1.05s/it]"
     ]
    },
    {
     "name": "stdout",
     "output_type": "stream",
     "text": [
      "410341.yaml Bulawayo Zimbabwe\n"
     ]
    },
    {
     "name": "stderr",
     "output_type": "stream",
     "text": [
      "\r",
      " 24%|█████████▍                              | 499/2106 [08:55<28:46,  1.07s/it]"
     ]
    },
    {
     "name": "stdout",
     "output_type": "stream",
     "text": [
      "247473.yaml Jamaica Jamaica\n"
     ]
    },
    {
     "name": "stderr",
     "output_type": "stream",
     "text": [
      "\r",
      " 24%|█████████▍                              | 500/2106 [08:56<28:21,  1.06s/it]"
     ]
    },
    {
     "name": "stdout",
     "output_type": "stream",
     "text": [
      "236809.yaml Lahore Pakistan\n"
     ]
    },
    {
     "name": "stderr",
     "output_type": "stream",
     "text": [
      "\r",
      " 24%|█████████▌                              | 501/2106 [08:57<30:30,  1.14s/it]"
     ]
    },
    {
     "name": "stdout",
     "output_type": "stream",
     "text": [
      "1144522.yaml Birmingham United Kingdom\n"
     ]
    },
    {
     "name": "stderr",
     "output_type": "stream",
     "text": [
      "\r",
      " 24%|█████████▌                              | 502/2106 [08:58<29:33,  1.11s/it]"
     ]
    },
    {
     "name": "stdout",
     "output_type": "stream",
     "text": [
      "1243395.yaml Pune India\n"
     ]
    },
    {
     "name": "stderr",
     "output_type": "stream",
     "text": [
      "\r",
      " 24%|█████████▌                              | 503/2106 [08:59<28:53,  1.08s/it]"
     ]
    },
    {
     "name": "stdout",
     "output_type": "stream",
     "text": [
      "902645.yaml Sharjah Cricket Stadium United Arab Emirates\n"
     ]
    },
    {
     "name": "stderr",
     "output_type": "stream",
     "text": [
      "\r",
      " 24%|█████████▌                              | 504/2106 [09:00<30:03,  1.13s/it]"
     ]
    },
    {
     "name": "stdout",
     "output_type": "stream",
     "text": [
      "597923.yaml Jamaica Jamaica\n"
     ]
    },
    {
     "name": "stderr",
     "output_type": "stream",
     "text": [
      "\r",
      " 24%|█████████▌                              | 505/2106 [09:02<32:29,  1.22s/it]"
     ]
    },
    {
     "name": "stdout",
     "output_type": "stream",
     "text": [
      "65643.yaml Melbourne Australia\n"
     ]
    },
    {
     "name": "stderr",
     "output_type": "stream",
     "text": [
      "\r",
      " 24%|█████████▌                              | 506/2106 [09:03<30:55,  1.16s/it]"
     ]
    },
    {
     "name": "stdout",
     "output_type": "stream",
     "text": [
      "249741.yaml Ahmedabad India\n"
     ]
    },
    {
     "name": "stderr",
     "output_type": "stream",
     "text": [
      "\r",
      " 24%|█████████▋                              | 507/2106 [09:03<28:10,  1.06s/it]"
     ]
    },
    {
     "name": "stdout",
     "output_type": "stream",
     "text": [
      "1158070.yaml Gros Islet Saint Lucia\n"
     ]
    },
    {
     "name": "stderr",
     "output_type": "stream",
     "text": [
      "\r",
      " 24%|█████████▋                              | 508/2106 [09:04<27:54,  1.05s/it]"
     ]
    },
    {
     "name": "stdout",
     "output_type": "stream",
     "text": [
      "433601.yaml Ahmedabad India\n"
     ]
    },
    {
     "name": "stderr",
     "output_type": "stream",
     "text": [
      "\r",
      " 24%|█████████▋                              | 509/2106 [09:06<30:08,  1.13s/it]"
     ]
    },
    {
     "name": "stdout",
     "output_type": "stream",
     "text": [
      "995459.yaml Colombo Sri Lanka\n"
     ]
    },
    {
     "name": "stderr",
     "output_type": "stream",
     "text": [
      "\r",
      " 24%|█████████▋                              | 510/2106 [09:07<30:04,  1.13s/it]"
     ]
    },
    {
     "name": "stdout",
     "output_type": "stream",
     "text": [
      "456668.yaml Rangiri Dambulla International Stadium None\n"
     ]
    },
    {
     "name": "stderr",
     "output_type": "stream",
     "text": [
      "\r",
      " 24%|█████████▋                              | 511/2106 [09:08<29:12,  1.10s/it]"
     ]
    },
    {
     "name": "stdout",
     "output_type": "stream",
     "text": [
      "902641.yaml Abu Dhabi United Arab Emirates\n"
     ]
    },
    {
     "name": "stderr",
     "output_type": "stream",
     "text": [
      "\r",
      " 24%|█████████▋                              | 512/2106 [09:09<28:35,  1.08s/it]"
     ]
    },
    {
     "name": "stdout",
     "output_type": "stream",
     "text": [
      "1302625.yaml Dubai United Arab Emirates\n"
     ]
    },
    {
     "name": "stderr",
     "output_type": "stream",
     "text": [
      "\r",
      " 24%|█████████▋                              | 513/2106 [09:10<28:09,  1.06s/it]"
     ]
    },
    {
     "name": "stdout",
     "output_type": "stream",
     "text": [
      "291369.yaml Hobart Australia\n"
     ]
    },
    {
     "name": "stderr",
     "output_type": "stream",
     "text": [
      "\r",
      " 24%|█████████▊                              | 514/2106 [09:11<30:18,  1.14s/it]"
     ]
    },
    {
     "name": "stdout",
     "output_type": "stream",
     "text": [
      "319147.yaml St Kitts Saint Kitts and Nevis\n"
     ]
    },
    {
     "name": "stderr",
     "output_type": "stream",
     "text": [
      "\r",
      " 24%|█████████▊                              | 515/2106 [09:12<30:08,  1.14s/it]"
     ]
    },
    {
     "name": "stdout",
     "output_type": "stream",
     "text": [
      "1161014.yaml Dublin Ireland\n"
     ]
    },
    {
     "name": "stderr",
     "output_type": "stream",
     "text": [
      "\r",
      " 25%|█████████▊                              | 516/2106 [09:13<29:14,  1.10s/it]"
     ]
    },
    {
     "name": "stdout",
     "output_type": "stream",
     "text": [
      "569242.yaml Auckland New Zealand\n"
     ]
    },
    {
     "name": "stderr",
     "output_type": "stream",
     "text": [
      "\r",
      " 25%|█████████▊                              | 517/2106 [09:14<28:35,  1.08s/it]"
     ]
    },
    {
     "name": "stdout",
     "output_type": "stream",
     "text": [
      "1262755.yaml Colombo Sri Lanka\n"
     ]
    },
    {
     "name": "stderr",
     "output_type": "stream",
     "text": [
      "\r",
      " 25%|█████████▊                              | 518/2106 [09:16<30:34,  1.15s/it]"
     ]
    },
    {
     "name": "stdout",
     "output_type": "stream",
     "text": [
      "1122281.yaml Cape Town South Africa\n"
     ]
    },
    {
     "name": "stderr",
     "output_type": "stream",
     "text": [
      "\r",
      " 25%|█████████▊                              | 519/2106 [09:17<28:41,  1.08s/it]"
     ]
    },
    {
     "name": "stdout",
     "output_type": "stream",
     "text": [
      "1288988.yaml Hamilton Canada\n"
     ]
    },
    {
     "name": "stderr",
     "output_type": "stream",
     "text": [
      "\r",
      " 25%|█████████▉                              | 520/2106 [09:18<28:11,  1.07s/it]"
     ]
    },
    {
     "name": "stdout",
     "output_type": "stream",
     "text": [
      "656455.yaml Auckland New Zealand\n"
     ]
    },
    {
     "name": "stderr",
     "output_type": "stream",
     "text": [
      "\r",
      " 25%|█████████▉                              | 521/2106 [09:19<29:27,  1.12s/it]"
     ]
    },
    {
     "name": "stdout",
     "output_type": "stream",
     "text": [
      "696747.yaml Mount Maunganui New Zealand\n"
     ]
    },
    {
     "name": "stderr",
     "output_type": "stream",
     "text": [
      "\r",
      " 25%|█████████▉                              | 522/2106 [09:20<28:44,  1.09s/it]"
     ]
    },
    {
     "name": "stdout",
     "output_type": "stream",
     "text": [
      "995457.yaml Colombo Sri Lanka\n"
     ]
    },
    {
     "name": "stderr",
     "output_type": "stream",
     "text": [
      "\r",
      " 25%|█████████▉                              | 523/2106 [09:21<30:37,  1.16s/it]"
     ]
    },
    {
     "name": "stdout",
     "output_type": "stream",
     "text": [
      "656445.yaml Canberra Australia\n"
     ]
    },
    {
     "name": "stderr",
     "output_type": "stream",
     "text": [
      "\r",
      " 25%|█████████▉                              | 524/2106 [09:23<33:36,  1.27s/it]"
     ]
    },
    {
     "name": "stdout",
     "output_type": "stream",
     "text": [
      "1153691.yaml Napier New Zealand\n"
     ]
    },
    {
     "name": "stderr",
     "output_type": "stream",
     "text": [
      "\r",
      " 25%|█████████▉                              | 525/2106 [09:24<31:37,  1.20s/it]"
     ]
    },
    {
     "name": "stdout",
     "output_type": "stream",
     "text": [
      "1262346.yaml Mirpur Pakistan\n"
     ]
    },
    {
     "name": "stderr",
     "output_type": "stream",
     "text": [
      "\r",
      " 25%|█████████▉                              | 526/2106 [09:25<30:11,  1.15s/it]"
     ]
    },
    {
     "name": "stdout",
     "output_type": "stream",
     "text": [
      "1323292.yaml Harare Zimbabwe\n"
     ]
    },
    {
     "name": "stderr",
     "output_type": "stream",
     "text": [
      "\r",
      " 25%|██████████                              | 527/2106 [09:26<29:12,  1.11s/it]"
     ]
    },
    {
     "name": "stdout",
     "output_type": "stream",
     "text": [
      "995463.yaml Rangiri Dambulla International Stadium None\n"
     ]
    },
    {
     "name": "stderr",
     "output_type": "stream",
     "text": [
      "\r",
      " 25%|██████████                              | 528/2106 [09:27<29:18,  1.11s/it]"
     ]
    },
    {
     "name": "stdout",
     "output_type": "stream",
     "text": [
      "1239537.yaml Cardiff United Kingdom\n"
     ]
    },
    {
     "name": "stderr",
     "output_type": "stream",
     "text": [
      "\r",
      " 25%|██████████                              | 529/2106 [09:28<27:46,  1.06s/it]"
     ]
    },
    {
     "name": "stdout",
     "output_type": "stream",
     "text": [
      "423794.yaml Auckland New Zealand\n"
     ]
    },
    {
     "name": "stderr",
     "output_type": "stream",
     "text": [
      "\r",
      " 25%|██████████                              | 530/2106 [09:29<27:30,  1.05s/it]"
     ]
    },
    {
     "name": "stdout",
     "output_type": "stream",
     "text": [
      "452149.yaml Harare Sports Club Zimbabwe\n"
     ]
    },
    {
     "name": "stderr",
     "output_type": "stream",
     "text": [
      "\r",
      " 25%|██████████                              | 531/2106 [09:30<26:29,  1.01s/it]"
     ]
    },
    {
     "name": "stdout",
     "output_type": "stream",
     "text": [
      "1267677.yaml Harare Zimbabwe\n"
     ]
    },
    {
     "name": "stderr",
     "output_type": "stream",
     "text": [
      "\r",
      " 25%|██████████                              | 532/2106 [09:31<24:58,  1.05it/s]"
     ]
    },
    {
     "name": "stdout",
     "output_type": "stream",
     "text": [
      "422629.yaml Chittagong Bangladesh\n"
     ]
    },
    {
     "name": "stderr",
     "output_type": "stream",
     "text": [
      "\r",
      " 25%|██████████                              | 533/2106 [09:32<27:47,  1.06s/it]"
     ]
    },
    {
     "name": "stdout",
     "output_type": "stream",
     "text": [
      "1302351.yaml Amstelveen Netherlands\n"
     ]
    },
    {
     "name": "stderr",
     "output_type": "stream",
     "text": [
      "\r",
      " 25%|██████████▏                             | 534/2106 [09:33<27:39,  1.06s/it]"
     ]
    },
    {
     "name": "stdout",
     "output_type": "stream",
     "text": [
      "423793.yaml Hamilton Canada\n"
     ]
    },
    {
     "name": "stderr",
     "output_type": "stream",
     "text": [
      "\r",
      " 25%|██████████▏                             | 535/2106 [09:34<26:34,  1.01s/it]"
     ]
    },
    {
     "name": "stdout",
     "output_type": "stream",
     "text": [
      "66209.yaml Southampton United Kingdom\n"
     ]
    },
    {
     "name": "stderr",
     "output_type": "stream",
     "text": [
      "\r",
      " 25%|██████████▏                             | 536/2106 [09:35<26:37,  1.02s/it]"
     ]
    },
    {
     "name": "stdout",
     "output_type": "stream",
     "text": [
      "237222.yaml Multan Cricket Stadium Pakistan\n"
     ]
    },
    {
     "name": "stderr",
     "output_type": "stream",
     "text": [
      "\r",
      " 25%|██████████▏                             | 537/2106 [09:36<24:14,  1.08it/s]"
     ]
    },
    {
     "name": "stdout",
     "output_type": "stream",
     "text": [
      "754757.yaml Sydney Cricket Ground Australia\n"
     ]
    },
    {
     "name": "stderr",
     "output_type": "stream",
     "text": [
      "\r",
      " 26%|██████████▏                             | 538/2106 [09:37<25:00,  1.05it/s]"
     ]
    },
    {
     "name": "stdout",
     "output_type": "stream",
     "text": [
      "1153252.yaml Abu Dhabi United Arab Emirates\n"
     ]
    },
    {
     "name": "stderr",
     "output_type": "stream",
     "text": [
      "\r",
      " 26%|██████████▏                             | 539/2106 [09:38<27:55,  1.07s/it]"
     ]
    },
    {
     "name": "stdout",
     "output_type": "stream",
     "text": [
      "1144530.yaml London United Kingdom\n"
     ]
    },
    {
     "name": "stderr",
     "output_type": "stream",
     "text": [
      "\r",
      " 26%|██████████▎                             | 540/2106 [09:39<27:32,  1.06s/it]"
     ]
    },
    {
     "name": "stdout",
     "output_type": "stream",
     "text": [
      "543881.yaml Mombasa Sports Club Ground None\n"
     ]
    },
    {
     "name": "stderr",
     "output_type": "stream",
     "text": [
      "\r",
      " 26%|██████████▎                             | 541/2106 [09:40<27:17,  1.05s/it]"
     ]
    },
    {
     "name": "stdout",
     "output_type": "stream",
     "text": [
      "649097.yaml Abu Dhabi United Arab Emirates\n"
     ]
    },
    {
     "name": "stderr",
     "output_type": "stream",
     "text": [
      "\r",
      " 26%|██████████▎                             | 542/2106 [09:41<26:17,  1.01s/it]"
     ]
    },
    {
     "name": "stdout",
     "output_type": "stream",
     "text": [
      "722343.yaml East London South Africa\n"
     ]
    },
    {
     "name": "stderr",
     "output_type": "stream",
     "text": [
      "\r",
      " 26%|██████████▎                             | 543/2106 [09:42<28:48,  1.11s/it]"
     ]
    },
    {
     "name": "stdout",
     "output_type": "stream",
     "text": [
      "1029819.yaml Mirpur Pakistan\n"
     ]
    },
    {
     "name": "stderr",
     "output_type": "stream",
     "text": [
      "\r",
      " 26%|██████████▎                             | 544/2106 [09:44<28:56,  1.11s/it]"
     ]
    },
    {
     "name": "stdout",
     "output_type": "stream",
     "text": [
      "1206059.yaml Sharjah United Arab Emirates\n"
     ]
    },
    {
     "name": "stderr",
     "output_type": "stream",
     "text": [
      "\r",
      " 26%|██████████▎                             | 545/2106 [09:45<28:14,  1.09s/it]"
     ]
    },
    {
     "name": "stdout",
     "output_type": "stream",
     "text": [
      "710301.yaml Mirpur Pakistan\n"
     ]
    },
    {
     "name": "stderr",
     "output_type": "stream",
     "text": [
      "\r",
      " 26%|██████████▎                             | 546/2106 [09:46<28:32,  1.10s/it]"
     ]
    },
    {
     "name": "stdout",
     "output_type": "stream",
     "text": [
      "366627.yaml Christchurch New Zealand\n"
     ]
    },
    {
     "name": "stderr",
     "output_type": "stream",
     "text": [
      "\r",
      " 26%|██████████▍                             | 547/2106 [09:47<29:22,  1.13s/it]"
     ]
    },
    {
     "name": "stdout",
     "output_type": "stream",
     "text": [
      "1317912.yaml Bridgetown Barbados\n"
     ]
    },
    {
     "name": "stderr",
     "output_type": "stream",
     "text": [
      "\r",
      " 26%|██████████▍                             | 548/2106 [09:48<30:17,  1.17s/it]"
     ]
    },
    {
     "name": "stdout",
     "output_type": "stream",
     "text": [
      "868727.yaml Lahore Pakistan\n"
     ]
    },
    {
     "name": "stderr",
     "output_type": "stream",
     "text": [
      "\r",
      " 26%|██████████▍                             | 549/2106 [09:49<29:09,  1.12s/it]"
     ]
    },
    {
     "name": "stdout",
     "output_type": "stream",
     "text": [
      "212452.yaml London United Kingdom\n"
     ]
    },
    {
     "name": "stderr",
     "output_type": "stream",
     "text": [
      "\r",
      " 26%|██████████▍                             | 550/2106 [09:50<28:21,  1.09s/it]"
     ]
    },
    {
     "name": "stdout",
     "output_type": "stream",
     "text": [
      "426429.yaml Leeds United Kingdom\n"
     ]
    },
    {
     "name": "stderr",
     "output_type": "stream",
     "text": [
      "\r",
      " 26%|██████████▍                             | 551/2106 [09:51<27:48,  1.07s/it]"
     ]
    },
    {
     "name": "stdout",
     "output_type": "stream",
     "text": [
      "858485.yaml Mirpur Pakistan\n"
     ]
    },
    {
     "name": "stderr",
     "output_type": "stream",
     "text": [
      "\r",
      " 26%|██████████▍                             | 552/2106 [09:53<29:47,  1.15s/it]"
     ]
    },
    {
     "name": "stdout",
     "output_type": "stream",
     "text": [
      "932867.yaml Barbados Barbados\n"
     ]
    },
    {
     "name": "stderr",
     "output_type": "stream",
     "text": [
      "\r",
      " 26%|██████████▌                             | 553/2106 [09:54<29:35,  1.14s/it]"
     ]
    },
    {
     "name": "stdout",
     "output_type": "stream",
     "text": [
      "1311739.yaml Rotterdam Netherlands\n"
     ]
    },
    {
     "name": "stderr",
     "output_type": "stream",
     "text": [
      "\r",
      " 26%|██████████▌                             | 554/2106 [09:55<29:26,  1.14s/it]"
     ]
    },
    {
     "name": "stdout",
     "output_type": "stream",
     "text": [
      "410340.yaml Bulawayo Zimbabwe\n"
     ]
    },
    {
     "name": "stderr",
     "output_type": "stream",
     "text": [
      "\r",
      " 26%|██████████▌                             | 555/2106 [09:56<28:32,  1.10s/it]"
     ]
    },
    {
     "name": "stdout",
     "output_type": "stream",
     "text": [
      "1029003.yaml London United Kingdom\n"
     ]
    },
    {
     "name": "stderr",
     "output_type": "stream",
     "text": [
      "\r",
      " 26%|██████████▌                             | 556/2106 [09:57<29:38,  1.15s/it]"
     ]
    },
    {
     "name": "stdout",
     "output_type": "stream",
     "text": [
      "1144483.yaml London United Kingdom\n"
     ]
    },
    {
     "name": "stderr",
     "output_type": "stream",
     "text": [
      "\r",
      " 26%|██████████▌                             | 557/2106 [09:58<29:19,  1.14s/it]"
     ]
    },
    {
     "name": "stdout",
     "output_type": "stream",
     "text": [
      "919617.yaml Harare Sports Club Zimbabwe\n"
     ]
    },
    {
     "name": "stderr",
     "output_type": "stream",
     "text": [
      "\r",
      " 26%|██████████▌                             | 558/2106 [09:59<28:26,  1.10s/it]"
     ]
    },
    {
     "name": "stdout",
     "output_type": "stream",
     "text": [
      "1130738.yaml Dhaka Bangladesh\n"
     ]
    },
    {
     "name": "stderr",
     "output_type": "stream",
     "text": [
      "\r",
      " 27%|██████████▌                             | 559/2106 [10:00<27:49,  1.08s/it]"
     ]
    },
    {
     "name": "stdout",
     "output_type": "stream",
     "text": [
      "1075504.yaml Kimberley South Africa\n"
     ]
    },
    {
     "name": "stderr",
     "output_type": "stream",
     "text": [
      "\r",
      " 27%|██████████▋                             | 560/2106 [10:02<29:45,  1.16s/it]"
     ]
    },
    {
     "name": "stdout",
     "output_type": "stream",
     "text": [
      "1215126.yaml Kirtipur Nepal\n"
     ]
    },
    {
     "name": "stderr",
     "output_type": "stream",
     "text": [
      "\r",
      " 27%|██████████▋                             | 561/2106 [10:03<29:31,  1.15s/it]"
     ]
    },
    {
     "name": "stdout",
     "output_type": "stream",
     "text": [
      "1133028.yaml Harare Sports Club Zimbabwe\n"
     ]
    },
    {
     "name": "stderr",
     "output_type": "stream",
     "text": [
      "\r",
      " 27%|██████████▋                             | 562/2106 [10:04<28:33,  1.11s/it]"
     ]
    },
    {
     "name": "stdout",
     "output_type": "stream",
     "text": [
      "1072312.yaml Sydney Cricket Ground Australia\n"
     ]
    },
    {
     "name": "stderr",
     "output_type": "stream",
     "text": [
      "\r",
      " 27%|██████████▋                             | 563/2106 [10:05<27:53,  1.08s/it]"
     ]
    },
    {
     "name": "stdout",
     "output_type": "stream",
     "text": [
      "439150.yaml Dominica Dominican Republic\n"
     ]
    },
    {
     "name": "stderr",
     "output_type": "stream",
     "text": [
      "\r",
      " 27%|██████████▋                             | 564/2106 [10:05<23:20,  1.10it/s]"
     ]
    },
    {
     "name": "stdout",
     "output_type": "stream",
     "text": [
      "473924.yaml Queenstown Events Centre None\n"
     ]
    },
    {
     "name": "stderr",
     "output_type": "stream",
     "text": [
      "\r",
      " 27%|██████████▋                             | 565/2106 [10:06<25:43,  1.00s/it]"
     ]
    },
    {
     "name": "stdout",
     "output_type": "stream",
     "text": [
      "410338.yaml Bulawayo Zimbabwe\n"
     ]
    },
    {
     "name": "stderr",
     "output_type": "stream",
     "text": [
      "\r",
      " 27%|██████████▊                             | 566/2106 [10:08<25:53,  1.01s/it]"
     ]
    },
    {
     "name": "stdout",
     "output_type": "stream",
     "text": [
      "750665.yaml Colombo Sri Lanka\n"
     ]
    },
    {
     "name": "stderr",
     "output_type": "stream",
     "text": [
      "\r",
      " 27%|██████████▊                             | 567/2106 [10:08<24:40,  1.04it/s]"
     ]
    },
    {
     "name": "stdout",
     "output_type": "stream",
     "text": [
      "520602.yaml Auckland New Zealand\n"
     ]
    },
    {
     "name": "stderr",
     "output_type": "stream",
     "text": [
      "\r",
      " 27%|██████████▊                             | 568/2106 [10:09<22:41,  1.13it/s]"
     ]
    },
    {
     "name": "stdout",
     "output_type": "stream",
     "text": [
      "366626.yaml Wellington New Zealand\n"
     ]
    },
    {
     "name": "stderr",
     "output_type": "stream",
     "text": [
      "\r",
      " 27%|██████████▊                             | 569/2106 [10:10<23:45,  1.08it/s]"
     ]
    },
    {
     "name": "stdout",
     "output_type": "stream",
     "text": [
      "1308244.yaml Dubai United Arab Emirates\n"
     ]
    },
    {
     "name": "stderr",
     "output_type": "stream",
     "text": [
      "\r",
      " 27%|██████████▊                             | 570/2106 [10:11<26:03,  1.02s/it]"
     ]
    },
    {
     "name": "stdout",
     "output_type": "stream",
     "text": [
      "249237.yaml Adelaide Oval Australia\n"
     ]
    },
    {
     "name": "stderr",
     "output_type": "stream",
     "text": [
      "\r",
      " 27%|██████████▊                             | 571/2106 [10:12<25:18,  1.01it/s]"
     ]
    },
    {
     "name": "stdout",
     "output_type": "stream",
     "text": [
      "635654.yaml Colombo Sri Lanka\n"
     ]
    },
    {
     "name": "stderr",
     "output_type": "stream",
     "text": [
      "\r",
      " 27%|██████████▊                             | 572/2106 [10:13<25:33,  1.00it/s]"
     ]
    },
    {
     "name": "stdout",
     "output_type": "stream",
     "text": [
      "1144492.yaml Nottingham United Kingdom\n"
     ]
    },
    {
     "name": "stderr",
     "output_type": "stream",
     "text": [
      "\r",
      " 27%|██████████▉                             | 573/2106 [10:14<24:56,  1.02it/s]"
     ]
    },
    {
     "name": "stdout",
     "output_type": "stream",
     "text": [
      "297797.yaml Vadodara India\n"
     ]
    },
    {
     "name": "stderr",
     "output_type": "stream",
     "text": [
      "\r",
      " 27%|██████████▉                             | 574/2106 [10:15<23:43,  1.08it/s]"
     ]
    },
    {
     "name": "stdout",
     "output_type": "stream",
     "text": [
      "656477.yaml Hobart Australia\n"
     ]
    },
    {
     "name": "stderr",
     "output_type": "stream",
     "text": [
      "\r",
      " 27%|██████████▉                             | 575/2106 [10:16<24:26,  1.04it/s]"
     ]
    },
    {
     "name": "stdout",
     "output_type": "stream",
     "text": [
      "1130739.yaml Dhaka Bangladesh\n"
     ]
    },
    {
     "name": "stderr",
     "output_type": "stream",
     "text": [
      "\r",
      " 27%|██████████▉                             | 576/2106 [10:17<27:17,  1.07s/it]"
     ]
    },
    {
     "name": "stdout",
     "output_type": "stream",
     "text": [
      "1153635.yaml Dhaka Bangladesh\n"
     ]
    },
    {
     "name": "stderr",
     "output_type": "stream",
     "text": [
      "\r",
      " 27%|██████████▉                             | 577/2106 [10:18<26:54,  1.06s/it]"
     ]
    },
    {
     "name": "stdout",
     "output_type": "stream",
     "text": [
      "1294970.yaml Kandy Sri Lanka\n"
     ]
    },
    {
     "name": "stderr",
     "output_type": "stream",
     "text": [
      "\r",
      " 27%|██████████▉                             | 578/2106 [10:19<26:39,  1.05s/it]"
     ]
    },
    {
     "name": "stdout",
     "output_type": "stream",
     "text": [
      "297804.yaml Gwalior India\n"
     ]
    },
    {
     "name": "stderr",
     "output_type": "stream",
     "text": [
      "\r",
      " 27%|██████████▉                             | 579/2106 [10:20<25:40,  1.01s/it]"
     ]
    },
    {
     "name": "stdout",
     "output_type": "stream",
     "text": [
      "543888.yaml Sharjah Cricket Stadium United Arab Emirates\n"
     ]
    },
    {
     "name": "stderr",
     "output_type": "stream",
     "text": [
      "\r",
      " 28%|███████████                             | 580/2106 [10:22<28:07,  1.11s/it]"
     ]
    },
    {
     "name": "stdout",
     "output_type": "stream",
     "text": [
      "1203674.yaml Bridgetown Barbados\n"
     ]
    },
    {
     "name": "stderr",
     "output_type": "stream",
     "text": [
      "\r",
      " 28%|███████████                             | 581/2106 [10:23<27:28,  1.08s/it]"
     ]
    },
    {
     "name": "stdout",
     "output_type": "stream",
     "text": [
      "749771.yaml Mount Maunganui New Zealand\n"
     ]
    },
    {
     "name": "stderr",
     "output_type": "stream",
     "text": [
      "\r",
      " 28%|███████████                             | 582/2106 [10:24<27:01,  1.06s/it]"
     ]
    },
    {
     "name": "stdout",
     "output_type": "stream",
     "text": [
      "433571.yaml Colombo Sri Lanka\n"
     ]
    },
    {
     "name": "stderr",
     "output_type": "stream",
     "text": [
      "\r",
      " 28%|███████████                             | 583/2106 [10:25<27:30,  1.08s/it]"
     ]
    },
    {
     "name": "stdout",
     "output_type": "stream",
     "text": [
      "461569.yaml Dubai International Cricket Stadium United Arab Emirates\n"
     ]
    },
    {
     "name": "stderr",
     "output_type": "stream",
     "text": [
      "\r",
      " 28%|███████████                             | 584/2106 [10:26<26:14,  1.03s/it]"
     ]
    },
    {
     "name": "stdout",
     "output_type": "stream",
     "text": [
      "267391.yaml Nairobi Kenya\n"
     ]
    },
    {
     "name": "stderr",
     "output_type": "stream",
     "text": [
      "\r",
      " 28%|███████████                             | 585/2106 [10:27<27:18,  1.08s/it]"
     ]
    },
    {
     "name": "stdout",
     "output_type": "stream",
     "text": [
      "343760.yaml Faisalabad Pakistan\n"
     ]
    },
    {
     "name": "stderr",
     "output_type": "stream",
     "text": [
      "\r",
      " 28%|███████████▏                            | 586/2106 [10:28<28:50,  1.14s/it]"
     ]
    },
    {
     "name": "stdout",
     "output_type": "stream",
     "text": [
      "523804.yaml Dublin Ireland\n"
     ]
    },
    {
     "name": "stderr",
     "output_type": "stream",
     "text": [
      "\r",
      " 28%|███████████▏                            | 587/2106 [10:29<27:57,  1.10s/it]"
     ]
    },
    {
     "name": "stdout",
     "output_type": "stream",
     "text": [
      "931392.yaml Mirpur Pakistan\n"
     ]
    },
    {
     "name": "stderr",
     "output_type": "stream",
     "text": [
      "\r",
      " 28%|███████████▏                            | 588/2106 [10:30<27:19,  1.08s/it]"
     ]
    },
    {
     "name": "stdout",
     "output_type": "stream",
     "text": [
      "351685.yaml Hobart Australia\n"
     ]
    },
    {
     "name": "stderr",
     "output_type": "stream",
     "text": [
      "\r",
      " 28%|███████████▏                            | 589/2106 [10:31<27:39,  1.09s/it]"
     ]
    },
    {
     "name": "stdout",
     "output_type": "stream",
     "text": [
      "65033.yaml London United Kingdom\n"
     ]
    },
    {
     "name": "stderr",
     "output_type": "stream",
     "text": [
      "\r",
      " 28%|███████████▏                            | 590/2106 [10:33<29:26,  1.17s/it]"
     ]
    },
    {
     "name": "stdout",
     "output_type": "stream",
     "text": [
      "489214.yaml St Lucia Saint Lucia\n"
     ]
    },
    {
     "name": "stderr",
     "output_type": "stream",
     "text": [
      "\r",
      " 28%|███████████▏                            | 591/2106 [10:34<29:07,  1.15s/it]"
     ]
    },
    {
     "name": "stdout",
     "output_type": "stream",
     "text": [
      "903595.yaml Indore India\n"
     ]
    },
    {
     "name": "stderr",
     "output_type": "stream",
     "text": [
      "\r",
      " 28%|███████████▏                            | 592/2106 [10:35<28:07,  1.11s/it]"
     ]
    },
    {
     "name": "stdout",
     "output_type": "stream",
     "text": [
      "433578.yaml Bangalore India\n"
     ]
    },
    {
     "name": "stderr",
     "output_type": "stream",
     "text": [
      "\r",
      " 28%|███████████▎                            | 593/2106 [10:36<27:25,  1.09s/it]"
     ]
    },
    {
     "name": "stdout",
     "output_type": "stream",
     "text": [
      "800473.yaml Centurion South Africa\n"
     ]
    },
    {
     "name": "stderr",
     "output_type": "stream",
     "text": [
      "\r",
      " 28%|███████████▎                            | 594/2106 [10:37<28:28,  1.13s/it]"
     ]
    },
    {
     "name": "stdout",
     "output_type": "stream",
     "text": [
      "249380.yaml Nairobi Kenya\n"
     ]
    },
    {
     "name": "stderr",
     "output_type": "stream",
     "text": [
      "\r",
      " 28%|███████████▎                            | 595/2106 [10:38<27:39,  1.10s/it]"
     ]
    },
    {
     "name": "stdout",
     "output_type": "stream",
     "text": [
      "319146.yaml St Kitts Saint Kitts and Nevis\n"
     ]
    },
    {
     "name": "stderr",
     "output_type": "stream",
     "text": [
      "\r",
      " 28%|███████████▎                            | 596/2106 [10:39<26:18,  1.05s/it]"
     ]
    },
    {
     "name": "stdout",
     "output_type": "stream",
     "text": [
      "736443.yaml Harare Sports Club Zimbabwe\n"
     ]
    },
    {
     "name": "stderr",
     "output_type": "stream",
     "text": [
      "\r",
      " 28%|███████████▎                            | 597/2106 [10:40<26:07,  1.04s/it]"
     ]
    },
    {
     "name": "stdout",
     "output_type": "stream",
     "text": [
      "489222.yaml Trinidad Trinidad and Tobago\n"
     ]
    },
    {
     "name": "stderr",
     "output_type": "stream",
     "text": [
      "\r",
      " 28%|███████████▎                            | 598/2106 [10:41<27:32,  1.10s/it]"
     ]
    },
    {
     "name": "stdout",
     "output_type": "stream",
     "text": [
      "319144.yaml Grenada Grenada\n"
     ]
    },
    {
     "name": "stderr",
     "output_type": "stream",
     "text": [
      "\r",
      " 28%|███████████▍                            | 599/2106 [10:42<26:59,  1.07s/it]"
     ]
    },
    {
     "name": "stdout",
     "output_type": "stream",
     "text": [
      "1134033.yaml Sharjah Cricket Stadium United Arab Emirates\n"
     ]
    },
    {
     "name": "stderr",
     "output_type": "stream",
     "text": [
      "\r",
      " 28%|███████████▍                            | 600/2106 [10:43<26:34,  1.06s/it]"
     ]
    },
    {
     "name": "stdout",
     "output_type": "stream",
     "text": [
      "64939.yaml Visakhapatnam India\n"
     ]
    },
    {
     "name": "stderr",
     "output_type": "stream",
     "text": [
      "\r",
      " 29%|███████████▍                            | 601/2106 [10:44<26:18,  1.05s/it]"
     ]
    },
    {
     "name": "stdout",
     "output_type": "stream",
     "text": [
      "919615.yaml Harare Sports Club Zimbabwe\n"
     ]
    },
    {
     "name": "stderr",
     "output_type": "stream",
     "text": [
      "\r",
      " 29%|███████████▍                            | 602/2106 [10:45<25:19,  1.01s/it]"
     ]
    },
    {
     "name": "stdout",
     "output_type": "stream",
     "text": [
      "518961.yaml Sydney Cricket Ground Australia\n"
     ]
    },
    {
     "name": "stderr",
     "output_type": "stream",
     "text": [
      "\r",
      " 29%|███████████▍                            | 603/2106 [10:47<27:43,  1.11s/it]"
     ]
    },
    {
     "name": "stdout",
     "output_type": "stream",
     "text": [
      "238197.yaml Cape Town South Africa\n"
     ]
    },
    {
     "name": "stderr",
     "output_type": "stream",
     "text": [
      "\r",
      " 29%|███████████▍                            | 604/2106 [10:48<27:51,  1.11s/it]"
     ]
    },
    {
     "name": "stdout",
     "output_type": "stream",
     "text": [
      "289107.yaml Bangalore India\n"
     ]
    },
    {
     "name": "stderr",
     "output_type": "stream",
     "text": [
      "\r",
      " 29%|███████████▍                            | 605/2106 [10:49<27:10,  1.09s/it]"
     ]
    },
    {
     "name": "stdout",
     "output_type": "stream",
     "text": [
      "239907.yaml Antigua Antigua and Barbuda\n"
     ]
    },
    {
     "name": "stderr",
     "output_type": "stream",
     "text": [
      "\r",
      " 29%|███████████▌                            | 606/2106 [10:50<26:42,  1.07s/it]"
     ]
    },
    {
     "name": "stdout",
     "output_type": "stream",
     "text": [
      "1133010.yaml Harare Sports Club Zimbabwe\n"
     ]
    },
    {
     "name": "stderr",
     "output_type": "stream",
     "text": [
      "\r",
      " 29%|███████████▌                            | 607/2106 [10:51<26:20,  1.05s/it]"
     ]
    },
    {
     "name": "stdout",
     "output_type": "stream",
     "text": [
      "745161.yaml Hambantota Sri Lanka\n"
     ]
    },
    {
     "name": "stderr",
     "output_type": "stream",
     "text": [
      "\r",
      " 29%|███████████▌                            | 608/2106 [10:52<28:23,  1.14s/it]"
     ]
    },
    {
     "name": "stdout",
     "output_type": "stream",
     "text": [
      "249229.yaml Sydney Cricket Ground Australia\n"
     ]
    },
    {
     "name": "stderr",
     "output_type": "stream",
     "text": [
      "\r",
      " 29%|███████████▌                            | 609/2106 [10:53<25:33,  1.02s/it]"
     ]
    },
    {
     "name": "stdout",
     "output_type": "stream",
     "text": [
      "656473.yaml Sydney Cricket Ground Australia\n"
     ]
    },
    {
     "name": "stderr",
     "output_type": "stream",
     "text": [
      "\r",
      " 29%|███████████▌                            | 610/2106 [10:54<25:58,  1.04s/it]"
     ]
    },
    {
     "name": "stdout",
     "output_type": "stream",
     "text": [
      "1157754.yaml Guwahati India\n"
     ]
    },
    {
     "name": "stderr",
     "output_type": "stream",
     "text": [
      "\r",
      " 29%|███████████▌                            | 611/2106 [10:55<25:49,  1.04s/it]"
     ]
    },
    {
     "name": "stdout",
     "output_type": "stream",
     "text": [
      "1206063.yaml Dubai United Arab Emirates\n"
     ]
    },
    {
     "name": "stderr",
     "output_type": "stream",
     "text": [
      "\r",
      " 29%|███████████▌                            | 612/2106 [10:56<25:43,  1.03s/it]"
     ]
    },
    {
     "name": "stdout",
     "output_type": "stream",
     "text": [
      "1305496.yaml Kirtipur Nepal\n"
     ]
    },
    {
     "name": "stderr",
     "output_type": "stream",
     "text": [
      "\r",
      " 29%|███████████▋                            | 613/2106 [10:57<27:09,  1.09s/it]"
     ]
    },
    {
     "name": "stdout",
     "output_type": "stream",
     "text": [
      "1104479.yaml Galle International Stadium Sri Lanka\n"
     ]
    },
    {
     "name": "stderr",
     "output_type": "stream",
     "text": [
      "\r",
      " 29%|███████████▋                            | 614/2106 [10:58<26:38,  1.07s/it]"
     ]
    },
    {
     "name": "stdout",
     "output_type": "stream",
     "text": [
      "636159.yaml Melbourne Cricket Ground Australia\n"
     ]
    },
    {
     "name": "stderr",
     "output_type": "stream",
     "text": [
      "\r",
      " 29%|███████████▋                            | 615/2106 [10:59<26:16,  1.06s/it]"
     ]
    },
    {
     "name": "stdout",
     "output_type": "stream",
     "text": [
      "1251951.yaml Dublin Ireland\n"
     ]
    },
    {
     "name": "stderr",
     "output_type": "stream",
     "text": [
      "\r",
      " 29%|███████████▋                            | 616/2106 [11:00<26:46,  1.08s/it]"
     ]
    },
    {
     "name": "stdout",
     "output_type": "stream",
     "text": [
      "343733.yaml Rangiri Dambulla International Stadium None\n"
     ]
    },
    {
     "name": "stderr",
     "output_type": "stream",
     "text": [
      "\r",
      " 29%|███████████▋                            | 617/2106 [11:02<28:38,  1.15s/it]"
     ]
    },
    {
     "name": "stdout",
     "output_type": "stream",
     "text": [
      "521219.yaml Delhi India\n"
     ]
    },
    {
     "name": "stderr",
     "output_type": "stream",
     "text": [
      "\r",
      " 29%|███████████▋                            | 618/2106 [11:03<26:40,  1.08s/it]"
     ]
    },
    {
     "name": "stdout",
     "output_type": "stream",
     "text": [
      "534219.yaml Manchester United Kingdom\n"
     ]
    },
    {
     "name": "stderr",
     "output_type": "stream",
     "text": [
      "\r",
      " 29%|███████████▊                            | 619/2106 [11:04<26:30,  1.07s/it]"
     ]
    },
    {
     "name": "stdout",
     "output_type": "stream",
     "text": [
      "1078659.yaml Abu Dhabi United Arab Emirates\n"
     ]
    },
    {
     "name": "stderr",
     "output_type": "stream",
     "text": [
      "\r",
      " 29%|███████████▊                            | 620/2106 [11:05<24:37,  1.01it/s]"
     ]
    },
    {
     "name": "stdout",
     "output_type": "stream",
     "text": [
      "914209.yaml Christchurch New Zealand\n"
     ]
    },
    {
     "name": "stderr",
     "output_type": "stream",
     "text": [
      "\r",
      " 29%|███████████▊                            | 621/2106 [11:06<24:50,  1.00s/it]"
     ]
    },
    {
     "name": "stdout",
     "output_type": "stream",
     "text": [
      "1193506.yaml Colombo Sri Lanka\n"
     ]
    },
    {
     "name": "stderr",
     "output_type": "stream",
     "text": [
      "\r",
      " 30%|███████████▊                            | 622/2106 [11:06<23:27,  1.05it/s]"
     ]
    },
    {
     "name": "stdout",
     "output_type": "stream",
     "text": [
      "66202.yaml Birmingham United Kingdom\n"
     ]
    },
    {
     "name": "stderr",
     "output_type": "stream",
     "text": [
      "\r",
      " 30%|███████████▊                            | 623/2106 [11:07<23:14,  1.06it/s]"
     ]
    },
    {
     "name": "stdout",
     "output_type": "stream",
     "text": [
      "1115803.yaml Nelson New Zealand\n"
     ]
    },
    {
     "name": "stderr",
     "output_type": "stream",
     "text": [
      "\r",
      " 30%|███████████▊                            | 624/2106 [11:09<26:07,  1.06s/it]"
     ]
    },
    {
     "name": "stdout",
     "output_type": "stream",
     "text": [
      "1153253.yaml Dubai International Cricket Stadium United Arab Emirates\n"
     ]
    },
    {
     "name": "stderr",
     "output_type": "stream",
     "text": [
      "\r",
      " 30%|███████████▊                            | 625/2106 [11:10<25:46,  1.04s/it]"
     ]
    },
    {
     "name": "stdout",
     "output_type": "stream",
     "text": [
      "1133003.yaml Harare Zimbabwe\n"
     ]
    },
    {
     "name": "stderr",
     "output_type": "stream",
     "text": [
      "\r",
      " 30%|███████████▉                            | 626/2106 [11:11<24:34,  1.00it/s]"
     ]
    },
    {
     "name": "stdout",
     "output_type": "stream",
     "text": [
      "1115806.yaml Wellington New Zealand\n"
     ]
    },
    {
     "name": "stderr",
     "output_type": "stream",
     "text": [
      "\r",
      " 30%|███████████▉                            | 627/2106 [11:12<27:34,  1.12s/it]"
     ]
    },
    {
     "name": "stdout",
     "output_type": "stream",
     "text": [
      "392619.yaml Abu Dhabi United Arab Emirates\n"
     ]
    },
    {
     "name": "stderr",
     "output_type": "stream",
     "text": [
      "\r",
      " 30%|███████████▉                            | 628/2106 [11:13<28:57,  1.18s/it]"
     ]
    },
    {
     "name": "stdout",
     "output_type": "stream",
     "text": [
      "1026849.yaml Hong Kong China\n"
     ]
    },
    {
     "name": "stderr",
     "output_type": "stream",
     "text": [
      "\r",
      " 30%|███████████▉                            | 629/2106 [11:14<27:49,  1.13s/it]"
     ]
    },
    {
     "name": "stdout",
     "output_type": "stream",
     "text": [
      "567369.yaml Centurion South Africa\n"
     ]
    },
    {
     "name": "stderr",
     "output_type": "stream",
     "text": [
      "\r",
      " 30%|███████████▉                            | 630/2106 [11:15<27:01,  1.10s/it]"
     ]
    },
    {
     "name": "stdout",
     "output_type": "stream",
     "text": [
      "1168511.yaml Dublin Ireland\n"
     ]
    },
    {
     "name": "stderr",
     "output_type": "stream",
     "text": [
      "\r",
      " 30%|███████████▉                            | 631/2106 [11:16<25:42,  1.05s/it]"
     ]
    },
    {
     "name": "stdout",
     "output_type": "stream",
     "text": [
      "352667.yaml Barbados Barbados\n"
     ]
    },
    {
     "name": "stderr",
     "output_type": "stream",
     "text": [
      "\r",
      " 30%|████████████                            | 632/2106 [11:17<25:21,  1.03s/it]"
     ]
    },
    {
     "name": "stdout",
     "output_type": "stream",
     "text": [
      "803797.yaml Dubai United Arab Emirates\n"
     ]
    },
    {
     "name": "stderr",
     "output_type": "stream",
     "text": [
      "\r",
      " 30%|████████████                            | 633/2106 [11:18<26:49,  1.09s/it]"
     ]
    },
    {
     "name": "stdout",
     "output_type": "stream",
     "text": [
      "894291.yaml Harare Sports Club Zimbabwe\n"
     ]
    },
    {
     "name": "stderr",
     "output_type": "stream",
     "text": [
      "\r",
      " 30%|████████████                            | 634/2106 [11:19<25:37,  1.04s/it]"
     ]
    },
    {
     "name": "stdout",
     "output_type": "stream",
     "text": [
      "1022369.yaml Cardiff United Kingdom\n"
     ]
    },
    {
     "name": "stderr",
     "output_type": "stream",
     "text": [
      "\r",
      " 30%|████████████                            | 635/2106 [11:20<24:21,  1.01it/s]"
     ]
    },
    {
     "name": "stdout",
     "output_type": "stream",
     "text": [
      "1142585.yaml Rangiri Dambulla International Stadium None\n"
     ]
    },
    {
     "name": "stderr",
     "output_type": "stream",
     "text": [
      "\r",
      " 30%|████████████                            | 636/2106 [11:21<24:00,  1.02it/s]"
     ]
    },
    {
     "name": "stdout",
     "output_type": "stream",
     "text": [
      "64941.yaml Ahmedabad India\n"
     ]
    },
    {
     "name": "stderr",
     "output_type": "stream",
     "text": [
      "\r",
      " 30%|████████████                            | 637/2106 [11:22<24:52,  1.02s/it]"
     ]
    },
    {
     "name": "stdout",
     "output_type": "stream",
     "text": [
      "1244022.yaml Dhaka Bangladesh\n"
     ]
    },
    {
     "name": "stderr",
     "output_type": "stream",
     "text": [
      "\r",
      " 30%|████████████                            | 638/2106 [11:23<22:01,  1.11it/s]"
     ]
    },
    {
     "name": "stdout",
     "output_type": "stream",
     "text": [
      "660825.yaml King City United States\n"
     ]
    },
    {
     "name": "stderr",
     "output_type": "stream",
     "text": [
      "\r",
      " 30%|████████████▏                           | 639/2106 [11:24<21:48,  1.12it/s]"
     ]
    },
    {
     "name": "stdout",
     "output_type": "stream",
     "text": [
      "415275.yaml Centurion South Africa\n"
     ]
    },
    {
     "name": "stderr",
     "output_type": "stream",
     "text": [
      "\r",
      " 30%|████████████▏                           | 640/2106 [11:25<21:51,  1.12it/s]"
     ]
    },
    {
     "name": "stdout",
     "output_type": "stream",
     "text": [
      "1317900.yaml Port of Spain Trinidad and Tobago\n"
     ]
    },
    {
     "name": "stderr",
     "output_type": "stream",
     "text": [
      "\r",
      " 30%|████████████▏                           | 641/2106 [11:26<22:51,  1.07it/s]"
     ]
    },
    {
     "name": "stdout",
     "output_type": "stream",
     "text": [
      "564781.yaml Hambantota Sri Lanka\n"
     ]
    },
    {
     "name": "stderr",
     "output_type": "stream",
     "text": [
      "\r",
      " 30%|████████████▏                           | 642/2106 [11:27<25:44,  1.06s/it]"
     ]
    },
    {
     "name": "stdout",
     "output_type": "stream",
     "text": [
      "64935.yaml Wellington New Zealand\n"
     ]
    },
    {
     "name": "stderr",
     "output_type": "stream",
     "text": [
      "\r",
      " 31%|████████████▏                           | 643/2106 [11:28<25:29,  1.05s/it]"
     ]
    },
    {
     "name": "stdout",
     "output_type": "stream",
     "text": [
      "1098208.yaml Antigua Antigua and Barbuda\n"
     ]
    },
    {
     "name": "stderr",
     "output_type": "stream",
     "text": [
      "\r",
      " 31%|████████████▏                           | 644/2106 [11:29<25:19,  1.04s/it]"
     ]
    },
    {
     "name": "stdout",
     "output_type": "stream",
     "text": [
      "1142920.yaml Bulawayo Zimbabwe\n"
     ]
    },
    {
     "name": "stderr",
     "output_type": "stream",
     "text": [
      "\r",
      " 31%|████████████▎                           | 645/2106 [11:30<25:12,  1.04s/it]"
     ]
    },
    {
     "name": "stdout",
     "output_type": "stream",
     "text": [
      "536931.yaml Ahmedabad India\n"
     ]
    },
    {
     "name": "stderr",
     "output_type": "stream",
     "text": [
      "\r",
      " 31%|████████████▎                           | 646/2106 [11:31<25:50,  1.06s/it]"
     ]
    },
    {
     "name": "stdout",
     "output_type": "stream",
     "text": [
      "685733.yaml Port Elizabeth South Africa\n"
     ]
    },
    {
     "name": "stderr",
     "output_type": "stream",
     "text": [
      "\r",
      " 31%|████████████▎                           | 647/2106 [11:33<27:48,  1.14s/it]"
     ]
    },
    {
     "name": "stdout",
     "output_type": "stream",
     "text": [
      "247460.yaml Trinidad Trinidad and Tobago\n"
     ]
    },
    {
     "name": "stderr",
     "output_type": "stream",
     "text": [
      "\r",
      " 31%|████████████▎                           | 648/2106 [11:34<26:14,  1.08s/it]"
     ]
    },
    {
     "name": "stdout",
     "output_type": "stream",
     "text": [
      "64844.yaml Dhaka Bangladesh\n"
     ]
    },
    {
     "name": "stderr",
     "output_type": "stream",
     "text": [
      "\r",
      " 31%|████████████▎                           | 649/2106 [11:34<24:59,  1.03s/it]"
     ]
    },
    {
     "name": "stdout",
     "output_type": "stream",
     "text": [
      "1294971.yaml Kandy Sri Lanka\n"
     ]
    },
    {
     "name": "stderr",
     "output_type": "stream",
     "text": [
      "\r",
      " 31%|████████████▎                           | 650/2106 [11:36<28:40,  1.18s/it]"
     ]
    },
    {
     "name": "stdout",
     "output_type": "stream",
     "text": [
      "1322038.yaml Aberdeen United Kingdom\n"
     ]
    },
    {
     "name": "stderr",
     "output_type": "stream",
     "text": [
      "\r",
      " 31%|████████████▎                           | 651/2106 [11:37<27:30,  1.13s/it]"
     ]
    },
    {
     "name": "stdout",
     "output_type": "stream",
     "text": [
      "730291.yaml St Kitts Saint Kitts and Nevis\n"
     ]
    },
    {
     "name": "stderr",
     "output_type": "stream",
     "text": [
      "\r",
      " 31%|████████████▍                           | 652/2106 [11:38<28:55,  1.19s/it]"
     ]
    },
    {
     "name": "stdout",
     "output_type": "stream",
     "text": [
      "936135.yaml Centurion South Africa\n"
     ]
    },
    {
     "name": "stderr",
     "output_type": "stream",
     "text": [
      "\r",
      " 31%|████████████▍                           | 653/2106 [11:39<26:55,  1.11s/it]"
     ]
    },
    {
     "name": "stdout",
     "output_type": "stream",
     "text": [
      "216669.yaml Durban South Africa\n"
     ]
    },
    {
     "name": "stderr",
     "output_type": "stream",
     "text": [
      "\r",
      " 31%|████████████▍                           | 654/2106 [11:40<26:16,  1.09s/it]"
     ]
    },
    {
     "name": "stdout",
     "output_type": "stream",
     "text": [
      "433567.yaml Colombo Sri Lanka\n"
     ]
    },
    {
     "name": "stderr",
     "output_type": "stream",
     "text": [
      "\r",
      " 31%|████████████▍                           | 655/2106 [11:41<25:03,  1.04s/it]"
     ]
    },
    {
     "name": "stdout",
     "output_type": "stream",
     "text": [
      "298805.yaml Centurion South Africa\n"
     ]
    },
    {
     "name": "stderr",
     "output_type": "stream",
     "text": [
      "\r",
      " 31%|████████████▍                           | 656/2106 [11:42<24:57,  1.03s/it]"
     ]
    },
    {
     "name": "stdout",
     "output_type": "stream",
     "text": [
      "631138.yaml Amstelveen Netherlands\n"
     ]
    },
    {
     "name": "stderr",
     "output_type": "stream",
     "text": [
      "\r",
      " 31%|████████████▍                           | 657/2106 [11:44<27:06,  1.12s/it]"
     ]
    },
    {
     "name": "stdout",
     "output_type": "stream",
     "text": [
      "727921.yaml Dubai International Cricket Stadium United Arab Emirates\n"
     ]
    },
    {
     "name": "stderr",
     "output_type": "stream",
     "text": [
      "\r",
      " 31%|████████████▍                           | 658/2106 [11:44<24:53,  1.03s/it]"
     ]
    },
    {
     "name": "stdout",
     "output_type": "stream",
     "text": [
      "566948.yaml Birmingham United Kingdom\n"
     ]
    },
    {
     "name": "stderr",
     "output_type": "stream",
     "text": [
      "\r",
      " 31%|████████████▌                           | 659/2106 [11:45<24:49,  1.03s/it]"
     ]
    },
    {
     "name": "stdout",
     "output_type": "stream",
     "text": [
      "1203673.yaml Bridgetown Barbados\n"
     ]
    },
    {
     "name": "stderr",
     "output_type": "stream",
     "text": [
      "\r",
      " 31%|████████████▌                           | 660/2106 [11:46<23:16,  1.04it/s]"
     ]
    },
    {
     "name": "stdout",
     "output_type": "stream",
     "text": [
      "456666.yaml Rangiri Dambulla International Stadium None\n"
     ]
    },
    {
     "name": "stderr",
     "output_type": "stream",
     "text": [
      "\r",
      " 31%|████████████▌                           | 661/2106 [11:47<23:41,  1.02it/s]"
     ]
    },
    {
     "name": "stdout",
     "output_type": "stream",
     "text": [
      "1022357.yaml Cardiff United Kingdom\n"
     ]
    },
    {
     "name": "stderr",
     "output_type": "stream",
     "text": [
      "\r",
      " 31%|████████████▌                           | 662/2106 [11:48<23:58,  1.00it/s]"
     ]
    },
    {
     "name": "stdout",
     "output_type": "stream",
     "text": [
      "1144501.yaml Southampton United Kingdom\n"
     ]
    },
    {
     "name": "stderr",
     "output_type": "stream",
     "text": [
      "\r",
      " 31%|████████████▌                           | 663/2106 [11:49<21:11,  1.13it/s]"
     ]
    },
    {
     "name": "stdout",
     "output_type": "stream",
     "text": [
      "433576.yaml Mirpur Pakistan\n"
     ]
    },
    {
     "name": "stderr",
     "output_type": "stream",
     "text": [
      "\r",
      " 32%|████████████▌                           | 664/2106 [11:50<24:25,  1.02s/it]"
     ]
    },
    {
     "name": "stdout",
     "output_type": "stream",
     "text": [
      "913659.yaml Leeds United Kingdom\n"
     ]
    },
    {
     "name": "stderr",
     "output_type": "stream",
     "text": [
      "\r",
      " 32%|████████████▋                           | 665/2106 [11:51<25:12,  1.05s/it]"
     ]
    },
    {
     "name": "stdout",
     "output_type": "stream",
     "text": [
      "538070.yaml Mirpur Pakistan\n"
     ]
    },
    {
     "name": "stderr",
     "output_type": "stream",
     "text": [
      "\r",
      " 32%|████████████▋                           | 666/2106 [11:52<24:20,  1.01s/it]"
     ]
    },
    {
     "name": "stdout",
     "output_type": "stream",
     "text": [
      "467886.yaml Bangalore India\n"
     ]
    },
    {
     "name": "stderr",
     "output_type": "stream",
     "text": [
      "\r",
      " 32%|████████████▋                           | 667/2106 [11:53<24:19,  1.01s/it]"
     ]
    },
    {
     "name": "stdout",
     "output_type": "stream",
     "text": [
      "1131279.yaml Dubai United Arab Emirates\n"
     ]
    },
    {
     "name": "stderr",
     "output_type": "stream",
     "text": [
      "\r",
      " 32%|████████████▋                           | 668/2106 [11:55<26:35,  1.11s/it]"
     ]
    },
    {
     "name": "stdout",
     "output_type": "stream",
     "text": [
      "415273.yaml Centurion South Africa\n"
     ]
    },
    {
     "name": "stderr",
     "output_type": "stream",
     "text": [
      "\r",
      " 32%|████████████▋                           | 669/2106 [11:56<26:41,  1.11s/it]"
     ]
    },
    {
     "name": "stdout",
     "output_type": "stream",
     "text": [
      "237568.yaml Wellington New Zealand\n"
     ]
    },
    {
     "name": "stderr",
     "output_type": "stream",
     "text": [
      "\r",
      " 32%|████████████▋                           | 670/2106 [11:57<25:17,  1.06s/it]"
     ]
    },
    {
     "name": "stdout",
     "output_type": "stream",
     "text": [
      "582190.yaml Hambantota Sri Lanka\n"
     ]
    },
    {
     "name": "stderr",
     "output_type": "stream",
     "text": [
      "\r",
      " 32%|████████████▋                           | 671/2106 [11:58<25:02,  1.05s/it]"
     ]
    },
    {
     "name": "stdout",
     "output_type": "stream",
     "text": [
      "1302627.yaml Dubai United Arab Emirates\n"
     ]
    },
    {
     "name": "stderr",
     "output_type": "stream",
     "text": [
      "\r",
      " 32%|████████████▊                           | 672/2106 [11:58<22:38,  1.06it/s]"
     ]
    },
    {
     "name": "stdout",
     "output_type": "stream",
     "text": [
      "430890.yaml Delhi India\n"
     ]
    },
    {
     "name": "stderr",
     "output_type": "stream",
     "text": [
      "\r",
      " 32%|████████████▊                           | 673/2106 [11:59<23:11,  1.03it/s]"
     ]
    },
    {
     "name": "stdout",
     "output_type": "stream",
     "text": [
      "225249.yaml Birmingham United Kingdom\n"
     ]
    },
    {
     "name": "stderr",
     "output_type": "stream",
     "text": [
      "\r",
      " 32%|████████████▊                           | 674/2106 [12:01<25:45,  1.08s/it]"
     ]
    },
    {
     "name": "stdout",
     "output_type": "stream",
     "text": [
      "1307296.yaml Kandy Sri Lanka\n"
     ]
    },
    {
     "name": "stderr",
     "output_type": "stream",
     "text": [
      "\r",
      " 32%|████████████▊                           | 675/2106 [12:02<26:04,  1.09s/it]"
     ]
    },
    {
     "name": "stdout",
     "output_type": "stream",
     "text": [
      "578614.yaml Cardiff United Kingdom\n"
     ]
    },
    {
     "name": "stderr",
     "output_type": "stream",
     "text": [
      "\r",
      " 32%|████████████▊                           | 676/2106 [12:03<25:30,  1.07s/it]"
     ]
    },
    {
     "name": "stdout",
     "output_type": "stream",
     "text": [
      "64881.yaml Harare Zimbabwe\n"
     ]
    },
    {
     "name": "stderr",
     "output_type": "stream",
     "text": [
      "\r",
      " 32%|████████████▊                           | 677/2106 [12:04<25:56,  1.09s/it]"
     ]
    },
    {
     "name": "stdout",
     "output_type": "stream",
     "text": [
      "562442.yaml Colombo Sri Lanka\n"
     ]
    },
    {
     "name": "stderr",
     "output_type": "stream",
     "text": [
      "\r",
      " 32%|████████████▉                           | 678/2106 [12:05<25:27,  1.07s/it]"
     ]
    },
    {
     "name": "stdout",
     "output_type": "stream",
     "text": [
      "656461.yaml Sydney Cricket Ground Australia\n"
     ]
    },
    {
     "name": "stderr",
     "output_type": "stream",
     "text": [
      "\r",
      " 32%|████████████▉                           | 679/2106 [12:06<27:18,  1.15s/it]"
     ]
    },
    {
     "name": "stdout",
     "output_type": "stream",
     "text": [
      "293483.yaml Colombo Sri Lanka\n"
     ]
    },
    {
     "name": "stderr",
     "output_type": "stream",
     "text": [
      "\r",
      " 32%|████████████▉                           | 680/2106 [12:08<27:08,  1.14s/it]"
     ]
    },
    {
     "name": "stdout",
     "output_type": "stream",
     "text": [
      "343761.yaml Lahore Pakistan\n"
     ]
    },
    {
     "name": "stderr",
     "output_type": "stream",
     "text": [
      "\r",
      " 32%|████████████▉                           | 681/2106 [12:08<25:33,  1.08s/it]"
     ]
    },
    {
     "name": "stdout",
     "output_type": "stream",
     "text": [
      "573016.yaml Brisbane Australia\n"
     ]
    },
    {
     "name": "stderr",
     "output_type": "stream",
     "text": [
      "\r",
      " 32%|████████████▉                           | 682/2106 [12:10<25:09,  1.06s/it]"
     ]
    },
    {
     "name": "stdout",
     "output_type": "stream",
     "text": [
      "518959.yaml Adelaide Oval Australia\n"
     ]
    },
    {
     "name": "stderr",
     "output_type": "stream",
     "text": [
      "\r",
      " 32%|████████████▉                           | 683/2106 [12:11<24:53,  1.05s/it]"
     ]
    },
    {
     "name": "stdout",
     "output_type": "stream",
     "text": [
      "1144148.yaml Paarl South Africa\n"
     ]
    },
    {
     "name": "stderr",
     "output_type": "stream",
     "text": [
      "\r",
      " 32%|████████████▉                           | 684/2106 [12:12<26:33,  1.12s/it]"
     ]
    },
    {
     "name": "stdout",
     "output_type": "stream",
     "text": [
      "1144529.yaml Birmingham United Kingdom\n"
     ]
    },
    {
     "name": "stderr",
     "output_type": "stream",
     "text": [
      "\r",
      " 33%|█████████████                           | 685/2106 [12:13<26:10,  1.11s/it]"
     ]
    },
    {
     "name": "stdout",
     "output_type": "stream",
     "text": [
      "1004285.yaml Edinburgh United Kingdom\n"
     ]
    },
    {
     "name": "stderr",
     "output_type": "stream",
     "text": [
      "\r",
      " 33%|█████████████                           | 686/2106 [12:14<25:35,  1.08s/it]"
     ]
    },
    {
     "name": "stdout",
     "output_type": "stream",
     "text": [
      "251494.yaml Wellington New Zealand\n"
     ]
    },
    {
     "name": "stderr",
     "output_type": "stream",
     "text": [
      "\r",
      " 33%|█████████████                           | 687/2106 [12:15<25:00,  1.06s/it]"
     ]
    },
    {
     "name": "stdout",
     "output_type": "stream",
     "text": [
      "247472.yaml Trinidad Trinidad and Tobago\n"
     ]
    },
    {
     "name": "stderr",
     "output_type": "stream",
     "text": [
      "\r",
      " 33%|█████████████                           | 688/2106 [12:16<24:54,  1.05s/it]"
     ]
    },
    {
     "name": "stdout",
     "output_type": "stream",
     "text": [
      "1050225.yaml Sharjah Cricket Stadium United Arab Emirates\n"
     ]
    },
    {
     "name": "stderr",
     "output_type": "stream",
     "text": [
      "\r",
      " 33%|█████████████                           | 689/2106 [12:17<26:08,  1.11s/it]"
     ]
    },
    {
     "name": "stdout",
     "output_type": "stream",
     "text": [
      "1322035.yaml Glasgow United Kingdom\n"
     ]
    },
    {
     "name": "stderr",
     "output_type": "stream",
     "text": [
      "\r",
      " 33%|█████████████                           | 690/2106 [12:18<25:31,  1.08s/it]"
     ]
    },
    {
     "name": "stdout",
     "output_type": "stream",
     "text": [
      "743943.yaml Birmingham United Kingdom\n"
     ]
    },
    {
     "name": "stderr",
     "output_type": "stream",
     "text": [
      "\r",
      " 33%|█████████████                           | 691/2106 [12:19<24:23,  1.03s/it]"
     ]
    },
    {
     "name": "stdout",
     "output_type": "stream",
     "text": [
      "291365.yaml Adelaide Oval Australia\n"
     ]
    },
    {
     "name": "stderr",
     "output_type": "stream",
     "text": [
      "\r",
      " 33%|█████████████▏                          | 692/2106 [12:20<24:17,  1.03s/it]"
     ]
    },
    {
     "name": "stdout",
     "output_type": "stream",
     "text": [
      "648651.yaml Johannesburg South Africa\n"
     ]
    },
    {
     "name": "stderr",
     "output_type": "stream",
     "text": [
      "\r",
      " 33%|█████████████▏                          | 693/2106 [12:21<21:19,  1.10it/s]"
     ]
    },
    {
     "name": "stdout",
     "output_type": "stream",
     "text": [
      "602475.yaml Hambantota Sri Lanka\n"
     ]
    },
    {
     "name": "stderr",
     "output_type": "stream",
     "text": [
      "\r",
      " 33%|█████████████▏                          | 694/2106 [12:22<22:09,  1.06it/s]"
     ]
    },
    {
     "name": "stdout",
     "output_type": "stream",
     "text": [
      "1020013.yaml Auckland New Zealand\n"
     ]
    },
    {
     "name": "stderr",
     "output_type": "stream",
     "text": [
      "\r",
      " 33%|█████████████▏                          | 695/2106 [12:23<24:53,  1.06s/it]"
     ]
    },
    {
     "name": "stdout",
     "output_type": "stream",
     "text": [
      "1262344.yaml Dhaka Bangladesh\n"
     ]
    },
    {
     "name": "stderr",
     "output_type": "stream",
     "text": [
      "\r",
      " 33%|█████████████▏                          | 696/2106 [12:24<24:38,  1.05s/it]"
     ]
    },
    {
     "name": "stdout",
     "output_type": "stream",
     "text": [
      "656469.yaml Wellington New Zealand\n"
     ]
    },
    {
     "name": "stderr",
     "output_type": "stream",
     "text": [
      "\r",
      " 33%|█████████████▏                          | 697/2106 [12:25<22:44,  1.03it/s]"
     ]
    },
    {
     "name": "stdout",
     "output_type": "stream",
     "text": [
      "65652.yaml Melbourne Australia\n"
     ]
    },
    {
     "name": "stderr",
     "output_type": "stream",
     "text": [
      "\r",
      " 33%|█████████████▎                          | 698/2106 [12:26<22:38,  1.04it/s]"
     ]
    },
    {
     "name": "stdout",
     "output_type": "stream",
     "text": [
      "464720.yaml Dublin Ireland\n"
     ]
    },
    {
     "name": "stderr",
     "output_type": "stream",
     "text": [
      "\r",
      " 33%|█████████████▎                          | 699/2106 [12:27<22:19,  1.05it/s]"
     ]
    },
    {
     "name": "stdout",
     "output_type": "stream",
     "text": [
      "573017.yaml Sydney Cricket Ground Australia\n"
     ]
    },
    {
     "name": "stderr",
     "output_type": "stream",
     "text": [
      "\r",
      " 33%|█████████████▎                          | 700/2106 [12:28<25:41,  1.10s/it]"
     ]
    },
    {
     "name": "stdout",
     "output_type": "stream",
     "text": [
      "1312809.yaml Pearland United States\n"
     ]
    },
    {
     "name": "stderr",
     "output_type": "stream",
     "text": [
      "\r",
      " 33%|█████████████▎                          | 701/2106 [12:29<25:10,  1.07s/it]"
     ]
    },
    {
     "name": "stdout",
     "output_type": "stream",
     "text": [
      "225252.yaml Chester-le-Street United Kingdom\n"
     ]
    },
    {
     "name": "stderr",
     "output_type": "stream",
     "text": [
      "\r",
      " 33%|█████████████▎                          | 702/2106 [12:30<25:30,  1.09s/it]"
     ]
    },
    {
     "name": "stdout",
     "output_type": "stream",
     "text": [
      "656433.yaml Melbourne Cricket Ground Australia\n"
     ]
    },
    {
     "name": "stderr",
     "output_type": "stream",
     "text": [
      "\r",
      " 33%|█████████████▎                          | 703/2106 [12:31<25:01,  1.07s/it]"
     ]
    },
    {
     "name": "stdout",
     "output_type": "stream",
     "text": [
      "65649.yaml Sydney Australia\n"
     ]
    },
    {
     "name": "stderr",
     "output_type": "stream",
     "text": [
      "\r",
      " 33%|█████████████▎                          | 704/2106 [12:32<24:41,  1.06s/it]"
     ]
    },
    {
     "name": "stdout",
     "output_type": "stream",
     "text": [
      "380716.yaml Birmingham United Kingdom\n"
     ]
    },
    {
     "name": "stderr",
     "output_type": "stream",
     "text": [
      "\r",
      " 33%|█████████████▍                          | 705/2106 [12:34<27:18,  1.17s/it]"
     ]
    },
    {
     "name": "stdout",
     "output_type": "stream",
     "text": [
      "514039.yaml Johannesburg South Africa\n"
     ]
    },
    {
     "name": "stderr",
     "output_type": "stream",
     "text": [
      "\r",
      " 34%|█████████████▍                          | 706/2106 [12:35<26:59,  1.16s/it]"
     ]
    },
    {
     "name": "stdout",
     "output_type": "stream",
     "text": [
      "1278678.yaml Ahmedabad India\n"
     ]
    },
    {
     "name": "stderr",
     "output_type": "stream",
     "text": [
      "\r",
      " 34%|█████████████▍                          | 707/2106 [12:36<26:02,  1.12s/it]"
     ]
    },
    {
     "name": "stdout",
     "output_type": "stream",
     "text": [
      "65032.yaml Nottingham United Kingdom\n"
     ]
    },
    {
     "name": "stderr",
     "output_type": "stream",
     "text": [
      "\r",
      " 34%|█████████████▍                          | 708/2106 [12:37<26:05,  1.12s/it]"
     ]
    },
    {
     "name": "stdout",
     "output_type": "stream",
     "text": [
      "656405.yaml Adelaide Oval Australia\n"
     ]
    },
    {
     "name": "stderr",
     "output_type": "stream",
     "text": [
      "\r",
      " 34%|█████████████▍                          | 709/2106 [12:38<24:41,  1.06s/it]"
     ]
    },
    {
     "name": "stdout",
     "output_type": "stream",
     "text": [
      "656409.yaml Dunedin New Zealand\n"
     ]
    },
    {
     "name": "stderr",
     "output_type": "stream",
     "text": [
      "\r",
      " 34%|█████████████▍                          | 710/2106 [12:39<24:25,  1.05s/it]"
     ]
    },
    {
     "name": "stdout",
     "output_type": "stream",
     "text": [
      "1001375.yaml Melbourne Cricket Ground Australia\n"
     ]
    },
    {
     "name": "stderr",
     "output_type": "stream",
     "text": [
      "\r",
      " 34%|█████████████▌                          | 711/2106 [12:40<26:28,  1.14s/it]"
     ]
    },
    {
     "name": "stdout",
     "output_type": "stream",
     "text": [
      "1152843.yaml Bristol United Kingdom\n"
     ]
    },
    {
     "name": "stderr",
     "output_type": "stream",
     "text": [
      "\r",
      " 34%|█████████████▌                          | 712/2106 [12:42<26:16,  1.13s/it]"
     ]
    },
    {
     "name": "stdout",
     "output_type": "stream",
     "text": [
      "1317901.yaml Port of Spain Trinidad and Tobago\n"
     ]
    },
    {
     "name": "stderr",
     "output_type": "stream",
     "text": [
      "\r",
      " 34%|█████████████▌                          | 713/2106 [12:43<25:30,  1.10s/it]"
     ]
    },
    {
     "name": "stdout",
     "output_type": "stream",
     "text": [
      "66367.yaml Mumbai India\n"
     ]
    },
    {
     "name": "stderr",
     "output_type": "stream",
     "text": [
      "\r",
      " 34%|█████████████▌                          | 714/2106 [12:44<24:57,  1.08s/it]"
     ]
    },
    {
     "name": "stdout",
     "output_type": "stream",
     "text": [
      "1251964.yaml Utrecht Netherlands\n"
     ]
    },
    {
     "name": "stderr",
     "output_type": "stream",
     "text": [
      "\r",
      " 34%|█████████████▌                          | 715/2106 [12:45<26:00,  1.12s/it]"
     ]
    },
    {
     "name": "stdout",
     "output_type": "stream",
     "text": [
      "1277099.yaml Centurion South Africa\n"
     ]
    },
    {
     "name": "stderr",
     "output_type": "stream",
     "text": [
      "\r",
      " 34%|█████████████▌                          | 716/2106 [12:46<25:18,  1.09s/it]"
     ]
    },
    {
     "name": "stdout",
     "output_type": "stream",
     "text": [
      "1315038.yaml Multan Pakistan\n"
     ]
    },
    {
     "name": "stderr",
     "output_type": "stream",
     "text": [
      "\r",
      " 34%|█████████████▌                          | 717/2106 [12:47<24:49,  1.07s/it]"
     ]
    },
    {
     "name": "stdout",
     "output_type": "stream",
     "text": [
      "238174.yaml Fatullah Bangladesh\n"
     ]
    },
    {
     "name": "stderr",
     "output_type": "stream",
     "text": [
      "\r",
      " 34%|█████████████▋                          | 718/2106 [12:48<24:27,  1.06s/it]"
     ]
    },
    {
     "name": "stdout",
     "output_type": "stream",
     "text": [
      "439147.yaml Antigua Antigua and Barbuda\n"
     ]
    },
    {
     "name": "stderr",
     "output_type": "stream",
     "text": [
      "\r",
      " 34%|█████████████▋                          | 719/2106 [12:49<23:57,  1.04s/it]"
     ]
    },
    {
     "name": "stdout",
     "output_type": "stream",
     "text": [
      "299008.yaml Faisalabad Pakistan\n"
     ]
    },
    {
     "name": "stderr",
     "output_type": "stream",
     "text": [
      "\r",
      " 34%|█████████████▋                          | 720/2106 [12:50<26:14,  1.14s/it]"
     ]
    },
    {
     "name": "stdout",
     "output_type": "stream",
     "text": [
      "1307299.yaml Colombo Sri Lanka\n"
     ]
    },
    {
     "name": "stderr",
     "output_type": "stream",
     "text": [
      "\r",
      " 34%|█████████████▋                          | 721/2106 [12:51<25:27,  1.10s/it]"
     ]
    },
    {
     "name": "stdout",
     "output_type": "stream",
     "text": [
      "213288.yaml London United Kingdom\n"
     ]
    },
    {
     "name": "stderr",
     "output_type": "stream",
     "text": [
      "\r",
      " 34%|█████████████▋                          | 722/2106 [12:52<25:35,  1.11s/it]"
     ]
    },
    {
     "name": "stdout",
     "output_type": "stream",
     "text": [
      "1251962.yaml Utrecht Netherlands\n"
     ]
    },
    {
     "name": "stderr",
     "output_type": "stream",
     "text": [
      "\r",
      " 34%|█████████████▋                          | 723/2106 [12:53<24:16,  1.05s/it]"
     ]
    },
    {
     "name": "stdout",
     "output_type": "stream",
     "text": [
      "817211.yaml Chittagong Bangladesh\n"
     ]
    },
    {
     "name": "stderr",
     "output_type": "stream",
     "text": [
      "\r",
      " 34%|█████████████▊                          | 724/2106 [12:54<23:20,  1.01s/it]"
     ]
    },
    {
     "name": "stdout",
     "output_type": "stream",
     "text": [
      "352668.yaml Barbados Barbados\n"
     ]
    },
    {
     "name": "stderr",
     "output_type": "stream",
     "text": [
      "\r",
      " 34%|█████████████▊                          | 725/2106 [12:55<22:41,  1.01it/s]"
     ]
    },
    {
     "name": "stdout",
     "output_type": "stream",
     "text": [
      "455232.yaml Rangiri Dambulla International Stadium None\n"
     ]
    },
    {
     "name": "stderr",
     "output_type": "stream",
     "text": [
      "\r",
      " 34%|█████████████▊                          | 726/2106 [12:57<25:46,  1.12s/it]"
     ]
    },
    {
     "name": "stdout",
     "output_type": "stream",
     "text": [
      "474468.yaml Leeds United Kingdom\n"
     ]
    },
    {
     "name": "stderr",
     "output_type": "stream",
     "text": [
      "\r",
      " 35%|█████████████▊                          | 727/2106 [12:58<24:22,  1.06s/it]"
     ]
    },
    {
     "name": "stdout",
     "output_type": "stream",
     "text": [
      "247462.yaml St Kitts Saint Kitts and Nevis\n"
     ]
    },
    {
     "name": "stderr",
     "output_type": "stream",
     "text": [
      "\r",
      " 35%|█████████████▊                          | 728/2106 [12:58<22:41,  1.01it/s]"
     ]
    },
    {
     "name": "stdout",
     "output_type": "stream",
     "text": [
      "291346.yaml Sydney Cricket Ground Australia\n"
     ]
    },
    {
     "name": "stderr",
     "output_type": "stream",
     "text": [
      "\r",
      " 35%|█████████████▊                          | 729/2106 [13:00<25:02,  1.09s/it]"
     ]
    },
    {
     "name": "stdout",
     "output_type": "stream",
     "text": [
      "416236.yaml Vadodara India\n"
     ]
    },
    {
     "name": "stderr",
     "output_type": "stream",
     "text": [
      "\r",
      " 35%|█████████████▊                          | 730/2106 [13:01<24:34,  1.07s/it]"
     ]
    },
    {
     "name": "stdout",
     "output_type": "stream",
     "text": [
      "1307297.yaml Kandy Sri Lanka\n"
     ]
    },
    {
     "name": "stderr",
     "output_type": "stream",
     "text": [
      "\r",
      " 35%|█████████████▉                          | 731/2106 [13:02<27:02,  1.18s/it]"
     ]
    },
    {
     "name": "stdout",
     "output_type": "stream",
     "text": [
      "1019975.yaml Nelson New Zealand\n"
     ]
    },
    {
     "name": "stderr",
     "output_type": "stream",
     "text": [
      "\r",
      " 35%|█████████████▉                          | 732/2106 [13:03<25:15,  1.10s/it]"
     ]
    },
    {
     "name": "stdout",
     "output_type": "stream",
     "text": [
      "249755.yaml Ahmedabad India\n"
     ]
    },
    {
     "name": "stderr",
     "output_type": "stream",
     "text": [
      "\r",
      " 35%|█████████████▉                          | 733/2106 [13:04<24:40,  1.08s/it]"
     ]
    },
    {
     "name": "stdout",
     "output_type": "stream",
     "text": [
      "66369.yaml Cuttack India\n"
     ]
    },
    {
     "name": "stderr",
     "output_type": "stream",
     "text": [
      "\r",
      " 35%|█████████████▉                          | 734/2106 [13:05<24:17,  1.06s/it]"
     ]
    },
    {
     "name": "stdout",
     "output_type": "stream",
     "text": [
      "455234.yaml Rangiri Dambulla International Stadium None\n"
     ]
    },
    {
     "name": "stderr",
     "output_type": "stream",
     "text": [
      "\r",
      " 35%|█████████████▉                          | 735/2106 [13:06<24:00,  1.05s/it]"
     ]
    },
    {
     "name": "stdout",
     "output_type": "stream",
     "text": [
      "351687.yaml Adelaide Oval Australia\n"
     ]
    },
    {
     "name": "stderr",
     "output_type": "stream",
     "text": [
      "\r",
      " 35%|█████████████▉                          | 736/2106 [13:07<25:53,  1.13s/it]"
     ]
    },
    {
     "name": "stdout",
     "output_type": "stream",
     "text": [
      "1109605.yaml Rangiri Dambulla International Stadium None\n"
     ]
    },
    {
     "name": "stderr",
     "output_type": "stream",
     "text": [
      "\r",
      " 35%|█████████████▉                          | 737/2106 [13:09<25:08,  1.10s/it]"
     ]
    },
    {
     "name": "stdout",
     "output_type": "stream",
     "text": [
      "236520.yaml Rawalpindi Cricket Stadium Pakistan\n"
     ]
    },
    {
     "name": "stderr",
     "output_type": "stream",
     "text": [
      "\r",
      " 35%|██████████████                          | 738/2106 [13:10<24:35,  1.08s/it]"
     ]
    },
    {
     "name": "stdout",
     "output_type": "stream",
     "text": [
      "1072310.yaml Melbourne Cricket Ground Australia\n"
     ]
    },
    {
     "name": "stderr",
     "output_type": "stream",
     "text": [
      "\r",
      " 35%|██████████████                          | 739/2106 [13:11<24:12,  1.06s/it]"
     ]
    },
    {
     "name": "stdout",
     "output_type": "stream",
     "text": [
      "464992.yaml Colombo Sri Lanka\n"
     ]
    },
    {
     "name": "stderr",
     "output_type": "stream",
     "text": [
      "\r",
      " 35%|██████████████                          | 740/2106 [13:12<23:55,  1.05s/it]"
     ]
    },
    {
     "name": "stdout",
     "output_type": "stream",
     "text": [
      "1051301.yaml Mirpur Pakistan\n"
     ]
    },
    {
     "name": "stderr",
     "output_type": "stream",
     "text": [
      "\r",
      " 35%|██████████████                          | 741/2106 [13:13<26:11,  1.15s/it]"
     ]
    },
    {
     "name": "stdout",
     "output_type": "stream",
     "text": [
      "636160.yaml Brisbane Australia\n"
     ]
    },
    {
     "name": "stderr",
     "output_type": "stream",
     "text": [
      "\r",
      " 35%|██████████████                          | 742/2106 [13:14<24:13,  1.07s/it]"
     ]
    },
    {
     "name": "stdout",
     "output_type": "stream",
     "text": [
      "1134036.yaml Sharjah Cricket Stadium United Arab Emirates\n"
     ]
    },
    {
     "name": "stderr",
     "output_type": "stream",
     "text": [
      "\r",
      " 35%|██████████████                          | 743/2106 [13:15<23:55,  1.05s/it]"
     ]
    },
    {
     "name": "stdout",
     "output_type": "stream",
     "text": [
      "803795.yaml Dubai United Arab Emirates\n"
     ]
    },
    {
     "name": "stderr",
     "output_type": "stream",
     "text": [
      "\r",
      " 35%|██████████████▏                         | 744/2106 [13:16<23:42,  1.04s/it]"
     ]
    },
    {
     "name": "stdout",
     "output_type": "stream",
     "text": [
      "423791.yaml Napier New Zealand\n"
     ]
    },
    {
     "name": "stderr",
     "output_type": "stream",
     "text": [
      "\r",
      " 35%|██████████████▏                         | 745/2106 [13:17<24:15,  1.07s/it]"
     ]
    },
    {
     "name": "stdout",
     "output_type": "stream",
     "text": [
      "225959.yaml Hyderabad India\n"
     ]
    },
    {
     "name": "stderr",
     "output_type": "stream",
     "text": [
      "\r",
      " 35%|██████████████▏                         | 746/2106 [13:18<26:01,  1.15s/it]"
     ]
    },
    {
     "name": "stdout",
     "output_type": "stream",
     "text": [
      "1033365.yaml Dublin Ireland\n"
     ]
    },
    {
     "name": "stderr",
     "output_type": "stream",
     "text": [
      "\r",
      " 35%|██████████████▏                         | 747/2106 [13:19<25:09,  1.11s/it]"
     ]
    },
    {
     "name": "stdout",
     "output_type": "stream",
     "text": [
      "932853.yaml Guyana Guyana\n"
     ]
    },
    {
     "name": "stderr",
     "output_type": "stream",
     "text": [
      "\r",
      " 36%|██████████████▏                         | 748/2106 [13:20<25:15,  1.12s/it]"
     ]
    },
    {
     "name": "stdout",
     "output_type": "stream",
     "text": [
      "1131274.yaml Dubai United Arab Emirates\n"
     ]
    },
    {
     "name": "stderr",
     "output_type": "stream",
     "text": [
      "\r",
      " 36%|██████████████▏                         | 749/2106 [13:22<24:36,  1.09s/it]"
     ]
    },
    {
     "name": "stdout",
     "output_type": "stream",
     "text": [
      "1133029.yaml Harare Sports Club Zimbabwe\n"
     ]
    },
    {
     "name": "stderr",
     "output_type": "stream",
     "text": [
      "\r",
      " 36%|██████████████▏                         | 750/2106 [13:22<23:35,  1.04s/it]"
     ]
    },
    {
     "name": "stdout",
     "output_type": "stream",
     "text": [
      "636535.yaml Antigua Antigua and Barbuda\n"
     ]
    },
    {
     "name": "stderr",
     "output_type": "stream",
     "text": [
      "\r",
      " 36%|██████████████▎                         | 751/2106 [13:24<24:41,  1.09s/it]"
     ]
    },
    {
     "name": "stdout",
     "output_type": "stream",
     "text": [
      "1134540.yaml Harare Sports Club Zimbabwe\n"
     ]
    },
    {
     "name": "stderr",
     "output_type": "stream",
     "text": [
      "\r",
      " 36%|██████████████▎                         | 752/2106 [13:25<24:12,  1.07s/it]"
     ]
    },
    {
     "name": "stdout",
     "output_type": "stream",
     "text": [
      "298808.yaml Durban South Africa\n"
     ]
    },
    {
     "name": "stderr",
     "output_type": "stream",
     "text": [
      "\r",
      " 36%|██████████████▎                         | 753/2106 [13:26<23:51,  1.06s/it]"
     ]
    },
    {
     "name": "stdout",
     "output_type": "stream",
     "text": [
      "736447.yaml Harare Sports Club Zimbabwe\n"
     ]
    },
    {
     "name": "stderr",
     "output_type": "stream",
     "text": [
      "\r",
      " 36%|██████████████▎                         | 754/2106 [13:27<22:55,  1.02s/it]"
     ]
    },
    {
     "name": "stdout",
     "output_type": "stream",
     "text": [
      "352669.yaml St Lucia Saint Lucia\n"
     ]
    },
    {
     "name": "stderr",
     "output_type": "stream",
     "text": [
      "\r",
      " 36%|██████████████▎                         | 755/2106 [13:28<22:57,  1.02s/it]"
     ]
    },
    {
     "name": "stdout",
     "output_type": "stream",
     "text": [
      "489225.yaml Jamaica Jamaica\n"
     ]
    },
    {
     "name": "stderr",
     "output_type": "stream",
     "text": [
      "\r",
      " 36%|██████████████▎                         | 756/2106 [13:29<24:45,  1.10s/it]"
     ]
    },
    {
     "name": "stdout",
     "output_type": "stream",
     "text": [
      "1104478.yaml Galle International Stadium Sri Lanka\n"
     ]
    },
    {
     "name": "stderr",
     "output_type": "stream",
     "text": [
      "\r",
      " 36%|██████████████▍                         | 757/2106 [13:30<25:11,  1.12s/it]"
     ]
    },
    {
     "name": "stdout",
     "output_type": "stream",
     "text": [
      "656463.yaml Adelaide Oval Australia\n"
     ]
    },
    {
     "name": "stderr",
     "output_type": "stream",
     "text": [
      "\r",
      " 36%|██████████████▍                         | 758/2106 [13:31<24:31,  1.09s/it]"
     ]
    },
    {
     "name": "stdout",
     "output_type": "stream",
     "text": [
      "422626.yaml Mirpur Pakistan\n"
     ]
    },
    {
     "name": "stderr",
     "output_type": "stream",
     "text": [
      "\r",
      " 36%|██████████████▍                         | 759/2106 [13:32<24:44,  1.10s/it]"
     ]
    },
    {
     "name": "stdout",
     "output_type": "stream",
     "text": [
      "1275259.yaml Al Amarat Oman\n"
     ]
    },
    {
     "name": "stderr",
     "output_type": "stream",
     "text": [
      "\r",
      " 36%|██████████████▍                         | 760/2106 [13:33<24:11,  1.08s/it]"
     ]
    },
    {
     "name": "stdout",
     "output_type": "stream",
     "text": [
      "578621.yaml London United Kingdom\n"
     ]
    },
    {
     "name": "stderr",
     "output_type": "stream",
     "text": [
      "\r",
      " 36%|██████████████▍                         | 761/2106 [13:34<23:07,  1.03s/it]"
     ]
    },
    {
     "name": "stdout",
     "output_type": "stream",
     "text": [
      "366623.yaml Napier New Zealand\n"
     ]
    },
    {
     "name": "stderr",
     "output_type": "stream",
     "text": [
      "\r",
      " 36%|██████████████▍                         | 762/2106 [13:36<25:48,  1.15s/it]"
     ]
    },
    {
     "name": "stdout",
     "output_type": "stream",
     "text": [
      "296908.yaml London United Kingdom\n"
     ]
    },
    {
     "name": "stderr",
     "output_type": "stream",
     "text": [
      "\r",
      " 36%|██████████████▍                         | 763/2106 [13:37<24:55,  1.11s/it]"
     ]
    },
    {
     "name": "stdout",
     "output_type": "stream",
     "text": [
      "1198488.yaml Karachi Pakistan\n"
     ]
    },
    {
     "name": "stderr",
     "output_type": "stream",
     "text": [
      "\r",
      " 36%|██████████████▌                         | 764/2106 [13:38<24:18,  1.09s/it]"
     ]
    },
    {
     "name": "stdout",
     "output_type": "stream",
     "text": [
      "1168243.yaml Nagpur India\n"
     ]
    },
    {
     "name": "stderr",
     "output_type": "stream",
     "text": [
      "\r",
      " 36%|██████████████▌                         | 765/2106 [13:39<23:52,  1.07s/it]"
     ]
    },
    {
     "name": "stdout",
     "output_type": "stream",
     "text": [
      "1144986.yaml Perth Stadium Australia\n"
     ]
    },
    {
     "name": "stderr",
     "output_type": "stream",
     "text": [
      "\r",
      " 36%|██████████████▌                         | 766/2106 [13:40<26:18,  1.18s/it]"
     ]
    },
    {
     "name": "stdout",
     "output_type": "stream",
     "text": [
      "64924.yaml Bloemfontein South Africa\n"
     ]
    },
    {
     "name": "stderr",
     "output_type": "stream",
     "text": [
      "\r",
      " 36%|██████████████▌                         | 767/2106 [13:42<29:22,  1.32s/it]"
     ]
    },
    {
     "name": "stdout",
     "output_type": "stream",
     "text": [
      "754755.yaml Hobart Australia\n"
     ]
    },
    {
     "name": "stderr",
     "output_type": "stream",
     "text": [
      "\r",
      " 36%|██████████████▌                         | 768/2106 [13:43<28:04,  1.26s/it]"
     ]
    },
    {
     "name": "stdout",
     "output_type": "stream",
     "text": [
      "1302616.yaml Dubai United Arab Emirates\n"
     ]
    },
    {
     "name": "stderr",
     "output_type": "stream",
     "text": [
      "\r",
      " 37%|██████████████▌                         | 769/2106 [13:44<28:32,  1.28s/it]"
     ]
    },
    {
     "name": "stdout",
     "output_type": "stream",
     "text": [
      "742623.yaml Sharjah Cricket Stadium United Arab Emirates\n"
     ]
    },
    {
     "name": "stderr",
     "output_type": "stream",
     "text": [
      "\r",
      " 37%|██████████████▌                         | 770/2106 [13:45<26:48,  1.20s/it]"
     ]
    },
    {
     "name": "stdout",
     "output_type": "stream",
     "text": [
      "597926.yaml Trinidad Trinidad and Tobago\n"
     ]
    },
    {
     "name": "stderr",
     "output_type": "stream",
     "text": [
      "\r",
      " 37%|██████████████▋                         | 771/2106 [13:47<27:38,  1.24s/it]"
     ]
    },
    {
     "name": "stdout",
     "output_type": "stream",
     "text": [
      "656489.yaml Wellington New Zealand\n"
     ]
    },
    {
     "name": "stderr",
     "output_type": "stream",
     "text": [
      "\r",
      " 37%|██████████████▋                         | 772/2106 [13:48<25:28,  1.15s/it]"
     ]
    },
    {
     "name": "stdout",
     "output_type": "stream",
     "text": [
      "643677.yaml Bulawayo Zimbabwe\n"
     ]
    },
    {
     "name": "stderr",
     "output_type": "stream",
     "text": [
      "\r",
      " 37%|██████████████▋                         | 773/2106 [13:49<24:38,  1.11s/it]"
     ]
    },
    {
     "name": "stdout",
     "output_type": "stream",
     "text": [
      "65645.yaml Hobart Australia\n"
     ]
    },
    {
     "name": "stderr",
     "output_type": "stream",
     "text": [
      "\r",
      " 37%|██████████████▋                         | 774/2106 [13:50<24:03,  1.08s/it]"
     ]
    },
    {
     "name": "stdout",
     "output_type": "stream",
     "text": [
      "749787.yaml Nelson New Zealand\n"
     ]
    },
    {
     "name": "stderr",
     "output_type": "stream",
     "text": [
      "\r",
      " 37%|██████████████▋                         | 775/2106 [13:51<23:38,  1.07s/it]"
     ]
    },
    {
     "name": "stdout",
     "output_type": "stream",
     "text": [
      "661691.yaml Nelson New Zealand\n"
     ]
    },
    {
     "name": "stderr",
     "output_type": "stream",
     "text": [
      "\r",
      " 37%|██████████████▋                         | 776/2106 [13:52<23:20,  1.05s/it]"
     ]
    },
    {
     "name": "stdout",
     "output_type": "stream",
     "text": [
      "931390.yaml Mirpur Pakistan\n"
     ]
    },
    {
     "name": "stderr",
     "output_type": "stream",
     "text": [
      "\r",
      " 37%|██████████████▊                         | 777/2106 [13:53<25:51,  1.17s/it]"
     ]
    },
    {
     "name": "stdout",
     "output_type": "stream",
     "text": [
      "656429.yaml Brisbane Australia\n"
     ]
    },
    {
     "name": "stderr",
     "output_type": "stream",
     "text": [
      "\r",
      " 37%|██████████████▊                         | 778/2106 [13:54<25:34,  1.16s/it]"
     ]
    },
    {
     "name": "stdout",
     "output_type": "stream",
     "text": [
      "236595.yaml Sydney Cricket Ground Australia\n"
     ]
    },
    {
     "name": "stderr",
     "output_type": "stream",
     "text": [
      "\r",
      " 37%|██████████████▊                         | 779/2106 [13:55<24:40,  1.12s/it]"
     ]
    },
    {
     "name": "stdout",
     "output_type": "stream",
     "text": [
      "319143.yaml St Vincent Italy\n"
     ]
    },
    {
     "name": "stderr",
     "output_type": "stream",
     "text": [
      "\r",
      " 37%|██████████████▊                         | 780/2106 [13:56<24:03,  1.09s/it]"
     ]
    },
    {
     "name": "stdout",
     "output_type": "stream",
     "text": [
      "247493.yaml Grenada Grenada\n"
     ]
    },
    {
     "name": "stderr",
     "output_type": "stream",
     "text": [
      "\r",
      " 37%|██████████████▊                         | 781/2106 [13:57<22:55,  1.04s/it]"
     ]
    },
    {
     "name": "stdout",
     "output_type": "stream",
     "text": [
      "64899.yaml Harare Zimbabwe\n"
     ]
    },
    {
     "name": "stderr",
     "output_type": "stream",
     "text": [
      "\r",
      " 37%|██████████████▊                         | 782/2106 [13:58<24:51,  1.13s/it]"
     ]
    },
    {
     "name": "stdout",
     "output_type": "stream",
     "text": [
      "1187684.yaml Mount Maunganui New Zealand\n"
     ]
    },
    {
     "name": "stderr",
     "output_type": "stream",
     "text": [
      "\r",
      " 37%|██████████████▊                         | 783/2106 [14:00<24:09,  1.10s/it]"
     ]
    },
    {
     "name": "stdout",
     "output_type": "stream",
     "text": [
      "426420.yaml Mirpur Pakistan\n"
     ]
    },
    {
     "name": "stderr",
     "output_type": "stream",
     "text": [
      "\r",
      " 37%|██████████████▉                         | 784/2106 [14:01<23:39,  1.07s/it]"
     ]
    },
    {
     "name": "stdout",
     "output_type": "stream",
     "text": [
      "1157756.yaml Pune India\n"
     ]
    },
    {
     "name": "stderr",
     "output_type": "stream",
     "text": [
      "\r",
      " 37%|██████████████▉                         | 785/2106 [14:02<23:19,  1.06s/it]"
     ]
    },
    {
     "name": "stdout",
     "output_type": "stream",
     "text": [
      "476598.yaml Mirpur Pakistan\n"
     ]
    },
    {
     "name": "stderr",
     "output_type": "stream",
     "text": [
      "\r",
      " 37%|██████████████▉                         | 786/2106 [14:03<25:05,  1.14s/it]"
     ]
    },
    {
     "name": "stdout",
     "output_type": "stream",
     "text": [
      "249241.yaml Sydney Cricket Ground Australia\n"
     ]
    },
    {
     "name": "stderr",
     "output_type": "stream",
     "text": [
      "\r",
      " 37%|██████████████▉                         | 787/2106 [14:04<22:56,  1.04s/it]"
     ]
    },
    {
     "name": "stdout",
     "output_type": "stream",
     "text": [
      "668963.yaml Hambantota Sri Lanka\n"
     ]
    },
    {
     "name": "stderr",
     "output_type": "stream",
     "text": [
      "\r",
      " 37%|██████████████▉                         | 788/2106 [14:05<22:07,  1.01s/it]"
     ]
    },
    {
     "name": "stdout",
     "output_type": "stream",
     "text": [
      "225245.yaml Cardiff United Kingdom\n"
     ]
    },
    {
     "name": "stderr",
     "output_type": "stream",
     "text": [
      "\r",
      " 37%|██████████████▉                         | 789/2106 [14:06<22:13,  1.01s/it]"
     ]
    },
    {
     "name": "stdout",
     "output_type": "stream",
     "text": [
      "566944.yaml Cardiff United Kingdom\n"
     ]
    },
    {
     "name": "stderr",
     "output_type": "stream",
     "text": [
      "\r",
      " 38%|███████████████                         | 790/2106 [14:07<22:17,  1.02s/it]"
     ]
    },
    {
     "name": "stdout",
     "output_type": "stream",
     "text": [
      "1196673.yaml Aberdeen United Kingdom\n"
     ]
    },
    {
     "name": "stderr",
     "output_type": "stream",
     "text": [
      "\r",
      " 38%|███████████████                         | 791/2106 [14:08<22:19,  1.02s/it]"
     ]
    },
    {
     "name": "stdout",
     "output_type": "stream",
     "text": [
      "238176.yaml Queenstown Events Centre None\n"
     ]
    },
    {
     "name": "stderr",
     "output_type": "stream",
     "text": [
      "\r",
      " 38%|███████████████                         | 792/2106 [14:09<20:59,  1.04it/s]"
     ]
    },
    {
     "name": "stdout",
     "output_type": "stream",
     "text": [
      "1142922.yaml Bulawayo Zimbabwe\n"
     ]
    },
    {
     "name": "stderr",
     "output_type": "stream",
     "text": [
      "\r",
      " 38%|███████████████                         | 793/2106 [14:10<23:25,  1.07s/it]"
     ]
    },
    {
     "name": "stdout",
     "output_type": "stream",
     "text": [
      "426722.yaml Abu Dhabi United Arab Emirates\n"
     ]
    },
    {
     "name": "stderr",
     "output_type": "stream",
     "text": [
      "\r",
      " 38%|███████████████                         | 794/2106 [14:11<23:06,  1.06s/it]"
     ]
    },
    {
     "name": "stdout",
     "output_type": "stream",
     "text": [
      "913653.yaml Southampton United Kingdom\n"
     ]
    },
    {
     "name": "stderr",
     "output_type": "stream",
     "text": [
      "\r",
      " 38%|███████████████                         | 795/2106 [14:12<22:52,  1.05s/it]"
     ]
    },
    {
     "name": "stdout",
     "output_type": "stream",
     "text": [
      "291218.yaml Rangiri Dambulla International Stadium None\n"
     ]
    },
    {
     "name": "stderr",
     "output_type": "stream",
     "text": [
      "\r",
      " 38%|███████████████                         | 796/2106 [14:13<23:22,  1.07s/it]"
     ]
    },
    {
     "name": "stdout",
     "output_type": "stream",
     "text": [
      "1290881.yaml Windhoek Namibia\n"
     ]
    },
    {
     "name": "stderr",
     "output_type": "stream",
     "text": [
      "\r",
      " 38%|███████████████▏                        | 797/2106 [14:14<23:03,  1.06s/it]"
     ]
    },
    {
     "name": "stdout",
     "output_type": "stream",
     "text": [
      "1239535.yaml London United Kingdom\n"
     ]
    },
    {
     "name": "stderr",
     "output_type": "stream",
     "text": [
      "\r",
      " 38%|███████████████▏                        | 798/2106 [14:15<24:49,  1.14s/it]"
     ]
    },
    {
     "name": "stdout",
     "output_type": "stream",
     "text": [
      "249758.yaml Jaipur India\n"
     ]
    },
    {
     "name": "stderr",
     "output_type": "stream",
     "text": [
      "\r",
      " 38%|███████████████▏                        | 799/2106 [14:16<23:23,  1.07s/it]"
     ]
    },
    {
     "name": "stdout",
     "output_type": "stream",
     "text": [
      "736441.yaml Bulawayo Zimbabwe\n"
     ]
    },
    {
     "name": "stderr",
     "output_type": "stream",
     "text": [
      "\r",
      " 38%|███████████████▏                        | 800/2106 [14:17<23:02,  1.06s/it]"
     ]
    },
    {
     "name": "stdout",
     "output_type": "stream",
     "text": [
      "239917.yaml St Kitts Saint Kitts and Nevis\n"
     ]
    },
    {
     "name": "stderr",
     "output_type": "stream",
     "text": [
      "\r",
      " 38%|███████████████▏                        | 801/2106 [14:18<22:48,  1.05s/it]"
     ]
    },
    {
     "name": "stdout",
     "output_type": "stream",
     "text": [
      "668957.yaml Fatullah Bangladesh\n"
     ]
    },
    {
     "name": "stderr",
     "output_type": "stream",
     "text": [
      "\r",
      " 38%|███████████████▏                        | 802/2106 [14:19<22:37,  1.04s/it]"
     ]
    },
    {
     "name": "stdout",
     "output_type": "stream",
     "text": [
      "1331366.yaml Port Moresby Papua New Guinea\n"
     ]
    },
    {
     "name": "stderr",
     "output_type": "stream",
     "text": [
      "\r",
      " 38%|███████████████▎                        | 803/2106 [14:21<24:52,  1.15s/it]"
     ]
    },
    {
     "name": "stdout",
     "output_type": "stream",
     "text": [
      "247476.yaml Trinidad Trinidad and Tobago\n"
     ]
    },
    {
     "name": "stderr",
     "output_type": "stream",
     "text": [
      "\r",
      " 38%|███████████████▎                        | 804/2106 [14:22<23:01,  1.06s/it]"
     ]
    },
    {
     "name": "stdout",
     "output_type": "stream",
     "text": [
      "656415.yaml Wellington New Zealand\n"
     ]
    },
    {
     "name": "stderr",
     "output_type": "stream",
     "text": [
      "\r",
      " 38%|███████████████▎                        | 805/2106 [14:23<22:46,  1.05s/it]"
     ]
    },
    {
     "name": "stdout",
     "output_type": "stream",
     "text": [
      "386531.yaml Colombo Sri Lanka\n"
     ]
    },
    {
     "name": "stderr",
     "output_type": "stream",
     "text": [
      "\r",
      " 38%|███████████████▎                        | 806/2106 [14:24<22:34,  1.04s/it]"
     ]
    },
    {
     "name": "stdout",
     "output_type": "stream",
     "text": [
      "1153841.yaml Mount Maunganui New Zealand\n"
     ]
    },
    {
     "name": "stderr",
     "output_type": "stream",
     "text": [
      "\r",
      " 38%|███████████████▎                        | 807/2106 [14:25<21:47,  1.01s/it]"
     ]
    },
    {
     "name": "stdout",
     "output_type": "stream",
     "text": [
      "1331370.yaml Port Moresby Papua New Guinea\n"
     ]
    },
    {
     "name": "stderr",
     "output_type": "stream",
     "text": [
      "\r",
      " 38%|███████████████▎                        | 808/2106 [14:26<23:52,  1.10s/it]"
     ]
    },
    {
     "name": "stdout",
     "output_type": "stream",
     "text": [
      "64905.yaml Dambulla Sri Lanka\n"
     ]
    },
    {
     "name": "stderr",
     "output_type": "stream",
     "text": [
      "\r",
      " 38%|███████████████▎                        | 809/2106 [14:27<24:00,  1.11s/it]"
     ]
    },
    {
     "name": "stdout",
     "output_type": "stream",
     "text": [
      "1130741.yaml Dhaka Bangladesh\n"
     ]
    },
    {
     "name": "stderr",
     "output_type": "stream",
     "text": [
      "\r",
      " 38%|███████████████▍                        | 810/2106 [14:28<22:45,  1.05s/it]"
     ]
    },
    {
     "name": "stdout",
     "output_type": "stream",
     "text": [
      "64852.yaml Harare Zimbabwe\n"
     ]
    },
    {
     "name": "stderr",
     "output_type": "stream",
     "text": [
      "\r",
      " 39%|███████████████▍                        | 811/2106 [14:29<22:16,  1.03s/it]"
     ]
    },
    {
     "name": "stdout",
     "output_type": "stream",
     "text": [
      "1120091.yaml Pune India\n"
     ]
    },
    {
     "name": "stderr",
     "output_type": "stream",
     "text": [
      "\r",
      " 39%|███████████████▍                        | 812/2106 [14:30<22:29,  1.04s/it]"
     ]
    },
    {
     "name": "stdout",
     "output_type": "stream",
     "text": [
      "259391.yaml Benoni South Africa\n"
     ]
    },
    {
     "name": "stderr",
     "output_type": "stream",
     "text": [
      "\r",
      " 39%|███████████████▍                        | 813/2106 [14:31<24:19,  1.13s/it]"
     ]
    },
    {
     "name": "stdout",
     "output_type": "stream",
     "text": [
      "560925.yaml St Kitts Saint Kitts and Nevis\n"
     ]
    },
    {
     "name": "stderr",
     "output_type": "stream",
     "text": [
      "\r",
      " 39%|███████████████▍                        | 814/2106 [14:32<24:17,  1.13s/it]"
     ]
    },
    {
     "name": "stdout",
     "output_type": "stream",
     "text": [
      "936159.yaml Port Elizabeth South Africa\n"
     ]
    },
    {
     "name": "stderr",
     "output_type": "stream",
     "text": [
      "\r",
      " 39%|███████████████▍                        | 815/2106 [14:34<23:36,  1.10s/it]"
     ]
    },
    {
     "name": "stdout",
     "output_type": "stream",
     "text": [
      "335352.yaml Karachi Pakistan\n"
     ]
    },
    {
     "name": "stderr",
     "output_type": "stream",
     "text": [
      "\r",
      " 39%|███████████████▍                        | 816/2106 [14:35<23:08,  1.08s/it]"
     ]
    },
    {
     "name": "stdout",
     "output_type": "stream",
     "text": [
      "1275258.yaml Al Amarat Oman\n"
     ]
    },
    {
     "name": "stderr",
     "output_type": "stream",
     "text": [
      "\r",
      " 39%|███████████████▌                        | 817/2106 [14:36<22:46,  1.06s/it]"
     ]
    },
    {
     "name": "stdout",
     "output_type": "stream",
     "text": [
      "1308246.yaml Dubai United Arab Emirates\n"
     ]
    },
    {
     "name": "stderr",
     "output_type": "stream",
     "text": [
      "\r",
      " 39%|███████████████▌                        | 818/2106 [14:37<24:56,  1.16s/it]"
     ]
    },
    {
     "name": "stdout",
     "output_type": "stream",
     "text": [
      "66377.yaml London United Kingdom\n"
     ]
    },
    {
     "name": "stderr",
     "output_type": "stream",
     "text": [
      "\r",
      " 39%|███████████████▌                        | 819/2106 [14:38<23:38,  1.10s/it]"
     ]
    },
    {
     "name": "stdout",
     "output_type": "stream",
     "text": [
      "1131277.yaml Dubai United Arab Emirates\n"
     ]
    },
    {
     "name": "stderr",
     "output_type": "stream",
     "text": [
      "\r",
      " 39%|███████████████▌                        | 820/2106 [14:39<23:43,  1.11s/it]"
     ]
    },
    {
     "name": "stdout",
     "output_type": "stream",
     "text": [
      "423785.yaml Christchurch New Zealand\n"
     ]
    },
    {
     "name": "stderr",
     "output_type": "stream",
     "text": [
      "\r",
      " 39%|███████████████▌                        | 821/2106 [14:40<23:10,  1.08s/it]"
     ]
    },
    {
     "name": "stdout",
     "output_type": "stream",
     "text": [
      "1119499.yaml Bengaluru India\n"
     ]
    },
    {
     "name": "stderr",
     "output_type": "stream",
     "text": [
      "\r",
      " 39%|███████████████▌                        | 822/2106 [14:41<22:47,  1.06s/it]"
     ]
    },
    {
     "name": "stdout",
     "output_type": "stream",
     "text": [
      "668953.yaml Mirpur Pakistan\n"
     ]
    },
    {
     "name": "stderr",
     "output_type": "stream",
     "text": [
      "\r",
      " 39%|███████████████▋                        | 823/2106 [14:42<22:30,  1.05s/it]"
     ]
    },
    {
     "name": "stdout",
     "output_type": "stream",
     "text": [
      "249378.yaml Nairobi Kenya\n"
     ]
    },
    {
     "name": "stderr",
     "output_type": "stream",
     "text": [
      "\r",
      " 39%|███████████████▋                        | 824/2106 [14:43<24:16,  1.14s/it]"
     ]
    },
    {
     "name": "stdout",
     "output_type": "stream",
     "text": [
      "1322036.yaml Aberdeen United Kingdom\n"
     ]
    },
    {
     "name": "stderr",
     "output_type": "stream",
     "text": [
      "\r",
      " 39%|███████████████▋                        | 825/2106 [14:44<23:32,  1.10s/it]"
     ]
    },
    {
     "name": "stdout",
     "output_type": "stream",
     "text": [
      "1153846.yaml Dunedin New Zealand\n"
     ]
    },
    {
     "name": "stderr",
     "output_type": "stream",
     "text": [
      "\r",
      " 39%|███████████████▋                        | 826/2106 [14:45<23:01,  1.08s/it]"
     ]
    },
    {
     "name": "stdout",
     "output_type": "stream",
     "text": [
      "1281445.yaml Amstelveen Netherlands\n"
     ]
    },
    {
     "name": "stderr",
     "output_type": "stream",
     "text": [
      "\r",
      " 39%|███████████████▋                        | 827/2106 [14:47<23:18,  1.09s/it]"
     ]
    },
    {
     "name": "stdout",
     "output_type": "stream",
     "text": [
      "385025.yaml Nairobi Kenya\n"
     ]
    },
    {
     "name": "stderr",
     "output_type": "stream",
     "text": [
      "\r",
      " 39%|███████████████▋                        | 828/2106 [14:48<22:11,  1.04s/it]"
     ]
    },
    {
     "name": "stdout",
     "output_type": "stream",
     "text": [
      "387568.yaml Port Elizabeth South Africa\n"
     ]
    },
    {
     "name": "stderr",
     "output_type": "stream",
     "text": [
      "\r",
      " 39%|███████████████▋                        | 829/2106 [14:49<24:28,  1.15s/it]"
     ]
    },
    {
     "name": "stdout",
     "output_type": "stream",
     "text": [
      "1233463.yaml Rawalpindi Cricket Stadium Pakistan\n"
     ]
    },
    {
     "name": "stderr",
     "output_type": "stream",
     "text": [
      "\r",
      " 39%|███████████████▊                        | 830/2106 [14:50<24:30,  1.15s/it]"
     ]
    },
    {
     "name": "stdout",
     "output_type": "stream",
     "text": [
      "1325551.yaml Harare Zimbabwe\n"
     ]
    },
    {
     "name": "stderr",
     "output_type": "stream",
     "text": [
      "\r",
      " 39%|███████████████▊                        | 831/2106 [14:51<23:40,  1.11s/it]"
     ]
    },
    {
     "name": "stdout",
     "output_type": "stream",
     "text": [
      "250669.yaml Durban South Africa\n"
     ]
    },
    {
     "name": "stderr",
     "output_type": "stream",
     "text": [
      "\r",
      " 40%|███████████████▊                        | 832/2106 [14:52<23:04,  1.09s/it]"
     ]
    },
    {
     "name": "stdout",
     "output_type": "stream",
     "text": [
      "1193497.yaml Lucknow India\n"
     ]
    },
    {
     "name": "stderr",
     "output_type": "stream",
     "text": [
      "\r",
      " 40%|███████████████▊                        | 833/2106 [14:53<23:18,  1.10s/it]"
     ]
    },
    {
     "name": "stdout",
     "output_type": "stream",
     "text": [
      "656413.yaml Nelson New Zealand\n"
     ]
    },
    {
     "name": "stderr",
     "output_type": "stream",
     "text": [
      "\r",
      " 40%|███████████████▊                        | 834/2106 [14:55<25:25,  1.20s/it]"
     ]
    },
    {
     "name": "stdout",
     "output_type": "stream",
     "text": [
      "1020033.yaml Christchurch New Zealand\n"
     ]
    },
    {
     "name": "stderr",
     "output_type": "stream",
     "text": [
      "\r",
      " 40%|███████████████▊                        | 835/2106 [14:56<24:56,  1.18s/it]"
     ]
    },
    {
     "name": "stdout",
     "output_type": "stream",
     "text": [
      "997961.yaml Belfast United Kingdom\n"
     ]
    },
    {
     "name": "stderr",
     "output_type": "stream",
     "text": [
      "\r",
      " 40%|███████████████▉                        | 836/2106 [14:57<23:57,  1.13s/it]"
     ]
    },
    {
     "name": "stdout",
     "output_type": "stream",
     "text": [
      "226382.yaml Perth Australia\n"
     ]
    },
    {
     "name": "stderr",
     "output_type": "stream",
     "text": [
      "\r",
      " 40%|███████████████▉                        | 837/2106 [14:58<23:14,  1.10s/it]"
     ]
    },
    {
     "name": "stdout",
     "output_type": "stream",
     "text": [
      "643669.yaml Harare Sports Club Zimbabwe\n"
     ]
    },
    {
     "name": "stderr",
     "output_type": "stream",
     "text": [
      "\r",
      " 40%|███████████████▉                        | 838/2106 [14:59<22:45,  1.08s/it]"
     ]
    },
    {
     "name": "stdout",
     "output_type": "stream",
     "text": [
      "1077950.yaml Guyana Guyana\n"
     ]
    },
    {
     "name": "stderr",
     "output_type": "stream",
     "text": [
      "\r",
      " 40%|███████████████▉                        | 839/2106 [15:00<24:20,  1.15s/it]"
     ]
    },
    {
     "name": "stdout",
     "output_type": "stream",
     "text": [
      "65644.yaml Sydney Australia\n"
     ]
    },
    {
     "name": "stderr",
     "output_type": "stream",
     "text": [
      "\r",
      " 40%|███████████████▉                        | 840/2106 [15:01<24:08,  1.14s/it]"
     ]
    },
    {
     "name": "stdout",
     "output_type": "stream",
     "text": [
      "1302618.yaml Dubai United Arab Emirates\n"
     ]
    },
    {
     "name": "stderr",
     "output_type": "stream",
     "text": [
      "\r",
      " 40%|███████████████▉                        | 841/2106 [15:02<23:22,  1.11s/it]"
     ]
    },
    {
     "name": "stdout",
     "output_type": "stream",
     "text": [
      "64943.yaml Delhi India\n"
     ]
    },
    {
     "name": "stderr",
     "output_type": "stream",
     "text": [
      "\r",
      " 40%|███████████████▉                        | 842/2106 [15:03<22:49,  1.08s/it]"
     ]
    },
    {
     "name": "stdout",
     "output_type": "stream",
     "text": [
      "433603.yaml Colombo Sri Lanka\n"
     ]
    },
    {
     "name": "stderr",
     "output_type": "stream",
     "text": [
      "\r",
      " 40%|████████████████                        | 843/2106 [15:05<28:53,  1.37s/it]"
     ]
    },
    {
     "name": "stdout",
     "output_type": "stream",
     "text": [
      "1302621.yaml Sharjah United Arab Emirates\n"
     ]
    },
    {
     "name": "stderr",
     "output_type": "stream",
     "text": [
      "\r",
      " 40%|████████████████                        | 844/2106 [15:07<29:54,  1.42s/it]"
     ]
    },
    {
     "name": "stdout",
     "output_type": "stream",
     "text": [
      "578619.yaml London United Kingdom\n"
     ]
    },
    {
     "name": "stderr",
     "output_type": "stream",
     "text": [
      "\r",
      " 40%|████████████████                        | 845/2106 [15:08<28:01,  1.33s/it]"
     ]
    },
    {
     "name": "stdout",
     "output_type": "stream",
     "text": [
      "1109608.yaml Colombo Sri Lanka\n"
     ]
    },
    {
     "name": "stderr",
     "output_type": "stream",
     "text": [
      "\r",
      " 40%|████████████████                        | 846/2106 [15:09<25:24,  1.21s/it]"
     ]
    },
    {
     "name": "stdout",
     "output_type": "stream",
     "text": [
      "430509.yaml Centurion South Africa\n"
     ]
    },
    {
     "name": "stderr",
     "output_type": "stream",
     "text": [
      "\r",
      " 40%|████████████████                        | 847/2106 [15:10<24:13,  1.15s/it]"
     ]
    },
    {
     "name": "stdout",
     "output_type": "stream",
     "text": [
      "514027.yaml Durban South Africa\n"
     ]
    },
    {
     "name": "stderr",
     "output_type": "stream",
     "text": [
      "\r",
      " 40%|████████████████                        | 848/2106 [15:11<23:23,  1.12s/it]"
     ]
    },
    {
     "name": "stdout",
     "output_type": "stream",
     "text": [
      "518964.yaml Hobart Australia\n"
     ]
    },
    {
     "name": "stderr",
     "output_type": "stream",
     "text": [
      "\r",
      " 40%|████████████████▏                       | 849/2106 [15:12<24:43,  1.18s/it]"
     ]
    },
    {
     "name": "stdout",
     "output_type": "stream",
     "text": [
      "1157379.yaml Abu Dhabi United Arab Emirates\n"
     ]
    },
    {
     "name": "stderr",
     "output_type": "stream",
     "text": [
      "\r",
      " 40%|████████████████▏                       | 850/2106 [15:14<24:22,  1.16s/it]"
     ]
    },
    {
     "name": "stdout",
     "output_type": "stream",
     "text": [
      "573018.yaml Hobart Australia\n"
     ]
    },
    {
     "name": "stderr",
     "output_type": "stream",
     "text": [
      "\r",
      " 40%|████████████████▏                       | 851/2106 [15:15<23:27,  1.12s/it]"
     ]
    },
    {
     "name": "stdout",
     "output_type": "stream",
     "text": [
      "226375.yaml Brisbane Australia\n"
     ]
    },
    {
     "name": "stderr",
     "output_type": "stream",
     "text": [
      "\r",
      " 40%|████████████████▏                       | 852/2106 [15:15<22:12,  1.06s/it]"
     ]
    },
    {
     "name": "stdout",
     "output_type": "stream",
     "text": [
      "319136.yaml St Lucia Saint Lucia\n"
     ]
    },
    {
     "name": "stderr",
     "output_type": "stream",
     "text": [
      "\r",
      " 41%|████████████████▏                       | 853/2106 [15:17<21:56,  1.05s/it]"
     ]
    },
    {
     "name": "stdout",
     "output_type": "stream",
     "text": [
      "65708.yaml Colombo Sri Lanka\n"
     ]
    },
    {
     "name": "stderr",
     "output_type": "stream",
     "text": [
      "\r",
      " 41%|████████████████▏                       | 854/2106 [15:18<24:19,  1.17s/it]"
     ]
    },
    {
     "name": "stdout",
     "output_type": "stream",
     "text": [
      "1251574.yaml Centurion South Africa\n"
     ]
    },
    {
     "name": "stderr",
     "output_type": "stream",
     "text": [
      "\r",
      " 41%|████████████████▏                       | 855/2106 [15:19<22:50,  1.10s/it]"
     ]
    },
    {
     "name": "stdout",
     "output_type": "stream",
     "text": [
      "282688.yaml Mirpur Pakistan\n"
     ]
    },
    {
     "name": "stderr",
     "output_type": "stream",
     "text": [
      "\r",
      " 41%|████████████████▎                       | 856/2106 [15:20<22:19,  1.07s/it]"
     ]
    },
    {
     "name": "stdout",
     "output_type": "stream",
     "text": [
      "1174239.yaml Sharjah United Arab Emirates\n"
     ]
    },
    {
     "name": "stderr",
     "output_type": "stream",
     "text": [
      "\r",
      " 41%|████████████████▎                       | 857/2106 [15:21<22:38,  1.09s/it]"
     ]
    },
    {
     "name": "stdout",
     "output_type": "stream",
     "text": [
      "932855.yaml St Kitts Saint Kitts and Nevis\n"
     ]
    },
    {
     "name": "stderr",
     "output_type": "stream",
     "text": [
      "\r",
      " 41%|████████████████▎                       | 858/2106 [15:22<22:13,  1.07s/it]"
     ]
    },
    {
     "name": "stdout",
     "output_type": "stream",
     "text": [
      "1312802.yaml Pearland United States\n"
     ]
    },
    {
     "name": "stderr",
     "output_type": "stream",
     "text": [
      "\r",
      " 41%|████████████████▎                       | 859/2106 [15:23<24:28,  1.18s/it]"
     ]
    },
    {
     "name": "stdout",
     "output_type": "stream",
     "text": [
      "1144510.yaml Southampton United Kingdom\n"
     ]
    },
    {
     "name": "stderr",
     "output_type": "stream",
     "text": [
      "\r",
      " 41%|████████████████▎                       | 860/2106 [15:25<24:09,  1.16s/it]"
     ]
    },
    {
     "name": "stdout",
     "output_type": "stream",
     "text": [
      "571147.yaml Sharjah Cricket Stadium United Arab Emirates\n"
     ]
    },
    {
     "name": "stderr",
     "output_type": "stream",
     "text": [
      "\r",
      " 41%|████████████████▎                       | 861/2106 [15:26<23:53,  1.15s/it]"
     ]
    },
    {
     "name": "stdout",
     "output_type": "stream",
     "text": [
      "1199230.yaml Lauderhill United States\n"
     ]
    },
    {
     "name": "stderr",
     "output_type": "stream",
     "text": [
      "\r",
      " 41%|████████████████▎                       | 862/2106 [15:27<24:59,  1.21s/it]"
     ]
    },
    {
     "name": "stdout",
     "output_type": "stream",
     "text": [
      "1083448.yaml Colombo Sri Lanka\n"
     ]
    },
    {
     "name": "stderr",
     "output_type": "stream",
     "text": [
      "\r",
      " 41%|████████████████▍                       | 863/2106 [15:29<27:39,  1.34s/it]"
     ]
    },
    {
     "name": "stdout",
     "output_type": "stream",
     "text": [
      "1022371.yaml Cardiff United Kingdom\n"
     ]
    },
    {
     "name": "stderr",
     "output_type": "stream",
     "text": [
      "\r",
      " 41%|████████████████▍                       | 864/2106 [15:30<28:17,  1.37s/it]"
     ]
    },
    {
     "name": "stdout",
     "output_type": "stream",
     "text": [
      "1168509.yaml Dublin Ireland\n"
     ]
    },
    {
     "name": "stderr",
     "output_type": "stream",
     "text": [
      "\r",
      " 41%|████████████████▍                       | 865/2106 [15:31<27:22,  1.32s/it]"
     ]
    },
    {
     "name": "stdout",
     "output_type": "stream",
     "text": [
      "392620.yaml Abu Dhabi United Arab Emirates\n"
     ]
    },
    {
     "name": "stderr",
     "output_type": "stream",
     "text": [
      "\r",
      " 41%|████████████████▍                       | 866/2106 [15:32<26:08,  1.26s/it]"
     ]
    },
    {
     "name": "stdout",
     "output_type": "stream",
     "text": [
      "1303311.yaml Dublin Ireland\n"
     ]
    },
    {
     "name": "stderr",
     "output_type": "stream",
     "text": [
      "\r",
      " 41%|████████████████▍                       | 867/2106 [15:34<25:15,  1.22s/it]"
     ]
    },
    {
     "name": "stdout",
     "output_type": "stream",
     "text": [
      "1267678.yaml Harare Zimbabwe\n"
     ]
    },
    {
     "name": "stderr",
     "output_type": "stream",
     "text": [
      "\r",
      " 41%|████████████████▍                       | 868/2106 [15:35<25:16,  1.23s/it]"
     ]
    },
    {
     "name": "stdout",
     "output_type": "stream",
     "text": [
      "636533.yaml Antigua Antigua and Barbuda\n"
     ]
    },
    {
     "name": "stderr",
     "output_type": "stream",
     "text": [
      "\r",
      " 41%|████████████████▌                       | 869/2106 [15:36<25:16,  1.23s/it]"
     ]
    },
    {
     "name": "stdout",
     "output_type": "stream",
     "text": [
      "64897.yaml Kingstown Saint Vincent and the Grenadines\n"
     ]
    },
    {
     "name": "stderr",
     "output_type": "stream",
     "text": [
      "\r",
      " 41%|████████████████▌                       | 870/2106 [15:37<24:00,  1.17s/it]"
     ]
    },
    {
     "name": "stdout",
     "output_type": "stream",
     "text": [
      "375462.yaml Harare Sports Club Zimbabwe\n"
     ]
    },
    {
     "name": "stderr",
     "output_type": "stream",
     "text": [
      "\r",
      " 41%|████████████████▌                       | 871/2106 [15:38<23:06,  1.12s/it]"
     ]
    },
    {
     "name": "stdout",
     "output_type": "stream",
     "text": [
      "474481.yaml Cardiff United Kingdom\n"
     ]
    },
    {
     "name": "stderr",
     "output_type": "stream",
     "text": [
      "\r",
      " 41%|████████████████▌                       | 872/2106 [15:39<21:50,  1.06s/it]"
     ]
    },
    {
     "name": "stdout",
     "output_type": "stream",
     "text": [
      "1104481.yaml Hambantota Sri Lanka\n"
     ]
    },
    {
     "name": "stderr",
     "output_type": "stream",
     "text": [
      "\r",
      " 41%|████████████████▌                       | 873/2106 [15:40<21:35,  1.05s/it]"
     ]
    },
    {
     "name": "stdout",
     "output_type": "stream",
     "text": [
      "635653.yaml Colombo Sri Lanka\n"
     ]
    },
    {
     "name": "stderr",
     "output_type": "stream",
     "text": [
      "\r",
      " 42%|████████████████▌                       | 874/2106 [15:41<21:24,  1.04s/it]"
     ]
    },
    {
     "name": "stdout",
     "output_type": "stream",
     "text": [
      "249214.yaml Centurion South Africa\n"
     ]
    },
    {
     "name": "stderr",
     "output_type": "stream",
     "text": [
      "\r",
      " 42%|████████████████▌                       | 875/2106 [15:43<23:48,  1.16s/it]"
     ]
    },
    {
     "name": "stdout",
     "output_type": "stream",
     "text": [
      "749783.yaml Hamilton Canada\n"
     ]
    },
    {
     "name": "stderr",
     "output_type": "stream",
     "text": [
      "\r",
      " 42%|████████████████▋                       | 876/2106 [15:44<23:34,  1.15s/it]"
     ]
    },
    {
     "name": "stdout",
     "output_type": "stream",
     "text": [
      "647249.yaml Pune India\n"
     ]
    },
    {
     "name": "stderr",
     "output_type": "stream",
     "text": [
      "\r",
      " 42%|████████████████▋                       | 877/2106 [15:45<22:47,  1.11s/it]"
     ]
    },
    {
     "name": "stdout",
     "output_type": "stream",
     "text": [
      "1033363.yaml Dublin Ireland\n"
     ]
    },
    {
     "name": "stderr",
     "output_type": "stream",
     "text": [
      "\r",
      " 42%|████████████████▋                       | 878/2106 [15:46<23:28,  1.15s/it]"
     ]
    },
    {
     "name": "stdout",
     "output_type": "stream",
     "text": [
      "1031427.yaml Southampton United Kingdom\n"
     ]
    },
    {
     "name": "stderr",
     "output_type": "stream",
     "text": [
      "\r",
      " 42%|████████████████▋                       | 879/2106 [15:48<28:59,  1.42s/it]"
     ]
    },
    {
     "name": "stdout",
     "output_type": "stream",
     "text": [
      "64851.yaml Harare Zimbabwe\n"
     ]
    },
    {
     "name": "stderr",
     "output_type": "stream",
     "text": [
      "\r",
      " 42%|████████████████▋                       | 880/2106 [15:49<29:03,  1.42s/it]"
     ]
    },
    {
     "name": "stdout",
     "output_type": "stream",
     "text": [
      "64842.yaml Rawalpindi Pakistan\n"
     ]
    },
    {
     "name": "stderr",
     "output_type": "stream",
     "text": [
      "\r",
      " 42%|████████████████▋                       | 881/2106 [15:50<25:58,  1.27s/it]"
     ]
    },
    {
     "name": "stdout",
     "output_type": "stream",
     "text": [
      "645641.yaml St Lucia Saint Lucia\n"
     ]
    },
    {
     "name": "stderr",
     "output_type": "stream",
     "text": [
      "\r",
      " 42%|████████████████▊                       | 882/2106 [15:51<24:26,  1.20s/it]"
     ]
    },
    {
     "name": "stdout",
     "output_type": "stream",
     "text": [
      "403370.yaml Rangiri Dambulla International Stadium None\n"
     ]
    },
    {
     "name": "stderr",
     "output_type": "stream",
     "text": [
      "\r",
      " 42%|████████████████▊                       | 883/2106 [15:53<25:51,  1.27s/it]"
     ]
    },
    {
     "name": "stdout",
     "output_type": "stream",
     "text": [
      "736445.yaml Harare Sports Club Zimbabwe\n"
     ]
    },
    {
     "name": "stderr",
     "output_type": "stream",
     "text": [
      "\r",
      " 42%|████████████████▊                       | 884/2106 [15:54<23:42,  1.16s/it]"
     ]
    },
    {
     "name": "stdout",
     "output_type": "stream",
     "text": [
      "450501.yaml Ayr United Kingdom\n"
     ]
    },
    {
     "name": "stderr",
     "output_type": "stream",
     "text": [
      "\r",
      " 42%|████████████████▊                       | 885/2106 [15:56<28:28,  1.40s/it]"
     ]
    },
    {
     "name": "stdout",
     "output_type": "stream",
     "text": [
      "953343.yaml Sharjah Cricket Stadium United Arab Emirates\n"
     ]
    },
    {
     "name": "stderr",
     "output_type": "stream",
     "text": [
      "\r",
      " 42%|████████████████▊                       | 886/2106 [15:57<27:51,  1.37s/it]"
     ]
    },
    {
     "name": "stdout",
     "output_type": "stream",
     "text": [
      "656435.yaml Sydney Cricket Ground Australia\n"
     ]
    },
    {
     "name": "stderr",
     "output_type": "stream",
     "text": [
      "\r",
      " 42%|████████████████▊                       | 887/2106 [15:59<32:08,  1.58s/it]"
     ]
    },
    {
     "name": "stdout",
     "output_type": "stream",
     "text": [
      "64839.yaml Lahore Pakistan\n"
     ]
    },
    {
     "name": "stderr",
     "output_type": "stream",
     "text": [
      "\r",
      " 42%|████████████████▊                       | 888/2106 [16:00<28:43,  1.41s/it]"
     ]
    },
    {
     "name": "stdout",
     "output_type": "stream",
     "text": [
      "535800.yaml Mirpur Pakistan\n"
     ]
    },
    {
     "name": "stderr",
     "output_type": "stream",
     "text": [
      "\r",
      " 42%|████████████████▉                       | 889/2106 [16:02<33:47,  1.67s/it]"
     ]
    },
    {
     "name": "stdout",
     "output_type": "stream",
     "text": [
      "647253.yaml Chandigarh India\n"
     ]
    },
    {
     "name": "stderr",
     "output_type": "stream",
     "text": [
      "\r",
      " 42%|████████████████▉                       | 890/2106 [16:04<31:44,  1.57s/it]"
     ]
    },
    {
     "name": "stdout",
     "output_type": "stream",
     "text": [
      "521222.yaml Kolkata India\n"
     ]
    },
    {
     "name": "stderr",
     "output_type": "stream",
     "text": [
      "\r",
      " 42%|████████████████▉                       | 891/2106 [16:05<29:39,  1.46s/it]"
     ]
    },
    {
     "name": "stdout",
     "output_type": "stream",
     "text": [
      "1001373.yaml Canberra Australia\n"
     ]
    },
    {
     "name": "stderr",
     "output_type": "stream",
     "text": [
      "\r",
      " 42%|████████████████▉                       | 892/2106 [16:06<26:57,  1.33s/it]"
     ]
    },
    {
     "name": "stdout",
     "output_type": "stream",
     "text": [
      "523805.yaml Dublin Ireland\n"
     ]
    },
    {
     "name": "stderr",
     "output_type": "stream",
     "text": [
      "\r",
      " 42%|████████████████▉                       | 893/2106 [16:07<24:26,  1.21s/it]"
     ]
    },
    {
     "name": "stdout",
     "output_type": "stream",
     "text": [
      "1251950.yaml Dublin Ireland\n"
     ]
    },
    {
     "name": "stderr",
     "output_type": "stream",
     "text": [
      "\r",
      " 42%|████████████████▉                       | 894/2106 [16:08<23:55,  1.18s/it]"
     ]
    },
    {
     "name": "stdout",
     "output_type": "stream",
     "text": [
      "247474.yaml St Kitts Saint Kitts and Nevis\n"
     ]
    },
    {
     "name": "stderr",
     "output_type": "stream",
     "text": [
      "\r",
      " 42%|████████████████▉                       | 895/2106 [16:09<23:39,  1.17s/it]"
     ]
    },
    {
     "name": "stdout",
     "output_type": "stream",
     "text": [
      "335356.yaml Karachi Pakistan\n"
     ]
    },
    {
     "name": "stderr",
     "output_type": "stream",
     "text": [
      "\r",
      " 43%|█████████████████                       | 896/2106 [16:10<25:07,  1.25s/it]"
     ]
    },
    {
     "name": "stdout",
     "output_type": "stream",
     "text": [
      "540171.yaml St Lucia Saint Lucia\n"
     ]
    },
    {
     "name": "stderr",
     "output_type": "stream",
     "text": [
      "\r",
      " 43%|█████████████████                       | 897/2106 [16:12<27:28,  1.36s/it]"
     ]
    },
    {
     "name": "stdout",
     "output_type": "stream",
     "text": [
      "1276908.yaml London United Kingdom\n"
     ]
    },
    {
     "name": "stderr",
     "output_type": "stream",
     "text": [
      "\r",
      " 43%|█████████████████                       | 898/2106 [16:13<25:24,  1.26s/it]"
     ]
    },
    {
     "name": "stdout",
     "output_type": "stream",
     "text": [
      "1251572.yaml Centurion South Africa\n"
     ]
    },
    {
     "name": "stderr",
     "output_type": "stream",
     "text": [
      "\r",
      " 43%|█████████████████                       | 899/2106 [16:14<23:19,  1.16s/it]"
     ]
    },
    {
     "name": "stdout",
     "output_type": "stream",
     "text": [
      "66304.yaml Nottingham United Kingdom\n"
     ]
    },
    {
     "name": "stderr",
     "output_type": "stream",
     "text": [
      "\r",
      " 43%|█████████████████                       | 900/2106 [16:15<22:29,  1.12s/it]"
     ]
    },
    {
     "name": "stdout",
     "output_type": "stream",
     "text": [
      "636161.yaml Sydney Cricket Ground Australia\n"
     ]
    },
    {
     "name": "stderr",
     "output_type": "stream",
     "text": [
      "\r",
      " 43%|█████████████████                       | 901/2106 [16:16<21:54,  1.09s/it]"
     ]
    },
    {
     "name": "stdout",
     "output_type": "stream",
     "text": [
      "1000893.yaml Sydney Cricket Ground Australia\n"
     ]
    },
    {
     "name": "stderr",
     "output_type": "stream",
     "text": [
      "\r",
      " 43%|█████████████████▏                      | 902/2106 [16:18<23:57,  1.19s/it]"
     ]
    },
    {
     "name": "stdout",
     "output_type": "stream",
     "text": [
      "434258.yaml Mirpur Pakistan\n"
     ]
    },
    {
     "name": "stderr",
     "output_type": "stream",
     "text": [
      "\r",
      " 43%|█████████████████▏                      | 903/2106 [16:19<24:08,  1.20s/it]"
     ]
    },
    {
     "name": "stdout",
     "output_type": "stream",
     "text": [
      "754731.yaml Sydney Cricket Ground Australia\n"
     ]
    },
    {
     "name": "stderr",
     "output_type": "stream",
     "text": [
      "\r",
      " 43%|█████████████████▏                      | 904/2106 [16:20<23:39,  1.18s/it]"
     ]
    },
    {
     "name": "stdout",
     "output_type": "stream",
     "text": [
      "567368.yaml Bloemfontein South Africa\n"
     ]
    },
    {
     "name": "stderr",
     "output_type": "stream",
     "text": [
      "\r",
      " 43%|█████████████████▏                      | 905/2106 [16:21<22:41,  1.13s/it]"
     ]
    },
    {
     "name": "stdout",
     "output_type": "stream",
     "text": [
      "730289.yaml Grenada Grenada\n"
     ]
    },
    {
     "name": "stderr",
     "output_type": "stream",
     "text": [
      "\r",
      " 43%|█████████████████▏                      | 906/2106 [16:22<23:51,  1.19s/it]"
     ]
    },
    {
     "name": "stdout",
     "output_type": "stream",
     "text": [
      "656495.yaml Melbourne Cricket Ground Australia\n"
     ]
    },
    {
     "name": "stderr",
     "output_type": "stream",
     "text": [
      "\r",
      " 43%|█████████████████▏                      | 907/2106 [16:25<32:38,  1.63s/it]"
     ]
    },
    {
     "name": "stdout",
     "output_type": "stream",
     "text": [
      "1185321.yaml Potchefstroom South Africa\n"
     ]
    },
    {
     "name": "stderr",
     "output_type": "stream",
     "text": [
      "\r",
      " 43%|█████████████████▏                      | 908/2106 [16:26<28:58,  1.45s/it]"
     ]
    },
    {
     "name": "stdout",
     "output_type": "stream",
     "text": [
      "325801.yaml Sind Pakistan\n"
     ]
    },
    {
     "name": "stderr",
     "output_type": "stream",
     "text": [
      "\r",
      " 43%|█████████████████▎                      | 909/2106 [16:27<27:00,  1.35s/it]"
     ]
    },
    {
     "name": "stdout",
     "output_type": "stream",
     "text": [
      "64838.yaml Lahore Pakistan\n"
     ]
    },
    {
     "name": "stderr",
     "output_type": "stream",
     "text": [
      "\r",
      " 43%|█████████████████▎                      | 910/2106 [16:28<25:00,  1.25s/it]"
     ]
    },
    {
     "name": "stdout",
     "output_type": "stream",
     "text": [
      "377313.yaml Jamaica Jamaica\n"
     ]
    },
    {
     "name": "stderr",
     "output_type": "stream",
     "text": [
      "\r",
      " 43%|█████████████████▎                      | 911/2106 [16:29<23:39,  1.19s/it]"
     ]
    },
    {
     "name": "stdout",
     "output_type": "stream",
     "text": [
      "543882.yaml Mombasa Sports Club Ground None\n"
     ]
    },
    {
     "name": "stderr",
     "output_type": "stream",
     "text": [
      "\r",
      " 43%|█████████████████▎                      | 912/2106 [16:31<25:07,  1.26s/it]"
     ]
    },
    {
     "name": "stdout",
     "output_type": "stream",
     "text": [
      "667641.yaml Napier New Zealand\n"
     ]
    },
    {
     "name": "stderr",
     "output_type": "stream",
     "text": [
      "\r",
      " 43%|█████████████████▎                      | 913/2106 [16:32<23:37,  1.19s/it]"
     ]
    },
    {
     "name": "stdout",
     "output_type": "stream",
     "text": [
      "1262757.yaml Colombo Sri Lanka\n"
     ]
    },
    {
     "name": "stderr",
     "output_type": "stream",
     "text": [
      "\r",
      " 43%|█████████████████▎                      | 914/2106 [16:33<22:37,  1.14s/it]"
     ]
    },
    {
     "name": "stdout",
     "output_type": "stream",
     "text": [
      "1030221.yaml Delhi India\n"
     ]
    },
    {
     "name": "stderr",
     "output_type": "stream",
     "text": [
      "\r",
      " 43%|█████████████████▍                      | 915/2106 [16:34<21:55,  1.10s/it]"
     ]
    },
    {
     "name": "stdout",
     "output_type": "stream",
     "text": [
      "848847.yaml Durban South Africa\n"
     ]
    },
    {
     "name": "stderr",
     "output_type": "stream",
     "text": [
      "\r",
      " 43%|█████████████████▍                      | 916/2106 [16:35<21:25,  1.08s/it]"
     ]
    },
    {
     "name": "stdout",
     "output_type": "stream",
     "text": [
      "416241.yaml Guwahati India\n"
     ]
    },
    {
     "name": "stderr",
     "output_type": "stream",
     "text": [
      "\r",
      " 44%|█████████████████▍                      | 917/2106 [16:36<21:04,  1.06s/it]"
     ]
    },
    {
     "name": "stdout",
     "output_type": "stream",
     "text": [
      "343736.yaml Colombo Sri Lanka\n"
     ]
    },
    {
     "name": "stderr",
     "output_type": "stream",
     "text": [
      "\r",
      " 44%|█████████████████▍                      | 918/2106 [16:37<22:20,  1.13s/it]"
     ]
    },
    {
     "name": "stdout",
     "output_type": "stream",
     "text": [
      "1059711.yaml Harare Sports Club Zimbabwe\n"
     ]
    },
    {
     "name": "stderr",
     "output_type": "stream",
     "text": [
      "\r",
      " 44%|█████████████████▍                      | 919/2106 [16:38<22:37,  1.14s/it]"
     ]
    },
    {
     "name": "stdout",
     "output_type": "stream",
     "text": [
      "1331365.yaml Port Moresby Papua New Guinea\n"
     ]
    },
    {
     "name": "stderr",
     "output_type": "stream",
     "text": [
      "\r",
      " 44%|█████████████████▍                      | 920/2106 [16:39<20:29,  1.04s/it]"
     ]
    },
    {
     "name": "stdout",
     "output_type": "stream",
     "text": [
      "433577.yaml Colombo Sri Lanka\n"
     ]
    },
    {
     "name": "stderr",
     "output_type": "stream",
     "text": [
      "\r",
      " 44%|█████████████████▍                      | 921/2106 [16:40<20:35,  1.04s/it]"
     ]
    },
    {
     "name": "stdout",
     "output_type": "stream",
     "text": [
      "562440.yaml Pallekele International Cricket Stadium Sri Lanka\n"
     ]
    },
    {
     "name": "stderr",
     "output_type": "stream",
     "text": [
      "\r",
      " 44%|█████████████████▌                      | 922/2106 [16:41<20:11,  1.02s/it]"
     ]
    },
    {
     "name": "stdout",
     "output_type": "stream",
     "text": [
      "1120288.yaml Abu Dhabi United Arab Emirates\n"
     ]
    },
    {
     "name": "stderr",
     "output_type": "stream",
     "text": [
      "\r",
      " 44%|█████████████████▌                      | 923/2106 [16:42<19:49,  1.01s/it]"
     ]
    },
    {
     "name": "stdout",
     "output_type": "stream",
     "text": [
      "1030227.yaml Visakhapatnam India\n"
     ]
    },
    {
     "name": "stderr",
     "output_type": "stream",
     "text": [
      "\r",
      " 44%|█████████████████▌                      | 924/2106 [16:43<18:43,  1.05it/s]"
     ]
    },
    {
     "name": "stdout",
     "output_type": "stream",
     "text": [
      "406194.yaml Sydney Cricket Ground Australia\n"
     ]
    },
    {
     "name": "stderr",
     "output_type": "stream",
     "text": [
      "\r",
      " 44%|█████████████████▌                      | 925/2106 [16:44<20:57,  1.06s/it]"
     ]
    },
    {
     "name": "stdout",
     "output_type": "stream",
     "text": [
      "300441.yaml Christchurch New Zealand\n"
     ]
    },
    {
     "name": "stderr",
     "output_type": "stream",
     "text": [
      "\r",
      " 44%|█████████████████▌                      | 926/2106 [16:45<21:18,  1.08s/it]"
     ]
    },
    {
     "name": "stdout",
     "output_type": "stream",
     "text": [
      "223335.yaml Cape Town South Africa\n"
     ]
    },
    {
     "name": "stderr",
     "output_type": "stream",
     "text": [
      "\r",
      " 44%|█████████████████▌                      | 927/2106 [16:46<20:56,  1.07s/it]"
     ]
    },
    {
     "name": "stdout",
     "output_type": "stream",
     "text": [
      "463152.yaml Cape Town South Africa\n"
     ]
    },
    {
     "name": "stderr",
     "output_type": "stream",
     "text": [
      "\r",
      " 44%|█████████████████▋                      | 928/2106 [16:48<27:18,  1.39s/it]"
     ]
    },
    {
     "name": "stdout",
     "output_type": "stream",
     "text": [
      "64932.yaml Johannesburg South Africa\n"
     ]
    },
    {
     "name": "stderr",
     "output_type": "stream",
     "text": [
      "\r",
      " 44%|█████████████████▋                      | 929/2106 [16:49<25:07,  1.28s/it]"
     ]
    },
    {
     "name": "stdout",
     "output_type": "stream",
     "text": [
      "64906.yaml Colombo Sri Lanka\n"
     ]
    },
    {
     "name": "stderr",
     "output_type": "stream",
     "text": [
      "\r",
      " 44%|█████████████████▋                      | 930/2106 [16:51<26:00,  1.33s/it]"
     ]
    },
    {
     "name": "stdout",
     "output_type": "stream",
     "text": [
      "426389.yaml Manchester United Kingdom\n"
     ]
    },
    {
     "name": "stderr",
     "output_type": "stream",
     "text": [
      "\r",
      " 44%|█████████████████▋                      | 931/2106 [16:52<24:48,  1.27s/it]"
     ]
    },
    {
     "name": "stdout",
     "output_type": "stream",
     "text": [
      "1263162.yaml Bridgetown Barbados\n"
     ]
    },
    {
     "name": "stderr",
     "output_type": "stream",
     "text": [
      "\r",
      " 44%|█████████████████▋                      | 932/2106 [16:53<23:05,  1.18s/it]"
     ]
    },
    {
     "name": "stdout",
     "output_type": "stream",
     "text": [
      "226352.yaml Lahore Pakistan\n"
     ]
    },
    {
     "name": "stderr",
     "output_type": "stream",
     "text": [
      "\r",
      " 44%|█████████████████▋                      | 933/2106 [16:54<22:25,  1.15s/it]"
     ]
    },
    {
     "name": "stdout",
     "output_type": "stream",
     "text": [
      "446965.yaml Adelaide Oval Australia\n"
     ]
    },
    {
     "name": "stderr",
     "output_type": "stream",
     "text": [
      "\r",
      " 44%|█████████████████▋                      | 934/2106 [16:55<22:17,  1.14s/it]"
     ]
    },
    {
     "name": "stdout",
     "output_type": "stream",
     "text": [
      "65716.yaml Colombo Sri Lanka\n"
     ]
    },
    {
     "name": "stderr",
     "output_type": "stream",
     "text": [
      "\r",
      " 44%|█████████████████▊                      | 935/2106 [16:56<22:47,  1.17s/it]"
     ]
    },
    {
     "name": "stdout",
     "output_type": "stream",
     "text": [
      "247496.yaml Barbados Barbados\n"
     ]
    },
    {
     "name": "stderr",
     "output_type": "stream",
     "text": [
      "\r",
      " 44%|█████████████████▊                      | 936/2106 [16:57<21:55,  1.12s/it]"
     ]
    },
    {
     "name": "stdout",
     "output_type": "stream",
     "text": [
      "1031675.yaml Southampton United Kingdom\n"
     ]
    },
    {
     "name": "stderr",
     "output_type": "stream",
     "text": [
      "\r",
      " 44%|█████████████████▊                      | 937/2106 [16:58<21:19,  1.09s/it]"
     ]
    },
    {
     "name": "stdout",
     "output_type": "stream",
     "text": [
      "1153844.yaml Napier New Zealand\n"
     ]
    },
    {
     "name": "stderr",
     "output_type": "stream",
     "text": [
      "\r",
      " 45%|█████████████████▊                      | 938/2106 [16:59<20:53,  1.07s/it]"
     ]
    },
    {
     "name": "stdout",
     "output_type": "stream",
     "text": [
      "461570.yaml Dubai International Cricket Stadium United Arab Emirates\n"
     ]
    },
    {
     "name": "stderr",
     "output_type": "stream",
     "text": [
      "\r",
      " 45%|█████████████████▊                      | 939/2106 [17:00<20:35,  1.06s/it]"
     ]
    },
    {
     "name": "stdout",
     "output_type": "stream",
     "text": [
      "467883.yaml Guwahati India\n"
     ]
    },
    {
     "name": "stderr",
     "output_type": "stream",
     "text": [
      "\r",
      " 45%|█████████████████▊                      | 940/2106 [17:01<20:21,  1.05s/it]"
     ]
    },
    {
     "name": "stdout",
     "output_type": "stream",
     "text": [
      "64887.yaml Bulawayo Zimbabwe\n"
     ]
    },
    {
     "name": "stderr",
     "output_type": "stream",
     "text": [
      "\r",
      " 45%|█████████████████▊                      | 941/2106 [17:03<21:59,  1.13s/it]"
     ]
    },
    {
     "name": "stdout",
     "output_type": "stream",
     "text": [
      "1311738.yaml Rotterdam Netherlands\n"
     ]
    },
    {
     "name": "stderr",
     "output_type": "stream",
     "text": [
      "\r",
      " 45%|█████████████████▉                      | 942/2106 [17:04<21:56,  1.13s/it]"
     ]
    },
    {
     "name": "stdout",
     "output_type": "stream",
     "text": [
      "236963.yaml Brisbane Australia\n"
     ]
    },
    {
     "name": "stderr",
     "output_type": "stream",
     "text": [
      "\r",
      " 45%|█████████████████▉                      | 943/2106 [17:05<21:08,  1.09s/it]"
     ]
    },
    {
     "name": "stdout",
     "output_type": "stream",
     "text": [
      "64925.yaml Port Elizabeth South Africa\n"
     ]
    },
    {
     "name": "stderr",
     "output_type": "stream",
     "text": [
      "\r",
      " 45%|█████████████████▉                      | 944/2106 [17:06<20:18,  1.05s/it]"
     ]
    },
    {
     "name": "stdout",
     "output_type": "stream",
     "text": [
      "1310945.yaml Harare Zimbabwe\n"
     ]
    },
    {
     "name": "stderr",
     "output_type": "stream",
     "text": [
      "\r",
      " 45%|█████████████████▉                      | 945/2106 [17:07<18:21,  1.05it/s]"
     ]
    },
    {
     "name": "stdout",
     "output_type": "stream",
     "text": [
      "267710.yaml Kolkata India\n"
     ]
    },
    {
     "name": "stderr",
     "output_type": "stream",
     "text": [
      "\r",
      " 45%|█████████████████▉                      | 946/2106 [17:08<18:46,  1.03it/s]"
     ]
    },
    {
     "name": "stdout",
     "output_type": "stream",
     "text": [
      "1122727.yaml Chandigarh India\n"
     ]
    },
    {
     "name": "stderr",
     "output_type": "stream",
     "text": [
      "\r",
      " 45%|█████████████████▉                      | 947/2106 [17:09<21:26,  1.11s/it]"
     ]
    },
    {
     "name": "stdout",
     "output_type": "stream",
     "text": [
      "1153245.yaml Abu Dhabi United Arab Emirates\n"
     ]
    },
    {
     "name": "stderr",
     "output_type": "stream",
     "text": [
      "\r",
      " 45%|██████████████████                      | 948/2106 [17:10<20:55,  1.08s/it]"
     ]
    },
    {
     "name": "stdout",
     "output_type": "stream",
     "text": [
      "1142586.yaml Pallekele International Cricket Stadium Sri Lanka\n"
     ]
    },
    {
     "name": "stderr",
     "output_type": "stream",
     "text": [
      "\r",
      " 45%|██████████████████                      | 949/2106 [17:11<20:33,  1.07s/it]"
     ]
    },
    {
     "name": "stdout",
     "output_type": "stream",
     "text": [
      "335358.yaml Karachi Pakistan\n"
     ]
    },
    {
     "name": "stderr",
     "output_type": "stream",
     "text": [
      "\r",
      " 45%|██████████████████                      | 950/2106 [17:12<20:18,  1.05s/it]"
     ]
    },
    {
     "name": "stdout",
     "output_type": "stream",
     "text": [
      "351691.yaml Sydney Cricket Ground Australia\n"
     ]
    },
    {
     "name": "stderr",
     "output_type": "stream",
     "text": [
      "\r",
      " 45%|██████████████████                      | 951/2106 [17:13<19:30,  1.01s/it]"
     ]
    },
    {
     "name": "stdout",
     "output_type": "stream",
     "text": [
      "1140382.yaml Pallekele International Cricket Stadium Sri Lanka\n"
     ]
    },
    {
     "name": "stderr",
     "output_type": "stream",
     "text": [
      "\r",
      " 45%|██████████████████                      | 952/2106 [17:14<21:55,  1.14s/it]"
     ]
    },
    {
     "name": "stdout",
     "output_type": "stream",
     "text": [
      "567370.yaml Johannesburg South Africa\n"
     ]
    },
    {
     "name": "stderr",
     "output_type": "stream",
     "text": [
      "\r",
      " 45%|██████████████████                      | 953/2106 [17:16<21:49,  1.14s/it]"
     ]
    },
    {
     "name": "stdout",
     "output_type": "stream",
     "text": [
      "520600.yaml Wellington New Zealand\n"
     ]
    },
    {
     "name": "stderr",
     "output_type": "stream",
     "text": [
      "\r",
      " 45%|██████████████████                      | 954/2106 [17:17<20:34,  1.07s/it]"
     ]
    },
    {
     "name": "stdout",
     "output_type": "stream",
     "text": [
      "212020.yaml Birmingham United Kingdom\n"
     ]
    },
    {
     "name": "stderr",
     "output_type": "stream",
     "text": [
      "\r",
      " 45%|██████████████████▏                     | 955/2106 [17:18<20:17,  1.06s/it]"
     ]
    },
    {
     "name": "stdout",
     "output_type": "stream",
     "text": [
      "564785.yaml Pallekele International Cricket Stadium Sri Lanka\n"
     ]
    },
    {
     "name": "stderr",
     "output_type": "stream",
     "text": [
      "\r",
      " 45%|██████████████████▏                     | 956/2106 [17:18<17:42,  1.08it/s]"
     ]
    },
    {
     "name": "stdout",
     "output_type": "stream",
     "text": [
      "296918.yaml Cardiff United Kingdom\n"
     ]
    },
    {
     "name": "stderr",
     "output_type": "stream",
     "text": [
      "\r",
      " 45%|██████████████████▏                     | 957/2106 [17:19<17:41,  1.08it/s]"
     ]
    },
    {
     "name": "stdout",
     "output_type": "stream",
     "text": [
      "1144171.yaml Cape Town South Africa\n"
     ]
    },
    {
     "name": "stderr",
     "output_type": "stream",
     "text": [
      "\r",
      " 45%|██████████████████▏                     | 958/2106 [17:20<18:15,  1.05it/s]"
     ]
    },
    {
     "name": "stdout",
     "output_type": "stream",
     "text": [
      "351684.yaml Melbourne Cricket Ground Australia\n"
     ]
    },
    {
     "name": "stderr",
     "output_type": "stream",
     "text": [
      "\r",
      " 46%|██████████████████▏                     | 959/2106 [17:21<18:02,  1.06it/s]"
     ]
    },
    {
     "name": "stdout",
     "output_type": "stream",
     "text": [
      "291359.yaml Brisbane Australia\n"
     ]
    },
    {
     "name": "stderr",
     "output_type": "stream",
     "text": [
      "\r",
      " 46%|██████████████████▏                     | 960/2106 [17:22<20:50,  1.09s/it]"
     ]
    },
    {
     "name": "stdout",
     "output_type": "stream",
     "text": [
      "535795.yaml Mirpur Pakistan\n"
     ]
    },
    {
     "name": "stderr",
     "output_type": "stream",
     "text": [
      "\r",
      " 46%|██████████████████▎                     | 961/2106 [17:24<21:00,  1.10s/it]"
     ]
    },
    {
     "name": "stdout",
     "output_type": "stream",
     "text": [
      "736455.yaml Harare Sports Club Zimbabwe\n"
     ]
    },
    {
     "name": "stderr",
     "output_type": "stream",
     "text": [
      "\r",
      " 46%|██████████████████▎                     | 962/2106 [17:25<20:33,  1.08s/it]"
     ]
    },
    {
     "name": "stdout",
     "output_type": "stream",
     "text": [
      "1203675.yaml St George's Grenada\n"
     ]
    },
    {
     "name": "stderr",
     "output_type": "stream",
     "text": [
      "\r",
      " 46%|██████████████████▎                     | 963/2106 [17:26<20:48,  1.09s/it]"
     ]
    },
    {
     "name": "stdout",
     "output_type": "stream",
     "text": [
      "291370.yaml Melbourne Cricket Ground Australia\n"
     ]
    },
    {
     "name": "stderr",
     "output_type": "stream",
     "text": [
      "\r",
      " 46%|██████████████████▎                     | 964/2106 [17:27<21:22,  1.12s/it]"
     ]
    },
    {
     "name": "stdout",
     "output_type": "stream",
     "text": [
      "313994.yaml Nairobi Kenya\n"
     ]
    },
    {
     "name": "stderr",
     "output_type": "stream",
     "text": [
      "\r",
      " 46%|██████████████████▎                     | 965/2106 [17:28<20:58,  1.10s/it]"
     ]
    },
    {
     "name": "stdout",
     "output_type": "stream",
     "text": [
      "1169330.yaml Edinburgh United Kingdom\n"
     ]
    },
    {
     "name": "stderr",
     "output_type": "stream",
     "text": [
      "\r",
      " 46%|██████████████████▎                     | 966/2106 [17:29<22:15,  1.17s/it]"
     ]
    },
    {
     "name": "stdout",
     "output_type": "stream",
     "text": [
      "1322032.yaml Glasgow United Kingdom\n"
     ]
    },
    {
     "name": "stderr",
     "output_type": "stream",
     "text": [
      "\r",
      " 46%|██████████████████▎                     | 967/2106 [17:30<21:29,  1.13s/it]"
     ]
    },
    {
     "name": "stdout",
     "output_type": "stream",
     "text": [
      "296906.yaml Bristol United Kingdom\n"
     ]
    },
    {
     "name": "stderr",
     "output_type": "stream",
     "text": [
      "\r",
      " 46%|██████████████████▍                     | 968/2106 [17:31<20:45,  1.09s/it]"
     ]
    },
    {
     "name": "stdout",
     "output_type": "stream",
     "text": [
      "64870.yaml Dambulla Sri Lanka\n"
     ]
    },
    {
     "name": "stderr",
     "output_type": "stream",
     "text": [
      "\r",
      " 46%|██████████████████▍                     | 969/2106 [17:32<20:19,  1.07s/it]"
     ]
    },
    {
     "name": "stdout",
     "output_type": "stream",
     "text": [
      "953337.yaml Sharjah Cricket Stadium United Arab Emirates\n"
     ]
    },
    {
     "name": "stderr",
     "output_type": "stream",
     "text": [
      "\r",
      " 46%|██████████████████▍                     | 970/2106 [17:33<18:16,  1.04it/s]"
     ]
    },
    {
     "name": "stdout",
     "output_type": "stream",
     "text": [
      "300438.yaml Hamilton Canada\n"
     ]
    },
    {
     "name": "stderr",
     "output_type": "stream",
     "text": [
      "\r",
      " 46%|██████████████████▍                     | 971/2106 [17:34<18:35,  1.02it/s]"
     ]
    },
    {
     "name": "stdout",
     "output_type": "stream",
     "text": [
      "649099.yaml Sharjah Cricket Stadium United Arab Emirates\n"
     ]
    },
    {
     "name": "stderr",
     "output_type": "stream",
     "text": [
      "\r",
      " 46%|██████████████████▍                     | 972/2106 [17:36<21:07,  1.12s/it]"
     ]
    },
    {
     "name": "stdout",
     "output_type": "stream",
     "text": [
      "702139.yaml Jamaica Jamaica\n"
     ]
    },
    {
     "name": "stderr",
     "output_type": "stream",
     "text": [
      "\r",
      " 46%|██████████████████▍                     | 973/2106 [17:36<19:59,  1.06s/it]"
     ]
    },
    {
     "name": "stdout",
     "output_type": "stream",
     "text": [
      "518956.yaml Melbourne Cricket Ground Australia\n"
     ]
    },
    {
     "name": "stderr",
     "output_type": "stream",
     "text": [
      "\r",
      " 46%|██████████████████▍                     | 974/2106 [17:38<20:21,  1.08s/it]"
     ]
    },
    {
     "name": "stdout",
     "output_type": "stream",
     "text": [
      "1244013.yaml Abu Dhabi United Arab Emirates\n"
     ]
    },
    {
     "name": "stderr",
     "output_type": "stream",
     "text": [
      "\r",
      " 46%|██████████████████▌                     | 975/2106 [17:39<20:01,  1.06s/it]"
     ]
    },
    {
     "name": "stdout",
     "output_type": "stream",
     "text": [
      "217979.yaml Harare Sports Club Zimbabwe\n"
     ]
    },
    {
     "name": "stderr",
     "output_type": "stream",
     "text": [
      "\r",
      " 46%|██████████████████▌                     | 976/2106 [17:40<19:46,  1.05s/it]"
     ]
    },
    {
     "name": "stdout",
     "output_type": "stream",
     "text": [
      "555892.yaml Dublin Ireland\n"
     ]
    },
    {
     "name": "stderr",
     "output_type": "stream",
     "text": [
      "\r",
      " 46%|██████████████████▌                     | 977/2106 [17:41<21:55,  1.17s/it]"
     ]
    },
    {
     "name": "stdout",
     "output_type": "stream",
     "text": [
      "65662.yaml Adelaide Oval Australia\n"
     ]
    },
    {
     "name": "stderr",
     "output_type": "stream",
     "text": [
      "\r",
      " 46%|██████████████████▌                     | 978/2106 [17:43<27:27,  1.46s/it]"
     ]
    },
    {
     "name": "stdout",
     "output_type": "stream",
     "text": [
      "65659.yaml Brisbane Australia\n"
     ]
    },
    {
     "name": "stderr",
     "output_type": "stream",
     "text": [
      "\r",
      " 46%|██████████████████▌                     | 979/2106 [17:44<24:57,  1.33s/it]"
     ]
    },
    {
     "name": "stdout",
     "output_type": "stream",
     "text": [
      "1251952.yaml Dublin Ireland\n"
     ]
    },
    {
     "name": "stderr",
     "output_type": "stream",
     "text": [
      "\r",
      " 47%|██████████████████▌                     | 980/2106 [17:45<23:12,  1.24s/it]"
     ]
    },
    {
     "name": "stdout",
     "output_type": "stream",
     "text": [
      "433570.yaml Nagpur India\n"
     ]
    },
    {
     "name": "stderr",
     "output_type": "stream",
     "text": [
      "\r",
      " 47%|██████████████████▋                     | 981/2106 [17:46<19:41,  1.05s/it]"
     ]
    },
    {
     "name": "stdout",
     "output_type": "stream",
     "text": [
      "914213.yaml Nelson New Zealand\n"
     ]
    },
    {
     "name": "stderr",
     "output_type": "stream",
     "text": [
      "\r",
      " 47%|██████████████████▋                     | 982/2106 [17:47<18:56,  1.01s/it]"
     ]
    },
    {
     "name": "stdout",
     "output_type": "stream",
     "text": [
      "565814.yaml Ranchi India\n"
     ]
    },
    {
     "name": "stderr",
     "output_type": "stream",
     "text": [
      "\r",
      " 47%|██████████████████▋                     | 983/2106 [17:48<18:59,  1.02s/it]"
     ]
    },
    {
     "name": "stdout",
     "output_type": "stream",
     "text": [
      "282689.yaml Mirpur Pakistan\n"
     ]
    },
    {
     "name": "stderr",
     "output_type": "stream",
     "text": [
      "\r",
      " 47%|██████████████████▋                     | 984/2106 [17:49<21:19,  1.14s/it]"
     ]
    },
    {
     "name": "stdout",
     "output_type": "stream",
     "text": [
      "238199.yaml Durban South Africa\n"
     ]
    },
    {
     "name": "stderr",
     "output_type": "stream",
     "text": [
      "\r",
      " 47%|██████████████████▋                     | 985/2106 [17:50<20:39,  1.11s/it]"
     ]
    },
    {
     "name": "stdout",
     "output_type": "stream",
     "text": [
      "461567.yaml Abu Dhabi United Arab Emirates\n"
     ]
    },
    {
     "name": "stderr",
     "output_type": "stream",
     "text": [
      "\r",
      " 47%|██████████████████▋                     | 986/2106 [17:51<20:10,  1.08s/it]"
     ]
    },
    {
     "name": "stdout",
     "output_type": "stream",
     "text": [
      "486522.yaml Mirpur Pakistan\n"
     ]
    },
    {
     "name": "stderr",
     "output_type": "stream",
     "text": [
      "\r",
      " 47%|██████████████████▋                     | 987/2106 [17:52<19:35,  1.05s/it]"
     ]
    },
    {
     "name": "stdout",
     "output_type": "stream",
     "text": [
      "1213871.yaml Colombo Sri Lanka\n"
     ]
    },
    {
     "name": "stderr",
     "output_type": "stream",
     "text": [
      "\r",
      " 47%|██████████████████▊                     | 988/2106 [17:53<19:39,  1.06s/it]"
     ]
    },
    {
     "name": "stdout",
     "output_type": "stream",
     "text": [
      "573025.yaml Sydney Cricket Ground Australia\n"
     ]
    },
    {
     "name": "stderr",
     "output_type": "stream",
     "text": [
      "\r",
      " 47%|██████████████████▊                     | 989/2106 [17:55<21:45,  1.17s/it]"
     ]
    },
    {
     "name": "stdout",
     "output_type": "stream",
     "text": [
      "66386.yaml Sydney Australia\n"
     ]
    },
    {
     "name": "stderr",
     "output_type": "stream",
     "text": [
      "\r",
      " 47%|██████████████████▊                     | 990/2106 [17:56<20:55,  1.12s/it]"
     ]
    },
    {
     "name": "stdout",
     "output_type": "stream",
     "text": [
      "66201.yaml London United Kingdom\n"
     ]
    },
    {
     "name": "stderr",
     "output_type": "stream",
     "text": [
      "\r",
      " 47%|██████████████████▊                     | 991/2106 [17:57<20:20,  1.09s/it]"
     ]
    },
    {
     "name": "stdout",
     "output_type": "stream",
     "text": [
      "1325549.yaml Harare Zimbabwe\n"
     ]
    },
    {
     "name": "stderr",
     "output_type": "stream",
     "text": [
      "\r",
      " 47%|██████████████████▊                     | 992/2106 [17:58<19:55,  1.07s/it]"
     ]
    },
    {
     "name": "stdout",
     "output_type": "stream",
     "text": [
      "463150.yaml Durban South Africa\n"
     ]
    },
    {
     "name": "stderr",
     "output_type": "stream",
     "text": [
      "\r",
      " 47%|██████████████████▊                     | 993/2106 [17:59<19:03,  1.03s/it]"
     ]
    },
    {
     "name": "stdout",
     "output_type": "stream",
     "text": [
      "66366.yaml Faridabad India\n"
     ]
    },
    {
     "name": "stderr",
     "output_type": "stream",
     "text": [
      "\r",
      " 47%|██████████████████▉                     | 994/2106 [18:00<19:01,  1.03s/it]"
     ]
    },
    {
     "name": "stdout",
     "output_type": "stream",
     "text": [
      "300487.yaml Harare Sports Club Zimbabwe\n"
     ]
    },
    {
     "name": "stderr",
     "output_type": "stream",
     "text": [
      "\r",
      " 47%|██████████████████▉                     | 995/2106 [18:01<21:15,  1.15s/it]"
     ]
    },
    {
     "name": "stdout",
     "output_type": "stream",
     "text": [
      "1075506.yaml East London South Africa\n"
     ]
    },
    {
     "name": "stderr",
     "output_type": "stream",
     "text": [
      "\r",
      " 47%|██████████████████▉                     | 996/2106 [18:02<20:33,  1.11s/it]"
     ]
    },
    {
     "name": "stdout",
     "output_type": "stream",
     "text": [
      "390204.yaml Benoni South Africa\n"
     ]
    },
    {
     "name": "stderr",
     "output_type": "stream",
     "text": [
      "\r",
      " 47%|██████████████████▉                     | 997/2106 [18:03<20:03,  1.08s/it]"
     ]
    },
    {
     "name": "stdout",
     "output_type": "stream",
     "text": [
      "1199229.yaml Lauderhill United States\n"
     ]
    },
    {
     "name": "stderr",
     "output_type": "stream",
     "text": [
      "\r",
      " 47%|██████████████████▉                     | 998/2106 [18:04<20:16,  1.10s/it]"
     ]
    },
    {
     "name": "stdout",
     "output_type": "stream",
     "text": [
      "1144521.yaml Chester-le-Street United Kingdom\n"
     ]
    },
    {
     "name": "stderr",
     "output_type": "stream",
     "text": [
      "\r",
      " 47%|██████████████████▉                     | 999/2106 [18:05<19:49,  1.07s/it]"
     ]
    },
    {
     "name": "stdout",
     "output_type": "stream",
     "text": [
      "531633.yaml Dubai International Cricket Stadium United Arab Emirates\n"
     ]
    },
    {
     "name": "stderr",
     "output_type": "stream",
     "text": [
      "\r",
      " 47%|██████████████████▌                    | 1000/2106 [18:06<18:23,  1.00it/s]"
     ]
    },
    {
     "name": "stdout",
     "output_type": "stream",
     "text": [
      "66305.yaml Chester-le-Street United Kingdom\n"
     ]
    },
    {
     "name": "stderr",
     "output_type": "stream",
     "text": [
      "\r",
      " 48%|██████████████████▌                    | 1001/2106 [18:08<20:47,  1.13s/it]"
     ]
    },
    {
     "name": "stdout",
     "output_type": "stream",
     "text": [
      "1153315.yaml Dhaka Bangladesh\n"
     ]
    },
    {
     "name": "stderr",
     "output_type": "stream",
     "text": [
      "\r",
      " 48%|██████████████████▌                    | 1002/2106 [18:09<20:10,  1.10s/it]"
     ]
    },
    {
     "name": "stdout",
     "output_type": "stream",
     "text": [
      "215134.yaml Colombo Sri Lanka\n"
     ]
    },
    {
     "name": "stderr",
     "output_type": "stream",
     "text": [
      "\r",
      " 48%|██████████████████▌                    | 1003/2106 [18:10<19:45,  1.07s/it]"
     ]
    },
    {
     "name": "stdout",
     "output_type": "stream",
     "text": [
      "433593.yaml Chennai India\n"
     ]
    },
    {
     "name": "stderr",
     "output_type": "stream",
     "text": [
      "\r",
      " 48%|██████████████████▌                    | 1004/2106 [18:11<19:27,  1.06s/it]"
     ]
    },
    {
     "name": "stdout",
     "output_type": "stream",
     "text": [
      "267387.yaml Nairobi Kenya\n"
     ]
    },
    {
     "name": "stderr",
     "output_type": "stream",
     "text": [
      "\r",
      " 48%|██████████████████▌                    | 1005/2106 [18:12<19:14,  1.05s/it]"
     ]
    },
    {
     "name": "stdout",
     "output_type": "stream",
     "text": [
      "578618.yaml Birmingham United Kingdom\n"
     ]
    },
    {
     "name": "stderr",
     "output_type": "stream",
     "text": [
      "\r",
      " 48%|██████████████████▋                    | 1006/2106 [18:13<18:50,  1.03s/it]"
     ]
    },
    {
     "name": "stdout",
     "output_type": "stream",
     "text": [
      "64923.yaml Dhaka Bangladesh\n"
     ]
    },
    {
     "name": "stderr",
     "output_type": "stream",
     "text": [
      "\r",
      " 48%|██████████████████▋                    | 1007/2106 [18:14<20:43,  1.13s/it]"
     ]
    },
    {
     "name": "stdout",
     "output_type": "stream",
     "text": [
      "325804.yaml Sheikhupura Stadium Pakistan\n"
     ]
    },
    {
     "name": "stderr",
     "output_type": "stream",
     "text": [
      "\r",
      " 48%|██████████████████▋                    | 1008/2106 [18:15<19:32,  1.07s/it]"
     ]
    },
    {
     "name": "stdout",
     "output_type": "stream",
     "text": [
      "296915.yaml Nottingham United Kingdom\n"
     ]
    },
    {
     "name": "stderr",
     "output_type": "stream",
     "text": [
      "\r",
      " 48%|██████████████████▋                    | 1009/2106 [18:16<19:17,  1.06s/it]"
     ]
    },
    {
     "name": "stdout",
     "output_type": "stream",
     "text": [
      "1198487.yaml Karachi Pakistan\n"
     ]
    },
    {
     "name": "stderr",
     "output_type": "stream",
     "text": [
      "\r",
      " 48%|██████████████████▋                    | 1010/2106 [18:17<19:05,  1.05s/it]"
     ]
    },
    {
     "name": "stdout",
     "output_type": "stream",
     "text": [
      "1115778.yaml Dunedin New Zealand\n"
     ]
    },
    {
     "name": "stderr",
     "output_type": "stream",
     "text": [
      "\r",
      " 48%|██████████████████▋                    | 1011/2106 [18:18<18:57,  1.04s/it]"
     ]
    },
    {
     "name": "stdout",
     "output_type": "stream",
     "text": [
      "657641.yaml Sharjah Cricket Stadium United Arab Emirates\n"
     ]
    },
    {
     "name": "stderr",
     "output_type": "stream",
     "text": [
      "\r",
      " 48%|██████████████████▋                    | 1012/2106 [18:19<17:10,  1.06it/s]"
     ]
    },
    {
     "name": "stdout",
     "output_type": "stream",
     "text": [
      "534214.yaml Belfast United Kingdom\n"
     ]
    },
    {
     "name": "stderr",
     "output_type": "stream",
     "text": [
      "\r",
      " 48%|██████████████████▊                    | 1013/2106 [18:20<17:02,  1.07it/s]"
     ]
    },
    {
     "name": "stdout",
     "output_type": "stream",
     "text": [
      "643675.yaml Bulawayo Zimbabwe\n"
     ]
    },
    {
     "name": "stderr",
     "output_type": "stream",
     "text": [
      "\r",
      " 48%|██████████████████▊                    | 1014/2106 [18:21<19:11,  1.05s/it]"
     ]
    },
    {
     "name": "stdout",
     "output_type": "stream",
     "text": [
      "522250.yaml Bulawayo Zimbabwe\n"
     ]
    },
    {
     "name": "stderr",
     "output_type": "stream",
     "text": [
      "\r",
      " 48%|██████████████████▊                    | 1015/2106 [18:22<18:59,  1.04s/it]"
     ]
    },
    {
     "name": "stdout",
     "output_type": "stream",
     "text": [
      "446959.yaml Brisbane Australia\n"
     ]
    },
    {
     "name": "stderr",
     "output_type": "stream",
     "text": [
      "\r",
      " 48%|██████████████████▊                    | 1016/2106 [18:23<18:52,  1.04s/it]"
     ]
    },
    {
     "name": "stdout",
     "output_type": "stream",
     "text": [
      "1130743.yaml Dhaka Bangladesh\n"
     ]
    },
    {
     "name": "stderr",
     "output_type": "stream",
     "text": [
      "\r",
      " 48%|██████████████████▊                    | 1017/2106 [18:24<18:46,  1.03s/it]"
     ]
    },
    {
     "name": "stdout",
     "output_type": "stream",
     "text": [
      "489223.yaml Antigua Antigua and Barbuda\n"
     ]
    },
    {
     "name": "stderr",
     "output_type": "stream",
     "text": [
      "\r",
      " 48%|██████████████████▊                    | 1018/2106 [18:25<18:08,  1.00s/it]"
     ]
    },
    {
     "name": "stdout",
     "output_type": "stream",
     "text": [
      "1104482.yaml Hambantota Sri Lanka\n"
     ]
    },
    {
     "name": "stderr",
     "output_type": "stream",
     "text": [
      "\r",
      " 48%|██████████████████▊                    | 1019/2106 [18:26<18:14,  1.01s/it]"
     ]
    },
    {
     "name": "stdout",
     "output_type": "stream",
     "text": [
      "415283.yaml Centurion South Africa\n"
     ]
    },
    {
     "name": "stderr",
     "output_type": "stream",
     "text": [
      "\r",
      " 48%|██████████████████▉                    | 1020/2106 [18:27<16:05,  1.13it/s]"
     ]
    },
    {
     "name": "stdout",
     "output_type": "stream",
     "text": [
      "562441.yaml Colombo Sri Lanka\n"
     ]
    },
    {
     "name": "stderr",
     "output_type": "stream",
     "text": [
      "\r",
      " 48%|██████████████████▉                    | 1021/2106 [18:28<19:01,  1.05s/it]"
     ]
    },
    {
     "name": "stdout",
     "output_type": "stream",
     "text": [
      "1185320.yaml Bloemfontein South Africa\n"
     ]
    },
    {
     "name": "stderr",
     "output_type": "stream",
     "text": [
      "\r",
      " 49%|██████████████████▉                    | 1022/2106 [18:29<18:19,  1.01s/it]"
     ]
    },
    {
     "name": "stdout",
     "output_type": "stream",
     "text": [
      "238198.yaml Port Elizabeth South Africa\n"
     ]
    },
    {
     "name": "stderr",
     "output_type": "stream",
     "text": [
      "\r",
      " 49%|██████████████████▉                    | 1023/2106 [18:30<18:53,  1.05s/it]"
     ]
    },
    {
     "name": "stdout",
     "output_type": "stream",
     "text": [
      "1277083.yaml Paarl South Africa\n"
     ]
    },
    {
     "name": "stderr",
     "output_type": "stream",
     "text": [
      "\r",
      " 49%|██████████████████▉                    | 1024/2106 [18:31<18:44,  1.04s/it]"
     ]
    },
    {
     "name": "stdout",
     "output_type": "stream",
     "text": [
      "455236.yaml Rangiri Dambulla International Stadium None\n"
     ]
    },
    {
     "name": "stderr",
     "output_type": "stream",
     "text": [
      "\r",
      " 49%|██████████████████▉                    | 1025/2106 [18:32<18:38,  1.04s/it]"
     ]
    },
    {
     "name": "stdout",
     "output_type": "stream",
     "text": [
      "567358.yaml Paarl South Africa\n"
     ]
    },
    {
     "name": "stderr",
     "output_type": "stream",
     "text": [
      "\r",
      " 49%|███████████████████                    | 1026/2106 [18:33<17:27,  1.03it/s]"
     ]
    },
    {
     "name": "stdout",
     "output_type": "stream",
     "text": [
      "578624.yaml Cardiff United Kingdom\n"
     ]
    },
    {
     "name": "stderr",
     "output_type": "stream",
     "text": [
      "\r",
      " 49%|███████████████████                    | 1027/2106 [18:35<19:56,  1.11s/it]"
     ]
    },
    {
     "name": "stdout",
     "output_type": "stream",
     "text": [
      "489213.yaml St Lucia Saint Lucia\n"
     ]
    },
    {
     "name": "stderr",
     "output_type": "stream",
     "text": [
      "\r",
      " 49%|███████████████████                    | 1028/2106 [18:36<20:00,  1.11s/it]"
     ]
    },
    {
     "name": "stdout",
     "output_type": "stream",
     "text": [
      "291367.yaml Melbourne Cricket Ground Australia\n"
     ]
    },
    {
     "name": "stderr",
     "output_type": "stream",
     "text": [
      "\r",
      " 49%|███████████████████                    | 1029/2106 [18:37<19:30,  1.09s/it]"
     ]
    },
    {
     "name": "stdout",
     "output_type": "stream",
     "text": [
      "1153246.yaml Dubai International Cricket Stadium United Arab Emirates\n"
     ]
    },
    {
     "name": "stderr",
     "output_type": "stream",
     "text": [
      "\r",
      " 49%|███████████████████                    | 1030/2106 [18:38<19:08,  1.07s/it]"
     ]
    },
    {
     "name": "stdout",
     "output_type": "stream",
     "text": [
      "754725.yaml Perth Australia\n"
     ]
    },
    {
     "name": "stderr",
     "output_type": "stream",
     "text": [
      "\r",
      " 49%|███████████████████                    | 1031/2106 [18:39<18:53,  1.05s/it]"
     ]
    },
    {
     "name": "stdout",
     "output_type": "stream",
     "text": [
      "1158066.yaml Bridgetown Barbados\n"
     ]
    },
    {
     "name": "stderr",
     "output_type": "stream",
     "text": [
      "\r",
      " 49%|███████████████████                    | 1032/2106 [18:40<18:42,  1.05s/it]"
     ]
    },
    {
     "name": "stdout",
     "output_type": "stream",
     "text": [
      "1144514.yaml London United Kingdom\n"
     ]
    },
    {
     "name": "stderr",
     "output_type": "stream",
     "text": [
      "\r",
      " 49%|███████████████████▏                   | 1033/2106 [18:41<17:28,  1.02it/s]"
     ]
    },
    {
     "name": "stdout",
     "output_type": "stream",
     "text": [
      "467887.yaml Chennai India\n"
     ]
    },
    {
     "name": "stderr",
     "output_type": "stream",
     "text": [
      "\r",
      " 49%|███████████████████▏                   | 1034/2106 [18:42<19:54,  1.11s/it]"
     ]
    },
    {
     "name": "stdout",
     "output_type": "stream",
     "text": [
      "573015.yaml Adelaide Oval Australia\n"
     ]
    },
    {
     "name": "stderr",
     "output_type": "stream",
     "text": [
      "\r",
      " 49%|███████████████████▏                   | 1035/2106 [18:43<19:10,  1.07s/it]"
     ]
    },
    {
     "name": "stdout",
     "output_type": "stream",
     "text": [
      "296914.yaml Leeds United Kingdom\n"
     ]
    },
    {
     "name": "stderr",
     "output_type": "stream",
     "text": [
      "\r",
      " 49%|███████████████████▏                   | 1036/2106 [18:44<19:08,  1.07s/it]"
     ]
    },
    {
     "name": "stdout",
     "output_type": "stream",
     "text": [
      "452146.yaml Bulawayo Zimbabwe\n"
     ]
    },
    {
     "name": "stderr",
     "output_type": "stream",
     "text": [
      "\r",
      " 49%|███████████████████▏                   | 1037/2106 [18:45<19:22,  1.09s/it]"
     ]
    },
    {
     "name": "stdout",
     "output_type": "stream",
     "text": [
      "1078661.yaml Dubai International Cricket Stadium United Arab Emirates\n"
     ]
    },
    {
     "name": "stderr",
     "output_type": "stream",
     "text": [
      "\r",
      " 49%|███████████████████▏                   | 1038/2106 [18:46<19:01,  1.07s/it]"
     ]
    },
    {
     "name": "stdout",
     "output_type": "stream",
     "text": [
      "351689.yaml Perth Australia\n"
     ]
    },
    {
     "name": "stderr",
     "output_type": "stream",
     "text": [
      "\r",
      " 49%|███████████████████▏                   | 1039/2106 [18:48<20:57,  1.18s/it]"
     ]
    },
    {
     "name": "stdout",
     "output_type": "stream",
     "text": [
      "297796.yaml Chandigarh India\n"
     ]
    },
    {
     "name": "stderr",
     "output_type": "stream",
     "text": [
      "\r",
      " 49%|███████████████████▎                   | 1040/2106 [18:50<26:38,  1.50s/it]"
     ]
    },
    {
     "name": "stdout",
     "output_type": "stream",
     "text": [
      "504779.yaml Aberdeen United Kingdom\n"
     ]
    },
    {
     "name": "stderr",
     "output_type": "stream",
     "text": [
      "\r",
      " 49%|███████████████████▎                   | 1041/2106 [18:51<24:38,  1.39s/it]"
     ]
    },
    {
     "name": "stdout",
     "output_type": "stream",
     "text": [
      "1260085.yaml Rotterdam Netherlands\n"
     ]
    },
    {
     "name": "stderr",
     "output_type": "stream",
     "text": [
      "\r",
      " 49%|███████████████████▎                   | 1042/2106 [18:52<24:18,  1.37s/it]"
     ]
    },
    {
     "name": "stdout",
     "output_type": "stream",
     "text": [
      "66372.yaml Hyderabad India\n"
     ]
    },
    {
     "name": "stderr",
     "output_type": "stream",
     "text": [
      "\r",
      " 50%|███████████████████▎                   | 1043/2106 [18:53<21:53,  1.24s/it]"
     ]
    },
    {
     "name": "stdout",
     "output_type": "stream",
     "text": [
      "66374.yaml Amstelveen Netherlands\n"
     ]
    },
    {
     "name": "stderr",
     "output_type": "stream",
     "text": [
      "\r",
      " 50%|███████████████████▎                   | 1044/2106 [18:54<20:44,  1.17s/it]"
     ]
    },
    {
     "name": "stdout",
     "output_type": "stream",
     "text": [
      "247503.yaml Grenada Grenada\n"
     ]
    },
    {
     "name": "stderr",
     "output_type": "stream",
     "text": [
      "\r",
      " 50%|███████████████████▎                   | 1045/2106 [18:56<22:06,  1.25s/it]"
     ]
    },
    {
     "name": "stdout",
     "output_type": "stream",
     "text": [
      "406204.yaml Adelaide Oval Australia\n"
     ]
    },
    {
     "name": "stderr",
     "output_type": "stream",
     "text": [
      "\r",
      " 50%|███████████████████▎                   | 1046/2106 [18:57<21:26,  1.21s/it]"
     ]
    },
    {
     "name": "stdout",
     "output_type": "stream",
     "text": [
      "895809.yaml Brisbane Australia\n"
     ]
    },
    {
     "name": "stderr",
     "output_type": "stream",
     "text": [
      "\r",
      " 50%|███████████████████▍                   | 1047/2106 [18:58<20:24,  1.16s/it]"
     ]
    },
    {
     "name": "stdout",
     "output_type": "stream",
     "text": [
      "676531.yaml Visakhapatnam India\n"
     ]
    },
    {
     "name": "stderr",
     "output_type": "stream",
     "text": [
      "\r",
      " 50%|███████████████████▍                   | 1048/2106 [18:59<19:41,  1.12s/it]"
     ]
    },
    {
     "name": "stdout",
     "output_type": "stream",
     "text": [
      "224231.yaml Ahmedabad India\n"
     ]
    },
    {
     "name": "stderr",
     "output_type": "stream",
     "text": [
      "\r",
      " 50%|███████████████████▍                   | 1049/2106 [19:00<18:38,  1.06s/it]"
     ]
    },
    {
     "name": "stdout",
     "output_type": "stream",
     "text": [
      "66306.yaml Leeds United Kingdom\n"
     ]
    },
    {
     "name": "stderr",
     "output_type": "stream",
     "text": [
      "\r",
      " 50%|███████████████████▍                   | 1050/2106 [19:01<18:26,  1.05s/it]"
     ]
    },
    {
     "name": "stdout",
     "output_type": "stream",
     "text": [
      "439143.yaml St Vincent Italy\n"
     ]
    },
    {
     "name": "stderr",
     "output_type": "stream",
     "text": [
      "\r",
      " 50%|███████████████████▍                   | 1051/2106 [19:02<20:27,  1.16s/it]"
     ]
    },
    {
     "name": "stdout",
     "output_type": "stream",
     "text": [
      "433568.yaml Bangalore India\n"
     ]
    },
    {
     "name": "stderr",
     "output_type": "stream",
     "text": [
      "\r",
      " 50%|███████████████████▍                   | 1052/2106 [19:03<19:42,  1.12s/it]"
     ]
    },
    {
     "name": "stdout",
     "output_type": "stream",
     "text": [
      "1331368.yaml Port Moresby Papua New Guinea\n"
     ]
    },
    {
     "name": "stderr",
     "output_type": "stream",
     "text": [
      "\r",
      " 50%|███████████████████▌                   | 1053/2106 [19:04<19:10,  1.09s/it]"
     ]
    },
    {
     "name": "stdout",
     "output_type": "stream",
     "text": [
      "297802.yaml Chandigarh India\n"
     ]
    },
    {
     "name": "stderr",
     "output_type": "stream",
     "text": [
      "\r",
      " 50%|███████████████████▌                   | 1054/2106 [19:05<18:47,  1.07s/it]"
     ]
    },
    {
     "name": "stdout",
     "output_type": "stream",
     "text": [
      "258465.yaml London United Kingdom\n"
     ]
    },
    {
     "name": "stderr",
     "output_type": "stream",
     "text": [
      "\r",
      " 50%|███████████████████▌                   | 1055/2106 [19:06<17:58,  1.03s/it]"
     ]
    },
    {
     "name": "stdout",
     "output_type": "stream",
     "text": [
      "336202.yaml Darwin Australia\n"
     ]
    },
    {
     "name": "stderr",
     "output_type": "stream",
     "text": [
      "\r",
      " 50%|███████████████████▌                   | 1056/2106 [19:07<16:52,  1.04it/s]"
     ]
    },
    {
     "name": "stdout",
     "output_type": "stream",
     "text": [
      "744683.yaml Mirpur Pakistan\n"
     ]
    },
    {
     "name": "stderr",
     "output_type": "stream",
     "text": [
      "\r",
      " 50%|███████████████████▌                   | 1057/2106 [19:08<17:10,  1.02it/s]"
     ]
    },
    {
     "name": "stdout",
     "output_type": "stream",
     "text": [
      "463151.yaml Johannesburg South Africa\n"
     ]
    },
    {
     "name": "stderr",
     "output_type": "stream",
     "text": [
      "\r",
      " 50%|███████████████████▌                   | 1058/2106 [19:10<19:31,  1.12s/it]"
     ]
    },
    {
     "name": "stdout",
     "output_type": "stream",
     "text": [
      "267713.yaml Visakhapatnam India\n"
     ]
    },
    {
     "name": "stderr",
     "output_type": "stream",
     "text": [
      "\r",
      " 50%|███████████████████▌                   | 1059/2106 [19:11<19:32,  1.12s/it]"
     ]
    },
    {
     "name": "stdout",
     "output_type": "stream",
     "text": [
      "65034.yaml London United Kingdom\n"
     ]
    },
    {
     "name": "stderr",
     "output_type": "stream",
     "text": [
      "\r",
      " 50%|███████████████████▋                   | 1060/2106 [19:12<19:01,  1.09s/it]"
     ]
    },
    {
     "name": "stdout",
     "output_type": "stream",
     "text": [
      "1153243.yaml Dubai International Cricket Stadium United Arab Emirates\n"
     ]
    },
    {
     "name": "stderr",
     "output_type": "stream",
     "text": [
      "\r",
      " 50%|███████████████████▋                   | 1061/2106 [19:13<18:39,  1.07s/it]"
     ]
    },
    {
     "name": "stdout",
     "output_type": "stream",
     "text": [
      "924633.yaml Bulawayo Zimbabwe\n"
     ]
    },
    {
     "name": "stderr",
     "output_type": "stream",
     "text": [
      "\r",
      " 50%|███████████████████▋                   | 1062/2106 [19:14<19:27,  1.12s/it]"
     ]
    },
    {
     "name": "stdout",
     "output_type": "stream",
     "text": [
      "932857.yaml St Kitts Saint Kitts and Nevis\n"
     ]
    },
    {
     "name": "stderr",
     "output_type": "stream",
     "text": [
      "\r",
      " 50%|███████████████████▋                   | 1063/2106 [19:15<21:04,  1.21s/it]"
     ]
    },
    {
     "name": "stdout",
     "output_type": "stream",
     "text": [
      "635655.yaml Pallekele International Cricket Stadium Sri Lanka\n"
     ]
    },
    {
     "name": "stderr",
     "output_type": "stream",
     "text": [
      "\r",
      " 51%|███████████████████▋                   | 1064/2106 [19:16<20:04,  1.16s/it]"
     ]
    },
    {
     "name": "stdout",
     "output_type": "stream",
     "text": [
      "299006.yaml Lahore Pakistan\n"
     ]
    },
    {
     "name": "stderr",
     "output_type": "stream",
     "text": [
      "\r",
      " 51%|███████████████████▋                   | 1065/2106 [19:18<19:54,  1.15s/it]"
     ]
    },
    {
     "name": "stdout",
     "output_type": "stream",
     "text": [
      "255961.yaml Bloemfontein South Africa\n"
     ]
    },
    {
     "name": "stderr",
     "output_type": "stream",
     "text": [
      "\r",
      " 51%|███████████████████▋                   | 1066/2106 [19:19<19:15,  1.11s/it]"
     ]
    },
    {
     "name": "stdout",
     "output_type": "stream",
     "text": [
      "531983.yaml Mirpur Pakistan\n"
     ]
    },
    {
     "name": "stderr",
     "output_type": "stream",
     "text": [
      "\r",
      " 51%|███████████████████▊                   | 1067/2106 [19:20<18:46,  1.08s/it]"
     ]
    },
    {
     "name": "stdout",
     "output_type": "stream",
     "text": [
      "313993.yaml Nairobi Kenya\n"
     ]
    },
    {
     "name": "stderr",
     "output_type": "stream",
     "text": [
      "\r",
      " 51%|███████████████████▊                   | 1068/2106 [19:21<18:26,  1.07s/it]"
     ]
    },
    {
     "name": "stdout",
     "output_type": "stream",
     "text": [
      "66365.yaml Gwalior India\n"
     ]
    },
    {
     "name": "stderr",
     "output_type": "stream",
     "text": [
      "\r",
      " 51%|███████████████████▊                   | 1069/2106 [19:22<20:19,  1.18s/it]"
     ]
    },
    {
     "name": "stdout",
     "output_type": "stream",
     "text": [
      "1152844.yaml Nottingham United Kingdom\n"
     ]
    },
    {
     "name": "stderr",
     "output_type": "stream",
     "text": [
      "\r",
      " 51%|███████████████████▊                   | 1070/2106 [19:23<19:31,  1.13s/it]"
     ]
    },
    {
     "name": "stdout",
     "output_type": "stream",
     "text": [
      "1185310.yaml Cape Town South Africa\n"
     ]
    },
    {
     "name": "stderr",
     "output_type": "stream",
     "text": [
      "\r",
      " 51%|███████████████████▊                   | 1071/2106 [19:24<18:56,  1.10s/it]"
     ]
    },
    {
     "name": "stdout",
     "output_type": "stream",
     "text": [
      "932859.yaml St Kitts Saint Kitts and Nevis\n"
     ]
    },
    {
     "name": "stderr",
     "output_type": "stream",
     "text": [
      "\r",
      " 51%|███████████████████▊                   | 1072/2106 [19:25<18:32,  1.08s/it]"
     ]
    },
    {
     "name": "stdout",
     "output_type": "stream",
     "text": [
      "1168244.yaml Ranchi India\n"
     ]
    },
    {
     "name": "stderr",
     "output_type": "stream",
     "text": [
      "\r",
      " 51%|███████████████████▊                   | 1073/2106 [19:26<18:15,  1.06s/it]"
     ]
    },
    {
     "name": "stdout",
     "output_type": "stream",
     "text": [
      "913657.yaml Nottingham United Kingdom\n"
     ]
    },
    {
     "name": "stderr",
     "output_type": "stream",
     "text": [
      "\r",
      " 51%|███████████████████▉                   | 1074/2106 [19:27<18:02,  1.05s/it]"
     ]
    },
    {
     "name": "stdout",
     "output_type": "stream",
     "text": [
      "1295183.yaml Doha Qatar\n"
     ]
    },
    {
     "name": "stderr",
     "output_type": "stream",
     "text": [
      "\r",
      " 51%|███████████████████▉                   | 1075/2106 [19:28<19:29,  1.13s/it]"
     ]
    },
    {
     "name": "stdout",
     "output_type": "stream",
     "text": [
      "710307.yaml Mirpur Pakistan\n"
     ]
    },
    {
     "name": "stderr",
     "output_type": "stream",
     "text": [
      "\r",
      " 51%|███████████████████▉                   | 1076/2106 [19:29<18:21,  1.07s/it]"
     ]
    },
    {
     "name": "stdout",
     "output_type": "stream",
     "text": [
      "247507.yaml Barbados Barbados\n"
     ]
    },
    {
     "name": "stderr",
     "output_type": "stream",
     "text": [
      "\r",
      " 51%|███████████████████▉                   | 1077/2106 [19:30<18:07,  1.06s/it]"
     ]
    },
    {
     "name": "stdout",
     "output_type": "stream",
     "text": [
      "730083.yaml Colombo Sri Lanka\n"
     ]
    },
    {
     "name": "stderr",
     "output_type": "stream",
     "text": [
      "\r",
      " 51%|███████████████████▉                   | 1078/2106 [19:31<17:24,  1.02s/it]"
     ]
    },
    {
     "name": "stdout",
     "output_type": "stream",
     "text": [
      "325580.yaml Dublin Ireland\n"
     ]
    },
    {
     "name": "stderr",
     "output_type": "stream",
     "text": [
      "\r",
      " 51%|███████████████████▉                   | 1079/2106 [19:32<17:57,  1.05s/it]"
     ]
    },
    {
     "name": "stdout",
     "output_type": "stream",
     "text": [
      "247478.yaml St Kitts Saint Kitts and Nevis\n"
     ]
    },
    {
     "name": "stderr",
     "output_type": "stream",
     "text": [
      "\r",
      " 51%|████████████████████                   | 1080/2106 [19:33<17:48,  1.04s/it]"
     ]
    },
    {
     "name": "stdout",
     "output_type": "stream",
     "text": [
      "296685.yaml Nairobi Kenya\n"
     ]
    },
    {
     "name": "stderr",
     "output_type": "stream",
     "text": [
      "\r",
      " 51%|████████████████████                   | 1081/2106 [19:35<19:46,  1.16s/it]"
     ]
    },
    {
     "name": "stdout",
     "output_type": "stream",
     "text": [
      "374060.yaml Abu Dhabi United Arab Emirates\n"
     ]
    },
    {
     "name": "stderr",
     "output_type": "stream",
     "text": [
      "\r",
      " 51%|████████████████████                   | 1082/2106 [19:36<19:37,  1.15s/it]"
     ]
    },
    {
     "name": "stdout",
     "output_type": "stream",
     "text": [
      "238194.yaml Indore India\n"
     ]
    },
    {
     "name": "stderr",
     "output_type": "stream",
     "text": [
      "\r",
      " 51%|████████████████████                   | 1083/2106 [19:37<17:23,  1.02s/it]"
     ]
    },
    {
     "name": "stdout",
     "output_type": "stream",
     "text": [
      "66375.yaml Amstelveen Netherlands\n"
     ]
    },
    {
     "name": "stderr",
     "output_type": "stream",
     "text": [
      "\r",
      " 51%|████████████████████                   | 1084/2106 [19:38<17:23,  1.02s/it]"
     ]
    },
    {
     "name": "stdout",
     "output_type": "stream",
     "text": [
      "722345.yaml Port Elizabeth South Africa\n"
     ]
    },
    {
     "name": "stderr",
     "output_type": "stream",
     "text": [
      "\r",
      " 52%|████████████████████                   | 1085/2106 [19:39<17:23,  1.02s/it]"
     ]
    },
    {
     "name": "stdout",
     "output_type": "stream",
     "text": [
      "742621.yaml Sharjah Cricket Stadium United Arab Emirates\n"
     ]
    },
    {
     "name": "stderr",
     "output_type": "stream",
     "text": [
      "\r",
      " 52%|████████████████████                   | 1086/2106 [19:40<16:51,  1.01it/s]"
     ]
    },
    {
     "name": "stdout",
     "output_type": "stream",
     "text": [
      "661685.yaml Auckland New Zealand\n"
     ]
    },
    {
     "name": "stderr",
     "output_type": "stream",
     "text": [
      "\r",
      " 52%|████████████████████▏                  | 1087/2106 [19:41<17:00,  1.00s/it]"
     ]
    },
    {
     "name": "stdout",
     "output_type": "stream",
     "text": [
      "1153637.yaml Chattogram Bangladesh\n"
     ]
    },
    {
     "name": "stderr",
     "output_type": "stream",
     "text": [
      "\r",
      " 52%|████████████████████▏                  | 1088/2106 [19:42<19:43,  1.16s/it]"
     ]
    },
    {
     "name": "stdout",
     "output_type": "stream",
     "text": [
      "247465.yaml Jamaica Jamaica\n"
     ]
    },
    {
     "name": "stderr",
     "output_type": "stream",
     "text": [
      "\r",
      " 52%|████████████████████▏                  | 1089/2106 [19:43<18:59,  1.12s/it]"
     ]
    },
    {
     "name": "stdout",
     "output_type": "stream",
     "text": [
      "323949.yaml Chittagong Divisional Stadium None\n"
     ]
    },
    {
     "name": "stderr",
     "output_type": "stream",
     "text": [
      "\r",
      " 52%|████████████████████▏                  | 1090/2106 [19:44<18:28,  1.09s/it]"
     ]
    },
    {
     "name": "stdout",
     "output_type": "stream",
     "text": [
      "426421.yaml Mirpur Pakistan\n"
     ]
    },
    {
     "name": "stderr",
     "output_type": "stream",
     "text": [
      "\r",
      " 52%|████████████████████▏                  | 1091/2106 [19:45<16:33,  1.02it/s]"
     ]
    },
    {
     "name": "stdout",
     "output_type": "stream",
     "text": [
      "582191.yaml Hambantota Sri Lanka\n"
     ]
    },
    {
     "name": "stderr",
     "output_type": "stream",
     "text": [
      "\r",
      " 52%|████████████████████▏                  | 1092/2106 [19:46<17:17,  1.02s/it]"
     ]
    },
    {
     "name": "stdout",
     "output_type": "stream",
     "text": [
      "520593.yaml Whangarei New Zealand\n"
     ]
    },
    {
     "name": "stderr",
     "output_type": "stream",
     "text": [
      "\r",
      " 52%|████████████████████▏                  | 1093/2106 [19:47<16:45,  1.01it/s]"
     ]
    },
    {
     "name": "stdout",
     "output_type": "stream",
     "text": [
      "247506.yaml St Lucia Saint Lucia\n"
     ]
    },
    {
     "name": "stderr",
     "output_type": "stream",
     "text": [
      "\r",
      " 52%|████████████████████▎                  | 1094/2106 [19:49<18:58,  1.12s/it]"
     ]
    },
    {
     "name": "stdout",
     "output_type": "stream",
     "text": [
      "65666.yaml Melbourne Cricket Ground Australia\n"
     ]
    },
    {
     "name": "stderr",
     "output_type": "stream",
     "text": [
      "\r",
      " 52%|████████████████████▎                  | 1095/2106 [19:50<18:57,  1.13s/it]"
     ]
    },
    {
     "name": "stdout",
     "output_type": "stream",
     "text": [
      "1119541.yaml Manchester United Kingdom\n"
     ]
    },
    {
     "name": "stderr",
     "output_type": "stream",
     "text": [
      "\r",
      " 52%|████████████████████▎                  | 1096/2106 [19:51<18:26,  1.10s/it]"
     ]
    },
    {
     "name": "stdout",
     "output_type": "stream",
     "text": [
      "932849.yaml Guyana Guyana\n"
     ]
    },
    {
     "name": "stderr",
     "output_type": "stream",
     "text": [
      "\r",
      " 52%|████████████████████▎                  | 1097/2106 [19:52<18:02,  1.07s/it]"
     ]
    },
    {
     "name": "stdout",
     "output_type": "stream",
     "text": [
      "527016.yaml Bulawayo Zimbabwe\n"
     ]
    },
    {
     "name": "stderr",
     "output_type": "stream",
     "text": [
      "\r",
      " 52%|████████████████████▎                  | 1098/2106 [19:53<17:46,  1.06s/it]"
     ]
    },
    {
     "name": "stdout",
     "output_type": "stream",
     "text": [
      "214742.yaml Rangiri Dambulla International Stadium None\n"
     ]
    },
    {
     "name": "stderr",
     "output_type": "stream",
     "text": [
      "\r",
      " 52%|████████████████████▎                  | 1099/2106 [19:54<16:33,  1.01it/s]"
     ]
    },
    {
     "name": "stdout",
     "output_type": "stream",
     "text": [
      "1211173.yaml Al Amarat Oman\n"
     ]
    },
    {
     "name": "stderr",
     "output_type": "stream",
     "text": [
      "\r",
      " 52%|████████████████████▎                  | 1100/2106 [19:54<15:41,  1.07it/s]"
     ]
    },
    {
     "name": "stdout",
     "output_type": "stream",
     "text": [
      "1144484.yaml Nottingham United Kingdom\n"
     ]
    },
    {
     "name": "stderr",
     "output_type": "stream",
     "text": [
      "\r",
      " 52%|████████████████████▍                  | 1101/2106 [19:55<15:36,  1.07it/s]"
     ]
    },
    {
     "name": "stdout",
     "output_type": "stream",
     "text": [
      "473923.yaml Wellington New Zealand\n"
     ]
    },
    {
     "name": "stderr",
     "output_type": "stream",
     "text": [
      "\r",
      " 52%|████████████████████▍                  | 1102/2106 [19:57<18:06,  1.08s/it]"
     ]
    },
    {
     "name": "stdout",
     "output_type": "stream",
     "text": [
      "1168519.yaml Belfast United Kingdom\n"
     ]
    },
    {
     "name": "stderr",
     "output_type": "stream",
     "text": [
      "\r",
      " 52%|████████████████████▍                  | 1103/2106 [19:58<18:18,  1.10s/it]"
     ]
    },
    {
     "name": "stdout",
     "output_type": "stream",
     "text": [
      "656465.yaml Hamilton Canada\n"
     ]
    },
    {
     "name": "stderr",
     "output_type": "stream",
     "text": [
      "\r",
      " 52%|████████████████████▍                  | 1104/2106 [19:59<17:56,  1.07s/it]"
     ]
    },
    {
     "name": "stdout",
     "output_type": "stream",
     "text": [
      "1144158.yaml Centurion South Africa\n"
     ]
    },
    {
     "name": "stderr",
     "output_type": "stream",
     "text": [
      "\r",
      " 52%|████████████████████▍                  | 1105/2106 [20:00<18:10,  1.09s/it]"
     ]
    },
    {
     "name": "stdout",
     "output_type": "stream",
     "text": [
      "223334.yaml Chandigarh India\n"
     ]
    },
    {
     "name": "stderr",
     "output_type": "stream",
     "text": [
      "\r",
      " 53%|████████████████████▍                  | 1106/2106 [20:01<17:19,  1.04s/it]"
     ]
    },
    {
     "name": "stdout",
     "output_type": "stream",
     "text": [
      "249211.yaml Durban South Africa\n"
     ]
    },
    {
     "name": "stderr",
     "output_type": "stream",
     "text": [
      "\r",
      " 53%|████████████████████▌                  | 1107/2106 [20:02<16:42,  1.00s/it]"
     ]
    },
    {
     "name": "stdout",
     "output_type": "stream",
     "text": [
      "1144169.yaml Durban South Africa\n"
     ]
    },
    {
     "name": "stderr",
     "output_type": "stream",
     "text": [
      "\r",
      " 53%|████████████████████▌                  | 1108/2106 [20:03<16:47,  1.01s/it]"
     ]
    },
    {
     "name": "stdout",
     "output_type": "stream",
     "text": [
      "65653.yaml Perth Australia\n"
     ]
    },
    {
     "name": "stderr",
     "output_type": "stream",
     "text": [
      "\r",
      " 53%|████████████████████▌                  | 1109/2106 [20:04<18:53,  1.14s/it]"
     ]
    },
    {
     "name": "stdout",
     "output_type": "stream",
     "text": [
      "214852.yaml Rangiri Dambulla International Stadium None\n"
     ]
    },
    {
     "name": "stderr",
     "output_type": "stream",
     "text": [
      "\r",
      " 53%|████████████████████▌                  | 1110/2106 [20:05<18:18,  1.10s/it]"
     ]
    },
    {
     "name": "stdout",
     "output_type": "stream",
     "text": [
      "521218.yaml Hyderabad India\n"
     ]
    },
    {
     "name": "stderr",
     "output_type": "stream",
     "text": [
      "\r",
      " 53%|████████████████████▌                  | 1111/2106 [20:07<18:54,  1.14s/it]"
     ]
    },
    {
     "name": "stdout",
     "output_type": "stream",
     "text": [
      "569241.yaml Napier New Zealand\n"
     ]
    },
    {
     "name": "stderr",
     "output_type": "stream",
     "text": [
      "\r",
      " 53%|████████████████████▌                  | 1112/2106 [20:08<18:19,  1.11s/it]"
     ]
    },
    {
     "name": "stdout",
     "output_type": "stream",
     "text": [
      "690357.yaml Mirpur Pakistan\n"
     ]
    },
    {
     "name": "stderr",
     "output_type": "stream",
     "text": [
      "\r",
      " 53%|████████████████████▌                  | 1113/2106 [20:09<17:53,  1.08s/it]"
     ]
    },
    {
     "name": "stdout",
     "output_type": "stream",
     "text": [
      "1271628.yaml Colombo Sri Lanka\n"
     ]
    },
    {
     "name": "stderr",
     "output_type": "stream",
     "text": [
      "\r",
      " 53%|████████████████████▋                  | 1114/2106 [20:10<19:37,  1.19s/it]"
     ]
    },
    {
     "name": "stdout",
     "output_type": "stream",
     "text": [
      "518960.yaml Adelaide Oval Australia\n"
     ]
    },
    {
     "name": "stderr",
     "output_type": "stream",
     "text": [
      "\r",
      " 53%|████████████████████▋                  | 1115/2106 [20:11<18:47,  1.14s/it]"
     ]
    },
    {
     "name": "stdout",
     "output_type": "stream",
     "text": [
      "518965.yaml Sydney Cricket Ground Australia\n"
     ]
    },
    {
     "name": "stderr",
     "output_type": "stream",
     "text": [
      "\r",
      " 53%|████████████████████▋                  | 1116/2106 [20:12<18:43,  1.13s/it]"
     ]
    },
    {
     "name": "stdout",
     "output_type": "stream",
     "text": [
      "1133022.yaml Harare Sports Club Zimbabwe\n"
     ]
    },
    {
     "name": "stderr",
     "output_type": "stream",
     "text": [
      "\r",
      " 53%|████████████████████▋                  | 1117/2106 [20:13<16:07,  1.02it/s]"
     ]
    },
    {
     "name": "stdout",
     "output_type": "stream",
     "text": [
      "932861.yaml Barbados Barbados\n"
     ]
    },
    {
     "name": "stderr",
     "output_type": "stream",
     "text": [
      "\r",
      " 53%|████████████████████▋                  | 1118/2106 [20:14<16:20,  1.01it/s]"
     ]
    },
    {
     "name": "stdout",
     "output_type": "stream",
     "text": [
      "667725.yaml Nottingham United Kingdom\n"
     ]
    },
    {
     "name": "stderr",
     "output_type": "stream",
     "text": [
      "\r",
      " 53%|████████████████████▋                  | 1119/2106 [20:15<16:49,  1.02s/it]"
     ]
    },
    {
     "name": "stdout",
     "output_type": "stream",
     "text": [
      "936167.yaml Centurion South Africa\n"
     ]
    },
    {
     "name": "stderr",
     "output_type": "stream",
     "text": [
      "\r",
      " 53%|████████████████████▋                  | 1120/2106 [20:16<17:28,  1.06s/it]"
     ]
    },
    {
     "name": "stdout",
     "output_type": "stream",
     "text": [
      "66309.yaml London United Kingdom\n"
     ]
    },
    {
     "name": "stderr",
     "output_type": "stream",
     "text": [
      "\r",
      " 53%|████████████████████▊                  | 1121/2106 [20:18<19:16,  1.17s/it]"
     ]
    },
    {
     "name": "stdout",
     "output_type": "stream",
     "text": [
      "386533.yaml Colombo Sri Lanka\n"
     ]
    },
    {
     "name": "stderr",
     "output_type": "stream",
     "text": [
      "\r",
      " 53%|████████████████████▊                  | 1122/2106 [20:19<18:31,  1.13s/it]"
     ]
    },
    {
     "name": "stdout",
     "output_type": "stream",
     "text": [
      "1077951.yaml Guyana Guyana\n"
     ]
    },
    {
     "name": "stderr",
     "output_type": "stream",
     "text": [
      "\r",
      " 53%|████████████████████▊                  | 1123/2106 [20:20<17:58,  1.10s/it]"
     ]
    },
    {
     "name": "stdout",
     "output_type": "stream",
     "text": [
      "221083.yaml Melbourne Australia\n"
     ]
    },
    {
     "name": "stderr",
     "output_type": "stream",
     "text": [
      "\r",
      " 53%|████████████████████▊                  | 1124/2106 [20:21<17:36,  1.08s/it]"
     ]
    },
    {
     "name": "stdout",
     "output_type": "stream",
     "text": [
      "643667.yaml Harare Sports Club Zimbabwe\n"
     ]
    },
    {
     "name": "stderr",
     "output_type": "stream",
     "text": [
      "\r",
      " 53%|████████████████████▊                  | 1125/2106 [20:22<16:49,  1.03s/it]"
     ]
    },
    {
     "name": "stdout",
     "output_type": "stream",
     "text": [
      "1276295.yaml Al Amarat Oman\n"
     ]
    },
    {
     "name": "stderr",
     "output_type": "stream",
     "text": [
      "\r",
      " 53%|████████████████████▊                  | 1126/2106 [20:22<16:16,  1.00it/s]"
     ]
    },
    {
     "name": "stdout",
     "output_type": "stream",
     "text": [
      "1144495.yaml Taunton United Kingdom\n"
     ]
    },
    {
     "name": "stderr",
     "output_type": "stream",
     "text": [
      "\r",
      " 54%|████████████████████▊                  | 1127/2106 [20:24<17:43,  1.09s/it]"
     ]
    },
    {
     "name": "stdout",
     "output_type": "stream",
     "text": [
      "756037.yaml Bulawayo Zimbabwe\n"
     ]
    },
    {
     "name": "stderr",
     "output_type": "stream",
     "text": [
      "\r",
      " 54%|████████████████████▉                  | 1128/2106 [20:25<16:46,  1.03s/it]"
     ]
    },
    {
     "name": "stdout",
     "output_type": "stream",
     "text": [
      "350479.yaml Cape Town South Africa\n"
     ]
    },
    {
     "name": "stderr",
     "output_type": "stream",
     "text": [
      "\r",
      " 54%|████████████████████▉                  | 1129/2106 [20:26<16:31,  1.02s/it]"
     ]
    },
    {
     "name": "stdout",
     "output_type": "stream",
     "text": [
      "1144157.yaml Durban South Africa\n"
     ]
    },
    {
     "name": "stderr",
     "output_type": "stream",
     "text": [
      "\r",
      " 54%|████████████████████▉                  | 1130/2106 [20:27<16:33,  1.02s/it]"
     ]
    },
    {
     "name": "stdout",
     "output_type": "stream",
     "text": [
      "66380.yaml Karachi Pakistan\n"
     ]
    },
    {
     "name": "stderr",
     "output_type": "stream",
     "text": [
      "\r",
      " 54%|████████████████████▉                  | 1131/2106 [20:28<16:34,  1.02s/it]"
     ]
    },
    {
     "name": "stdout",
     "output_type": "stream",
     "text": [
      "291217.yaml Rangiri Dambulla International Stadium None\n"
     ]
    },
    {
     "name": "stderr",
     "output_type": "stream",
     "text": [
      "\r",
      " 54%|████████████████████▉                  | 1132/2106 [20:29<16:34,  1.02s/it]"
     ]
    },
    {
     "name": "stdout",
     "output_type": "stream",
     "text": [
      "1196671.yaml Aberdeen United Kingdom\n"
     ]
    },
    {
     "name": "stderr",
     "output_type": "stream",
     "text": [
      "\r",
      " 54%|████████████████████▉                  | 1133/2106 [20:30<18:33,  1.14s/it]"
     ]
    },
    {
     "name": "stdout",
     "output_type": "stream",
     "text": [
      "710293.yaml Fatullah Bangladesh\n"
     ]
    },
    {
     "name": "stderr",
     "output_type": "stream",
     "text": [
      "\r",
      " 54%|█████████████████████                  | 1134/2106 [20:31<17:57,  1.11s/it]"
     ]
    },
    {
     "name": "stdout",
     "output_type": "stream",
     "text": [
      "446957.yaml Melbourne Cricket Ground Australia\n"
     ]
    },
    {
     "name": "stderr",
     "output_type": "stream",
     "text": [
      "\r",
      " 54%|█████████████████████                  | 1135/2106 [20:32<17:31,  1.08s/it]"
     ]
    },
    {
     "name": "stdout",
     "output_type": "stream",
     "text": [
      "1153255.yaml Dubai International Cricket Stadium United Arab Emirates\n"
     ]
    },
    {
     "name": "stderr",
     "output_type": "stream",
     "text": [
      "\r",
      " 54%|█████████████████████                  | 1136/2106 [20:33<17:43,  1.10s/it]"
     ]
    },
    {
     "name": "stdout",
     "output_type": "stream",
     "text": [
      "1278677.yaml Ahmedabad India\n"
     ]
    },
    {
     "name": "stderr",
     "output_type": "stream",
     "text": [
      "\r",
      " 54%|█████████████████████                  | 1137/2106 [20:34<17:21,  1.07s/it]"
     ]
    },
    {
     "name": "stdout",
     "output_type": "stream",
     "text": [
      "1133019.yaml Bulawayo Zimbabwe\n"
     ]
    },
    {
     "name": "stderr",
     "output_type": "stream",
     "text": [
      "\r",
      " 54%|█████████████████████                  | 1138/2106 [20:35<15:04,  1.07it/s]"
     ]
    },
    {
     "name": "stdout",
     "output_type": "stream",
     "text": [
      "1144497.yaml Southampton United Kingdom\n"
     ]
    },
    {
     "name": "stderr",
     "output_type": "stream",
     "text": [
      "\r",
      " 54%|█████████████████████                  | 1139/2106 [20:36<14:31,  1.11it/s]"
     ]
    },
    {
     "name": "stdout",
     "output_type": "stream",
     "text": [
      "1130742.yaml Dhaka Bangladesh\n"
     ]
    },
    {
     "name": "stderr",
     "output_type": "stream",
     "text": [
      "\r",
      " 54%|█████████████████████                  | 1140/2106 [20:37<17:05,  1.06s/it]"
     ]
    },
    {
     "name": "stdout",
     "output_type": "stream",
     "text": [
      "902647.yaml Dubai International Cricket Stadium United Arab Emirates\n"
     ]
    },
    {
     "name": "stderr",
     "output_type": "stream",
     "text": [
      "\r",
      " 54%|█████████████████████▏                 | 1141/2106 [20:38<16:53,  1.05s/it]"
     ]
    },
    {
     "name": "stdout",
     "output_type": "stream",
     "text": [
      "1211171.yaml Al Amarat Oman\n"
     ]
    },
    {
     "name": "stderr",
     "output_type": "stream",
     "text": [
      "\r",
      " 54%|█████████████████████▏                 | 1142/2106 [20:39<16:44,  1.04s/it]"
     ]
    },
    {
     "name": "stdout",
     "output_type": "stream",
     "text": [
      "439142.yaml St Vincent Italy\n"
     ]
    },
    {
     "name": "stderr",
     "output_type": "stream",
     "text": [
      "\r",
      " 54%|█████████████████████▏                 | 1143/2106 [20:40<15:09,  1.06it/s]"
     ]
    },
    {
     "name": "stdout",
     "output_type": "stream",
     "text": [
      "64889.yaml Port of Spain Trinidad and Tobago\n"
     ]
    },
    {
     "name": "stderr",
     "output_type": "stream",
     "text": [
      "\r",
      " 54%|█████████████████████▏                 | 1144/2106 [20:41<14:02,  1.14it/s]"
     ]
    },
    {
     "name": "stdout",
     "output_type": "stream",
     "text": [
      "566943.yaml Birmingham United Kingdom\n"
     ]
    },
    {
     "name": "stderr",
     "output_type": "stream",
     "text": [
      "\r",
      " 54%|█████████████████████▏                 | 1145/2106 [20:42<14:44,  1.09it/s]"
     ]
    },
    {
     "name": "stdout",
     "output_type": "stream",
     "text": [
      "258466.yaml Birmingham United Kingdom\n"
     ]
    },
    {
     "name": "stderr",
     "output_type": "stream",
     "text": [
      "\r",
      " 54%|█████████████████████▏                 | 1146/2106 [20:43<15:13,  1.05it/s]"
     ]
    },
    {
     "name": "stdout",
     "output_type": "stream",
     "text": [
      "235831.yaml Peshawar Pakistan\n"
     ]
    },
    {
     "name": "stderr",
     "output_type": "stream",
     "text": [
      "\r",
      " 54%|█████████████████████▏                 | 1147/2106 [20:44<15:33,  1.03it/s]"
     ]
    },
    {
     "name": "stdout",
     "output_type": "stream",
     "text": [
      "238196.yaml Centurion South Africa\n"
     ]
    },
    {
     "name": "stderr",
     "output_type": "stream",
     "text": [
      "\r",
      " 55%|█████████████████████▎                 | 1148/2106 [20:45<17:44,  1.11s/it]"
     ]
    },
    {
     "name": "stdout",
     "output_type": "stream",
     "text": [
      "573026.yaml Melbourne Cricket Ground Australia\n"
     ]
    },
    {
     "name": "stderr",
     "output_type": "stream",
     "text": [
      "\r",
      " 55%|█████████████████████▎                 | 1149/2106 [20:46<17:47,  1.12s/it]"
     ]
    },
    {
     "name": "stdout",
     "output_type": "stream",
     "text": [
      "225171.yaml Belfast United Kingdom\n"
     ]
    },
    {
     "name": "stderr",
     "output_type": "stream",
     "text": [
      "\r",
      " 55%|█████████████████████▎                 | 1150/2106 [20:47<17:20,  1.09s/it]"
     ]
    },
    {
     "name": "stdout",
     "output_type": "stream",
     "text": [
      "710299.yaml Fatullah Bangladesh\n"
     ]
    },
    {
     "name": "stderr",
     "output_type": "stream",
     "text": [
      "\r",
      " 55%|█████████████████████▎                 | 1151/2106 [20:48<17:30,  1.10s/it]"
     ]
    },
    {
     "name": "stdout",
     "output_type": "stream",
     "text": [
      "212253.yaml Canterbury United Kingdom\n"
     ]
    },
    {
     "name": "stderr",
     "output_type": "stream",
     "text": [
      "\r",
      " 55%|█████████████████████▎                 | 1152/2106 [20:49<17:07,  1.08s/it]"
     ]
    },
    {
     "name": "stdout",
     "output_type": "stream",
     "text": [
      "667897.yaml Birmingham United Kingdom\n"
     ]
    },
    {
     "name": "stderr",
     "output_type": "stream",
     "text": [
      "\r",
      " 55%|█████████████████████▎                 | 1153/2106 [20:50<16:51,  1.06s/it]"
     ]
    },
    {
     "name": "stdout",
     "output_type": "stream",
     "text": [
      "571947.yaml Sharjah Cricket Association Stadium None\n"
     ]
    },
    {
     "name": "stderr",
     "output_type": "stream",
     "text": [
      "\r",
      " 55%|█████████████████████▎                 | 1154/2106 [20:52<18:36,  1.17s/it]"
     ]
    },
    {
     "name": "stdout",
     "output_type": "stream",
     "text": [
      "1188625.yaml Port of Spain Trinidad and Tobago\n"
     ]
    },
    {
     "name": "stderr",
     "output_type": "stream",
     "text": [
      "\r",
      " 55%|█████████████████████▍                 | 1155/2106 [20:53<17:49,  1.13s/it]"
     ]
    },
    {
     "name": "stdout",
     "output_type": "stream",
     "text": [
      "1144486.yaml Bristol United Kingdom\n"
     ]
    },
    {
     "name": "stderr",
     "output_type": "stream",
     "text": [
      "\r",
      " 55%|█████████████████████▍                 | 1156/2106 [20:54<17:52,  1.13s/it]"
     ]
    },
    {
     "name": "stdout",
     "output_type": "stream",
     "text": [
      "660837.yaml Belfast United Kingdom\n"
     ]
    },
    {
     "name": "stderr",
     "output_type": "stream",
     "text": [
      "\r",
      " 55%|█████████████████████▍                 | 1157/2106 [20:55<17:21,  1.10s/it]"
     ]
    },
    {
     "name": "stdout",
     "output_type": "stream",
     "text": [
      "656449.yaml Perth Australia\n"
     ]
    },
    {
     "name": "stderr",
     "output_type": "stream",
     "text": [
      "\r",
      " 55%|█████████████████████▍                 | 1158/2106 [20:56<16:59,  1.08s/it]"
     ]
    },
    {
     "name": "stdout",
     "output_type": "stream",
     "text": [
      "264071.yaml Mirpur Pakistan\n"
     ]
    },
    {
     "name": "stderr",
     "output_type": "stream",
     "text": [
      "\r",
      " 55%|█████████████████████▍                 | 1159/2106 [20:57<16:43,  1.06s/it]"
     ]
    },
    {
     "name": "stdout",
     "output_type": "stream",
     "text": [
      "64934.yaml Durban South Africa\n"
     ]
    },
    {
     "name": "stderr",
     "output_type": "stream",
     "text": [
      "\r",
      " 55%|█████████████████████▍                 | 1160/2106 [20:59<18:28,  1.17s/it]"
     ]
    },
    {
     "name": "stdout",
     "output_type": "stream",
     "text": [
      "812623.yaml Dubai United Arab Emirates\n"
     ]
    },
    {
     "name": "stderr",
     "output_type": "stream",
     "text": [
      "\r",
      " 55%|█████████████████████▌                 | 1161/2106 [21:00<17:45,  1.13s/it]"
     ]
    },
    {
     "name": "stdout",
     "output_type": "stream",
     "text": [
      "1144494.yaml Cardiff United Kingdom\n"
     ]
    },
    {
     "name": "stderr",
     "output_type": "stream",
     "text": [
      "\r",
      " 55%|█████████████████████▌                 | 1162/2106 [21:01<17:15,  1.10s/it]"
     ]
    },
    {
     "name": "stdout",
     "output_type": "stream",
     "text": [
      "1144987.yaml Adelaide Oval Australia\n"
     ]
    },
    {
     "name": "stderr",
     "output_type": "stream",
     "text": [
      "\r",
      " 55%|█████████████████████▌                 | 1163/2106 [21:02<16:53,  1.07s/it]"
     ]
    },
    {
     "name": "stdout",
     "output_type": "stream",
     "text": [
      "433575.yaml Ahmedabad India\n"
     ]
    },
    {
     "name": "stderr",
     "output_type": "stream",
     "text": [
      "\r",
      " 55%|█████████████████████▌                 | 1164/2106 [21:03<16:37,  1.06s/it]"
     ]
    },
    {
     "name": "stdout",
     "output_type": "stream",
     "text": [
      "1275252.yaml Al Amarat Oman\n"
     ]
    },
    {
     "name": "stderr",
     "output_type": "stream",
     "text": [
      "\r",
      " 55%|█████████████████████▌                 | 1165/2106 [21:04<16:27,  1.05s/it]"
     ]
    },
    {
     "name": "stdout",
     "output_type": "stream",
     "text": [
      "1144517.yaml Chester-le-Street United Kingdom\n"
     ]
    },
    {
     "name": "stderr",
     "output_type": "stream",
     "text": [
      "\r",
      " 55%|█████████████████████▌                 | 1166/2106 [21:05<18:14,  1.16s/it]"
     ]
    },
    {
     "name": "stdout",
     "output_type": "stream",
     "text": [
      "426428.yaml Chester-le-Street United Kingdom\n"
     ]
    },
    {
     "name": "stderr",
     "output_type": "stream",
     "text": [
      "\r",
      " 55%|█████████████████████▌                 | 1167/2106 [21:06<18:02,  1.15s/it]"
     ]
    },
    {
     "name": "stdout",
     "output_type": "stream",
     "text": [
      "66210.yaml London United Kingdom\n"
     ]
    },
    {
     "name": "stderr",
     "output_type": "stream",
     "text": [
      "\r",
      " 55%|█████████████████████▋                 | 1168/2106 [21:07<17:15,  1.10s/it]"
     ]
    },
    {
     "name": "stdout",
     "output_type": "stream",
     "text": [
      "238178.yaml Napier New Zealand\n"
     ]
    },
    {
     "name": "stderr",
     "output_type": "stream",
     "text": [
      "\r",
      " 56%|█████████████████████▋                 | 1169/2106 [21:08<16:32,  1.06s/it]"
     ]
    },
    {
     "name": "stdout",
     "output_type": "stream",
     "text": [
      "456662.yaml Rangiri Dambulla International Stadium None\n"
     ]
    },
    {
     "name": "stderr",
     "output_type": "stream",
     "text": [
      "\r",
      " 56%|█████████████████████▋                 | 1170/2106 [21:09<16:21,  1.05s/it]"
     ]
    },
    {
     "name": "stdout",
     "output_type": "stream",
     "text": [
      "439144.yaml St Vincent Italy\n"
     ]
    },
    {
     "name": "stderr",
     "output_type": "stream",
     "text": [
      "\r",
      " 56%|█████████████████████▋                 | 1171/2106 [21:10<16:13,  1.04s/it]"
     ]
    },
    {
     "name": "stdout",
     "output_type": "stream",
     "text": [
      "361043.yaml Rajkot India\n"
     ]
    },
    {
     "name": "stderr",
     "output_type": "stream",
     "text": [
      "\r",
      " 56%|█████████████████████▋                 | 1172/2106 [21:12<18:02,  1.16s/it]"
     ]
    },
    {
     "name": "stdout",
     "output_type": "stream",
     "text": [
      "710311.yaml Mirpur Pakistan\n"
     ]
    },
    {
     "name": "stderr",
     "output_type": "stream",
     "text": [
      "\r",
      " 56%|█████████████████████▋                 | 1173/2106 [21:13<17:23,  1.12s/it]"
     ]
    },
    {
     "name": "stdout",
     "output_type": "stream",
     "text": [
      "953335.yaml Sharjah Cricket Stadium United Arab Emirates\n"
     ]
    },
    {
     "name": "stderr",
     "output_type": "stream",
     "text": [
      "\r",
      " 56%|█████████████████████▋                 | 1174/2106 [21:14<16:56,  1.09s/it]"
     ]
    },
    {
     "name": "stdout",
     "output_type": "stream",
     "text": [
      "745159.yaml Hambantota Sri Lanka\n"
     ]
    },
    {
     "name": "stderr",
     "output_type": "stream",
     "text": [
      "\r",
      " 56%|█████████████████████▊                 | 1175/2106 [21:15<18:02,  1.16s/it]"
     ]
    },
    {
     "name": "stdout",
     "output_type": "stream",
     "text": [
      "1174241.yaml Dubai United Arab Emirates\n"
     ]
    },
    {
     "name": "stderr",
     "output_type": "stream",
     "text": [
      "\r",
      " 56%|█████████████████████▊                 | 1176/2106 [21:16<17:22,  1.12s/it]"
     ]
    },
    {
     "name": "stdout",
     "output_type": "stream",
     "text": [
      "313992.yaml Nairobi Kenya\n"
     ]
    },
    {
     "name": "stderr",
     "output_type": "stream",
     "text": [
      "\r",
      " 56%|█████████████████████▊                 | 1177/2106 [21:17<16:50,  1.09s/it]"
     ]
    },
    {
     "name": "stdout",
     "output_type": "stream",
     "text": [
      "433583.yaml Pallekele International Cricket Stadium Sri Lanka\n"
     ]
    },
    {
     "name": "stderr",
     "output_type": "stream",
     "text": [
      "\r",
      " 56%|█████████████████████▊                 | 1178/2106 [21:18<16:35,  1.07s/it]"
     ]
    },
    {
     "name": "stdout",
     "output_type": "stream",
     "text": [
      "645643.yaml St Lucia Saint Lucia\n"
     ]
    },
    {
     "name": "stderr",
     "output_type": "stream",
     "text": [
      "\r",
      " 56%|█████████████████████▊                 | 1179/2106 [21:20<18:14,  1.18s/it]"
     ]
    },
    {
     "name": "stdout",
     "output_type": "stream",
     "text": [
      "647259.yaml Nagpur India\n"
     ]
    },
    {
     "name": "stderr",
     "output_type": "stream",
     "text": [
      "\r",
      " 56%|█████████████████████▊                 | 1180/2106 [21:21<17:29,  1.13s/it]"
     ]
    },
    {
     "name": "stdout",
     "output_type": "stream",
     "text": [
      "1144502.yaml London United Kingdom\n"
     ]
    },
    {
     "name": "stderr",
     "output_type": "stream",
     "text": [
      "\r",
      " 56%|█████████████████████▊                 | 1181/2106 [21:22<16:58,  1.10s/it]"
     ]
    },
    {
     "name": "stdout",
     "output_type": "stream",
     "text": [
      "913655.yaml London United Kingdom\n"
     ]
    },
    {
     "name": "stderr",
     "output_type": "stream",
     "text": [
      "\r",
      " 56%|█████████████████████▉                 | 1182/2106 [21:23<16:35,  1.08s/it]"
     ]
    },
    {
     "name": "stdout",
     "output_type": "stream",
     "text": [
      "645639.yaml St Lucia Saint Lucia\n"
     ]
    },
    {
     "name": "stderr",
     "output_type": "stream",
     "text": [
      "\r",
      " 56%|█████████████████████▉                 | 1183/2106 [21:24<16:19,  1.06s/it]"
     ]
    },
    {
     "name": "stdout",
     "output_type": "stream",
     "text": [
      "249750.yaml Jaipur India\n"
     ]
    },
    {
     "name": "stderr",
     "output_type": "stream",
     "text": [
      "\r",
      " 56%|█████████████████████▉                 | 1184/2106 [21:24<15:11,  1.01it/s]"
     ]
    },
    {
     "name": "stdout",
     "output_type": "stream",
     "text": [
      "1033361.yaml Dublin Ireland\n"
     ]
    },
    {
     "name": "stderr",
     "output_type": "stream",
     "text": [
      "\r",
      " 56%|█████████████████████▉                 | 1185/2106 [21:26<17:13,  1.12s/it]"
     ]
    },
    {
     "name": "stdout",
     "output_type": "stream",
     "text": [
      "426721.yaml Abu Dhabi United Arab Emirates\n"
     ]
    },
    {
     "name": "stderr",
     "output_type": "stream",
     "text": [
      "\r",
      " 56%|█████████████████████▉                 | 1186/2106 [21:27<17:13,  1.12s/it]"
     ]
    },
    {
     "name": "stdout",
     "output_type": "stream",
     "text": [
      "706767.yaml Dublin Ireland\n"
     ]
    },
    {
     "name": "stderr",
     "output_type": "stream",
     "text": [
      "\r",
      " 56%|█████████████████████▉                 | 1187/2106 [21:28<16:45,  1.09s/it]"
     ]
    },
    {
     "name": "stdout",
     "output_type": "stream",
     "text": [
      "1119540.yaml Chester-le-Street United Kingdom\n"
     ]
    },
    {
     "name": "stderr",
     "output_type": "stream",
     "text": [
      "\r",
      " 56%|██████████████████████                 | 1188/2106 [21:29<16:24,  1.07s/it]"
     ]
    },
    {
     "name": "stdout",
     "output_type": "stream",
     "text": [
      "267715.yaml Margao India\n"
     ]
    },
    {
     "name": "stderr",
     "output_type": "stream",
     "text": [
      "\r",
      " 56%|██████████████████████                 | 1189/2106 [21:30<16:10,  1.06s/it]"
     ]
    },
    {
     "name": "stdout",
     "output_type": "stream",
     "text": [
      "770123.yaml Delhi India\n"
     ]
    },
    {
     "name": "stderr",
     "output_type": "stream",
     "text": [
      "\r",
      " 57%|██████████████████████                 | 1190/2106 [21:31<15:31,  1.02s/it]"
     ]
    },
    {
     "name": "stdout",
     "output_type": "stream",
     "text": [
      "249234.yaml Adelaide Oval Australia\n"
     ]
    },
    {
     "name": "stderr",
     "output_type": "stream",
     "text": [
      "\r",
      " 57%|██████████████████████                 | 1191/2106 [21:33<17:53,  1.17s/it]"
     ]
    },
    {
     "name": "stdout",
     "output_type": "stream",
     "text": [
      "433572.yaml Bangalore India\n"
     ]
    },
    {
     "name": "stderr",
     "output_type": "stream",
     "text": [
      "\r",
      " 57%|██████████████████████                 | 1192/2106 [21:33<15:46,  1.04s/it]"
     ]
    },
    {
     "name": "stdout",
     "output_type": "stream",
     "text": [
      "256665.yaml Colombo Sri Lanka\n"
     ]
    },
    {
     "name": "stderr",
     "output_type": "stream",
     "text": [
      "\r",
      " 57%|██████████████████████                 | 1193/2106 [21:34<15:42,  1.03s/it]"
     ]
    },
    {
     "name": "stdout",
     "output_type": "stream",
     "text": [
      "1144524.yaml Leeds United Kingdom\n"
     ]
    },
    {
     "name": "stderr",
     "output_type": "stream",
     "text": [
      "\r",
      " 57%|██████████████████████                 | 1194/2106 [21:35<14:43,  1.03it/s]"
     ]
    },
    {
     "name": "stdout",
     "output_type": "stream",
     "text": [
      "297793.yaml Bangalore India\n"
     ]
    },
    {
     "name": "stderr",
     "output_type": "stream",
     "text": [
      "\r",
      " 57%|██████████████████████▏                | 1195/2106 [21:36<14:57,  1.02it/s]"
     ]
    },
    {
     "name": "stdout",
     "output_type": "stream",
     "text": [
      "1198238.yaml Manchester United Kingdom\n"
     ]
    },
    {
     "name": "stderr",
     "output_type": "stream",
     "text": [
      "\r",
      " 57%|██████████████████████▏                | 1196/2106 [21:37<14:43,  1.03it/s]"
     ]
    },
    {
     "name": "stdout",
     "output_type": "stream",
     "text": [
      "1281444.yaml Amstelveen Netherlands\n"
     ]
    },
    {
     "name": "stderr",
     "output_type": "stream",
     "text": [
      "\r",
      " 57%|██████████████████████▏                | 1197/2106 [21:38<14:52,  1.02it/s]"
     ]
    },
    {
     "name": "stdout",
     "output_type": "stream",
     "text": [
      "1153636.yaml Chattogram Bangladesh\n"
     ]
    },
    {
     "name": "stderr",
     "output_type": "stream",
     "text": [
      "\r",
      " 57%|██████████████████████▏                | 1198/2106 [21:39<14:35,  1.04it/s]"
     ]
    },
    {
     "name": "stdout",
     "output_type": "stream",
     "text": [
      "247488.yaml Guyana Guyana\n"
     ]
    },
    {
     "name": "stderr",
     "output_type": "stream",
     "text": [
      "\r",
      " 57%|██████████████████████▏                | 1199/2106 [21:40<16:42,  1.10s/it]"
     ]
    },
    {
     "name": "stdout",
     "output_type": "stream",
     "text": [
      "649095.yaml Abu Dhabi United Arab Emirates\n"
     ]
    },
    {
     "name": "stderr",
     "output_type": "stream",
     "text": [
      "\r",
      " 57%|██████████████████████▏                | 1200/2106 [21:41<16:19,  1.08s/it]"
     ]
    },
    {
     "name": "stdout",
     "output_type": "stream",
     "text": [
      "247457.yaml Jamaica Jamaica\n"
     ]
    },
    {
     "name": "stderr",
     "output_type": "stream",
     "text": [
      "\r",
      " 57%|██████████████████████▏                | 1201/2106 [21:43<16:02,  1.06s/it]"
     ]
    },
    {
     "name": "stdout",
     "output_type": "stream",
     "text": [
      "1020017.yaml Hamilton Canada\n"
     ]
    },
    {
     "name": "stderr",
     "output_type": "stream",
     "text": [
      "\r",
      " 57%|██████████████████████▎                | 1202/2106 [21:43<14:54,  1.01it/s]"
     ]
    },
    {
     "name": "stdout",
     "output_type": "stream",
     "text": [
      "361046.yaml Bangalore India\n"
     ]
    },
    {
     "name": "stderr",
     "output_type": "stream",
     "text": [
      "\r",
      " 57%|██████████████████████▎                | 1203/2106 [21:44<15:03,  1.00s/it]"
     ]
    },
    {
     "name": "stdout",
     "output_type": "stream",
     "text": [
      "452147.yaml Bulawayo Zimbabwe\n"
     ]
    },
    {
     "name": "stderr",
     "output_type": "stream",
     "text": [
      "\r",
      " 57%|██████████████████████▎                | 1204/2106 [21:45<15:09,  1.01s/it]"
     ]
    },
    {
     "name": "stdout",
     "output_type": "stream",
     "text": [
      "656485.yaml Melbourne Cricket Ground Australia\n"
     ]
    },
    {
     "name": "stderr",
     "output_type": "stream",
     "text": [
      "\r",
      " 57%|██████████████████████▎                | 1205/2106 [21:47<17:02,  1.14s/it]"
     ]
    },
    {
     "name": "stdout",
     "output_type": "stream",
     "text": [
      "521221.yaml Mumbai India\n"
     ]
    },
    {
     "name": "stderr",
     "output_type": "stream",
     "text": [
      "\r",
      " 57%|██████████████████████▎                | 1206/2106 [21:48<16:59,  1.13s/it]"
     ]
    },
    {
     "name": "stdout",
     "output_type": "stream",
     "text": [
      "1133001.yaml Bulawayo Athletic Club None\n"
     ]
    },
    {
     "name": "stderr",
     "output_type": "stream",
     "text": [
      "\r",
      " 57%|██████████████████████▎                | 1207/2106 [21:49<16:23,  1.09s/it]"
     ]
    },
    {
     "name": "stdout",
     "output_type": "stream",
     "text": [
      "352666.yaml Guyana Guyana\n"
     ]
    },
    {
     "name": "stderr",
     "output_type": "stream",
     "text": [
      "\r",
      " 57%|██████████████████████▎                | 1208/2106 [21:50<16:09,  1.08s/it]"
     ]
    },
    {
     "name": "stdout",
     "output_type": "stream",
     "text": [
      "1059712.yaml Bulawayo Zimbabwe\n"
     ]
    },
    {
     "name": "stderr",
     "output_type": "stream",
     "text": [
      "\r",
      " 57%|██████████████████████▍                | 1209/2106 [21:51<15:53,  1.06s/it]"
     ]
    },
    {
     "name": "stdout",
     "output_type": "stream",
     "text": [
      "1122283.yaml Port Elizabeth South Africa\n"
     ]
    },
    {
     "name": "stderr",
     "output_type": "stream",
     "text": [
      "\r",
      " 57%|██████████████████████▍                | 1210/2106 [21:52<15:41,  1.05s/it]"
     ]
    },
    {
     "name": "stdout",
     "output_type": "stream",
     "text": [
      "403383.yaml Colombo Sri Lanka\n"
     ]
    },
    {
     "name": "stderr",
     "output_type": "stream",
     "text": [
      "\r",
      " 58%|██████████████████████▍                | 1211/2106 [21:53<17:23,  1.17s/it]"
     ]
    },
    {
     "name": "stdout",
     "output_type": "stream",
     "text": [
      "434263.yaml Mirpur Pakistan\n"
     ]
    },
    {
     "name": "stderr",
     "output_type": "stream",
     "text": [
      "\r",
      " 58%|██████████████████████▍                | 1212/2106 [21:54<16:44,  1.12s/it]"
     ]
    },
    {
     "name": "stdout",
     "output_type": "stream",
     "text": [
      "352665.yaml Guyana Guyana\n"
     ]
    },
    {
     "name": "stderr",
     "output_type": "stream",
     "text": [
      "\r",
      " 58%|██████████████████████▍                | 1213/2106 [21:56<16:43,  1.12s/it]"
     ]
    },
    {
     "name": "stdout",
     "output_type": "stream",
     "text": [
      "1144516.yaml Manchester United Kingdom\n"
     ]
    },
    {
     "name": "stderr",
     "output_type": "stream",
     "text": [
      "\r",
      " 58%|██████████████████████▍                | 1214/2106 [21:57<16:43,  1.13s/it]"
     ]
    },
    {
     "name": "stdout",
     "output_type": "stream",
     "text": [
      "64885.yaml Lahore Pakistan\n"
     ]
    },
    {
     "name": "stderr",
     "output_type": "stream",
     "text": [
      "\r",
      " 58%|██████████████████████▍                | 1215/2106 [21:58<16:15,  1.09s/it]"
     ]
    },
    {
     "name": "stdout",
     "output_type": "stream",
     "text": [
      "1157757.yaml Mumbai India\n"
     ]
    },
    {
     "name": "stderr",
     "output_type": "stream",
     "text": [
      "\r",
      " 58%|██████████████████████▌                | 1216/2106 [21:59<15:27,  1.04s/it]"
     ]
    },
    {
     "name": "stdout",
     "output_type": "stream",
     "text": [
      "1317153.yaml Providence United States\n"
     ]
    },
    {
     "name": "stderr",
     "output_type": "stream",
     "text": [
      "\r",
      " 58%|██████████████████████▌                | 1217/2106 [22:00<15:22,  1.04s/it]"
     ]
    },
    {
     "name": "stdout",
     "output_type": "stream",
     "text": [
      "385750.yaml Karachi Pakistan\n"
     ]
    },
    {
     "name": "stderr",
     "output_type": "stream",
     "text": [
      "\r",
      " 58%|██████████████████████▌                | 1218/2106 [22:01<17:33,  1.19s/it]"
     ]
    },
    {
     "name": "stdout",
     "output_type": "stream",
     "text": [
      "913623.yaml Nottingham United Kingdom\n"
     ]
    },
    {
     "name": "stderr",
     "output_type": "stream",
     "text": [
      "\r",
      " 58%|██████████████████████▌                | 1219/2106 [22:02<17:16,  1.17s/it]"
     ]
    },
    {
     "name": "stdout",
     "output_type": "stream",
     "text": [
      "1144997.yaml Sydney Australia\n"
     ]
    },
    {
     "name": "stderr",
     "output_type": "stream",
     "text": [
      "\r",
      " 58%|██████████████████████▌                | 1220/2106 [22:03<17:04,  1.16s/it]"
     ]
    },
    {
     "name": "stdout",
     "output_type": "stream",
     "text": [
      "226356.yaml Rawalpindi Cricket Stadium Pakistan\n"
     ]
    },
    {
     "name": "stderr",
     "output_type": "stream",
     "text": [
      "\r",
      " 58%|██████████████████████▌                | 1221/2106 [22:04<16:00,  1.09s/it]"
     ]
    },
    {
     "name": "stdout",
     "output_type": "stream",
     "text": [
      "1188626.yaml Port of Spain Trinidad and Tobago\n"
     ]
    },
    {
     "name": "stderr",
     "output_type": "stream",
     "text": [
      "\r",
      " 58%|██████████████████████▋                | 1222/2106 [22:05<15:43,  1.07s/it]"
     ]
    },
    {
     "name": "stdout",
     "output_type": "stream",
     "text": [
      "403372.yaml Rangiri Dambulla International Stadium None\n"
     ]
    },
    {
     "name": "stderr",
     "output_type": "stream",
     "text": [
      "\r",
      " 58%|██████████████████████▋                | 1223/2106 [22:06<15:30,  1.05s/it]"
     ]
    },
    {
     "name": "stdout",
     "output_type": "stream",
     "text": [
      "1315039.yaml Multan Pakistan\n"
     ]
    },
    {
     "name": "stderr",
     "output_type": "stream",
     "text": [
      "\r",
      " 58%|██████████████████████▋                | 1224/2106 [22:08<16:43,  1.14s/it]"
     ]
    },
    {
     "name": "stdout",
     "output_type": "stream",
     "text": [
      "1059710.yaml Harare Sports Club Zimbabwe\n"
     ]
    },
    {
     "name": "stderr",
     "output_type": "stream",
     "text": [
      "\r",
      " 58%|██████████████████████▋                | 1225/2106 [22:09<16:39,  1.13s/it]"
     ]
    },
    {
     "name": "stdout",
     "output_type": "stream",
     "text": [
      "573014.yaml Melbourne Cricket Ground Australia\n"
     ]
    },
    {
     "name": "stderr",
     "output_type": "stream",
     "text": [
      "\r",
      " 58%|██████████████████████▋                | 1226/2106 [22:10<16:09,  1.10s/it]"
     ]
    },
    {
     "name": "stdout",
     "output_type": "stream",
     "text": [
      "1068737.yaml Abu Dhabi United Arab Emirates\n"
     ]
    },
    {
     "name": "stderr",
     "output_type": "stream",
     "text": [
      "\r",
      " 58%|██████████████████████▋                | 1227/2106 [22:11<15:41,  1.07s/it]"
     ]
    },
    {
     "name": "stdout",
     "output_type": "stream",
     "text": [
      "531984.yaml Mirpur Pakistan\n"
     ]
    },
    {
     "name": "stderr",
     "output_type": "stream",
     "text": [
      "\r",
      " 58%|██████████████████████▋                | 1228/2106 [22:12<15:34,  1.06s/it]"
     ]
    },
    {
     "name": "stdout",
     "output_type": "stream",
     "text": [
      "1144515.yaml Birmingham United Kingdom\n"
     ]
    },
    {
     "name": "stderr",
     "output_type": "stream",
     "text": [
      "\r",
      " 58%|██████████████████████▊                | 1229/2106 [22:13<15:22,  1.05s/it]"
     ]
    },
    {
     "name": "stdout",
     "output_type": "stream",
     "text": [
      "1034823.yaml Kolkata India\n"
     ]
    },
    {
     "name": "stderr",
     "output_type": "stream",
     "text": [
      "\r",
      " 58%|██████████████████████▊                | 1230/2106 [22:14<15:14,  1.04s/it]"
     ]
    },
    {
     "name": "stdout",
     "output_type": "stream",
     "text": [
      "225254.yaml Leeds United Kingdom\n"
     ]
    },
    {
     "name": "stderr",
     "output_type": "stream",
     "text": [
      "\r",
      " 58%|██████████████████████▊                | 1231/2106 [22:15<16:55,  1.16s/it]"
     ]
    },
    {
     "name": "stdout",
     "output_type": "stream",
     "text": [
      "565815.yaml Chandigarh India\n"
     ]
    },
    {
     "name": "stderr",
     "output_type": "stream",
     "text": [
      "\r",
      " 58%|██████████████████████▊                | 1232/2106 [22:17<16:45,  1.15s/it]"
     ]
    },
    {
     "name": "stdout",
     "output_type": "stream",
     "text": [
      "238200.yaml Johannesburg South Africa\n"
     ]
    },
    {
     "name": "stderr",
     "output_type": "stream",
     "text": [
      "\r",
      " 59%|██████████████████████▊                | 1233/2106 [22:18<16:11,  1.11s/it]"
     ]
    },
    {
     "name": "stdout",
     "output_type": "stream",
     "text": [
      "433558.yaml Mirpur Pakistan\n"
     ]
    },
    {
     "name": "stderr",
     "output_type": "stream",
     "text": [
      "\r",
      " 59%|██████████████████████▊                | 1234/2106 [22:19<16:13,  1.12s/it]"
     ]
    },
    {
     "name": "stdout",
     "output_type": "stream",
     "text": [
      "217648.yaml Harare Sports Club Zimbabwe\n"
     ]
    },
    {
     "name": "stderr",
     "output_type": "stream",
     "text": [
      "\r",
      " 59%|██████████████████████▊                | 1235/2106 [22:20<15:49,  1.09s/it]"
     ]
    },
    {
     "name": "stdout",
     "output_type": "stream",
     "text": [
      "562443.yaml Colombo Sri Lanka\n"
     ]
    },
    {
     "name": "stderr",
     "output_type": "stream",
     "text": [
      "\r",
      " 59%|██████████████████████▉                | 1236/2106 [22:21<17:43,  1.22s/it]"
     ]
    },
    {
     "name": "stdout",
     "output_type": "stream",
     "text": [
      "65646.yaml Hobart Australia\n"
     ]
    },
    {
     "name": "stderr",
     "output_type": "stream",
     "text": [
      "\r",
      " 59%|██████████████████████▉                | 1237/2106 [22:22<16:50,  1.16s/it]"
     ]
    },
    {
     "name": "stdout",
     "output_type": "stream",
     "text": [
      "433588.yaml Bangalore India\n"
     ]
    },
    {
     "name": "stderr",
     "output_type": "stream",
     "text": [
      "\r",
      " 59%|██████████████████████▉                | 1238/2106 [22:23<16:13,  1.12s/it]"
     ]
    },
    {
     "name": "stdout",
     "output_type": "stream",
     "text": [
      "65718.yaml Colombo Sri Lanka\n"
     ]
    },
    {
     "name": "stderr",
     "output_type": "stream",
     "text": [
      "\r",
      " 59%|██████████████████████▉                | 1239/2106 [22:24<15:47,  1.09s/it]"
     ]
    },
    {
     "name": "stdout",
     "output_type": "stream",
     "text": [
      "1288989.yaml Hamilton Canada\n"
     ]
    },
    {
     "name": "stderr",
     "output_type": "stream",
     "text": [
      "\r",
      " 59%|██████████████████████▉                | 1240/2106 [22:25<15:27,  1.07s/it]"
     ]
    },
    {
     "name": "stdout",
     "output_type": "stream",
     "text": [
      "291366.yaml Adelaide Oval Australia\n"
     ]
    },
    {
     "name": "stderr",
     "output_type": "stream",
     "text": [
      "\r",
      " 59%|██████████████████████▉                | 1241/2106 [22:26<14:21,  1.00it/s]"
     ]
    },
    {
     "name": "stdout",
     "output_type": "stream",
     "text": [
      "351693.yaml Brisbane Australia\n"
     ]
    },
    {
     "name": "stderr",
     "output_type": "stream",
     "text": [
      "\r",
      " 59%|███████████████████████                | 1242/2106 [22:27<14:27,  1.00s/it]"
     ]
    },
    {
     "name": "stdout",
     "output_type": "stream",
     "text": [
      "247494.yaml Barbados Barbados\n"
     ]
    },
    {
     "name": "stderr",
     "output_type": "stream",
     "text": [
      "\r",
      " 59%|███████████████████████                | 1243/2106 [22:29<16:18,  1.13s/it]"
     ]
    },
    {
     "name": "stdout",
     "output_type": "stream",
     "text": [
      "936141.yaml Port Elizabeth South Africa\n"
     ]
    },
    {
     "name": "stderr",
     "output_type": "stream",
     "text": [
      "\r",
      " 59%|███████████████████████                | 1244/2106 [22:30<15:48,  1.10s/it]"
     ]
    },
    {
     "name": "stdout",
     "output_type": "stream",
     "text": [
      "1007653.yaml Harare Sports Club Zimbabwe\n"
     ]
    },
    {
     "name": "stderr",
     "output_type": "stream",
     "text": [
      "\r",
      " 59%|███████████████████████                | 1245/2106 [22:31<15:27,  1.08s/it]"
     ]
    },
    {
     "name": "stdout",
     "output_type": "stream",
     "text": [
      "894287.yaml Harare Sports Club Zimbabwe\n"
     ]
    },
    {
     "name": "stderr",
     "output_type": "stream",
     "text": [
      "\r",
      " 59%|███████████████████████                | 1246/2106 [22:32<14:46,  1.03s/it]"
     ]
    },
    {
     "name": "stdout",
     "output_type": "stream",
     "text": [
      "474477.yaml Chester-le-Street United Kingdom\n"
     ]
    },
    {
     "name": "stderr",
     "output_type": "stream",
     "text": [
      "\r",
      " 59%|███████████████████████                | 1247/2106 [22:33<14:43,  1.03s/it]"
     ]
    },
    {
     "name": "stdout",
     "output_type": "stream",
     "text": [
      "1174240.yaml Abu Dhabi United Arab Emirates\n"
     ]
    },
    {
     "name": "stderr",
     "output_type": "stream",
     "text": [
      "\r",
      " 59%|███████████████████████                | 1248/2106 [22:34<14:41,  1.03s/it]"
     ]
    },
    {
     "name": "stdout",
     "output_type": "stream",
     "text": [
      "601613.yaml Dublin Ireland\n"
     ]
    },
    {
     "name": "stderr",
     "output_type": "stream",
     "text": [
      "\r",
      " 59%|███████████████████████▏               | 1249/2106 [22:35<14:13,  1.00it/s]"
     ]
    },
    {
     "name": "stdout",
     "output_type": "stream",
     "text": [
      "743951.yaml Chester-le-Street United Kingdom\n"
     ]
    },
    {
     "name": "stderr",
     "output_type": "stream",
     "text": [
      "\r",
      " 59%|███████████████████████▏               | 1250/2106 [22:36<16:31,  1.16s/it]"
     ]
    },
    {
     "name": "stdout",
     "output_type": "stream",
     "text": [
      "335355.yaml Karachi Pakistan\n"
     ]
    },
    {
     "name": "stderr",
     "output_type": "stream",
     "text": [
      "\r",
      " 59%|███████████████████████▏               | 1251/2106 [22:37<16:21,  1.15s/it]"
     ]
    },
    {
     "name": "stdout",
     "output_type": "stream",
     "text": [
      "1251963.yaml Utrecht Netherlands\n"
     ]
    },
    {
     "name": "stderr",
     "output_type": "stream",
     "text": [
      "\r",
      " 59%|███████████████████████▏               | 1252/2106 [22:38<15:48,  1.11s/it]"
     ]
    },
    {
     "name": "stdout",
     "output_type": "stream",
     "text": [
      "1119497.yaml Kolkata India\n"
     ]
    },
    {
     "name": "stderr",
     "output_type": "stream",
     "text": [
      "\r",
      " 59%|███████████████████████▏               | 1253/2106 [22:39<14:59,  1.05s/it]"
     ]
    },
    {
     "name": "stdout",
     "output_type": "stream",
     "text": [
      "1179272.yaml Harare Zimbabwe\n"
     ]
    },
    {
     "name": "stderr",
     "output_type": "stream",
     "text": [
      "\r",
      " 60%|███████████████████████▏               | 1254/2106 [22:40<15:16,  1.08s/it]"
     ]
    },
    {
     "name": "stdout",
     "output_type": "stream",
     "text": [
      "903599.yaml Chennai India\n"
     ]
    },
    {
     "name": "stderr",
     "output_type": "stream",
     "text": [
      "\r",
      " 60%|███████████████████████▏               | 1255/2106 [22:41<15:02,  1.06s/it]"
     ]
    },
    {
     "name": "stdout",
     "output_type": "stream",
     "text": [
      "423792.yaml Auckland New Zealand\n"
     ]
    },
    {
     "name": "stderr",
     "output_type": "stream",
     "text": [
      "\r",
      " 60%|███████████████████████▎               | 1256/2106 [22:42<14:51,  1.05s/it]"
     ]
    },
    {
     "name": "stdout",
     "output_type": "stream",
     "text": [
      "792291.yaml Ahmedabad India\n"
     ]
    },
    {
     "name": "stderr",
     "output_type": "stream",
     "text": [
      "\r",
      " 60%|███████████████████████▎               | 1257/2106 [22:44<16:54,  1.20s/it]"
     ]
    },
    {
     "name": "stdout",
     "output_type": "stream",
     "text": [
      "565812.yaml Rajkot India\n"
     ]
    },
    {
     "name": "stderr",
     "output_type": "stream",
     "text": [
      "\r",
      " 60%|███████████████████████▎               | 1258/2106 [22:45<16:00,  1.13s/it]"
     ]
    },
    {
     "name": "stdout",
     "output_type": "stream",
     "text": [
      "1119500.yaml Nagpur India\n"
     ]
    },
    {
     "name": "stderr",
     "output_type": "stream",
     "text": [
      "\r",
      " 60%|███████████████████████▎               | 1259/2106 [22:46<15:15,  1.08s/it]"
     ]
    },
    {
     "name": "stdout",
     "output_type": "stream",
     "text": [
      "1281446.yaml Amstelveen Netherlands\n"
     ]
    },
    {
     "name": "stderr",
     "output_type": "stream",
     "text": [
      "\r",
      " 60%|███████████████████████▎               | 1260/2106 [22:47<14:59,  1.06s/it]"
     ]
    },
    {
     "name": "stdout",
     "output_type": "stream",
     "text": [
      "534210.yaml London United Kingdom\n"
     ]
    },
    {
     "name": "stderr",
     "output_type": "stream",
     "text": [
      "\r",
      " 60%|███████████████████████▎               | 1261/2106 [22:48<14:48,  1.05s/it]"
     ]
    },
    {
     "name": "stdout",
     "output_type": "stream",
     "text": [
      "1059714.yaml Bulawayo Zimbabwe\n"
     ]
    },
    {
     "name": "stderr",
     "output_type": "stream",
     "text": [
      "\r",
      " 60%|███████████████████████▎               | 1262/2106 [22:49<13:48,  1.02it/s]"
     ]
    },
    {
     "name": "stdout",
     "output_type": "stream",
     "text": [
      "668961.yaml Hambantota Sri Lanka\n"
     ]
    },
    {
     "name": "stderr",
     "output_type": "stream",
     "text": [
      "\r",
      " 60%|███████████████████████▍               | 1263/2106 [22:50<13:58,  1.01it/s]"
     ]
    },
    {
     "name": "stdout",
     "output_type": "stream",
     "text": [
      "345468.yaml Mirpur Pakistan\n"
     ]
    },
    {
     "name": "stderr",
     "output_type": "stream",
     "text": [
      "\r",
      " 60%|███████████████████████▍               | 1264/2106 [22:51<15:48,  1.13s/it]"
     ]
    },
    {
     "name": "stdout",
     "output_type": "stream",
     "text": [
      "486526.yaml Chittagong Bangladesh\n"
     ]
    },
    {
     "name": "stderr",
     "output_type": "stream",
     "text": [
      "\r",
      " 60%|███████████████████████▍               | 1265/2106 [22:52<14:55,  1.06s/it]"
     ]
    },
    {
     "name": "stdout",
     "output_type": "stream",
     "text": [
      "300437.yaml Wellington New Zealand\n"
     ]
    },
    {
     "name": "stderr",
     "output_type": "stream",
     "text": [
      "\r",
      " 60%|███████████████████████▍               | 1266/2106 [22:53<14:44,  1.05s/it]"
     ]
    },
    {
     "name": "stdout",
     "output_type": "stream",
     "text": [
      "410337.yaml Bulawayo Zimbabwe\n"
     ]
    },
    {
     "name": "stderr",
     "output_type": "stream",
     "text": [
      "\r",
      " 60%|███████████████████████▍               | 1267/2106 [22:54<14:10,  1.01s/it]"
     ]
    },
    {
     "name": "stdout",
     "output_type": "stream",
     "text": [
      "1260084.yaml Rotterdam Netherlands\n"
     ]
    },
    {
     "name": "stderr",
     "output_type": "stream",
     "text": [
      "\r",
      " 60%|███████████████████████▍               | 1268/2106 [22:55<13:46,  1.01it/s]"
     ]
    },
    {
     "name": "stdout",
     "output_type": "stream",
     "text": [
      "366625.yaml Auckland New Zealand\n"
     ]
    },
    {
     "name": "stderr",
     "output_type": "stream",
     "text": [
      "\r",
      " 60%|███████████████████████▌               | 1269/2106 [22:56<13:54,  1.00it/s]"
     ]
    },
    {
     "name": "stdout",
     "output_type": "stream",
     "text": [
      "64901.yaml Harare Zimbabwe\n"
     ]
    },
    {
     "name": "stderr",
     "output_type": "stream",
     "text": [
      "\r",
      " 60%|███████████████████████▌               | 1270/2106 [22:57<14:00,  1.01s/it]"
     ]
    },
    {
     "name": "stdout",
     "output_type": "stream",
     "text": [
      "433581.yaml Pallekele International Cricket Stadium Sri Lanka\n"
     ]
    },
    {
     "name": "stderr",
     "output_type": "stream",
     "text": [
      "\r",
      " 60%|███████████████████████▌               | 1271/2106 [22:58<15:21,  1.10s/it]"
     ]
    },
    {
     "name": "stdout",
     "output_type": "stream",
     "text": [
      "743973.yaml Belfast United Kingdom\n"
     ]
    },
    {
     "name": "stderr",
     "output_type": "stream",
     "text": [
      "\r",
      " 60%|███████████████████████▌               | 1272/2106 [22:59<14:34,  1.05s/it]"
     ]
    },
    {
     "name": "stdout",
     "output_type": "stream",
     "text": [
      "238214.yaml Colombo Sri Lanka\n"
     ]
    },
    {
     "name": "stderr",
     "output_type": "stream",
     "text": [
      "\r",
      " 60%|███████████████████████▌               | 1273/2106 [23:00<14:53,  1.07s/it]"
     ]
    },
    {
     "name": "stdout",
     "output_type": "stream",
     "text": [
      "249756.yaml Chandigarh India\n"
     ]
    },
    {
     "name": "stderr",
     "output_type": "stream",
     "text": [
      "\r",
      " 60%|███████████████████████▌               | 1274/2106 [23:01<14:40,  1.06s/it]"
     ]
    },
    {
     "name": "stdout",
     "output_type": "stream",
     "text": [
      "1193498.yaml Lucknow India\n"
     ]
    },
    {
     "name": "stderr",
     "output_type": "stream",
     "text": [
      "\r",
      " 61%|███████████████████████▌               | 1275/2106 [23:02<14:30,  1.05s/it]"
     ]
    },
    {
     "name": "stdout",
     "output_type": "stream",
     "text": [
      "536930.yaml Visakhapatnam India\n"
     ]
    },
    {
     "name": "stderr",
     "output_type": "stream",
     "text": [
      "\r",
      " 61%|███████████████████████▋               | 1276/2106 [23:03<13:32,  1.02it/s]"
     ]
    },
    {
     "name": "stdout",
     "output_type": "stream",
     "text": [
      "64928.yaml Durban South Africa\n"
     ]
    },
    {
     "name": "stderr",
     "output_type": "stream",
     "text": [
      "\r",
      " 61%|███████████████████████▋               | 1277/2106 [23:04<13:42,  1.01it/s]"
     ]
    },
    {
     "name": "stdout",
     "output_type": "stream",
     "text": [
      "441828.yaml Gwalior India\n"
     ]
    },
    {
     "name": "stderr",
     "output_type": "stream",
     "text": [
      "\r",
      " 61%|███████████████████████▋               | 1278/2106 [23:06<15:31,  1.12s/it]"
     ]
    },
    {
     "name": "stdout",
     "output_type": "stream",
     "text": [
      "299009.yaml Multan Cricket Stadium Pakistan\n"
     ]
    },
    {
     "name": "stderr",
     "output_type": "stream",
     "text": [
      "\r",
      " 61%|███████████████████████▋               | 1279/2106 [23:07<15:30,  1.13s/it]"
     ]
    },
    {
     "name": "stdout",
     "output_type": "stream",
     "text": [
      "1323293.yaml Harare Zimbabwe\n"
     ]
    },
    {
     "name": "stderr",
     "output_type": "stream",
     "text": [
      "\r",
      " 61%|███████████████████████▋               | 1280/2106 [23:08<13:22,  1.03it/s]"
     ]
    },
    {
     "name": "stdout",
     "output_type": "stream",
     "text": [
      "534228.yaml Cardiff United Kingdom\n"
     ]
    },
    {
     "name": "stderr",
     "output_type": "stream",
     "text": [
      "\r",
      " 61%|███████████████████████▋               | 1281/2106 [23:09<13:34,  1.01it/s]"
     ]
    },
    {
     "name": "stdout",
     "output_type": "stream",
     "text": [
      "387566.yaml Centurion South Africa\n"
     ]
    },
    {
     "name": "stderr",
     "output_type": "stream",
     "text": [
      "\r",
      " 61%|███████████████████████▋               | 1282/2106 [23:10<13:42,  1.00it/s]"
     ]
    },
    {
     "name": "stdout",
     "output_type": "stream",
     "text": [
      "1144519.yaml London United Kingdom\n"
     ]
    },
    {
     "name": "stderr",
     "output_type": "stream",
     "text": [
      "\r",
      " 61%|███████████████████████▊               | 1283/2106 [23:10<13:22,  1.03it/s]"
     ]
    },
    {
     "name": "stdout",
     "output_type": "stream",
     "text": [
      "1199225.yaml Lauderhill United States\n"
     ]
    },
    {
     "name": "stderr",
     "output_type": "stream",
     "text": [
      "\r",
      " 61%|███████████████████████▊               | 1284/2106 [23:11<13:33,  1.01it/s]"
     ]
    },
    {
     "name": "stdout",
     "output_type": "stream",
     "text": [
      "601077.yaml Edinburgh United Kingdom\n"
     ]
    },
    {
     "name": "stderr",
     "output_type": "stream",
     "text": [
      "\r",
      " 61%|███████████████████████▊               | 1285/2106 [23:13<13:41,  1.00s/it]"
     ]
    },
    {
     "name": "stdout",
     "output_type": "stream",
     "text": [
      "1144511.yaml Manchester United Kingdom\n"
     ]
    },
    {
     "name": "stderr",
     "output_type": "stream",
     "text": [
      "\r",
      " 61%|███████████████████████▊               | 1286/2106 [23:14<15:52,  1.16s/it]"
     ]
    },
    {
     "name": "stdout",
     "output_type": "stream",
     "text": [
      "225247.yaml Southampton United Kingdom\n"
     ]
    },
    {
     "name": "stderr",
     "output_type": "stream",
     "text": [
      "\r",
      " 61%|███████████████████████▊               | 1287/2106 [23:15<15:17,  1.12s/it]"
     ]
    },
    {
     "name": "stdout",
     "output_type": "stream",
     "text": [
      "1277098.yaml Johannesburg South Africa\n"
     ]
    },
    {
     "name": "stderr",
     "output_type": "stream",
     "text": [
      "\r",
      " 61%|███████████████████████▊               | 1288/2106 [23:16<14:55,  1.09s/it]"
     ]
    },
    {
     "name": "stdout",
     "output_type": "stream",
     "text": [
      "350046.yaml London United Kingdom\n"
     ]
    },
    {
     "name": "stderr",
     "output_type": "stream",
     "text": [
      "\r",
      " 61%|███████████████████████▊               | 1289/2106 [23:18<16:14,  1.19s/it]"
     ]
    },
    {
     "name": "stdout",
     "output_type": "stream",
     "text": [
      "426388.yaml Cardiff United Kingdom\n"
     ]
    },
    {
     "name": "stderr",
     "output_type": "stream",
     "text": [
      "\r",
      " 61%|███████████████████████▉               | 1290/2106 [23:19<15:32,  1.14s/it]"
     ]
    },
    {
     "name": "stdout",
     "output_type": "stream",
     "text": [
      "433585.yaml Chittagong Bangladesh\n"
     ]
    },
    {
     "name": "stderr",
     "output_type": "stream",
     "text": [
      "\r",
      " 61%|███████████████████████▉               | 1291/2106 [23:20<15:02,  1.11s/it]"
     ]
    },
    {
     "name": "stdout",
     "output_type": "stream",
     "text": [
      "452151.yaml Harare Sports Club Zimbabwe\n"
     ]
    },
    {
     "name": "stderr",
     "output_type": "stream",
     "text": [
      "\r",
      " 61%|███████████████████████▉               | 1292/2106 [23:21<16:45,  1.24s/it]"
     ]
    },
    {
     "name": "stdout",
     "output_type": "stream",
     "text": [
      "573024.yaml Canberra Australia\n"
     ]
    },
    {
     "name": "stderr",
     "output_type": "stream",
     "text": [
      "\r",
      " 61%|███████████████████████▉               | 1293/2106 [23:22<15:02,  1.11s/it]"
     ]
    },
    {
     "name": "stdout",
     "output_type": "stream",
     "text": [
      "1327511.yaml Delhi India\n"
     ]
    },
    {
     "name": "stderr",
     "output_type": "stream",
     "text": [
      "\r",
      " 61%|███████████████████████▉               | 1294/2106 [23:23<13:50,  1.02s/it]"
     ]
    },
    {
     "name": "stdout",
     "output_type": "stream",
     "text": [
      "684679.yaml Aberdeen United Kingdom\n"
     ]
    },
    {
     "name": "stderr",
     "output_type": "stream",
     "text": [
      "\r",
      " 61%|███████████████████████▉               | 1295/2106 [23:24<14:15,  1.05s/it]"
     ]
    },
    {
     "name": "stdout",
     "output_type": "stream",
     "text": [
      "251496.yaml Hamilton Canada\n"
     ]
    },
    {
     "name": "stderr",
     "output_type": "stream",
     "text": [
      "\r",
      " 62%|████████████████████████               | 1296/2106 [23:25<13:16,  1.02it/s]"
     ]
    },
    {
     "name": "stdout",
     "output_type": "stream",
     "text": [
      "1115797.yaml Christchurch New Zealand\n"
     ]
    },
    {
     "name": "stderr",
     "output_type": "stream",
     "text": [
      "\r",
      " 62%|████████████████████████               | 1297/2106 [23:26<13:25,  1.00it/s]"
     ]
    },
    {
     "name": "stdout",
     "output_type": "stream",
     "text": [
      "416238.yaml Delhi India\n"
     ]
    },
    {
     "name": "stderr",
     "output_type": "stream",
     "text": [
      "\r",
      " 62%|████████████████████████               | 1298/2106 [23:27<13:06,  1.03it/s]"
     ]
    },
    {
     "name": "stdout",
     "output_type": "stream",
     "text": [
      "66381.yaml Rawalpindi Pakistan\n"
     ]
    },
    {
     "name": "stderr",
     "output_type": "stream",
     "text": [
      "\r",
      " 62%|████████████████████████               | 1299/2106 [23:28<13:17,  1.01it/s]"
     ]
    },
    {
     "name": "stdout",
     "output_type": "stream",
     "text": [
      "1089420.yaml Edinburgh United Kingdom\n"
     ]
    },
    {
     "name": "stderr",
     "output_type": "stream",
     "text": [
      "\r",
      " 62%|████████████████████████               | 1300/2106 [23:29<15:04,  1.12s/it]"
     ]
    },
    {
     "name": "stdout",
     "output_type": "stream",
     "text": [
      "535798.yaml Mirpur Pakistan\n"
     ]
    },
    {
     "name": "stderr",
     "output_type": "stream",
     "text": [
      "\r",
      " 62%|████████████████████████               | 1301/2106 [23:30<14:14,  1.06s/it]"
     ]
    },
    {
     "name": "stdout",
     "output_type": "stream",
     "text": [
      "65660.yaml Brisbane Australia\n"
     ]
    },
    {
     "name": "stderr",
     "output_type": "stream",
     "text": [
      "\r",
      " 62%|████████████████████████               | 1302/2106 [23:31<14:04,  1.05s/it]"
     ]
    },
    {
     "name": "stdout",
     "output_type": "stream",
     "text": [
      "730085.yaml Pallekele International Cricket Stadium Sri Lanka\n"
     ]
    },
    {
     "name": "stderr",
     "output_type": "stream",
     "text": [
      "\r",
      " 62%|████████████████████████▏              | 1303/2106 [23:32<13:57,  1.04s/it]"
     ]
    },
    {
     "name": "stdout",
     "output_type": "stream",
     "text": [
      "238190.yaml Margao India\n"
     ]
    },
    {
     "name": "stderr",
     "output_type": "stream",
     "text": [
      "\r",
      " 62%|████████████████████████▏              | 1304/2106 [23:33<13:51,  1.04s/it]"
     ]
    },
    {
     "name": "stdout",
     "output_type": "stream",
     "text": [
      "754723.yaml Perth Australia\n"
     ]
    },
    {
     "name": "stderr",
     "output_type": "stream",
     "text": [
      "\r",
      " 62%|████████████████████████▏              | 1305/2106 [23:34<14:12,  1.06s/it]"
     ]
    },
    {
     "name": "stdout",
     "output_type": "stream",
     "text": [
      "1131275.yaml Dubai United Arab Emirates\n"
     ]
    },
    {
     "name": "stderr",
     "output_type": "stream",
     "text": [
      "\r",
      " 62%|████████████████████████▏              | 1306/2106 [23:36<16:04,  1.21s/it]"
     ]
    },
    {
     "name": "stdout",
     "output_type": "stream",
     "text": [
      "1277097.yaml Centurion South Africa\n"
     ]
    },
    {
     "name": "stderr",
     "output_type": "stream",
     "text": [
      "\r",
      " 62%|████████████████████████▏              | 1307/2106 [23:37<15:44,  1.18s/it]"
     ]
    },
    {
     "name": "stdout",
     "output_type": "stream",
     "text": [
      "589308.yaml Chennai India\n"
     ]
    },
    {
     "name": "stderr",
     "output_type": "stream",
     "text": [
      "\r",
      " 62%|████████████████████████▏              | 1308/2106 [23:38<15:05,  1.13s/it]"
     ]
    },
    {
     "name": "stdout",
     "output_type": "stream",
     "text": [
      "1308248.yaml Dubai United Arab Emirates\n"
     ]
    },
    {
     "name": "stderr",
     "output_type": "stream",
     "text": [
      "\r",
      " 62%|████████████████████████▏              | 1309/2106 [23:39<14:13,  1.07s/it]"
     ]
    },
    {
     "name": "stdout",
     "output_type": "stream",
     "text": [
      "1168116.yaml Dehra Dun India\n"
     ]
    },
    {
     "name": "stderr",
     "output_type": "stream",
     "text": [
      "\r",
      " 62%|████████████████████████▎              | 1310/2106 [23:40<14:01,  1.06s/it]"
     ]
    },
    {
     "name": "stdout",
     "output_type": "stream",
     "text": [
      "422627.yaml Mirpur Pakistan\n"
     ]
    },
    {
     "name": "stderr",
     "output_type": "stream",
     "text": [
      "\r",
      " 62%|████████████████████████▎              | 1311/2106 [23:41<13:27,  1.02s/it]"
     ]
    },
    {
     "name": "stdout",
     "output_type": "stream",
     "text": [
      "1119548.yaml Leeds United Kingdom\n"
     ]
    },
    {
     "name": "stderr",
     "output_type": "stream",
     "text": [
      "\r",
      " 62%|████████████████████████▎              | 1312/2106 [23:42<13:28,  1.02s/it]"
     ]
    },
    {
     "name": "stdout",
     "output_type": "stream",
     "text": [
      "623573.yaml Bulawayo Zimbabwe\n"
     ]
    },
    {
     "name": "stderr",
     "output_type": "stream",
     "text": [
      "\r",
      " 62%|████████████████████████▎              | 1313/2106 [23:43<15:30,  1.17s/it]"
     ]
    },
    {
     "name": "stdout",
     "output_type": "stream",
     "text": [
      "386530.yaml Rangiri Dambulla International Stadium None\n"
     ]
    },
    {
     "name": "stderr",
     "output_type": "stream",
     "text": [
      "\r",
      " 62%|████████████████████████▎              | 1314/2106 [23:44<14:54,  1.13s/it]"
     ]
    },
    {
     "name": "stdout",
     "output_type": "stream",
     "text": [
      "350049.yaml Chester-le-Street United Kingdom\n"
     ]
    },
    {
     "name": "stderr",
     "output_type": "stream",
     "text": [
      "\r",
      " 62%|████████████████████████▎              | 1315/2106 [23:45<14:28,  1.10s/it]"
     ]
    },
    {
     "name": "stdout",
     "output_type": "stream",
     "text": [
      "256615.yaml Kuala Lumpur Malaysia\n"
     ]
    },
    {
     "name": "stderr",
     "output_type": "stream",
     "text": [
      "\r",
      " 62%|████████████████████████▎              | 1316/2106 [23:47<14:33,  1.11s/it]"
     ]
    },
    {
     "name": "stdout",
     "output_type": "stream",
     "text": [
      "1050223.yaml Sharjah Cricket Stadium United Arab Emirates\n"
     ]
    },
    {
     "name": "stderr",
     "output_type": "stream",
     "text": [
      "\r",
      " 63%|████████████████████████▍              | 1317/2106 [23:48<14:13,  1.08s/it]"
     ]
    },
    {
     "name": "stdout",
     "output_type": "stream",
     "text": [
      "298806.yaml Cape Town South Africa\n"
     ]
    },
    {
     "name": "stderr",
     "output_type": "stream",
     "text": [
      "\r",
      " 63%|████████████████████████▍              | 1318/2106 [23:49<13:58,  1.06s/it]"
     ]
    },
    {
     "name": "stdout",
     "output_type": "stream",
     "text": [
      "736451.yaml Harare Sports Club Zimbabwe\n"
     ]
    },
    {
     "name": "stderr",
     "output_type": "stream",
     "text": [
      "\r",
      " 63%|████████████████████████▍              | 1319/2106 [23:50<13:47,  1.05s/it]"
     ]
    },
    {
     "name": "stdout",
     "output_type": "stream",
     "text": [
      "564783.yaml Colombo Sri Lanka\n"
     ]
    },
    {
     "name": "stderr",
     "output_type": "stream",
     "text": [
      "\r",
      " 63%|████████████████████████▍              | 1320/2106 [23:51<15:16,  1.17s/it]"
     ]
    },
    {
     "name": "stdout",
     "output_type": "stream",
     "text": [
      "249213.yaml Port Elizabeth South Africa\n"
     ]
    },
    {
     "name": "stderr",
     "output_type": "stream",
     "text": [
      "\r",
      " 63%|████████████████████████▍              | 1321/2106 [23:52<14:42,  1.12s/it]"
     ]
    },
    {
     "name": "stdout",
     "output_type": "stream",
     "text": [
      "249759.yaml Mumbai India\n"
     ]
    },
    {
     "name": "stderr",
     "output_type": "stream",
     "text": [
      "\r",
      " 63%|████████████████████████▍              | 1322/2106 [23:53<14:17,  1.09s/it]"
     ]
    },
    {
     "name": "stdout",
     "output_type": "stream",
     "text": [
      "1153250.yaml Abu Dhabi United Arab Emirates\n"
     ]
    },
    {
     "name": "stderr",
     "output_type": "stream",
     "text": [
      "\r",
      " 63%|████████████████████████▌              | 1323/2106 [23:54<13:35,  1.04s/it]"
     ]
    },
    {
     "name": "stdout",
     "output_type": "stream",
     "text": [
      "1153244.yaml Dubai International Cricket Stadium United Arab Emirates\n"
     ]
    },
    {
     "name": "stderr",
     "output_type": "stream",
     "text": [
      "\r",
      " 63%|████████████████████████▌              | 1324/2106 [23:55<13:30,  1.04s/it]"
     ]
    },
    {
     "name": "stdout",
     "output_type": "stream",
     "text": [
      "1193505.yaml Colombo Sri Lanka\n"
     ]
    },
    {
     "name": "stderr",
     "output_type": "stream",
     "text": [
      "\r",
      " 63%|████████████████████████▌              | 1325/2106 [23:56<13:26,  1.03s/it]"
     ]
    },
    {
     "name": "stdout",
     "output_type": "stream",
     "text": [
      "656401.yaml Melbourne Cricket Ground Australia\n"
     ]
    },
    {
     "name": "stderr",
     "output_type": "stream",
     "text": [
      "\r",
      " 63%|████████████████████████▌              | 1326/2106 [23:57<13:23,  1.03s/it]"
     ]
    },
    {
     "name": "stdout",
     "output_type": "stream",
     "text": [
      "656467.yaml Hobart Australia\n"
     ]
    },
    {
     "name": "stderr",
     "output_type": "stream",
     "text": [
      "\r",
      " 63%|████████████████████████▌              | 1327/2106 [23:59<15:20,  1.18s/it]"
     ]
    },
    {
     "name": "stdout",
     "output_type": "stream",
     "text": [
      "433561.yaml Ahmedabad India\n"
     ]
    },
    {
     "name": "stderr",
     "output_type": "stream",
     "text": [
      "\r",
      " 63%|████████████████████████▌              | 1328/2106 [24:00<14:42,  1.13s/it]"
     ]
    },
    {
     "name": "stdout",
     "output_type": "stream",
     "text": [
      "1288987.yaml Mount Maunganui New Zealand\n"
     ]
    },
    {
     "name": "stderr",
     "output_type": "stream",
     "text": [
      "\r",
      " 63%|████████████████████████▌              | 1329/2106 [24:01<14:39,  1.13s/it]"
     ]
    },
    {
     "name": "stdout",
     "output_type": "stream",
     "text": [
      "1022365.yaml Birmingham United Kingdom\n"
     ]
    },
    {
     "name": "stderr",
     "output_type": "stream",
     "text": [
      "\r",
      " 63%|████████████████████████▋              | 1330/2106 [24:02<14:13,  1.10s/it]"
     ]
    },
    {
     "name": "stdout",
     "output_type": "stream",
     "text": [
      "415276.yaml Johannesburg South Africa\n"
     ]
    },
    {
     "name": "stderr",
     "output_type": "stream",
     "text": [
      "\r",
      " 63%|████████████████████████▋              | 1331/2106 [24:03<13:54,  1.08s/it]"
     ]
    },
    {
     "name": "stdout",
     "output_type": "stream",
     "text": [
      "300488.yaml Harare Sports Club Zimbabwe\n"
     ]
    },
    {
     "name": "stderr",
     "output_type": "stream",
     "text": [
      "\r",
      " 63%|████████████████████████▋              | 1332/2106 [24:04<13:41,  1.06s/it]"
     ]
    },
    {
     "name": "stdout",
     "output_type": "stream",
     "text": [
      "64853.yaml Lahore Pakistan\n"
     ]
    },
    {
     "name": "stderr",
     "output_type": "stream",
     "text": [
      "\r",
      " 63%|████████████████████████▋              | 1333/2106 [24:05<15:30,  1.20s/it]"
     ]
    },
    {
     "name": "stdout",
     "output_type": "stream",
     "text": [
      "401073.yaml Dominica Dominican Republic\n"
     ]
    },
    {
     "name": "stderr",
     "output_type": "stream",
     "text": [
      "\r",
      " 63%|████████████████████████▋              | 1334/2106 [24:06<15:11,  1.18s/it]"
     ]
    },
    {
     "name": "stdout",
     "output_type": "stream",
     "text": [
      "350348.yaml Potchefstroom South Africa\n"
     ]
    },
    {
     "name": "stderr",
     "output_type": "stream",
     "text": [
      "\r",
      " 63%|████████████████████████▋              | 1335/2106 [24:08<14:33,  1.13s/it]"
     ]
    },
    {
     "name": "stdout",
     "output_type": "stream",
     "text": [
      "1312800.yaml Pearland United States\n"
     ]
    },
    {
     "name": "stderr",
     "output_type": "stream",
     "text": [
      "\r",
      " 63%|████████████████████████▋              | 1336/2106 [24:09<14:07,  1.10s/it]"
     ]
    },
    {
     "name": "stdout",
     "output_type": "stream",
     "text": [
      "1169332.yaml Edinburgh United Kingdom\n"
     ]
    },
    {
     "name": "stderr",
     "output_type": "stream",
     "text": [
      "\r",
      " 63%|████████████████████████▊              | 1337/2106 [24:09<13:01,  1.02s/it]"
     ]
    },
    {
     "name": "stdout",
     "output_type": "stream",
     "text": [
      "452148.yaml Bulawayo Zimbabwe\n"
     ]
    },
    {
     "name": "stderr",
     "output_type": "stream",
     "text": [
      "\r",
      " 64%|████████████████████████▊              | 1338/2106 [24:10<13:02,  1.02s/it]"
     ]
    },
    {
     "name": "stdout",
     "output_type": "stream",
     "text": [
      "1026851.yaml Hong Kong China\n"
     ]
    },
    {
     "name": "stderr",
     "output_type": "stream",
     "text": [
      "\r",
      " 64%|████████████████████████▊              | 1339/2106 [24:11<12:47,  1.00s/it]"
     ]
    },
    {
     "name": "stdout",
     "output_type": "stream",
     "text": [
      "456664.yaml Rangiri Dambulla International Stadium None\n"
     ]
    },
    {
     "name": "stderr",
     "output_type": "stream",
     "text": [
      "\r",
      " 64%|████████████████████████▊              | 1340/2106 [24:13<14:17,  1.12s/it]"
     ]
    },
    {
     "name": "stdout",
     "output_type": "stream",
     "text": [
      "323951.yaml Mirpur Pakistan\n"
     ]
    },
    {
     "name": "stderr",
     "output_type": "stream",
     "text": [
      "\r",
      " 64%|████████████████████████▊              | 1341/2106 [24:14<13:54,  1.09s/it]"
     ]
    },
    {
     "name": "stdout",
     "output_type": "stream",
     "text": [
      "535796.yaml Mirpur Pakistan\n"
     ]
    },
    {
     "name": "stderr",
     "output_type": "stream",
     "text": [
      "\r",
      " 64%|████████████████████████▊              | 1342/2106 [24:15<13:38,  1.07s/it]"
     ]
    },
    {
     "name": "stdout",
     "output_type": "stream",
     "text": [
      "1119547.yaml London United Kingdom\n"
     ]
    },
    {
     "name": "stderr",
     "output_type": "stream",
     "text": [
      "\r",
      " 64%|████████████████████████▊              | 1343/2106 [24:16<13:26,  1.06s/it]"
     ]
    },
    {
     "name": "stdout",
     "output_type": "stream",
     "text": [
      "247502.yaml Barbados Barbados\n"
     ]
    },
    {
     "name": "stderr",
     "output_type": "stream",
     "text": [
      "\r",
      " 64%|████████████████████████▉              | 1344/2106 [24:17<13:17,  1.05s/it]"
     ]
    },
    {
     "name": "stdout",
     "output_type": "stream",
     "text": [
      "1312798.yaml Pearland United States\n"
     ]
    },
    {
     "name": "stderr",
     "output_type": "stream",
     "text": [
      "\r",
      " 64%|████████████████████████▉              | 1345/2106 [24:18<13:34,  1.07s/it]"
     ]
    },
    {
     "name": "stdout",
     "output_type": "stream",
     "text": [
      "667645.yaml Auckland New Zealand\n"
     ]
    },
    {
     "name": "stderr",
     "output_type": "stream",
     "text": [
      "\r",
      " 64%|████████████████████████▉              | 1346/2106 [24:19<12:36,  1.01it/s]"
     ]
    },
    {
     "name": "stdout",
     "output_type": "stream",
     "text": [
      "300428.yaml Queenstown Events Centre None\n"
     ]
    },
    {
     "name": "stderr",
     "output_type": "stream",
     "text": [
      "\r",
      " 64%|████████████████████████▉              | 1347/2106 [24:20<14:15,  1.13s/it]"
     ]
    },
    {
     "name": "stdout",
     "output_type": "stream",
     "text": [
      "1168115.yaml Dehra Dun India\n"
     ]
    },
    {
     "name": "stderr",
     "output_type": "stream",
     "text": [
      "\r",
      " 64%|████████████████████████▉              | 1348/2106 [24:21<13:50,  1.10s/it]"
     ]
    },
    {
     "name": "stdout",
     "output_type": "stream",
     "text": [
      "756041.yaml Bulawayo Zimbabwe\n"
     ]
    },
    {
     "name": "stderr",
     "output_type": "stream",
     "text": [
      "\r",
      " 64%|████████████████████████▉              | 1349/2106 [24:22<13:33,  1.07s/it]"
     ]
    },
    {
     "name": "stdout",
     "output_type": "stream",
     "text": [
      "1302626.yaml Dubai United Arab Emirates\n"
     ]
    },
    {
     "name": "stderr",
     "output_type": "stream",
     "text": [
      "\r",
      " 64%|█████████████████████████              | 1350/2106 [24:23<13:20,  1.06s/it]"
     ]
    },
    {
     "name": "stdout",
     "output_type": "stream",
     "text": [
      "656471.yaml Hamilton Canada\n"
     ]
    },
    {
     "name": "stderr",
     "output_type": "stream",
     "text": [
      "\r",
      " 64%|█████████████████████████              | 1351/2106 [24:24<13:11,  1.05s/it]"
     ]
    },
    {
     "name": "stdout",
     "output_type": "stream",
     "text": [
      "297805.yaml Jaipur India\n"
     ]
    },
    {
     "name": "stderr",
     "output_type": "stream",
     "text": [
      "\r",
      " 64%|█████████████████████████              | 1352/2106 [24:25<13:05,  1.04s/it]"
     ]
    },
    {
     "name": "stdout",
     "output_type": "stream",
     "text": [
      "736449.yaml Harare Sports Club Zimbabwe\n"
     ]
    },
    {
     "name": "stderr",
     "output_type": "stream",
     "text": [
      "\r",
      " 64%|█████████████████████████              | 1353/2106 [24:26<13:00,  1.04s/it]"
     ]
    },
    {
     "name": "stdout",
     "output_type": "stream",
     "text": [
      "244511.yaml Abu Dhabi United Arab Emirates\n"
     ]
    },
    {
     "name": "stderr",
     "output_type": "stream",
     "text": [
      "\r",
      " 64%|█████████████████████████              | 1354/2106 [24:28<14:51,  1.19s/it]"
     ]
    },
    {
     "name": "stdout",
     "output_type": "stream",
     "text": [
      "750673.yaml Pallekele International Cricket Stadium Sri Lanka\n"
     ]
    },
    {
     "name": "stderr",
     "output_type": "stream",
     "text": [
      "\r",
      " 64%|█████████████████████████              | 1355/2106 [24:29<14:14,  1.14s/it]"
     ]
    },
    {
     "name": "stdout",
     "output_type": "stream",
     "text": [
      "870735.yaml Mirpur Pakistan\n"
     ]
    },
    {
     "name": "stderr",
     "output_type": "stream",
     "text": [
      "\r",
      " 64%|█████████████████████████              | 1356/2106 [24:30<14:10,  1.13s/it]"
     ]
    },
    {
     "name": "stdout",
     "output_type": "stream",
     "text": [
      "247495.yaml Grenada Grenada\n"
     ]
    },
    {
     "name": "stderr",
     "output_type": "stream",
     "text": [
      "\r",
      " 64%|█████████████████████████▏             | 1357/2106 [24:31<13:12,  1.06s/it]"
     ]
    },
    {
     "name": "stdout",
     "output_type": "stream",
     "text": [
      "64848.yaml Bulawayo Zimbabwe\n"
     ]
    },
    {
     "name": "stderr",
     "output_type": "stream",
     "text": [
      "\r",
      " 64%|█████████████████████████▏             | 1358/2106 [24:32<13:13,  1.06s/it]"
     ]
    },
    {
     "name": "stdout",
     "output_type": "stream",
     "text": [
      "298807.yaml Port Elizabeth South Africa\n"
     ]
    },
    {
     "name": "stderr",
     "output_type": "stream",
     "text": [
      "\r",
      " 65%|█████████████████████████▏             | 1359/2106 [24:33<13:03,  1.05s/it]"
     ]
    },
    {
     "name": "stdout",
     "output_type": "stream",
     "text": [
      "65648.yaml Brisbane Australia\n"
     ]
    },
    {
     "name": "stderr",
     "output_type": "stream",
     "text": [
      "\r",
      " 65%|█████████████████████████▏             | 1360/2106 [24:35<14:51,  1.20s/it]"
     ]
    },
    {
     "name": "stdout",
     "output_type": "stream",
     "text": [
      "895813.yaml Canberra Australia\n"
     ]
    },
    {
     "name": "stderr",
     "output_type": "stream",
     "text": [
      "\r",
      " 65%|█████████████████████████▏             | 1361/2106 [24:36<14:12,  1.14s/it]"
     ]
    },
    {
     "name": "stdout",
     "output_type": "stream",
     "text": [
      "317579.yaml Harare Sports Club Zimbabwe\n"
     ]
    },
    {
     "name": "stderr",
     "output_type": "stream",
     "text": [
      "\r",
      " 65%|█████████████████████████▏             | 1362/2106 [24:37<13:44,  1.11s/it]"
     ]
    },
    {
     "name": "stdout",
     "output_type": "stream",
     "text": [
      "885965.yaml Harare Sports Club Zimbabwe\n"
     ]
    },
    {
     "name": "stderr",
     "output_type": "stream",
     "text": [
      "\r",
      " 65%|█████████████████████████▏             | 1363/2106 [24:38<13:01,  1.05s/it]"
     ]
    },
    {
     "name": "stdout",
     "output_type": "stream",
     "text": [
      "1153694.yaml Hamilton Canada\n"
     ]
    },
    {
     "name": "stderr",
     "output_type": "stream",
     "text": [
      "\r",
      " 65%|█████████████████████████▎             | 1364/2106 [24:39<12:54,  1.04s/it]"
     ]
    },
    {
     "name": "stdout",
     "output_type": "stream",
     "text": [
      "464529.yaml Visakhapatnam India\n"
     ]
    },
    {
     "name": "stderr",
     "output_type": "stream",
     "text": [
      "\r",
      " 65%|█████████████████████████▎             | 1365/2106 [24:40<12:48,  1.04s/it]"
     ]
    },
    {
     "name": "stdout",
     "output_type": "stream",
     "text": [
      "406202.yaml Brisbane Australia\n"
     ]
    },
    {
     "name": "stderr",
     "output_type": "stream",
     "text": [
      "\r",
      " 65%|█████████████████████████▎             | 1366/2106 [24:41<12:44,  1.03s/it]"
     ]
    },
    {
     "name": "stdout",
     "output_type": "stream",
     "text": [
      "1133023.yaml Harare Zimbabwe\n"
     ]
    },
    {
     "name": "stderr",
     "output_type": "stream",
     "text": [
      "\r",
      " 65%|█████████████████████████▎             | 1367/2106 [24:42<14:35,  1.18s/it]"
     ]
    },
    {
     "name": "stdout",
     "output_type": "stream",
     "text": [
      "730087.yaml Hambantota Sri Lanka\n"
     ]
    },
    {
     "name": "stderr",
     "output_type": "stream",
     "text": [
      "\r",
      " 65%|█████████████████████████▎             | 1368/2106 [24:43<13:58,  1.14s/it]"
     ]
    },
    {
     "name": "stdout",
     "output_type": "stream",
     "text": [
      "1276296.yaml Al Amarat Oman\n"
     ]
    },
    {
     "name": "stderr",
     "output_type": "stream",
     "text": [
      "\r",
      " 65%|█████████████████████████▎             | 1369/2106 [24:44<13:32,  1.10s/it]"
     ]
    },
    {
     "name": "stdout",
     "output_type": "stream",
     "text": [
      "656403.yaml Hamilton Canada\n"
     ]
    },
    {
     "name": "stderr",
     "output_type": "stream",
     "text": [
      "\r",
      " 65%|█████████████████████████▎             | 1370/2106 [24:45<13:36,  1.11s/it]"
     ]
    },
    {
     "name": "stdout",
     "output_type": "stream",
     "text": [
      "534232.yaml Nottingham United Kingdom\n"
     ]
    },
    {
     "name": "stderr",
     "output_type": "stream",
     "text": [
      "\r",
      " 65%|█████████████████████████▍             | 1371/2106 [24:46<12:31,  1.02s/it]"
     ]
    },
    {
     "name": "stdout",
     "output_type": "stream",
     "text": [
      "514025.yaml Centurion South Africa\n"
     ]
    },
    {
     "name": "stderr",
     "output_type": "stream",
     "text": [
      "\r",
      " 65%|█████████████████████████▍             | 1372/2106 [24:47<12:30,  1.02s/it]"
     ]
    },
    {
     "name": "stdout",
     "output_type": "stream",
     "text": [
      "1030223.yaml Chandigarh India\n"
     ]
    },
    {
     "name": "stderr",
     "output_type": "stream",
     "text": [
      "\r",
      " 65%|█████████████████████████▍             | 1373/2106 [24:48<12:29,  1.02s/it]"
     ]
    },
    {
     "name": "stdout",
     "output_type": "stream",
     "text": [
      "1317911.yaml Bridgetown Barbados\n"
     ]
    },
    {
     "name": "stderr",
     "output_type": "stream",
     "text": [
      "\r",
      " 65%|█████████████████████████▍             | 1374/2106 [24:50<13:58,  1.15s/it]"
     ]
    },
    {
     "name": "stdout",
     "output_type": "stream",
     "text": [
      "291347.yaml Hobart Australia\n"
     ]
    },
    {
     "name": "stderr",
     "output_type": "stream",
     "text": [
      "\r",
      " 65%|█████████████████████████▍             | 1375/2106 [24:51<13:31,  1.11s/it]"
     ]
    },
    {
     "name": "stdout",
     "output_type": "stream",
     "text": [
      "1206060.yaml Sharjah United Arab Emirates\n"
     ]
    },
    {
     "name": "stderr",
     "output_type": "stream",
     "text": [
      "\r",
      " 65%|█████████████████████████▍             | 1376/2106 [24:52<13:11,  1.08s/it]"
     ]
    },
    {
     "name": "stdout",
     "output_type": "stream",
     "text": [
      "351686.yaml Sydney Cricket Ground Australia\n"
     ]
    },
    {
     "name": "stderr",
     "output_type": "stream",
     "text": [
      "\r",
      " 65%|█████████████████████████▌             | 1377/2106 [24:53<12:57,  1.07s/it]"
     ]
    },
    {
     "name": "stdout",
     "output_type": "stream",
     "text": [
      "1079247.yaml Harare Sports Club Zimbabwe\n"
     ]
    },
    {
     "name": "stderr",
     "output_type": "stream",
     "text": [
      "\r",
      " 65%|█████████████████████████▌             | 1378/2106 [24:54<12:46,  1.05s/it]"
     ]
    },
    {
     "name": "stdout",
     "output_type": "stream",
     "text": [
      "1299587.yaml Al Amarat Oman\n"
     ]
    },
    {
     "name": "stderr",
     "output_type": "stream",
     "text": [
      "\r",
      " 65%|█████████████████████████▌             | 1379/2106 [24:55<12:39,  1.04s/it]"
     ]
    },
    {
     "name": "stdout",
     "output_type": "stream",
     "text": [
      "534229.yaml Southampton United Kingdom\n"
     ]
    },
    {
     "name": "stderr",
     "output_type": "stream",
     "text": [
      "\r",
      " 66%|█████████████████████████▌             | 1380/2106 [24:56<12:33,  1.04s/it]"
     ]
    },
    {
     "name": "stdout",
     "output_type": "stream",
     "text": [
      "914233.yaml Wellington New Zealand\n"
     ]
    },
    {
     "name": "stderr",
     "output_type": "stream",
     "text": [
      "\r",
      " 66%|█████████████████████████▌             | 1381/2106 [24:57<14:21,  1.19s/it]"
     ]
    },
    {
     "name": "stdout",
     "output_type": "stream",
     "text": [
      "335351.yaml Karachi Pakistan\n"
     ]
    },
    {
     "name": "stderr",
     "output_type": "stream",
     "text": [
      "\r",
      " 66%|█████████████████████████▌             | 1382/2106 [24:58<13:44,  1.14s/it]"
     ]
    },
    {
     "name": "stdout",
     "output_type": "stream",
     "text": [
      "298809.yaml Johannesburg South Africa\n"
     ]
    },
    {
     "name": "stderr",
     "output_type": "stream",
     "text": [
      "\r",
      " 66%|█████████████████████████▌             | 1383/2106 [24:59<13:40,  1.14s/it]"
     ]
    },
    {
     "name": "stdout",
     "output_type": "stream",
     "text": [
      "264068.yaml Bogra Bangladesh\n"
     ]
    },
    {
     "name": "stderr",
     "output_type": "stream",
     "text": [
      "\r",
      " 66%|█████████████████████████▋             | 1384/2106 [25:00<13:15,  1.10s/it]"
     ]
    },
    {
     "name": "stdout",
     "output_type": "stream",
     "text": [
      "645637.yaml Guyana Guyana\n"
     ]
    },
    {
     "name": "stderr",
     "output_type": "stream",
     "text": [
      "\r",
      " 66%|█████████████████████████▋             | 1385/2106 [25:01<12:58,  1.08s/it]"
     ]
    },
    {
     "name": "stdout",
     "output_type": "stream",
     "text": [
      "1119546.yaml Nottingham United Kingdom\n"
     ]
    },
    {
     "name": "stderr",
     "output_type": "stream",
     "text": [
      "\r",
      " 66%|█████████████████████████▋             | 1386/2106 [25:03<12:44,  1.06s/it]"
     ]
    },
    {
     "name": "stdout",
     "output_type": "stream",
     "text": [
      "386532.yaml Colombo Sri Lanka\n"
     ]
    },
    {
     "name": "stderr",
     "output_type": "stream",
     "text": [
      "\r",
      " 66%|█████████████████████████▋             | 1387/2106 [25:04<12:35,  1.05s/it]"
     ]
    },
    {
     "name": "stdout",
     "output_type": "stream",
     "text": [
      "225248.yaml Nottingham United Kingdom\n"
     ]
    },
    {
     "name": "stderr",
     "output_type": "stream",
     "text": [
      "\r",
      " 66%|█████████████████████████▋             | 1388/2106 [25:05<14:18,  1.20s/it]"
     ]
    },
    {
     "name": "stdout",
     "output_type": "stream",
     "text": [
      "885967.yaml Harare Sports Club Zimbabwe\n"
     ]
    },
    {
     "name": "stderr",
     "output_type": "stream",
     "text": [
      "\r",
      " 66%|█████████████████████████▋             | 1389/2106 [25:06<14:02,  1.18s/it]"
     ]
    },
    {
     "name": "stdout",
     "output_type": "stream",
     "text": [
      "64900.yaml Harare Zimbabwe\n"
     ]
    },
    {
     "name": "stderr",
     "output_type": "stream",
     "text": [
      "\r",
      " 66%|█████████████████████████▋             | 1390/2106 [25:07<13:28,  1.13s/it]"
     ]
    },
    {
     "name": "stdout",
     "output_type": "stream",
     "text": [
      "540172.yaml St Lucia Saint Lucia\n"
     ]
    },
    {
     "name": "stderr",
     "output_type": "stream",
     "text": [
      "\r",
      " 66%|█████████████████████████▊             | 1391/2106 [25:08<12:42,  1.07s/it]"
     ]
    },
    {
     "name": "stdout",
     "output_type": "stream",
     "text": [
      "668965.yaml Rangiri Dambulla International Stadium None\n"
     ]
    },
    {
     "name": "stderr",
     "output_type": "stream",
     "text": [
      "\r",
      " 66%|█████████████████████████▊             | 1392/2106 [25:09<12:11,  1.02s/it]"
     ]
    },
    {
     "name": "stdout",
     "output_type": "stream",
     "text": [
      "518958.yaml Perth Australia\n"
     ]
    },
    {
     "name": "stderr",
     "output_type": "stream",
     "text": [
      "\r",
      " 66%|█████████████████████████▊             | 1393/2106 [25:10<12:09,  1.02s/it]"
     ]
    },
    {
     "name": "stdout",
     "output_type": "stream",
     "text": [
      "433590.yaml Chittagong Bangladesh\n"
     ]
    },
    {
     "name": "stderr",
     "output_type": "stream",
     "text": [
      "\r",
      " 66%|█████████████████████████▊             | 1394/2106 [25:11<12:08,  1.02s/it]"
     ]
    },
    {
     "name": "stdout",
     "output_type": "stream",
     "text": [
      "1252069.yaml North Sound United Kingdom\n"
     ]
    },
    {
     "name": "stderr",
     "output_type": "stream",
     "text": [
      "\r",
      " 66%|█████████████████████████▊             | 1395/2106 [25:13<13:35,  1.15s/it]"
     ]
    },
    {
     "name": "stdout",
     "output_type": "stream",
     "text": [
      "64862.yaml Cape Town South Africa\n"
     ]
    },
    {
     "name": "stderr",
     "output_type": "stream",
     "text": [
      "\r",
      " 66%|█████████████████████████▊             | 1396/2106 [25:14<13:08,  1.11s/it]"
     ]
    },
    {
     "name": "stdout",
     "output_type": "stream",
     "text": [
      "291345.yaml Adelaide Oval Australia\n"
     ]
    },
    {
     "name": "stderr",
     "output_type": "stream",
     "text": [
      "\r",
      " 66%|█████████████████████████▊             | 1397/2106 [25:15<13:10,  1.11s/it]"
     ]
    },
    {
     "name": "stdout",
     "output_type": "stream",
     "text": [
      "602474.yaml Hambantota Sri Lanka\n"
     ]
    },
    {
     "name": "stderr",
     "output_type": "stream",
     "text": [
      "\r",
      " 66%|█████████████████████████▉             | 1398/2106 [25:16<12:49,  1.09s/it]"
     ]
    },
    {
     "name": "stdout",
     "output_type": "stream",
     "text": [
      "656423.yaml Melbourne Cricket Ground Australia\n"
     ]
    },
    {
     "name": "stderr",
     "output_type": "stream",
     "text": [
      "\r",
      " 66%|█████████████████████████▉             | 1399/2106 [25:17<12:35,  1.07s/it]"
     ]
    },
    {
     "name": "stdout",
     "output_type": "stream",
     "text": [
      "455237.yaml Rangiri Dambulla International Stadium None\n"
     ]
    },
    {
     "name": "stderr",
     "output_type": "stream",
     "text": [
      "\r",
      " 66%|█████████████████████████▉             | 1400/2106 [25:18<12:25,  1.06s/it]"
     ]
    },
    {
     "name": "stdout",
     "output_type": "stream",
     "text": [
      "1153693.yaml Mount Maunganui New Zealand\n"
     ]
    },
    {
     "name": "stderr",
     "output_type": "stream",
     "text": [
      "\r",
      " 67%|█████████████████████████▉             | 1401/2106 [25:19<14:05,  1.20s/it]"
     ]
    },
    {
     "name": "stdout",
     "output_type": "stream",
     "text": [
      "1322039.yaml Aberdeen United Kingdom\n"
     ]
    },
    {
     "name": "stderr",
     "output_type": "stream",
     "text": [
      "\r",
      " 67%|█████████████████████████▉             | 1402/2106 [25:20<13:48,  1.18s/it]"
     ]
    },
    {
     "name": "stdout",
     "output_type": "stream",
     "text": [
      "647261.yaml Bangalore India\n"
     ]
    },
    {
     "name": "stderr",
     "output_type": "stream",
     "text": [
      "\r",
      " 67%|█████████████████████████▉             | 1403/2106 [25:21<13:15,  1.13s/it]"
     ]
    },
    {
     "name": "stdout",
     "output_type": "stream",
     "text": [
      "1312805.yaml Pearland United States\n"
     ]
    },
    {
     "name": "stderr",
     "output_type": "stream",
     "text": [
      "\r",
      " 67%|██████████████████████████             | 1404/2106 [25:22<12:51,  1.10s/it]"
     ]
    },
    {
     "name": "stdout",
     "output_type": "stream",
     "text": [
      "1079246.yaml Harare Sports Club Zimbabwe\n"
     ]
    },
    {
     "name": "stderr",
     "output_type": "stream",
     "text": [
      "\r",
      " 67%|██████████████████████████             | 1405/2106 [25:23<11:54,  1.02s/it]"
     ]
    },
    {
     "name": "stdout",
     "output_type": "stream",
     "text": [
      "1214669.yaml Sylhet Bangladesh\n"
     ]
    },
    {
     "name": "stderr",
     "output_type": "stream",
     "text": [
      "\r",
      " 67%|██████████████████████████             | 1406/2106 [25:24<11:29,  1.01it/s]"
     ]
    },
    {
     "name": "stdout",
     "output_type": "stream",
     "text": [
      "375457.yaml Harare Sports Club Zimbabwe\n"
     ]
    },
    {
     "name": "stderr",
     "output_type": "stream",
     "text": [
      "\r",
      " 67%|██████████████████████████             | 1407/2106 [25:25<11:37,  1.00it/s]"
     ]
    },
    {
     "name": "stdout",
     "output_type": "stream",
     "text": [
      "433573.yaml Chandigarh India\n"
     ]
    },
    {
     "name": "stderr",
     "output_type": "stream",
     "text": [
      "\r",
      " 67%|██████████████████████████             | 1408/2106 [25:26<11:41,  1.01s/it]"
     ]
    },
    {
     "name": "stdout",
     "output_type": "stream",
     "text": [
      "722347.yaml Centurion South Africa\n"
     ]
    },
    {
     "name": "stderr",
     "output_type": "stream",
     "text": [
      "\r",
      " 67%|██████████████████████████             | 1409/2106 [25:28<13:31,  1.16s/it]"
     ]
    },
    {
     "name": "stdout",
     "output_type": "stream",
     "text": [
      "1080630.yaml Dubai United Arab Emirates\n"
     ]
    },
    {
     "name": "stderr",
     "output_type": "stream",
     "text": [
      "\r",
      " 67%|██████████████████████████             | 1410/2106 [25:29<13:22,  1.15s/it]"
     ]
    },
    {
     "name": "stdout",
     "output_type": "stream",
     "text": [
      "476596.yaml Mirpur Pakistan\n"
     ]
    },
    {
     "name": "stderr",
     "output_type": "stream",
     "text": [
      "\r",
      " 67%|██████████████████████████▏            | 1411/2106 [25:30<12:33,  1.08s/it]"
     ]
    },
    {
     "name": "stdout",
     "output_type": "stream",
     "text": [
      "224556.yaml Rajkot India\n"
     ]
    },
    {
     "name": "stderr",
     "output_type": "stream",
     "text": [
      "\r",
      " 67%|██████████████████████████▏            | 1412/2106 [25:31<13:02,  1.13s/it]"
     ]
    },
    {
     "name": "stdout",
     "output_type": "stream",
     "text": [
      "403371.yaml Rangiri Dambulla International Stadium None\n"
     ]
    },
    {
     "name": "stderr",
     "output_type": "stream",
     "text": [
      "\r",
      " 67%|██████████████████████████▏            | 1413/2106 [25:32<13:00,  1.13s/it]"
     ]
    },
    {
     "name": "stdout",
     "output_type": "stream",
     "text": [
      "247475.yaml St Lucia Saint Lucia\n"
     ]
    },
    {
     "name": "stderr",
     "output_type": "stream",
     "text": [
      "\r",
      " 67%|██████████████████████████▏            | 1414/2106 [25:33<12:38,  1.10s/it]"
     ]
    },
    {
     "name": "stdout",
     "output_type": "stream",
     "text": [
      "521220.yaml Chandigarh India\n"
     ]
    },
    {
     "name": "stderr",
     "output_type": "stream",
     "text": [
      "\r",
      " 67%|██████████████████████████▏            | 1415/2106 [25:34<12:22,  1.07s/it]"
     ]
    },
    {
     "name": "stdout",
     "output_type": "stream",
     "text": [
      "661693.yaml Hamilton Canada\n"
     ]
    },
    {
     "name": "stderr",
     "output_type": "stream",
     "text": [
      "\r",
      " 67%|██████████████████████████▏            | 1416/2106 [25:36<13:35,  1.18s/it]"
     ]
    },
    {
     "name": "stdout",
     "output_type": "stream",
     "text": [
      "656417.yaml Christchurch New Zealand\n"
     ]
    },
    {
     "name": "stderr",
     "output_type": "stream",
     "text": [
      "\r",
      " 67%|██████████████████████████▏            | 1417/2106 [25:37<13:01,  1.13s/it]"
     ]
    },
    {
     "name": "stdout",
     "output_type": "stream",
     "text": [
      "1133015.yaml Harare Zimbabwe\n"
     ]
    },
    {
     "name": "stderr",
     "output_type": "stream",
     "text": [
      "\r",
      " 67%|██████████████████████████▎            | 1418/2106 [25:38<12:37,  1.10s/it]"
     ]
    },
    {
     "name": "stdout",
     "output_type": "stream",
     "text": [
      "1153248.yaml Abu Dhabi United Arab Emirates\n"
     ]
    },
    {
     "name": "stderr",
     "output_type": "stream",
     "text": [
      "\r",
      " 67%|██████████████████████████▎            | 1419/2106 [25:39<12:20,  1.08s/it]"
     ]
    },
    {
     "name": "stdout",
     "output_type": "stream",
     "text": [
      "676533.yaml Kanpur India\n"
     ]
    },
    {
     "name": "stderr",
     "output_type": "stream",
     "text": [
      "\r",
      " 67%|██████████████████████████▎            | 1420/2106 [25:40<12:08,  1.06s/it]"
     ]
    },
    {
     "name": "stdout",
     "output_type": "stream",
     "text": [
      "486520.yaml Mirpur Pakistan\n"
     ]
    },
    {
     "name": "stderr",
     "output_type": "stream",
     "text": [
      "\r",
      " 67%|██████████████████████████▎            | 1421/2106 [25:41<11:59,  1.05s/it]"
     ]
    },
    {
     "name": "stdout",
     "output_type": "stream",
     "text": [
      "473925.yaml Christchurch New Zealand\n"
     ]
    },
    {
     "name": "stderr",
     "output_type": "stream",
     "text": [
      "\r",
      " 68%|██████████████████████████▎            | 1422/2106 [25:42<10:49,  1.05it/s]"
     ]
    },
    {
     "name": "stdout",
     "output_type": "stream",
     "text": [
      "1215127.yaml Kirtipur Nepal\n"
     ]
    },
    {
     "name": "stderr",
     "output_type": "stream",
     "text": [
      "\r",
      " 68%|██████████████████████████▎            | 1423/2106 [25:43<11:04,  1.03it/s]"
     ]
    },
    {
     "name": "stdout",
     "output_type": "stream",
     "text": [
      "226364.yaml Auckland New Zealand\n"
     ]
    },
    {
     "name": "stderr",
     "output_type": "stream",
     "text": [
      "\r",
      " 68%|██████████████████████████▎            | 1424/2106 [25:44<12:58,  1.14s/it]"
     ]
    },
    {
     "name": "stdout",
     "output_type": "stream",
     "text": [
      "426430.yaml London United Kingdom\n"
     ]
    },
    {
     "name": "stderr",
     "output_type": "stream",
     "text": [
      "\r",
      " 68%|██████████████████████████▍            | 1425/2106 [25:45<12:54,  1.14s/it]"
     ]
    },
    {
     "name": "stdout",
     "output_type": "stream",
     "text": [
      "209582.yaml St Vincent Italy\n"
     ]
    },
    {
     "name": "stderr",
     "output_type": "stream",
     "text": [
      "\r",
      " 68%|██████████████████████████▍            | 1426/2106 [25:46<12:30,  1.10s/it]"
     ]
    },
    {
     "name": "stdout",
     "output_type": "stream",
     "text": [
      "446966.yaml Brisbane Australia\n"
     ]
    },
    {
     "name": "stderr",
     "output_type": "stream",
     "text": [
      "\r",
      " 68%|██████████████████████████▍            | 1427/2106 [25:47<12:12,  1.08s/it]"
     ]
    },
    {
     "name": "stdout",
     "output_type": "stream",
     "text": [
      "1215123.yaml Kirtipur Nepal\n"
     ]
    },
    {
     "name": "stderr",
     "output_type": "stream",
     "text": [
      "\r",
      " 68%|██████████████████████████▍            | 1428/2106 [25:48<12:00,  1.06s/it]"
     ]
    },
    {
     "name": "stdout",
     "output_type": "stream",
     "text": [
      "225437.yaml Vadodara India\n"
     ]
    },
    {
     "name": "stderr",
     "output_type": "stream",
     "text": [
      "\r",
      " 68%|██████████████████████████▍            | 1429/2106 [25:49<11:51,  1.05s/it]"
     ]
    },
    {
     "name": "stdout",
     "output_type": "stream",
     "text": [
      "298796.yaml Durban South Africa\n"
     ]
    },
    {
     "name": "stderr",
     "output_type": "stream",
     "text": [
      "\r",
      " 68%|██████████████████████████▍            | 1430/2106 [25:51<13:28,  1.20s/it]"
     ]
    },
    {
     "name": "stdout",
     "output_type": "stream",
     "text": [
      "1312804.yaml Pearland United States\n"
     ]
    },
    {
     "name": "stderr",
     "output_type": "stream",
     "text": [
      "\r",
      " 68%|██████████████████████████▌            | 1431/2106 [25:52<12:52,  1.14s/it]"
     ]
    },
    {
     "name": "stdout",
     "output_type": "stream",
     "text": [
      "564784.yaml Colombo Sri Lanka\n"
     ]
    },
    {
     "name": "stderr",
     "output_type": "stream",
     "text": [
      "\r",
      " 68%|██████████████████████████▌            | 1432/2106 [25:53<12:06,  1.08s/it]"
     ]
    },
    {
     "name": "stdout",
     "output_type": "stream",
     "text": [
      "237574.yaml Bogra Bangladesh\n"
     ]
    },
    {
     "name": "stderr",
     "output_type": "stream",
     "text": [
      "\r",
      " 68%|██████████████████████████▌            | 1433/2106 [25:54<11:39,  1.04s/it]"
     ]
    },
    {
     "name": "stdout",
     "output_type": "stream",
     "text": [
      "527014.yaml Harare Sports Club Zimbabwe\n"
     ]
    },
    {
     "name": "stderr",
     "output_type": "stream",
     "text": [
      "\r",
      " 68%|██████████████████████████▌            | 1434/2106 [25:55<11:29,  1.03s/it]"
     ]
    },
    {
     "name": "stdout",
     "output_type": "stream",
     "text": [
      "522249.yaml Bulawayo Zimbabwe\n"
     ]
    },
    {
     "name": "stderr",
     "output_type": "stream",
     "text": [
      "\r",
      " 68%|██████████████████████████▌            | 1435/2106 [25:56<11:28,  1.03s/it]"
     ]
    },
    {
     "name": "stdout",
     "output_type": "stream",
     "text": [
      "1307298.yaml Colombo Sri Lanka\n"
     ]
    },
    {
     "name": "stderr",
     "output_type": "stream",
     "text": [
      "\r",
      " 68%|██████████████████████████▌            | 1436/2106 [25:57<11:06,  1.01it/s]"
     ]
    },
    {
     "name": "stdout",
     "output_type": "stream",
     "text": [
      "1133005.yaml Bulawayo Athletic Club None\n"
     ]
    },
    {
     "name": "stderr",
     "output_type": "stream",
     "text": [
      "\r",
      " 68%|██████████████████████████▌            | 1437/2106 [25:58<10:50,  1.03it/s]"
     ]
    },
    {
     "name": "stdout",
     "output_type": "stream",
     "text": [
      "932851.yaml Guyana Guyana\n"
     ]
    },
    {
     "name": "stderr",
     "output_type": "stream",
     "text": [
      "\r",
      " 68%|██████████████████████████▋            | 1438/2106 [25:59<12:42,  1.14s/it]"
     ]
    },
    {
     "name": "stdout",
     "output_type": "stream",
     "text": [
      "434260.yaml Mirpur Pakistan\n"
     ]
    },
    {
     "name": "stderr",
     "output_type": "stream",
     "text": [
      "\r",
      " 68%|██████████████████████████▋            | 1439/2106 [26:00<12:38,  1.14s/it]"
     ]
    },
    {
     "name": "stdout",
     "output_type": "stream",
     "text": [
      "566945.yaml Southampton United Kingdom\n"
     ]
    },
    {
     "name": "stderr",
     "output_type": "stream",
     "text": [
      "\r",
      " 68%|██████████████████████████▋            | 1440/2106 [26:01<12:14,  1.10s/it]"
     ]
    },
    {
     "name": "stdout",
     "output_type": "stream",
     "text": [
      "291371.yaml Sydney Cricket Ground Australia\n"
     ]
    },
    {
     "name": "stderr",
     "output_type": "stream",
     "text": [
      "\r",
      " 68%|██████████████████████████▋            | 1441/2106 [26:02<11:57,  1.08s/it]"
     ]
    },
    {
     "name": "stdout",
     "output_type": "stream",
     "text": [
      "1079250.yaml Harare Sports Club Zimbabwe\n"
     ]
    },
    {
     "name": "stderr",
     "output_type": "stream",
     "text": [
      "\r",
      " 68%|██████████████████████████▋            | 1442/2106 [26:03<11:04,  1.00s/it]"
     ]
    },
    {
     "name": "stdout",
     "output_type": "stream",
     "text": [
      "247485.yaml Antigua Antigua and Barbuda\n"
     ]
    },
    {
     "name": "stderr",
     "output_type": "stream",
     "text": [
      "\r",
      " 69%|██████████████████████████▋            | 1443/2106 [26:04<11:08,  1.01s/it]"
     ]
    },
    {
     "name": "stdout",
     "output_type": "stream",
     "text": [
      "1153840.yaml Mount Maunganui New Zealand\n"
     ]
    },
    {
     "name": "stderr",
     "output_type": "stream",
     "text": [
      "\r",
      " 69%|██████████████████████████▋            | 1444/2106 [26:05<11:10,  1.01s/it]"
     ]
    },
    {
     "name": "stdout",
     "output_type": "stream",
     "text": [
      "1022363.yaml Cardiff United Kingdom\n"
     ]
    },
    {
     "name": "stderr",
     "output_type": "stream",
     "text": [
      "\r",
      " 69%|██████████████████████████▊            | 1445/2106 [26:07<12:53,  1.17s/it]"
     ]
    },
    {
     "name": "stdout",
     "output_type": "stream",
     "text": [
      "919609.yaml Harare Sports Club Zimbabwe\n"
     ]
    },
    {
     "name": "stderr",
     "output_type": "stream",
     "text": [
      "\r",
      " 69%|██████████████████████████▊            | 1446/2106 [26:08<12:43,  1.16s/it]"
     ]
    },
    {
     "name": "stdout",
     "output_type": "stream",
     "text": [
      "1174238.yaml Sharjah United Arab Emirates\n"
     ]
    },
    {
     "name": "stderr",
     "output_type": "stream",
     "text": [
      "\r",
      " 69%|██████████████████████████▊            | 1447/2106 [26:09<11:55,  1.09s/it]"
     ]
    },
    {
     "name": "stdout",
     "output_type": "stream",
     "text": [
      "433597.yaml Mirpur Pakistan\n"
     ]
    },
    {
     "name": "stderr",
     "output_type": "stream",
     "text": [
      "\r",
      " 69%|██████████████████████████▊            | 1448/2106 [26:10<11:01,  1.01s/it]"
     ]
    },
    {
     "name": "stdout",
     "output_type": "stream",
     "text": [
      "1272380.yaml Belfast United Kingdom\n"
     ]
    },
    {
     "name": "stderr",
     "output_type": "stream",
     "text": [
      "\r",
      " 69%|██████████████████████████▊            | 1449/2106 [26:11<11:04,  1.01s/it]"
     ]
    },
    {
     "name": "stdout",
     "output_type": "stream",
     "text": [
      "1243394.yaml Pune India\n"
     ]
    },
    {
     "name": "stderr",
     "output_type": "stream",
     "text": [
      "\r",
      " 69%|██████████████████████████▊            | 1450/2106 [26:12<11:06,  1.02s/it]"
     ]
    },
    {
     "name": "stdout",
     "output_type": "stream",
     "text": [
      "656425.yaml Christchurch New Zealand\n"
     ]
    },
    {
     "name": "stderr",
     "output_type": "stream",
     "text": [
      "\r",
      " 69%|██████████████████████████▊            | 1451/2106 [26:13<11:06,  1.02s/it]"
     ]
    },
    {
     "name": "stdout",
     "output_type": "stream",
     "text": [
      "1244015.yaml Abu Dhabi United Arab Emirates\n"
     ]
    },
    {
     "name": "stderr",
     "output_type": "stream",
     "text": [
      "\r",
      " 69%|██████████████████████████▉            | 1452/2106 [26:14<11:06,  1.02s/it]"
     ]
    },
    {
     "name": "stdout",
     "output_type": "stream",
     "text": [
      "256614.yaml Kuala Lumpur Malaysia\n"
     ]
    },
    {
     "name": "stderr",
     "output_type": "stream",
     "text": [
      "\r",
      " 69%|██████████████████████████▉            | 1453/2106 [26:15<12:26,  1.14s/it]"
     ]
    },
    {
     "name": "stdout",
     "output_type": "stream",
     "text": [
      "1119539.yaml Nottingham United Kingdom\n"
     ]
    },
    {
     "name": "stderr",
     "output_type": "stream",
     "text": [
      "\r",
      " 69%|██████████████████████████▉            | 1454/2106 [26:16<12:22,  1.14s/it]"
     ]
    },
    {
     "name": "stdout",
     "output_type": "stream",
     "text": [
      "392616.yaml Dubai Sports City Cricket Stadium United Arab Emirates\n"
     ]
    },
    {
     "name": "stderr",
     "output_type": "stream",
     "text": [
      "\r",
      " 69%|██████████████████████████▉            | 1455/2106 [26:17<11:58,  1.10s/it]"
     ]
    },
    {
     "name": "stdout",
     "output_type": "stream",
     "text": [
      "247458.yaml St Kitts Saint Kitts and Nevis\n"
     ]
    },
    {
     "name": "stderr",
     "output_type": "stream",
     "text": [
      "\r",
      " 69%|██████████████████████████▉            | 1456/2106 [26:18<11:42,  1.08s/it]"
     ]
    },
    {
     "name": "stdout",
     "output_type": "stream",
     "text": [
      "540168.yaml St Vincent Italy\n"
     ]
    },
    {
     "name": "stderr",
     "output_type": "stream",
     "text": [
      "\r",
      " 69%|██████████████████████████▉            | 1457/2106 [26:19<11:30,  1.06s/it]"
     ]
    },
    {
     "name": "stdout",
     "output_type": "stream",
     "text": [
      "1317481.yaml Cairns Australia\n"
     ]
    },
    {
     "name": "stderr",
     "output_type": "stream",
     "text": [
      "\r",
      " 69%|███████████████████████████            | 1458/2106 [26:20<11:21,  1.05s/it]"
     ]
    },
    {
     "name": "stdout",
     "output_type": "stream",
     "text": [
      "433599.yaml Chennai India\n"
     ]
    },
    {
     "name": "stderr",
     "output_type": "stream",
     "text": [
      "\r",
      " 69%|███████████████████████████            | 1459/2106 [26:21<11:15,  1.04s/it]"
     ]
    },
    {
     "name": "stdout",
     "output_type": "stream",
     "text": [
      "1322041.yaml Aberdeen United Kingdom\n"
     ]
    },
    {
     "name": "stderr",
     "output_type": "stream",
     "text": [
      "\r",
      " 69%|███████████████████████████            | 1460/2106 [26:23<12:49,  1.19s/it]"
     ]
    },
    {
     "name": "stdout",
     "output_type": "stream",
     "text": [
      "1157755.yaml Visakhapatnam India\n"
     ]
    },
    {
     "name": "stderr",
     "output_type": "stream",
     "text": [
      "\r",
      " 69%|███████████████████████████            | 1461/2106 [26:24<12:15,  1.14s/it]"
     ]
    },
    {
     "name": "stdout",
     "output_type": "stream",
     "text": [
      "1133009.yaml Bulawayo Athletic Club None\n"
     ]
    },
    {
     "name": "stderr",
     "output_type": "stream",
     "text": [
      "\r",
      " 69%|███████████████████████████            | 1462/2106 [26:25<11:52,  1.11s/it]"
     ]
    },
    {
     "name": "stdout",
     "output_type": "stream",
     "text": [
      "1144526.yaml Leeds United Kingdom\n"
     ]
    },
    {
     "name": "stderr",
     "output_type": "stream",
     "text": [
      "\r",
      " 69%|███████████████████████████            | 1463/2106 [26:26<11:35,  1.08s/it]"
     ]
    },
    {
     "name": "stdout",
     "output_type": "stream",
     "text": [
      "430887.yaml Nagpur India\n"
     ]
    },
    {
     "name": "stderr",
     "output_type": "stream",
     "text": [
      "\r",
      " 70%|███████████████████████████            | 1464/2106 [26:27<11:14,  1.05s/it]"
     ]
    },
    {
     "name": "stdout",
     "output_type": "stream",
     "text": [
      "696731.yaml Christchurch New Zealand\n"
     ]
    },
    {
     "name": "stderr",
     "output_type": "stream",
     "text": [
      "\r",
      " 70%|███████████████████████████▏           | 1465/2106 [26:28<11:16,  1.06s/it]"
     ]
    },
    {
     "name": "stdout",
     "output_type": "stream",
     "text": [
      "566923.yaml London United Kingdom\n"
     ]
    },
    {
     "name": "stderr",
     "output_type": "stream",
     "text": [
      "\r",
      " 70%|███████████████████████████▏           | 1466/2106 [26:29<11:09,  1.05s/it]"
     ]
    },
    {
     "name": "stdout",
     "output_type": "stream",
     "text": [
      "1312801.yaml Pearland United States\n"
     ]
    },
    {
     "name": "stderr",
     "output_type": "stream",
     "text": [
      "\r",
      " 70%|███████████████████████████▏           | 1467/2106 [26:31<12:42,  1.19s/it]"
     ]
    },
    {
     "name": "stdout",
     "output_type": "stream",
     "text": [
      "587471.yaml Khulna Bangladesh\n"
     ]
    },
    {
     "name": "stderr",
     "output_type": "stream",
     "text": [
      "\r",
      " 70%|███████████████████████████▏           | 1468/2106 [26:32<12:08,  1.14s/it]"
     ]
    },
    {
     "name": "stdout",
     "output_type": "stream",
     "text": [
      "1059716.yaml Bulawayo Zimbabwe\n"
     ]
    },
    {
     "name": "stderr",
     "output_type": "stream",
     "text": [
      "\r",
      " 70%|███████████████████████████▏           | 1469/2106 [26:33<11:45,  1.11s/it]"
     ]
    },
    {
     "name": "stdout",
     "output_type": "stream",
     "text": [
      "247487.yaml Antigua Antigua and Barbuda\n"
     ]
    },
    {
     "name": "stderr",
     "output_type": "stream",
     "text": [
      "\r",
      " 70%|███████████████████████████▏           | 1470/2106 [26:34<11:28,  1.08s/it]"
     ]
    },
    {
     "name": "stdout",
     "output_type": "stream",
     "text": [
      "657639.yaml Dubai International Cricket Stadium United Arab Emirates\n"
     ]
    },
    {
     "name": "stderr",
     "output_type": "stream",
     "text": [
      "\r",
      " 70%|███████████████████████████▏           | 1471/2106 [26:35<11:16,  1.06s/it]"
     ]
    },
    {
     "name": "stdout",
     "output_type": "stream",
     "text": [
      "343762.yaml Multan Cricket Stadium Pakistan\n"
     ]
    },
    {
     "name": "stderr",
     "output_type": "stream",
     "text": [
      "\r",
      " 70%|███████████████████████████▎           | 1472/2106 [26:36<11:07,  1.05s/it]"
     ]
    },
    {
     "name": "stdout",
     "output_type": "stream",
     "text": [
      "1020037.yaml Hamilton Canada\n"
     ]
    },
    {
     "name": "stderr",
     "output_type": "stream",
     "text": [
      "\r",
      " 70%|███████████████████████████▎           | 1473/2106 [26:37<11:00,  1.04s/it]"
     ]
    },
    {
     "name": "stdout",
     "output_type": "stream",
     "text": [
      "64907.yaml Chattogram Bangladesh\n"
     ]
    },
    {
     "name": "stderr",
     "output_type": "stream",
     "text": [
      "\r",
      " 70%|███████████████████████████▎           | 1474/2106 [26:38<12:09,  1.15s/it]"
     ]
    },
    {
     "name": "stdout",
     "output_type": "stream",
     "text": [
      "1115779.yaml Christchurch New Zealand\n"
     ]
    },
    {
     "name": "stderr",
     "output_type": "stream",
     "text": [
      "\r",
      " 70%|███████████████████████████▎           | 1475/2106 [26:39<12:07,  1.15s/it]"
     ]
    },
    {
     "name": "stdout",
     "output_type": "stream",
     "text": [
      "1299831.yaml Chattogram Bangladesh\n"
     ]
    },
    {
     "name": "stderr",
     "output_type": "stream",
     "text": [
      "\r",
      " 70%|███████████████████████████▎           | 1476/2106 [26:40<11:41,  1.11s/it]"
     ]
    },
    {
     "name": "stdout",
     "output_type": "stream",
     "text": [
      "1144527.yaml Manchester United Kingdom\n"
     ]
    },
    {
     "name": "stderr",
     "output_type": "stream",
     "text": [
      "\r",
      " 70%|███████████████████████████▎           | 1477/2106 [26:41<10:45,  1.03s/it]"
     ]
    },
    {
     "name": "stdout",
     "output_type": "stream",
     "text": [
      "65713.yaml Colombo Sri Lanka\n"
     ]
    },
    {
     "name": "stderr",
     "output_type": "stream",
     "text": [
      "\r",
      " 70%|███████████████████████████▎           | 1478/2106 [26:42<10:43,  1.03s/it]"
     ]
    },
    {
     "name": "stdout",
     "output_type": "stream",
     "text": [
      "267389.yaml Nairobi Kenya\n"
     ]
    },
    {
     "name": "stderr",
     "output_type": "stream",
     "text": [
      "\r",
      " 70%|███████████████████████████▍           | 1479/2106 [26:43<10:42,  1.02s/it]"
     ]
    },
    {
     "name": "stdout",
     "output_type": "stream",
     "text": [
      "514026.yaml Port Elizabeth South Africa\n"
     ]
    },
    {
     "name": "stderr",
     "output_type": "stream",
     "text": [
      "\r",
      " 70%|███████████████████████████▍           | 1480/2106 [26:44<10:02,  1.04it/s]"
     ]
    },
    {
     "name": "stdout",
     "output_type": "stream",
     "text": [
      "1157758.yaml Thiruvananthapuram India\n"
     ]
    },
    {
     "name": "stderr",
     "output_type": "stream",
     "text": [
      "\r",
      " 70%|███████████████████████████▍           | 1481/2106 [26:46<11:49,  1.13s/it]"
     ]
    },
    {
     "name": "stdout",
     "output_type": "stream",
     "text": [
      "1152842.yaml Southampton United Kingdom\n"
     ]
    },
    {
     "name": "stderr",
     "output_type": "stream",
     "text": [
      "\r",
      " 70%|███████████████████████████▍           | 1482/2106 [26:47<11:27,  1.10s/it]"
     ]
    },
    {
     "name": "stdout",
     "output_type": "stream",
     "text": [
      "257470.yaml Potchefstroom South Africa\n"
     ]
    },
    {
     "name": "stderr",
     "output_type": "stream",
     "text": [
      "\r",
      " 70%|███████████████████████████▍           | 1483/2106 [26:47<10:52,  1.05s/it]"
     ]
    },
    {
     "name": "stdout",
     "output_type": "stream",
     "text": [
      "667889.yaml London United Kingdom\n"
     ]
    },
    {
     "name": "stderr",
     "output_type": "stream",
     "text": [
      "\r",
      " 70%|███████████████████████████▍           | 1484/2106 [26:48<10:18,  1.01it/s]"
     ]
    },
    {
     "name": "stdout",
     "output_type": "stream",
     "text": [
      "1007651.yaml Harare Sports Club Zimbabwe\n"
     ]
    },
    {
     "name": "stderr",
     "output_type": "stream",
     "text": [
      "\r",
      " 71%|███████████████████████████▌           | 1485/2106 [26:49<10:13,  1.01it/s]"
     ]
    },
    {
     "name": "stdout",
     "output_type": "stream",
     "text": [
      "450498.yaml Ayr United Kingdom\n"
     ]
    },
    {
     "name": "stderr",
     "output_type": "stream",
     "text": [
      "\r",
      " 71%|███████████████████████████▌           | 1486/2106 [26:50<10:00,  1.03it/s]"
     ]
    },
    {
     "name": "stdout",
     "output_type": "stream",
     "text": [
      "433589.yaml Pallekele International Cricket Stadium Sri Lanka\n"
     ]
    },
    {
     "name": "stderr",
     "output_type": "stream",
     "text": [
      "\r",
      " 71%|███████████████████████████▌           | 1487/2106 [26:51<10:09,  1.02it/s]"
     ]
    },
    {
     "name": "stdout",
     "output_type": "stream",
     "text": [
      "433586.yaml Nagpur India\n"
     ]
    },
    {
     "name": "stderr",
     "output_type": "stream",
     "text": [
      "\r",
      " 71%|███████████████████████████▌           | 1488/2106 [26:52<10:15,  1.00it/s]"
     ]
    },
    {
     "name": "stdout",
     "output_type": "stream",
     "text": [
      "258477.yaml London United Kingdom\n"
     ]
    },
    {
     "name": "stderr",
     "output_type": "stream",
     "text": [
      "\r",
      " 71%|███████████████████████████▌           | 1489/2106 [26:53<10:19,  1.00s/it]"
     ]
    },
    {
     "name": "stdout",
     "output_type": "stream",
     "text": [
      "667727.yaml Birmingham United Kingdom\n"
     ]
    },
    {
     "name": "stderr",
     "output_type": "stream",
     "text": [
      "\r",
      " 71%|███████████████████████████▌           | 1490/2106 [26:55<11:38,  1.13s/it]"
     ]
    },
    {
     "name": "stdout",
     "output_type": "stream",
     "text": [
      "433591.yaml Kolkata India\n"
     ]
    },
    {
     "name": "stderr",
     "output_type": "stream",
     "text": [
      "\r",
      " 71%|███████████████████████████▌           | 1491/2106 [26:56<11:16,  1.10s/it]"
     ]
    },
    {
     "name": "stdout",
     "output_type": "stream",
     "text": [
      "64865.yaml Centurion South Africa\n"
     ]
    },
    {
     "name": "stderr",
     "output_type": "stream",
     "text": [
      "\r",
      " 71%|███████████████████████████▋           | 1492/2106 [26:57<11:01,  1.08s/it]"
     ]
    },
    {
     "name": "stdout",
     "output_type": "stream",
     "text": [
      "1302617.yaml Dubai United Arab Emirates\n"
     ]
    },
    {
     "name": "stderr",
     "output_type": "stream",
     "text": [
      "\r",
      " 71%|███████████████████████████▋           | 1493/2106 [26:58<11:09,  1.09s/it]"
     ]
    },
    {
     "name": "stdout",
     "output_type": "stream",
     "text": [
      "433562.yaml Nagpur India\n"
     ]
    },
    {
     "name": "stderr",
     "output_type": "stream",
     "text": [
      "\r",
      " 71%|███████████████████████████▋           | 1494/2106 [26:59<10:54,  1.07s/it]"
     ]
    },
    {
     "name": "stdout",
     "output_type": "stream",
     "text": [
      "667723.yaml Cardiff United Kingdom\n"
     ]
    },
    {
     "name": "stderr",
     "output_type": "stream",
     "text": [
      "\r",
      " 71%|███████████████████████████▋           | 1495/2106 [27:00<10:28,  1.03s/it]"
     ]
    },
    {
     "name": "stdout",
     "output_type": "stream",
     "text": [
      "247466.yaml St Kitts Saint Kitts and Nevis\n"
     ]
    },
    {
     "name": "stderr",
     "output_type": "stream",
     "text": [
      "\r",
      " 71%|███████████████████████████▋           | 1496/2106 [27:04<20:44,  2.04s/it]"
     ]
    },
    {
     "name": "stdout",
     "output_type": "stream",
     "text": [
      "335347.yaml Karachi Pakistan\n"
     ]
    },
    {
     "name": "stderr",
     "output_type": "stream",
     "text": [
      "\r",
      " 71%|███████████████████████████▋           | 1497/2106 [27:06<19:10,  1.89s/it]"
     ]
    },
    {
     "name": "stdout",
     "output_type": "stream",
     "text": [
      "433596.yaml Colombo Sri Lanka\n"
     ]
    },
    {
     "name": "stderr",
     "output_type": "stream",
     "text": [
      "\r",
      " 71%|███████████████████████████▋           | 1498/2106 [27:07<16:49,  1.66s/it]"
     ]
    },
    {
     "name": "stdout",
     "output_type": "stream",
     "text": [
      "64919.yaml Chattogram Bangladesh\n"
     ]
    },
    {
     "name": "stderr",
     "output_type": "stream",
     "text": [
      "\r",
      " 71%|███████████████████████████▊           | 1499/2106 [27:08<14:33,  1.44s/it]"
     ]
    },
    {
     "name": "stdout",
     "output_type": "stream",
     "text": [
      "1130737.yaml Dhaka Bangladesh\n"
     ]
    },
    {
     "name": "stderr",
     "output_type": "stream",
     "text": [
      "\r",
      " 71%|███████████████████████████▊           | 1500/2106 [27:09<13:16,  1.31s/it]"
     ]
    },
    {
     "name": "stdout",
     "output_type": "stream",
     "text": [
      "1026847.yaml Hong Kong China\n"
     ]
    },
    {
     "name": "stderr",
     "output_type": "stream",
     "text": [
      "\r",
      " 71%|███████████████████████████▊           | 1501/2106 [27:10<12:22,  1.23s/it]"
     ]
    },
    {
     "name": "stdout",
     "output_type": "stream",
     "text": [
      "936137.yaml Johannesburg South Africa\n"
     ]
    },
    {
     "name": "stderr",
     "output_type": "stream",
     "text": [
      "\r",
      " 71%|███████████████████████████▊           | 1502/2106 [27:11<11:25,  1.14s/it]"
     ]
    },
    {
     "name": "stdout",
     "output_type": "stream",
     "text": [
      "64846.yaml Dambulla Sri Lanka\n"
     ]
    },
    {
     "name": "stderr",
     "output_type": "stream",
     "text": [
      "\r",
      " 71%|███████████████████████████▊           | 1503/2106 [27:12<11:04,  1.10s/it]"
     ]
    },
    {
     "name": "stdout",
     "output_type": "stream",
     "text": [
      "291364.yaml Perth Australia\n"
     ]
    },
    {
     "name": "stderr",
     "output_type": "stream",
     "text": [
      "\r",
      " 71%|███████████████████████████▊           | 1504/2106 [27:13<12:21,  1.23s/it]"
     ]
    },
    {
     "name": "stdout",
     "output_type": "stream",
     "text": [
      "1034819.yaml Pune India\n"
     ]
    },
    {
     "name": "stderr",
     "output_type": "stream",
     "text": [
      "\r",
      " 71%|███████████████████████████▊           | 1505/2106 [27:14<11:43,  1.17s/it]"
     ]
    },
    {
     "name": "stdout",
     "output_type": "stream",
     "text": [
      "325802.yaml Multan Cricket Stadium Pakistan\n"
     ]
    },
    {
     "name": "stderr",
     "output_type": "stream",
     "text": [
      "\r",
      " 72%|███████████████████████████▉           | 1506/2106 [27:15<10:19,  1.03s/it]"
     ]
    },
    {
     "name": "stdout",
     "output_type": "stream",
     "text": [
      "1185311.yaml Durban South Africa\n"
     ]
    },
    {
     "name": "stderr",
     "output_type": "stream",
     "text": [
      "\r",
      " 72%|███████████████████████████▉           | 1507/2106 [27:16<10:17,  1.03s/it]"
     ]
    },
    {
     "name": "stdout",
     "output_type": "stream",
     "text": [
      "1322031.yaml Ayr United Kingdom\n"
     ]
    },
    {
     "name": "stderr",
     "output_type": "stream",
     "text": [
      "\r",
      " 72%|███████████████████████████▉           | 1508/2106 [27:17<10:15,  1.03s/it]"
     ]
    },
    {
     "name": "stdout",
     "output_type": "stream",
     "text": [
      "249235.yaml Sydney Cricket Ground Australia\n"
     ]
    },
    {
     "name": "stderr",
     "output_type": "stream",
     "text": [
      "\r",
      " 72%|███████████████████████████▉           | 1509/2106 [27:18<10:13,  1.03s/it]"
     ]
    },
    {
     "name": "stdout",
     "output_type": "stream",
     "text": [
      "343732.yaml Rangiri Dambulla International Stadium None\n"
     ]
    },
    {
     "name": "stderr",
     "output_type": "stream",
     "text": [
      "\r",
      " 72%|███████████████████████████▉           | 1510/2106 [27:19<10:11,  1.03s/it]"
     ]
    },
    {
     "name": "stdout",
     "output_type": "stream",
     "text": [
      "1170455.yaml Dubai United Arab Emirates\n"
     ]
    },
    {
     "name": "stderr",
     "output_type": "stream",
     "text": [
      "\r",
      " 72%|███████████████████████████▉           | 1511/2106 [27:20<10:10,  1.03s/it]"
     ]
    },
    {
     "name": "stdout",
     "output_type": "stream",
     "text": [
      "239908.yaml Antigua Antigua and Barbuda\n"
     ]
    },
    {
     "name": "stderr",
     "output_type": "stream",
     "text": [
      "\r",
      " 72%|████████████████████████████           | 1512/2106 [27:22<11:40,  1.18s/it]"
     ]
    },
    {
     "name": "stdout",
     "output_type": "stream",
     "text": [
      "335353.yaml Karachi Pakistan\n"
     ]
    },
    {
     "name": "stderr",
     "output_type": "stream",
     "text": [
      "\r",
      " 72%|████████████████████████████           | 1513/2106 [27:23<11:11,  1.13s/it]"
     ]
    },
    {
     "name": "stdout",
     "output_type": "stream",
     "text": [
      "1271629.yaml Colombo Sri Lanka\n"
     ]
    },
    {
     "name": "stderr",
     "output_type": "stream",
     "text": [
      "\r",
      " 72%|████████████████████████████           | 1514/2106 [27:24<10:51,  1.10s/it]"
     ]
    },
    {
     "name": "stdout",
     "output_type": "stream",
     "text": [
      "792293.yaml Hyderabad India\n"
     ]
    },
    {
     "name": "stderr",
     "output_type": "stream",
     "text": [
      "\r",
      " 72%|████████████████████████████           | 1515/2106 [27:25<10:36,  1.08s/it]"
     ]
    },
    {
     "name": "stdout",
     "output_type": "stream",
     "text": [
      "64884.yaml Lahore Pakistan\n"
     ]
    },
    {
     "name": "stderr",
     "output_type": "stream",
     "text": [
      "\r",
      " 72%|████████████████████████████           | 1516/2106 [27:26<10:26,  1.06s/it]"
     ]
    },
    {
     "name": "stdout",
     "output_type": "stream",
     "text": [
      "415287.yaml Centurion South Africa\n"
     ]
    },
    {
     "name": "stderr",
     "output_type": "stream",
     "text": [
      "\r",
      " 72%|████████████████████████████           | 1517/2106 [27:27<10:18,  1.05s/it]"
     ]
    },
    {
     "name": "stdout",
     "output_type": "stream",
     "text": [
      "1317913.yaml Bridgetown Barbados\n"
     ]
    },
    {
     "name": "stderr",
     "output_type": "stream",
     "text": [
      "\r",
      " 72%|████████████████████████████           | 1518/2106 [27:28<10:12,  1.04s/it]"
     ]
    },
    {
     "name": "stdout",
     "output_type": "stream",
     "text": [
      "1308249.yaml Dubai United Arab Emirates\n"
     ]
    },
    {
     "name": "stderr",
     "output_type": "stream",
     "text": [
      "\r",
      " 72%|████████████████████████████▏          | 1519/2106 [27:29<11:38,  1.19s/it]"
     ]
    },
    {
     "name": "stdout",
     "output_type": "stream",
     "text": [
      "335348.yaml Lahore Pakistan\n"
     ]
    },
    {
     "name": "stderr",
     "output_type": "stream",
     "text": [
      "\r",
      " 72%|████████████████████████████▏          | 1520/2106 [27:30<10:50,  1.11s/it]"
     ]
    },
    {
     "name": "stdout",
     "output_type": "stream",
     "text": [
      "953339.yaml Sharjah Cricket Stadium United Arab Emirates\n"
     ]
    },
    {
     "name": "stderr",
     "output_type": "stream",
     "text": [
      "\r",
      " 72%|████████████████████████████▏          | 1521/2106 [27:32<11:10,  1.15s/it]"
     ]
    },
    {
     "name": "stdout",
     "output_type": "stream",
     "text": [
      "742627.yaml Abu Dhabi United Arab Emirates\n"
     ]
    },
    {
     "name": "stderr",
     "output_type": "stream",
     "text": [
      "\r",
      " 72%|████████████████████████████▏          | 1522/2106 [27:33<10:47,  1.11s/it]"
     ]
    },
    {
     "name": "stdout",
     "output_type": "stream",
     "text": [
      "64911.yaml Harare Zimbabwe\n"
     ]
    },
    {
     "name": "stderr",
     "output_type": "stream",
     "text": [
      "\r",
      " 72%|████████████████████████████▏          | 1523/2106 [27:34<10:31,  1.08s/it]"
     ]
    },
    {
     "name": "stdout",
     "output_type": "stream",
     "text": [
      "913621.yaml Dublin Ireland\n"
     ]
    },
    {
     "name": "stderr",
     "output_type": "stream",
     "text": [
      "\r",
      " 72%|████████████████████████████▏          | 1524/2106 [27:35<10:20,  1.07s/it]"
     ]
    },
    {
     "name": "stdout",
     "output_type": "stream",
     "text": [
      "1277086.yaml Kingston Jamaica\n"
     ]
    },
    {
     "name": "stderr",
     "output_type": "stream",
     "text": [
      "\r",
      " 72%|████████████████████████████▏          | 1525/2106 [27:36<10:11,  1.05s/it]"
     ]
    },
    {
     "name": "stdout",
     "output_type": "stream",
     "text": [
      "238177.yaml Christchurch New Zealand\n"
     ]
    },
    {
     "name": "stderr",
     "output_type": "stream",
     "text": [
      "\r",
      " 72%|████████████████████████████▎          | 1526/2106 [27:37<10:05,  1.04s/it]"
     ]
    },
    {
     "name": "stdout",
     "output_type": "stream",
     "text": [
      "65647.yaml Brisbane Australia\n"
     ]
    },
    {
     "name": "stderr",
     "output_type": "stream",
     "text": [
      "\r",
      " 73%|████████████████████████████▎          | 1527/2106 [27:38<11:12,  1.16s/it]"
     ]
    },
    {
     "name": "stdout",
     "output_type": "stream",
     "text": [
      "366711.yaml Wellington New Zealand\n"
     ]
    },
    {
     "name": "stderr",
     "output_type": "stream",
     "text": [
      "\r",
      " 73%|████████████████████████████▎          | 1528/2106 [27:39<10:47,  1.12s/it]"
     ]
    },
    {
     "name": "stdout",
     "output_type": "stream",
     "text": [
      "247461.yaml Jamaica Jamaica\n"
     ]
    },
    {
     "name": "stderr",
     "output_type": "stream",
     "text": [
      "\r",
      " 73%|████████████████████████████▎          | 1529/2106 [27:40<10:29,  1.09s/it]"
     ]
    },
    {
     "name": "stdout",
     "output_type": "stream",
     "text": [
      "1072311.yaml Brisbane Australia\n"
     ]
    },
    {
     "name": "stderr",
     "output_type": "stream",
     "text": [
      "\r",
      " 73%|████████████████████████████▎          | 1530/2106 [27:41<10:34,  1.10s/it]"
     ]
    },
    {
     "name": "stdout",
     "output_type": "stream",
     "text": [
      "296687.yaml Nairobi Kenya\n"
     ]
    },
    {
     "name": "stderr",
     "output_type": "stream",
     "text": [
      "\r",
      " 73%|████████████████████████████▎          | 1531/2106 [27:42<10:20,  1.08s/it]"
     ]
    },
    {
     "name": "stdout",
     "output_type": "stream",
     "text": [
      "1323294.yaml Harare Zimbabwe\n"
     ]
    },
    {
     "name": "stderr",
     "output_type": "stream",
     "text": [
      "\r",
      " 73%|████████████████████████████▎          | 1532/2106 [27:43<10:09,  1.06s/it]"
     ]
    },
    {
     "name": "stdout",
     "output_type": "stream",
     "text": [
      "1072314.yaml Perth Stadium Australia\n"
     ]
    },
    {
     "name": "stderr",
     "output_type": "stream",
     "text": [
      "\r",
      " 73%|████████████████████████████▍          | 1533/2106 [27:44<10:19,  1.08s/it]"
     ]
    },
    {
     "name": "stdout",
     "output_type": "stream",
     "text": [
      "374059.yaml Abu Dhabi United Arab Emirates\n"
     ]
    },
    {
     "name": "stderr",
     "output_type": "stream",
     "text": [
      "\r",
      " 73%|████████████████████████████▍          | 1534/2106 [27:45<08:58,  1.06it/s]"
     ]
    },
    {
     "name": "stdout",
     "output_type": "stream",
     "text": [
      "1031669.yaml Nottingham United Kingdom\n"
     ]
    },
    {
     "name": "stderr",
     "output_type": "stream",
     "text": [
      "\r",
      " 73%|████████████████████████████▍          | 1535/2106 [27:47<10:39,  1.12s/it]"
     ]
    },
    {
     "name": "stdout",
     "output_type": "stream",
     "text": [
      "380715.yaml Bristol United Kingdom\n"
     ]
    },
    {
     "name": "stderr",
     "output_type": "stream",
     "text": [
      "\r",
      " 73%|████████████████████████████▍          | 1536/2106 [27:48<10:39,  1.12s/it]"
     ]
    },
    {
     "name": "stdout",
     "output_type": "stream",
     "text": [
      "1153254.yaml Abu Dhabi United Arab Emirates\n"
     ]
    },
    {
     "name": "stderr",
     "output_type": "stream",
     "text": [
      "\r",
      " 73%|████████████████████████████▍          | 1537/2106 [27:49<10:04,  1.06s/it]"
     ]
    },
    {
     "name": "stdout",
     "output_type": "stream",
     "text": [
      "540169.yaml St Vincent Italy\n"
     ]
    },
    {
     "name": "stderr",
     "output_type": "stream",
     "text": [
      "\r",
      " 73%|████████████████████████████▍          | 1538/2106 [27:50<09:56,  1.05s/it]"
     ]
    },
    {
     "name": "stdout",
     "output_type": "stream",
     "text": [
      "236358.yaml Adelaide Oval Australia\n"
     ]
    },
    {
     "name": "stderr",
     "output_type": "stream",
     "text": [
      "\r",
      " 73%|████████████████████████████▌          | 1539/2106 [27:51<09:51,  1.04s/it]"
     ]
    },
    {
     "name": "stdout",
     "output_type": "stream",
     "text": [
      "1187027.yaml Mumbai India\n"
     ]
    },
    {
     "name": "stderr",
     "output_type": "stream",
     "text": [
      "\r",
      " 73%|████████████████████████████▌          | 1540/2106 [27:52<09:46,  1.04s/it]"
     ]
    },
    {
     "name": "stdout",
     "output_type": "stream",
     "text": [
      "1083446.yaml Rangiri Dambulla International Stadium None\n"
     ]
    },
    {
     "name": "stderr",
     "output_type": "stream",
     "text": [
      "\r",
      " 73%|████████████████████████████▌          | 1541/2106 [27:53<09:26,  1.00s/it]"
     ]
    },
    {
     "name": "stdout",
     "output_type": "stream",
     "text": [
      "936163.yaml Johannesburg South Africa\n"
     ]
    },
    {
     "name": "stderr",
     "output_type": "stream",
     "text": [
      "\r",
      " 73%|████████████████████████████▌          | 1542/2106 [27:54<10:55,  1.16s/it]"
     ]
    },
    {
     "name": "stdout",
     "output_type": "stream",
     "text": [
      "736437.yaml Bulawayo Zimbabwe\n"
     ]
    },
    {
     "name": "stderr",
     "output_type": "stream",
     "text": [
      "\r",
      " 73%|████████████████████████████▌          | 1543/2106 [27:55<10:31,  1.12s/it]"
     ]
    },
    {
     "name": "stdout",
     "output_type": "stream",
     "text": [
      "582189.yaml Pallekele International Cricket Stadium Sri Lanka\n"
     ]
    },
    {
     "name": "stderr",
     "output_type": "stream",
     "text": [
      "\r",
      " 73%|████████████████████████████▌          | 1544/2106 [27:56<10:13,  1.09s/it]"
     ]
    },
    {
     "name": "stdout",
     "output_type": "stream",
     "text": [
      "1168246.yaml Delhi India\n"
     ]
    },
    {
     "name": "stderr",
     "output_type": "stream",
     "text": [
      "\r",
      " 73%|████████████████████████████▌          | 1545/2106 [27:57<10:01,  1.07s/it]"
     ]
    },
    {
     "name": "stdout",
     "output_type": "stream",
     "text": [
      "256607.yaml Kuala Lumpur Malaysia\n"
     ]
    },
    {
     "name": "stderr",
     "output_type": "stream",
     "text": [
      "\r",
      " 73%|████████████████████████████▋          | 1546/2106 [27:58<09:52,  1.06s/it]"
     ]
    },
    {
     "name": "stdout",
     "output_type": "stream",
     "text": [
      "211678.yaml Chester-le-Street United Kingdom\n"
     ]
    },
    {
     "name": "stderr",
     "output_type": "stream",
     "text": [
      "\r",
      " 73%|████████████████████████████▋          | 1547/2106 [27:59<09:10,  1.01it/s]"
     ]
    },
    {
     "name": "stdout",
     "output_type": "stream",
     "text": [
      "1144485.yaml Cardiff United Kingdom\n"
     ]
    },
    {
     "name": "stderr",
     "output_type": "stream",
     "text": [
      "\r",
      " 74%|████████████████████████████▋          | 1548/2106 [28:00<09:16,  1.00it/s]"
     ]
    },
    {
     "name": "stdout",
     "output_type": "stream",
     "text": [
      "350043.yaml London United Kingdom\n"
     ]
    },
    {
     "name": "stderr",
     "output_type": "stream",
     "text": [
      "\r",
      " 74%|████████████████████████████▋          | 1549/2106 [28:01<09:19,  1.01s/it]"
     ]
    },
    {
     "name": "stdout",
     "output_type": "stream",
     "text": [
      "914265.yaml Auckland New Zealand\n"
     ]
    },
    {
     "name": "stderr",
     "output_type": "stream",
     "text": [
      "\r",
      " 74%|████████████████████████████▋          | 1550/2106 [28:03<10:47,  1.16s/it]"
     ]
    },
    {
     "name": "stdout",
     "output_type": "stream",
     "text": [
      "527015.yaml Harare Sports Club Zimbabwe\n"
     ]
    },
    {
     "name": "stderr",
     "output_type": "stream",
     "text": [
      "\r",
      " 74%|████████████████████████████▋          | 1551/2106 [28:04<10:39,  1.15s/it]"
     ]
    },
    {
     "name": "stdout",
     "output_type": "stream",
     "text": [
      "667647.yaml Hamilton Canada\n"
     ]
    },
    {
     "name": "stderr",
     "output_type": "stream",
     "text": [
      "\r",
      " 74%|████████████████████████████▋          | 1552/2106 [28:05<10:17,  1.11s/it]"
     ]
    },
    {
     "name": "stdout",
     "output_type": "stream",
     "text": [
      "275789.yaml Glasgow United Kingdom\n"
     ]
    },
    {
     "name": "stderr",
     "output_type": "stream",
     "text": [
      "\r",
      " 74%|████████████████████████████▊          | 1553/2106 [28:06<10:01,  1.09s/it]"
     ]
    },
    {
     "name": "stdout",
     "output_type": "stream",
     "text": [
      "656487.yaml Adelaide Oval Australia\n"
     ]
    },
    {
     "name": "stderr",
     "output_type": "stream",
     "text": [
      "\r",
      " 74%|████████████████████████████▊          | 1554/2106 [28:07<09:49,  1.07s/it]"
     ]
    },
    {
     "name": "stdout",
     "output_type": "stream",
     "text": [
      "710295.yaml Fatullah Bangladesh\n"
     ]
    },
    {
     "name": "stderr",
     "output_type": "stream",
     "text": [
      "\r",
      " 74%|████████████████████████████▊          | 1555/2106 [28:08<09:41,  1.06s/it]"
     ]
    },
    {
     "name": "stdout",
     "output_type": "stream",
     "text": [
      "560927.yaml St Kitts Saint Kitts and Nevis\n"
     ]
    },
    {
     "name": "stderr",
     "output_type": "stream",
     "text": [
      "\r",
      " 74%|████████████████████████████▊          | 1556/2106 [28:09<09:52,  1.08s/it]"
     ]
    },
    {
     "name": "stdout",
     "output_type": "stream",
     "text": [
      "756039.yaml Bulawayo Zimbabwe\n"
     ]
    },
    {
     "name": "stderr",
     "output_type": "stream",
     "text": [
      "\r",
      " 74%|████████████████████████████▊          | 1557/2106 [28:11<11:06,  1.21s/it]"
     ]
    },
    {
     "name": "stdout",
     "output_type": "stream",
     "text": [
      "211860.yaml Leeds United Kingdom\n"
     ]
    },
    {
     "name": "stderr",
     "output_type": "stream",
     "text": [
      "\r",
      " 74%|████████████████████████████▊          | 1558/2106 [28:12<10:17,  1.13s/it]"
     ]
    },
    {
     "name": "stdout",
     "output_type": "stream",
     "text": [
      "250671.yaml Cape Town South Africa\n"
     ]
    },
    {
     "name": "stderr",
     "output_type": "stream",
     "text": [
      "\r",
      " 74%|████████████████████████████▊          | 1559/2106 [28:13<09:59,  1.10s/it]"
     ]
    },
    {
     "name": "stdout",
     "output_type": "stream",
     "text": [
      "858489.yaml Mirpur Pakistan\n"
     ]
    },
    {
     "name": "stderr",
     "output_type": "stream",
     "text": [
      "\r",
      " 74%|████████████████████████████▉          | 1560/2106 [28:14<09:46,  1.07s/it]"
     ]
    },
    {
     "name": "stdout",
     "output_type": "stream",
     "text": [
      "64933.yaml Auckland New Zealand\n"
     ]
    },
    {
     "name": "stderr",
     "output_type": "stream",
     "text": [
      "\r",
      " 74%|████████████████████████████▉          | 1561/2106 [28:15<09:53,  1.09s/it]"
     ]
    },
    {
     "name": "stdout",
     "output_type": "stream",
     "text": [
      "536932.yaml Indore India\n"
     ]
    },
    {
     "name": "stderr",
     "output_type": "stream",
     "text": [
      "\r",
      " 74%|████████████████████████████▉          | 1562/2106 [28:16<09:42,  1.07s/it]"
     ]
    },
    {
     "name": "stdout",
     "output_type": "stream",
     "text": [
      "587472.yaml Khulna Bangladesh\n"
     ]
    },
    {
     "name": "stderr",
     "output_type": "stream",
     "text": [
      "\r",
      " 74%|████████████████████████████▉          | 1563/2106 [28:17<09:33,  1.06s/it]"
     ]
    },
    {
     "name": "stdout",
     "output_type": "stream",
     "text": [
      "895807.yaml Perth Australia\n"
     ]
    },
    {
     "name": "stderr",
     "output_type": "stream",
     "text": [
      "\r",
      " 74%|████████████████████████████▉          | 1564/2106 [28:18<10:50,  1.20s/it]"
     ]
    },
    {
     "name": "stdout",
     "output_type": "stream",
     "text": [
      "523734.yaml Harare Sports Club Zimbabwe\n"
     ]
    },
    {
     "name": "stderr",
     "output_type": "stream",
     "text": [
      "\r",
      " 74%|████████████████████████████▉          | 1565/2106 [28:19<10:20,  1.15s/it]"
     ]
    },
    {
     "name": "stdout",
     "output_type": "stream",
     "text": [
      "514038.yaml Kimberley South Africa\n"
     ]
    },
    {
     "name": "stderr",
     "output_type": "stream",
     "text": [
      "\r",
      " 74%|█████████████████████████████          | 1566/2106 [28:20<09:42,  1.08s/it]"
     ]
    },
    {
     "name": "stdout",
     "output_type": "stream",
     "text": [
      "647255.yaml Ranchi India\n"
     ]
    },
    {
     "name": "stderr",
     "output_type": "stream",
     "text": [
      "\r",
      " 74%|█████████████████████████████          | 1567/2106 [28:21<09:32,  1.06s/it]"
     ]
    },
    {
     "name": "stdout",
     "output_type": "stream",
     "text": [
      "667649.yaml Wellington New Zealand\n"
     ]
    },
    {
     "name": "stderr",
     "output_type": "stream",
     "text": [
      "\r",
      " 74%|█████████████████████████████          | 1568/2106 [28:22<09:25,  1.05s/it]"
     ]
    },
    {
     "name": "stdout",
     "output_type": "stream",
     "text": [
      "433595.yaml Kolkata India\n"
     ]
    },
    {
     "name": "stderr",
     "output_type": "stream",
     "text": [
      "\r",
      " 75%|█████████████████████████████          | 1569/2106 [28:23<09:20,  1.04s/it]"
     ]
    },
    {
     "name": "stdout",
     "output_type": "stream",
     "text": [
      "749791.yaml Dunedin New Zealand\n"
     ]
    },
    {
     "name": "stderr",
     "output_type": "stream",
     "text": [
      "\r",
      " 75%|█████████████████████████████          | 1570/2106 [28:24<09:16,  1.04s/it]"
     ]
    },
    {
     "name": "stdout",
     "output_type": "stream",
     "text": [
      "1244525.yaml Abu Dhabi United Arab Emirates\n"
     ]
    },
    {
     "name": "stderr",
     "output_type": "stream",
     "text": [
      "\r",
      " 75%|█████████████████████████████          | 1571/2106 [28:25<09:12,  1.03s/it]"
     ]
    },
    {
     "name": "stdout",
     "output_type": "stream",
     "text": [
      "1168117.yaml Dehra Dun India\n"
     ]
    },
    {
     "name": "stderr",
     "output_type": "stream",
     "text": [
      "\r",
      " 75%|█████████████████████████████          | 1572/2106 [28:27<10:32,  1.18s/it]"
     ]
    },
    {
     "name": "stdout",
     "output_type": "stream",
     "text": [
      "247471.yaml St Lucia Saint Lucia\n"
     ]
    },
    {
     "name": "stderr",
     "output_type": "stream",
     "text": [
      "\r",
      " 75%|█████████████████████████████▏         | 1573/2106 [28:28<10:05,  1.14s/it]"
     ]
    },
    {
     "name": "stdout",
     "output_type": "stream",
     "text": [
      "567371.yaml Durban South Africa\n"
     ]
    },
    {
     "name": "stderr",
     "output_type": "stream",
     "text": [
      "\r",
      " 75%|█████████████████████████████▏         | 1574/2106 [28:29<09:30,  1.07s/it]"
     ]
    },
    {
     "name": "stdout",
     "output_type": "stream",
     "text": [
      "936133.yaml Benoni South Africa\n"
     ]
    },
    {
     "name": "stderr",
     "output_type": "stream",
     "text": [
      "\r",
      " 75%|█████████████████████████████▏         | 1575/2106 [28:30<09:21,  1.06s/it]"
     ]
    },
    {
     "name": "stdout",
     "output_type": "stream",
     "text": [
      "291368.yaml Sydney Cricket Ground Australia\n"
     ]
    },
    {
     "name": "stderr",
     "output_type": "stream",
     "text": [
      "\r",
      " 75%|█████████████████████████████▏         | 1576/2106 [28:31<08:42,  1.01it/s]"
     ]
    },
    {
     "name": "stdout",
     "output_type": "stream",
     "text": [
      "1098206.yaml Trinidad Trinidad and Tobago\n"
     ]
    },
    {
     "name": "stderr",
     "output_type": "stream",
     "text": [
      "\r",
      " 75%|█████████████████████████████▏         | 1577/2106 [28:32<08:47,  1.00it/s]"
     ]
    },
    {
     "name": "stdout",
     "output_type": "stream",
     "text": [
      "1305497.yaml Kirtipur Nepal\n"
     ]
    },
    {
     "name": "stderr",
     "output_type": "stream",
     "text": [
      "\r",
      " 75%|█████████████████████████████▏         | 1578/2106 [28:33<08:50,  1.01s/it]"
     ]
    },
    {
     "name": "stdout",
     "output_type": "stream",
     "text": [
      "1215125.yaml Kirtipur Nepal\n"
     ]
    },
    {
     "name": "stderr",
     "output_type": "stream",
     "text": [
      "\r",
      " 75%|█████████████████████████████▏         | 1579/2106 [28:34<10:13,  1.16s/it]"
     ]
    },
    {
     "name": "stdout",
     "output_type": "stream",
     "text": [
      "249757.yaml Chandigarh India\n"
     ]
    },
    {
     "name": "stderr",
     "output_type": "stream",
     "text": [
      "\r",
      " 75%|█████████████████████████████▎         | 1580/2106 [28:35<09:34,  1.09s/it]"
     ]
    },
    {
     "name": "stdout",
     "output_type": "stream",
     "text": [
      "251492.yaml Auckland New Zealand\n"
     ]
    },
    {
     "name": "stderr",
     "output_type": "stream",
     "text": [
      "\r",
      " 75%|█████████████████████████████▎         | 1581/2106 [28:36<09:22,  1.07s/it]"
     ]
    },
    {
     "name": "stdout",
     "output_type": "stream",
     "text": [
      "1275250.yaml Al Amarat Oman\n"
     ]
    },
    {
     "name": "stderr",
     "output_type": "stream",
     "text": [
      "\r",
      " 75%|█████████████████████████████▎         | 1582/2106 [28:37<09:42,  1.11s/it]"
     ]
    },
    {
     "name": "stdout",
     "output_type": "stream",
     "text": [
      "1263161.yaml Bridgetown Barbados\n"
     ]
    },
    {
     "name": "stderr",
     "output_type": "stream",
     "text": [
      "\r",
      " 75%|█████████████████████████████▎         | 1583/2106 [28:38<09:31,  1.09s/it]"
     ]
    },
    {
     "name": "stdout",
     "output_type": "stream",
     "text": [
      "406203.yaml Sydney Cricket Ground Australia\n"
     ]
    },
    {
     "name": "stderr",
     "output_type": "stream",
     "text": [
      "\r",
      " 75%|█████████████████████████████▎         | 1584/2106 [28:40<09:35,  1.10s/it]"
     ]
    },
    {
     "name": "stdout",
     "output_type": "stream",
     "text": [
      "299007.yaml Lahore Pakistan\n"
     ]
    },
    {
     "name": "stderr",
     "output_type": "stream",
     "text": [
      "\r",
      " 75%|█████████████████████████████▎         | 1585/2106 [28:41<09:22,  1.08s/it]"
     ]
    },
    {
     "name": "stdout",
     "output_type": "stream",
     "text": [
      "433592.yaml Bangalore India\n"
     ]
    },
    {
     "name": "stderr",
     "output_type": "stream",
     "text": [
      "\r",
      " 75%|█████████████████████████████▎         | 1586/2106 [28:42<09:12,  1.06s/it]"
     ]
    },
    {
     "name": "stdout",
     "output_type": "stream",
     "text": [
      "589310.yaml Delhi India\n"
     ]
    },
    {
     "name": "stderr",
     "output_type": "stream",
     "text": [
      "\r",
      " 75%|█████████████████████████████▍         | 1587/2106 [28:43<10:09,  1.17s/it]"
     ]
    },
    {
     "name": "stdout",
     "output_type": "stream",
     "text": [
      "1275254.yaml Al Amarat Oman\n"
     ]
    },
    {
     "name": "stderr",
     "output_type": "stream",
     "text": [
      "\r",
      " 75%|█████████████████████████████▍         | 1588/2106 [28:44<09:28,  1.10s/it]"
     ]
    },
    {
     "name": "stdout",
     "output_type": "stream",
     "text": [
      "319135.yaml Trinidad Trinidad and Tobago\n"
     ]
    },
    {
     "name": "stderr",
     "output_type": "stream",
     "text": [
      "\r",
      " 75%|█████████████████████████████▍         | 1589/2106 [28:45<09:07,  1.06s/it]"
     ]
    },
    {
     "name": "stdout",
     "output_type": "stream",
     "text": [
      "350045.yaml Southampton United Kingdom\n"
     ]
    },
    {
     "name": "stderr",
     "output_type": "stream",
     "text": [
      "\r",
      " 75%|█████████████████████████████▍         | 1590/2106 [28:46<08:37,  1.00s/it]"
     ]
    },
    {
     "name": "stdout",
     "output_type": "stream",
     "text": [
      "1142587.yaml Pallekele International Cricket Stadium Sri Lanka\n"
     ]
    },
    {
     "name": "stderr",
     "output_type": "stream",
     "text": [
      "\r",
      " 76%|█████████████████████████████▍         | 1591/2106 [28:47<08:50,  1.03s/it]"
     ]
    },
    {
     "name": "stdout",
     "output_type": "stream",
     "text": [
      "676529.yaml Kochi Japan\n"
     ]
    },
    {
     "name": "stderr",
     "output_type": "stream",
     "text": [
      "\r",
      " 76%|█████████████████████████████▍         | 1592/2106 [28:48<08:53,  1.04s/it]"
     ]
    },
    {
     "name": "stdout",
     "output_type": "stream",
     "text": [
      "1109609.yaml Colombo Sri Lanka\n"
     ]
    },
    {
     "name": "stderr",
     "output_type": "stream",
     "text": [
      "\r",
      " 76%|█████████████████████████████▌         | 1593/2106 [28:49<08:50,  1.03s/it]"
     ]
    },
    {
     "name": "stdout",
     "output_type": "stream",
     "text": [
      "1211170.yaml Al Amarat Oman\n"
     ]
    },
    {
     "name": "stderr",
     "output_type": "stream",
     "text": [
      "\r",
      " 76%|█████████████████████████████▌         | 1594/2106 [28:50<08:48,  1.03s/it]"
     ]
    },
    {
     "name": "stdout",
     "output_type": "stream",
     "text": [
      "1030225.yaml Ranchi India\n"
     ]
    },
    {
     "name": "stderr",
     "output_type": "stream",
     "text": [
      "\r",
      " 76%|█████████████████████████████▌         | 1595/2106 [28:52<10:04,  1.18s/it]"
     ]
    },
    {
     "name": "stdout",
     "output_type": "stream",
     "text": [
      "1040495.yaml Greater Noida India\n"
     ]
    },
    {
     "name": "stderr",
     "output_type": "stream",
     "text": [
      "\r",
      " 76%|█████████████████████████████▌         | 1596/2106 [28:53<09:38,  1.14s/it]"
     ]
    },
    {
     "name": "stdout",
     "output_type": "stream",
     "text": [
      "433606.yaml Mumbai India\n"
     ]
    },
    {
     "name": "stderr",
     "output_type": "stream",
     "text": [
      "\r",
      " 76%|█████████████████████████████▌         | 1597/2106 [28:54<09:36,  1.13s/it]"
     ]
    },
    {
     "name": "stdout",
     "output_type": "stream",
     "text": [
      "1302628.yaml Dubai United Arab Emirates\n"
     ]
    },
    {
     "name": "stderr",
     "output_type": "stream",
     "text": [
      "\r",
      " 76%|█████████████████████████████▌         | 1598/2106 [28:55<09:18,  1.10s/it]"
     ]
    },
    {
     "name": "stdout",
     "output_type": "stream",
     "text": [
      "656493.yaml Sydney Cricket Ground Australia\n"
     ]
    },
    {
     "name": "stderr",
     "output_type": "stream",
     "text": [
      "\r",
      " 76%|█████████████████████████████▌         | 1599/2106 [28:56<09:06,  1.08s/it]"
     ]
    },
    {
     "name": "stdout",
     "output_type": "stream",
     "text": [
      "1144156.yaml Port Elizabeth South Africa\n"
     ]
    },
    {
     "name": "stderr",
     "output_type": "stream",
     "text": [
      "\r",
      " 76%|█████████████████████████████▋         | 1600/2106 [28:57<09:12,  1.09s/it]"
     ]
    },
    {
     "name": "stdout",
     "output_type": "stream",
     "text": [
      "64914.yaml Chattogram Bangladesh\n"
     ]
    },
    {
     "name": "stderr",
     "output_type": "stream",
     "text": [
      "\r",
      " 76%|█████████████████████████████▋         | 1601/2106 [28:58<08:58,  1.07s/it]"
     ]
    },
    {
     "name": "stdout",
     "output_type": "stream",
     "text": [
      "474480.yaml London United Kingdom\n"
     ]
    },
    {
     "name": "stderr",
     "output_type": "stream",
     "text": [
      "\r",
      " 76%|█████████████████████████████▋         | 1602/2106 [28:59<09:55,  1.18s/it]"
     ]
    },
    {
     "name": "stdout",
     "output_type": "stream",
     "text": [
      "1214667.yaml Sylhet Bangladesh\n"
     ]
    },
    {
     "name": "stderr",
     "output_type": "stream",
     "text": [
      "\r",
      " 76%|█████████████████████████████▋         | 1603/2106 [29:00<09:46,  1.17s/it]"
     ]
    },
    {
     "name": "stdout",
     "output_type": "stream",
     "text": [
      "1089779.yaml St Lucia Saint Lucia\n"
     ]
    },
    {
     "name": "stderr",
     "output_type": "stream",
     "text": [
      "\r",
      " 76%|█████████████████████████████▋         | 1604/2106 [29:01<09:08,  1.09s/it]"
     ]
    },
    {
     "name": "stdout",
     "output_type": "stream",
     "text": [
      "915781.yaml Pallekele International Cricket Stadium Sri Lanka\n"
     ]
    },
    {
     "name": "stderr",
     "output_type": "stream",
     "text": [
      "\r",
      " 76%|█████████████████████████████▋         | 1605/2106 [29:02<08:56,  1.07s/it]"
     ]
    },
    {
     "name": "stdout",
     "output_type": "stream",
     "text": [
      "1302350.yaml Amstelveen Netherlands\n"
     ]
    },
    {
     "name": "stderr",
     "output_type": "stream",
     "text": [
      "\r",
      " 76%|█████████████████████████████▋         | 1606/2106 [29:04<10:03,  1.21s/it]"
     ]
    },
    {
     "name": "stdout",
     "output_type": "stream",
     "text": [
      "656443.yaml Brisbane Australia\n"
     ]
    },
    {
     "name": "stderr",
     "output_type": "stream",
     "text": [
      "\r",
      " 76%|█████████████████████████████▊         | 1607/2106 [29:05<09:37,  1.16s/it]"
     ]
    },
    {
     "name": "stdout",
     "output_type": "stream",
     "text": [
      "623574.yaml Bulawayo Zimbabwe\n"
     ]
    },
    {
     "name": "stderr",
     "output_type": "stream",
     "text": [
      "\r",
      " 76%|█████████████████████████████▊         | 1608/2106 [29:06<09:15,  1.12s/it]"
     ]
    },
    {
     "name": "stdout",
     "output_type": "stream",
     "text": [
      "291372.yaml Brisbane Australia\n"
     ]
    },
    {
     "name": "stderr",
     "output_type": "stream",
     "text": [
      "\r",
      " 76%|█████████████████████████████▊         | 1609/2106 [29:07<09:31,  1.15s/it]"
     ]
    },
    {
     "name": "stdout",
     "output_type": "stream",
     "text": [
      "1276912.yaml Leeds United Kingdom\n"
     ]
    },
    {
     "name": "stderr",
     "output_type": "stream",
     "text": [
      "\r",
      " 76%|█████████████████████████████▊         | 1610/2106 [29:08<09:42,  1.17s/it]"
     ]
    },
    {
     "name": "stdout",
     "output_type": "stream",
     "text": [
      "410339.yaml Bulawayo Zimbabwe\n"
     ]
    },
    {
     "name": "stderr",
     "output_type": "stream",
     "text": [
      "\r",
      " 76%|█████████████████████████████▊         | 1611/2106 [29:09<09:18,  1.13s/it]"
     ]
    },
    {
     "name": "stdout",
     "output_type": "stream",
     "text": [
      "503363.yaml Mirpur Pakistan\n"
     ]
    },
    {
     "name": "stderr",
     "output_type": "stream",
     "text": [
      "\r",
      " 77%|█████████████████████████████▊         | 1612/2106 [29:11<09:02,  1.10s/it]"
     ]
    },
    {
     "name": "stdout",
     "output_type": "stream",
     "text": [
      "722339.yaml Durban South Africa\n"
     ]
    },
    {
     "name": "stderr",
     "output_type": "stream",
     "text": [
      "\r",
      " 77%|█████████████████████████████▊         | 1613/2106 [29:12<08:50,  1.08s/it]"
     ]
    },
    {
     "name": "stdout",
     "output_type": "stream",
     "text": [
      "446964.yaml Sydney Cricket Ground Australia\n"
     ]
    },
    {
     "name": "stderr",
     "output_type": "stream",
     "text": [
      "\r",
      " 77%|█████████████████████████████▉         | 1614/2106 [29:13<08:41,  1.06s/it]"
     ]
    },
    {
     "name": "stdout",
     "output_type": "stream",
     "text": [
      "361044.yaml Indore India\n"
     ]
    },
    {
     "name": "stderr",
     "output_type": "stream",
     "text": [
      "\r",
      " 77%|█████████████████████████████▉         | 1615/2106 [29:14<08:35,  1.05s/it]"
     ]
    },
    {
     "name": "stdout",
     "output_type": "stream",
     "text": [
      "1188377.yaml Deventer Netherlands\n"
     ]
    },
    {
     "name": "stderr",
     "output_type": "stream",
     "text": [
      "\r",
      " 77%|█████████████████████████████▉         | 1616/2106 [29:15<09:45,  1.20s/it]"
     ]
    },
    {
     "name": "stdout",
     "output_type": "stream",
     "text": [
      "1243393.yaml Pune India\n"
     ]
    },
    {
     "name": "stderr",
     "output_type": "stream",
     "text": [
      "\r",
      " 77%|█████████████████████████████▉         | 1617/2106 [29:16<09:04,  1.11s/it]"
     ]
    },
    {
     "name": "stdout",
     "output_type": "stream",
     "text": [
      "661689.yaml Queenstown Events Centre None\n"
     ]
    },
    {
     "name": "stderr",
     "output_type": "stream",
     "text": [
      "\r",
      " 77%|█████████████████████████████▉         | 1618/2106 [29:17<08:50,  1.09s/it]"
     ]
    },
    {
     "name": "stdout",
     "output_type": "stream",
     "text": [
      "736503.yaml Kuala Lumpur Malaysia\n"
     ]
    },
    {
     "name": "stderr",
     "output_type": "stream",
     "text": [
      "\r",
      " 77%|█████████████████████████████▉         | 1619/2106 [29:18<08:39,  1.07s/it]"
     ]
    },
    {
     "name": "stdout",
     "output_type": "stream",
     "text": [
      "226380.yaml Sydney Cricket Ground Australia\n"
     ]
    },
    {
     "name": "stderr",
     "output_type": "stream",
     "text": [
      "\r",
      " 77%|██████████████████████████████         | 1620/2106 [29:19<08:17,  1.02s/it]"
     ]
    },
    {
     "name": "stdout",
     "output_type": "stream",
     "text": [
      "385751.yaml Lahore Pakistan\n"
     ]
    },
    {
     "name": "stderr",
     "output_type": "stream",
     "text": [
      "\r",
      " 77%|██████████████████████████████         | 1621/2106 [29:20<07:58,  1.01it/s]"
     ]
    },
    {
     "name": "stdout",
     "output_type": "stream",
     "text": [
      "1122726.yaml Dharamsala India\n"
     ]
    },
    {
     "name": "stderr",
     "output_type": "stream",
     "text": [
      "\r",
      " 77%|██████████████████████████████         | 1622/2106 [29:21<08:06,  1.00s/it]"
     ]
    },
    {
     "name": "stdout",
     "output_type": "stream",
     "text": [
      "225253.yaml Manchester United Kingdom\n"
     ]
    },
    {
     "name": "stderr",
     "output_type": "stream",
     "text": [
      "\r",
      " 77%|██████████████████████████████         | 1623/2106 [29:22<08:04,  1.00s/it]"
     ]
    },
    {
     "name": "stdout",
     "output_type": "stream",
     "text": [
      "1144998.yaml Adelaide Australia\n"
     ]
    },
    {
     "name": "stderr",
     "output_type": "stream",
     "text": [
      "\r",
      " 77%|██████████████████████████████         | 1624/2106 [29:23<08:10,  1.02s/it]"
     ]
    },
    {
     "name": "stdout",
     "output_type": "stream",
     "text": [
      "1303310.yaml Dublin Ireland\n"
     ]
    },
    {
     "name": "stderr",
     "output_type": "stream",
     "text": [
      "\r",
      " 77%|██████████████████████████████         | 1625/2106 [29:25<09:23,  1.17s/it]"
     ]
    },
    {
     "name": "stdout",
     "output_type": "stream",
     "text": [
      "1312803.yaml Pearland United States\n"
     ]
    },
    {
     "name": "stderr",
     "output_type": "stream",
     "text": [
      "\r",
      " 77%|██████████████████████████████         | 1626/2106 [29:26<09:01,  1.13s/it]"
     ]
    },
    {
     "name": "stdout",
     "output_type": "stream",
     "text": [
      "1144489.yaml Cardiff United Kingdom\n"
     ]
    },
    {
     "name": "stderr",
     "output_type": "stream",
     "text": [
      "\r",
      " 77%|██████████████████████████████▏        | 1627/2106 [29:27<08:45,  1.10s/it]"
     ]
    },
    {
     "name": "stdout",
     "output_type": "stream",
     "text": [
      "1343684.yaml Kirtipur Nepal\n"
     ]
    },
    {
     "name": "stderr",
     "output_type": "stream",
     "text": [
      "\r",
      " 77%|██████████████████████████████▏        | 1628/2106 [29:28<08:33,  1.07s/it]"
     ]
    },
    {
     "name": "stdout",
     "output_type": "stream",
     "text": [
      "1133030.yaml Harare Sports Club Zimbabwe\n"
     ]
    },
    {
     "name": "stderr",
     "output_type": "stream",
     "text": [
      "\r",
      " 77%|██████████████████████████████▏        | 1629/2106 [29:29<08:10,  1.03s/it]"
     ]
    },
    {
     "name": "stdout",
     "output_type": "stream",
     "text": [
      "915777.yaml Colombo Sri Lanka\n"
     ]
    },
    {
     "name": "stderr",
     "output_type": "stream",
     "text": [
      "\r",
      " 77%|██████████████████████████████▏        | 1630/2106 [29:30<08:09,  1.03s/it]"
     ]
    },
    {
     "name": "stdout",
     "output_type": "stream",
     "text": [
      "293076.yaml Belfast United Kingdom\n"
     ]
    },
    {
     "name": "stderr",
     "output_type": "stream",
     "text": [
      "\r",
      " 77%|██████████████████████████████▏        | 1631/2106 [29:31<08:22,  1.06s/it]"
     ]
    },
    {
     "name": "stdout",
     "output_type": "stream",
     "text": [
      "710305.yaml Mirpur Pakistan\n"
     ]
    },
    {
     "name": "stderr",
     "output_type": "stream",
     "text": [
      "\r",
      " 77%|██████████████████████████████▏        | 1632/2106 [29:32<09:29,  1.20s/it]"
     ]
    },
    {
     "name": "stdout",
     "output_type": "stream",
     "text": [
      "247483.yaml Antigua Antigua and Barbuda\n"
     ]
    },
    {
     "name": "stderr",
     "output_type": "stream",
     "text": [
      "\r",
      " 78%|██████████████████████████████▏        | 1633/2106 [29:33<09:03,  1.15s/it]"
     ]
    },
    {
     "name": "stdout",
     "output_type": "stream",
     "text": [
      "1125473.yaml Sharjah Cricket Stadium United Arab Emirates\n"
     ]
    },
    {
     "name": "stderr",
     "output_type": "stream",
     "text": [
      "\r",
      " 78%|██████████████████████████████▎        | 1634/2106 [29:34<08:44,  1.11s/it]"
     ]
    },
    {
     "name": "stdout",
     "output_type": "stream",
     "text": [
      "247499.yaml Grenada Grenada\n"
     ]
    },
    {
     "name": "stderr",
     "output_type": "stream",
     "text": [
      "\r",
      " 78%|██████████████████████████████▎        | 1635/2106 [29:35<08:30,  1.08s/it]"
     ]
    },
    {
     "name": "stdout",
     "output_type": "stream",
     "text": [
      "1115804.yaml Dunedin New Zealand\n"
     ]
    },
    {
     "name": "stderr",
     "output_type": "stream",
     "text": [
      "\r",
      " 78%|██████████████████████████████▎        | 1636/2106 [29:36<08:21,  1.07s/it]"
     ]
    },
    {
     "name": "stdout",
     "output_type": "stream",
     "text": [
      "894289.yaml Harare Sports Club Zimbabwe\n"
     ]
    },
    {
     "name": "stderr",
     "output_type": "stream",
     "text": [
      "\r",
      " 78%|██████████████████████████████▎        | 1637/2106 [29:37<08:14,  1.05s/it]"
     ]
    },
    {
     "name": "stdout",
     "output_type": "stream",
     "text": [
      "727937.yaml Dublin Ireland\n"
     ]
    },
    {
     "name": "stderr",
     "output_type": "stream",
     "text": [
      "\r",
      " 78%|██████████████████████████████▎        | 1638/2106 [29:38<07:54,  1.01s/it]"
     ]
    },
    {
     "name": "stdout",
     "output_type": "stream",
     "text": [
      "1022349.yaml Birmingham United Kingdom\n"
     ]
    },
    {
     "name": "stderr",
     "output_type": "stream",
     "text": [
      "\r",
      " 78%|██████████████████████████████▎        | 1639/2106 [29:39<07:54,  1.02s/it]"
     ]
    },
    {
     "name": "stdout",
     "output_type": "stream",
     "text": [
      "885959.yaml Harare Sports Club Zimbabwe\n"
     ]
    },
    {
     "name": "stderr",
     "output_type": "stream",
     "text": [
      "\r",
      " 78%|██████████████████████████████▎        | 1640/2106 [29:41<09:06,  1.17s/it]"
     ]
    },
    {
     "name": "stdout",
     "output_type": "stream",
     "text": [
      "668955.yaml Mirpur Pakistan\n"
     ]
    },
    {
     "name": "stderr",
     "output_type": "stream",
     "text": [
      "\r",
      " 78%|██████████████████████████████▍        | 1641/2106 [29:42<08:58,  1.16s/it]"
     ]
    },
    {
     "name": "stdout",
     "output_type": "stream",
     "text": [
      "66204.yaml London United Kingdom\n"
     ]
    },
    {
     "name": "stderr",
     "output_type": "stream",
     "text": [
      "\r",
      " 78%|██████████████████████████████▍        | 1642/2106 [29:43<08:24,  1.09s/it]"
     ]
    },
    {
     "name": "stdout",
     "output_type": "stream",
     "text": [
      "1022355.yaml London United Kingdom\n"
     ]
    },
    {
     "name": "stderr",
     "output_type": "stream",
     "text": [
      "\r",
      " 78%|██████████████████████████████▍        | 1643/2106 [29:44<08:14,  1.07s/it]"
     ]
    },
    {
     "name": "stdout",
     "output_type": "stream",
     "text": [
      "300439.yaml Auckland New Zealand\n"
     ]
    },
    {
     "name": "stderr",
     "output_type": "stream",
     "text": [
      "\r",
      " 78%|██████████████████████████████▍        | 1644/2106 [29:45<08:07,  1.06s/it]"
     ]
    },
    {
     "name": "stdout",
     "output_type": "stream",
     "text": [
      "1244024.yaml Chattogram Bangladesh\n"
     ]
    },
    {
     "name": "stderr",
     "output_type": "stream",
     "text": [
      "\r",
      " 78%|██████████████████████████████▍        | 1645/2106 [29:46<07:56,  1.03s/it]"
     ]
    },
    {
     "name": "stdout",
     "output_type": "stream",
     "text": [
      "1034821.yaml Cuttack India\n"
     ]
    },
    {
     "name": "stderr",
     "output_type": "stream",
     "text": [
      "\r",
      " 78%|██████████████████████████████▍        | 1646/2106 [29:47<07:45,  1.01s/it]"
     ]
    },
    {
     "name": "stdout",
     "output_type": "stream",
     "text": [
      "433569.yaml Delhi India\n"
     ]
    },
    {
     "name": "stderr",
     "output_type": "stream",
     "text": [
      "\r",
      " 78%|██████████████████████████████▌        | 1647/2106 [29:48<07:46,  1.02s/it]"
     ]
    },
    {
     "name": "stdout",
     "output_type": "stream",
     "text": [
      "1144505.yaml Taunton United Kingdom\n"
     ]
    },
    {
     "name": "stderr",
     "output_type": "stream",
     "text": [
      "\r",
      " 78%|██████████████████████████████▌        | 1648/2106 [29:49<08:42,  1.14s/it]"
     ]
    },
    {
     "name": "stdout",
     "output_type": "stream",
     "text": [
      "1144159.yaml Johannesburg South Africa\n"
     ]
    },
    {
     "name": "stderr",
     "output_type": "stream",
     "text": [
      "\r",
      " 78%|██████████████████████████████▌        | 1649/2106 [29:50<08:25,  1.11s/it]"
     ]
    },
    {
     "name": "stdout",
     "output_type": "stream",
     "text": [
      "350480.yaml Port Elizabeth South Africa\n"
     ]
    },
    {
     "name": "stderr",
     "output_type": "stream",
     "text": [
      "\r",
      " 78%|██████████████████████████████▌        | 1650/2106 [29:51<08:13,  1.08s/it]"
     ]
    },
    {
     "name": "stdout",
     "output_type": "stream",
     "text": [
      "66208.yaml Birmingham United Kingdom\n"
     ]
    },
    {
     "name": "stderr",
     "output_type": "stream",
     "text": [
      "\r",
      " 78%|██████████████████████████████▌        | 1651/2106 [29:52<08:18,  1.09s/it]"
     ]
    },
    {
     "name": "stdout",
     "output_type": "stream",
     "text": [
      "560926.yaml St Kitts Saint Kitts and Nevis\n"
     ]
    },
    {
     "name": "stderr",
     "output_type": "stream",
     "text": [
      "\r",
      " 78%|██████████████████████████████▌        | 1652/2106 [29:54<08:07,  1.07s/it]"
     ]
    },
    {
     "name": "stdout",
     "output_type": "stream",
     "text": [
      "1033369.yaml Dublin Ireland\n"
     ]
    },
    {
     "name": "stderr",
     "output_type": "stream",
     "text": [
      "\r",
      " 78%|██████████████████████████████▌        | 1653/2106 [29:55<07:59,  1.06s/it]"
     ]
    },
    {
     "name": "stdout",
     "output_type": "stream",
     "text": [
      "489224.yaml Antigua Antigua and Barbuda\n"
     ]
    },
    {
     "name": "stderr",
     "output_type": "stream",
     "text": [
      "\r",
      " 79%|██████████████████████████████▋        | 1654/2106 [29:56<07:54,  1.05s/it]"
     ]
    },
    {
     "name": "stdout",
     "output_type": "stream",
     "text": [
      "1027317.yaml Antigua Antigua and Barbuda\n"
     ]
    },
    {
     "name": "stderr",
     "output_type": "stream",
     "text": [
      "\r",
      " 79%|██████████████████████████████▋        | 1655/2106 [29:57<08:58,  1.19s/it]"
     ]
    },
    {
     "name": "stdout",
     "output_type": "stream",
     "text": [
      "656441.yaml Wellington New Zealand\n"
     ]
    },
    {
     "name": "stderr",
     "output_type": "stream",
     "text": [
      "\r",
      " 79%|██████████████████████████████▋        | 1656/2106 [29:58<08:34,  1.14s/it]"
     ]
    },
    {
     "name": "stdout",
     "output_type": "stream",
     "text": [
      "433566.yaml Mirpur Pakistan\n"
     ]
    },
    {
     "name": "stderr",
     "output_type": "stream",
     "text": [
      "\r",
      " 79%|██████████████████████████████▋        | 1657/2106 [29:59<08:17,  1.11s/it]"
     ]
    },
    {
     "name": "stdout",
     "output_type": "stream",
     "text": [
      "1022353.yaml Birmingham United Kingdom\n"
     ]
    },
    {
     "name": "stderr",
     "output_type": "stream",
     "text": [
      "\r",
      " 79%|██████████████████████████████▋        | 1658/2106 [30:00<08:04,  1.08s/it]"
     ]
    },
    {
     "name": "stdout",
     "output_type": "stream",
     "text": [
      "534230.yaml London United Kingdom\n"
     ]
    },
    {
     "name": "stderr",
     "output_type": "stream",
     "text": [
      "\r",
      " 79%|██████████████████████████████▋        | 1659/2106 [30:01<08:09,  1.10s/it]"
     ]
    },
    {
     "name": "stdout",
     "output_type": "stream",
     "text": [
      "298798.yaml Cape Town South Africa\n"
     ]
    },
    {
     "name": "stderr",
     "output_type": "stream",
     "text": [
      "\r",
      " 79%|██████████████████████████████▋        | 1660/2106 [30:02<07:59,  1.07s/it]"
     ]
    },
    {
     "name": "stdout",
     "output_type": "stream",
     "text": [
      "247463.yaml St Lucia Saint Lucia\n"
     ]
    },
    {
     "name": "stderr",
     "output_type": "stream",
     "text": [
      "\r",
      " 79%|██████████████████████████████▊        | 1661/2106 [30:03<07:51,  1.06s/it]"
     ]
    },
    {
     "name": "stdout",
     "output_type": "stream",
     "text": [
      "1144520.yaml Birmingham United Kingdom\n"
     ]
    },
    {
     "name": "stderr",
     "output_type": "stream",
     "text": [
      "\r",
      " 79%|██████████████████████████████▊        | 1662/2106 [30:04<07:18,  1.01it/s]"
     ]
    },
    {
     "name": "stdout",
     "output_type": "stream",
     "text": [
      "573022.yaml Perth Australia\n"
     ]
    },
    {
     "name": "stderr",
     "output_type": "stream",
     "text": [
      "\r",
      " 79%|██████████████████████████████▊        | 1663/2106 [30:06<08:30,  1.15s/it]"
     ]
    },
    {
     "name": "stdout",
     "output_type": "stream",
     "text": [
      "1007649.yaml Harare Sports Club Zimbabwe\n"
     ]
    },
    {
     "name": "stderr",
     "output_type": "stream",
     "text": [
      "\r",
      " 79%|██████████████████████████████▊        | 1664/2106 [30:07<08:25,  1.14s/it]"
     ]
    },
    {
     "name": "stdout",
     "output_type": "stream",
     "text": [
      "238215.yaml Colombo Sri Lanka\n"
     ]
    },
    {
     "name": "stderr",
     "output_type": "stream",
     "text": [
      "\r",
      " 79%|██████████████████████████████▊        | 1665/2106 [30:08<08:08,  1.11s/it]"
     ]
    },
    {
     "name": "stdout",
     "output_type": "stream",
     "text": [
      "1303309.yaml Dublin Ireland\n"
     ]
    },
    {
     "name": "stderr",
     "output_type": "stream",
     "text": [
      "\r",
      " 79%|██████████████████████████████▊        | 1666/2106 [30:09<08:23,  1.14s/it]"
     ]
    },
    {
     "name": "stdout",
     "output_type": "stream",
     "text": [
      "293077.yaml Belfast United Kingdom\n"
     ]
    },
    {
     "name": "stderr",
     "output_type": "stream",
     "text": [
      "\r",
      " 79%|██████████████████████████████▊        | 1667/2106 [30:11<11:01,  1.51s/it]"
     ]
    },
    {
     "name": "stdout",
     "output_type": "stream",
     "text": [
      "226384.yaml Adelaide Oval Australia\n"
     ]
    },
    {
     "name": "stderr",
     "output_type": "stream",
     "text": [
      "\r",
      " 79%|██████████████████████████████▉        | 1668/2106 [30:12<09:56,  1.36s/it]"
     ]
    },
    {
     "name": "stdout",
     "output_type": "stream",
     "text": [
      "936139.yaml Durban South Africa\n"
     ]
    },
    {
     "name": "stderr",
     "output_type": "stream",
     "text": [
      "\r",
      " 79%|██████████████████████████████▉        | 1669/2106 [30:13<09:10,  1.26s/it]"
     ]
    },
    {
     "name": "stdout",
     "output_type": "stream",
     "text": [
      "1150148.yaml Belfast United Kingdom\n"
     ]
    },
    {
     "name": "stderr",
     "output_type": "stream",
     "text": [
      "\r",
      " 79%|██████████████████████████████▉        | 1670/2106 [30:15<08:38,  1.19s/it]"
     ]
    },
    {
     "name": "stdout",
     "output_type": "stream",
     "text": [
      "516207.yaml Hambantota Sri Lanka\n"
     ]
    },
    {
     "name": "stderr",
     "output_type": "stream",
     "text": [
      "\r",
      " 79%|██████████████████████████████▉        | 1671/2106 [30:16<09:24,  1.30s/it]"
     ]
    },
    {
     "name": "stdout",
     "output_type": "stream",
     "text": [
      "1031671.yaml Bristol United Kingdom\n"
     ]
    },
    {
     "name": "stderr",
     "output_type": "stream",
     "text": [
      "\r",
      " 79%|██████████████████████████████▉        | 1672/2106 [30:17<08:45,  1.21s/it]"
     ]
    },
    {
     "name": "stdout",
     "output_type": "stream",
     "text": [
      "239911.yaml St Lucia Saint Lucia\n"
     ]
    },
    {
     "name": "stderr",
     "output_type": "stream",
     "text": [
      "\r",
      " 79%|██████████████████████████████▉        | 1673/2106 [30:18<08:20,  1.16s/it]"
     ]
    },
    {
     "name": "stdout",
     "output_type": "stream",
     "text": [
      "1322033.yaml Glasgow United Kingdom\n"
     ]
    },
    {
     "name": "stderr",
     "output_type": "stream",
     "text": [
      "\r",
      " 79%|██████████████████████████████▉        | 1674/2106 [30:19<08:01,  1.12s/it]"
     ]
    },
    {
     "name": "stdout",
     "output_type": "stream",
     "text": [
      "430889.yaml Kolkata India\n"
     ]
    },
    {
     "name": "stderr",
     "output_type": "stream",
     "text": [
      "\r",
      " 80%|███████████████████████████████        | 1675/2106 [30:20<07:19,  1.02s/it]"
     ]
    },
    {
     "name": "stdout",
     "output_type": "stream",
     "text": [
      "250670.yaml Port Elizabeth South Africa\n"
     ]
    },
    {
     "name": "stderr",
     "output_type": "stream",
     "text": [
      "\r",
      " 80%|███████████████████████████████        | 1676/2106 [30:21<07:22,  1.03s/it]"
     ]
    },
    {
     "name": "stdout",
     "output_type": "stream",
     "text": [
      "1133018.yaml Harare Sports Club Zimbabwe\n"
     ]
    },
    {
     "name": "stderr",
     "output_type": "stream",
     "text": [
      "\r",
      " 80%|███████████████████████████████        | 1677/2106 [30:22<07:20,  1.03s/it]"
     ]
    },
    {
     "name": "stdout",
     "output_type": "stream",
     "text": [
      "387567.yaml Cape Town South Africa\n"
     ]
    },
    {
     "name": "stderr",
     "output_type": "stream",
     "text": [
      "\r",
      " 80%|███████████████████████████████        | 1678/2106 [30:23<07:19,  1.03s/it]"
     ]
    },
    {
     "name": "stdout",
     "output_type": "stream",
     "text": [
      "1302622.yaml Dubai United Arab Emirates\n"
     ]
    },
    {
     "name": "stderr",
     "output_type": "stream",
     "text": [
      "\r",
      " 80%|███████████████████████████████        | 1679/2106 [30:25<08:23,  1.18s/it]"
     ]
    },
    {
     "name": "stdout",
     "output_type": "stream",
     "text": [
      "350044.yaml London United Kingdom\n"
     ]
    },
    {
     "name": "stderr",
     "output_type": "stream",
     "text": [
      "\r",
      " 80%|███████████████████████████████        | 1680/2106 [30:26<08:28,  1.19s/it]"
     ]
    },
    {
     "name": "stdout",
     "output_type": "stream",
     "text": [
      "426404.yaml Bristol United Kingdom\n"
     ]
    },
    {
     "name": "stderr",
     "output_type": "stream",
     "text": [
      "\r",
      " 80%|███████████████████████████████▏       | 1681/2106 [30:27<08:06,  1.14s/it]"
     ]
    },
    {
     "name": "stdout",
     "output_type": "stream",
     "text": [
      "924629.yaml Bulawayo Zimbabwe\n"
     ]
    },
    {
     "name": "stderr",
     "output_type": "stream",
     "text": [
      "\r",
      " 80%|███████████████████████████████▏       | 1682/2106 [30:28<07:23,  1.05s/it]"
     ]
    },
    {
     "name": "stdout",
     "output_type": "stream",
     "text": [
      "473315.yaml Rangiri Dambulla International Stadium None\n"
     ]
    },
    {
     "name": "stderr",
     "output_type": "stream",
     "text": [
      "\r",
      " 80%|███████████████████████████████▏       | 1683/2106 [30:29<07:19,  1.04s/it]"
     ]
    },
    {
     "name": "stdout",
     "output_type": "stream",
     "text": [
      "995465.yaml Pallekele International Cricket Stadium Sri Lanka\n"
     ]
    },
    {
     "name": "stderr",
     "output_type": "stream",
     "text": [
      "\r",
      " 80%|███████████████████████████████▏       | 1684/2106 [30:30<07:16,  1.03s/it]"
     ]
    },
    {
     "name": "stdout",
     "output_type": "stream",
     "text": [
      "247497.yaml Grenada Grenada\n"
     ]
    },
    {
     "name": "stderr",
     "output_type": "stream",
     "text": [
      "\r",
      " 80%|███████████████████████████████▏       | 1685/2106 [30:30<06:35,  1.06it/s]"
     ]
    },
    {
     "name": "stdout",
     "output_type": "stream",
     "text": [
      "1083447.yaml Rangiri Dambulla International Stadium None\n"
     ]
    },
    {
     "name": "stderr",
     "output_type": "stream",
     "text": [
      "\r",
      " 80%|███████████████████████████████▏       | 1686/2106 [30:31<06:45,  1.04it/s]"
     ]
    },
    {
     "name": "stdout",
     "output_type": "stream",
     "text": [
      "65661.yaml Sydney Cricket Ground Australia\n"
     ]
    },
    {
     "name": "stderr",
     "output_type": "stream",
     "text": [
      "\r",
      " 80%|███████████████████████████████▏       | 1687/2106 [30:33<07:56,  1.14s/it]"
     ]
    },
    {
     "name": "stdout",
     "output_type": "stream",
     "text": [
      "257772.yaml Karachi Pakistan\n"
     ]
    },
    {
     "name": "stderr",
     "output_type": "stream",
     "text": [
      "\r",
      " 80%|███████████████████████████████▎       | 1688/2106 [30:34<07:35,  1.09s/it]"
     ]
    },
    {
     "name": "stdout",
     "output_type": "stream",
     "text": [
      "247490.yaml Guyana Guyana\n"
     ]
    },
    {
     "name": "stderr",
     "output_type": "stream",
     "text": [
      "\r",
      " 80%|███████████████████████████████▎       | 1689/2106 [30:35<07:18,  1.05s/it]"
     ]
    },
    {
     "name": "stdout",
     "output_type": "stream",
     "text": [
      "256612.yaml Kuala Lumpur Malaysia\n"
     ]
    },
    {
     "name": "stderr",
     "output_type": "stream",
     "text": [
      "\r",
      " 80%|███████████████████████████████▎       | 1690/2106 [30:36<07:14,  1.04s/it]"
     ]
    },
    {
     "name": "stdout",
     "output_type": "stream",
     "text": [
      "1144168.yaml Centurion South Africa\n"
     ]
    },
    {
     "name": "stderr",
     "output_type": "stream",
     "text": [
      "\r",
      " 80%|███████████████████████████████▎       | 1691/2106 [30:37<07:10,  1.04s/it]"
     ]
    },
    {
     "name": "stdout",
     "output_type": "stream",
     "text": [
      "297798.yaml Nagpur India\n"
     ]
    },
    {
     "name": "stderr",
     "output_type": "stream",
     "text": [
      "\r",
      " 80%|███████████████████████████████▎       | 1692/2106 [30:38<07:03,  1.02s/it]"
     ]
    },
    {
     "name": "stdout",
     "output_type": "stream",
     "text": [
      "914215.yaml Mount Maunganui New Zealand\n"
     ]
    },
    {
     "name": "stderr",
     "output_type": "stream",
     "text": [
      "\r",
      " 80%|███████████████████████████████▎       | 1693/2106 [30:39<07:07,  1.03s/it]"
     ]
    },
    {
     "name": "stdout",
     "output_type": "stream",
     "text": [
      "1022347.yaml London United Kingdom\n"
     ]
    },
    {
     "name": "stderr",
     "output_type": "stream",
     "text": [
      "\r",
      " 80%|███████████████████████████████▎       | 1694/2106 [30:40<06:39,  1.03it/s]"
     ]
    },
    {
     "name": "stdout",
     "output_type": "stream",
     "text": [
      "760795.yaml Mirpur Pakistan\n"
     ]
    },
    {
     "name": "stderr",
     "output_type": "stream",
     "text": [
      "\r",
      " 80%|███████████████████████████████▍       | 1695/2106 [30:41<08:01,  1.17s/it]"
     ]
    },
    {
     "name": "stdout",
     "output_type": "stream",
     "text": [
      "1144507.yaml Birmingham United Kingdom\n"
     ]
    },
    {
     "name": "stderr",
     "output_type": "stream",
     "text": [
      "\r",
      " 81%|███████████████████████████████▍       | 1696/2106 [30:43<07:54,  1.16s/it]"
     ]
    },
    {
     "name": "stdout",
     "output_type": "stream",
     "text": [
      "1142923.yaml Bulawayo Zimbabwe\n"
     ]
    },
    {
     "name": "stderr",
     "output_type": "stream",
     "text": [
      "\r",
      " 81%|███████████████████████████████▍       | 1697/2106 [30:44<07:49,  1.15s/it]"
     ]
    },
    {
     "name": "stdout",
     "output_type": "stream",
     "text": [
      "1051297.yaml Mirpur Pakistan\n"
     ]
    },
    {
     "name": "stderr",
     "output_type": "stream",
     "text": [
      "\r",
      " 81%|███████████████████████████████▍       | 1698/2106 [30:45<07:33,  1.11s/it]"
     ]
    },
    {
     "name": "stdout",
     "output_type": "stream",
     "text": [
      "426405.yaml Birmingham United Kingdom\n"
     ]
    },
    {
     "name": "stderr",
     "output_type": "stream",
     "text": [
      "\r",
      " 81%|███████████████████████████████▍       | 1699/2106 [30:46<07:21,  1.08s/it]"
     ]
    },
    {
     "name": "stdout",
     "output_type": "stream",
     "text": [
      "446963.yaml Hobart Australia\n"
     ]
    },
    {
     "name": "stderr",
     "output_type": "stream",
     "text": [
      "\r",
      " 81%|███████████████████████████████▍       | 1700/2106 [30:47<07:12,  1.07s/it]"
     ]
    },
    {
     "name": "stdout",
     "output_type": "stream",
     "text": [
      "730287.yaml Grenada Grenada\n"
     ]
    },
    {
     "name": "stderr",
     "output_type": "stream",
     "text": [
      "\r",
      " 81%|███████████████████████████████▌       | 1701/2106 [30:48<06:54,  1.02s/it]"
     ]
    },
    {
     "name": "stdout",
     "output_type": "stream",
     "text": [
      "560923.yaml Jamaica Jamaica\n"
     ]
    },
    {
     "name": "stderr",
     "output_type": "stream",
     "text": [
      "\r",
      " 81%|███████████████████████████████▌       | 1702/2106 [30:49<08:07,  1.21s/it]"
     ]
    },
    {
     "name": "stdout",
     "output_type": "stream",
     "text": [
      "1144506.yaml Manchester United Kingdom\n"
     ]
    },
    {
     "name": "stderr",
     "output_type": "stream",
     "text": [
      "\r",
      " 81%|███████████████████████████████▌       | 1703/2106 [30:50<07:56,  1.18s/it]"
     ]
    },
    {
     "name": "stdout",
     "output_type": "stream",
     "text": [
      "296907.yaml London United Kingdom\n"
     ]
    },
    {
     "name": "stderr",
     "output_type": "stream",
     "text": [
      "\r",
      " 81%|███████████████████████████████▌       | 1704/2106 [30:51<07:36,  1.14s/it]"
     ]
    },
    {
     "name": "stdout",
     "output_type": "stream",
     "text": [
      "860275.yaml Colombo Sri Lanka\n"
     ]
    },
    {
     "name": "stderr",
     "output_type": "stream",
     "text": [
      "\r",
      " 81%|███████████████████████████████▌       | 1705/2106 [30:53<07:34,  1.13s/it]"
     ]
    },
    {
     "name": "stdout",
     "output_type": "stream",
     "text": [
      "1120092.yaml Kanpur India\n"
     ]
    },
    {
     "name": "stderr",
     "output_type": "stream",
     "text": [
      "\r",
      " 81%|███████████████████████████████▌       | 1706/2106 [30:54<07:20,  1.10s/it]"
     ]
    },
    {
     "name": "stdout",
     "output_type": "stream",
     "text": [
      "446967.yaml Sydney Cricket Ground Australia\n"
     ]
    },
    {
     "name": "stderr",
     "output_type": "stream",
     "text": [
      "\r",
      " 81%|███████████████████████████████▌       | 1707/2106 [30:55<07:09,  1.08s/it]"
     ]
    },
    {
     "name": "stdout",
     "output_type": "stream",
     "text": [
      "1150147.yaml Belfast United Kingdom\n"
     ]
    },
    {
     "name": "stderr",
     "output_type": "stream",
     "text": [
      "\r",
      " 81%|███████████████████████████████▋       | 1708/2106 [30:56<06:59,  1.05s/it]"
     ]
    },
    {
     "name": "stdout",
     "output_type": "stream",
     "text": [
      "289110.yaml Chennai India\n"
     ]
    },
    {
     "name": "stderr",
     "output_type": "stream",
     "text": [
      "\r",
      " 81%|███████████████████████████████▋       | 1709/2106 [30:57<06:57,  1.05s/it]"
     ]
    },
    {
     "name": "stdout",
     "output_type": "stream",
     "text": [
      "249743.yaml Jaipur India\n"
     ]
    },
    {
     "name": "stderr",
     "output_type": "stream",
     "text": [
      "\r",
      " 81%|███████████████████████████████▋       | 1710/2106 [30:58<07:54,  1.20s/it]"
     ]
    },
    {
     "name": "stdout",
     "output_type": "stream",
     "text": [
      "1213872.yaml Hambantota Sri Lanka\n"
     ]
    },
    {
     "name": "stderr",
     "output_type": "stream",
     "text": [
      "\r",
      " 81%|███████████████████████████████▋       | 1711/2106 [30:59<07:44,  1.18s/it]"
     ]
    },
    {
     "name": "stdout",
     "output_type": "stream",
     "text": [
      "535797.yaml Mirpur Pakistan\n"
     ]
    },
    {
     "name": "stderr",
     "output_type": "stream",
     "text": [
      "\r",
      " 81%|███████████████████████████████▋       | 1712/2106 [31:00<07:25,  1.13s/it]"
     ]
    },
    {
     "name": "stdout",
     "output_type": "stream",
     "text": [
      "1051299.yaml Mirpur Pakistan\n"
     ]
    },
    {
     "name": "stderr",
     "output_type": "stream",
     "text": [
      "\r",
      " 81%|███████████████████████████████▋       | 1713/2106 [31:01<07:11,  1.10s/it]"
     ]
    },
    {
     "name": "stdout",
     "output_type": "stream",
     "text": [
      "1275256.yaml Al Amarat Oman\n"
     ]
    },
    {
     "name": "stderr",
     "output_type": "stream",
     "text": [
      "\r",
      " 81%|███████████████████████████████▋       | 1714/2106 [31:03<07:13,  1.11s/it]"
     ]
    },
    {
     "name": "stdout",
     "output_type": "stream",
     "text": [
      "1168516.yaml Belfast United Kingdom\n"
     ]
    },
    {
     "name": "stderr",
     "output_type": "stream",
     "text": [
      "\r",
      " 81%|███████████████████████████████▊       | 1715/2106 [31:04<07:03,  1.08s/it]"
     ]
    },
    {
     "name": "stdout",
     "output_type": "stream",
     "text": [
      "518970.yaml Adelaide Oval Australia\n"
     ]
    },
    {
     "name": "stderr",
     "output_type": "stream",
     "text": [
      "\r",
      " 81%|███████████████████████████████▊       | 1716/2106 [31:05<06:55,  1.06s/it]"
     ]
    },
    {
     "name": "stdout",
     "output_type": "stream",
     "text": [
      "1022375.yaml London United Kingdom\n"
     ]
    },
    {
     "name": "stderr",
     "output_type": "stream",
     "text": [
      "\r",
      " 82%|███████████████████████████████▊       | 1717/2106 [31:06<07:49,  1.21s/it]"
     ]
    },
    {
     "name": "stdout",
     "output_type": "stream",
     "text": [
      "1134034.yaml Sharjah Cricket Stadium United Arab Emirates\n"
     ]
    },
    {
     "name": "stderr",
     "output_type": "stream",
     "text": [
      "\r",
      " 82%|███████████████████████████████▊       | 1718/2106 [31:07<07:38,  1.18s/it]"
     ]
    },
    {
     "name": "stdout",
     "output_type": "stream",
     "text": [
      "792295.yaml Kolkata India\n"
     ]
    },
    {
     "name": "stderr",
     "output_type": "stream",
     "text": [
      "\r",
      " 82%|███████████████████████████████▊       | 1719/2106 [31:08<07:19,  1.13s/it]"
     ]
    },
    {
     "name": "stdout",
     "output_type": "stream",
     "text": [
      "578615.yaml London United Kingdom\n"
     ]
    },
    {
     "name": "stderr",
     "output_type": "stream",
     "text": [
      "\r",
      " 82%|███████████████████████████████▊       | 1720/2106 [31:09<07:05,  1.10s/it]"
     ]
    },
    {
     "name": "stdout",
     "output_type": "stream",
     "text": [
      "623575.yaml Bulawayo Zimbabwe\n"
     ]
    },
    {
     "name": "stderr",
     "output_type": "stream",
     "text": [
      "\r",
      " 82%|███████████████████████████████▊       | 1721/2106 [31:10<06:55,  1.08s/it]"
     ]
    },
    {
     "name": "stdout",
     "output_type": "stream",
     "text": [
      "430886.yaml Rajkot India\n"
     ]
    },
    {
     "name": "stderr",
     "output_type": "stream",
     "text": [
      "\r",
      " 82%|███████████████████████████████▉       | 1722/2106 [31:11<06:47,  1.06s/it]"
     ]
    },
    {
     "name": "stdout",
     "output_type": "stream",
     "text": [
      "523732.yaml Bulawayo Zimbabwe\n"
     ]
    },
    {
     "name": "stderr",
     "output_type": "stream",
     "text": [
      "\r",
      " 82%|███████████████████████████████▉       | 1723/2106 [31:12<06:42,  1.05s/it]"
     ]
    },
    {
     "name": "stdout",
     "output_type": "stream",
     "text": [
      "522248.yaml Harare Sports Club Zimbabwe\n"
     ]
    },
    {
     "name": "stderr",
     "output_type": "stream",
     "text": [
      "\r",
      " 82%|███████████████████████████████▉       | 1724/2106 [31:14<07:48,  1.23s/it]"
     ]
    },
    {
     "name": "stdout",
     "output_type": "stream",
     "text": [
      "1168517.yaml Bready United Kingdom\n"
     ]
    },
    {
     "name": "stderr",
     "output_type": "stream",
     "text": [
      "\r",
      " 82%|███████████████████████████████▉       | 1725/2106 [31:15<07:24,  1.17s/it]"
     ]
    },
    {
     "name": "stdout",
     "output_type": "stream",
     "text": [
      "1144170.yaml Port Elizabeth South Africa\n"
     ]
    },
    {
     "name": "stderr",
     "output_type": "stream",
     "text": [
      "\r",
      " 82%|███████████████████████████████▉       | 1726/2106 [31:16<06:53,  1.09s/it]"
     ]
    },
    {
     "name": "stdout",
     "output_type": "stream",
     "text": [
      "924627.yaml Bulawayo Zimbabwe\n"
     ]
    },
    {
     "name": "stderr",
     "output_type": "stream",
     "text": [
      "\r",
      " 82%|███████████████████████████████▉       | 1727/2106 [31:17<06:46,  1.07s/it]"
     ]
    },
    {
     "name": "stdout",
     "output_type": "stream",
     "text": [
      "473927.yaml Hamilton Canada\n"
     ]
    },
    {
     "name": "stderr",
     "output_type": "stream",
     "text": [
      "\r",
      " 82%|████████████████████████████████       | 1728/2106 [31:18<06:34,  1.04s/it]"
     ]
    },
    {
     "name": "stdout",
     "output_type": "stream",
     "text": [
      "657637.yaml Sharjah Cricket Stadium United Arab Emirates\n"
     ]
    },
    {
     "name": "stderr",
     "output_type": "stream",
     "text": [
      "\r",
      " 82%|████████████████████████████████       | 1729/2106 [31:19<06:36,  1.05s/it]"
     ]
    },
    {
     "name": "stdout",
     "output_type": "stream",
     "text": [
      "567359.yaml Kimberley South Africa\n"
     ]
    },
    {
     "name": "stderr",
     "output_type": "stream",
     "text": [
      "\r",
      " 82%|████████████████████████████████       | 1730/2106 [31:20<06:32,  1.04s/it]"
     ]
    },
    {
     "name": "stdout",
     "output_type": "stream",
     "text": [
      "403373.yaml Colombo Sri Lanka\n"
     ]
    },
    {
     "name": "stderr",
     "output_type": "stream",
     "text": [
      "\r",
      " 82%|████████████████████████████████       | 1731/2106 [31:21<06:29,  1.04s/it]"
     ]
    },
    {
     "name": "stdout",
     "output_type": "stream",
     "text": [
      "434261.yaml Mirpur Pakistan\n"
     ]
    },
    {
     "name": "stderr",
     "output_type": "stream",
     "text": [
      "\r",
      " 82%|████████████████████████████████       | 1732/2106 [31:22<06:26,  1.03s/it]"
     ]
    },
    {
     "name": "stdout",
     "output_type": "stream",
     "text": [
      "1299830.yaml Chattogram Bangladesh\n"
     ]
    },
    {
     "name": "stderr",
     "output_type": "stream",
     "text": [
      "\r",
      " 82%|████████████████████████████████       | 1733/2106 [31:24<07:33,  1.22s/it]"
     ]
    },
    {
     "name": "stdout",
     "output_type": "stream",
     "text": [
      "249207.yaml Harare Sports Club Zimbabwe\n"
     ]
    },
    {
     "name": "stderr",
     "output_type": "stream",
     "text": [
      "\r",
      " 82%|████████████████████████████████       | 1734/2106 [31:25<07:22,  1.19s/it]"
     ]
    },
    {
     "name": "stdout",
     "output_type": "stream",
     "text": [
      "489215.yaml Barbados Barbados\n"
     ]
    },
    {
     "name": "stderr",
     "output_type": "stream",
     "text": [
      "\r",
      " 82%|████████████████████████████████▏      | 1735/2106 [31:26<07:02,  1.14s/it]"
     ]
    },
    {
     "name": "stdout",
     "output_type": "stream",
     "text": [
      "593983.yaml Grenada Grenada\n"
     ]
    },
    {
     "name": "stderr",
     "output_type": "stream",
     "text": [
      "\r",
      " 82%|████████████████████████████████▏      | 1736/2106 [31:27<06:37,  1.07s/it]"
     ]
    },
    {
     "name": "stdout",
     "output_type": "stream",
     "text": [
      "1276911.yaml Manchester United Kingdom\n"
     ]
    },
    {
     "name": "stderr",
     "output_type": "stream",
     "text": [
      "\r",
      " 82%|████████████████████████████████▏      | 1737/2106 [31:28<06:30,  1.06s/it]"
     ]
    },
    {
     "name": "stdout",
     "output_type": "stream",
     "text": [
      "1144488.yaml Nottingham United Kingdom\n"
     ]
    },
    {
     "name": "stderr",
     "output_type": "stream",
     "text": [
      "\r",
      " 83%|████████████████████████████████▏      | 1738/2106 [31:29<06:26,  1.05s/it]"
     ]
    },
    {
     "name": "stdout",
     "output_type": "stream",
     "text": [
      "1277087.yaml Kingston Jamaica\n"
     ]
    },
    {
     "name": "stderr",
     "output_type": "stream",
     "text": [
      "\r",
      " 83%|████████████████████████████████▏      | 1739/2106 [31:30<06:22,  1.04s/it]"
     ]
    },
    {
     "name": "stdout",
     "output_type": "stream",
     "text": [
      "656421.yaml Dunedin New Zealand\n"
     ]
    },
    {
     "name": "stderr",
     "output_type": "stream",
     "text": [
      "\r",
      " 83%|████████████████████████████████▏      | 1740/2106 [31:31<06:07,  1.00s/it]"
     ]
    },
    {
     "name": "stdout",
     "output_type": "stream",
     "text": [
      "1142588.yaml Colombo Sri Lanka\n"
     ]
    },
    {
     "name": "stderr",
     "output_type": "stream",
     "text": [
      "\r",
      " 83%|████████████████████████████████▏      | 1741/2106 [31:32<07:05,  1.16s/it]"
     ]
    },
    {
     "name": "stdout",
     "output_type": "stream",
     "text": [
      "300427.yaml Napier New Zealand\n"
     ]
    },
    {
     "name": "stderr",
     "output_type": "stream",
     "text": [
      "\r",
      " 83%|████████████████████████████████▎      | 1742/2106 [31:33<06:37,  1.09s/it]"
     ]
    },
    {
     "name": "stdout",
     "output_type": "stream",
     "text": [
      "378759.yaml Mirpur Pakistan\n"
     ]
    },
    {
     "name": "stderr",
     "output_type": "stream",
     "text": [
      "\r",
      " 83%|████████████████████████████████▎      | 1743/2106 [31:34<06:28,  1.07s/it]"
     ]
    },
    {
     "name": "stdout",
     "output_type": "stream",
     "text": [
      "1022367.yaml London United Kingdom\n"
     ]
    },
    {
     "name": "stderr",
     "output_type": "stream",
     "text": [
      "\r",
      " 83%|████████████████████████████████▎      | 1744/2106 [31:35<06:22,  1.06s/it]"
     ]
    },
    {
     "name": "stdout",
     "output_type": "stream",
     "text": [
      "1299586.yaml Al Amarat Oman\n"
     ]
    },
    {
     "name": "stderr",
     "output_type": "stream",
     "text": [
      "\r",
      " 83%|████████████████████████████████▎      | 1745/2106 [31:36<06:18,  1.05s/it]"
     ]
    },
    {
     "name": "stdout",
     "output_type": "stream",
     "text": [
      "416237.yaml Nagpur India\n"
     ]
    },
    {
     "name": "stderr",
     "output_type": "stream",
     "text": [
      "\r",
      " 83%|████████████████████████████████▎      | 1746/2106 [31:37<06:14,  1.04s/it]"
     ]
    },
    {
     "name": "stdout",
     "output_type": "stream",
     "text": [
      "1029001.yaml Bristol United Kingdom\n"
     ]
    },
    {
     "name": "stderr",
     "output_type": "stream",
     "text": [
      "\r",
      " 83%|████████████████████████████████▎      | 1747/2106 [31:38<06:11,  1.04s/it]"
     ]
    },
    {
     "name": "stdout",
     "output_type": "stream",
     "text": [
      "249212.yaml Cape Town South Africa\n"
     ]
    },
    {
     "name": "stderr",
     "output_type": "stream",
     "text": [
      "\r",
      " 83%|████████████████████████████████▎      | 1748/2106 [31:40<06:20,  1.06s/it]"
     ]
    },
    {
     "name": "stdout",
     "output_type": "stream",
     "text": [
      "247484.yaml Guyana Guyana\n"
     ]
    },
    {
     "name": "stderr",
     "output_type": "stream",
     "text": [
      "\r",
      " 83%|████████████████████████████████▍      | 1749/2106 [31:41<07:10,  1.20s/it]"
     ]
    },
    {
     "name": "stdout",
     "output_type": "stream",
     "text": [
      "520592.yaml Dunedin New Zealand\n"
     ]
    },
    {
     "name": "stderr",
     "output_type": "stream",
     "text": [
      "\r",
      " 83%|████████████████████████████████▍      | 1750/2106 [31:42<06:49,  1.15s/it]"
     ]
    },
    {
     "name": "stdout",
     "output_type": "stream",
     "text": [
      "566947.yaml Cardiff United Kingdom\n"
     ]
    },
    {
     "name": "stderr",
     "output_type": "stream",
     "text": [
      "\r",
      " 83%|████████████████████████████████▍      | 1751/2106 [31:43<06:45,  1.14s/it]"
     ]
    },
    {
     "name": "stdout",
     "output_type": "stream",
     "text": [
      "426391.yaml London United Kingdom\n"
     ]
    },
    {
     "name": "stderr",
     "output_type": "stream",
     "text": [
      "\r",
      " 83%|████████████████████████████████▍      | 1752/2106 [31:44<06:32,  1.11s/it]"
     ]
    },
    {
     "name": "stdout",
     "output_type": "stream",
     "text": [
      "258476.yaml London United Kingdom\n"
     ]
    },
    {
     "name": "stderr",
     "output_type": "stream",
     "text": [
      "\r",
      " 83%|████████████████████████████████▍      | 1753/2106 [31:45<06:22,  1.08s/it]"
     ]
    },
    {
     "name": "stdout",
     "output_type": "stream",
     "text": [
      "403374.yaml Colombo Sri Lanka\n"
     ]
    },
    {
     "name": "stderr",
     "output_type": "stream",
     "text": [
      "\r",
      " 83%|████████████████████████████████▍      | 1754/2106 [31:46<06:14,  1.07s/it]"
     ]
    },
    {
     "name": "stdout",
     "output_type": "stream",
     "text": [
      "247464.yaml Trinidad Trinidad and Tobago\n"
     ]
    },
    {
     "name": "stderr",
     "output_type": "stream",
     "text": [
      "\r",
      " 83%|████████████████████████████████▌      | 1755/2106 [31:47<06:20,  1.08s/it]"
     ]
    },
    {
     "name": "stdout",
     "output_type": "stream",
     "text": [
      "1223955.yaml Sydney Cricket Ground Australia\n"
     ]
    },
    {
     "name": "stderr",
     "output_type": "stream",
     "text": [
      "\r",
      " 83%|████████████████████████████████▌      | 1756/2106 [31:48<06:02,  1.03s/it]"
     ]
    },
    {
     "name": "stdout",
     "output_type": "stream",
     "text": [
      "250672.yaml Johannesburg South Africa\n"
     ]
    },
    {
     "name": "stderr",
     "output_type": "stream",
     "text": [
      "\r",
      " 83%|████████████████████████████████▌      | 1757/2106 [31:50<06:32,  1.12s/it]"
     ]
    },
    {
     "name": "stdout",
     "output_type": "stream",
     "text": [
      "660827.yaml King City United States\n"
     ]
    },
    {
     "name": "stderr",
     "output_type": "stream",
     "text": [
      "\r",
      " 83%|████████████████████████████████▌      | 1758/2106 [31:51<06:20,  1.09s/it]"
     ]
    },
    {
     "name": "stdout",
     "output_type": "stream",
     "text": [
      "1144146.yaml Kimberley South Africa\n"
     ]
    },
    {
     "name": "stderr",
     "output_type": "stream",
     "text": [
      "\r",
      " 84%|████████████████████████████████▌      | 1759/2106 [31:52<06:12,  1.07s/it]"
     ]
    },
    {
     "name": "stdout",
     "output_type": "stream",
     "text": [
      "452150.yaml Harare Sports Club Zimbabwe\n"
     ]
    },
    {
     "name": "stderr",
     "output_type": "stream",
     "text": [
      "\r",
      " 84%|████████████████████████████████▌      | 1760/2106 [31:53<06:06,  1.06s/it]"
     ]
    },
    {
     "name": "stdout",
     "output_type": "stream",
     "text": [
      "392618.yaml Abu Dhabi United Arab Emirates\n"
     ]
    },
    {
     "name": "stderr",
     "output_type": "stream",
     "text": [
      "\r",
      " 84%|████████████████████████████████▌      | 1761/2106 [31:54<05:50,  1.02s/it]"
     ]
    },
    {
     "name": "stdout",
     "output_type": "stream",
     "text": [
      "913649.yaml Dublin Ireland\n"
     ]
    },
    {
     "name": "stderr",
     "output_type": "stream",
     "text": [
      "\r",
      " 84%|████████████████████████████████▋      | 1762/2106 [31:55<05:50,  1.02s/it]"
     ]
    },
    {
     "name": "stdout",
     "output_type": "stream",
     "text": [
      "635657.yaml Colombo Sri Lanka\n"
     ]
    },
    {
     "name": "stderr",
     "output_type": "stream",
     "text": [
      "\r",
      " 84%|████████████████████████████████▋      | 1763/2106 [31:56<05:39,  1.01it/s]"
     ]
    },
    {
     "name": "stdout",
     "output_type": "stream",
     "text": [
      "251491.yaml Christchurch New Zealand\n"
     ]
    },
    {
     "name": "stderr",
     "output_type": "stream",
     "text": [
      "\r",
      " 84%|████████████████████████████████▋      | 1764/2106 [31:56<05:21,  1.07it/s]"
     ]
    },
    {
     "name": "stdout",
     "output_type": "stream",
     "text": [
      "291360.yaml Brisbane Australia\n"
     ]
    },
    {
     "name": "stderr",
     "output_type": "stream",
     "text": [
      "\r",
      " 84%|████████████████████████████████▋      | 1765/2106 [31:57<05:28,  1.04it/s]"
     ]
    },
    {
     "name": "stdout",
     "output_type": "stream",
     "text": [
      "1295181.yaml Doha Qatar\n"
     ]
    },
    {
     "name": "stderr",
     "output_type": "stream",
     "text": [
      "\r",
      " 84%|████████████████████████████████▋      | 1766/2106 [31:59<06:26,  1.14s/it]"
     ]
    },
    {
     "name": "stdout",
     "output_type": "stream",
     "text": [
      "223018.yaml Nagpur India\n"
     ]
    },
    {
     "name": "stderr",
     "output_type": "stream",
     "text": [
      "\r",
      " 84%|████████████████████████████████▋      | 1767/2106 [32:00<06:24,  1.13s/it]"
     ]
    },
    {
     "name": "stdout",
     "output_type": "stream",
     "text": [
      "1120286.yaml Dubai International Cricket Stadium United Arab Emirates\n"
     ]
    },
    {
     "name": "stderr",
     "output_type": "stream",
     "text": [
      "\r",
      " 84%|████████████████████████████████▋      | 1768/2106 [32:01<05:51,  1.04s/it]"
     ]
    },
    {
     "name": "stdout",
     "output_type": "stream",
     "text": [
      "1140381.yaml Pallekele International Cricket Stadium Sri Lanka\n"
     ]
    },
    {
     "name": "stderr",
     "output_type": "stream",
     "text": [
      "\r",
      " 84%|████████████████████████████████▊      | 1769/2106 [32:02<05:58,  1.07s/it]"
     ]
    },
    {
     "name": "stdout",
     "output_type": "stream",
     "text": [
      "727923.yaml Abu Dhabi United Arab Emirates\n"
     ]
    },
    {
     "name": "stderr",
     "output_type": "stream",
     "text": [
      "\r",
      " 84%|████████████████████████████████▊      | 1770/2106 [32:03<05:22,  1.04it/s]"
     ]
    },
    {
     "name": "stdout",
     "output_type": "stream",
     "text": [
      "247480.yaml Trinidad Trinidad and Tobago\n"
     ]
    },
    {
     "name": "stderr",
     "output_type": "stream",
     "text": [
      "\r",
      " 84%|████████████████████████████████▊      | 1771/2106 [32:04<05:28,  1.02it/s]"
     ]
    },
    {
     "name": "stdout",
     "output_type": "stream",
     "text": [
      "1317480.yaml Cairns Australia\n"
     ]
    },
    {
     "name": "stderr",
     "output_type": "stream",
     "text": [
      "\r",
      " 84%|████████████████████████████████▊      | 1772/2106 [32:05<05:21,  1.04it/s]"
     ]
    },
    {
     "name": "stdout",
     "output_type": "stream",
     "text": [
      "915779.yaml Colombo Sri Lanka\n"
     ]
    },
    {
     "name": "stderr",
     "output_type": "stream",
     "text": [
      "\r",
      " 84%|████████████████████████████████▊      | 1773/2106 [32:06<05:06,  1.09it/s]"
     ]
    },
    {
     "name": "stdout",
     "output_type": "stream",
     "text": [
      "296917.yaml London United Kingdom\n"
     ]
    },
    {
     "name": "stderr",
     "output_type": "stream",
     "text": [
      "\r",
      " 84%|████████████████████████████████▊      | 1774/2106 [32:07<05:15,  1.05it/s]"
     ]
    },
    {
     "name": "stdout",
     "output_type": "stream",
     "text": [
      "1144496.yaml London United Kingdom\n"
     ]
    },
    {
     "name": "stderr",
     "output_type": "stream",
     "text": [
      "\r",
      " 84%|████████████████████████████████▊      | 1775/2106 [32:08<06:12,  1.13s/it]"
     ]
    },
    {
     "name": "stdout",
     "output_type": "stream",
     "text": [
      "1153692.yaml Mount Maunganui New Zealand\n"
     ]
    },
    {
     "name": "stderr",
     "output_type": "stream",
     "text": [
      "\r",
      " 84%|████████████████████████████████▉      | 1776/2106 [32:09<06:11,  1.13s/it]"
     ]
    },
    {
     "name": "stdout",
     "output_type": "stream",
     "text": [
      "361047.yaml Cuttack India\n"
     ]
    },
    {
     "name": "stderr",
     "output_type": "stream",
     "text": [
      "\r",
      " 84%|████████████████████████████████▉      | 1777/2106 [32:10<05:50,  1.07s/it]"
     ]
    },
    {
     "name": "stdout",
     "output_type": "stream",
     "text": [
      "868731.yaml Lahore Pakistan\n"
     ]
    },
    {
     "name": "stderr",
     "output_type": "stream",
     "text": [
      "\r",
      " 84%|████████████████████████████████▉      | 1778/2106 [32:11<05:45,  1.05s/it]"
     ]
    },
    {
     "name": "stdout",
     "output_type": "stream",
     "text": [
      "366341.yaml Colombo Sri Lanka\n"
     ]
    },
    {
     "name": "stderr",
     "output_type": "stream",
     "text": [
      "\r",
      " 84%|████████████████████████████████▉      | 1779/2106 [32:12<05:41,  1.04s/it]"
     ]
    },
    {
     "name": "stdout",
     "output_type": "stream",
     "text": [
      "1276909.yaml Manchester United Kingdom\n"
     ]
    },
    {
     "name": "stderr",
     "output_type": "stream",
     "text": [
      "\r",
      " 85%|████████████████████████████████▉      | 1780/2106 [32:13<05:28,  1.01s/it]"
     ]
    },
    {
     "name": "stdout",
     "output_type": "stream",
     "text": [
      "239912.yaml Trinidad Trinidad and Tobago\n"
     ]
    },
    {
     "name": "stderr",
     "output_type": "stream",
     "text": [
      "\r",
      " 85%|████████████████████████████████▉      | 1781/2106 [32:14<05:29,  1.01s/it]"
     ]
    },
    {
     "name": "stdout",
     "output_type": "stream",
     "text": [
      "754749.yaml Melbourne Cricket Ground Australia\n"
     ]
    },
    {
     "name": "stderr",
     "output_type": "stream",
     "text": [
      "\r",
      " 85%|█████████████████████████████████      | 1782/2106 [32:15<05:29,  1.02s/it]"
     ]
    },
    {
     "name": "stdout",
     "output_type": "stream",
     "text": [
      "298797.yaml Port Elizabeth South Africa\n"
     ]
    },
    {
     "name": "stderr",
     "output_type": "stream",
     "text": [
      "\r",
      " 85%|█████████████████████████████████      | 1783/2106 [32:16<05:28,  1.02s/it]"
     ]
    },
    {
     "name": "stdout",
     "output_type": "stream",
     "text": [
      "597925.yaml Jamaica Jamaica\n"
     ]
    },
    {
     "name": "stderr",
     "output_type": "stream",
     "text": [
      "\r",
      " 85%|█████████████████████████████████      | 1784/2106 [32:18<06:27,  1.20s/it]"
     ]
    },
    {
     "name": "stdout",
     "output_type": "stream",
     "text": [
      "1193499.yaml Lucknow India\n"
     ]
    },
    {
     "name": "stderr",
     "output_type": "stream",
     "text": [
      "\r",
      " 85%|█████████████████████████████████      | 1785/2106 [32:19<06:19,  1.18s/it]"
     ]
    },
    {
     "name": "stdout",
     "output_type": "stream",
     "text": [
      "297795.yaml Hyderabad India\n"
     ]
    },
    {
     "name": "stderr",
     "output_type": "stream",
     "text": [
      "\r",
      " 85%|█████████████████████████████████      | 1786/2106 [32:20<05:43,  1.07s/it]"
     ]
    },
    {
     "name": "stdout",
     "output_type": "stream",
     "text": [
      "744681.yaml Mirpur Pakistan\n"
     ]
    },
    {
     "name": "stderr",
     "output_type": "stream",
     "text": [
      "\r",
      " 85%|█████████████████████████████████      | 1787/2106 [32:21<05:37,  1.06s/it]"
     ]
    },
    {
     "name": "stdout",
     "output_type": "stream",
     "text": [
      "1343683.yaml Kirtipur Nepal\n"
     ]
    },
    {
     "name": "stderr",
     "output_type": "stream",
     "text": [
      "\r",
      " 85%|█████████████████████████████████      | 1788/2106 [32:22<05:13,  1.01it/s]"
     ]
    },
    {
     "name": "stdout",
     "output_type": "stream",
     "text": [
      "415281.yaml Centurion South Africa\n"
     ]
    },
    {
     "name": "stderr",
     "output_type": "stream",
     "text": [
      "\r",
      " 85%|█████████████████████████████████▏     | 1789/2106 [32:23<05:23,  1.02s/it]"
     ]
    },
    {
     "name": "stdout",
     "output_type": "stream",
     "text": [
      "64917.yaml Dhaka Bangladesh\n"
     ]
    },
    {
     "name": "stderr",
     "output_type": "stream",
     "text": [
      "\r",
      " 85%|█████████████████████████████████▏     | 1790/2106 [32:24<05:25,  1.03s/it]"
     ]
    },
    {
     "name": "stdout",
     "output_type": "stream",
     "text": [
      "1331369.yaml Port Moresby Papua New Guinea\n"
     ]
    },
    {
     "name": "stderr",
     "output_type": "stream",
     "text": [
      "\r",
      " 85%|█████████████████████████████████▏     | 1791/2106 [32:25<05:23,  1.03s/it]"
     ]
    },
    {
     "name": "stdout",
     "output_type": "stream",
     "text": [
      "1133007.yaml Harare Zimbabwe\n"
     ]
    },
    {
     "name": "stderr",
     "output_type": "stream",
     "text": [
      "\r",
      " 85%|█████████████████████████████████▏     | 1792/2106 [32:26<06:10,  1.18s/it]"
     ]
    },
    {
     "name": "stdout",
     "output_type": "stream",
     "text": [
      "249753.yaml Ahmedabad India\n"
     ]
    },
    {
     "name": "stderr",
     "output_type": "stream",
     "text": [
      "\r",
      " 85%|█████████████████████████████████▏     | 1793/2106 [32:27<05:54,  1.13s/it]"
     ]
    },
    {
     "name": "stdout",
     "output_type": "stream",
     "text": [
      "743979.yaml London United Kingdom\n"
     ]
    },
    {
     "name": "stderr",
     "output_type": "stream",
     "text": [
      "\r",
      " 85%|█████████████████████████████████▏     | 1794/2106 [32:28<05:33,  1.07s/it]"
     ]
    },
    {
     "name": "stdout",
     "output_type": "stream",
     "text": [
      "375460.yaml Harare Sports Club Zimbabwe\n"
     ]
    },
    {
     "name": "stderr",
     "output_type": "stream",
     "text": [
      "\r",
      " 85%|█████████████████████████████████▏     | 1795/2106 [32:29<05:28,  1.06s/it]"
     ]
    },
    {
     "name": "stdout",
     "output_type": "stream",
     "text": [
      "249747.yaml Jaipur India\n"
     ]
    },
    {
     "name": "stderr",
     "output_type": "stream",
     "text": [
      "\r",
      " 85%|█████████████████████████████████▎     | 1796/2106 [32:30<05:24,  1.05s/it]"
     ]
    },
    {
     "name": "stdout",
     "output_type": "stream",
     "text": [
      "1244023.yaml Dhaka Bangladesh\n"
     ]
    },
    {
     "name": "stderr",
     "output_type": "stream",
     "text": [
      "\r",
      " 85%|█████████████████████████████████▎     | 1797/2106 [32:31<05:21,  1.04s/it]"
     ]
    },
    {
     "name": "stdout",
     "output_type": "stream",
     "text": [
      "251495.yaml Auckland New Zealand\n"
     ]
    },
    {
     "name": "stderr",
     "output_type": "stream",
     "text": [
      "\r",
      " 85%|█████████████████████████████████▎     | 1798/2106 [32:32<05:18,  1.04s/it]"
     ]
    },
    {
     "name": "stdout",
     "output_type": "stream",
     "text": [
      "895815.yaml Sydney Cricket Ground Australia\n"
     ]
    },
    {
     "name": "stderr",
     "output_type": "stream",
     "text": [
      "\r",
      " 85%|█████████████████████████████████▎     | 1799/2106 [32:33<05:07,  1.00s/it]"
     ]
    },
    {
     "name": "stdout",
     "output_type": "stream",
     "text": [
      "297794.yaml Kochi Japan\n"
     ]
    },
    {
     "name": "stderr",
     "output_type": "stream",
     "text": [
      "\r",
      " 85%|█████████████████████████████████▎     | 1800/2106 [32:34<04:49,  1.06it/s]"
     ]
    },
    {
     "name": "stdout",
     "output_type": "stream",
     "text": [
      "366709.yaml Queenstown Events Centre None\n"
     ]
    },
    {
     "name": "stderr",
     "output_type": "stream",
     "text": [
      "\r",
      " 86%|█████████████████████████████████▎     | 1801/2106 [32:36<05:33,  1.09s/it]"
     ]
    },
    {
     "name": "stdout",
     "output_type": "stream",
     "text": [
      "656439.yaml Perth Australia\n"
     ]
    },
    {
     "name": "stderr",
     "output_type": "stream",
     "text": [
      "\r",
      " 86%|█████████████████████████████████▎     | 1802/2106 [32:36<04:31,  1.12it/s]"
     ]
    },
    {
     "name": "stdout",
     "output_type": "stream",
     "text": [
      "913627.yaml Bristol None\n"
     ]
    },
    {
     "name": "stderr",
     "output_type": "stream",
     "text": [
      "\r",
      " 86%|█████████████████████████████████▍     | 1803/2106 [32:37<04:00,  1.26it/s]"
     ]
    },
    {
     "name": "stdout",
     "output_type": "stream",
     "text": [
      "426387.yaml Southampton None\n"
     ]
    },
    {
     "name": "stderr",
     "output_type": "stream",
     "text": [
      "\r",
      " 86%|█████████████████████████████████▍     | 1804/2106 [32:37<03:25,  1.47it/s]"
     ]
    },
    {
     "name": "stdout",
     "output_type": "stream",
     "text": [
      "636534.yaml Antigua None\n"
     ]
    },
    {
     "name": "stderr",
     "output_type": "stream",
     "text": [
      "\r",
      " 86%|█████████████████████████████████▍     | 1805/2106 [32:37<03:04,  1.63it/s]"
     ]
    },
    {
     "name": "stdout",
     "output_type": "stream",
     "text": [
      "225251.yaml London None\n"
     ]
    },
    {
     "name": "stderr",
     "output_type": "stream",
     "text": [
      "\r",
      " 86%|█████████████████████████████████▍     | 1806/2106 [32:38<03:21,  1.49it/s]"
     ]
    },
    {
     "name": "stdout",
     "output_type": "stream",
     "text": [
      "587475.yaml Mirpur None\n"
     ]
    },
    {
     "name": "stderr",
     "output_type": "stream",
     "text": [
      "\r",
      " 86%|█████████████████████████████████▍     | 1807/2106 [32:38<02:45,  1.81it/s]"
     ]
    },
    {
     "name": "stdout",
     "output_type": "stream",
     "text": [
      "293072.yaml Belfast None\n"
     ]
    },
    {
     "name": "stderr",
     "output_type": "stream",
     "text": [
      "\r",
      " 86%|█████████████████████████████████▍     | 1808/2106 [32:39<02:31,  1.97it/s]"
     ]
    },
    {
     "name": "stdout",
     "output_type": "stream",
     "text": [
      "1307479.yaml Edinburgh None\n"
     ]
    },
    {
     "name": "stderr",
     "output_type": "stream",
     "text": [
      "\r",
      " 86%|█████████████████████████████████▌     | 1809/2106 [32:39<02:25,  2.04it/s]"
     ]
    },
    {
     "name": "stdout",
     "output_type": "stream",
     "text": [
      "1185319.yaml Paarl None\n"
     ]
    },
    {
     "name": "stderr",
     "output_type": "stream",
     "text": [
      "\r",
      " 86%|█████████████████████████████████▌     | 1810/2106 [32:40<03:09,  1.56it/s]"
     ]
    },
    {
     "name": "stdout",
     "output_type": "stream",
     "text": [
      "1098207.yaml Trinidad None\n"
     ]
    },
    {
     "name": "stderr",
     "output_type": "stream",
     "text": [
      "\r",
      " 86%|██████████████████████████████▉     | 1811/2106 [38:23<8:27:26, 103.21s/it]"
     ]
    },
    {
     "name": "stdout",
     "output_type": "stream",
     "text": [
      "538071.yaml Chittagong None\n"
     ]
    },
    {
     "name": "stderr",
     "output_type": "stream",
     "text": [
      "\r",
      " 86%|███████████████████████████████▊     | 1812/2106 [38:25<5:57:35, 72.98s/it]"
     ]
    },
    {
     "name": "stdout",
     "output_type": "stream",
     "text": [
      "516206.yaml Pallekele International Cricket Stadium None\n"
     ]
    },
    {
     "name": "stderr",
     "output_type": "stream",
     "text": [
      "\r",
      " 86%|███████████████████████████████▊     | 1813/2106 [38:26<4:10:06, 51.22s/it]"
     ]
    },
    {
     "name": "stdout",
     "output_type": "stream",
     "text": [
      "258467.yaml Nottingham None\n"
     ]
    },
    {
     "name": "stderr",
     "output_type": "stream",
     "text": [
      "\r",
      " 86%|███████████████████████████████▊     | 1814/2106 [38:26<2:54:58, 35.95s/it]"
     ]
    },
    {
     "name": "stdout",
     "output_type": "stream",
     "text": [
      "415274.yaml Johannesburg None\n"
     ]
    },
    {
     "name": "stderr",
     "output_type": "stream",
     "text": [
      "\r",
      " 86%|███████████████████████████████▉     | 1815/2106 [38:26<2:02:33, 25.27s/it]"
     ]
    },
    {
     "name": "stdout",
     "output_type": "stream",
     "text": [
      "406193.yaml Adelaide Oval None\n"
     ]
    },
    {
     "name": "stderr",
     "output_type": "stream",
     "text": [
      "\r",
      " 86%|███████████████████████████████▉     | 1816/2106 [38:27<1:26:11, 17.83s/it]"
     ]
    },
    {
     "name": "stdout",
     "output_type": "stream",
     "text": [
      "1299829.yaml Chattogram None\n"
     ]
    },
    {
     "name": "stderr",
     "output_type": "stream",
     "text": [
      "\r",
      " 86%|███████████████████████████████▉     | 1817/2106 [38:27<1:00:46, 12.62s/it]"
     ]
    },
    {
     "name": "stdout",
     "output_type": "stream",
     "text": [
      "534215.yaml London None\n"
     ]
    },
    {
     "name": "stderr",
     "output_type": "stream",
     "text": [
      "\r",
      " 86%|█████████████████████████████████▋     | 1818/2106 [38:29<44:08,  9.20s/it]"
     ]
    },
    {
     "name": "stdout",
     "output_type": "stream",
     "text": [
      "66197.yaml London None\n"
     ]
    },
    {
     "name": "stderr",
     "output_type": "stream",
     "text": [
      "\r",
      " 86%|█████████████████████████████████▋     | 1819/2106 [38:29<31:46,  6.64s/it]"
     ]
    },
    {
     "name": "stdout",
     "output_type": "stream",
     "text": [
      "1157378.yaml Abu Dhabi None\n"
     ]
    },
    {
     "name": "stderr",
     "output_type": "stream",
     "text": [
      "\r",
      " 86%|█████████████████████████████████▋     | 1820/2106 [38:30<22:53,  4.80s/it]"
     ]
    },
    {
     "name": "stdout",
     "output_type": "stream",
     "text": [
      "489216.yaml Barbados None\n"
     ]
    },
    {
     "name": "stderr",
     "output_type": "stream",
     "text": [
      " 87%|█████████████████████████████████▋     | 1822/2106 [38:30<11:57,  2.53s/it]"
     ]
    },
    {
     "name": "stdout",
     "output_type": "stream",
     "text": [
      "750669.yaml Colombo None\n",
      "433559.yaml Chennai None\n"
     ]
    },
    {
     "name": "stderr",
     "output_type": "stream",
     "text": [
      "\r",
      " 87%|█████████████████████████████████▊     | 1823/2106 [38:32<09:57,  2.11s/it]"
     ]
    },
    {
     "name": "stdout",
     "output_type": "stream",
     "text": [
      "914227.yaml Wellington New Zealand\n"
     ]
    },
    {
     "name": "stderr",
     "output_type": "stream",
     "text": [
      "\r",
      " 87%|█████████████████████████████████▊     | 1824/2106 [38:33<08:18,  1.77s/it]"
     ]
    },
    {
     "name": "stdout",
     "output_type": "stream",
     "text": [
      "1215124.yaml Kirtipur Nepal\n"
     ]
    },
    {
     "name": "stderr",
     "output_type": "stream",
     "text": [
      "\r",
      " 87%|█████████████████████████████████▊     | 1825/2106 [38:33<07:03,  1.51s/it]"
     ]
    },
    {
     "name": "stdout",
     "output_type": "stream",
     "text": [
      "1140380.yaml Rangiri Dambulla International Stadium None\n"
     ]
    },
    {
     "name": "stderr",
     "output_type": "stream",
     "text": [
      "\r",
      " 87%|█████████████████████████████████▊     | 1826/2106 [38:34<06:11,  1.33s/it]"
     ]
    },
    {
     "name": "stdout",
     "output_type": "stream",
     "text": [
      "1144508.yaml Nottingham United Kingdom\n"
     ]
    },
    {
     "name": "stderr",
     "output_type": "stream",
     "text": [
      "\r",
      " 87%|█████████████████████████████████▊     | 1827/2106 [38:36<06:24,  1.38s/it]"
     ]
    },
    {
     "name": "stdout",
     "output_type": "stream",
     "text": [
      "238193.yaml Jamshedpur India\n"
     ]
    },
    {
     "name": "stderr",
     "output_type": "stream",
     "text": [
      "\r",
      " 87%|█████████████████████████████████▊     | 1828/2106 [38:37<05:42,  1.23s/it]"
     ]
    },
    {
     "name": "stdout",
     "output_type": "stream",
     "text": [
      "1020039.yaml Auckland New Zealand\n"
     ]
    },
    {
     "name": "stderr",
     "output_type": "stream",
     "text": [
      "\r",
      " 87%|█████████████████████████████████▊     | 1829/2106 [38:38<05:18,  1.15s/it]"
     ]
    },
    {
     "name": "stdout",
     "output_type": "stream",
     "text": [
      "848843.yaml Centurion South Africa\n"
     ]
    },
    {
     "name": "stderr",
     "output_type": "stream",
     "text": [
      "\r",
      " 87%|█████████████████████████████████▉     | 1830/2106 [38:39<05:14,  1.14s/it]"
     ]
    },
    {
     "name": "stdout",
     "output_type": "stream",
     "text": [
      "439151.yaml Trinidad Trinidad and Tobago\n"
     ]
    },
    {
     "name": "stderr",
     "output_type": "stream",
     "text": [
      "\r",
      " 87%|█████████████████████████████████▉     | 1831/2106 [38:40<05:04,  1.11s/it]"
     ]
    },
    {
     "name": "stdout",
     "output_type": "stream",
     "text": [
      "1276910.yaml Chester-le-Street United Kingdom\n"
     ]
    },
    {
     "name": "stderr",
     "output_type": "stream",
     "text": [
      "\r",
      " 87%|█████████████████████████████████▉     | 1832/2106 [38:41<04:56,  1.08s/it]"
     ]
    },
    {
     "name": "stdout",
     "output_type": "stream",
     "text": [
      "433602.yaml Mirpur Pakistan\n"
     ]
    },
    {
     "name": "stderr",
     "output_type": "stream",
     "text": [
      "\r",
      " 87%|█████████████████████████████████▉     | 1833/2106 [38:42<04:50,  1.06s/it]"
     ]
    },
    {
     "name": "stdout",
     "output_type": "stream",
     "text": [
      "66196.yaml Birmingham United Kingdom\n"
     ]
    },
    {
     "name": "stderr",
     "output_type": "stream",
     "text": [
      "\r",
      " 87%|█████████████████████████████████▉     | 1834/2106 [38:43<04:46,  1.05s/it]"
     ]
    },
    {
     "name": "stdout",
     "output_type": "stream",
     "text": [
      "566940.yaml Dublin Ireland\n"
     ]
    },
    {
     "name": "stderr",
     "output_type": "stream",
     "text": [
      "\r",
      " 87%|█████████████████████████████████▉     | 1835/2106 [38:45<05:24,  1.20s/it]"
     ]
    },
    {
     "name": "stdout",
     "output_type": "stream",
     "text": [
      "545656.yaml Sharjah Cricket Stadium United Arab Emirates\n"
     ]
    },
    {
     "name": "stderr",
     "output_type": "stream",
     "text": [
      "\r",
      " 87%|██████████████████████████████████     | 1836/2106 [38:46<05:09,  1.15s/it]"
     ]
    },
    {
     "name": "stdout",
     "output_type": "stream",
     "text": [
      "659551.yaml Harare Sports Club Zimbabwe\n"
     ]
    },
    {
     "name": "stderr",
     "output_type": "stream",
     "text": [
      "\r",
      " 87%|██████████████████████████████████     | 1837/2106 [38:47<04:58,  1.11s/it]"
     ]
    },
    {
     "name": "stdout",
     "output_type": "stream",
     "text": [
      "489221.yaml Trinidad Trinidad and Tobago\n"
     ]
    },
    {
     "name": "stderr",
     "output_type": "stream",
     "text": [
      "\r",
      " 87%|██████████████████████████████████     | 1838/2106 [38:48<04:58,  1.11s/it]"
     ]
    },
    {
     "name": "stdout",
     "output_type": "stream",
     "text": [
      "225250.yaml London United Kingdom\n"
     ]
    },
    {
     "name": "stderr",
     "output_type": "stream",
     "text": [
      "\r",
      " 87%|██████████████████████████████████     | 1839/2106 [38:49<04:50,  1.09s/it]"
     ]
    },
    {
     "name": "stdout",
     "output_type": "stream",
     "text": [
      "750671.yaml Pallekele International Cricket Stadium Sri Lanka\n"
     ]
    },
    {
     "name": "stderr",
     "output_type": "stream",
     "text": [
      "\r",
      " 87%|██████████████████████████████████     | 1840/2106 [38:50<04:44,  1.07s/it]"
     ]
    },
    {
     "name": "stdout",
     "output_type": "stream",
     "text": [
      "66385.yaml Melbourne Australia\n"
     ]
    },
    {
     "name": "stderr",
     "output_type": "stream",
     "text": [
      "\r",
      " 87%|██████████████████████████████████     | 1841/2106 [38:51<04:39,  1.06s/it]"
     ]
    },
    {
     "name": "stdout",
     "output_type": "stream",
     "text": [
      "258471.yaml Southampton United Kingdom\n"
     ]
    },
    {
     "name": "stderr",
     "output_type": "stream",
     "text": [
      "\r",
      " 87%|██████████████████████████████████     | 1842/2106 [38:52<04:28,  1.02s/it]"
     ]
    },
    {
     "name": "stdout",
     "output_type": "stream",
     "text": [
      "464723.yaml Toronto Canada\n"
     ]
    },
    {
     "name": "stderr",
     "output_type": "stream",
     "text": [
      "\r",
      " 88%|██████████████████████████████████▏    | 1843/2106 [38:53<05:16,  1.20s/it]"
     ]
    },
    {
     "name": "stdout",
     "output_type": "stream",
     "text": [
      "1027315.yaml Antigua Antigua and Barbuda\n"
     ]
    },
    {
     "name": "stderr",
     "output_type": "stream",
     "text": [
      "\r",
      " 88%|██████████████████████████████████▏    | 1844/2106 [38:54<04:44,  1.09s/it]"
     ]
    },
    {
     "name": "stdout",
     "output_type": "stream",
     "text": [
      "1276293.yaml Al Amarat Oman\n"
     ]
    },
    {
     "name": "stderr",
     "output_type": "stream",
     "text": [
      "\r",
      " 88%|██████████████████████████████████▏    | 1845/2106 [38:56<05:10,  1.19s/it]"
     ]
    },
    {
     "name": "stdout",
     "output_type": "stream",
     "text": [
      "65665.yaml Perth Australia\n"
     ]
    },
    {
     "name": "stderr",
     "output_type": "stream",
     "text": [
      "\r",
      " 88%|██████████████████████████████████▏    | 1846/2106 [38:57<04:56,  1.14s/it]"
     ]
    },
    {
     "name": "stdout",
     "output_type": "stream",
     "text": [
      "1000895.yaml Adelaide Oval Australia\n"
     ]
    },
    {
     "name": "stderr",
     "output_type": "stream",
     "text": [
      "\r",
      " 88%|██████████████████████████████████▏    | 1847/2106 [38:58<04:38,  1.08s/it]"
     ]
    },
    {
     "name": "stdout",
     "output_type": "stream",
     "text": [
      "1278676.yaml Ahmedabad India\n"
     ]
    },
    {
     "name": "stderr",
     "output_type": "stream",
     "text": [
      "\r",
      " 88%|██████████████████████████████████▏    | 1848/2106 [38:59<04:57,  1.15s/it]"
     ]
    },
    {
     "name": "stdout",
     "output_type": "stream",
     "text": [
      "1144167.yaml Johannesburg South Africa\n"
     ]
    },
    {
     "name": "stderr",
     "output_type": "stream",
     "text": [
      "\r",
      " 88%|██████████████████████████████████▏    | 1849/2106 [39:00<04:46,  1.11s/it]"
     ]
    },
    {
     "name": "stdout",
     "output_type": "stream",
     "text": [
      "433598.yaml Kolkata India\n"
     ]
    },
    {
     "name": "stderr",
     "output_type": "stream",
     "text": [
      "\r",
      " 88%|██████████████████████████████████▎    | 1850/2106 [39:01<05:09,  1.21s/it]"
     ]
    },
    {
     "name": "stdout",
     "output_type": "stream",
     "text": [
      "247498.yaml Barbados Barbados\n"
     ]
    },
    {
     "name": "stderr",
     "output_type": "stream",
     "text": [
      "\r",
      " 88%|██████████████████████████████████▎    | 1851/2106 [39:03<05:33,  1.31s/it]"
     ]
    },
    {
     "name": "stdout",
     "output_type": "stream",
     "text": [
      "1312808.yaml Pearland United States\n"
     ]
    },
    {
     "name": "stderr",
     "output_type": "stream",
     "text": [
      "\r",
      " 88%|██████████████████████████████████▎    | 1852/2106 [39:04<05:16,  1.24s/it]"
     ]
    },
    {
     "name": "stdout",
     "output_type": "stream",
     "text": [
      "1001371.yaml Sydney Cricket Ground Australia\n"
     ]
    },
    {
     "name": "stderr",
     "output_type": "stream",
     "text": [
      "\r",
      " 88%|██████████████████████████████████▎    | 1853/2106 [39:05<05:00,  1.19s/it]"
     ]
    },
    {
     "name": "stdout",
     "output_type": "stream",
     "text": [
      "325581.yaml Nairobi Kenya\n"
     ]
    },
    {
     "name": "stderr",
     "output_type": "stream",
     "text": [
      "\r",
      " 88%|██████████████████████████████████▎    | 1854/2106 [39:06<04:46,  1.14s/it]"
     ]
    },
    {
     "name": "stdout",
     "output_type": "stream",
     "text": [
      "226383.yaml Brisbane Australia\n"
     ]
    },
    {
     "name": "stderr",
     "output_type": "stream",
     "text": [
      "\r",
      " 88%|██████████████████████████████████▎    | 1855/2106 [39:07<04:37,  1.10s/it]"
     ]
    },
    {
     "name": "stdout",
     "output_type": "stream",
     "text": [
      "760787.yaml Chittagong Bangladesh\n"
     ]
    },
    {
     "name": "stderr",
     "output_type": "stream",
     "text": [
      "\r",
      " 88%|██████████████████████████████████▎    | 1856/2106 [39:08<04:29,  1.08s/it]"
     ]
    },
    {
     "name": "stdout",
     "output_type": "stream",
     "text": [
      "1276294.yaml Al Amarat Oman\n"
     ]
    },
    {
     "name": "stderr",
     "output_type": "stream",
     "text": [
      "\r",
      " 88%|██████████████████████████████████▍    | 1857/2106 [39:09<04:24,  1.06s/it]"
     ]
    },
    {
     "name": "stdout",
     "output_type": "stream",
     "text": [
      "1168242.yaml Hyderabad India\n"
     ]
    },
    {
     "name": "stderr",
     "output_type": "stream",
     "text": [
      "\r",
      " 88%|██████████████████████████████████▍    | 1858/2106 [39:10<04:20,  1.05s/it]"
     ]
    },
    {
     "name": "stdout",
     "output_type": "stream",
     "text": [
      "64857.yaml Auckland New Zealand\n"
     ]
    },
    {
     "name": "stderr",
     "output_type": "stream",
     "text": [
      "\r",
      " 88%|██████████████████████████████████▍    | 1859/2106 [39:12<05:03,  1.23s/it]"
     ]
    },
    {
     "name": "stdout",
     "output_type": "stream",
     "text": [
      "401074.yaml Dominica Dominican Republic\n"
     ]
    },
    {
     "name": "stderr",
     "output_type": "stream",
     "text": [
      "\r",
      " 88%|██████████████████████████████████▍    | 1860/2106 [39:13<04:39,  1.14s/it]"
     ]
    },
    {
     "name": "stdout",
     "output_type": "stream",
     "text": [
      "1134035.yaml Sharjah Cricket Stadium United Arab Emirates\n"
     ]
    },
    {
     "name": "stderr",
     "output_type": "stream",
     "text": [
      "\r",
      " 88%|██████████████████████████████████▍    | 1861/2106 [39:14<04:30,  1.10s/it]"
     ]
    },
    {
     "name": "stdout",
     "output_type": "stream",
     "text": [
      "1030219.yaml Dharmasala India\n"
     ]
    },
    {
     "name": "stderr",
     "output_type": "stream",
     "text": [
      "\r",
      " 88%|██████████████████████████████████▍    | 1862/2106 [39:15<04:23,  1.08s/it]"
     ]
    },
    {
     "name": "stdout",
     "output_type": "stream",
     "text": [
      "800469.yaml Bloemfontein South Africa\n"
     ]
    },
    {
     "name": "stderr",
     "output_type": "stream",
     "text": [
      "\r",
      " 88%|██████████████████████████████████▌    | 1863/2106 [39:15<03:55,  1.03it/s]"
     ]
    },
    {
     "name": "stdout",
     "output_type": "stream",
     "text": [
      "295785.yaml Belfast United Kingdom\n"
     ]
    },
    {
     "name": "stderr",
     "output_type": "stream",
     "text": [
      "\r",
      " 89%|██████████████████████████████████▌    | 1864/2106 [39:16<03:58,  1.01it/s]"
     ]
    },
    {
     "name": "stdout",
     "output_type": "stream",
     "text": [
      "250668.yaml Centurion South Africa\n"
     ]
    },
    {
     "name": "stderr",
     "output_type": "stream",
     "text": [
      "\r",
      " 89%|██████████████████████████████████▌    | 1865/2106 [39:17<03:53,  1.03it/s]"
     ]
    },
    {
     "name": "stdout",
     "output_type": "stream",
     "text": [
      "754753.yaml Brisbane Australia\n"
     ]
    },
    {
     "name": "stderr",
     "output_type": "stream",
     "text": [
      "\r",
      " 89%|██████████████████████████████████▌    | 1866/2106 [39:18<03:34,  1.12it/s]"
     ]
    },
    {
     "name": "stdout",
     "output_type": "stream",
     "text": [
      "1059713.yaml Bulawayo Zimbabwe\n"
     ]
    },
    {
     "name": "stderr",
     "output_type": "stream",
     "text": [
      "\r",
      " 89%|██████████████████████████████████▌    | 1867/2106 [39:19<03:42,  1.07it/s]"
     ]
    },
    {
     "name": "stdout",
     "output_type": "stream",
     "text": [
      "1331367.yaml Port Moresby Papua New Guinea\n"
     ]
    },
    {
     "name": "stderr",
     "output_type": "stream",
     "text": [
      "\r",
      " 89%|██████████████████████████████████▌    | 1868/2106 [39:20<03:48,  1.04it/s]"
     ]
    },
    {
     "name": "stdout",
     "output_type": "stream",
     "text": [
      "64871.yaml Dambulla Sri Lanka\n"
     ]
    },
    {
     "name": "stderr",
     "output_type": "stream",
     "text": [
      "\r",
      " 89%|██████████████████████████████████▌    | 1869/2106 [39:22<04:35,  1.16s/it]"
     ]
    },
    {
     "name": "stdout",
     "output_type": "stream",
     "text": [
      "1223956.yaml Sydney Cricket Ground Australia\n"
     ]
    },
    {
     "name": "stderr",
     "output_type": "stream",
     "text": [
      "\r",
      " 89%|██████████████████████████████████▋    | 1870/2106 [39:23<04:24,  1.12s/it]"
     ]
    },
    {
     "name": "stdout",
     "output_type": "stream",
     "text": [
      "247505.yaml Jamaica Jamaica\n"
     ]
    },
    {
     "name": "stderr",
     "output_type": "stream",
     "text": [
      "\r",
      " 89%|██████████████████████████████████▋    | 1871/2106 [39:24<04:21,  1.11s/it]"
     ]
    },
    {
     "name": "stdout",
     "output_type": "stream",
     "text": [
      "1198240.yaml Manchester United Kingdom\n"
     ]
    },
    {
     "name": "stderr",
     "output_type": "stream",
     "text": [
      "\r",
      " 89%|██████████████████████████████████▋    | 1872/2106 [39:25<04:16,  1.10s/it]"
     ]
    },
    {
     "name": "stdout",
     "output_type": "stream",
     "text": [
      "1109607.yaml Pallekele International Cricket Stadium Sri Lanka\n"
     ]
    },
    {
     "name": "stderr",
     "output_type": "stream",
     "text": [
      "\r",
      " 89%|██████████████████████████████████▋    | 1873/2106 [39:26<04:10,  1.07s/it]"
     ]
    },
    {
     "name": "stdout",
     "output_type": "stream",
     "text": [
      "932863.yaml Barbados Barbados\n"
     ]
    },
    {
     "name": "stderr",
     "output_type": "stream",
     "text": [
      "\r",
      " 89%|██████████████████████████████████▋    | 1874/2106 [39:28<04:48,  1.24s/it]"
     ]
    },
    {
     "name": "stdout",
     "output_type": "stream",
     "text": [
      "566946.yaml London United Kingdom\n"
     ]
    },
    {
     "name": "stderr",
     "output_type": "stream",
     "text": [
      "\r",
      " 89%|██████████████████████████████████▋    | 1875/2106 [39:29<04:39,  1.21s/it]"
     ]
    },
    {
     "name": "stdout",
     "output_type": "stream",
     "text": [
      "415277.yaml Johannesburg South Africa\n"
     ]
    },
    {
     "name": "stderr",
     "output_type": "stream",
     "text": [
      "\r",
      " 89%|██████████████████████████████████▋    | 1876/2106 [39:30<04:32,  1.18s/it]"
     ]
    },
    {
     "name": "stdout",
     "output_type": "stream",
     "text": [
      "1275257.yaml Al Amarat Oman\n"
     ]
    },
    {
     "name": "stderr",
     "output_type": "stream",
     "text": [
      "\r",
      " 89%|██████████████████████████████████▊    | 1877/2106 [39:32<05:02,  1.32s/it]"
     ]
    },
    {
     "name": "stdout",
     "output_type": "stream",
     "text": [
      "1152845.yaml Leeds United Kingdom\n"
     ]
    },
    {
     "name": "stderr",
     "output_type": "stream",
     "text": [
      "\r",
      " 89%|██████████████████████████████████▊    | 1878/2106 [39:33<04:54,  1.29s/it]"
     ]
    },
    {
     "name": "stdout",
     "output_type": "stream",
     "text": [
      "378753.yaml Mirpur Pakistan\n"
     ]
    },
    {
     "name": "stderr",
     "output_type": "stream",
     "text": [
      "\r",
      " 89%|██████████████████████████████████▊    | 1879/2106 [39:34<04:42,  1.24s/it]"
     ]
    },
    {
     "name": "stdout",
     "output_type": "stream",
     "text": [
      "536929.yaml Cuttack India\n"
     ]
    },
    {
     "name": "stderr",
     "output_type": "stream",
     "text": [
      "\r",
      " 89%|██████████████████████████████████▊    | 1880/2106 [39:35<04:26,  1.18s/it]"
     ]
    },
    {
     "name": "stdout",
     "output_type": "stream",
     "text": [
      "226392.yaml Wellington New Zealand\n"
     ]
    },
    {
     "name": "stderr",
     "output_type": "stream",
     "text": [
      "\r",
      " 89%|██████████████████████████████████▊    | 1881/2106 [39:36<04:14,  1.13s/it]"
     ]
    },
    {
     "name": "stdout",
     "output_type": "stream",
     "text": [
      "1206062.yaml Dubai United Arab Emirates\n"
     ]
    },
    {
     "name": "stderr",
     "output_type": "stream",
     "text": [
      "\r",
      " 89%|██████████████████████████████████▊    | 1882/2106 [39:37<03:59,  1.07s/it]"
     ]
    },
    {
     "name": "stdout",
     "output_type": "stream",
     "text": [
      "1263163.yaml Bridgetown Barbados\n"
     ]
    },
    {
     "name": "stderr",
     "output_type": "stream",
     "text": [
      "\r",
      " 89%|██████████████████████████████████▊    | 1883/2106 [39:38<03:55,  1.06s/it]"
     ]
    },
    {
     "name": "stdout",
     "output_type": "stream",
     "text": [
      "1019977.yaml Nelson New Zealand\n"
     ]
    },
    {
     "name": "stderr",
     "output_type": "stream",
     "text": [
      "\r",
      " 89%|██████████████████████████████████▉    | 1884/2106 [39:39<03:52,  1.05s/it]"
     ]
    },
    {
     "name": "stdout",
     "output_type": "stream",
     "text": [
      "426432.yaml Southampton United Kingdom\n"
     ]
    },
    {
     "name": "stderr",
     "output_type": "stream",
     "text": [
      "\r",
      " 90%|██████████████████████████████████▉    | 1885/2106 [39:40<03:36,  1.02it/s]"
     ]
    },
    {
     "name": "stdout",
     "output_type": "stream",
     "text": [
      "1275253.yaml Al Amarat Oman\n"
     ]
    },
    {
     "name": "stderr",
     "output_type": "stream",
     "text": [
      "\r",
      " 90%|██████████████████████████████████▉    | 1886/2106 [39:41<04:12,  1.15s/it]"
     ]
    },
    {
     "name": "stdout",
     "output_type": "stream",
     "text": [
      "1027319.yaml Barbados Barbados\n"
     ]
    },
    {
     "name": "stderr",
     "output_type": "stream",
     "text": [
      "\r",
      " 90%|██████████████████████████████████▉    | 1887/2106 [39:42<04:09,  1.14s/it]"
     ]
    },
    {
     "name": "stdout",
     "output_type": "stream",
     "text": [
      "601612.yaml Dublin Ireland\n"
     ]
    },
    {
     "name": "stderr",
     "output_type": "stream",
     "text": [
      "\r",
      " 90%|██████████████████████████████████▉    | 1888/2106 [39:43<04:00,  1.11s/it]"
     ]
    },
    {
     "name": "stdout",
     "output_type": "stream",
     "text": [
      "1144512.yaml London United Kingdom\n"
     ]
    },
    {
     "name": "stderr",
     "output_type": "stream",
     "text": [
      "\r",
      " 90%|██████████████████████████████████▉    | 1889/2106 [39:44<03:54,  1.08s/it]"
     ]
    },
    {
     "name": "stdout",
     "output_type": "stream",
     "text": [
      "1198249.yaml Southampton United Kingdom\n"
     ]
    },
    {
     "name": "stderr",
     "output_type": "stream",
     "text": [
      "\r",
      " 90%|███████████████████████████████████    | 1890/2106 [39:45<03:49,  1.06s/it]"
     ]
    },
    {
     "name": "stdout",
     "output_type": "stream",
     "text": [
      "578625.yaml London United Kingdom\n"
     ]
    },
    {
     "name": "stderr",
     "output_type": "stream",
     "text": [
      "\r",
      " 90%|███████████████████████████████████    | 1891/2106 [39:46<03:39,  1.02s/it]"
     ]
    },
    {
     "name": "stdout",
     "output_type": "stream",
     "text": [
      "1144147.yaml Bloemfontein South Africa\n"
     ]
    },
    {
     "name": "stderr",
     "output_type": "stream",
     "text": [
      "\r",
      " 90%|███████████████████████████████████    | 1892/2106 [39:47<03:25,  1.04it/s]"
     ]
    },
    {
     "name": "stdout",
     "output_type": "stream",
     "text": [
      "64864.yaml Durban South Africa\n"
     ]
    },
    {
     "name": "stderr",
     "output_type": "stream",
     "text": [
      "\r",
      " 90%|███████████████████████████████████    | 1893/2106 [39:48<03:22,  1.05it/s]"
     ]
    },
    {
     "name": "stdout",
     "output_type": "stream",
     "text": [
      "919613.yaml Harare Sports Club Zimbabwe\n"
     ]
    },
    {
     "name": "stderr",
     "output_type": "stream",
     "text": [
      "\r",
      " 90%|███████████████████████████████████    | 1894/2106 [39:49<03:19,  1.06it/s]"
     ]
    },
    {
     "name": "stdout",
     "output_type": "stream",
     "text": [
      "1317478.yaml Townsville Australia\n"
     ]
    },
    {
     "name": "stderr",
     "output_type": "stream",
     "text": [
      "\r",
      " 90%|███████████████████████████████████    | 1895/2106 [39:51<04:02,  1.15s/it]"
     ]
    },
    {
     "name": "stdout",
     "output_type": "stream",
     "text": [
      "1146720.yaml Guyana Guyana\n"
     ]
    },
    {
     "name": "stderr",
     "output_type": "stream",
     "text": [
      "\r",
      " 90%|███████████████████████████████████    | 1896/2106 [39:52<03:47,  1.08s/it]"
     ]
    },
    {
     "name": "stdout",
     "output_type": "stream",
     "text": [
      "582188.yaml Pallekele International Cricket Stadium Sri Lanka\n"
     ]
    },
    {
     "name": "stderr",
     "output_type": "stream",
     "text": [
      "\r",
      " 90%|███████████████████████████████████▏   | 1897/2106 [39:53<03:42,  1.06s/it]"
     ]
    },
    {
     "name": "stdout",
     "output_type": "stream",
     "text": [
      "649091.yaml Sharjah Cricket Stadium United Arab Emirates\n"
     ]
    },
    {
     "name": "stderr",
     "output_type": "stream",
     "text": [
      "\r",
      " 90%|███████████████████████████████████▏   | 1898/2106 [39:54<03:38,  1.05s/it]"
     ]
    },
    {
     "name": "stdout",
     "output_type": "stream",
     "text": [
      "64926.yaml Cape Town South Africa\n"
     ]
    },
    {
     "name": "stderr",
     "output_type": "stream",
     "text": [
      "\r",
      " 90%|███████████████████████████████████▏   | 1899/2106 [39:55<03:36,  1.04s/it]"
     ]
    },
    {
     "name": "stdout",
     "output_type": "stream",
     "text": [
      "1077949.yaml Guyana Guyana\n"
     ]
    },
    {
     "name": "stderr",
     "output_type": "stream",
     "text": [
      "\r",
      " 90%|███████████████████████████████████▏   | 1900/2106 [39:56<03:33,  1.04s/it]"
     ]
    },
    {
     "name": "stdout",
     "output_type": "stream",
     "text": [
      "913631.yaml Cardiff United Kingdom\n"
     ]
    },
    {
     "name": "stderr",
     "output_type": "stream",
     "text": [
      "\r",
      " 90%|███████████████████████████████████▏   | 1901/2106 [39:57<03:32,  1.03s/it]"
     ]
    },
    {
     "name": "stdout",
     "output_type": "stream",
     "text": [
      "1146722.yaml St Kitts Saint Kitts and Nevis\n"
     ]
    },
    {
     "name": "stderr",
     "output_type": "stream",
     "text": [
      "\r",
      " 90%|███████████████████████████████████▏   | 1902/2106 [39:58<03:30,  1.03s/it]"
     ]
    },
    {
     "name": "stdout",
     "output_type": "stream",
     "text": [
      "914211.yaml Nelson New Zealand\n"
     ]
    },
    {
     "name": "stderr",
     "output_type": "stream",
     "text": [
      "\r",
      " 90%|███████████████████████████████████▏   | 1903/2106 [39:59<04:06,  1.21s/it]"
     ]
    },
    {
     "name": "stdout",
     "output_type": "stream",
     "text": [
      "1146721.yaml Guyana Guyana\n"
     ]
    },
    {
     "name": "stderr",
     "output_type": "stream",
     "text": [
      "\r",
      " 90%|███████████████████████████████████▎   | 1904/2106 [40:00<03:59,  1.19s/it]"
     ]
    },
    {
     "name": "stdout",
     "output_type": "stream",
     "text": [
      "474479.yaml London United Kingdom\n"
     ]
    },
    {
     "name": "stderr",
     "output_type": "stream",
     "text": [
      "\r",
      " 90%|███████████████████████████████████▎   | 1905/2106 [40:01<03:42,  1.11s/it]"
     ]
    },
    {
     "name": "stdout",
     "output_type": "stream",
     "text": [
      "66205.yaml Southampton United Kingdom\n"
     ]
    },
    {
     "name": "stderr",
     "output_type": "stream",
     "text": [
      "\r",
      " 91%|███████████████████████████████████▎   | 1906/2106 [40:03<03:42,  1.11s/it]"
     ]
    },
    {
     "name": "stdout",
     "output_type": "stream",
     "text": [
      "1215122.yaml Kirtipur Nepal\n"
     ]
    },
    {
     "name": "stderr",
     "output_type": "stream",
     "text": [
      "\r",
      " 91%|███████████████████████████████████▎   | 1907/2106 [40:04<03:36,  1.09s/it]"
     ]
    },
    {
     "name": "stdout",
     "output_type": "stream",
     "text": [
      "1133004.yaml Bulawayo Zimbabwe\n"
     ]
    },
    {
     "name": "stderr",
     "output_type": "stream",
     "text": [
      "\r",
      " 91%|███████████████████████████████████▎   | 1908/2106 [40:05<03:31,  1.07s/it]"
     ]
    },
    {
     "name": "stdout",
     "output_type": "stream",
     "text": [
      "914235.yaml Hamilton Canada\n"
     ]
    },
    {
     "name": "stderr",
     "output_type": "stream",
     "text": [
      "\r",
      " 91%|███████████████████████████████████▎   | 1909/2106 [40:06<03:27,  1.05s/it]"
     ]
    },
    {
     "name": "stdout",
     "output_type": "stream",
     "text": [
      "446968.yaml Perth Australia\n"
     ]
    },
    {
     "name": "stderr",
     "output_type": "stream",
     "text": [
      "\r",
      " 91%|███████████████████████████████████▎   | 1910/2106 [40:07<03:24,  1.05s/it]"
     ]
    },
    {
     "name": "stdout",
     "output_type": "stream",
     "text": [
      "360800.yaml Bloemfontein South Africa\n"
     ]
    },
    {
     "name": "stderr",
     "output_type": "stream",
     "text": [
      "\r",
      " 91%|███████████████████████████████████▍   | 1911/2106 [40:08<03:58,  1.22s/it]"
     ]
    },
    {
     "name": "stdout",
     "output_type": "stream",
     "text": [
      "792289.yaml Cuttack India\n"
     ]
    },
    {
     "name": "stderr",
     "output_type": "stream",
     "text": [
      "\r",
      " 91%|███████████████████████████████████▍   | 1912/2106 [40:09<03:27,  1.07s/it]"
     ]
    },
    {
     "name": "stdout",
     "output_type": "stream",
     "text": [
      "1152841.yaml London United Kingdom\n"
     ]
    },
    {
     "name": "stderr",
     "output_type": "stream",
     "text": [
      "\r",
      " 91%|███████████████████████████████████▍   | 1913/2106 [40:10<03:35,  1.12s/it]"
     ]
    },
    {
     "name": "stdout",
     "output_type": "stream",
     "text": [
      "1277084.yaml Cape Town South Africa\n"
     ]
    },
    {
     "name": "stderr",
     "output_type": "stream",
     "text": [
      "\r",
      " 91%|███████████████████████████████████▍   | 1914/2106 [40:11<03:29,  1.09s/it]"
     ]
    },
    {
     "name": "stdout",
     "output_type": "stream",
     "text": [
      "323950.yaml Mirpur Pakistan\n"
     ]
    },
    {
     "name": "stderr",
     "output_type": "stream",
     "text": [
      "\r",
      " 91%|███████████████████████████████████▍   | 1915/2106 [40:12<03:24,  1.07s/it]"
     ]
    },
    {
     "name": "stdout",
     "output_type": "stream",
     "text": [
      "403381.yaml Colombo Sri Lanka\n"
     ]
    },
    {
     "name": "stderr",
     "output_type": "stream",
     "text": [
      "\r",
      " 91%|███████████████████████████████████▍   | 1916/2106 [40:13<03:20,  1.06s/it]"
     ]
    },
    {
     "name": "stdout",
     "output_type": "stream",
     "text": [
      "452152.yaml Harare Sports Club Zimbabwe\n"
     ]
    },
    {
     "name": "stderr",
     "output_type": "stream",
     "text": [
      "\r",
      " 91%|███████████████████████████████████▌   | 1917/2106 [40:14<03:17,  1.05s/it]"
     ]
    },
    {
     "name": "stdout",
     "output_type": "stream",
     "text": [
      "226378.yaml Sydney Cricket Ground Australia\n"
     ]
    },
    {
     "name": "stderr",
     "output_type": "stream",
     "text": [
      "\r",
      " 91%|███████████████████████████████████▌   | 1918/2106 [40:15<03:09,  1.01s/it]"
     ]
    },
    {
     "name": "stdout",
     "output_type": "stream",
     "text": [
      "257771.yaml Multan Cricket Stadium Pakistan\n"
     ]
    },
    {
     "name": "stderr",
     "output_type": "stream",
     "text": [
      "\r",
      " 91%|███████████████████████████████████▌   | 1919/2106 [40:16<03:09,  1.01s/it]"
     ]
    },
    {
     "name": "stdout",
     "output_type": "stream",
     "text": [
      "860273.yaml Colombo Sri Lanka\n"
     ]
    },
    {
     "name": "stderr",
     "output_type": "stream",
     "text": [
      "\r",
      " 91%|███████████████████████████████████▌   | 1920/2106 [40:17<03:09,  1.02s/it]"
     ]
    },
    {
     "name": "stdout",
     "output_type": "stream",
     "text": [
      "643665.yaml Harare Sports Club Zimbabwe\n"
     ]
    },
    {
     "name": "stderr",
     "output_type": "stream",
     "text": [
      "\r",
      " 91%|███████████████████████████████████▌   | 1921/2106 [40:19<03:42,  1.20s/it]"
     ]
    },
    {
     "name": "stdout",
     "output_type": "stream",
     "text": [
      "1000889.yaml Melbourne Cricket Ground Australia\n"
     ]
    },
    {
     "name": "stderr",
     "output_type": "stream",
     "text": [
      "\r",
      " 91%|███████████████████████████████████▌   | 1922/2106 [40:20<03:25,  1.12s/it]"
     ]
    },
    {
     "name": "stdout",
     "output_type": "stream",
     "text": [
      "743985.yaml Manchester United Kingdom\n"
     ]
    },
    {
     "name": "stderr",
     "output_type": "stream",
     "text": [
      "\r",
      " 91%|███████████████████████████████████▌   | 1923/2106 [40:21<03:19,  1.09s/it]"
     ]
    },
    {
     "name": "stdout",
     "output_type": "stream",
     "text": [
      "300426.yaml Auckland New Zealand\n"
     ]
    },
    {
     "name": "stderr",
     "output_type": "stream",
     "text": [
      "\r",
      " 91%|███████████████████████████████████▋   | 1924/2106 [40:22<03:14,  1.07s/it]"
     ]
    },
    {
     "name": "stdout",
     "output_type": "stream",
     "text": [
      "593985.yaml Grenada Grenada\n"
     ]
    },
    {
     "name": "stderr",
     "output_type": "stream",
     "text": [
      "\r",
      " 91%|███████████████████████████████████▋   | 1925/2106 [40:23<03:11,  1.06s/it]"
     ]
    },
    {
     "name": "stdout",
     "output_type": "stream",
     "text": [
      "1233978.yaml Wellington New Zealand\n"
     ]
    },
    {
     "name": "stderr",
     "output_type": "stream",
     "text": [
      "\r",
      " 91%|███████████████████████████████████▋   | 1926/2106 [40:24<03:06,  1.03s/it]"
     ]
    },
    {
     "name": "stdout",
     "output_type": "stream",
     "text": [
      "239913.yaml Trinidad Trinidad and Tobago\n"
     ]
    },
    {
     "name": "stderr",
     "output_type": "stream",
     "text": [
      "\r",
      " 92%|███████████████████████████████████▋   | 1927/2106 [40:25<03:06,  1.04s/it]"
     ]
    },
    {
     "name": "stdout",
     "output_type": "stream",
     "text": [
      "256610.yaml Kuala Lumpur Malaysia\n"
     ]
    },
    {
     "name": "stderr",
     "output_type": "stream",
     "text": [
      "\r",
      " 92%|███████████████████████████████████▋   | 1928/2106 [40:26<03:02,  1.02s/it]"
     ]
    },
    {
     "name": "stdout",
     "output_type": "stream",
     "text": [
      "335350.yaml Lahore Pakistan\n"
     ]
    },
    {
     "name": "stderr",
     "output_type": "stream",
     "text": [
      "\r",
      " 92%|███████████████████████████████████▋   | 1929/2106 [40:28<03:36,  1.22s/it]"
     ]
    },
    {
     "name": "stdout",
     "output_type": "stream",
     "text": [
      "461568.yaml Dubai International Cricket Stadium United Arab Emirates\n"
     ]
    },
    {
     "name": "stderr",
     "output_type": "stream",
     "text": [
      "\r",
      " 92%|███████████████████████████████████▋   | 1930/2106 [40:29<03:24,  1.16s/it]"
     ]
    },
    {
     "name": "stdout",
     "output_type": "stream",
     "text": [
      "433600.yaml Mirpur Pakistan\n"
     ]
    },
    {
     "name": "stderr",
     "output_type": "stream",
     "text": [
      "\r",
      " 92%|███████████████████████████████████▊   | 1931/2106 [40:30<03:16,  1.12s/it]"
     ]
    },
    {
     "name": "stdout",
     "output_type": "stream",
     "text": [
      "209768.yaml St Lucia Saint Lucia\n"
     ]
    },
    {
     "name": "stderr",
     "output_type": "stream",
     "text": [
      "\r",
      " 92%|███████████████████████████████████▊   | 1932/2106 [40:30<02:59,  1.03s/it]"
     ]
    },
    {
     "name": "stdout",
     "output_type": "stream",
     "text": [
      "1276907.yaml London United Kingdom\n"
     ]
    },
    {
     "name": "stderr",
     "output_type": "stream",
     "text": [
      " 92%|███████████████████████████████████▊   | 1934/2106 [40:32<02:13,  1.29it/s]"
     ]
    },
    {
     "name": "stdout",
     "output_type": "stream",
     "text": [
      "1183537.yaml Sydney Australia\n",
      "passed\n"
     ]
    },
    {
     "name": "stderr",
     "output_type": "stream",
     "text": [
      "\r",
      " 92%|███████████████████████████████████▊   | 1935/2106 [40:33<02:21,  1.21it/s]"
     ]
    },
    {
     "name": "stdout",
     "output_type": "stream",
     "text": [
      "1199226.yaml Lauderhill United States\n"
     ]
    },
    {
     "name": "stderr",
     "output_type": "stream",
     "text": [
      "\r",
      " 92%|███████████████████████████████████▊   | 1936/2106 [40:34<02:30,  1.13it/s]"
     ]
    },
    {
     "name": "stdout",
     "output_type": "stream",
     "text": [
      "770121.yaml Kochi Japan\n"
     ]
    },
    {
     "name": "stderr",
     "output_type": "stream",
     "text": [
      "\r",
      " 92%|███████████████████████████████████▊   | 1937/2106 [40:35<02:36,  1.08it/s]"
     ]
    },
    {
     "name": "stdout",
     "output_type": "stream",
     "text": [
      "1275255.yaml Al Amarat Oman\n"
     ]
    },
    {
     "name": "stderr",
     "output_type": "stream",
     "text": [
      "\r",
      " 92%|███████████████████████████████████▉   | 1938/2106 [40:36<02:40,  1.05it/s]"
     ]
    },
    {
     "name": "stdout",
     "output_type": "stream",
     "text": [
      "238188.yaml Delhi India\n"
     ]
    },
    {
     "name": "stderr",
     "output_type": "stream",
     "text": [
      "\r",
      " 92%|███████████████████████████████████▉   | 1939/2106 [40:37<03:08,  1.13s/it]"
     ]
    },
    {
     "name": "stdout",
     "output_type": "stream",
     "text": [
      "226390.yaml Queenstown New Zealand\n"
     ]
    },
    {
     "name": "stderr",
     "output_type": "stream",
     "text": [
      "\r",
      " 92%|███████████████████████████████████▉   | 1940/2106 [40:38<03:01,  1.09s/it]"
     ]
    },
    {
     "name": "stdout",
     "output_type": "stream",
     "text": [
      "293482.yaml Colombo Sri Lanka\n"
     ]
    },
    {
     "name": "stderr",
     "output_type": "stream",
     "text": [
      "\r",
      " 92%|███████████████████████████████████▉   | 1941/2106 [40:39<02:47,  1.02s/it]"
     ]
    },
    {
     "name": "stdout",
     "output_type": "stream",
     "text": [
      "211824.yaml Manchester United Kingdom\n"
     ]
    },
    {
     "name": "stderr",
     "output_type": "stream",
     "text": [
      "\r",
      " 92%|███████████████████████████████████▉   | 1942/2106 [40:40<02:47,  1.02s/it]"
     ]
    },
    {
     "name": "stdout",
     "output_type": "stream",
     "text": [
      "727935.yaml Dublin Ireland\n"
     ]
    },
    {
     "name": "stderr",
     "output_type": "stream",
     "text": [
      "\r",
      " 92%|███████████████████████████████████▉   | 1943/2106 [40:41<02:41,  1.01it/s]"
     ]
    },
    {
     "name": "stdout",
     "output_type": "stream",
     "text": [
      "335357.yaml Karachi Pakistan\n"
     ]
    },
    {
     "name": "stderr",
     "output_type": "stream",
     "text": [
      "\r",
      " 92%|████████████████████████████████████   | 1944/2106 [40:42<02:42,  1.00s/it]"
     ]
    },
    {
     "name": "stdout",
     "output_type": "stream",
     "text": [
      "434259.yaml Mirpur Pakistan\n"
     ]
    },
    {
     "name": "stderr",
     "output_type": "stream",
     "text": [
      "\r",
      " 92%|████████████████████████████████████   | 1945/2106 [40:43<02:42,  1.01s/it]"
     ]
    },
    {
     "name": "stdout",
     "output_type": "stream",
     "text": [
      "249232.yaml Melbourne Cricket Ground Australia\n"
     ]
    },
    {
     "name": "stderr",
     "output_type": "stream",
     "text": [
      "\r",
      " 92%|████████████████████████████████████   | 1946/2106 [40:44<02:41,  1.01s/it]"
     ]
    },
    {
     "name": "stdout",
     "output_type": "stream",
     "text": [
      "656447.yaml Napier New Zealand\n"
     ]
    },
    {
     "name": "stderr",
     "output_type": "stream",
     "text": [
      "\r",
      " 92%|████████████████████████████████████   | 1947/2106 [40:45<02:41,  1.02s/it]"
     ]
    },
    {
     "name": "stdout",
     "output_type": "stream",
     "text": [
      "247467.yaml St Lucia Saint Lucia\n"
     ]
    },
    {
     "name": "stderr",
     "output_type": "stream",
     "text": [
      "\r",
      " 92%|████████████████████████████████████   | 1948/2106 [40:47<03:09,  1.20s/it]"
     ]
    },
    {
     "name": "stdout",
     "output_type": "stream",
     "text": [
      "1080631.yaml Dubai United Arab Emirates\n"
     ]
    },
    {
     "name": "stderr",
     "output_type": "stream",
     "text": [
      "\r",
      " 93%|████████████████████████████████████   | 1949/2106 [40:48<03:14,  1.24s/it]"
     ]
    },
    {
     "name": "stdout",
     "output_type": "stream",
     "text": [
      "997995.yaml Edinburgh United Kingdom\n"
     ]
    },
    {
     "name": "stderr",
     "output_type": "stream",
     "text": [
      "\r",
      " 93%|████████████████████████████████████   | 1950/2106 [40:50<03:40,  1.41s/it]"
     ]
    },
    {
     "name": "stdout",
     "output_type": "stream",
     "text": [
      "903597.yaml Rajkot India\n"
     ]
    },
    {
     "name": "stderr",
     "output_type": "stream",
     "text": [
      "\r",
      " 93%|████████████████████████████████████▏  | 1951/2106 [40:51<03:22,  1.31s/it]"
     ]
    },
    {
     "name": "stdout",
     "output_type": "stream",
     "text": [
      "66378.yaml Multan Pakistan\n"
     ]
    },
    {
     "name": "stderr",
     "output_type": "stream",
     "text": [
      "\r",
      " 93%|████████████████████████████████████▏  | 1952/2106 [40:52<03:12,  1.25s/it]"
     ]
    },
    {
     "name": "stdout",
     "output_type": "stream",
     "text": [
      "656431.yaml Dunedin New Zealand\n"
     ]
    },
    {
     "name": "stderr",
     "output_type": "stream",
     "text": [
      "\r",
      " 93%|████████████████████████████████████▏  | 1953/2106 [40:53<02:56,  1.15s/it]"
     ]
    },
    {
     "name": "stdout",
     "output_type": "stream",
     "text": [
      "578623.yaml Birmingham United Kingdom\n"
     ]
    },
    {
     "name": "stderr",
     "output_type": "stream",
     "text": [
      "\r",
      " 93%|████████████████████████████████████▏  | 1954/2106 [40:54<02:49,  1.11s/it]"
     ]
    },
    {
     "name": "stdout",
     "output_type": "stream",
     "text": [
      "249742.yaml Jaipur India\n"
     ]
    },
    {
     "name": "stderr",
     "output_type": "stream",
     "text": [
      "\r",
      " 93%|████████████████████████████████████▏  | 1955/2106 [40:55<02:39,  1.06s/it]"
     ]
    },
    {
     "name": "stdout",
     "output_type": "stream",
     "text": [
      "1089780.yaml St Lucia Saint Lucia\n"
     ]
    },
    {
     "name": "stderr",
     "output_type": "stream",
     "text": [
      "\r",
      " 93%|████████████████████████████████████▏  | 1956/2106 [40:56<02:36,  1.05s/it]"
     ]
    },
    {
     "name": "stdout",
     "output_type": "stream",
     "text": [
      "415278.yaml Centurion South Africa\n"
     ]
    },
    {
     "name": "stderr",
     "output_type": "stream",
     "text": [
      "\r",
      " 93%|████████████████████████████████████▏  | 1957/2106 [40:58<02:57,  1.19s/it]"
     ]
    },
    {
     "name": "stdout",
     "output_type": "stream",
     "text": [
      "336204.yaml Darwin Australia\n"
     ]
    },
    {
     "name": "stderr",
     "output_type": "stream",
     "text": [
      "\r",
      " 93%|████████████████████████████████████▎  | 1958/2106 [40:59<02:49,  1.14s/it]"
     ]
    },
    {
     "name": "stdout",
     "output_type": "stream",
     "text": [
      "350478.yaml Centurion South Africa\n"
     ]
    },
    {
     "name": "stderr",
     "output_type": "stream",
     "text": [
      "\r",
      " 93%|████████████████████████████████████▎  | 1959/2106 [41:00<02:42,  1.11s/it]"
     ]
    },
    {
     "name": "stdout",
     "output_type": "stream",
     "text": [
      "1288313.yaml Lahore Pakistan\n"
     ]
    },
    {
     "name": "stderr",
     "output_type": "stream",
     "text": [
      "\r",
      " 93%|████████████████████████████████████▎  | 1960/2106 [41:01<02:37,  1.08s/it]"
     ]
    },
    {
     "name": "stdout",
     "output_type": "stream",
     "text": [
      "1144487.yaml London United Kingdom\n"
     ]
    },
    {
     "name": "stderr",
     "output_type": "stream",
     "text": [
      "\r",
      " 93%|████████████████████████████████████▎  | 1961/2106 [41:02<02:34,  1.06s/it]"
     ]
    },
    {
     "name": "stdout",
     "output_type": "stream",
     "text": [
      "760789.yaml Chittagong Bangladesh\n"
     ]
    },
    {
     "name": "stderr",
     "output_type": "stream",
     "text": [
      "\r",
      " 93%|████████████████████████████████████▎  | 1962/2106 [41:02<02:22,  1.01it/s]"
     ]
    },
    {
     "name": "stdout",
     "output_type": "stream",
     "text": [
      "325572.yaml Ayr United Kingdom\n"
     ]
    },
    {
     "name": "stderr",
     "output_type": "stream",
     "text": [
      "\r",
      " 93%|████████████████████████████████████▎  | 1963/2106 [41:03<02:18,  1.03it/s]"
     ]
    },
    {
     "name": "stdout",
     "output_type": "stream",
     "text": [
      "64922.yaml Johannesburg South Africa\n"
     ]
    },
    {
     "name": "stderr",
     "output_type": "stream",
     "text": [
      "\r",
      " 93%|████████████████████████████████████▎  | 1964/2106 [41:04<02:20,  1.01it/s]"
     ]
    },
    {
     "name": "stdout",
     "output_type": "stream",
     "text": [
      "433574.yaml Colombo Sri Lanka\n"
     ]
    },
    {
     "name": "stderr",
     "output_type": "stream",
     "text": [
      "\r",
      " 93%|████████████████████████████████████▍  | 1965/2106 [41:05<02:20,  1.00it/s]"
     ]
    },
    {
     "name": "stdout",
     "output_type": "stream",
     "text": [
      "433594.yaml Mumbai India\n"
     ]
    },
    {
     "name": "stderr",
     "output_type": "stream",
     "text": [
      "\r",
      " 93%|████████████████████████████████████▍  | 1966/2106 [41:07<02:45,  1.18s/it]"
     ]
    },
    {
     "name": "stdout",
     "output_type": "stream",
     "text": [
      "860269.yaml Rangiri Dambulla International Stadium None\n"
     ]
    },
    {
     "name": "stderr",
     "output_type": "stream",
     "text": [
      "\r",
      " 93%|████████████████████████████████████▍  | 1967/2106 [41:08<02:38,  1.14s/it]"
     ]
    },
    {
     "name": "stdout",
     "output_type": "stream",
     "text": [
      "1122728.yaml Visakhapatnam India\n"
     ]
    },
    {
     "name": "stderr",
     "output_type": "stream",
     "text": [
      "\r",
      " 93%|████████████████████████████████████▍  | 1968/2106 [41:09<02:28,  1.08s/it]"
     ]
    },
    {
     "name": "stdout",
     "output_type": "stream",
     "text": [
      "1198247.yaml Southampton United Kingdom\n"
     ]
    },
    {
     "name": "stderr",
     "output_type": "stream",
     "text": [
      "\r",
      " 93%|████████████████████████████████████▍  | 1969/2106 [41:10<02:25,  1.06s/it]"
     ]
    },
    {
     "name": "stdout",
     "output_type": "stream",
     "text": [
      "1109606.yaml Pallekele International Cricket Stadium Sri Lanka\n"
     ]
    },
    {
     "name": "stderr",
     "output_type": "stream",
     "text": [
      "\r",
      " 94%|████████████████████████████████████▍  | 1970/2106 [41:11<02:22,  1.05s/it]"
     ]
    },
    {
     "name": "stdout",
     "output_type": "stream",
     "text": [
      "1153251.yaml Dubai International Cricket Stadium United Arab Emirates\n"
     ]
    },
    {
     "name": "stderr",
     "output_type": "stream",
     "text": [
      "\r",
      " 94%|████████████████████████████████████▌  | 1971/2106 [41:12<02:20,  1.04s/it]"
     ]
    },
    {
     "name": "stdout",
     "output_type": "stream",
     "text": [
      "390253.yaml Benoni South Africa\n"
     ]
    },
    {
     "name": "stderr",
     "output_type": "stream",
     "text": [
      "\r",
      " 94%|████████████████████████████████████▌  | 1972/2106 [41:13<02:18,  1.04s/it]"
     ]
    },
    {
     "name": "stdout",
     "output_type": "stream",
     "text": [
      "463153.yaml Port Elizabeth South Africa\n"
     ]
    },
    {
     "name": "stderr",
     "output_type": "stream",
     "text": [
      "\r",
      " 94%|████████████████████████████████████▌  | 1973/2106 [41:14<02:17,  1.03s/it]"
     ]
    },
    {
     "name": "stdout",
     "output_type": "stream",
     "text": [
      "64891.yaml Harare Zimbabwe\n"
     ]
    },
    {
     "name": "stderr",
     "output_type": "stream",
     "text": [
      "\r",
      " 94%|████████████████████████████████████▌  | 1974/2106 [41:15<02:20,  1.06s/it]"
     ]
    },
    {
     "name": "stdout",
     "output_type": "stream",
     "text": [
      "1019973.yaml Christchurch New Zealand\n"
     ]
    },
    {
     "name": "stderr",
     "output_type": "stream",
     "text": [
      "\r",
      " 94%|████████████████████████████████████▌  | 1975/2106 [41:17<02:41,  1.23s/it]"
     ]
    },
    {
     "name": "stdout",
     "output_type": "stream",
     "text": [
      "571146.yaml Abu Dhabi United Arab Emirates\n"
     ]
    },
    {
     "name": "stderr",
     "output_type": "stream",
     "text": [
      "\r",
      " 94%|████████████████████████████████████▌  | 1976/2106 [41:18<02:32,  1.17s/it]"
     ]
    },
    {
     "name": "stdout",
     "output_type": "stream",
     "text": [
      "534209.yaml Southampton United Kingdom\n"
     ]
    },
    {
     "name": "stderr",
     "output_type": "stream",
     "text": [
      "\r",
      " 94%|████████████████████████████████████▌  | 1977/2106 [41:19<02:25,  1.13s/it]"
     ]
    },
    {
     "name": "stdout",
     "output_type": "stream",
     "text": [
      "1144518.yaml Leeds United Kingdom\n"
     ]
    },
    {
     "name": "stderr",
     "output_type": "stream",
     "text": [
      "\r",
      " 94%|████████████████████████████████████▋  | 1978/2106 [41:20<02:19,  1.09s/it]"
     ]
    },
    {
     "name": "stdout",
     "output_type": "stream",
     "text": [
      "931394.yaml Mirpur Pakistan\n"
     ]
    },
    {
     "name": "stderr",
     "output_type": "stream",
     "text": [
      "\r",
      " 94%|████████████████████████████████████▋  | 1979/2106 [41:21<02:16,  1.08s/it]"
     ]
    },
    {
     "name": "stdout",
     "output_type": "stream",
     "text": [
      "743945.yaml London United Kingdom\n"
     ]
    },
    {
     "name": "stderr",
     "output_type": "stream",
     "text": [
      "\r",
      " 94%|████████████████████████████████████▋  | 1980/2106 [41:22<02:13,  1.06s/it]"
     ]
    },
    {
     "name": "stdout",
     "output_type": "stream",
     "text": [
      "430888.yaml Cuttack India\n"
     ]
    },
    {
     "name": "stderr",
     "output_type": "stream",
     "text": [
      "\r",
      " 94%|████████████████████████████████████▋  | 1981/2106 [41:23<02:11,  1.05s/it]"
     ]
    },
    {
     "name": "stdout",
     "output_type": "stream",
     "text": [
      "1244524.yaml Abu Dhabi United Arab Emirates\n"
     ]
    },
    {
     "name": "stderr",
     "output_type": "stream",
     "text": [
      "\r",
      " 94%|████████████████████████████████████▋  | 1982/2106 [41:24<02:03,  1.00it/s]"
     ]
    },
    {
     "name": "stdout",
     "output_type": "stream",
     "text": [
      "247500.yaml Barbados Barbados\n"
     ]
    },
    {
     "name": "stderr",
     "output_type": "stream",
     "text": [
      "\r",
      " 94%|████████████████████████████████████▋  | 1983/2106 [41:26<02:27,  1.20s/it]"
     ]
    },
    {
     "name": "stdout",
     "output_type": "stream",
     "text": [
      "249238.yaml Perth Australia\n"
     ]
    },
    {
     "name": "stderr",
     "output_type": "stream",
     "text": [
      "\r",
      " 94%|████████████████████████████████████▋  | 1984/2106 [41:27<02:20,  1.15s/it]"
     ]
    },
    {
     "name": "stdout",
     "output_type": "stream",
     "text": [
      "1308245.yaml Dubai United Arab Emirates\n"
     ]
    },
    {
     "name": "stderr",
     "output_type": "stream",
     "text": [
      "\r",
      " 94%|████████████████████████████████████▊  | 1985/2106 [41:28<02:14,  1.11s/it]"
     ]
    },
    {
     "name": "stdout",
     "output_type": "stream",
     "text": [
      "1154649.yaml Kuala Lumpur Malaysia\n"
     ]
    },
    {
     "name": "stderr",
     "output_type": "stream",
     "text": [
      "\r",
      " 94%|████████████████████████████████████▊  | 1986/2106 [41:29<02:10,  1.09s/it]"
     ]
    },
    {
     "name": "stdout",
     "output_type": "stream",
     "text": [
      "848845.yaml Potchefstroom South Africa\n"
     ]
    },
    {
     "name": "stderr",
     "output_type": "stream",
     "text": [
      "\r",
      " 94%|████████████████████████████████████▊  | 1987/2106 [41:30<02:06,  1.07s/it]"
     ]
    },
    {
     "name": "stdout",
     "output_type": "stream",
     "text": [
      "749789.yaml Dunedin New Zealand\n"
     ]
    },
    {
     "name": "stderr",
     "output_type": "stream",
     "text": [
      "\r",
      " 94%|████████████████████████████████████▊  | 1988/2106 [41:31<02:04,  1.05s/it]"
     ]
    },
    {
     "name": "stdout",
     "output_type": "stream",
     "text": [
      "530428.yaml Dubai International Cricket Stadium United Arab Emirates\n"
     ]
    },
    {
     "name": "stderr",
     "output_type": "stream",
     "text": [
      "\r",
      " 94%|████████████████████████████████████▊  | 1989/2106 [41:32<01:58,  1.01s/it]"
     ]
    },
    {
     "name": "stdout",
     "output_type": "stream",
     "text": [
      "578622.yaml Cardiff United Kingdom\n"
     ]
    },
    {
     "name": "stderr",
     "output_type": "stream",
     "text": [
      "\r",
      " 94%|████████████████████████████████████▊  | 1990/2106 [41:33<01:58,  1.02s/it]"
     ]
    },
    {
     "name": "stdout",
     "output_type": "stream",
     "text": [
      "656407.yaml Nelson New Zealand\n"
     ]
    },
    {
     "name": "stderr",
     "output_type": "stream",
     "text": [
      "\r",
      " 95%|████████████████████████████████████▊  | 1991/2106 [41:34<01:57,  1.02s/it]"
     ]
    },
    {
     "name": "stdout",
     "output_type": "stream",
     "text": [
      "415279.yaml Johannesburg South Africa\n"
     ]
    },
    {
     "name": "stderr",
     "output_type": "stream",
     "text": [
      "\r",
      " 95%|████████████████████████████████████▉  | 1992/2106 [41:35<02:10,  1.14s/it]"
     ]
    },
    {
     "name": "stdout",
     "output_type": "stream",
     "text": [
      "464990.yaml Colombo Sri Lanka\n"
     ]
    },
    {
     "name": "stderr",
     "output_type": "stream",
     "text": [
      "\r",
      " 95%|████████████████████████████████████▉  | 1993/2106 [41:36<02:05,  1.11s/it]"
     ]
    },
    {
     "name": "stdout",
     "output_type": "stream",
     "text": [
      "1168513.yaml Dublin Ireland\n"
     ]
    },
    {
     "name": "stderr",
     "output_type": "stream",
     "text": [
      "\r",
      " 95%|████████████████████████████████████▉  | 1994/2106 [41:37<02:01,  1.08s/it]"
     ]
    },
    {
     "name": "stdout",
     "output_type": "stream",
     "text": [
      "1187683.yaml Auckland New Zealand\n"
     ]
    },
    {
     "name": "stderr",
     "output_type": "stream",
     "text": [
      "\r",
      " 95%|████████████████████████████████████▉  | 1995/2106 [41:38<01:54,  1.03s/it]"
     ]
    },
    {
     "name": "stdout",
     "output_type": "stream",
     "text": [
      "743977.yaml Southampton United Kingdom\n"
     ]
    },
    {
     "name": "stderr",
     "output_type": "stream",
     "text": [
      "\r",
      " 95%|████████████████████████████████████▉  | 1996/2106 [41:39<01:53,  1.03s/it]"
     ]
    },
    {
     "name": "stdout",
     "output_type": "stream",
     "text": [
      "1104480.yaml Hambantota Sri Lanka\n"
     ]
    },
    {
     "name": "stderr",
     "output_type": "stream",
     "text": [
      "\r",
      " 95%|████████████████████████████████████▉  | 1997/2106 [41:40<01:52,  1.03s/it]"
     ]
    },
    {
     "name": "stdout",
     "output_type": "stream",
     "text": [
      "251489.yaml Napier New Zealand\n"
     ]
    },
    {
     "name": "stderr",
     "output_type": "stream",
     "text": [
      "\r",
      " 95%|█████████████████████████████████████  | 1998/2106 [41:41<01:47,  1.00it/s]"
     ]
    },
    {
     "name": "stdout",
     "output_type": "stream",
     "text": [
      "247470.yaml St Kitts Saint Kitts and Nevis\n"
     ]
    },
    {
     "name": "stderr",
     "output_type": "stream",
     "text": [
      "\r",
      " 95%|█████████████████████████████████████  | 1999/2106 [41:42<01:47,  1.01s/it]"
     ]
    },
    {
     "name": "stdout",
     "output_type": "stream",
     "text": [
      "259384.yaml Potchefstroom South Africa\n"
     ]
    },
    {
     "name": "stderr",
     "output_type": "stream",
     "text": [
      "\r",
      " 95%|█████████████████████████████████████  | 2000/2106 [41:43<01:47,  1.01s/it]"
     ]
    },
    {
     "name": "stdout",
     "output_type": "stream",
     "text": [
      "1302620.yaml Sharjah United Arab Emirates\n"
     ]
    },
    {
     "name": "stderr",
     "output_type": "stream",
     "text": [
      "\r",
      " 95%|█████████████████████████████████████  | 2001/2106 [41:45<02:05,  1.20s/it]"
     ]
    },
    {
     "name": "stdout",
     "output_type": "stream",
     "text": [
      "1312806.yaml Pearland United States\n"
     ]
    },
    {
     "name": "stderr",
     "output_type": "stream",
     "text": [
      "\r",
      " 95%|█████████████████████████████████████  | 2002/2106 [41:46<02:02,  1.18s/it]"
     ]
    },
    {
     "name": "stdout",
     "output_type": "stream",
     "text": [
      "936143.yaml Cape Town South Africa\n"
     ]
    },
    {
     "name": "stderr",
     "output_type": "stream",
     "text": [
      "\r",
      " 95%|█████████████████████████████████████  | 2003/2106 [41:47<01:56,  1.13s/it]"
     ]
    },
    {
     "name": "stdout",
     "output_type": "stream",
     "text": [
      "736453.yaml Harare Sports Club Zimbabwe\n"
     ]
    },
    {
     "name": "stderr",
     "output_type": "stream",
     "text": [
      "\r",
      " 95%|█████████████████████████████████████  | 2004/2106 [41:48<01:51,  1.10s/it]"
     ]
    },
    {
     "name": "stdout",
     "output_type": "stream",
     "text": [
      "1187023.yaml Cuttack India\n"
     ]
    },
    {
     "name": "stderr",
     "output_type": "stream",
     "text": [
      "\r",
      " 95%|█████████████████████████████████████▏ | 2005/2106 [41:49<01:45,  1.05s/it]"
     ]
    },
    {
     "name": "stdout",
     "output_type": "stream",
     "text": [
      "743983.yaml Leeds United Kingdom\n"
     ]
    },
    {
     "name": "stderr",
     "output_type": "stream",
     "text": [
      "\r",
      " 95%|█████████████████████████████████████▏ | 2006/2106 [41:50<01:34,  1.06it/s]"
     ]
    },
    {
     "name": "stdout",
     "output_type": "stream",
     "text": [
      "749775.yaml Hamilton Canada\n"
     ]
    },
    {
     "name": "stderr",
     "output_type": "stream",
     "text": [
      "\r",
      " 95%|█████████████████████████████████████▏ | 2007/2106 [41:51<01:36,  1.03it/s]"
     ]
    },
    {
     "name": "stdout",
     "output_type": "stream",
     "text": [
      "247492.yaml Guyana Guyana\n"
     ]
    },
    {
     "name": "stderr",
     "output_type": "stream",
     "text": [
      "\r",
      " 95%|█████████████████████████████████████▏ | 2008/2106 [41:52<01:36,  1.01it/s]"
     ]
    },
    {
     "name": "stdout",
     "output_type": "stream",
     "text": [
      "1196672.yaml Aberdeen United Kingdom\n"
     ]
    },
    {
     "name": "stderr",
     "output_type": "stream",
     "text": [
      "\r",
      " 95%|█████████████████████████████████████▏ | 2009/2106 [41:52<01:30,  1.07it/s]"
     ]
    },
    {
     "name": "stdout",
     "output_type": "stream",
     "text": [
      "597928.yaml Trinidad Trinidad and Tobago\n"
     ]
    },
    {
     "name": "stderr",
     "output_type": "stream",
     "text": [
      "\r",
      " 95%|█████████████████████████████████████▏ | 2010/2106 [41:54<01:46,  1.11s/it]"
     ]
    },
    {
     "name": "stdout",
     "output_type": "stream",
     "text": [
      "1133027.yaml Harare Zimbabwe\n"
     ]
    },
    {
     "name": "stderr",
     "output_type": "stream",
     "text": [
      "\r",
      " 95%|█████████████████████████████████████▏ | 2011/2106 [41:55<01:43,  1.09s/it]"
     ]
    },
    {
     "name": "stdout",
     "output_type": "stream",
     "text": [
      "870733.yaml Mirpur Pakistan\n"
     ]
    },
    {
     "name": "stderr",
     "output_type": "stream",
     "text": [
      "\r",
      " 96%|█████████████████████████████████████▎ | 2012/2106 [41:56<01:37,  1.04s/it]"
     ]
    },
    {
     "name": "stdout",
     "output_type": "stream",
     "text": [
      "919611.yaml Harare Sports Club Zimbabwe\n"
     ]
    },
    {
     "name": "stderr",
     "output_type": "stream",
     "text": [
      "\r",
      " 96%|█████████████████████████████████████▎ | 2013/2106 [41:57<01:36,  1.04s/it]"
     ]
    },
    {
     "name": "stdout",
     "output_type": "stream",
     "text": [
      "430508.yaml Benoni South Africa\n"
     ]
    },
    {
     "name": "stderr",
     "output_type": "stream",
     "text": [
      "\r",
      " 96%|█████████████████████████████████████▎ | 2014/2106 [41:58<01:34,  1.02s/it]"
     ]
    },
    {
     "name": "stdout",
     "output_type": "stream",
     "text": [
      "1322037.yaml Aberdeen United Kingdom\n"
     ]
    },
    {
     "name": "stderr",
     "output_type": "stream",
     "text": [
      "\r",
      " 96%|█████████████████████████████████████▎ | 2015/2106 [41:59<01:31,  1.00s/it]"
     ]
    },
    {
     "name": "stdout",
     "output_type": "stream",
     "text": [
      "1233977.yaml Christchurch New Zealand\n"
     ]
    },
    {
     "name": "stderr",
     "output_type": "stream",
     "text": [
      "\r",
      " 96%|█████████████████████████████████████▎ | 2016/2106 [42:00<01:30,  1.01s/it]"
     ]
    },
    {
     "name": "stdout",
     "output_type": "stream",
     "text": [
      "1211169.yaml Al Amarat Oman\n"
     ]
    },
    {
     "name": "stderr",
     "output_type": "stream",
     "text": [
      "\r",
      " 96%|█████████████████████████████████████▎ | 2017/2106 [42:01<01:30,  1.01s/it]"
     ]
    },
    {
     "name": "stdout",
     "output_type": "stream",
     "text": [
      "800471.yaml Port Elizabeth South Africa\n"
     ]
    },
    {
     "name": "stderr",
     "output_type": "stream",
     "text": [
      "\r",
      " 96%|█████████████████████████████████████▎ | 2018/2106 [42:02<01:42,  1.17s/it]"
     ]
    },
    {
     "name": "stdout",
     "output_type": "stream",
     "text": [
      "1033367.yaml Dublin Ireland\n"
     ]
    },
    {
     "name": "stderr",
     "output_type": "stream",
     "text": [
      "\r",
      " 96%|█████████████████████████████████████▍ | 2019/2106 [42:03<01:37,  1.13s/it]"
     ]
    },
    {
     "name": "stdout",
     "output_type": "stream",
     "text": [
      "656399.yaml Christchurch New Zealand\n"
     ]
    },
    {
     "name": "stderr",
     "output_type": "stream",
     "text": [
      "\r",
      " 96%|█████████████████████████████████████▍ | 2020/2106 [42:05<01:34,  1.10s/it]"
     ]
    },
    {
     "name": "stdout",
     "output_type": "stream",
     "text": [
      "1277082.yaml Paarl South Africa\n"
     ]
    },
    {
     "name": "stderr",
     "output_type": "stream",
     "text": [
      "\r",
      " 96%|█████████████████████████████████████▍ | 2021/2106 [42:06<01:31,  1.07s/it]"
     ]
    },
    {
     "name": "stdout",
     "output_type": "stream",
     "text": [
      "343763.yaml Karachi Pakistan\n"
     ]
    },
    {
     "name": "stderr",
     "output_type": "stream",
     "text": [
      "\r",
      " 96%|█████████████████████████████████████▍ | 2022/2106 [42:07<01:28,  1.06s/it]"
     ]
    },
    {
     "name": "stdout",
     "output_type": "stream",
     "text": [
      "1144490.yaml Southampton United Kingdom\n"
     ]
    },
    {
     "name": "stderr",
     "output_type": "stream",
     "text": [
      "\r",
      " 96%|█████████████████████████████████████▍ | 2023/2106 [42:08<01:27,  1.05s/it]"
     ]
    },
    {
     "name": "stdout",
     "output_type": "stream",
     "text": [
      "433563.yaml Hambantota Sri Lanka\n"
     ]
    },
    {
     "name": "stderr",
     "output_type": "stream",
     "text": [
      "\r",
      " 96%|█████████████████████████████████████▍ | 2024/2106 [42:08<01:22,  1.01s/it]"
     ]
    },
    {
     "name": "stdout",
     "output_type": "stream",
     "text": [
      "249754.yaml Chandigarh India\n"
     ]
    },
    {
     "name": "stderr",
     "output_type": "stream",
     "text": [
      "\r",
      " 96%|█████████████████████████████████████▌ | 2025/2106 [42:09<01:17,  1.05it/s]"
     ]
    },
    {
     "name": "stdout",
     "output_type": "stream",
     "text": [
      "1317477.yaml Townsville Australia\n"
     ]
    },
    {
     "name": "stderr",
     "output_type": "stream",
     "text": [
      "\r",
      " 96%|█████████████████████████████████████▌ | 2026/2106 [42:10<01:17,  1.03it/s]"
     ]
    },
    {
     "name": "stdout",
     "output_type": "stream",
     "text": [
      "1115777.yaml Wellington New Zealand\n"
     ]
    },
    {
     "name": "stderr",
     "output_type": "stream",
     "text": [
      "\r",
      " 96%|█████████████████████████████████████▌ | 2027/2106 [42:11<01:18,  1.01it/s]"
     ]
    },
    {
     "name": "stdout",
     "output_type": "stream",
     "text": [
      "667891.yaml Chester-le-Street United Kingdom\n"
     ]
    },
    {
     "name": "stderr",
     "output_type": "stream",
     "text": [
      "\r",
      " 96%|█████████████████████████████████████▌ | 2028/2106 [42:13<01:32,  1.18s/it]"
     ]
    },
    {
     "name": "stdout",
     "output_type": "stream",
     "text": [
      "1288314.yaml Lahore Pakistan\n"
     ]
    },
    {
     "name": "stderr",
     "output_type": "stream",
     "text": [
      "\r",
      " 96%|█████████████████████████████████████▌ | 2029/2106 [42:14<01:27,  1.14s/it]"
     ]
    },
    {
     "name": "stdout",
     "output_type": "stream",
     "text": [
      "1312799.yaml Pearland United States\n"
     ]
    },
    {
     "name": "stderr",
     "output_type": "stream",
     "text": [
      "\r",
      " 96%|█████████████████████████████████████▌ | 2030/2106 [42:15<01:23,  1.10s/it]"
     ]
    },
    {
     "name": "stdout",
     "output_type": "stream",
     "text": [
      "267709.yaml Vadodara India\n"
     ]
    },
    {
     "name": "stderr",
     "output_type": "stream",
     "text": [
      "\r",
      " 96%|█████████████████████████████████████▌ | 2031/2106 [42:16<01:20,  1.08s/it]"
     ]
    },
    {
     "name": "stdout",
     "output_type": "stream",
     "text": [
      "710309.yaml Mirpur Pakistan\n"
     ]
    },
    {
     "name": "stderr",
     "output_type": "stream",
     "text": [
      "\r",
      " 96%|█████████████████████████████████████▋ | 2032/2106 [42:17<01:18,  1.06s/it]"
     ]
    },
    {
     "name": "stdout",
     "output_type": "stream",
     "text": [
      "534216.yaml London United Kingdom\n"
     ]
    },
    {
     "name": "stderr",
     "output_type": "stream",
     "text": [
      "\r",
      " 97%|█████████████████████████████████████▋ | 2033/2106 [42:18<01:16,  1.05s/it]"
     ]
    },
    {
     "name": "stdout",
     "output_type": "stream",
     "text": [
      "386534.yaml Colombo Sri Lanka\n"
     ]
    },
    {
     "name": "stderr",
     "output_type": "stream",
     "text": [
      "\r",
      " 97%|█████████████████████████████████████▋ | 2034/2106 [42:19<01:15,  1.04s/it]"
     ]
    },
    {
     "name": "stdout",
     "output_type": "stream",
     "text": [
      "64936.yaml Port Elizabeth South Africa\n"
     ]
    },
    {
     "name": "stderr",
     "output_type": "stream",
     "text": [
      "\r",
      " 97%|█████████████████████████████████████▋ | 2035/2106 [42:21<01:26,  1.22s/it]"
     ]
    },
    {
     "name": "stdout",
     "output_type": "stream",
     "text": [
      "635656.yaml Pallekele International Cricket Stadium Sri Lanka\n"
     ]
    },
    {
     "name": "stderr",
     "output_type": "stream",
     "text": [
      "\r",
      " 97%|█████████████████████████████████████▋ | 2036/2106 [42:22<01:21,  1.16s/it]"
     ]
    },
    {
     "name": "stdout",
     "output_type": "stream",
     "text": [
      "249379.yaml Nairobi Kenya\n"
     ]
    },
    {
     "name": "stderr",
     "output_type": "stream",
     "text": [
      "\r",
      " 97%|█████████████████████████████████████▋ | 2037/2106 [42:23<01:17,  1.12s/it]"
     ]
    },
    {
     "name": "stdout",
     "output_type": "stream",
     "text": [
      "406195.yaml Brisbane Australia\n"
     ]
    },
    {
     "name": "stderr",
     "output_type": "stream",
     "text": [
      "\r",
      " 97%|█████████████████████████████████████▋ | 2038/2106 [42:24<01:14,  1.09s/it]"
     ]
    },
    {
     "name": "stdout",
     "output_type": "stream",
     "text": [
      "1144988.yaml Hobart Australia\n"
     ]
    },
    {
     "name": "stderr",
     "output_type": "stream",
     "text": [
      "\r",
      " 97%|█████████████████████████████████████▊ | 2039/2106 [42:25<01:15,  1.13s/it]"
     ]
    },
    {
     "name": "stdout",
     "output_type": "stream",
     "text": [
      "249745.yaml Jaipur India\n"
     ]
    },
    {
     "name": "stderr",
     "output_type": "stream",
     "text": [
      "\r",
      " 97%|█████████████████████████████████████▊ | 2040/2106 [42:26<01:12,  1.10s/it]"
     ]
    },
    {
     "name": "stdout",
     "output_type": "stream",
     "text": [
      "1089183.yaml Abu Dhabi United Arab Emirates\n"
     ]
    },
    {
     "name": "stderr",
     "output_type": "stream",
     "text": [
      "\r",
      " 97%|█████████████████████████████████████▊ | 2041/2106 [42:27<01:10,  1.08s/it]"
     ]
    },
    {
     "name": "stdout",
     "output_type": "stream",
     "text": [
      "860271.yaml Pallekele International Cricket Stadium Sri Lanka\n"
     ]
    },
    {
     "name": "stderr",
     "output_type": "stream",
     "text": [
      "\r",
      " 97%|█████████████████████████████████████▊ | 2042/2106 [42:28<01:07,  1.06s/it]"
     ]
    },
    {
     "name": "stdout",
     "output_type": "stream",
     "text": [
      "690355.yaml Mirpur Pakistan\n"
     ]
    },
    {
     "name": "stderr",
     "output_type": "stream",
     "text": [
      "\r",
      " 97%|█████████████████████████████████████▊ | 2043/2106 [42:29<01:06,  1.05s/it]"
     ]
    },
    {
     "name": "stdout",
     "output_type": "stream",
     "text": [
      "1168245.yaml Chandigarh India\n"
     ]
    },
    {
     "name": "stderr",
     "output_type": "stream",
     "text": [
      "\r",
      " 97%|█████████████████████████████████████▊ | 2044/2106 [42:31<01:16,  1.23s/it]"
     ]
    },
    {
     "name": "stdout",
     "output_type": "stream",
     "text": [
      "1302619.yaml Dubai United Arab Emirates\n"
     ]
    },
    {
     "name": "stderr",
     "output_type": "stream",
     "text": [
      "\r",
      " 97%|█████████████████████████████████████▊ | 2045/2106 [42:32<01:12,  1.18s/it]"
     ]
    },
    {
     "name": "stdout",
     "output_type": "stream",
     "text": [
      "1144513.yaml Southampton United Kingdom\n"
     ]
    },
    {
     "name": "stderr",
     "output_type": "stream",
     "text": [
      "\r",
      " 97%|█████████████████████████████████████▉ | 2046/2106 [42:33<01:08,  1.15s/it]"
     ]
    },
    {
     "name": "stdout",
     "output_type": "stream",
     "text": [
      "415280.yaml Centurion South Africa\n"
     ]
    },
    {
     "name": "stderr",
     "output_type": "stream",
     "text": [
      "\r",
      " 97%|█████████████████████████████████████▉ | 2047/2106 [42:34<01:07,  1.14s/it]"
     ]
    },
    {
     "name": "stdout",
     "output_type": "stream",
     "text": [
      "486523.yaml Mirpur Pakistan\n"
     ]
    },
    {
     "name": "stderr",
     "output_type": "stream",
     "text": [
      "\r",
      " 97%|█████████████████████████████████████▉ | 2048/2106 [42:35<01:04,  1.11s/it]"
     ]
    },
    {
     "name": "stdout",
     "output_type": "stream",
     "text": [
      "530429.yaml Dubai International Cricket Stadium United Arab Emirates\n"
     ]
    },
    {
     "name": "stderr",
     "output_type": "stream",
     "text": [
      "\r",
      " 97%|█████████████████████████████████████▉ | 2049/2106 [42:36<01:00,  1.06s/it]"
     ]
    },
    {
     "name": "stdout",
     "output_type": "stream",
     "text": [
      "1311737.yaml Rotterdam Netherlands\n"
     ]
    },
    {
     "name": "stderr",
     "output_type": "stream",
     "text": [
      "\r",
      " 97%|█████████████████████████████████████▉ | 2050/2106 [42:37<00:58,  1.04s/it]"
     ]
    },
    {
     "name": "stdout",
     "output_type": "stream",
     "text": [
      "217481.yaml Harare Sports Club Zimbabwe\n"
     ]
    },
    {
     "name": "stderr",
     "output_type": "stream",
     "text": [
      "\r",
      " 97%|█████████████████████████████████████▉ | 2051/2106 [42:38<00:56,  1.04s/it]"
     ]
    },
    {
     "name": "stdout",
     "output_type": "stream",
     "text": [
      "858487.yaml Mirpur Pakistan\n"
     ]
    },
    {
     "name": "stderr",
     "output_type": "stream",
     "text": [
      "\r",
      " 97%|██████████████████████████████████████ | 2052/2106 [42:39<00:55,  1.03s/it]"
     ]
    },
    {
     "name": "stdout",
     "output_type": "stream",
     "text": [
      "1040497.yaml Greater Noida India\n"
     ]
    },
    {
     "name": "stderr",
     "output_type": "stream",
     "text": [
      "\r",
      " 97%|██████████████████████████████████████ | 2053/2106 [42:41<01:04,  1.21s/it]"
     ]
    },
    {
     "name": "stdout",
     "output_type": "stream",
     "text": [
      "1239538.yaml London United Kingdom\n"
     ]
    },
    {
     "name": "stderr",
     "output_type": "stream",
     "text": [
      "\r",
      " 98%|██████████████████████████████████████ | 2054/2106 [42:42<01:02,  1.21s/it]"
     ]
    },
    {
     "name": "stdout",
     "output_type": "stream",
     "text": [
      "64874.yaml Colombo Sri Lanka\n"
     ]
    },
    {
     "name": "stderr",
     "output_type": "stream",
     "text": [
      "\r",
      " 98%|██████████████████████████████████████ | 2055/2106 [42:43<00:59,  1.16s/it]"
     ]
    },
    {
     "name": "stdout",
     "output_type": "stream",
     "text": [
      "64929.yaml Centurion South Africa\n"
     ]
    },
    {
     "name": "stderr",
     "output_type": "stream",
     "text": [
      "\r",
      " 98%|██████████████████████████████████████ | 2056/2106 [42:44<00:56,  1.12s/it]"
     ]
    },
    {
     "name": "stdout",
     "output_type": "stream",
     "text": [
      "1022361.yaml London United Kingdom\n"
     ]
    },
    {
     "name": "stderr",
     "output_type": "stream",
     "text": [
      "\r",
      " 98%|██████████████████████████████████████ | 2057/2106 [42:45<00:53,  1.09s/it]"
     ]
    },
    {
     "name": "stdout",
     "output_type": "stream",
     "text": [
      "239918.yaml Trinidad Trinidad and Tobago\n"
     ]
    },
    {
     "name": "stderr",
     "output_type": "stream",
     "text": [
      "\r",
      " 98%|██████████████████████████████████████ | 2058/2106 [42:46<00:49,  1.04s/it]"
     ]
    },
    {
     "name": "stdout",
     "output_type": "stream",
     "text": [
      "1089419.yaml Edinburgh United Kingdom\n"
     ]
    },
    {
     "name": "stderr",
     "output_type": "stream",
     "text": [
      "\r",
      " 98%|██████████████████████████████████████▏| 2059/2106 [42:47<00:48,  1.04s/it]"
     ]
    },
    {
     "name": "stdout",
     "output_type": "stream",
     "text": [
      "450107.yaml Belfast United Kingdom\n"
     ]
    },
    {
     "name": "stderr",
     "output_type": "stream",
     "text": [
      "\r",
      " 98%|██████████████████████████████████████▏| 2060/2106 [42:48<00:51,  1.12s/it]"
     ]
    },
    {
     "name": "stdout",
     "output_type": "stream",
     "text": [
      "1144528.yaml Manchester United Kingdom\n"
     ]
    },
    {
     "name": "stderr",
     "output_type": "stream",
     "text": [
      "\r",
      " 98%|██████████████████████████████████████▏| 2061/2106 [42:50<00:58,  1.31s/it]"
     ]
    },
    {
     "name": "stdout",
     "output_type": "stream",
     "text": [
      "540170.yaml St Vincent Italy\n"
     ]
    },
    {
     "name": "stderr",
     "output_type": "stream",
     "text": [
      "\r",
      " 98%|██████████████████████████████████████▏| 2062/2106 [42:51<00:53,  1.22s/it]"
     ]
    },
    {
     "name": "stdout",
     "output_type": "stream",
     "text": [
      "578620.yaml Birmingham United Kingdom\n"
     ]
    },
    {
     "name": "stderr",
     "output_type": "stream",
     "text": [
      "\r",
      " 98%|██████████████████████████████████████▏| 2063/2106 [42:52<00:50,  1.16s/it]"
     ]
    },
    {
     "name": "stdout",
     "output_type": "stream",
     "text": [
      "300486.yaml Bulawayo Zimbabwe\n"
     ]
    },
    {
     "name": "stderr",
     "output_type": "stream",
     "text": [
      "\r",
      " 98%|██████████████████████████████████████▏| 2064/2106 [42:53<00:47,  1.12s/it]"
     ]
    },
    {
     "name": "stdout",
     "output_type": "stream",
     "text": [
      "743947.yaml Southampton United Kingdom\n"
     ]
    },
    {
     "name": "stderr",
     "output_type": "stream",
     "text": [
      "\r",
      " 98%|██████████████████████████████████████▏| 2065/2106 [42:54<00:44,  1.09s/it]"
     ]
    },
    {
     "name": "stdout",
     "output_type": "stream",
     "text": [
      "1119537.yaml London United Kingdom\n"
     ]
    },
    {
     "name": "stderr",
     "output_type": "stream",
     "text": [
      "\r",
      " 98%|██████████████████████████████████████▎| 2066/2106 [42:55<00:42,  1.07s/it]"
     ]
    },
    {
     "name": "stdout",
     "output_type": "stream",
     "text": [
      "293071.yaml Belfast United Kingdom\n"
     ]
    },
    {
     "name": "stderr",
     "output_type": "stream",
     "text": [
      "\r",
      " 98%|██████████████████████████████████████▎| 2067/2106 [42:56<00:41,  1.06s/it]"
     ]
    },
    {
     "name": "stdout",
     "output_type": "stream",
     "text": [
      "1170456.yaml Dubai United Arab Emirates\n"
     ]
    },
    {
     "name": "stderr",
     "output_type": "stream",
     "text": [
      "\r",
      " 98%|██████████████████████████████████████▎| 2068/2106 [42:57<00:38,  1.02s/it]"
     ]
    },
    {
     "name": "stdout",
     "output_type": "stream",
     "text": [
      "483126.yaml Dublin Ireland\n"
     ]
    },
    {
     "name": "stderr",
     "output_type": "stream",
     "text": [
      "\r",
      " 98%|██████████████████████████████████████▎| 2069/2106 [42:58<00:36,  1.01it/s]"
     ]
    },
    {
     "name": "stdout",
     "output_type": "stream",
     "text": [
      "567372.yaml Benoni South Africa\n"
     ]
    },
    {
     "name": "stderr",
     "output_type": "stream",
     "text": [
      "\r",
      " 98%|██████████████████████████████████████▎| 2070/2106 [43:00<00:42,  1.17s/it]"
     ]
    },
    {
     "name": "stdout",
     "output_type": "stream",
     "text": [
      "1133025.yaml Harare Sports Club Zimbabwe\n"
     ]
    },
    {
     "name": "stderr",
     "output_type": "stream",
     "text": [
      "\r",
      " 98%|██████████████████████████████████████▎| 2071/2106 [43:01<00:39,  1.14s/it]"
     ]
    },
    {
     "name": "stdout",
     "output_type": "stream",
     "text": [
      "690359.yaml Mirpur Pakistan\n"
     ]
    },
    {
     "name": "stderr",
     "output_type": "stream",
     "text": [
      "\r",
      " 98%|██████████████████████████████████████▎| 2072/2106 [43:02<00:38,  1.14s/it]"
     ]
    },
    {
     "name": "stdout",
     "output_type": "stream",
     "text": [
      "656451.yaml Nelson New Zealand\n"
     ]
    },
    {
     "name": "stderr",
     "output_type": "stream",
     "text": [
      "\r",
      " 98%|██████████████████████████████████████▍| 2073/2106 [43:03<00:36,  1.10s/it]"
     ]
    },
    {
     "name": "stdout",
     "output_type": "stream",
     "text": [
      "473926.yaml Napier New Zealand\n"
     ]
    },
    {
     "name": "stderr",
     "output_type": "stream",
     "text": [
      "\r",
      " 98%|██████████████████████████████████████▍| 2074/2106 [43:04<00:34,  1.08s/it]"
     ]
    },
    {
     "name": "stdout",
     "output_type": "stream",
     "text": [
      "523733.yaml Harare Sports Club Zimbabwe\n"
     ]
    },
    {
     "name": "stderr",
     "output_type": "stream",
     "text": [
      "\r",
      " 99%|██████████████████████████████████████▍| 2075/2106 [43:05<00:32,  1.06s/it]"
     ]
    },
    {
     "name": "stdout",
     "output_type": "stream",
     "text": [
      "226385.yaml Perth Australia\n"
     ]
    },
    {
     "name": "stderr",
     "output_type": "stream",
     "text": [
      "\r",
      " 99%|██████████████████████████████████████▍| 2076/2106 [43:06<00:31,  1.04s/it]"
     ]
    },
    {
     "name": "stdout",
     "output_type": "stream",
     "text": [
      "1115796.yaml Christchurch New Zealand\n"
     ]
    },
    {
     "name": "stderr",
     "output_type": "stream",
     "text": [
      "\r",
      " 99%|██████████████████████████████████████▍| 2077/2106 [43:07<00:28,  1.02it/s]"
     ]
    },
    {
     "name": "stdout",
     "output_type": "stream",
     "text": [
      "1157380.yaml Dubai International Cricket Stadium United Arab Emirates\n"
     ]
    },
    {
     "name": "stderr",
     "output_type": "stream",
     "text": [
      "\r",
      " 99%|██████████████████████████████████████▍| 2078/2106 [43:08<00:33,  1.18s/it]"
     ]
    },
    {
     "name": "stdout",
     "output_type": "stream",
     "text": [
      "754759.yaml Perth Australia\n"
     ]
    },
    {
     "name": "stderr",
     "output_type": "stream",
     "text": [
      "\r",
      " 99%|██████████████████████████████████████▌| 2079/2106 [43:10<00:31,  1.16s/it]"
     ]
    },
    {
     "name": "stdout",
     "output_type": "stream",
     "text": [
      "1144491.yaml London United Kingdom\n"
     ]
    },
    {
     "name": "stderr",
     "output_type": "stream",
     "text": [
      "\r",
      " 99%|██████████████████████████████████████▌| 2080/2106 [43:11<00:29,  1.12s/it]"
     ]
    },
    {
     "name": "stdout",
     "output_type": "stream",
     "text": [
      "455231.yaml Rangiri Dambulla International Stadium None\n"
     ]
    },
    {
     "name": "stderr",
     "output_type": "stream",
     "text": [
      "\r",
      " 99%|██████████████████████████████████████▌| 2081/2106 [43:12<00:27,  1.09s/it]"
     ]
    },
    {
     "name": "stdout",
     "output_type": "stream",
     "text": [
      "1133002.yaml Harare Sports Club Zimbabwe\n"
     ]
    },
    {
     "name": "stderr",
     "output_type": "stream",
     "text": [
      "\r",
      " 99%|██████████████████████████████████████▌| 2082/2106 [43:13<00:25,  1.07s/it]"
     ]
    },
    {
     "name": "stdout",
     "output_type": "stream",
     "text": [
      "1144160.yaml Cape Town South Africa\n"
     ]
    },
    {
     "name": "stderr",
     "output_type": "stream",
     "text": [
      "\r",
      " 99%|██████████████████████████████████████▌| 2083/2106 [43:14<00:24,  1.06s/it]"
     ]
    },
    {
     "name": "stdout",
     "output_type": "stream",
     "text": [
      "754761.yaml Perth Australia\n"
     ]
    },
    {
     "name": "stderr",
     "output_type": "stream",
     "text": [
      "\r",
      " 99%|██████████████████████████████████████▌| 2084/2106 [43:15<00:23,  1.05s/it]"
     ]
    },
    {
     "name": "stdout",
     "output_type": "stream",
     "text": [
      "1115795.yaml Whangarei New Zealand\n"
     ]
    },
    {
     "name": "stderr",
     "output_type": "stream",
     "text": [
      "\r",
      " 99%|██████████████████████████████████████▌| 2085/2106 [43:16<00:21,  1.01s/it]"
     ]
    },
    {
     "name": "stdout",
     "output_type": "stream",
     "text": [
      "375456.yaml Harare Sports Club Zimbabwe\n"
     ]
    },
    {
     "name": "stderr",
     "output_type": "stream",
     "text": [
      "\r",
      " 99%|██████████████████████████████████████▋| 2086/2106 [43:17<00:20,  1.01s/it]"
     ]
    },
    {
     "name": "stdout",
     "output_type": "stream",
     "text": [
      "226381.yaml Adelaide Oval Australia\n"
     ]
    },
    {
     "name": "stderr",
     "output_type": "stream",
     "text": [
      "\r",
      " 99%|██████████████████████████████████████▋| 2087/2106 [43:18<00:22,  1.20s/it]"
     ]
    },
    {
     "name": "stdout",
     "output_type": "stream",
     "text": [
      "587473.yaml Mirpur Pakistan\n"
     ]
    },
    {
     "name": "stderr",
     "output_type": "stream",
     "text": [
      "\r",
      " 99%|██████████████████████████████████████▋| 2088/2106 [43:19<00:21,  1.18s/it]"
     ]
    },
    {
     "name": "stdout",
     "output_type": "stream",
     "text": [
      "422628.yaml Mirpur Pakistan\n"
     ]
    },
    {
     "name": "stderr",
     "output_type": "stream",
     "text": [
      "\r",
      " 99%|██████████████████████████████████████▋| 2089/2106 [43:20<00:19,  1.13s/it]"
     ]
    },
    {
     "name": "stdout",
     "output_type": "stream",
     "text": [
      "1098210.yaml Jamaica Jamaica\n"
     ]
    },
    {
     "name": "stderr",
     "output_type": "stream",
     "text": [
      "\r",
      " 99%|██████████████████████████████████████▋| 2090/2106 [43:21<00:17,  1.10s/it]"
     ]
    },
    {
     "name": "stdout",
     "output_type": "stream",
     "text": [
      "350481.yaml Johannesburg South Africa\n"
     ]
    },
    {
     "name": "stderr",
     "output_type": "stream",
     "text": [
      "\r",
      " 99%|██████████████████████████████████████▋| 2091/2106 [43:22<00:15,  1.05s/it]"
     ]
    },
    {
     "name": "stdout",
     "output_type": "stream",
     "text": [
      "1307300.yaml Colombo Sri Lanka\n"
     ]
    },
    {
     "name": "stderr",
     "output_type": "stream",
     "text": [
      "\r",
      " 99%|██████████████████████████████████████▋| 2092/2106 [43:23<00:14,  1.04s/it]"
     ]
    },
    {
     "name": "stdout",
     "output_type": "stream",
     "text": [
      "247479.yaml St Lucia Saint Lucia\n"
     ]
    },
    {
     "name": "stderr",
     "output_type": "stream",
     "text": [
      "\r",
      " 99%|██████████████████████████████████████▊| 2093/2106 [43:24<00:13,  1.03s/it]"
     ]
    },
    {
     "name": "stdout",
     "output_type": "stream",
     "text": [
      "522247.yaml Harare Sports Club Zimbabwe\n"
     ]
    },
    {
     "name": "stderr",
     "output_type": "stream",
     "text": [
      "\r",
      " 99%|██████████████████████████████████████▊| 2094/2106 [43:25<00:12,  1.03s/it]"
     ]
    },
    {
     "name": "stdout",
     "output_type": "stream",
     "text": [
      "919607.yaml Harare Sports Club Zimbabwe\n"
     ]
    },
    {
     "name": "stderr",
     "output_type": "stream",
     "text": [
      "\r",
      " 99%|██████████████████████████████████████▊| 2095/2106 [43:26<00:11,  1.03s/it]"
     ]
    },
    {
     "name": "stdout",
     "output_type": "stream",
     "text": [
      "656457.yaml Hobart Australia\n"
     ]
    },
    {
     "name": "stderr",
     "output_type": "stream",
     "text": [
      "\r",
      "100%|██████████████████████████████████████▊| 2096/2106 [43:27<00:09,  1.03it/s]"
     ]
    },
    {
     "name": "stdout",
     "output_type": "stream",
     "text": [
      "648655.yaml Centurion South Africa\n"
     ]
    },
    {
     "name": "stderr",
     "output_type": "stream",
     "text": [
      "\r",
      "100%|██████████████████████████████████████▊| 2097/2106 [43:29<00:09,  1.11s/it]"
     ]
    },
    {
     "name": "stdout",
     "output_type": "stream",
     "text": [
      "531985.yaml Chittagong Bangladesh\n"
     ]
    },
    {
     "name": "stderr",
     "output_type": "stream",
     "text": [
      "\r",
      "100%|██████████████████████████████████████▊| 2098/2106 [43:30<00:08,  1.08s/it]"
     ]
    },
    {
     "name": "stdout",
     "output_type": "stream",
     "text": [
      "433582.yaml Delhi India\n"
     ]
    },
    {
     "name": "stderr",
     "output_type": "stream",
     "text": [
      "\r",
      "100%|██████████████████████████████████████▊| 2099/2106 [43:31<00:07,  1.00s/it]"
     ]
    },
    {
     "name": "stdout",
     "output_type": "stream",
     "text": [
      "377315.yaml St Lucia Saint Lucia\n"
     ]
    },
    {
     "name": "stderr",
     "output_type": "stream",
     "text": [
      "\r",
      "100%|██████████████████████████████████████▉| 2100/2106 [43:32<00:06,  1.01s/it]"
     ]
    },
    {
     "name": "stdout",
     "output_type": "stream",
     "text": [
      "565816.yaml Dharamsala India\n"
     ]
    },
    {
     "name": "stderr",
     "output_type": "stream",
     "text": [
      "\r",
      "100%|██████████████████████████████████████▉| 2101/2106 [43:33<00:05,  1.01s/it]"
     ]
    },
    {
     "name": "stdout",
     "output_type": "stream",
     "text": [
      "1295182.yaml Doha Qatar\n"
     ]
    },
    {
     "name": "stderr",
     "output_type": "stream",
     "text": [
      "\r",
      "100%|██████████████████████████████████████▉| 2102/2106 [43:34<00:04,  1.02s/it]"
     ]
    },
    {
     "name": "stdout",
     "output_type": "stream",
     "text": [
      "736439.yaml Bulawayo Zimbabwe\n"
     ]
    },
    {
     "name": "stderr",
     "output_type": "stream",
     "text": [
      "\r",
      "100%|██████████████████████████████████████▉| 2103/2106 [43:35<00:03,  1.02s/it]"
     ]
    },
    {
     "name": "stdout",
     "output_type": "stream",
     "text": [
      "770127.yaml Dharmasala India\n"
     ]
    },
    {
     "name": "stderr",
     "output_type": "stream",
     "text": [
      "\r",
      "100%|██████████████████████████████████████▉| 2104/2106 [43:36<00:01,  1.01it/s]"
     ]
    },
    {
     "name": "stdout",
     "output_type": "stream",
     "text": [
      "516209.yaml Colombo Sri Lanka\n"
     ]
    },
    {
     "name": "stderr",
     "output_type": "stream",
     "text": [
      "\r",
      "100%|██████████████████████████████████████▉| 2105/2106 [43:36<00:00,  1.03it/s]"
     ]
    },
    {
     "name": "stdout",
     "output_type": "stream",
     "text": [
      "1079248.yaml Harare Sports Club Zimbabwe\n"
     ]
    },
    {
     "name": "stderr",
     "output_type": "stream",
     "text": [
      "100%|███████████████████████████████████████| 2106/2106 [43:37<00:00,  1.24s/it]"
     ]
    },
    {
     "name": "stdout",
     "output_type": "stream",
     "text": [
      "1262347.yaml Dhaka Bangladesh\n"
     ]
    },
    {
     "name": "stderr",
     "output_type": "stream",
     "text": [
      "\n"
     ]
    }
   ],
   "source": [
    "create_csv(\"/home/shivargha/performance_prediction/odi_cricket/odis/\")\n",
    "df = pd.DataFrame(df_data,\n",
    "                  columns=[\"matchid\",\"venue\",\"country\",\"date\",\"month\",\"year\",\"match_between\",\n",
    "                           \"toss_winner\",\"toss_decision\",\\\n",
    "                          \"current_innings\",\"bowling_innings\",\"over\",\"batsman\",\"non_striker\",\"bowler\",\"extras\",\\\n",
    "                           \"total_runs\",\"batsman_runs\",\\\n",
    "                          \"extras_type\",\"out\",\"out_batsman\",\"dismissal_type\",\"dismissed_by_fielder\",\\\n",
    "                          \"winner\",\"winner_method\",\"win_by\",\"method_if_any\",\"super_over\",\"super_over_winner\",\"potm\" \n",
    "                          ])"
   ]
  },
  {
   "cell_type": "code",
   "execution_count": 426,
   "id": "2b89fcd7",
   "metadata": {},
   "outputs": [],
   "source": [
    "df.to_csv(\"/home/shivargha/performance_prediction/odi_cricket/odi.csv\")"
   ]
  },
  {
   "cell_type": "code",
   "execution_count": 1,
   "id": "52406d2c",
   "metadata": {},
   "outputs": [],
   "source": [
    "##My Analysis###\n",
    "import pandas as pd\n",
    "import numpy as np\n",
    "import yaml\n",
    "import os\n",
    "from geopy.geocoders import Nominatim\n",
    "from tqdm import tqdm\n",
    "from glob import glob\n",
    "df = pd.read_csv(\"/home/shivargha/performance_prediction/odi_cricket/odi.csv\",index_col=0,low_memory=False)"
   ]
  },
  {
   "cell_type": "code",
   "execution_count": 2,
   "id": "2e259648",
   "metadata": {},
   "outputs": [
    {
     "data": {
      "text/plain": [
       "Index(['matchid', 'venue', 'country', 'date', 'month', 'year', 'match_between',\n",
       "       'toss_winner', 'toss_decision', 'current_innings', 'bowling_innings',\n",
       "       'over', 'batsman', 'non_striker', 'bowler', 'extras', 'total_runs',\n",
       "       'batsman_runs', 'extras_type', 'out', 'out_batsman', 'dismissal_type',\n",
       "       'dismissed_by_fielder', 'winner', 'winner_method', 'win_by',\n",
       "       'method_if_any', 'super_over', 'super_over_winner', 'potm'],\n",
       "      dtype='object')"
      ]
     },
     "execution_count": 2,
     "metadata": {},
     "output_type": "execute_result"
    }
   ],
   "source": [
    "df.columns"
   ]
  },
  {
   "cell_type": "code",
   "execution_count": 46,
   "id": "ded9240e",
   "metadata": {},
   "outputs": [],
   "source": [
    "##Best batsman for australia in australia vs england in australia\n",
    "#len(df_aus_auseng[\"matchid\"].unique())\n",
    "\n",
    "def create_df_team1_v_team2(df,team1,team2,venue,country):\n",
    "    \n",
    "    ###team1 - home\n",
    "    ##team2 - away\n",
    "    \n",
    "    if (venue is not None) & (country is None):\n",
    "        df1 = df.loc[(df[\"venue\"] == venue ) & (df[\"match_between\"] == str(team1)+\" vs \"+str(team2))]\n",
    "        return df1\n",
    "    elif (venue is not None) & (country is not None):\n",
    "        df1 = df.loc[(df[\"venue\"] == venue) & (df[\"country\"] == country) & (df[\"match_between\"] == str(team1)+\" vs \"+str(team2))]\n",
    "        return df1\n",
    "    elif (venue is None) & (country is not None):\n",
    "        df1 = df.loc[(df[\"country\"] == country ) & (df[\"match_between\"] == str(team1)+\" vs \"+str(team2))]\n",
    "        return df1\n",
    "    else:\n",
    "        df1 = df.loc[(df[\"match_between\"] == str(team1)+\" vs \"+str(team2))]\n",
    "        return df1\n",
    "\n",
    "    \n",
    "\n",
    "def get_batsmen_of_team(team,df):\n",
    "    ###Get batsman name of a certain country#\n",
    "    batsmen_list = list(df.loc[df[\"current_innings\"]==team][\"batsman\"].unique())\n",
    "    return batsmen_list\n",
    "\n",
    "def get_bowler_of_team(team,df):\n",
    "    \n",
    "    bowler_list = list(df.loc[df[\"bowling_innings\"] == team][\"bowler\"].unique())\n",
    "    return bowler_list\n",
    "\n",
    "\n",
    "def batsman_score_stats_vs_team_or_by_venue_country(df,batsman_name,opposition_team,venue,country):\n",
    "    \n",
    "    \n",
    "    scores_dict = dict()\n",
    "    if (opposition_team is not None) & (venue is not None) & (country is None):\n",
    "        df1 = df.loc[(df[\"batsman\"] == batsman_name) & (df[\"bowling_innings\"] == opposition_team) \\\n",
    "                    & (df[\"venue\"] == venue )]\n",
    "        \n",
    "    elif (opposition_team is not None) & (venue is not None) & (country is not None):\n",
    "        df1 = df.loc[(df[\"batsman\"] == batsman_name) & (df[\"bowling_innings\"] == opposition_team) \\\n",
    "                     & (df[\"venue\"] == venue) & (df[\"country\"] == country)]\n",
    "        \n",
    "    elif (opposition_team is not None) & (venue is None) & (country is not None):  \n",
    "        df1 = df.loc[(df[\"batsman\"] == batsman_name) & (df[\"bowling_innings\"] == opposition_team) \\\n",
    "                     & (df[\"country\"] == country)]\n",
    "        \n",
    "    elif (opposition_team is None) & (venue is not None) & (country is None):\n",
    "        df1 = df.loc[(df[\"batsman\"] == batsman_name) & (df[\"venue\"] == venue)]\n",
    "        \n",
    "    elif (opposition_team is None) & (venue is  None) & (country is not None):\n",
    "        df1 = df.loc[(df[\"batsman\"] == batsman_name) & (df[\"country\"] == country)]\n",
    "    \n",
    "    else :\n",
    "        df1 = df.loc[(df[\"batsman\"] == batsman_name)]\n",
    "        \n",
    "    \n",
    "    for matchid_no in df1[\"matchid\"].unique():\n",
    "        df2 = df1.loc[(df1[\"matchid\"] == matchid_no)]\n",
    "        date_of_match = str(df2.iloc[0][\"date\"]) + \"-\" + str(df2.iloc[0][\"month\"])+\"-\"+str(str(df2.iloc[0][\"year\"]))\n",
    "        balls_faced = df2.shape[0]\n",
    "        venue_city_stadium = df2.iloc[0][\"venue\"]\n",
    "        venue_country = df2.iloc[0][\"country\"]\n",
    "        if df2.loc[df2[\"out\"] == \"Yes\"].shape[0] != 0:\n",
    "\n",
    "            dissmisal_type = df2.loc[df2[\"out\"] == \"Yes\"][\"dismissal_type\"].values[0]\n",
    "            dissmissed_by = df2.loc[df2[\"out\"] == \"Yes\"][\"bowler\"].values[0]\n",
    "        else:\n",
    "            dissmisal_type = \"Not Out\"\n",
    "            dissmissed_by = \"None\"\n",
    "\n",
    "        num_fours = df2.loc[df[\"batsman_runs\"] == 4].shape[0]\n",
    "        num_sixes = df2.loc[df[\"batsman_runs\"] == 6].shape[0]\n",
    "        match_between = df2.iloc[0][\"match_between\"]\n",
    "        scores_dict[matchid_no] = {\"Match_date\":date_of_match,\"Venue\":venue_city_stadium,\"Country\":venue_country\\\n",
    "                                   ,\"Match_between\":match_between\\\n",
    "                                   ,\"Runs\":sum(df2[\"batsman_runs\"]),\\\n",
    "                                   \"Balls\":balls_faced,\"Dismissed By\":dissmissed_by,\\\n",
    "                                   \"Dismissal_type\":dissmisal_type,\"Fours\":num_fours,\\\n",
    "                                   \"Sixes\":num_sixes}\n",
    "    return scores_dict\n",
    "        \n",
    "    "
   ]
  },
  {
   "cell_type": "code",
   "execution_count": 47,
   "id": "94ce7199",
   "metadata": {},
   "outputs": [],
   "source": [
    "def all_batsman_scores_vs_team(df,batsman_team,opposition_team,venue,country):\n",
    "    \n",
    "\n",
    "    #print(df)\n",
    "    if (venue is not None) & (country is None):\n",
    "        df1 = df.loc[(df[\"current_innings\"] == batsman_team) & (df[\"bowling_innings\"] == opposition_team) & \\\n",
    "                     (df[\"venue\"] == venue)]\n",
    "    elif (venue is not None) & (country is not None):\n",
    "        df1 = df.loc[(df[\"current_innings\"] == batsman_team) & (df[\"bowling_innings\"] == opposition_team) & \\\n",
    "                     (df[\"venue\"] == venue) \\\n",
    "                    & df[\"country\"] == country]\n",
    "    elif (venue is None) & (country is not None):\n",
    "        df1 = df.loc[(df[\"current_innings\"] == batsman_team) & (df[\"bowling_innings\"] == opposition_team) \\\n",
    "                    & df[\"country\"] == country]\n",
    "    else:\n",
    "        df1 = df.loc[(df[\"current_innings\"] == batsman_team) & (df[\"bowling_innings\"] == opposition_team)]\n",
    "        \n",
    "    scores_dict = dict()\n",
    "    df = df1\n",
    "    \n",
    "    for batsman_name in df[\"batsman\"].unique():\n",
    "        df1 = df.loc[(df[\"batsman\"] == batsman_name)]\n",
    "        match_dict = dict()\n",
    "        for matchid_no in df1[\"matchid\"].unique():\n",
    "            df2 = df1.loc[(df1[\"matchid\"] == matchid_no)]\n",
    "            date_of_match = str(df2.iloc[0][\"date\"]) + \"-\" + str(df2.iloc[0][\"month\"])+\"-\"+str(str(df2.iloc[0][\"year\"]))\n",
    "            balls_faced = df2.shape[0]\n",
    "            venue_city_stadium = df2.iloc[0][\"venue\"]\n",
    "            venue_country = df2.iloc[0][\"country\"]\n",
    "            if df2.loc[df2[\"out\"] == \"Yes\"].shape[0] != 0:\n",
    "\n",
    "                dissmisal_type = df2.loc[df2[\"out\"] == \"Yes\"][\"dismissal_type\"].values[0]\n",
    "                dissmissed_by = df2.loc[df2[\"out\"] == \"Yes\"][\"bowler\"].values[0]\n",
    "            else:\n",
    "                dissmisal_type = \"Not Out\"\n",
    "                dissmissed_by = \"None\"\n",
    "\n",
    "            num_fours = df2.loc[df[\"batsman_runs\"] == 4].shape[0]\n",
    "            num_sixes = df2.loc[df[\"batsman_runs\"] == 6].shape[0]\n",
    "\n",
    "            match_dict[matchid_no] = {\"Match_date\":date_of_match,\"Venue\":venue_city_stadium,\"Country\":venue_country\\\n",
    "                                       ,\"Runs\":sum(df2[\"batsman_runs\"]),\\\n",
    "                                       \"Balls\":balls_faced,\"Dismissed By\":dissmissed_by,\\\n",
    "                                       \"Dismissal_type\":dissmisal_type,\"Fours\":num_fours,\\\n",
    "                                       \"Sixes\":num_sixes}\n",
    "\n",
    "\n",
    "        scores_dict[batsman_name] = match_dict\n",
    "    return scores_dict\n",
    "        "
   ]
  },
  {
   "cell_type": "code",
   "execution_count": 30,
   "id": "2f4a054e",
   "metadata": {},
   "outputs": [],
   "source": [
    "###Head to Head Analysis##\n",
    "###Batsman v Bowler###\n",
    "from collections import Counter\n",
    "def batsman_v_bowler_h2h(df,batsman_name,bowler_name,venue,country):\n",
    "    \n",
    "    head_2_head_dict = dict() #####Match by Match#####\n",
    "    overall_head2head = dict() ###Overall Head to Head#\n",
    "    if (venue is not None) & (country is None):\n",
    "        df1 = df.loc[(df[\"batsman\"] == batsman_name) & (df[\"bowler\"] == bowler_name) & (df[\"venue\"] == venue)]\n",
    "    elif (venue is not None) & (country is not None):\n",
    "        df1 = df.loc[(df[\"batsman\"] == batsman_name) & (df[\"bowler\"] == bowler_name) & (df[\"venue\"] == venue) \\\n",
    "                    & df[\"country\"] == country]\n",
    "    elif (venue is None) & (country is not None):\n",
    "        df1 = df.loc[(df[\"batsman\"] == batsman_name) & (df[\"bowler\"] == bowler_name) \\\n",
    "                    & df[\"country\"] == country]\n",
    "    else:\n",
    "        df1 = df.loc[(df[\"batsman\"] == batsman_name) & (df[\"bowler\"] == bowler_name)]\n",
    "    \n",
    "    \n",
    "        \n",
    "    head_to_head = str(batsman_name)+\" vs \"+str(bowler_name)\n",
    "    matches = len(list(df1[\"matchid\"].unique()))\n",
    "\n",
    "\n",
    "    total_runs = sum(df1[\"batsman_runs\"])\n",
    "    total_balls = df1.shape[0]\n",
    "    try:\n",
    "        total_fours = dict(Counter(df1[\"batsman_runs\"]))[4]\n",
    "    except KeyError as e:\n",
    "        total_fours = 0\n",
    "    try:\n",
    "        total_sixes = dict(Counter(df1[\"batsman_runs\"]))[6]\n",
    "    except KeyError as e:\n",
    "        total_sixes = 0\n",
    "    try:\n",
    "        num_out = dict(Counter(df1[\"out\"]))[\"Yes\"]\n",
    "        dissmisal_dict = dict() \n",
    "        for i in dict(Counter(df1[\"dismissal_type\"])):\n",
    "\n",
    "            if i != \"None\":\n",
    "                dissmisal_type1 = i\n",
    "                dissmisal_type_number = dict(Counter(df1[\"dismissal_type\"]))[i]\n",
    "                dissmisal_dict[dissmisal_type1] = dissmisal_type_number\n",
    "    except KeyError as e:\n",
    "        num_out = 0\n",
    "        dissmisal_dict = \"None\"\n",
    "\n",
    "    overall_head2head[head_to_head] = {\"Num Matches\":matches,\"Total Runs\":total_runs,\"Total Balls\":total_balls\\\n",
    "                                       ,\"Total 4s\":total_fours,\\\n",
    "                                          \"Total 6s\":total_sixes,\"Total Outs\":num_out,\\\n",
    "                                          \"Dissmisal Types\":dissmisal_dict}\n",
    "\n",
    "\n",
    "    for matchid_no in df1[\"matchid\"].unique():\n",
    "\n",
    "        df2 = df1.loc[(df1[\"matchid\"] == matchid_no)]\n",
    "        date_of_match = str(df2.iloc[0][\"date\"]) + \"-\" + str(df2.iloc[0][\"month\"])+\"-\"+str(str(df2.iloc[0][\"year\"]))\n",
    "        venue_city_stadium = df2.iloc[0][\"venue\"]\n",
    "        venue_country = df2.iloc[0][\"country\"]\n",
    "        balls_faced = df2.shape[0]\n",
    "        if df2.loc[df2[\"out\"] == \"Yes\"].shape[0] != 0:\n",
    "\n",
    "                dissmisal_type = df2.loc[df2[\"out\"] == \"Yes\"][\"dismissal_type\"].values[0]\n",
    "                dissmissed_by = df2.loc[df2[\"out\"] == \"Yes\"][\"bowler\"].values[0]\n",
    "        else:\n",
    "            dissmisal_type = \"Not Out\"\n",
    "            dissmissed_by = \"None\"\n",
    "\n",
    "        num_fours = df2.loc[df[\"batsman_runs\"] == 4].shape[0]\n",
    "        num_sixes = df2.loc[df[\"batsman_runs\"] == 6].shape[0]\n",
    "\n",
    "\n",
    "        head_2_head_dict[matchid_no] = {\"Match_date\":date_of_match,\"Venue\":venue_city_stadium,\\\n",
    "                                        \"Country\":venue_country\\\n",
    "                                       ,\"Runs\":sum(df2[\"batsman_runs\"]),\\\n",
    "                                       \"Balls\":balls_faced,\"Dismissed By\":dissmissed_by,\\\n",
    "                                       \"Dismissal_type\":dissmisal_type,\"Fours\":num_fours,\\\n",
    "                                       \"Sixes\":num_sixes}\n",
    "        \n",
    "    return head_2_head_dict,overall_head2head"
   ]
  },
  {
   "cell_type": "raw",
   "id": "f146de91",
   "metadata": {},
   "source": [
    "Functions created for batsman:\n",
    "1.batsman_v_bowler_h2h(df,batsman_name,bowler_name,venue,country) \n",
    "Head to Head analysis/overall head to head analysis\n",
    "\n",
    "2.all_batsman_scores_vs_team(df,batsman_team,opposition_team,venue,country)\n",
    "Batsman Scoring patterns of a team against a particular team\n",
    "\n",
    "3.batsman_score_stats_vs_team_or_by_venue_country(df,batsman_name,opposition_team,venue,country)\n",
    "Stats of a particular batsman against a team,or at a venue etc\n",
    "\n",
    "4.create_df_team1_v_team2()\n",
    "Creating datasets for a team1 vs team2 analysis\n",
    "\n",
    "\n",
    "5.get_batsmen_of_team(team,df)\n"
   ]
  },
  {
   "cell_type": "raw",
   "id": "3e32eb70",
   "metadata": {},
   "source": [
    "1. all_bowler_figures_vs_team_or_by_venue_country(df,bowler_name,opposition_team,venue,country)\n",
    "bowling stats/figures match by match against an opposition or career wise progression\n",
    "\n",
    "2. all_bowler_figures_vs_team(df,batsman_team,opposition_team,venue,country):\n",
    "bowling figure patterns vs team\n",
    "\n",
    "3. get_bowler_of_team(team,df)"
   ]
  },
  {
   "cell_type": "code",
   "execution_count": 45,
   "id": "ae2ab921",
   "metadata": {},
   "outputs": [
    {
     "data": {
      "text/plain": [
       "Index(['matchid', 'venue', 'country', 'date', 'month', 'year', 'match_between',\n",
       "       'toss_winner', 'toss_decision', 'current_innings', 'bowling_innings',\n",
       "       'over', 'batsman', 'non_striker', 'bowler', 'extras', 'total_runs',\n",
       "       'batsman_runs', 'extras_type', 'out', 'out_batsman', 'dismissal_type',\n",
       "       'dismissed_by_fielder', 'winner', 'winner_method', 'win_by',\n",
       "       'method_if_any', 'super_over', 'super_over_winner', 'potm'],\n",
       "      dtype='object')"
      ]
     },
     "execution_count": 45,
     "metadata": {},
     "output_type": "execute_result"
    }
   ],
   "source": [
    "df.columns"
   ]
  },
  {
   "cell_type": "code",
   "execution_count": 66,
   "id": "a98bf9d9",
   "metadata": {},
   "outputs": [],
   "source": [
    "def all_bowler_figures_vs_team_or_by_venue_country(df,bowler_name,opposition_team,venue,country):\n",
    "\n",
    "    \n",
    "    scores_dict = dict()\n",
    "    if (opposition_team is not None) & (venue is not None) & (country is None):\n",
    "        df1 = df.loc[(df[\"bowler\"] == bowler_name) & (df[\"current_innings\"] == opposition_team) \\\n",
    "                    & (df[\"venue\"] == venue )]\n",
    "        \n",
    "    elif (opposition_team is not None) & (venue is not None) & (country is not None):\n",
    "        df1 = df.loc[(df[\"bowler\"] == bowler_name) & (df[\"current_innings\"] == opposition_team) \\\n",
    "                     & (df[\"venue\"] == venue) & (df[\"country\"] == country)]\n",
    "        \n",
    "    elif (opposition_team is not None) & (venue is None) & (country is not None):  \n",
    "        df1 = df.loc[(df[\"bowler\"] == bowler_name) & (df[\"current_innings\"] == opposition_team) \\\n",
    "                     & (df[\"country\"] == country)]\n",
    "        \n",
    "    elif (opposition_team is None) & (venue is not None) & (country is None):\n",
    "        df1 = df.loc[(df[\"bowler\"] == bowler_name) & (df[\"venue\"] == venue)]\n",
    "        \n",
    "    elif (opposition_team is None) & (venue is  None) & (country is not None):\n",
    "        df1 = df.loc[(df[\"bowler\"] == bowler_name) & (df[\"country\"] == country)]\n",
    "    \n",
    "    else :\n",
    "        df1 = df.loc[(df[\"bowler\"] == bowler_name)]\n",
    "        \n",
    "   \n",
    "    for matchid_no in df1[\"matchid\"].unique():\n",
    "        df2 = df1.loc[(df1[\"matchid\"] == matchid_no)]\n",
    "        date_of_match = str(df2.iloc[0][\"date\"]) + \"-\" + str(df2.iloc[0][\"month\"])+\"-\"+str(str(df2.iloc[0][\"year\"]))\n",
    "        balls_bowled = df2.shape[0]\n",
    "        runs_to_batsman = sum(df2[\"batsman_runs\"]) \n",
    "        venue_city_stadium = df2.iloc[0][\"venue\"]\n",
    "        venue_country = df2.iloc[0][\"country\"]\n",
    "        extras = sum(df2[\"extras\"])\n",
    "        if df2.loc[df2[\"out\"] == \"Yes\"].shape[0] != 0:\n",
    "            number_of_wickets = 0\n",
    "            dissmissed_batsman = dict()\n",
    "            for batsman in df2.loc[df2[\"out\"] == \"Yes\"][\"out_batsman\"].unique():\n",
    "                if df2.loc[(df2[\"out\"] == \"Yes\") & (df2[\"out_batsman\"] == batsman)][\"dismissal_type\"].values[0] != \"run out\":\n",
    "                    number_of_wickets = number_of_wickets + 1\n",
    "                dissmissed_batsman[batsman] = df2.loc[(df2[\"out\"] == \"Yes\") & (df2[\"out_batsman\"] == batsman)][\"dismissal_type\"].values[0]\n",
    "            if number_of_wickets > 0:\n",
    "                average = (runs_to_batsman)/(number_of_wickets)\n",
    "                strike_rate = (balls_bowled)/(number_of_wickets)\n",
    "            #dissmisal_type = df2.loc[df2[\"out\"] == \"Yes\"][\"dismissal_type\"].values[0]\n",
    "            #dissmissed_by = df2.loc[df2[\"out\"] == \"Yes\"][\"bowler\"].values[0]\n",
    "        else:\n",
    "            number_of_wickets = 0\n",
    "            dissmissed_batsman = dict()\n",
    "            average = \"None\"\n",
    "            strike_rate = \"None\"\n",
    "            #dissmisal_type = \"Not Out\"\n",
    "            #dissmissed_by = \"None\"\n",
    "\n",
    "        num_fours = df2.loc[df[\"batsman_runs\"] == 4].shape[0]\n",
    "        num_sixes = df2.loc[df[\"batsman_runs\"] == 6].shape[0]\n",
    "        match_between = df2.iloc[0][\"match_between\"]\n",
    "        scores_dict[matchid_no] = {\"Match_date\":date_of_match,\"Venue\":venue_city_stadium,\"Country\":venue_country\\\n",
    "                                   ,\"Match_between\":match_between,\"Runs given\":runs_to_batsman\n",
    "                                   ,\"Wickets\":number_of_wickets,\\\n",
    "                                   \"Balls\":balls_bowled,\\\n",
    "                                   \"Dissmisals\":dissmissed_batsman,\"Average\":average,\"Strike Rate\":strike_rate,\\\n",
    "                                   \"Extras\":extras,\n",
    "                                    \"Fours\":num_fours,\\\n",
    "                                   \"Sixes\":num_sixes}\n",
    "    return scores_dict"
   ]
  },
  {
   "cell_type": "code",
   "execution_count": 68,
   "id": "2aa0e767",
   "metadata": {},
   "outputs": [
    {
     "data": {
      "text/plain": [
       "Index(['matchid', 'venue', 'country', 'date', 'month', 'year', 'match_between',\n",
       "       'toss_winner', 'toss_decision', 'current_innings', 'bowling_innings',\n",
       "       'over', 'batsman', 'non_striker', 'bowler', 'extras', 'total_runs',\n",
       "       'batsman_runs', 'extras_type', 'out', 'out_batsman', 'dismissal_type',\n",
       "       'dismissed_by_fielder', 'winner', 'winner_method', 'win_by',\n",
       "       'method_if_any', 'super_over', 'super_over_winner', 'potm'],\n",
       "      dtype='object')"
      ]
     },
     "execution_count": 68,
     "metadata": {},
     "output_type": "execute_result"
    }
   ],
   "source": [
    "df.columns"
   ]
  },
  {
   "cell_type": "code",
   "execution_count": 76,
   "id": "bea7b752",
   "metadata": {},
   "outputs": [],
   "source": [
    "def all_bowler_figures_vs_team(df,bowler_team,opposition_team,venue,country):\n",
    "    \n",
    "\n",
    "    #print(df)\n",
    "    if (venue is not None) & (country is None):\n",
    "        df1 = df.loc[(df[\"current_innings\"] == opposition_team) & (df[\"bowling_innings\"] == bowler_team) & \\\n",
    "                     (df[\"venue\"] == venue)]\n",
    "    elif (venue is not None) & (country is not None):\n",
    "        df1 = df.loc[(df[\"current_innings\"] == opposition_team) & (df[\"bowling_innings\"] == bowler_team) & \\\n",
    "                     (df[\"venue\"] == venue) \\\n",
    "                    & df[\"country\"] == country]\n",
    "    elif (venue is None) & (country is not None):\n",
    "        df1 = df.loc[(df[\"current_innings\"] == opposition_team) & (df[\"bowling_innings\"] == bowler_team) \\\n",
    "                    & df[\"country\"] == country]\n",
    "    else:\n",
    "        df1 = df.loc[(df[\"current_innings\"] == opposition_team) & (df[\"bowling_innings\"] == bowler_team)]\n",
    "        \n",
    "    scores_dict = dict()\n",
    "    df = df1\n",
    "    \n",
    "    for bowler_name in df[\"bowler\"].unique():\n",
    "        df1 = df.loc[(df[\"bowler\"] == bowler_name)]\n",
    "        match_dict = dict()\n",
    "        for matchid_no in df1[\"matchid\"].unique():\n",
    "            df2 = df1.loc[(df1[\"matchid\"] == matchid_no)]\n",
    "            date_of_match = str(df2.iloc[0][\"date\"]) + \"-\" + str(df2.iloc[0][\"month\"])+\"-\"+str(str(df2.iloc[0][\"year\"]))\n",
    "            balls_bowled = df2.shape[0]\n",
    "            runs_to_batsman = sum(df2[\"batsman_runs\"]) \n",
    "            venue_city_stadium = df2.iloc[0][\"venue\"]\n",
    "            venue_country = df2.iloc[0][\"country\"]\n",
    "            extras = sum(df2[\"extras\"])\n",
    "            if df2.loc[df2[\"out\"] == \"Yes\"].shape[0] != 0:\n",
    "                number_of_wickets = 0\n",
    "                dissmissed_batsman = dict()\n",
    "                for batsman in df2.loc[df2[\"out\"] == \"Yes\"][\"out_batsman\"].unique():\n",
    "                    if df2.loc[(df2[\"out\"] == \"Yes\") & (df2[\"out_batsman\"] == batsman)][\"dismissal_type\"].values[0] != \"run out\":\n",
    "                        number_of_wickets = number_of_wickets + 1\n",
    "                    dissmissed_batsman[batsman] = df2.loc[(df2[\"out\"] == \"Yes\") & (df2[\"out_batsman\"] == batsman)][\"dismissal_type\"].values[0]\n",
    "                if number_of_wickets > 0:\n",
    "                    average = (runs_to_batsman)/(number_of_wickets)\n",
    "                    strike_rate = (balls_bowled)/(number_of_wickets)\n",
    "                #dissmisal_type = df2.loc[df2[\"out\"] == \"Yes\"][\"dismissal_type\"].values[0]\n",
    "                #dissmissed_by = df2.loc[df2[\"out\"] == \"Yes\"][\"bowler\"].values[0]\n",
    "            else:\n",
    "                number_of_wickets = 0\n",
    "                dissmissed_batsman = dict()\n",
    "                average = \"None\"\n",
    "                strike_rate = \"None\"\n",
    "                #dissmisal_type = \"Not Out\"\n",
    "                #dissmissed_by = \"None\"\n",
    "\n",
    "            num_fours = df2.loc[df[\"batsman_runs\"] == 4].shape[0]\n",
    "            num_sixes = df2.loc[df[\"batsman_runs\"] == 6].shape[0]\n",
    "            match_between = df2.iloc[0][\"match_between\"]\n",
    "            match_dict[matchid_no] = {\"Match_date\":date_of_match,\"Venue\":venue_city_stadium,\"Country\":venue_country\\\n",
    "                                   ,\"Match_between\":match_between,\"Runs given\":runs_to_batsman\n",
    "                                   ,\"Wickets\":number_of_wickets,\\\n",
    "                                   \"Balls\":balls_bowled,\\\n",
    "                                   \"Dissmisals\":dissmissed_batsman,\"Average\":average,\"Strike Rate\":strike_rate,\\\n",
    "                                      \"Extras\":extras,\n",
    "                                    \"Fours\":num_fours,\\\n",
    "                                   \"Sixes\":num_sixes}\n",
    "\n",
    "\n",
    "        scores_dict[bowler_name] = match_dict\n",
    "    return scores_dict\n",
    "        "
   ]
  },
  {
   "cell_type": "code",
   "execution_count": 77,
   "id": "810a9ba0",
   "metadata": {},
   "outputs": [
    {
     "data": {
      "text/plain": [
       "{'SE Bond': {218250: {'Match_date': '6-9-2005',\n",
       "   'Venue': 'Harare Sports Club',\n",
       "   'Country': 'Zimbabwe',\n",
       "   'Match_between': 'India vs New Zealand',\n",
       "   'Runs given': 40,\n",
       "   'Wickets': 1,\n",
       "   'Balls': 61,\n",
       "   'Dissmisals': {'AB Agarkar': 'caught'},\n",
       "   'Average': 40.0,\n",
       "   'Strike Rate': 61.0,\n",
       "   'Extras': 4,\n",
       "   'Fours': 5,\n",
       "   'Sixes': 0},\n",
       "  403382: {'Match_date': '11-9-2009',\n",
       "   'Venue': 'Colombo',\n",
       "   'Country': 'Sri Lanka',\n",
       "   'Match_between': 'India vs New Zealand',\n",
       "   'Runs given': 29,\n",
       "   'Wickets': 0,\n",
       "   'Balls': 61,\n",
       "   'Dissmisals': {},\n",
       "   'Average': 'None',\n",
       "   'Strike Rate': 'None',\n",
       "   'Extras': 2,\n",
       "   'Fours': 4,\n",
       "   'Sixes': 0}},\n",
       " 'KD Mills': {218250: {'Match_date': '6-9-2005',\n",
       "   'Venue': 'Harare Sports Club',\n",
       "   'Country': 'Zimbabwe',\n",
       "   'Match_between': 'India vs New Zealand',\n",
       "   'Runs given': 45,\n",
       "   'Wickets': 2,\n",
       "   'Balls': 57,\n",
       "   'Dissmisals': {'Yuvraj Singh': 'caught', 'A Nehra': 'caught'},\n",
       "   'Average': 22.5,\n",
       "   'Strike Rate': 28.5,\n",
       "   'Extras': 1,\n",
       "   'Fours': 7,\n",
       "   'Sixes': 0},\n",
       "  366624: {'Match_date': '11-3-2009',\n",
       "   'Venue': 'Hamilton',\n",
       "   'Country': 'Canada',\n",
       "   'Match_between': 'New Zealand vs India',\n",
       "   'Runs given': 29,\n",
       "   'Wickets': 0,\n",
       "   'Balls': 30,\n",
       "   'Dissmisals': {},\n",
       "   'Average': 'None',\n",
       "   'Strike Rate': 'None',\n",
       "   'Extras': 2,\n",
       "   'Fours': 3,\n",
       "   'Sixes': 0},\n",
       "  467885: {'Match_date': '4-12-2010',\n",
       "   'Venue': 'Vadodara',\n",
       "   'Country': 'India',\n",
       "   'Match_between': 'India vs New Zealand',\n",
       "   'Runs given': 39,\n",
       "   'Wickets': 0,\n",
       "   'Balls': 36,\n",
       "   'Dissmisals': {},\n",
       "   'Average': 'None',\n",
       "   'Strike Rate': 'None',\n",
       "   'Extras': 1,\n",
       "   'Fours': 6,\n",
       "   'Sixes': 0},\n",
       "  456665: {'Match_date': '25-8-2010',\n",
       "   'Venue': 'Rangiri Dambulla International Stadium',\n",
       "   'Country': 'None',\n",
       "   'Match_between': 'India vs New Zealand',\n",
       "   'Runs given': 39,\n",
       "   'Wickets': 2,\n",
       "   'Balls': 54,\n",
       "   'Dissmisals': {'KD Karthik': 'caught', 'MM Patel': 'caught'},\n",
       "   'Average': 19.5,\n",
       "   'Strike Rate': 27.0,\n",
       "   'Extras': 4,\n",
       "   'Fours': 7,\n",
       "   'Sixes': 0},\n",
       "  403382: {'Match_date': '11-9-2009',\n",
       "   'Venue': 'Colombo',\n",
       "   'Country': 'Sri Lanka',\n",
       "   'Match_between': 'India vs New Zealand',\n",
       "   'Runs given': 25,\n",
       "   'Wickets': 1,\n",
       "   'Balls': 33,\n",
       "   'Dissmisals': {'KD Karthik': 'lbw'},\n",
       "   'Average': 25.0,\n",
       "   'Strike Rate': 33.0,\n",
       "   'Extras': 1,\n",
       "   'Fours': 2,\n",
       "   'Sixes': 0},\n",
       "  467884: {'Match_date': '1-12-2010',\n",
       "   'Venue': 'Jaipur',\n",
       "   'Country': 'India',\n",
       "   'Match_between': 'India vs New Zealand',\n",
       "   'Runs given': 49,\n",
       "   'Wickets': 0,\n",
       "   'Balls': 42,\n",
       "   'Dissmisals': {},\n",
       "   'Average': 'None',\n",
       "   'Strike Rate': 'None',\n",
       "   'Extras': 0,\n",
       "   'Fours': 7,\n",
       "   'Sixes': 0},\n",
       "  667643: {'Match_date': '22-1-2014',\n",
       "   'Venue': 'Hamilton',\n",
       "   'Country': 'Canada',\n",
       "   'Match_between': 'New Zealand vs India',\n",
       "   'Runs given': 50,\n",
       "   'Wickets': 1,\n",
       "   'Balls': 54,\n",
       "   'Dissmisals': {'SK Raina': 'caught'},\n",
       "   'Average': 50.0,\n",
       "   'Strike Rate': 54.0,\n",
       "   'Extras': 0,\n",
       "   'Fours': 4,\n",
       "   'Sixes': 2},\n",
       "  366627: {'Match_date': '8-3-2009',\n",
       "   'Venue': 'Christchurch',\n",
       "   'Country': 'New Zealand',\n",
       "   'Match_between': 'New Zealand vs India',\n",
       "   'Runs given': 55,\n",
       "   'Wickets': 2,\n",
       "   'Balls': 63,\n",
       "   'Dissmisals': {'V Sehwag': 'bowled', 'MS Dhoni': 'caught'},\n",
       "   'Average': 27.5,\n",
       "   'Strike Rate': 31.5,\n",
       "   'Extras': 3,\n",
       "   'Fours': 4,\n",
       "   'Sixes': 0},\n",
       "  366626: {'Match_date': '6-3-2009',\n",
       "   'Venue': 'Wellington',\n",
       "   'Country': 'New Zealand',\n",
       "   'Match_between': 'New Zealand vs India',\n",
       "   'Runs given': 46,\n",
       "   'Wickets': 1,\n",
       "   'Balls': 42,\n",
       "   'Dissmisals': {'Yuvraj Singh': 'caught'},\n",
       "   'Average': 46.0,\n",
       "   'Strike Rate': 42.0,\n",
       "   'Extras': 2,\n",
       "   'Fours': 6,\n",
       "   'Sixes': 0},\n",
       "  467886: {'Match_date': '7-12-2010',\n",
       "   'Venue': 'Bangalore',\n",
       "   'Country': 'India',\n",
       "   'Match_between': 'India vs New Zealand',\n",
       "   'Runs given': 63,\n",
       "   'Wickets': 0,\n",
       "   'Balls': 62,\n",
       "   'Dissmisals': {},\n",
       "   'Average': 'None',\n",
       "   'Strike Rate': 'None',\n",
       "   'Extras': 5,\n",
       "   'Fours': 8,\n",
       "   'Sixes': 2},\n",
       "  66369: {'Match_date': '6-11-2003',\n",
       "   'Venue': 'Cuttack',\n",
       "   'Country': 'India',\n",
       "   'Match_between': 'India vs New Zealand',\n",
       "   'Runs given': 50,\n",
       "   'Wickets': 1,\n",
       "   'Balls': 49,\n",
       "   'Dissmisals': {'SR Tendulkar': 'lbw'},\n",
       "   'Average': 50.0,\n",
       "   'Strike Rate': 49.0,\n",
       "   'Extras': 3,\n",
       "   'Fours': 8,\n",
       "   'Sixes': 0},\n",
       "  366623: {'Match_date': '3-3-2009',\n",
       "   'Venue': 'Napier',\n",
       "   'Country': 'New Zealand',\n",
       "   'Match_between': 'New Zealand vs India',\n",
       "   'Runs given': 67,\n",
       "   'Wickets': 0,\n",
       "   'Balls': 44,\n",
       "   'Dissmisals': {},\n",
       "   'Average': 'None',\n",
       "   'Strike Rate': 'None',\n",
       "   'Extras': 2,\n",
       "   'Fours': 6,\n",
       "   'Sixes': 3},\n",
       "  467883: {'Match_date': '28-11-2010',\n",
       "   'Venue': 'Guwahati',\n",
       "   'Country': 'India',\n",
       "   'Match_between': 'India vs New Zealand',\n",
       "   'Runs given': 42,\n",
       "   'Wickets': 3,\n",
       "   'Balls': 60,\n",
       "   'Dissmisals': {'SK Raina': 'caught',\n",
       "    'A Nehra': 'run out',\n",
       "    'YK Pathan': 'caught',\n",
       "    'S Sreesanth': 'caught'},\n",
       "   'Average': 14.0,\n",
       "   'Strike Rate': 20.0,\n",
       "   'Extras': 2,\n",
       "   'Fours': 5,\n",
       "   'Sixes': 0},\n",
       "  467887: {'Match_date': '10-12-2010',\n",
       "   'Venue': 'Chennai',\n",
       "   'Country': 'India',\n",
       "   'Match_between': 'India vs New Zealand',\n",
       "   'Runs given': 15,\n",
       "   'Wickets': 0,\n",
       "   'Balls': 6,\n",
       "   'Dissmisals': {},\n",
       "   'Average': 'None',\n",
       "   'Strike Rate': 'None',\n",
       "   'Extras': 0,\n",
       "   'Fours': 3,\n",
       "   'Sixes': 0},\n",
       "  66372: {'Match_date': '15-11-2003',\n",
       "   'Venue': 'Hyderabad',\n",
       "   'Country': 'India',\n",
       "   'Match_between': 'India vs New Zealand',\n",
       "   'Runs given': 52,\n",
       "   'Wickets': 1,\n",
       "   'Balls': 62,\n",
       "   'Dissmisals': {'Yuvraj Singh': 'caught'},\n",
       "   'Average': 52.0,\n",
       "   'Strike Rate': 62.0,\n",
       "   'Extras': 2,\n",
       "   'Fours': 5,\n",
       "   'Sixes': 0},\n",
       "  456662: {'Match_date': '10-8-2010',\n",
       "   'Venue': 'Rangiri Dambulla International Stadium',\n",
       "   'Country': 'None',\n",
       "   'Match_between': 'India vs New Zealand',\n",
       "   'Runs given': 25,\n",
       "   'Wickets': 2,\n",
       "   'Balls': 40,\n",
       "   'Dissmisals': {'V Sehwag': 'caught', 'A Nehra': 'caught'},\n",
       "   'Average': 12.5,\n",
       "   'Strike Rate': 20.0,\n",
       "   'Extras': 1,\n",
       "   'Fours': 4,\n",
       "   'Sixes': 0},\n",
       "  366625: {'Match_date': '14-3-2009',\n",
       "   'Venue': 'Auckland',\n",
       "   'Country': 'New Zealand',\n",
       "   'Match_between': 'New Zealand vs India',\n",
       "   'Runs given': 26,\n",
       "   'Wickets': 1,\n",
       "   'Balls': 43,\n",
       "   'Dissmisals': {'G Gambhir': 'caught'},\n",
       "   'Average': 26.0,\n",
       "   'Strike Rate': 43.0,\n",
       "   'Extras': 2,\n",
       "   'Fours': 0,\n",
       "   'Sixes': 2},\n",
       "  667647: {'Match_date': '28-1-2014',\n",
       "   'Venue': 'Hamilton',\n",
       "   'Country': 'Canada',\n",
       "   'Match_between': 'New Zealand vs India',\n",
       "   'Runs given': 42,\n",
       "   'Wickets': 1,\n",
       "   'Balls': 60,\n",
       "   'Dissmisals': {'AM Rahane': 'caught'},\n",
       "   'Average': 42.0,\n",
       "   'Strike Rate': 60.0,\n",
       "   'Extras': 0,\n",
       "   'Fours': 3,\n",
       "   'Sixes': 1},\n",
       "  667649: {'Match_date': '31-1-2014',\n",
       "   'Venue': 'Wellington',\n",
       "   'Country': 'New Zealand',\n",
       "   'Match_between': 'New Zealand vs India',\n",
       "   'Runs given': 34,\n",
       "   'Wickets': 2,\n",
       "   'Balls': 61,\n",
       "   'Dissmisals': {'RG Sharma': 'caught', 'RA Jadeja': 'caught'},\n",
       "   'Average': 17.0,\n",
       "   'Strike Rate': 30.5,\n",
       "   'Extras': 1,\n",
       "   'Fours': 2,\n",
       "   'Sixes': 1}},\n",
       " 'JDP Oram': {218250: {'Match_date': '6-9-2005',\n",
       "   'Venue': 'Harare Sports Club',\n",
       "   'Country': 'Zimbabwe',\n",
       "   'Match_between': 'India vs New Zealand',\n",
       "   'Runs given': 54,\n",
       "   'Wickets': 4,\n",
       "   'Balls': 55,\n",
       "   'Dissmisals': {'SC Ganguly': 'caught',\n",
       "    'Y Venugopal Rao': 'caught',\n",
       "    'Jai Prakash Yadav': 'caught',\n",
       "    'IK Pathan': 'caught'},\n",
       "   'Average': 13.5,\n",
       "   'Strike Rate': 13.75,\n",
       "   'Extras': 8,\n",
       "   'Fours': 7,\n",
       "   'Sixes': 1},\n",
       "  366624: {'Match_date': '11-3-2009',\n",
       "   'Venue': 'Hamilton',\n",
       "   'Country': 'Canada',\n",
       "   'Match_between': 'New Zealand vs India',\n",
       "   'Runs given': 43,\n",
       "   'Wickets': 0,\n",
       "   'Balls': 27,\n",
       "   'Dissmisals': {},\n",
       "   'Average': 'None',\n",
       "   'Strike Rate': 'None',\n",
       "   'Extras': 0,\n",
       "   'Fours': 2,\n",
       "   'Sixes': 3},\n",
       "  66364: {'Match_date': '23-10-2003',\n",
       "   'Venue': 'Chennai',\n",
       "   'Country': 'India',\n",
       "   'Match_between': 'India vs New Zealand',\n",
       "   'Runs given': 29,\n",
       "   'Wickets': 0,\n",
       "   'Balls': 38,\n",
       "   'Dissmisals': {},\n",
       "   'Average': 'None',\n",
       "   'Strike Rate': 'None',\n",
       "   'Extras': 2,\n",
       "   'Fours': 4,\n",
       "   'Sixes': 0},\n",
       "  403382: {'Match_date': '11-9-2009',\n",
       "   'Venue': 'Colombo',\n",
       "   'Country': 'Sri Lanka',\n",
       "   'Match_between': 'India vs New Zealand',\n",
       "   'Runs given': 19,\n",
       "   'Wickets': 1,\n",
       "   'Balls': 42,\n",
       "   'Dissmisals': {'R Dravid': 'lbw'},\n",
       "   'Average': 19.0,\n",
       "   'Strike Rate': 42.0,\n",
       "   'Extras': 0,\n",
       "   'Fours': 2,\n",
       "   'Sixes': 0},\n",
       "  366627: {'Match_date': '8-3-2009',\n",
       "   'Venue': 'Christchurch',\n",
       "   'Country': 'New Zealand',\n",
       "   'Match_between': 'New Zealand vs India',\n",
       "   'Runs given': 31,\n",
       "   'Wickets': 0,\n",
       "   'Balls': 49,\n",
       "   'Dissmisals': {},\n",
       "   'Average': 'None',\n",
       "   'Strike Rate': 'None',\n",
       "   'Extras': 4,\n",
       "   'Fours': 4,\n",
       "   'Sixes': 1},\n",
       "  366626: {'Match_date': '6-3-2009',\n",
       "   'Venue': 'Wellington',\n",
       "   'Country': 'New Zealand',\n",
       "   'Match_between': 'New Zealand vs India',\n",
       "   'Runs given': 27,\n",
       "   'Wickets': 0,\n",
       "   'Balls': 26,\n",
       "   'Dissmisals': {},\n",
       "   'Average': 'None',\n",
       "   'Strike Rate': 'None',\n",
       "   'Extras': 2,\n",
       "   'Fours': 5,\n",
       "   'Sixes': 0},\n",
       "  66369: {'Match_date': '6-11-2003',\n",
       "   'Venue': 'Cuttack',\n",
       "   'Country': 'India',\n",
       "   'Match_between': 'India vs New Zealand',\n",
       "   'Runs given': 67,\n",
       "   'Wickets': 0,\n",
       "   'Balls': 61,\n",
       "   'Dissmisals': {},\n",
       "   'Average': 'None',\n",
       "   'Strike Rate': 'None',\n",
       "   'Extras': 1,\n",
       "   'Fours': 6,\n",
       "   'Sixes': 2},\n",
       "  366623: {'Match_date': '3-3-2009',\n",
       "   'Venue': 'Napier',\n",
       "   'Country': 'New Zealand',\n",
       "   'Match_between': 'New Zealand vs India',\n",
       "   'Runs given': 19,\n",
       "   'Wickets': 0,\n",
       "   'Balls': 12,\n",
       "   'Dissmisals': {},\n",
       "   'Average': 'None',\n",
       "   'Strike Rate': 'None',\n",
       "   'Extras': 0,\n",
       "   'Fours': 2,\n",
       "   'Sixes': 0},\n",
       "  66372: {'Match_date': '15-11-2003',\n",
       "   'Venue': 'Hyderabad',\n",
       "   'Country': 'India',\n",
       "   'Match_between': 'India vs New Zealand',\n",
       "   'Runs given': 67,\n",
       "   'Wickets': 0,\n",
       "   'Balls': 42,\n",
       "   'Dissmisals': {},\n",
       "   'Average': 'None',\n",
       "   'Strike Rate': 'None',\n",
       "   'Extras': 0,\n",
       "   'Fours': 8,\n",
       "   'Sixes': 2},\n",
       "  456662: {'Match_date': '10-8-2010',\n",
       "   'Venue': 'Rangiri Dambulla International Stadium',\n",
       "   'Country': 'None',\n",
       "   'Match_between': 'India vs New Zealand',\n",
       "   'Runs given': 14,\n",
       "   'Wickets': 2,\n",
       "   'Balls': 37,\n",
       "   'Dissmisals': {'P Kumar': 'caught', 'A Mithun': 'caught'},\n",
       "   'Average': 7.0,\n",
       "   'Strike Rate': 18.5,\n",
       "   'Extras': 1,\n",
       "   'Fours': 2,\n",
       "   'Sixes': 0},\n",
       "  366625: {'Match_date': '14-3-2009',\n",
       "   'Venue': 'Auckland',\n",
       "   'Country': 'New Zealand',\n",
       "   'Match_between': 'New Zealand vs India',\n",
       "   'Runs given': 21,\n",
       "   'Wickets': 2,\n",
       "   'Balls': 55,\n",
       "   'Dissmisals': {'SK Raina': 'caught',\n",
       "    'V Sehwag': 'caught',\n",
       "    'Harbhajan Singh': 'run out'},\n",
       "   'Average': 10.5,\n",
       "   'Strike Rate': 27.5,\n",
       "   'Extras': 2,\n",
       "   'Fours': 0,\n",
       "   'Sixes': 0}},\n",
       " 'SB Styris': {218250: {'Match_date': '6-9-2005',\n",
       "   'Venue': 'Harare Sports Club',\n",
       "   'Country': 'Zimbabwe',\n",
       "   'Match_between': 'India vs New Zealand',\n",
       "   'Runs given': 50,\n",
       "   'Wickets': 1,\n",
       "   'Balls': 50,\n",
       "   'Dissmisals': {'MS Dhoni': 'lbw'},\n",
       "   'Average': 50.0,\n",
       "   'Strike Rate': 50.0,\n",
       "   'Extras': 6,\n",
       "   'Fours': 6,\n",
       "   'Sixes': 1},\n",
       "  66364: {'Match_date': '23-10-2003',\n",
       "   'Venue': 'Chennai',\n",
       "   'Country': 'India',\n",
       "   'Match_between': 'India vs New Zealand',\n",
       "   'Runs given': 19,\n",
       "   'Wickets': 1,\n",
       "   'Balls': 24,\n",
       "   'Dissmisals': {'VVS Laxman': 'caught'},\n",
       "   'Average': 19.0,\n",
       "   'Strike Rate': 24.0,\n",
       "   'Extras': 0,\n",
       "   'Fours': 2,\n",
       "   'Sixes': 0},\n",
       "  467885: {'Match_date': '4-12-2010',\n",
       "   'Venue': 'Vadodara',\n",
       "   'Country': 'India',\n",
       "   'Match_between': 'India vs New Zealand',\n",
       "   'Runs given': 32,\n",
       "   'Wickets': 0,\n",
       "   'Balls': 36,\n",
       "   'Dissmisals': {'M Vijay': 'run out'},\n",
       "   'Average': 19.0,\n",
       "   'Strike Rate': 24.0,\n",
       "   'Extras': 0,\n",
       "   'Fours': 4,\n",
       "   'Sixes': 0},\n",
       "  456665: {'Match_date': '25-8-2010',\n",
       "   'Venue': 'Rangiri Dambulla International Stadium',\n",
       "   'Country': 'None',\n",
       "   'Match_between': 'India vs New Zealand',\n",
       "   'Runs given': 35,\n",
       "   'Wickets': 0,\n",
       "   'Balls': 38,\n",
       "   'Dissmisals': {},\n",
       "   'Average': 'None',\n",
       "   'Strike Rate': 'None',\n",
       "   'Extras': 6,\n",
       "   'Fours': 5,\n",
       "   'Sixes': 0},\n",
       "  467884: {'Match_date': '1-12-2010',\n",
       "   'Venue': 'Jaipur',\n",
       "   'Country': 'India',\n",
       "   'Match_between': 'India vs New Zealand',\n",
       "   'Runs given': 20,\n",
       "   'Wickets': 0,\n",
       "   'Balls': 18,\n",
       "   'Dissmisals': {},\n",
       "   'Average': 'None',\n",
       "   'Strike Rate': 'None',\n",
       "   'Extras': 0,\n",
       "   'Fours': 2,\n",
       "   'Sixes': 0},\n",
       "  467886: {'Match_date': '7-12-2010',\n",
       "   'Venue': 'Bangalore',\n",
       "   'Country': 'India',\n",
       "   'Match_between': 'India vs New Zealand',\n",
       "   'Runs given': 26,\n",
       "   'Wickets': 0,\n",
       "   'Balls': 25,\n",
       "   'Dissmisals': {},\n",
       "   'Average': 'None',\n",
       "   'Strike Rate': 'None',\n",
       "   'Extras': 1,\n",
       "   'Fours': 2,\n",
       "   'Sixes': 1},\n",
       "  66369: {'Match_date': '6-11-2003',\n",
       "   'Venue': 'Cuttack',\n",
       "   'Country': 'India',\n",
       "   'Match_between': 'India vs New Zealand',\n",
       "   'Runs given': 38,\n",
       "   'Wickets': 3,\n",
       "   'Balls': 60,\n",
       "   'Dissmisals': {'VVS Laxman': 'caught and bowled',\n",
       "    'M Kaif': 'bowled',\n",
       "    'SV Bahutule': 'lbw'},\n",
       "   'Average': 12.666666666666666,\n",
       "   'Strike Rate': 20.0,\n",
       "   'Extras': 0,\n",
       "   'Fours': 4,\n",
       "   'Sixes': 0},\n",
       "  467883: {'Match_date': '28-11-2010',\n",
       "   'Venue': 'Guwahati',\n",
       "   'Country': 'India',\n",
       "   'Match_between': 'India vs New Zealand',\n",
       "   'Runs given': 26,\n",
       "   'Wickets': 0,\n",
       "   'Balls': 36,\n",
       "   'Dissmisals': {},\n",
       "   'Average': 'None',\n",
       "   'Strike Rate': 'None',\n",
       "   'Extras': 0,\n",
       "   'Fours': 1,\n",
       "   'Sixes': 0},\n",
       "  467887: {'Match_date': '10-12-2010',\n",
       "   'Venue': 'Chennai',\n",
       "   'Country': 'India',\n",
       "   'Match_between': 'India vs New Zealand',\n",
       "   'Runs given': 7,\n",
       "   'Wickets': 0,\n",
       "   'Balls': 24,\n",
       "   'Dissmisals': {},\n",
       "   'Average': 'None',\n",
       "   'Strike Rate': 'None',\n",
       "   'Extras': 2,\n",
       "   'Fours': 1,\n",
       "   'Sixes': 0},\n",
       "  66372: {'Match_date': '15-11-2003',\n",
       "   'Venue': 'Hyderabad',\n",
       "   'Country': 'India',\n",
       "   'Match_between': 'India vs New Zealand',\n",
       "   'Runs given': 46,\n",
       "   'Wickets': 2,\n",
       "   'Balls': 36,\n",
       "   'Dissmisals': {'SC Ganguly': 'caught', 'V Sehwag': 'caught'},\n",
       "   'Average': 23.0,\n",
       "   'Strike Rate': 18.0,\n",
       "   'Extras': 0,\n",
       "   'Fours': 3,\n",
       "   'Sixes': 2}},\n",
       " 'DL Vettori': {218250: {'Match_date': '6-9-2005',\n",
       "   'Venue': 'Harare Sports Club',\n",
       "   'Country': 'Zimbabwe',\n",
       "   'Match_between': 'India vs New Zealand',\n",
       "   'Runs given': 33,\n",
       "   'Wickets': 2,\n",
       "   'Balls': 61,\n",
       "   'Dissmisals': {'V Sehwag': 'caught', 'R Dravid': 'lbw'},\n",
       "   'Average': 16.5,\n",
       "   'Strike Rate': 30.5,\n",
       "   'Extras': 2,\n",
       "   'Fours': 0,\n",
       "   'Sixes': 0},\n",
       "  366624: {'Match_date': '11-3-2009',\n",
       "   'Venue': 'Hamilton',\n",
       "   'Country': 'Canada',\n",
       "   'Match_between': 'New Zealand vs India',\n",
       "   'Runs given': 32,\n",
       "   'Wickets': 0,\n",
       "   'Balls': 30,\n",
       "   'Dissmisals': {},\n",
       "   'Average': 'None',\n",
       "   'Strike Rate': 'None',\n",
       "   'Extras': 4,\n",
       "   'Fours': 3,\n",
       "   'Sixes': 1},\n",
       "  66364: {'Match_date': '23-10-2003',\n",
       "   'Venue': 'Chennai',\n",
       "   'Country': 'India',\n",
       "   'Match_between': 'India vs New Zealand',\n",
       "   'Runs given': 21,\n",
       "   'Wickets': 1,\n",
       "   'Balls': 24,\n",
       "   'Dissmisals': {'R Dravid': 'caught'},\n",
       "   'Average': 21.0,\n",
       "   'Strike Rate': 24.0,\n",
       "   'Extras': 0,\n",
       "   'Fours': 3,\n",
       "   'Sixes': 0},\n",
       "  467885: {'Match_date': '4-12-2010',\n",
       "   'Venue': 'Vadodara',\n",
       "   'Country': 'India',\n",
       "   'Match_between': 'India vs New Zealand',\n",
       "   'Runs given': 41,\n",
       "   'Wickets': 0,\n",
       "   'Balls': 54,\n",
       "   'Dissmisals': {},\n",
       "   'Average': 'None',\n",
       "   'Strike Rate': 'None',\n",
       "   'Extras': 0,\n",
       "   'Fours': 3,\n",
       "   'Sixes': 1},\n",
       "  403382: {'Match_date': '11-9-2009',\n",
       "   'Venue': 'Colombo',\n",
       "   'Country': 'Sri Lanka',\n",
       "   'Match_between': 'India vs New Zealand',\n",
       "   'Runs given': 33,\n",
       "   'Wickets': 2,\n",
       "   'Balls': 60,\n",
       "   'Dissmisals': {'SR Tendulkar': 'caught', 'Yuvraj Singh': 'caught'},\n",
       "   'Average': 16.5,\n",
       "   'Strike Rate': 30.0,\n",
       "   'Extras': 1,\n",
       "   'Fours': 2,\n",
       "   'Sixes': 1},\n",
       "  467884: {'Match_date': '1-12-2010',\n",
       "   'Venue': 'Jaipur',\n",
       "   'Country': 'India',\n",
       "   'Match_between': 'India vs New Zealand',\n",
       "   'Runs given': 32,\n",
       "   'Wickets': 1,\n",
       "   'Balls': 48,\n",
       "   'Dissmisals': {'M Vijay': 'bowled'},\n",
       "   'Average': 32.0,\n",
       "   'Strike Rate': 48.0,\n",
       "   'Extras': 0,\n",
       "   'Fours': 2,\n",
       "   'Sixes': 0},\n",
       "  366626: {'Match_date': '6-3-2009',\n",
       "   'Venue': 'Wellington',\n",
       "   'Country': 'New Zealand',\n",
       "   'Match_between': 'New Zealand vs India',\n",
       "   'Runs given': 13,\n",
       "   'Wickets': 1,\n",
       "   'Balls': 19,\n",
       "   'Dissmisals': {'SR Tendulkar': 'lbw'},\n",
       "   'Average': 13.0,\n",
       "   'Strike Rate': 19.0,\n",
       "   'Extras': 1,\n",
       "   'Fours': 1,\n",
       "   'Sixes': 0},\n",
       "  467886: {'Match_date': '7-12-2010',\n",
       "   'Venue': 'Bangalore',\n",
       "   'Country': 'India',\n",
       "   'Match_between': 'India vs New Zealand',\n",
       "   'Runs given': 57,\n",
       "   'Wickets': 0,\n",
       "   'Balls': 60,\n",
       "   'Dissmisals': {},\n",
       "   'Average': 'None',\n",
       "   'Strike Rate': 'None',\n",
       "   'Extras': 0,\n",
       "   'Fours': 1,\n",
       "   'Sixes': 3},\n",
       "  66369: {'Match_date': '6-11-2003',\n",
       "   'Venue': 'Cuttack',\n",
       "   'Country': 'India',\n",
       "   'Match_between': 'India vs New Zealand',\n",
       "   'Runs given': 39,\n",
       "   'Wickets': 2,\n",
       "   'Balls': 60,\n",
       "   'Dissmisals': {'R Dravid': 'caught', 'Yuvraj Singh': 'caught'},\n",
       "   'Average': 19.5,\n",
       "   'Strike Rate': 30.0,\n",
       "   'Extras': 0,\n",
       "   'Fours': 2,\n",
       "   'Sixes': 0},\n",
       "  366623: {'Match_date': '3-3-2009',\n",
       "   'Venue': 'Napier',\n",
       "   'Country': 'New Zealand',\n",
       "   'Match_between': 'New Zealand vs India',\n",
       "   'Runs given': 42,\n",
       "   'Wickets': 1,\n",
       "   'Balls': 48,\n",
       "   'Dissmisals': {'V Sehwag': 'caught', 'Yuvraj Singh': 'run out'},\n",
       "   'Average': 42.0,\n",
       "   'Strike Rate': 48.0,\n",
       "   'Extras': 0,\n",
       "   'Fours': 3,\n",
       "   'Sixes': 2},\n",
       "  467887: {'Match_date': '10-12-2010',\n",
       "   'Venue': 'Chennai',\n",
       "   'Country': 'India',\n",
       "   'Match_between': 'India vs New Zealand',\n",
       "   'Runs given': 25,\n",
       "   'Wickets': 1,\n",
       "   'Balls': 37,\n",
       "   'Dissmisals': {'V Kohli': 'caught'},\n",
       "   'Average': 25.0,\n",
       "   'Strike Rate': 37.0,\n",
       "   'Extras': 5,\n",
       "   'Fours': 1,\n",
       "   'Sixes': 1},\n",
       "  66372: {'Match_date': '15-11-2003',\n",
       "   'Venue': 'Hyderabad',\n",
       "   'Country': 'India',\n",
       "   'Match_between': 'India vs New Zealand',\n",
       "   'Runs given': 35,\n",
       "   'Wickets': 0,\n",
       "   'Balls': 36,\n",
       "   'Dissmisals': {},\n",
       "   'Average': 'None',\n",
       "   'Strike Rate': 'None',\n",
       "   'Extras': 0,\n",
       "   'Fours': 4,\n",
       "   'Sixes': 1},\n",
       "  366625: {'Match_date': '14-3-2009',\n",
       "   'Venue': 'Auckland',\n",
       "   'Country': 'New Zealand',\n",
       "   'Match_between': 'New Zealand vs India',\n",
       "   'Runs given': 19,\n",
       "   'Wickets': 0,\n",
       "   'Balls': 24,\n",
       "   'Dissmisals': {'Z Khan': 'run out'},\n",
       "   'Average': 'None',\n",
       "   'Strike Rate': 'None',\n",
       "   'Extras': 1,\n",
       "   'Fours': 1,\n",
       "   'Sixes': 1}},\n",
       " 'NJ Astle': {218250: {'Match_date': '6-9-2005',\n",
       "   'Venue': 'Harare Sports Club',\n",
       "   'Country': 'Zimbabwe',\n",
       "   'Match_between': 'India vs New Zealand',\n",
       "   'Runs given': 32,\n",
       "   'Wickets': 0,\n",
       "   'Balls': 25,\n",
       "   'Dissmisals': {},\n",
       "   'Average': 'None',\n",
       "   'Strike Rate': 'None',\n",
       "   'Extras': 1,\n",
       "   'Fours': 4,\n",
       "   'Sixes': 0}},\n",
       " 'EP Thompson': {366624: {'Match_date': '11-3-2009',\n",
       "   'Venue': 'Hamilton',\n",
       "   'Country': 'Canada',\n",
       "   'Match_between': 'New Zealand vs India',\n",
       "   'Runs given': 40,\n",
       "   'Wickets': 0,\n",
       "   'Balls': 26,\n",
       "   'Dissmisals': {},\n",
       "   'Average': 'None',\n",
       "   'Strike Rate': 'None',\n",
       "   'Extras': 3,\n",
       "   'Fours': 6,\n",
       "   'Sixes': 1}},\n",
       " \"IE O'Brien\": {366624: {'Match_date': '11-3-2009',\n",
       "   'Venue': 'Hamilton',\n",
       "   'Country': 'Canada',\n",
       "   'Match_between': 'New Zealand vs India',\n",
       "   'Runs given': 36,\n",
       "   'Wickets': 0,\n",
       "   'Balls': 19,\n",
       "   'Dissmisals': {},\n",
       "   'Average': 'None',\n",
       "   'Strike Rate': 'None',\n",
       "   'Extras': 2,\n",
       "   'Fours': 5,\n",
       "   'Sixes': 1},\n",
       "  366626: {'Match_date': '6-3-2009',\n",
       "   'Venue': 'Wellington',\n",
       "   'Country': 'New Zealand',\n",
       "   'Match_between': 'New Zealand vs India',\n",
       "   'Runs given': 44,\n",
       "   'Wickets': 1,\n",
       "   'Balls': 36,\n",
       "   'Dissmisals': {'G Gambhir': 'caught'},\n",
       "   'Average': 44.0,\n",
       "   'Strike Rate': 36.0,\n",
       "   'Extras': 0,\n",
       "   'Fours': 6,\n",
       "   'Sixes': 1},\n",
       "  366623: {'Match_date': '3-3-2009',\n",
       "   'Venue': 'Napier',\n",
       "   'Country': 'New Zealand',\n",
       "   'Match_between': 'New Zealand vs India',\n",
       "   'Runs given': 52,\n",
       "   'Wickets': 0,\n",
       "   'Balls': 48,\n",
       "   'Dissmisals': {},\n",
       "   'Average': 'None',\n",
       "   'Strike Rate': 'None',\n",
       "   'Extras': 0,\n",
       "   'Fours': 7,\n",
       "   'Sixes': 0},\n",
       "  366625: {'Match_date': '14-3-2009',\n",
       "   'Venue': 'Auckland',\n",
       "   'Country': 'New Zealand',\n",
       "   'Match_between': 'New Zealand vs India',\n",
       "   'Runs given': 37,\n",
       "   'Wickets': 2,\n",
       "   'Balls': 50,\n",
       "   'Dissmisals': {'P Kumar': 'caught', 'I Sharma': 'caught'},\n",
       "   'Average': 18.5,\n",
       "   'Strike Rate': 25.0,\n",
       "   'Extras': 12,\n",
       "   'Fours': 4,\n",
       "   'Sixes': 1}},\n",
       " 'GD Elliott': {366624: {'Match_date': '11-3-2009',\n",
       "   'Venue': 'Hamilton',\n",
       "   'Country': 'Canada',\n",
       "   'Match_between': 'New Zealand vs India',\n",
       "   'Runs given': 8,\n",
       "   'Wickets': 0,\n",
       "   'Balls': 13,\n",
       "   'Dissmisals': {},\n",
       "   'Average': 'None',\n",
       "   'Strike Rate': 'None',\n",
       "   'Extras': 2,\n",
       "   'Fours': 1,\n",
       "   'Sixes': 0},\n",
       "  403382: {'Match_date': '11-9-2009',\n",
       "   'Venue': 'Colombo',\n",
       "   'Country': 'Sri Lanka',\n",
       "   'Match_between': 'India vs New Zealand',\n",
       "   'Runs given': 9,\n",
       "   'Wickets': 0,\n",
       "   'Balls': 12,\n",
       "   'Dissmisals': {},\n",
       "   'Average': 'None',\n",
       "   'Strike Rate': 'None',\n",
       "   'Extras': 0,\n",
       "   'Fours': 1,\n",
       "   'Sixes': 0},\n",
       "  366627: {'Match_date': '8-3-2009',\n",
       "   'Venue': 'Christchurch',\n",
       "   'Country': 'New Zealand',\n",
       "   'Match_between': 'New Zealand vs India',\n",
       "   'Runs given': 59,\n",
       "   'Wickets': 1,\n",
       "   'Balls': 43,\n",
       "   'Dissmisals': {'Yuvraj Singh': 'caught'},\n",
       "   'Average': 59.0,\n",
       "   'Strike Rate': 43.0,\n",
       "   'Extras': 1,\n",
       "   'Fours': 2,\n",
       "   'Sixes': 4},\n",
       "  366623: {'Match_date': '3-3-2009',\n",
       "   'Venue': 'Napier',\n",
       "   'Country': 'New Zealand',\n",
       "   'Match_between': 'New Zealand vs India',\n",
       "   'Runs given': 20,\n",
       "   'Wickets': 1,\n",
       "   'Balls': 12,\n",
       "   'Dissmisals': {'SK Raina': 'caught'},\n",
       "   'Average': 20.0,\n",
       "   'Strike Rate': 12.0,\n",
       "   'Extras': 1,\n",
       "   'Fours': 2,\n",
       "   'Sixes': 1},\n",
       "  467883: {'Match_date': '28-11-2010',\n",
       "   'Venue': 'Guwahati',\n",
       "   'Country': 'India',\n",
       "   'Match_between': 'India vs New Zealand',\n",
       "   'Runs given': 24,\n",
       "   'Wickets': 0,\n",
       "   'Balls': 30,\n",
       "   'Dissmisals': {},\n",
       "   'Average': 'None',\n",
       "   'Strike Rate': 'None',\n",
       "   'Extras': 0,\n",
       "   'Fours': 2,\n",
       "   'Sixes': 0},\n",
       "  467887: {'Match_date': '10-12-2010',\n",
       "   'Venue': 'Chennai',\n",
       "   'Country': 'India',\n",
       "   'Match_between': 'India vs New Zealand',\n",
       "   'Runs given': 27,\n",
       "   'Wickets': 0,\n",
       "   'Balls': 25,\n",
       "   'Dissmisals': {},\n",
       "   'Average': 'None',\n",
       "   'Strike Rate': 'None',\n",
       "   'Extras': 0,\n",
       "   'Fours': 4,\n",
       "   'Sixes': 1}},\n",
       " 'DR Tuffey': {66364: {'Match_date': '23-10-2003',\n",
       "   'Venue': 'Chennai',\n",
       "   'Country': 'India',\n",
       "   'Match_between': 'India vs New Zealand',\n",
       "   'Runs given': 26,\n",
       "   'Wickets': 0,\n",
       "   'Balls': 24,\n",
       "   'Dissmisals': {},\n",
       "   'Average': 'None',\n",
       "   'Strike Rate': 'None',\n",
       "   'Extras': 0,\n",
       "   'Fours': 4,\n",
       "   'Sixes': 1},\n",
       "  66369: {'Match_date': '6-11-2003',\n",
       "   'Venue': 'Cuttack',\n",
       "   'Country': 'India',\n",
       "   'Match_between': 'India vs New Zealand',\n",
       "   'Runs given': 31,\n",
       "   'Wickets': 3,\n",
       "   'Balls': 60,\n",
       "   'Dissmisals': {'HK Badani': 'caught',\n",
       "    'AB Agarkar': 'caught',\n",
       "    'Harbhajan Singh': 'bowled'},\n",
       "   'Average': 10.333333333333334,\n",
       "   'Strike Rate': 20.0,\n",
       "   'Extras': 4,\n",
       "   'Fours': 2,\n",
       "   'Sixes': 0},\n",
       "  467883: {'Match_date': '28-11-2010',\n",
       "   'Venue': 'Guwahati',\n",
       "   'Country': 'India',\n",
       "   'Match_between': 'India vs New Zealand',\n",
       "   'Runs given': 53,\n",
       "   'Wickets': 2,\n",
       "   'Balls': 51,\n",
       "   'Dissmisals': {'M Vijay': 'caught', 'Yuvraj Singh': 'caught'},\n",
       "   'Average': 26.5,\n",
       "   'Strike Rate': 25.5,\n",
       "   'Extras': 3,\n",
       "   'Fours': 8,\n",
       "   'Sixes': 0},\n",
       "  66372: {'Match_date': '15-11-2003',\n",
       "   'Venue': 'Hyderabad',\n",
       "   'Country': 'India',\n",
       "   'Match_between': 'India vs New Zealand',\n",
       "   'Runs given': 65,\n",
       "   'Wickets': 1,\n",
       "   'Balls': 58,\n",
       "   'Dissmisals': {'VVS Laxman': 'bowled'},\n",
       "   'Average': 65.0,\n",
       "   'Strike Rate': 58.0,\n",
       "   'Extras': 10,\n",
       "   'Fours': 11,\n",
       "   'Sixes': 1},\n",
       "  456662: {'Match_date': '10-8-2010',\n",
       "   'Venue': 'Rangiri Dambulla International Stadium',\n",
       "   'Country': 'None',\n",
       "   'Match_between': 'India vs New Zealand',\n",
       "   'Runs given': 29,\n",
       "   'Wickets': 3,\n",
       "   'Balls': 49,\n",
       "   'Dissmisals': {'KD Karthik': 'lbw',\n",
       "    'RG Sharma': 'caught',\n",
       "    'SK Raina': 'caught',\n",
       "    'MS Dhoni': 'run out'},\n",
       "   'Average': 9.666666666666666,\n",
       "   'Strike Rate': 16.333333333333332,\n",
       "   'Extras': 5,\n",
       "   'Fours': 3,\n",
       "   'Sixes': 0}},\n",
       " 'CL Cairns': {66364: {'Match_date': '23-10-2003',\n",
       "   'Venue': 'Chennai',\n",
       "   'Country': 'India',\n",
       "   'Match_between': 'India vs New Zealand',\n",
       "   'Runs given': 16,\n",
       "   'Wickets': 1,\n",
       "   'Balls': 18,\n",
       "   'Dissmisals': {'V Sehwag': 'bowled'},\n",
       "   'Average': 16.0,\n",
       "   'Strike Rate': 18.0,\n",
       "   'Extras': 0,\n",
       "   'Fours': 3,\n",
       "   'Sixes': 0},\n",
       "  66372: {'Match_date': '15-11-2003',\n",
       "   'Venue': 'Hyderabad',\n",
       "   'Country': 'India',\n",
       "   'Match_between': 'India vs New Zealand',\n",
       "   'Runs given': 46,\n",
       "   'Wickets': 0,\n",
       "   'Balls': 43,\n",
       "   'Dissmisals': {},\n",
       "   'Average': 'None',\n",
       "   'Strike Rate': 'None',\n",
       "   'Extras': 1,\n",
       "   'Fours': 5,\n",
       "   'Sixes': 0}},\n",
       " 'PA Hitchcock': {66364: {'Match_date': '23-10-2003',\n",
       "   'Venue': 'Chennai',\n",
       "   'Country': 'India',\n",
       "   'Match_between': 'India vs New Zealand',\n",
       "   'Runs given': 16,\n",
       "   'Wickets': 0,\n",
       "   'Balls': 19,\n",
       "   'Dissmisals': {},\n",
       "   'Average': 'None',\n",
       "   'Strike Rate': 'None',\n",
       "   'Extras': 1,\n",
       "   'Fours': 3,\n",
       "   'Sixes': 0}},\n",
       " 'CZ Harris': {66364: {'Match_date': '23-10-2003',\n",
       "   'Venue': 'Chennai',\n",
       "   'Country': 'India',\n",
       "   'Match_between': 'India vs New Zealand',\n",
       "   'Runs given': 10,\n",
       "   'Wickets': 0,\n",
       "   'Balls': 18,\n",
       "   'Dissmisals': {},\n",
       "   'Average': 'None',\n",
       "   'Strike Rate': 'None',\n",
       "   'Extras': 1,\n",
       "   'Fours': 0,\n",
       "   'Sixes': 0},\n",
       "  66369: {'Match_date': '6-11-2003',\n",
       "   'Venue': 'Cuttack',\n",
       "   'Country': 'India',\n",
       "   'Match_between': 'India vs New Zealand',\n",
       "   'Runs given': 13,\n",
       "   'Wickets': 0,\n",
       "   'Balls': 12,\n",
       "   'Dissmisals': {},\n",
       "   'Average': 'None',\n",
       "   'Strike Rate': 'None',\n",
       "   'Extras': 0,\n",
       "   'Fours': 1,\n",
       "   'Sixes': 0},\n",
       "  66372: {'Match_date': '15-11-2003',\n",
       "   'Venue': 'Hyderabad',\n",
       "   'Country': 'India',\n",
       "   'Match_between': 'India vs New Zealand',\n",
       "   'Runs given': 29,\n",
       "   'Wickets': 1,\n",
       "   'Balls': 30,\n",
       "   'Dissmisals': {'SR Tendulkar': 'caught'},\n",
       "   'Average': 29.0,\n",
       "   'Strike Rate': 30.0,\n",
       "   'Extras': 0,\n",
       "   'Fours': 2,\n",
       "   'Sixes': 0}},\n",
       " 'MJ Henry': {1153695: {'Match_date': '3-2-2019',\n",
       "   'Venue': 'Wellington',\n",
       "   'Country': 'New Zealand',\n",
       "   'Match_between': 'New Zealand vs India',\n",
       "   'Runs given': 34,\n",
       "   'Wickets': 4,\n",
       "   'Balls': 61,\n",
       "   'Dissmisals': {'RG Sharma': 'bowled',\n",
       "    'Shubman Gill': 'caught',\n",
       "    'AT Rayudu': 'caught',\n",
       "    'KM Jadhav': 'bowled'},\n",
       "   'Average': 8.5,\n",
       "   'Strike Rate': 15.25,\n",
       "   'Extras': 2,\n",
       "   'Fours': 5,\n",
       "   'Sixes': 0},\n",
       "  1030221: {'Match_date': '20-10-2016',\n",
       "   'Venue': 'Delhi',\n",
       "   'Country': 'India',\n",
       "   'Match_between': 'India vs New Zealand',\n",
       "   'Runs given': 51,\n",
       "   'Wickets': 1,\n",
       "   'Balls': 60,\n",
       "   'Dissmisals': {'KM Jadhav': 'caught'},\n",
       "   'Average': 51.0,\n",
       "   'Strike Rate': 60.0,\n",
       "   'Extras': 0,\n",
       "   'Fours': 5,\n",
       "   'Sixes': 1},\n",
       "  1153694: {'Match_date': '31-1-2019',\n",
       "   'Venue': 'Hamilton',\n",
       "   'Country': 'Canada',\n",
       "   'Match_between': 'New Zealand vs India',\n",
       "   'Runs given': 30,\n",
       "   'Wickets': 0,\n",
       "   'Balls': 48,\n",
       "   'Dissmisals': {},\n",
       "   'Average': 'None',\n",
       "   'Strike Rate': 'None',\n",
       "   'Extras': 0,\n",
       "   'Fours': 3,\n",
       "   'Sixes': 1},\n",
       "  1030223: {'Match_date': '23-10-2016',\n",
       "   'Venue': 'Chandigarh',\n",
       "   'Country': 'India',\n",
       "   'Match_between': 'India vs New Zealand',\n",
       "   'Runs given': 55,\n",
       "   'Wickets': 2,\n",
       "   'Balls': 57,\n",
       "   'Dissmisals': {'AM Rahane': 'caught', 'MS Dhoni': 'caught'},\n",
       "   'Average': 27.5,\n",
       "   'Strike Rate': 28.5,\n",
       "   'Extras': 1,\n",
       "   'Fours': 8,\n",
       "   'Sixes': 0},\n",
       "  667649: {'Match_date': '31-1-2014',\n",
       "   'Venue': 'Wellington',\n",
       "   'Country': 'New Zealand',\n",
       "   'Match_between': 'New Zealand vs India',\n",
       "   'Runs given': 36,\n",
       "   'Wickets': 4,\n",
       "   'Balls': 62,\n",
       "   'Dissmisals': {'S Dhawan': 'caught',\n",
       "    'AM Rahane': 'lbw',\n",
       "    'AT Rayudu': 'caught',\n",
       "    'B Kumar': 'caught'},\n",
       "   'Average': 9.0,\n",
       "   'Strike Rate': 15.5,\n",
       "   'Extras': 2,\n",
       "   'Fours': 3,\n",
       "   'Sixes': 0},\n",
       "  1144528: {'Match_date': '9-7-2019',\n",
       "   'Venue': 'Manchester',\n",
       "   'Country': 'United Kingdom',\n",
       "   'Match_between': 'India vs New Zealand',\n",
       "   'Runs given': 34,\n",
       "   'Wickets': 3,\n",
       "   'Balls': 63,\n",
       "   'Dissmisals': {'RG Sharma': 'caught',\n",
       "    'KL Rahul': 'caught',\n",
       "    'KD Karthik': 'caught'},\n",
       "   'Average': 11.333333333333334,\n",
       "   'Strike Rate': 21.0,\n",
       "   'Extras': 5,\n",
       "   'Fours': 5,\n",
       "   'Sixes': 0}},\n",
       " 'TA Boult': {1153695: {'Match_date': '3-2-2019',\n",
       "   'Venue': 'Wellington',\n",
       "   'Country': 'New Zealand',\n",
       "   'Match_between': 'New Zealand vs India',\n",
       "   'Runs given': 37,\n",
       "   'Wickets': 3,\n",
       "   'Balls': 61,\n",
       "   'Dissmisals': {'S Dhawan': 'caught',\n",
       "    'MS Dhoni': 'bowled',\n",
       "    'B Kumar': 'caught',\n",
       "    'Mohammed Shami': 'run out'},\n",
       "   'Average': 12.333333333333334,\n",
       "   'Strike Rate': 20.333333333333332,\n",
       "   'Extras': 6,\n",
       "   'Fours': 3,\n",
       "   'Sixes': 1},\n",
       "  1120090: {'Match_date': '22-10-2017',\n",
       "   'Venue': 'Mumbai',\n",
       "   'Country': 'India',\n",
       "   'Match_between': 'India vs New Zealand',\n",
       "   'Runs given': 33,\n",
       "   'Wickets': 4,\n",
       "   'Balls': 62,\n",
       "   'Dissmisals': {'S Dhawan': 'caught',\n",
       "    'RG Sharma': 'bowled',\n",
       "    'MS Dhoni': 'caught',\n",
       "    'HH Pandya': 'caught'},\n",
       "   'Average': 8.25,\n",
       "   'Strike Rate': 15.5,\n",
       "   'Extras': 2,\n",
       "   'Fours': 2,\n",
       "   'Sixes': 0},\n",
       "  1153691: {'Match_date': '23-1-2019',\n",
       "   'Venue': 'Napier',\n",
       "   'Country': 'New Zealand',\n",
       "   'Match_between': 'New Zealand vs India',\n",
       "   'Runs given': 19,\n",
       "   'Wickets': 0,\n",
       "   'Balls': 36,\n",
       "   'Dissmisals': {},\n",
       "   'Average': 'None',\n",
       "   'Strike Rate': 'None',\n",
       "   'Extras': 1,\n",
       "   'Fours': 1,\n",
       "   'Sixes': 0},\n",
       "  1120091: {'Match_date': '25-10-2017',\n",
       "   'Venue': 'Pune',\n",
       "   'Country': 'India',\n",
       "   'Match_between': 'New Zealand vs India',\n",
       "   'Runs given': 51,\n",
       "   'Wickets': 0,\n",
       "   'Balls': 63,\n",
       "   'Dissmisals': {},\n",
       "   'Average': 'None',\n",
       "   'Strike Rate': 'None',\n",
       "   'Extras': 7,\n",
       "   'Fours': 6,\n",
       "   'Sixes': 1},\n",
       "  1030221: {'Match_date': '20-10-2016',\n",
       "   'Venue': 'Delhi',\n",
       "   'Country': 'India',\n",
       "   'Match_between': 'India vs New Zealand',\n",
       "   'Runs given': 25,\n",
       "   'Wickets': 2,\n",
       "   'Balls': 60,\n",
       "   'Dissmisals': {'RG Sharma': 'caught', 'HH Pandya': 'caught'},\n",
       "   'Average': 12.5,\n",
       "   'Strike Rate': 30.0,\n",
       "   'Extras': 4,\n",
       "   'Fours': 2,\n",
       "   'Sixes': 0},\n",
       "  1030227: {'Match_date': '29-10-2016',\n",
       "   'Venue': 'Visakhapatnam',\n",
       "   'Country': 'India',\n",
       "   'Match_between': 'India vs New Zealand',\n",
       "   'Runs given': 47,\n",
       "   'Wickets': 2,\n",
       "   'Balls': 61,\n",
       "   'Dissmisals': {'RG Sharma': 'caught', 'AR Patel': 'bowled'},\n",
       "   'Average': 23.5,\n",
       "   'Strike Rate': 30.5,\n",
       "   'Extras': 6,\n",
       "   'Fours': 2,\n",
       "   'Sixes': 1},\n",
       "  1153694: {'Match_date': '31-1-2019',\n",
       "   'Venue': 'Hamilton',\n",
       "   'Country': 'Canada',\n",
       "   'Match_between': 'New Zealand vs India',\n",
       "   'Runs given': 19,\n",
       "   'Wickets': 5,\n",
       "   'Balls': 62,\n",
       "   'Dissmisals': {'S Dhawan': 'lbw',\n",
       "    'RG Sharma': 'caught and bowled',\n",
       "    'Shubman Gill': 'caught and bowled',\n",
       "    'KM Jadhav': 'lbw',\n",
       "    'HH Pandya': 'caught'},\n",
       "   'Average': 3.8,\n",
       "   'Strike Rate': 12.4,\n",
       "   'Extras': 3,\n",
       "   'Fours': 3,\n",
       "   'Sixes': 0},\n",
       "  1030223: {'Match_date': '23-10-2016',\n",
       "   'Venue': 'Chandigarh',\n",
       "   'Country': 'India',\n",
       "   'Match_between': 'India vs New Zealand',\n",
       "   'Runs given': 71,\n",
       "   'Wickets': 0,\n",
       "   'Balls': 62,\n",
       "   'Dissmisals': {},\n",
       "   'Average': 'None',\n",
       "   'Strike Rate': 'None',\n",
       "   'Extras': 3,\n",
       "   'Fours': 9,\n",
       "   'Sixes': 1},\n",
       "  1153693: {'Match_date': '28-1-2019',\n",
       "   'Venue': 'Mount Maunganui',\n",
       "   'Country': 'New Zealand',\n",
       "   'Match_between': 'New Zealand vs India',\n",
       "   'Runs given': 40,\n",
       "   'Wickets': 2,\n",
       "   'Balls': 60,\n",
       "   'Dissmisals': {'S Dhawan': 'caught', 'V Kohli': 'caught'},\n",
       "   'Average': 20.0,\n",
       "   'Strike Rate': 30.0,\n",
       "   'Extras': 0,\n",
       "   'Fours': 5,\n",
       "   'Sixes': 0},\n",
       "  1030225: {'Match_date': '26-10-2016',\n",
       "   'Venue': 'Ranchi',\n",
       "   'Country': 'India',\n",
       "   'Match_between': 'India vs New Zealand',\n",
       "   'Runs given': 45,\n",
       "   'Wickets': 2,\n",
       "   'Balls': 60,\n",
       "   'Dissmisals': {'A Mishra': 'run out',\n",
       "    'AR Patel': 'bowled',\n",
       "    'UT Yadav': 'caught'},\n",
       "   'Average': 22.5,\n",
       "   'Strike Rate': 30.0,\n",
       "   'Extras': 4,\n",
       "   'Fours': 5,\n",
       "   'Sixes': 1},\n",
       "  1120092: {'Match_date': '29-10-2017',\n",
       "   'Venue': 'Kanpur',\n",
       "   'Country': 'India',\n",
       "   'Match_between': 'India vs New Zealand',\n",
       "   'Runs given': 78,\n",
       "   'Wickets': 0,\n",
       "   'Balls': 63,\n",
       "   'Dissmisals': {},\n",
       "   'Average': 'None',\n",
       "   'Strike Rate': 'None',\n",
       "   'Extras': 3,\n",
       "   'Fours': 12,\n",
       "   'Sixes': 0},\n",
       "  1153692: {'Match_date': '26-1-2019',\n",
       "   'Venue': 'Mount Maunganui',\n",
       "   'Country': 'New Zealand',\n",
       "   'Match_between': 'New Zealand vs India',\n",
       "   'Runs given': 57,\n",
       "   'Wickets': 2,\n",
       "   'Balls': 64,\n",
       "   'Dissmisals': {'S Dhawan': 'caught', 'V Kohli': 'caught'},\n",
       "   'Average': 28.5,\n",
       "   'Strike Rate': 32.0,\n",
       "   'Extras': 4,\n",
       "   'Fours': 9,\n",
       "   'Sixes': 1},\n",
       "  1144528: {'Match_date': '9-7-2019',\n",
       "   'Venue': 'Manchester',\n",
       "   'Country': 'United Kingdom',\n",
       "   'Match_between': 'India vs New Zealand',\n",
       "   'Runs given': 39,\n",
       "   'Wickets': 2,\n",
       "   'Balls': 63,\n",
       "   'Dissmisals': {'V Kohli': 'lbw', 'RA Jadeja': 'caught'},\n",
       "   'Average': 19.5,\n",
       "   'Strike Rate': 31.5,\n",
       "   'Extras': 3,\n",
       "   'Fours': 4,\n",
       "   'Sixes': 0}},\n",
       " 'JDS Neesham': {1153695: {'Match_date': '3-2-2019',\n",
       "   'Venue': 'Wellington',\n",
       "   'Country': 'New Zealand',\n",
       "   'Match_between': 'New Zealand vs India',\n",
       "   'Runs given': 33,\n",
       "   'Wickets': 1,\n",
       "   'Balls': 30,\n",
       "   'Dissmisals': {'HH Pandya': 'caught'},\n",
       "   'Average': 33.0,\n",
       "   'Strike Rate': 30.0,\n",
       "   'Extras': 4,\n",
       "   'Fours': 4,\n",
       "   'Sixes': 1},\n",
       "  1187682: {'Match_date': '5-2-2020',\n",
       "   'Venue': 'Hamilton',\n",
       "   'Country': 'Canada',\n",
       "   'Match_between': 'New Zealand vs India',\n",
       "   'Runs given': 48,\n",
       "   'Wickets': 0,\n",
       "   'Balls': 52,\n",
       "   'Dissmisals': {},\n",
       "   'Average': 'None',\n",
       "   'Strike Rate': 'None',\n",
       "   'Extras': 8,\n",
       "   'Fours': 3,\n",
       "   'Sixes': 2},\n",
       "  1187684: {'Match_date': '11-2-2020',\n",
       "   'Venue': 'Mount Maunganui',\n",
       "   'Country': 'New Zealand',\n",
       "   'Match_between': 'New Zealand vs India',\n",
       "   'Runs given': 50,\n",
       "   'Wickets': 1,\n",
       "   'Balls': 48,\n",
       "   'Dissmisals': {'SS Iyer': 'caught'},\n",
       "   'Average': 50.0,\n",
       "   'Strike Rate': 48.0,\n",
       "   'Extras': 0,\n",
       "   'Fours': 7,\n",
       "   'Sixes': 0},\n",
       "  1030227: {'Match_date': '29-10-2016',\n",
       "   'Venue': 'Visakhapatnam',\n",
       "   'Country': 'India',\n",
       "   'Match_between': 'India vs New Zealand',\n",
       "   'Runs given': 29,\n",
       "   'Wickets': 1,\n",
       "   'Balls': 37,\n",
       "   'Dissmisals': {'AM Rahane': 'caught'},\n",
       "   'Average': 29.0,\n",
       "   'Strike Rate': 37.0,\n",
       "   'Extras': 2,\n",
       "   'Fours': 2,\n",
       "   'Sixes': 1},\n",
       "  1153694: {'Match_date': '31-1-2019',\n",
       "   'Venue': 'Hamilton',\n",
       "   'Country': 'Canada',\n",
       "   'Match_between': 'New Zealand vs India',\n",
       "   'Runs given': 5,\n",
       "   'Wickets': 1,\n",
       "   'Balls': 5,\n",
       "   'Dissmisals': {'KK Ahmed': 'bowled'},\n",
       "   'Average': 5.0,\n",
       "   'Strike Rate': 5.0,\n",
       "   'Extras': 0,\n",
       "   'Fours': 1,\n",
       "   'Sixes': 0},\n",
       "  1030223: {'Match_date': '23-10-2016',\n",
       "   'Venue': 'Chandigarh',\n",
       "   'Country': 'India',\n",
       "   'Match_between': 'India vs New Zealand',\n",
       "   'Runs given': 58,\n",
       "   'Wickets': 0,\n",
       "   'Balls': 56,\n",
       "   'Dissmisals': {},\n",
       "   'Average': 'None',\n",
       "   'Strike Rate': 'None',\n",
       "   'Extras': 2,\n",
       "   'Fours': 6,\n",
       "   'Sixes': 1},\n",
       "  667647: {'Match_date': '28-1-2014',\n",
       "   'Venue': 'Hamilton',\n",
       "   'Country': 'Canada',\n",
       "   'Match_between': 'New Zealand vs India',\n",
       "   'Runs given': 58,\n",
       "   'Wickets': 0,\n",
       "   'Balls': 49,\n",
       "   'Dissmisals': {},\n",
       "   'Average': 'None',\n",
       "   'Strike Rate': 'None',\n",
       "   'Extras': 4,\n",
       "   'Fours': 5,\n",
       "   'Sixes': 3},\n",
       "  667649: {'Match_date': '31-1-2014',\n",
       "   'Venue': 'Wellington',\n",
       "   'Country': 'New Zealand',\n",
       "   'Match_between': 'New Zealand vs India',\n",
       "   'Runs given': 45,\n",
       "   'Wickets': 1,\n",
       "   'Balls': 34,\n",
       "   'Dissmisals': {'VR Aaron': 'bowled'},\n",
       "   'Average': 45.0,\n",
       "   'Strike Rate': 34.0,\n",
       "   'Extras': 0,\n",
       "   'Fours': 5,\n",
       "   'Sixes': 2},\n",
       "  1030225: {'Match_date': '26-10-2016',\n",
       "   'Venue': 'Ranchi',\n",
       "   'Country': 'India',\n",
       "   'Match_between': 'India vs New Zealand',\n",
       "   'Runs given': 36,\n",
       "   'Wickets': 2,\n",
       "   'Balls': 38,\n",
       "   'Dissmisals': {'AM Rahane': 'lbw', 'MS Dhoni': 'bowled'},\n",
       "   'Average': 18.0,\n",
       "   'Strike Rate': 19.0,\n",
       "   'Extras': 2,\n",
       "   'Fours': 4,\n",
       "   'Sixes': 1},\n",
       "  1030219: {'Match_date': '16-10-2016',\n",
       "   'Venue': 'Dharmasala',\n",
       "   'Country': 'India',\n",
       "   'Match_between': 'India vs New Zealand',\n",
       "   'Runs given': 30,\n",
       "   'Wickets': 1,\n",
       "   'Balls': 42,\n",
       "   'Dissmisals': {'AM Rahane': 'caught'},\n",
       "   'Average': 30.0,\n",
       "   'Strike Rate': 42.0,\n",
       "   'Extras': 11,\n",
       "   'Fours': 4,\n",
       "   'Sixes': 1},\n",
       "  1187683: {'Match_date': '8-2-2020',\n",
       "   'Venue': 'Auckland',\n",
       "   'Country': 'New Zealand',\n",
       "   'Match_between': 'New Zealand vs India',\n",
       "   'Runs given': 46,\n",
       "   'Wickets': 1,\n",
       "   'Balls': 59,\n",
       "   'Dissmisals': {'RA Jadeja': 'caught'},\n",
       "   'Average': 46.0,\n",
       "   'Strike Rate': 59.0,\n",
       "   'Extras': 9,\n",
       "   'Fours': 5,\n",
       "   'Sixes': 1},\n",
       "  1144528: {'Match_date': '9-7-2019',\n",
       "   'Venue': 'Manchester',\n",
       "   'Country': 'United Kingdom',\n",
       "   'Match_between': 'India vs New Zealand',\n",
       "   'Runs given': 46,\n",
       "   'Wickets': 1,\n",
       "   'Balls': 48,\n",
       "   'Dissmisals': {'YS Chahal': 'caught'},\n",
       "   'Average': 46.0,\n",
       "   'Strike Rate': 48.0,\n",
       "   'Extras': 3,\n",
       "   'Fours': 3,\n",
       "   'Sixes': 1}},\n",
       " 'C de Grandhomme': {1153695: {'Match_date': '3-2-2019',\n",
       "   'Venue': 'Wellington',\n",
       "   'Country': 'New Zealand',\n",
       "   'Match_between': 'New Zealand vs India',\n",
       "   'Runs given': 33,\n",
       "   'Wickets': 0,\n",
       "   'Balls': 42,\n",
       "   'Dissmisals': {},\n",
       "   'Average': 'None',\n",
       "   'Strike Rate': 'None',\n",
       "   'Extras': 3,\n",
       "   'Fours': 4,\n",
       "   'Sixes': 1},\n",
       "  1187682: {'Match_date': '5-2-2020',\n",
       "   'Venue': 'Hamilton',\n",
       "   'Country': 'Canada',\n",
       "   'Match_between': 'New Zealand vs India',\n",
       "   'Runs given': 38,\n",
       "   'Wickets': 1,\n",
       "   'Balls': 51,\n",
       "   'Dissmisals': {'PP Shaw': 'caught'},\n",
       "   'Average': 38.0,\n",
       "   'Strike Rate': 51.0,\n",
       "   'Extras': 3,\n",
       "   'Fours': 5,\n",
       "   'Sixes': 0},\n",
       "  1120090: {'Match_date': '22-10-2017',\n",
       "   'Venue': 'Mumbai',\n",
       "   'Country': 'India',\n",
       "   'Match_between': 'India vs New Zealand',\n",
       "   'Runs given': 26,\n",
       "   'Wickets': 0,\n",
       "   'Balls': 25,\n",
       "   'Dissmisals': {},\n",
       "   'Average': 'None',\n",
       "   'Strike Rate': 'None',\n",
       "   'Extras': 1,\n",
       "   'Fours': 3,\n",
       "   'Sixes': 0},\n",
       "  1187684: {'Match_date': '11-2-2020',\n",
       "   'Venue': 'Mount Maunganui',\n",
       "   'Country': 'New Zealand',\n",
       "   'Match_between': 'New Zealand vs India',\n",
       "   'Runs given': 10,\n",
       "   'Wickets': 0,\n",
       "   'Balls': 18,\n",
       "   'Dissmisals': {},\n",
       "   'Average': 'None',\n",
       "   'Strike Rate': 'None',\n",
       "   'Extras': 0,\n",
       "   'Fours': 1,\n",
       "   'Sixes': 0},\n",
       "  1120091: {'Match_date': '25-10-2017',\n",
       "   'Venue': 'Pune',\n",
       "   'Country': 'India',\n",
       "   'Match_between': 'New Zealand vs India',\n",
       "   'Runs given': 39,\n",
       "   'Wickets': 1,\n",
       "   'Balls': 43,\n",
       "   'Dissmisals': {'V Kohli': 'caught'},\n",
       "   'Average': 39.0,\n",
       "   'Strike Rate': 43.0,\n",
       "   'Extras': 1,\n",
       "   'Fours': 4,\n",
       "   'Sixes': 0},\n",
       "  1153694: {'Match_date': '31-1-2019',\n",
       "   'Venue': 'Hamilton',\n",
       "   'Country': 'Canada',\n",
       "   'Match_between': 'New Zealand vs India',\n",
       "   'Runs given': 23,\n",
       "   'Wickets': 3,\n",
       "   'Balls': 63,\n",
       "   'Dissmisals': {'AT Rayudu': 'caught',\n",
       "    'KD Karthik': 'caught',\n",
       "    'B Kumar': 'bowled'},\n",
       "   'Average': 7.666666666666667,\n",
       "   'Strike Rate': 21.0,\n",
       "   'Extras': 3,\n",
       "   'Fours': 3,\n",
       "   'Sixes': 0},\n",
       "  1120092: {'Match_date': '29-10-2017',\n",
       "   'Venue': 'Kanpur',\n",
       "   'Country': 'India',\n",
       "   'Match_between': 'India vs New Zealand',\n",
       "   'Runs given': 57,\n",
       "   'Wickets': 0,\n",
       "   'Balls': 48,\n",
       "   'Dissmisals': {},\n",
       "   'Average': 'None',\n",
       "   'Strike Rate': 'None',\n",
       "   'Extras': 0,\n",
       "   'Fours': 7,\n",
       "   'Sixes': 0},\n",
       "  1153692: {'Match_date': '26-1-2019',\n",
       "   'Venue': 'Mount Maunganui',\n",
       "   'Country': 'New Zealand',\n",
       "   'Match_between': 'New Zealand vs India',\n",
       "   'Runs given': 60,\n",
       "   'Wickets': 0,\n",
       "   'Balls': 50,\n",
       "   'Dissmisals': {},\n",
       "   'Average': 'None',\n",
       "   'Strike Rate': 'None',\n",
       "   'Extras': 2,\n",
       "   'Fours': 4,\n",
       "   'Sixes': 1},\n",
       "  1187683: {'Match_date': '8-2-2020',\n",
       "   'Venue': 'Auckland',\n",
       "   'Country': 'New Zealand',\n",
       "   'Match_between': 'New Zealand vs India',\n",
       "   'Runs given': 52,\n",
       "   'Wickets': 2,\n",
       "   'Balls': 62,\n",
       "   'Dissmisals': {'KL Rahul': 'bowled', 'SN Thakur': 'bowled'},\n",
       "   'Average': 26.0,\n",
       "   'Strike Rate': 31.0,\n",
       "   'Extras': 3,\n",
       "   'Fours': 6,\n",
       "   'Sixes': 1},\n",
       "  1144528: {'Match_date': '9-7-2019',\n",
       "   'Venue': 'Manchester',\n",
       "   'Country': 'United Kingdom',\n",
       "   'Match_between': 'India vs New Zealand',\n",
       "   'Runs given': 12,\n",
       "   'Wickets': 0,\n",
       "   'Balls': 13,\n",
       "   'Dissmisals': {},\n",
       "   'Average': 'None',\n",
       "   'Strike Rate': 'None',\n",
       "   'Extras': 1,\n",
       "   'Fours': 0,\n",
       "   'Sixes': 0}},\n",
       " 'C Munro': {1153695: {'Match_date': '3-2-2019',\n",
       "   'Venue': 'Wellington',\n",
       "   'Country': 'New Zealand',\n",
       "   'Match_between': 'New Zealand vs India',\n",
       "   'Runs given': 47,\n",
       "   'Wickets': 0,\n",
       "   'Balls': 60,\n",
       "   'Dissmisals': {'V Shankar': 'run out'},\n",
       "   'Average': 'None',\n",
       "   'Strike Rate': 'None',\n",
       "   'Extras': 0,\n",
       "   'Fours': 1,\n",
       "   'Sixes': 3},\n",
       "  1120090: {'Match_date': '22-10-2017',\n",
       "   'Venue': 'Mumbai',\n",
       "   'Country': 'India',\n",
       "   'Match_between': 'India vs New Zealand',\n",
       "   'Runs given': 37,\n",
       "   'Wickets': 0,\n",
       "   'Balls': 43,\n",
       "   'Dissmisals': {},\n",
       "   'Average': 'None',\n",
       "   'Strike Rate': 'None',\n",
       "   'Extras': 1,\n",
       "   'Fours': 3,\n",
       "   'Sixes': 0},\n",
       "  1120091: {'Match_date': '25-10-2017',\n",
       "   'Venue': 'Pune',\n",
       "   'Country': 'India',\n",
       "   'Match_between': 'New Zealand vs India',\n",
       "   'Runs given': 8,\n",
       "   'Wickets': 0,\n",
       "   'Balls': 14,\n",
       "   'Dissmisals': {},\n",
       "   'Average': 'None',\n",
       "   'Strike Rate': 'None',\n",
       "   'Extras': 4,\n",
       "   'Fours': 0,\n",
       "   'Sixes': 0},\n",
       "  1120092: {'Match_date': '29-10-2017',\n",
       "   'Venue': 'Kanpur',\n",
       "   'Country': 'India',\n",
       "   'Match_between': 'India vs New Zealand',\n",
       "   'Runs given': 9,\n",
       "   'Wickets': 0,\n",
       "   'Balls': 13,\n",
       "   'Dissmisals': {},\n",
       "   'Average': 'None',\n",
       "   'Strike Rate': 'None',\n",
       "   'Extras': 1,\n",
       "   'Fours': 0,\n",
       "   'Sixes': 0},\n",
       "  1153692: {'Match_date': '26-1-2019',\n",
       "   'Venue': 'Mount Maunganui',\n",
       "   'Country': 'New Zealand',\n",
       "   'Match_between': 'New Zealand vs India',\n",
       "   'Runs given': 16,\n",
       "   'Wickets': 0,\n",
       "   'Balls': 13,\n",
       "   'Dissmisals': {},\n",
       "   'Average': 'None',\n",
       "   'Strike Rate': 'None',\n",
       "   'Extras': 1,\n",
       "   'Fours': 2,\n",
       "   'Sixes': 0}},\n",
       " 'MJ Santner': {1153695: {'Match_date': '3-2-2019',\n",
       "   'Venue': 'Wellington',\n",
       "   'Country': 'New Zealand',\n",
       "   'Match_between': 'New Zealand vs India',\n",
       "   'Runs given': 18,\n",
       "   'Wickets': 0,\n",
       "   'Balls': 18,\n",
       "   'Dissmisals': {},\n",
       "   'Average': 'None',\n",
       "   'Strike Rate': 'None',\n",
       "   'Extras': 0,\n",
       "   'Fours': 1,\n",
       "   'Sixes': 0},\n",
       "  1187682: {'Match_date': '5-2-2020',\n",
       "   'Venue': 'Hamilton',\n",
       "   'Country': 'Canada',\n",
       "   'Match_between': 'New Zealand vs India',\n",
       "   'Runs given': 52,\n",
       "   'Wickets': 0,\n",
       "   'Balls': 62,\n",
       "   'Dissmisals': {},\n",
       "   'Average': 'None',\n",
       "   'Strike Rate': 'None',\n",
       "   'Extras': 8,\n",
       "   'Fours': 3,\n",
       "   'Sixes': 0},\n",
       "  1120090: {'Match_date': '22-10-2017',\n",
       "   'Venue': 'Mumbai',\n",
       "   'Country': 'India',\n",
       "   'Match_between': 'India vs New Zealand',\n",
       "   'Runs given': 38,\n",
       "   'Wickets': 1,\n",
       "   'Balls': 63,\n",
       "   'Dissmisals': {'KM Jadhav': 'caught and bowled'},\n",
       "   'Average': 38.0,\n",
       "   'Strike Rate': 63.0,\n",
       "   'Extras': 3,\n",
       "   'Fours': 2,\n",
       "   'Sixes': 1},\n",
       "  1153691: {'Match_date': '23-1-2019',\n",
       "   'Venue': 'Napier',\n",
       "   'Country': 'New Zealand',\n",
       "   'Match_between': 'New Zealand vs India',\n",
       "   'Runs given': 30,\n",
       "   'Wickets': 0,\n",
       "   'Balls': 44,\n",
       "   'Dissmisals': {},\n",
       "   'Average': 'None',\n",
       "   'Strike Rate': 'None',\n",
       "   'Extras': 2,\n",
       "   'Fours': 1,\n",
       "   'Sixes': 0},\n",
       "  1187684: {'Match_date': '11-2-2020',\n",
       "   'Venue': 'Mount Maunganui',\n",
       "   'Country': 'New Zealand',\n",
       "   'Match_between': 'New Zealand vs India',\n",
       "   'Runs given': 58,\n",
       "   'Wickets': 0,\n",
       "   'Balls': 61,\n",
       "   'Dissmisals': {},\n",
       "   'Average': 'None',\n",
       "   'Strike Rate': 'None',\n",
       "   'Extras': 1,\n",
       "   'Fours': 4,\n",
       "   'Sixes': 0},\n",
       "  1120091: {'Match_date': '25-10-2017',\n",
       "   'Venue': 'Pune',\n",
       "   'Country': 'India',\n",
       "   'Match_between': 'New Zealand vs India',\n",
       "   'Runs given': 38,\n",
       "   'Wickets': 1,\n",
       "   'Balls': 60,\n",
       "   'Dissmisals': {'HH Pandya': 'caught'},\n",
       "   'Average': 38.0,\n",
       "   'Strike Rate': 60.0,\n",
       "   'Extras': 1,\n",
       "   'Fours': 0,\n",
       "   'Sixes': 1},\n",
       "  1030221: {'Match_date': '20-10-2016',\n",
       "   'Venue': 'Delhi',\n",
       "   'Country': 'India',\n",
       "   'Match_between': 'India vs New Zealand',\n",
       "   'Runs given': 48,\n",
       "   'Wickets': 1,\n",
       "   'Balls': 61,\n",
       "   'Dissmisals': {'V Kohli': 'caught'},\n",
       "   'Average': 48.0,\n",
       "   'Strike Rate': 61.0,\n",
       "   'Extras': 1,\n",
       "   'Fours': 2,\n",
       "   'Sixes': 3},\n",
       "  1030227: {'Match_date': '29-10-2016',\n",
       "   'Venue': 'Visakhapatnam',\n",
       "   'Country': 'India',\n",
       "   'Match_between': 'India vs New Zealand',\n",
       "   'Runs given': 36,\n",
       "   'Wickets': 1,\n",
       "   'Balls': 60,\n",
       "   'Dissmisals': {'MS Dhoni': 'lbw'},\n",
       "   'Average': 36.0,\n",
       "   'Strike Rate': 60.0,\n",
       "   'Extras': 0,\n",
       "   'Fours': 2,\n",
       "   'Sixes': 0},\n",
       "  1030223: {'Match_date': '23-10-2016',\n",
       "   'Venue': 'Chandigarh',\n",
       "   'Country': 'India',\n",
       "   'Match_between': 'India vs New Zealand',\n",
       "   'Runs given': 43,\n",
       "   'Wickets': 0,\n",
       "   'Balls': 60,\n",
       "   'Dissmisals': {},\n",
       "   'Average': 'None',\n",
       "   'Strike Rate': 'None',\n",
       "   'Extras': 0,\n",
       "   'Fours': 1,\n",
       "   'Sixes': 2},\n",
       "  1153693: {'Match_date': '28-1-2019',\n",
       "   'Venue': 'Mount Maunganui',\n",
       "   'Country': 'New Zealand',\n",
       "   'Match_between': 'New Zealand vs India',\n",
       "   'Runs given': 45,\n",
       "   'Wickets': 1,\n",
       "   'Balls': 60,\n",
       "   'Dissmisals': {'RG Sharma': 'stumped'},\n",
       "   'Average': 45.0,\n",
       "   'Strike Rate': 60.0,\n",
       "   'Extras': 0,\n",
       "   'Fours': 4,\n",
       "   'Sixes': 1},\n",
       "  1030225: {'Match_date': '26-10-2016',\n",
       "   'Venue': 'Ranchi',\n",
       "   'Country': 'India',\n",
       "   'Match_between': 'India vs New Zealand',\n",
       "   'Runs given': 37,\n",
       "   'Wickets': 1,\n",
       "   'Balls': 61,\n",
       "   'Dissmisals': {'HH Pandya': 'caught'},\n",
       "   'Average': 37.0,\n",
       "   'Strike Rate': 61.0,\n",
       "   'Extras': 1,\n",
       "   'Fours': 1,\n",
       "   'Sixes': 1},\n",
       "  1120092: {'Match_date': '29-10-2017',\n",
       "   'Venue': 'Kanpur',\n",
       "   'Country': 'India',\n",
       "   'Match_between': 'India vs New Zealand',\n",
       "   'Runs given': 58,\n",
       "   'Wickets': 2,\n",
       "   'Balls': 60,\n",
       "   'Dissmisals': {'RG Sharma': 'caught', 'HH Pandya': 'caught'},\n",
       "   'Average': 29.0,\n",
       "   'Strike Rate': 30.0,\n",
       "   'Extras': 0,\n",
       "   'Fours': 3,\n",
       "   'Sixes': 2},\n",
       "  1030219: {'Match_date': '16-10-2016',\n",
       "   'Venue': 'Dharmasala',\n",
       "   'Country': 'India',\n",
       "   'Match_between': 'India vs New Zealand',\n",
       "   'Runs given': 18,\n",
       "   'Wickets': 0,\n",
       "   'Balls': 36,\n",
       "   'Dissmisals': {'MS Dhoni': 'run out'},\n",
       "   'Average': 29.0,\n",
       "   'Strike Rate': 30.0,\n",
       "   'Extras': 0,\n",
       "   'Fours': 1,\n",
       "   'Sixes': 0},\n",
       "  1144528: {'Match_date': '9-7-2019',\n",
       "   'Venue': 'Manchester',\n",
       "   'Country': 'United Kingdom',\n",
       "   'Match_between': 'India vs New Zealand',\n",
       "   'Runs given': 33,\n",
       "   'Wickets': 2,\n",
       "   'Balls': 61,\n",
       "   'Dissmisals': {'RR Pant': 'caught', 'HH Pandya': 'caught'},\n",
       "   'Average': 16.5,\n",
       "   'Strike Rate': 30.5,\n",
       "   'Extras': 2,\n",
       "   'Fours': 0,\n",
       "   'Sixes': 2}},\n",
       " 'TD Astle': {1153695: {'Match_date': '3-2-2019',\n",
       "   'Venue': 'Wellington',\n",
       "   'Country': 'New Zealand',\n",
       "   'Match_between': 'New Zealand vs India',\n",
       "   'Runs given': 35,\n",
       "   'Wickets': 0,\n",
       "   'Balls': 30,\n",
       "   'Dissmisals': {},\n",
       "   'Average': 'None',\n",
       "   'Strike Rate': 'None',\n",
       "   'Extras': 0,\n",
       "   'Fours': 1,\n",
       "   'Sixes': 3},\n",
       "  1153694: {'Match_date': '31-1-2019',\n",
       "   'Venue': 'Hamilton',\n",
       "   'Country': 'Canada',\n",
       "   'Match_between': 'New Zealand vs India',\n",
       "   'Runs given': 8,\n",
       "   'Wickets': 1,\n",
       "   'Balls': 13,\n",
       "   'Dissmisals': {'Kuldeep Yadav': 'caught'},\n",
       "   'Average': 8.0,\n",
       "   'Strike Rate': 13.0,\n",
       "   'Extras': 1,\n",
       "   'Fours': 1,\n",
       "   'Sixes': 0}},\n",
       " 'AJ McKay': {467885: {'Match_date': '4-12-2010',\n",
       "   'Venue': 'Vadodara',\n",
       "   'Country': 'India',\n",
       "   'Match_between': 'India vs New Zealand',\n",
       "   'Runs given': 37,\n",
       "   'Wickets': 0,\n",
       "   'Balls': 44,\n",
       "   'Dissmisals': {},\n",
       "   'Average': 'None',\n",
       "   'Strike Rate': 'None',\n",
       "   'Extras': 9,\n",
       "   'Fours': 4,\n",
       "   'Sixes': 1},\n",
       "  456665: {'Match_date': '25-8-2010',\n",
       "   'Venue': 'Rangiri Dambulla International Stadium',\n",
       "   'Country': 'None',\n",
       "   'Match_between': 'India vs New Zealand',\n",
       "   'Runs given': 27,\n",
       "   'Wickets': 1,\n",
       "   'Balls': 52,\n",
       "   'Dissmisals': {'Yuvraj Singh': 'caught'},\n",
       "   'Average': 27.0,\n",
       "   'Strike Rate': 52.0,\n",
       "   'Extras': 4,\n",
       "   'Fours': 4,\n",
       "   'Sixes': 0},\n",
       "  467884: {'Match_date': '1-12-2010',\n",
       "   'Venue': 'Jaipur',\n",
       "   'Country': 'India',\n",
       "   'Match_between': 'India vs New Zealand',\n",
       "   'Runs given': 56,\n",
       "   'Wickets': 1,\n",
       "   'Balls': 44,\n",
       "   'Dissmisals': {'V Kohli': 'caught'},\n",
       "   'Average': 56.0,\n",
       "   'Strike Rate': 44.0,\n",
       "   'Extras': 3,\n",
       "   'Fours': 9,\n",
       "   'Sixes': 0},\n",
       "  467886: {'Match_date': '7-12-2010',\n",
       "   'Venue': 'Bangalore',\n",
       "   'Country': 'India',\n",
       "   'Match_between': 'India vs New Zealand',\n",
       "   'Runs given': 57,\n",
       "   'Wickets': 2,\n",
       "   'Balls': 47,\n",
       "   'Dissmisals': {'G Gambhir': 'caught', 'V Kohli': 'caught'},\n",
       "   'Average': 28.5,\n",
       "   'Strike Rate': 23.5,\n",
       "   'Extras': 10,\n",
       "   'Fours': 9,\n",
       "   'Sixes': 1},\n",
       "  467883: {'Match_date': '28-11-2010',\n",
       "   'Venue': 'Guwahati',\n",
       "   'Country': 'India',\n",
       "   'Match_between': 'India vs New Zealand',\n",
       "   'Runs given': 57,\n",
       "   'Wickets': 4,\n",
       "   'Balls': 65,\n",
       "   'Dissmisals': {'G Gambhir': 'caught',\n",
       "    'V Kohli': 'caught',\n",
       "    'WP Saha': 'caught',\n",
       "    'R Ashwin': 'caught and bowled'},\n",
       "   'Average': 14.25,\n",
       "   'Strike Rate': 16.25,\n",
       "   'Extras': 5,\n",
       "   'Fours': 8,\n",
       "   'Sixes': 1},\n",
       "  456662: {'Match_date': '10-8-2010',\n",
       "   'Venue': 'Rangiri Dambulla International Stadium',\n",
       "   'Country': 'None',\n",
       "   'Match_between': 'India vs New Zealand',\n",
       "   'Runs given': 9,\n",
       "   'Wickets': 1,\n",
       "   'Balls': 38,\n",
       "   'Dissmisals': {'Yuvraj Singh': 'caught'},\n",
       "   'Average': 9.0,\n",
       "   'Strike Rate': 38.0,\n",
       "   'Extras': 2,\n",
       "   'Fours': 1,\n",
       "   'Sixes': 0}},\n",
       " 'JEC Franklin': {467885: {'Match_date': '4-12-2010',\n",
       "   'Venue': 'Vadodara',\n",
       "   'Country': 'India',\n",
       "   'Match_between': 'India vs New Zealand',\n",
       "   'Runs given': 34,\n",
       "   'Wickets': 0,\n",
       "   'Balls': 24,\n",
       "   'Dissmisals': {},\n",
       "   'Average': 'None',\n",
       "   'Strike Rate': 'None',\n",
       "   'Extras': 0,\n",
       "   'Fours': 5,\n",
       "   'Sixes': 1}},\n",
       " 'NL McCullum': {467885: {'Match_date': '4-12-2010',\n",
       "   'Venue': 'Vadodara',\n",
       "   'Country': 'India',\n",
       "   'Match_between': 'India vs New Zealand',\n",
       "   'Runs given': 36,\n",
       "   'Wickets': 0,\n",
       "   'Balls': 48,\n",
       "   'Dissmisals': {},\n",
       "   'Average': 'None',\n",
       "   'Strike Rate': 'None',\n",
       "   'Extras': 0,\n",
       "   'Fours': 3,\n",
       "   'Sixes': 0},\n",
       "  456665: {'Match_date': '25-8-2010',\n",
       "   'Venue': 'Rangiri Dambulla International Stadium',\n",
       "   'Country': 'None',\n",
       "   'Match_between': 'India vs New Zealand',\n",
       "   'Runs given': 34,\n",
       "   'Wickets': 3,\n",
       "   'Balls': 61,\n",
       "   'Dissmisals': {'V Sehwag': 'caught',\n",
       "    'MS Dhoni': 'caught',\n",
       "    'A Nehra': 'caught and bowled'},\n",
       "   'Average': 11.333333333333334,\n",
       "   'Strike Rate': 20.333333333333332,\n",
       "   'Extras': 2,\n",
       "   'Fours': 1,\n",
       "   'Sixes': 1},\n",
       "  467884: {'Match_date': '1-12-2010',\n",
       "   'Venue': 'Jaipur',\n",
       "   'Country': 'India',\n",
       "   'Match_between': 'India vs New Zealand',\n",
       "   'Runs given': 36,\n",
       "   'Wickets': 0,\n",
       "   'Balls': 55,\n",
       "   'Dissmisals': {},\n",
       "   'Average': 'None',\n",
       "   'Strike Rate': 'None',\n",
       "   'Extras': 1,\n",
       "   'Fours': 1,\n",
       "   'Sixes': 1},\n",
       "  667643: {'Match_date': '22-1-2014',\n",
       "   'Venue': 'Hamilton',\n",
       "   'Country': 'Canada',\n",
       "   'Match_between': 'New Zealand vs India',\n",
       "   'Runs given': 37,\n",
       "   'Wickets': 0,\n",
       "   'Balls': 51,\n",
       "   'Dissmisals': {},\n",
       "   'Average': 'None',\n",
       "   'Strike Rate': 'None',\n",
       "   'Extras': 3,\n",
       "   'Fours': 3,\n",
       "   'Sixes': 0},\n",
       "  467886: {'Match_date': '7-12-2010',\n",
       "   'Venue': 'Bangalore',\n",
       "   'Country': 'India',\n",
       "   'Match_between': 'India vs New Zealand',\n",
       "   'Runs given': 38,\n",
       "   'Wickets': 2,\n",
       "   'Balls': 47,\n",
       "   'Dissmisals': {'Yuvraj Singh': 'caught', 'PA Patel': 'caught'},\n",
       "   'Average': 19.0,\n",
       "   'Strike Rate': 23.5,\n",
       "   'Extras': 0,\n",
       "   'Fours': 1,\n",
       "   'Sixes': 2},\n",
       "  667641: {'Match_date': '19-1-2014',\n",
       "   'Venue': 'Napier',\n",
       "   'Country': 'New Zealand',\n",
       "   'Match_between': 'New Zealand vs India',\n",
       "   'Runs given': 53,\n",
       "   'Wickets': 0,\n",
       "   'Balls': 61,\n",
       "   'Dissmisals': {'B Kumar': 'run out'},\n",
       "   'Average': 19.0,\n",
       "   'Strike Rate': 23.5,\n",
       "   'Extras': 1,\n",
       "   'Fours': 1,\n",
       "   'Sixes': 3},\n",
       "  467883: {'Match_date': '28-11-2010',\n",
       "   'Venue': 'Guwahati',\n",
       "   'Country': 'India',\n",
       "   'Match_between': 'India vs New Zealand',\n",
       "   'Runs given': 52,\n",
       "   'Wickets': 0,\n",
       "   'Balls': 55,\n",
       "   'Dissmisals': {},\n",
       "   'Average': 'None',\n",
       "   'Strike Rate': 'None',\n",
       "   'Extras': 1,\n",
       "   'Fours': 7,\n",
       "   'Sixes': 0},\n",
       "  467887: {'Match_date': '10-12-2010',\n",
       "   'Venue': 'Chennai',\n",
       "   'Country': 'India',\n",
       "   'Match_between': 'India vs New Zealand',\n",
       "   'Runs given': 26,\n",
       "   'Wickets': 1,\n",
       "   'Balls': 36,\n",
       "   'Dissmisals': {'G Gambhir': 'caught'},\n",
       "   'Average': 26.0,\n",
       "   'Strike Rate': 36.0,\n",
       "   'Extras': 0,\n",
       "   'Fours': 3,\n",
       "   'Sixes': 1},\n",
       "  667645: {'Match_date': '25-1-2014',\n",
       "   'Venue': 'Auckland',\n",
       "   'Country': 'New Zealand',\n",
       "   'Match_between': 'New Zealand vs India',\n",
       "   'Runs given': 39,\n",
       "   'Wickets': 1,\n",
       "   'Balls': 48,\n",
       "   'Dissmisals': {'R Ashwin': 'caught'},\n",
       "   'Average': 39.0,\n",
       "   'Strike Rate': 48.0,\n",
       "   'Extras': 1,\n",
       "   'Fours': 1,\n",
       "   'Sixes': 1},\n",
       "  667647: {'Match_date': '28-1-2014',\n",
       "   'Venue': 'Hamilton',\n",
       "   'Country': 'Canada',\n",
       "   'Match_between': 'New Zealand vs India',\n",
       "   'Runs given': 44,\n",
       "   'Wickets': 0,\n",
       "   'Balls': 60,\n",
       "   'Dissmisals': {},\n",
       "   'Average': 'None',\n",
       "   'Strike Rate': 'None',\n",
       "   'Extras': 0,\n",
       "   'Fours': 2,\n",
       "   'Sixes': 2},\n",
       "  667649: {'Match_date': '31-1-2014',\n",
       "   'Venue': 'Wellington',\n",
       "   'Country': 'New Zealand',\n",
       "   'Match_between': 'New Zealand vs India',\n",
       "   'Runs given': 33,\n",
       "   'Wickets': 1,\n",
       "   'Balls': 60,\n",
       "   'Dissmisals': {'V Kohli': 'caught'},\n",
       "   'Average': 33.0,\n",
       "   'Strike Rate': 60.0,\n",
       "   'Extras': 0,\n",
       "   'Fours': 2,\n",
       "   'Sixes': 0}},\n",
       " 'TG Southee': {456665: {'Match_date': '25-8-2010',\n",
       "   'Venue': 'Rangiri Dambulla International Stadium',\n",
       "   'Country': 'None',\n",
       "   'Match_between': 'India vs New Zealand',\n",
       "   'Runs given': 46,\n",
       "   'Wickets': 4,\n",
       "   'Balls': 62,\n",
       "   'Dissmisals': {'V Kohli': 'caught',\n",
       "    'SK Raina': 'caught',\n",
       "    'RA Jadeja': 'caught',\n",
       "    'P Kumar': 'caught'},\n",
       "   'Average': 11.5,\n",
       "   'Strike Rate': 15.5,\n",
       "   'Extras': 3,\n",
       "   'Fours': 7,\n",
       "   'Sixes': 0},\n",
       "  467884: {'Match_date': '1-12-2010',\n",
       "   'Venue': 'Jaipur',\n",
       "   'Country': 'India',\n",
       "   'Match_between': 'India vs New Zealand',\n",
       "   'Runs given': 29,\n",
       "   'Wickets': 0,\n",
       "   'Balls': 32,\n",
       "   'Dissmisals': {},\n",
       "   'Average': 'None',\n",
       "   'Strike Rate': 'None',\n",
       "   'Extras': 4,\n",
       "   'Fours': 4,\n",
       "   'Sixes': 0},\n",
       "  1187682: {'Match_date': '5-2-2020',\n",
       "   'Venue': 'Hamilton',\n",
       "   'Country': 'Canada',\n",
       "   'Match_between': 'New Zealand vs India',\n",
       "   'Runs given': 84,\n",
       "   'Wickets': 2,\n",
       "   'Balls': 61,\n",
       "   'Dissmisals': {'MA Agarwal': 'caught', 'SS Iyer': 'caught'},\n",
       "   'Average': 42.0,\n",
       "   'Strike Rate': 30.5,\n",
       "   'Extras': 1,\n",
       "   'Fours': 13,\n",
       "   'Sixes': 3},\n",
       "  667643: {'Match_date': '22-1-2014',\n",
       "   'Venue': 'Hamilton',\n",
       "   'Country': 'Canada',\n",
       "   'Match_between': 'New Zealand vs India',\n",
       "   'Runs given': 71,\n",
       "   'Wickets': 4,\n",
       "   'Balls': 55,\n",
       "   'Dissmisals': {'S Dhawan': 'bowled',\n",
       "    'RG Sharma': 'caught',\n",
       "    'V Kohli': 'caught',\n",
       "    'R Ashwin': 'caught'},\n",
       "   'Average': 17.75,\n",
       "   'Strike Rate': 13.75,\n",
       "   'Extras': 3,\n",
       "   'Fours': 9,\n",
       "   'Sixes': 2},\n",
       "  1120090: {'Match_date': '22-10-2017',\n",
       "   'Venue': 'Mumbai',\n",
       "   'Country': 'India',\n",
       "   'Match_between': 'India vs New Zealand',\n",
       "   'Runs given': 73,\n",
       "   'Wickets': 3,\n",
       "   'Balls': 60,\n",
       "   'Dissmisals': {'KD Karthik': 'caught',\n",
       "    'V Kohli': 'caught',\n",
       "    'B Kumar': 'caught'},\n",
       "   'Average': 24.333333333333332,\n",
       "   'Strike Rate': 20.0,\n",
       "   'Extras': 0,\n",
       "   'Fours': 5,\n",
       "   'Sixes': 4},\n",
       "  1153691: {'Match_date': '23-1-2019',\n",
       "   'Venue': 'Napier',\n",
       "   'Country': 'New Zealand',\n",
       "   'Match_between': 'New Zealand vs India',\n",
       "   'Runs given': 36,\n",
       "   'Wickets': 0,\n",
       "   'Balls': 41,\n",
       "   'Dissmisals': {},\n",
       "   'Average': 'None',\n",
       "   'Strike Rate': 'None',\n",
       "   'Extras': 0,\n",
       "   'Fours': 5,\n",
       "   'Sixes': 0},\n",
       "  366627: {'Match_date': '8-3-2009',\n",
       "   'Venue': 'Christchurch',\n",
       "   'Country': 'New Zealand',\n",
       "   'Match_between': 'New Zealand vs India',\n",
       "   'Runs given': 103,\n",
       "   'Wickets': 0,\n",
       "   'Balls': 62,\n",
       "   'Dissmisals': {},\n",
       "   'Average': 'None',\n",
       "   'Strike Rate': 'None',\n",
       "   'Extras': 3,\n",
       "   'Fours': 10,\n",
       "   'Sixes': 6},\n",
       "  467886: {'Match_date': '7-12-2010',\n",
       "   'Venue': 'Bangalore',\n",
       "   'Country': 'India',\n",
       "   'Match_between': 'India vs New Zealand',\n",
       "   'Runs given': 63,\n",
       "   'Wickets': 1,\n",
       "   'Balls': 61,\n",
       "   'Dissmisals': {'RG Sharma': 'caught'},\n",
       "   'Average': 63.0,\n",
       "   'Strike Rate': 61.0,\n",
       "   'Extras': 1,\n",
       "   'Fours': 6,\n",
       "   'Sixes': 1},\n",
       "  1187684: {'Match_date': '11-2-2020',\n",
       "   'Venue': 'Mount Maunganui',\n",
       "   'Country': 'New Zealand',\n",
       "   'Match_between': 'New Zealand vs India',\n",
       "   'Runs given': 56,\n",
       "   'Wickets': 0,\n",
       "   'Balls': 57,\n",
       "   'Dissmisals': {},\n",
       "   'Average': 'None',\n",
       "   'Strike Rate': 'None',\n",
       "   'Extras': 4,\n",
       "   'Fours': 5,\n",
       "   'Sixes': 1},\n",
       "  1120091: {'Match_date': '25-10-2017',\n",
       "   'Venue': 'Pune',\n",
       "   'Country': 'India',\n",
       "   'Match_between': 'New Zealand vs India',\n",
       "   'Runs given': 60,\n",
       "   'Wickets': 1,\n",
       "   'Balls': 54,\n",
       "   'Dissmisals': {'RG Sharma': 'caught'},\n",
       "   'Average': 60.0,\n",
       "   'Strike Rate': 54.0,\n",
       "   'Extras': 1,\n",
       "   'Fours': 7,\n",
       "   'Sixes': 2},\n",
       "  667641: {'Match_date': '19-1-2014',\n",
       "   'Venue': 'Napier',\n",
       "   'Country': 'New Zealand',\n",
       "   'Match_between': 'New Zealand vs India',\n",
       "   'Runs given': 41,\n",
       "   'Wickets': 1,\n",
       "   'Balls': 60,\n",
       "   'Dissmisals': {'I Sharma': 'bowled'},\n",
       "   'Average': 41.0,\n",
       "   'Strike Rate': 60.0,\n",
       "   'Extras': 4,\n",
       "   'Fours': 5,\n",
       "   'Sixes': 0},\n",
       "  1030221: {'Match_date': '20-10-2016',\n",
       "   'Venue': 'Delhi',\n",
       "   'Country': 'India',\n",
       "   'Match_between': 'India vs New Zealand',\n",
       "   'Runs given': 51,\n",
       "   'Wickets': 3,\n",
       "   'Balls': 58,\n",
       "   'Dissmisals': {'AM Rahane': 'caught',\n",
       "    'MS Dhoni': 'caught and bowled',\n",
       "    'JJ Bumrah': 'bowled'},\n",
       "   'Average': 17.0,\n",
       "   'Strike Rate': 19.333333333333332,\n",
       "   'Extras': 1,\n",
       "   'Fours': 4,\n",
       "   'Sixes': 0},\n",
       "  1030227: {'Match_date': '29-10-2016',\n",
       "   'Venue': 'Visakhapatnam',\n",
       "   'Country': 'India',\n",
       "   'Match_between': 'India vs New Zealand',\n",
       "   'Runs given': 55,\n",
       "   'Wickets': 0,\n",
       "   'Balls': 61,\n",
       "   'Dissmisals': {},\n",
       "   'Average': 'None',\n",
       "   'Strike Rate': 'None',\n",
       "   'Extras': 1,\n",
       "   'Fours': 4,\n",
       "   'Sixes': 1},\n",
       "  667645: {'Match_date': '25-1-2014',\n",
       "   'Venue': 'Auckland',\n",
       "   'Country': 'New Zealand',\n",
       "   'Match_between': 'New Zealand vs India',\n",
       "   'Runs given': 70,\n",
       "   'Wickets': 1,\n",
       "   'Balls': 64,\n",
       "   'Dissmisals': {'SK Raina': 'caught'},\n",
       "   'Average': 70.0,\n",
       "   'Strike Rate': 64.0,\n",
       "   'Extras': 5,\n",
       "   'Fours': 8,\n",
       "   'Sixes': 2},\n",
       "  1030223: {'Match_date': '23-10-2016',\n",
       "   'Venue': 'Chandigarh',\n",
       "   'Country': 'India',\n",
       "   'Match_between': 'India vs New Zealand',\n",
       "   'Runs given': 53,\n",
       "   'Wickets': 1,\n",
       "   'Balls': 62,\n",
       "   'Dissmisals': {'RG Sharma': 'lbw'},\n",
       "   'Average': 53.0,\n",
       "   'Strike Rate': 62.0,\n",
       "   'Extras': 3,\n",
       "   'Fours': 4,\n",
       "   'Sixes': 0},\n",
       "  667647: {'Match_date': '28-1-2014',\n",
       "   'Venue': 'Hamilton',\n",
       "   'Country': 'Canada',\n",
       "   'Match_between': 'New Zealand vs India',\n",
       "   'Runs given': 34,\n",
       "   'Wickets': 2,\n",
       "   'Balls': 62,\n",
       "   'Dissmisals': {'V Kohli': 'caught', 'R Ashwin': 'caught'},\n",
       "   'Average': 17.0,\n",
       "   'Strike Rate': 31.0,\n",
       "   'Extras': 2,\n",
       "   'Fours': 3,\n",
       "   'Sixes': 1},\n",
       "  1030225: {'Match_date': '26-10-2016',\n",
       "   'Venue': 'Ranchi',\n",
       "   'Country': 'India',\n",
       "   'Match_between': 'India vs New Zealand',\n",
       "   'Runs given': 40,\n",
       "   'Wickets': 3,\n",
       "   'Balls': 54,\n",
       "   'Dissmisals': {'RG Sharma': 'caught',\n",
       "    'MK Pandey': 'caught',\n",
       "    'KM Jadhav': 'lbw'},\n",
       "   'Average': 13.333333333333334,\n",
       "   'Strike Rate': 18.0,\n",
       "   'Extras': 2,\n",
       "   'Fours': 5,\n",
       "   'Sixes': 0},\n",
       "  1120092: {'Match_date': '29-10-2017',\n",
       "   'Venue': 'Kanpur',\n",
       "   'Country': 'India',\n",
       "   'Match_between': 'India vs New Zealand',\n",
       "   'Runs given': 65,\n",
       "   'Wickets': 2,\n",
       "   'Balls': 61,\n",
       "   'Dissmisals': {'S Dhawan': 'caught', 'V Kohli': 'caught'},\n",
       "   'Average': 32.5,\n",
       "   'Strike Rate': 30.5,\n",
       "   'Extras': 2,\n",
       "   'Fours': 8,\n",
       "   'Sixes': 1},\n",
       "  1030219: {'Match_date': '16-10-2016',\n",
       "   'Venue': 'Dharmasala',\n",
       "   'Country': 'India',\n",
       "   'Match_between': 'India vs New Zealand',\n",
       "   'Runs given': 55,\n",
       "   'Wickets': 0,\n",
       "   'Balls': 56,\n",
       "   'Dissmisals': {},\n",
       "   'Average': 'None',\n",
       "   'Strike Rate': 'None',\n",
       "   'Extras': 2,\n",
       "   'Fours': 6,\n",
       "   'Sixes': 1},\n",
       "  1187683: {'Match_date': '8-2-2020',\n",
       "   'Venue': 'Auckland',\n",
       "   'Country': 'New Zealand',\n",
       "   'Match_between': 'New Zealand vs India',\n",
       "   'Runs given': 40,\n",
       "   'Wickets': 2,\n",
       "   'Balls': 61,\n",
       "   'Dissmisals': {'V Kohli': 'bowled', 'KM Jadhav': 'caught'},\n",
       "   'Average': 20.0,\n",
       "   'Strike Rate': 30.5,\n",
       "   'Extras': 1,\n",
       "   'Fours': 6,\n",
       "   'Sixes': 0}},\n",
       " 'KS Williamson': {456665: {'Match_date': '25-8-2010',\n",
       "   'Venue': 'Rangiri Dambulla International Stadium',\n",
       "   'Country': 'None',\n",
       "   'Match_between': 'India vs New Zealand',\n",
       "   'Runs given': 20,\n",
       "   'Wickets': 0,\n",
       "   'Balls': 27,\n",
       "   'Dissmisals': {},\n",
       "   'Average': 'None',\n",
       "   'Strike Rate': 'None',\n",
       "   'Extras': 3,\n",
       "   'Fours': 3,\n",
       "   'Sixes': 0},\n",
       "  467884: {'Match_date': '1-12-2010',\n",
       "   'Venue': 'Jaipur',\n",
       "   'Country': 'India',\n",
       "   'Match_between': 'India vs New Zealand',\n",
       "   'Runs given': 29,\n",
       "   'Wickets': 0,\n",
       "   'Balls': 24,\n",
       "   'Dissmisals': {},\n",
       "   'Average': 'None',\n",
       "   'Strike Rate': 'None',\n",
       "   'Extras': 0,\n",
       "   'Fours': 4,\n",
       "   'Sixes': 0},\n",
       "  667641: {'Match_date': '19-1-2014',\n",
       "   'Venue': 'Napier',\n",
       "   'Country': 'New Zealand',\n",
       "   'Match_between': 'New Zealand vs India',\n",
       "   'Runs given': 8,\n",
       "   'Wickets': 1,\n",
       "   'Balls': 10,\n",
       "   'Dissmisals': {'R Ashwin': 'caught'},\n",
       "   'Average': 8.0,\n",
       "   'Strike Rate': 10.0,\n",
       "   'Extras': 1,\n",
       "   'Fours': 0,\n",
       "   'Sixes': 0},\n",
       "  467883: {'Match_date': '28-11-2010',\n",
       "   'Venue': 'Guwahati',\n",
       "   'Country': 'India',\n",
       "   'Match_between': 'India vs New Zealand',\n",
       "   'Runs given': 11,\n",
       "   'Wickets': 0,\n",
       "   'Balls': 6,\n",
       "   'Dissmisals': {},\n",
       "   'Average': 'None',\n",
       "   'Strike Rate': 'None',\n",
       "   'Extras': 0,\n",
       "   'Fours': 2,\n",
       "   'Sixes': 0},\n",
       "  456662: {'Match_date': '10-8-2010',\n",
       "   'Venue': 'Rangiri Dambulla International Stadium',\n",
       "   'Country': 'None',\n",
       "   'Match_between': 'India vs New Zealand',\n",
       "   'Runs given': 2,\n",
       "   'Wickets': 1,\n",
       "   'Balls': 18,\n",
       "   'Dissmisals': {'RA Jadeja': 'caught'},\n",
       "   'Average': 2.0,\n",
       "   'Strike Rate': 18.0,\n",
       "   'Extras': 0,\n",
       "   'Fours': 0,\n",
       "   'Sixes': 0},\n",
       "  667645: {'Match_date': '25-1-2014',\n",
       "   'Venue': 'Auckland',\n",
       "   'Country': 'New Zealand',\n",
       "   'Match_between': 'New Zealand vs India',\n",
       "   'Runs given': 17,\n",
       "   'Wickets': 0,\n",
       "   'Balls': 12,\n",
       "   'Dissmisals': {},\n",
       "   'Average': 'None',\n",
       "   'Strike Rate': 'None',\n",
       "   'Extras': 0,\n",
       "   'Fours': 1,\n",
       "   'Sixes': 1},\n",
       "  667647: {'Match_date': '28-1-2014',\n",
       "   'Venue': 'Hamilton',\n",
       "   'Country': 'Canada',\n",
       "   'Match_between': 'New Zealand vs India',\n",
       "   'Runs given': 26,\n",
       "   'Wickets': 1,\n",
       "   'Balls': 18,\n",
       "   'Dissmisals': {'RG Sharma': 'caught'},\n",
       "   'Average': 26.0,\n",
       "   'Strike Rate': 18.0,\n",
       "   'Extras': 0,\n",
       "   'Fours': 2,\n",
       "   'Sixes': 2},\n",
       "  667649: {'Match_date': '31-1-2014',\n",
       "   'Venue': 'Wellington',\n",
       "   'Country': 'New Zealand',\n",
       "   'Match_between': 'New Zealand vs India',\n",
       "   'Runs given': 18,\n",
       "   'Wickets': 2,\n",
       "   'Balls': 25,\n",
       "   'Dissmisals': {'R Ashwin': 'bowled', 'MS Dhoni': 'caught'},\n",
       "   'Average': 9.0,\n",
       "   'Strike Rate': 12.5,\n",
       "   'Extras': 1,\n",
       "   'Fours': 1,\n",
       "   'Sixes': 0}},\n",
       " 'IG Butler': {403382: {'Match_date': '11-9-2009',\n",
       "   'Venue': 'Colombo',\n",
       "   'Country': 'Sri Lanka',\n",
       "   'Match_between': 'India vs New Zealand',\n",
       "   'Runs given': 25,\n",
       "   'Wickets': 0,\n",
       "   'Balls': 24,\n",
       "   'Dissmisals': {},\n",
       "   'Average': 'None',\n",
       "   'Strike Rate': 'None',\n",
       "   'Extras': 0,\n",
       "   'Fours': 5,\n",
       "   'Sixes': 0},\n",
       "  366627: {'Match_date': '8-3-2009',\n",
       "   'Venue': 'Christchurch',\n",
       "   'Country': 'New Zealand',\n",
       "   'Match_between': 'New Zealand vs India',\n",
       "   'Runs given': 35,\n",
       "   'Wickets': 1,\n",
       "   'Balls': 32,\n",
       "   'Dissmisals': {'G Gambhir': 'caught'},\n",
       "   'Average': 35.0,\n",
       "   'Strike Rate': 32.0,\n",
       "   'Extras': 3,\n",
       "   'Fours': 5,\n",
       "   'Sixes': 1},\n",
       "  366626: {'Match_date': '6-3-2009',\n",
       "   'Venue': 'Wellington',\n",
       "   'Country': 'New Zealand',\n",
       "   'Match_between': 'New Zealand vs India',\n",
       "   'Runs given': 37,\n",
       "   'Wickets': 1,\n",
       "   'Balls': 43,\n",
       "   'Dissmisals': {'V Sehwag': 'caught'},\n",
       "   'Average': 37.0,\n",
       "   'Strike Rate': 43.0,\n",
       "   'Extras': 1,\n",
       "   'Fours': 2,\n",
       "   'Sixes': 1},\n",
       "  366623: {'Match_date': '3-3-2009',\n",
       "   'Venue': 'Napier',\n",
       "   'Country': 'New Zealand',\n",
       "   'Match_between': 'New Zealand vs India',\n",
       "   'Runs given': 42,\n",
       "   'Wickets': 1,\n",
       "   'Balls': 48,\n",
       "   'Dissmisals': {'SR Tendulkar': 'caught'},\n",
       "   'Average': 42.0,\n",
       "   'Strike Rate': 48.0,\n",
       "   'Extras': 1,\n",
       "   'Fours': 4,\n",
       "   'Sixes': 0}},\n",
       " 'MJ Guptill': {403382: {'Match_date': '11-9-2009',\n",
       "   'Venue': 'Colombo',\n",
       "   'Country': 'Sri Lanka',\n",
       "   'Match_between': 'India vs New Zealand',\n",
       "   'Runs given': 12,\n",
       "   'Wickets': 0,\n",
       "   'Balls': 12,\n",
       "   'Dissmisals': {},\n",
       "   'Average': 'None',\n",
       "   'Strike Rate': 'None',\n",
       "   'Extras': 0,\n",
       "   'Fours': 0,\n",
       "   'Sixes': 1},\n",
       "  1030221: {'Match_date': '20-10-2016',\n",
       "   'Venue': 'Delhi',\n",
       "   'Country': 'India',\n",
       "   'Match_between': 'India vs New Zealand',\n",
       "   'Runs given': 2,\n",
       "   'Wickets': 2,\n",
       "   'Balls': 10,\n",
       "   'Dissmisals': {'AR Patel': 'caught', 'A Mishra': 'caught'},\n",
       "   'Average': 1.0,\n",
       "   'Strike Rate': 5.0,\n",
       "   'Extras': 4,\n",
       "   'Fours': 0,\n",
       "   'Sixes': 0}},\n",
       " 'HK Bennett': {1187682: {'Match_date': '5-2-2020',\n",
       "   'Venue': 'Hamilton',\n",
       "   'Country': 'Canada',\n",
       "   'Match_between': 'New Zealand vs India',\n",
       "   'Runs given': 71,\n",
       "   'Wickets': 0,\n",
       "   'Balls': 66,\n",
       "   'Dissmisals': {},\n",
       "   'Average': 'None',\n",
       "   'Strike Rate': 'None',\n",
       "   'Extras': 7,\n",
       "   'Fours': 8,\n",
       "   'Sixes': 1},\n",
       "  1187684: {'Match_date': '11-2-2020',\n",
       "   'Venue': 'Mount Maunganui',\n",
       "   'Country': 'New Zealand',\n",
       "   'Match_between': 'New Zealand vs India',\n",
       "   'Runs given': 63,\n",
       "   'Wickets': 4,\n",
       "   'Balls': 61,\n",
       "   'Dissmisals': {'V Kohli': 'caught',\n",
       "    'PP Shaw': 'run out',\n",
       "    'KL Rahul': 'caught',\n",
       "    'MK Pandey': 'caught',\n",
       "    'SN Thakur': 'caught'},\n",
       "   'Average': 15.75,\n",
       "   'Strike Rate': 15.25,\n",
       "   'Extras': 1,\n",
       "   'Fours': 5,\n",
       "   'Sixes': 3},\n",
       "  667645: {'Match_date': '25-1-2014',\n",
       "   'Venue': 'Auckland',\n",
       "   'Country': 'New Zealand',\n",
       "   'Match_between': 'New Zealand vs India',\n",
       "   'Runs given': 39,\n",
       "   'Wickets': 2,\n",
       "   'Balls': 62,\n",
       "   'Dissmisals': {'V Kohli': 'caught', 'B Kumar': 'caught'},\n",
       "   'Average': 19.5,\n",
       "   'Strike Rate': 31.0,\n",
       "   'Extras': 3,\n",
       "   'Fours': 5,\n",
       "   'Sixes': 1},\n",
       "  667647: {'Match_date': '28-1-2014',\n",
       "   'Venue': 'Hamilton',\n",
       "   'Country': 'Canada',\n",
       "   'Match_between': 'New Zealand vs India',\n",
       "   'Runs given': 63,\n",
       "   'Wickets': 1,\n",
       "   'Balls': 57,\n",
       "   'Dissmisals': {'AT Rayudu': 'caught'},\n",
       "   'Average': 63.0,\n",
       "   'Strike Rate': 57.0,\n",
       "   'Extras': 5,\n",
       "   'Fours': 9,\n",
       "   'Sixes': 2},\n",
       "  1187683: {'Match_date': '8-2-2020',\n",
       "   'Venue': 'Auckland',\n",
       "   'Country': 'New Zealand',\n",
       "   'Match_between': 'New Zealand vs India',\n",
       "   'Runs given': 55,\n",
       "   'Wickets': 2,\n",
       "   'Balls': 57,\n",
       "   'Dissmisals': {'MA Agarwal': 'caught',\n",
       "    'SS Iyer': 'caught',\n",
       "    'YS Chahal': 'run out'},\n",
       "   'Average': 27.5,\n",
       "   'Strike Rate': 28.5,\n",
       "   'Extras': 3,\n",
       "   'Fours': 5,\n",
       "   'Sixes': 1}},\n",
       " 'IS Sodhi': {1187682: {'Match_date': '5-2-2020',\n",
       "   'Venue': 'Hamilton',\n",
       "   'Country': 'Canada',\n",
       "   'Match_between': 'New Zealand vs India',\n",
       "   'Runs given': 27,\n",
       "   'Wickets': 1,\n",
       "   'Balls': 24,\n",
       "   'Dissmisals': {'V Kohli': 'bowled'},\n",
       "   'Average': 27.0,\n",
       "   'Strike Rate': 24.0,\n",
       "   'Extras': 0,\n",
       "   'Fours': 0,\n",
       "   'Sixes': 2},\n",
       "  1030227: {'Match_date': '29-10-2016',\n",
       "   'Venue': 'Visakhapatnam',\n",
       "   'Country': 'India',\n",
       "   'Match_between': 'India vs New Zealand',\n",
       "   'Runs given': 66,\n",
       "   'Wickets': 2,\n",
       "   'Balls': 60,\n",
       "   'Dissmisals': {'MK Pandey': 'caught', 'V Kohli': 'caught'},\n",
       "   'Average': 33.0,\n",
       "   'Strike Rate': 30.0,\n",
       "   'Extras': 0,\n",
       "   'Fours': 4,\n",
       "   'Sixes': 4},\n",
       "  1153693: {'Match_date': '28-1-2019',\n",
       "   'Venue': 'Mount Maunganui',\n",
       "   'Country': 'New Zealand',\n",
       "   'Match_between': 'New Zealand vs India',\n",
       "   'Runs given': 47,\n",
       "   'Wickets': 0,\n",
       "   'Balls': 44,\n",
       "   'Dissmisals': {},\n",
       "   'Average': 'None',\n",
       "   'Strike Rate': 'None',\n",
       "   'Extras': 6,\n",
       "   'Fours': 4,\n",
       "   'Sixes': 1},\n",
       "  1030225: {'Match_date': '26-10-2016',\n",
       "   'Venue': 'Ranchi',\n",
       "   'Country': 'India',\n",
       "   'Match_between': 'India vs New Zealand',\n",
       "   'Runs given': 52,\n",
       "   'Wickets': 1,\n",
       "   'Balls': 60,\n",
       "   'Dissmisals': {'V Kohli': 'caught'},\n",
       "   'Average': 52.0,\n",
       "   'Strike Rate': 60.0,\n",
       "   'Extras': 0,\n",
       "   'Fours': 1,\n",
       "   'Sixes': 1},\n",
       "  1153692: {'Match_date': '26-1-2019',\n",
       "   'Venue': 'Mount Maunganui',\n",
       "   'Country': 'New Zealand',\n",
       "   'Match_between': 'New Zealand vs India',\n",
       "   'Runs given': 42,\n",
       "   'Wickets': 0,\n",
       "   'Balls': 61,\n",
       "   'Dissmisals': {},\n",
       "   'Average': 'None',\n",
       "   'Strike Rate': 'None',\n",
       "   'Extras': 1,\n",
       "   'Fours': 0,\n",
       "   'Sixes': 1},\n",
       "  1030219: {'Match_date': '16-10-2016',\n",
       "   'Venue': 'Dharmasala',\n",
       "   'Country': 'India',\n",
       "   'Match_between': 'India vs New Zealand',\n",
       "   'Runs given': 34,\n",
       "   'Wickets': 1,\n",
       "   'Balls': 25,\n",
       "   'Dissmisals': {'MK Pandey': 'caught'},\n",
       "   'Average': 34.0,\n",
       "   'Strike Rate': 25.0,\n",
       "   'Extras': 0,\n",
       "   'Fours': 2,\n",
       "   'Sixes': 1}},\n",
       " 'MJ McClenaghan': {667643: {'Match_date': '22-1-2014',\n",
       "   'Venue': 'Hamilton',\n",
       "   'Country': 'Canada',\n",
       "   'Match_between': 'New Zealand vs India',\n",
       "   'Runs given': 44,\n",
       "   'Wickets': 1,\n",
       "   'Balls': 49,\n",
       "   'Dissmisals': {'AM Rahane': 'caught'},\n",
       "   'Average': 44.0,\n",
       "   'Strike Rate': 49.0,\n",
       "   'Extras': 2,\n",
       "   'Fours': 7,\n",
       "   'Sixes': 0},\n",
       "  667641: {'Match_date': '19-1-2014',\n",
       "   'Venue': 'Napier',\n",
       "   'Country': 'New Zealand',\n",
       "   'Match_between': 'New Zealand vs India',\n",
       "   'Runs given': 64,\n",
       "   'Wickets': 4,\n",
       "   'Balls': 64,\n",
       "   'Dissmisals': {'RG Sharma': 'caught',\n",
       "    'MS Dhoni': 'caught',\n",
       "    'RA Jadeja': 'caught',\n",
       "    'V Kohli': 'caught'},\n",
       "   'Average': 16.0,\n",
       "   'Strike Rate': 16.0,\n",
       "   'Extras': 5,\n",
       "   'Fours': 8,\n",
       "   'Sixes': 1},\n",
       "  667645: {'Match_date': '25-1-2014',\n",
       "   'Venue': 'Auckland',\n",
       "   'Country': 'New Zealand',\n",
       "   'Match_between': 'New Zealand vs India',\n",
       "   'Runs given': 74,\n",
       "   'Wickets': 0,\n",
       "   'Balls': 62,\n",
       "   'Dissmisals': {},\n",
       "   'Average': 'None',\n",
       "   'Strike Rate': 'None',\n",
       "   'Extras': 3,\n",
       "   'Fours': 4,\n",
       "   'Sixes': 5},\n",
       "  667649: {'Match_date': '31-1-2014',\n",
       "   'Venue': 'Wellington',\n",
       "   'Country': 'New Zealand',\n",
       "   'Match_between': 'New Zealand vs India',\n",
       "   'Runs given': 44,\n",
       "   'Wickets': 0,\n",
       "   'Balls': 61,\n",
       "   'Dissmisals': {},\n",
       "   'Average': 'None',\n",
       "   'Strike Rate': 'None',\n",
       "   'Extras': 2,\n",
       "   'Fours': 3,\n",
       "   'Sixes': 1}},\n",
       " 'CJ Anderson': {667643: {'Match_date': '22-1-2014',\n",
       "   'Venue': 'Hamilton',\n",
       "   'Country': 'Canada',\n",
       "   'Match_between': 'New Zealand vs India',\n",
       "   'Runs given': 65,\n",
       "   'Wickets': 3,\n",
       "   'Balls': 47,\n",
       "   'Dissmisals': {'MS Dhoni': 'caught',\n",
       "    'RA Jadeja': 'bowled',\n",
       "    'B Kumar': 'caught'},\n",
       "   'Average': 21.666666666666668,\n",
       "   'Strike Rate': 15.666666666666666,\n",
       "   'Extras': 2,\n",
       "   'Fours': 8,\n",
       "   'Sixes': 1},\n",
       "  667641: {'Match_date': '19-1-2014',\n",
       "   'Venue': 'Napier',\n",
       "   'Country': 'New Zealand',\n",
       "   'Match_between': 'New Zealand vs India',\n",
       "   'Runs given': 50,\n",
       "   'Wickets': 2,\n",
       "   'Balls': 61,\n",
       "   'Dissmisals': {'S Dhawan': 'caught', 'AM Rahane': 'caught'},\n",
       "   'Average': 25.0,\n",
       "   'Strike Rate': 30.5,\n",
       "   'Extras': 1,\n",
       "   'Fours': 2,\n",
       "   'Sixes': 1},\n",
       "  1030227: {'Match_date': '29-10-2016',\n",
       "   'Venue': 'Visakhapatnam',\n",
       "   'Country': 'India',\n",
       "   'Match_between': 'India vs New Zealand',\n",
       "   'Runs given': 27,\n",
       "   'Wickets': 0,\n",
       "   'Balls': 24,\n",
       "   'Dissmisals': {},\n",
       "   'Average': 'None',\n",
       "   'Strike Rate': 'None',\n",
       "   'Extras': 0,\n",
       "   'Fours': 3,\n",
       "   'Sixes': 0},\n",
       "  667645: {'Match_date': '25-1-2014',\n",
       "   'Venue': 'Auckland',\n",
       "   'Country': 'New Zealand',\n",
       "   'Match_between': 'New Zealand vs India',\n",
       "   'Runs given': 57,\n",
       "   'Wickets': 5,\n",
       "   'Balls': 66,\n",
       "   'Dissmisals': {'S Dhawan': 'caught',\n",
       "    'RG Sharma': 'caught',\n",
       "    'AM Rahane': 'caught',\n",
       "    'MS Dhoni': 'caught',\n",
       "    'Mohammed Shami': 'caught'},\n",
       "   'Average': 11.4,\n",
       "   'Strike Rate': 13.2,\n",
       "   'Extras': 6,\n",
       "   'Fours': 6,\n",
       "   'Sixes': 3}},\n",
       " 'AF Milne': {1120090: {'Match_date': '22-10-2017',\n",
       "   'Venue': 'Mumbai',\n",
       "   'Country': 'India',\n",
       "   'Match_between': 'India vs New Zealand',\n",
       "   'Runs given': 59,\n",
       "   'Wickets': 0,\n",
       "   'Balls': 57,\n",
       "   'Dissmisals': {},\n",
       "   'Average': 'None',\n",
       "   'Strike Rate': 'None',\n",
       "   'Extras': 7,\n",
       "   'Fours': 5,\n",
       "   'Sixes': 2},\n",
       "  1120091: {'Match_date': '25-10-2017',\n",
       "   'Venue': 'Pune',\n",
       "   'Country': 'India',\n",
       "   'Match_between': 'New Zealand vs India',\n",
       "   'Runs given': 20,\n",
       "   'Wickets': 1,\n",
       "   'Balls': 49,\n",
       "   'Dissmisals': {'S Dhawan': 'caught'},\n",
       "   'Average': 20.0,\n",
       "   'Strike Rate': 49.0,\n",
       "   'Extras': 2,\n",
       "   'Fours': 1,\n",
       "   'Sixes': 0},\n",
       "  667641: {'Match_date': '19-1-2014',\n",
       "   'Venue': 'Napier',\n",
       "   'Country': 'New Zealand',\n",
       "   'Match_between': 'New Zealand vs India',\n",
       "   'Runs given': 37,\n",
       "   'Wickets': 1,\n",
       "   'Balls': 48,\n",
       "   'Dissmisals': {'SK Raina': 'caught'},\n",
       "   'Average': 37.0,\n",
       "   'Strike Rate': 48.0,\n",
       "   'Extras': 3,\n",
       "   'Fours': 4,\n",
       "   'Sixes': 0},\n",
       "  1120092: {'Match_date': '29-10-2017',\n",
       "   'Venue': 'Kanpur',\n",
       "   'Country': 'India',\n",
       "   'Match_between': 'India vs New Zealand',\n",
       "   'Runs given': 62,\n",
       "   'Wickets': 2,\n",
       "   'Balls': 62,\n",
       "   'Dissmisals': {'MS Dhoni': 'caught', 'KM Jadhav': 'caught'},\n",
       "   'Average': 31.0,\n",
       "   'Strike Rate': 31.0,\n",
       "   'Extras': 2,\n",
       "   'Fours': 5,\n",
       "   'Sixes': 1}},\n",
       " 'LH Ferguson': {1153691: {'Match_date': '23-1-2019',\n",
       "   'Venue': 'Napier',\n",
       "   'Country': 'New Zealand',\n",
       "   'Match_between': 'New Zealand vs India',\n",
       "   'Runs given': 38,\n",
       "   'Wickets': 1,\n",
       "   'Balls': 51,\n",
       "   'Dissmisals': {'V Kohli': 'caught'},\n",
       "   'Average': 38.0,\n",
       "   'Strike Rate': 51.0,\n",
       "   'Extras': 7,\n",
       "   'Fours': 5,\n",
       "   'Sixes': 0},\n",
       "  1153693: {'Match_date': '28-1-2019',\n",
       "   'Venue': 'Mount Maunganui',\n",
       "   'Country': 'New Zealand',\n",
       "   'Match_between': 'New Zealand vs India',\n",
       "   'Runs given': 53,\n",
       "   'Wickets': 0,\n",
       "   'Balls': 64,\n",
       "   'Dissmisals': {},\n",
       "   'Average': 'None',\n",
       "   'Strike Rate': 'None',\n",
       "   'Extras': 4,\n",
       "   'Fours': 5,\n",
       "   'Sixes': 2},\n",
       "  1153692: {'Match_date': '26-1-2019',\n",
       "   'Venue': 'Mount Maunganui',\n",
       "   'Country': 'New Zealand',\n",
       "   'Match_between': 'New Zealand vs India',\n",
       "   'Runs given': 80,\n",
       "   'Wickets': 2,\n",
       "   'Balls': 61,\n",
       "   'Dissmisals': {'RG Sharma': 'caught', 'AT Rayudu': 'caught and bowled'},\n",
       "   'Average': 40.0,\n",
       "   'Strike Rate': 30.5,\n",
       "   'Extras': 1,\n",
       "   'Fours': 11,\n",
       "   'Sixes': 3},\n",
       "  1144528: {'Match_date': '9-7-2019',\n",
       "   'Venue': 'Manchester',\n",
       "   'Country': 'United Kingdom',\n",
       "   'Match_between': 'India vs New Zealand',\n",
       "   'Runs given': 41,\n",
       "   'Wickets': 1,\n",
       "   'Balls': 62,\n",
       "   'Dissmisals': {'MS Dhoni': 'run out', 'B Kumar': 'bowled'},\n",
       "   'Average': 41.0,\n",
       "   'Strike Rate': 62.0,\n",
       "   'Extras': 2,\n",
       "   'Fours': 1,\n",
       "   'Sixes': 2}},\n",
       " 'DAJ Bracewell': {1153691: {'Match_date': '23-1-2019',\n",
       "   'Venue': 'Napier',\n",
       "   'Country': 'New Zealand',\n",
       "   'Match_between': 'New Zealand vs India',\n",
       "   'Runs given': 21,\n",
       "   'Wickets': 1,\n",
       "   'Balls': 44,\n",
       "   'Dissmisals': {'RG Sharma': 'caught'},\n",
       "   'Average': 21.0,\n",
       "   'Strike Rate': 44.0,\n",
       "   'Extras': 2,\n",
       "   'Fours': 0,\n",
       "   'Sixes': 0},\n",
       "  1153693: {'Match_date': '28-1-2019',\n",
       "   'Venue': 'Mount Maunganui',\n",
       "   'Country': 'New Zealand',\n",
       "   'Match_between': 'New Zealand vs India',\n",
       "   'Runs given': 43,\n",
       "   'Wickets': 0,\n",
       "   'Balls': 38,\n",
       "   'Dissmisals': {},\n",
       "   'Average': 'None',\n",
       "   'Strike Rate': 'None',\n",
       "   'Extras': 7,\n",
       "   'Fours': 7,\n",
       "   'Sixes': 1},\n",
       "  1153692: {'Match_date': '26-1-2019',\n",
       "   'Venue': 'Mount Maunganui',\n",
       "   'Country': 'New Zealand',\n",
       "   'Match_between': 'New Zealand vs India',\n",
       "   'Runs given': 58,\n",
       "   'Wickets': 0,\n",
       "   'Balls': 61,\n",
       "   'Dissmisals': {},\n",
       "   'Average': 'None',\n",
       "   'Strike Rate': 'None',\n",
       "   'Extras': 2,\n",
       "   'Fours': 8,\n",
       "   'Sixes': 0},\n",
       "  1030219: {'Match_date': '16-10-2016',\n",
       "   'Venue': 'Dharmasala',\n",
       "   'Country': 'India',\n",
       "   'Match_between': 'India vs New Zealand',\n",
       "   'Runs given': 43,\n",
       "   'Wickets': 1,\n",
       "   'Balls': 49,\n",
       "   'Dissmisals': {'RG Sharma': 'lbw'},\n",
       "   'Average': 43.0,\n",
       "   'Strike Rate': 49.0,\n",
       "   'Extras': 1,\n",
       "   'Fours': 5,\n",
       "   'Sixes': 2}},\n",
       " 'JS Patel': {366627: {'Match_date': '8-3-2009',\n",
       "   'Venue': 'Christchurch',\n",
       "   'Country': 'New Zealand',\n",
       "   'Match_between': 'New Zealand vs India',\n",
       "   'Runs given': 37,\n",
       "   'Wickets': 0,\n",
       "   'Balls': 30,\n",
       "   'Dissmisals': {},\n",
       "   'Average': 'None',\n",
       "   'Strike Rate': 'None',\n",
       "   'Extras': 1,\n",
       "   'Fours': 3,\n",
       "   'Sixes': 2}},\n",
       " 'JD Ryder': {366627: {'Match_date': '8-3-2009',\n",
       "   'Venue': 'Christchurch',\n",
       "   'Country': 'New Zealand',\n",
       "   'Match_between': 'New Zealand vs India',\n",
       "   'Runs given': 55,\n",
       "   'Wickets': 1,\n",
       "   'Balls': 31,\n",
       "   'Dissmisals': {'SR Tendulkar': 'retired hurt'},\n",
       "   'Average': 55.0,\n",
       "   'Strike Rate': 31.0,\n",
       "   'Extras': 2,\n",
       "   'Fours': 4,\n",
       "   'Sixes': 4},\n",
       "  366626: {'Match_date': '6-3-2009',\n",
       "   'Venue': 'Wellington',\n",
       "   'Country': 'New Zealand',\n",
       "   'Match_between': 'New Zealand vs India',\n",
       "   'Runs given': 14,\n",
       "   'Wickets': 0,\n",
       "   'Balls': 10,\n",
       "   'Dissmisals': {},\n",
       "   'Average': 'None',\n",
       "   'Strike Rate': 'None',\n",
       "   'Extras': 1,\n",
       "   'Fours': 2,\n",
       "   'Sixes': 0},\n",
       "  366623: {'Match_date': '3-3-2009',\n",
       "   'Venue': 'Napier',\n",
       "   'Country': 'New Zealand',\n",
       "   'Match_between': 'New Zealand vs India',\n",
       "   'Runs given': 27,\n",
       "   'Wickets': 0,\n",
       "   'Balls': 18,\n",
       "   'Dissmisals': {},\n",
       "   'Average': 'None',\n",
       "   'Strike Rate': 'None',\n",
       "   'Extras': 0,\n",
       "   'Fours': 2,\n",
       "   'Sixes': 0},\n",
       "  366625: {'Match_date': '14-3-2009',\n",
       "   'Venue': 'Auckland',\n",
       "   'Country': 'New Zealand',\n",
       "   'Match_between': 'New Zealand vs India',\n",
       "   'Runs given': 28,\n",
       "   'Wickets': 3,\n",
       "   'Balls': 55,\n",
       "   'Dissmisals': {'Yuvraj Singh': 'caught',\n",
       "    'MS Dhoni': 'bowled',\n",
       "    'YK Pathan': 'bowled'},\n",
       "   'Average': 9.333333333333334,\n",
       "   'Strike Rate': 18.333333333333332,\n",
       "   'Extras': 1,\n",
       "   'Fours': 2,\n",
       "   'Sixes': 0}},\n",
       " 'KA Jamieson': {1187684: {'Match_date': '11-2-2020',\n",
       "   'Venue': 'Mount Maunganui',\n",
       "   'Country': 'New Zealand',\n",
       "   'Match_between': 'New Zealand vs India',\n",
       "   'Runs given': 52,\n",
       "   'Wickets': 1,\n",
       "   'Balls': 61,\n",
       "   'Dissmisals': {'MA Agarwal': 'bowled'},\n",
       "   'Average': 52.0,\n",
       "   'Strike Rate': 61.0,\n",
       "   'Extras': 1,\n",
       "   'Fours': 5,\n",
       "   'Sixes': 1},\n",
       "  1187683: {'Match_date': '8-2-2020',\n",
       "   'Venue': 'Auckland',\n",
       "   'Country': 'New Zealand',\n",
       "   'Match_between': 'New Zealand vs India',\n",
       "   'Runs given': 42,\n",
       "   'Wickets': 2,\n",
       "   'Balls': 60,\n",
       "   'Dissmisals': {'PP Shaw': 'bowled', 'NA Saini': 'bowled'},\n",
       "   'Average': 21.0,\n",
       "   'Strike Rate': 30.0,\n",
       "   'Extras': 0,\n",
       "   'Fours': 4,\n",
       "   'Sixes': 1}},\n",
       " 'AP Devcich': {1030221: {'Match_date': '20-10-2016',\n",
       "   'Venue': 'Delhi',\n",
       "   'Country': 'India',\n",
       "   'Match_between': 'India vs New Zealand',\n",
       "   'Runs given': 46,\n",
       "   'Wickets': 0,\n",
       "   'Balls': 56,\n",
       "   'Dissmisals': {'MK Pandey': 'run out'},\n",
       "   'Average': 21.0,\n",
       "   'Strike Rate': 30.0,\n",
       "   'Extras': 3,\n",
       "   'Fours': 1,\n",
       "   'Sixes': 1},\n",
       "  1030225: {'Match_date': '26-10-2016',\n",
       "   'Venue': 'Ranchi',\n",
       "   'Country': 'India',\n",
       "   'Match_between': 'India vs New Zealand',\n",
       "   'Runs given': 19,\n",
       "   'Wickets': 0,\n",
       "   'Balls': 27,\n",
       "   'Dissmisals': {},\n",
       "   'Average': 'None',\n",
       "   'Strike Rate': 'None',\n",
       "   'Extras': 3,\n",
       "   'Fours': 1,\n",
       "   'Sixes': 0}}}"
      ]
     },
     "execution_count": 77,
     "metadata": {},
     "output_type": "execute_result"
    }
   ],
   "source": [
    "all_bowler_figures_vs_team(df,\"New Zealand\",\"India\",None,None)"
   ]
  }
 ],
 "metadata": {
  "kernelspec": {
   "display_name": "Python 3 (ipykernel)",
   "language": "python",
   "name": "python3"
  },
  "language_info": {
   "codemirror_mode": {
    "name": "ipython",
    "version": 3
   },
   "file_extension": ".py",
   "mimetype": "text/x-python",
   "name": "python",
   "nbconvert_exporter": "python",
   "pygments_lexer": "ipython3",
   "version": "3.7.13"
  }
 },
 "nbformat": 4,
 "nbformat_minor": 5
}
